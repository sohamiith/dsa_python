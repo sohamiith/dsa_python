{
 "cells": [
  {
   "cell_type": "raw",
   "id": "1c3e69ac",
   "metadata": {},
   "source": [
    "List:\n",
    "\n",
    "-> It is collection of any type of data."
   ]
  },
  {
   "cell_type": "code",
   "execution_count": 1,
   "id": "2b374e7b",
   "metadata": {},
   "outputs": [
    {
     "name": "stdout",
     "output_type": "stream",
     "text": [
      "[1, 2, 3, 4, 5]\n"
     ]
    }
   ],
   "source": [
    "int_list = [1,2,3,4,5]\n",
    "print(int_list)"
   ]
  },
  {
   "cell_type": "code",
   "execution_count": 2,
   "id": "a7e39c02",
   "metadata": {},
   "outputs": [
    {
     "name": "stdout",
     "output_type": "stream",
     "text": [
      "1\n"
     ]
    }
   ],
   "source": [
    "print(int_list[0])"
   ]
  },
  {
   "cell_type": "code",
   "execution_count": 4,
   "id": "c8a8689a",
   "metadata": {},
   "outputs": [
    {
     "ename": "IndexError",
     "evalue": "list index out of range",
     "output_type": "error",
     "traceback": [
      "\u001b[0;31m---------------------------------------------------------------------------\u001b[0m",
      "\u001b[0;31mIndexError\u001b[0m                                Traceback (most recent call last)",
      "Input \u001b[0;32mIn [4]\u001b[0m, in \u001b[0;36m<cell line: 1>\u001b[0;34m()\u001b[0m\n\u001b[0;32m----> 1\u001b[0m \u001b[38;5;28mprint\u001b[39m(\u001b[43mint_list\u001b[49m\u001b[43m[\u001b[49m\u001b[38;5;241;43m5\u001b[39;49m\u001b[43m]\u001b[49m)\n",
      "\u001b[0;31mIndexError\u001b[0m: list index out of range"
     ]
    }
   ],
   "source": [
    "print(int_list[5])"
   ]
  },
  {
   "cell_type": "code",
   "execution_count": 5,
   "id": "b516faca",
   "metadata": {},
   "outputs": [
    {
     "name": "stdout",
     "output_type": "stream",
     "text": [
      "True\n"
     ]
    }
   ],
   "source": [
    "print(3 in int_list)"
   ]
  },
  {
   "cell_type": "code",
   "execution_count": 6,
   "id": "1d382633",
   "metadata": {},
   "outputs": [
    {
     "name": "stdout",
     "output_type": "stream",
     "text": [
      "5\n",
      "3\n"
     ]
    }
   ],
   "source": [
    "print(int_list[-1])\n",
    "print(int_list[-3])"
   ]
  },
  {
   "cell_type": "code",
   "execution_count": 8,
   "id": "6d775ad0",
   "metadata": {},
   "outputs": [
    {
     "name": "stdout",
     "output_type": "stream",
     "text": [
      "1\n",
      "2\n",
      "3\n",
      "4\n",
      "5\n"
     ]
    }
   ],
   "source": [
    "for i in int_list:\n",
    "    print(i)"
   ]
  },
  {
   "cell_type": "code",
   "execution_count": 9,
   "id": "0bfc5a54",
   "metadata": {},
   "outputs": [
    {
     "name": "stdout",
     "output_type": "stream",
     "text": [
      "5\n"
     ]
    }
   ],
   "source": [
    "print(len(int_list))"
   ]
  },
  {
   "cell_type": "code",
   "execution_count": 10,
   "id": "147b2ae5",
   "metadata": {},
   "outputs": [
    {
     "name": "stdout",
     "output_type": "stream",
     "text": [
      "[1, 10, 3, 4, 5]\n"
     ]
    }
   ],
   "source": [
    "int_list[1] = 10\n",
    "print(int_list)"
   ]
  },
  {
   "cell_type": "code",
   "execution_count": 11,
   "id": "52eeb776",
   "metadata": {},
   "outputs": [
    {
     "ename": "IndexError",
     "evalue": "list assignment index out of range",
     "output_type": "error",
     "traceback": [
      "\u001b[0;31m---------------------------------------------------------------------------\u001b[0m",
      "\u001b[0;31mIndexError\u001b[0m                                Traceback (most recent call last)",
      "Input \u001b[0;32mIn [11]\u001b[0m, in \u001b[0;36m<cell line: 1>\u001b[0;34m()\u001b[0m\n\u001b[0;32m----> 1\u001b[0m int_list[\u001b[38;5;241m5\u001b[39m] \u001b[38;5;241m=\u001b[39m \u001b[38;5;241m20\u001b[39m\n\u001b[1;32m      2\u001b[0m \u001b[38;5;28mprint\u001b[39m(int_list)\n",
      "\u001b[0;31mIndexError\u001b[0m: list assignment index out of range"
     ]
    }
   ],
   "source": [
    "int_list[5] = 20\n",
    "print(int_list)\n",
    "\n",
    "# Time comp: O(1)"
   ]
  },
  {
   "cell_type": "code",
   "execution_count": 12,
   "id": "51f16371",
   "metadata": {},
   "outputs": [
    {
     "name": "stdout",
     "output_type": "stream",
     "text": [
      "[1, 10, 3, 4, 5, 20]\n"
     ]
    }
   ],
   "source": [
    "int_list.append(20)\n",
    "print(int_list)\n",
    "\n",
    "# Time comp: O(1)"
   ]
  },
  {
   "cell_type": "code",
   "execution_count": 13,
   "id": "5a8e44a8",
   "metadata": {},
   "outputs": [
    {
     "name": "stdout",
     "output_type": "stream",
     "text": [
      "[1, 100, 10, 3, 4, 5, 20]\n"
     ]
    }
   ],
   "source": [
    "int_list.insert(1,100)  # insert 100 at index 1\n",
    "print(int_list)\n",
    "\n",
    "# Time Comp: O(N)"
   ]
  },
  {
   "cell_type": "code",
   "execution_count": 14,
   "id": "5bff2b1b",
   "metadata": {},
   "outputs": [
    {
     "name": "stdout",
     "output_type": "stream",
     "text": [
      "[1, 100, 10, 3, 4, 5, 20, 90, 91, 92]\n"
     ]
    }
   ],
   "source": [
    "new_list = [90,91,92]\n",
    "int_list.extend(new_list)\n",
    "print(int_list)\n",
    "\n",
    "# Time Comp: O(len(new_list))"
   ]
  },
  {
   "cell_type": "code",
   "execution_count": 15,
   "id": "c95274b8",
   "metadata": {},
   "outputs": [
    {
     "name": "stdout",
     "output_type": "stream",
     "text": [
      "[10, 3, 4]\n"
     ]
    }
   ],
   "source": [
    "print(int_list[2:5])"
   ]
  },
  {
   "cell_type": "code",
   "execution_count": 16,
   "id": "60486fc9",
   "metadata": {},
   "outputs": [
    {
     "name": "stdout",
     "output_type": "stream",
     "text": [
      "[1, 2, 10, 3, 4, 5, 20, 90, 91, 92]\n"
     ]
    }
   ],
   "source": [
    "int_list[0:2] = [1,2]\n",
    "print(int_list)"
   ]
  },
  {
   "cell_type": "code",
   "execution_count": 17,
   "id": "5303135a",
   "metadata": {},
   "outputs": [
    {
     "name": "stdout",
     "output_type": "stream",
     "text": [
      "10\n",
      "[1, 2, 3, 4, 5, 20, 90, 91, 92]\n"
     ]
    }
   ],
   "source": [
    "x = int_list.pop(2)\n",
    "print(x)\n",
    "print(int_list)\n",
    "\n",
    "# Time Comp:O(N)"
   ]
  },
  {
   "cell_type": "code",
   "execution_count": 18,
   "id": "d64fcebf",
   "metadata": {},
   "outputs": [
    {
     "name": "stdout",
     "output_type": "stream",
     "text": [
      "[1, 2, 3, 4, 5, 20, 90, 91]\n"
     ]
    }
   ],
   "source": [
    "x = int_list.pop()\n",
    "print(int_list)\n",
    "\n",
    "# Time Comp:O(1)"
   ]
  },
  {
   "cell_type": "code",
   "execution_count": 19,
   "id": "e801d1b3",
   "metadata": {},
   "outputs": [
    {
     "name": "stdout",
     "output_type": "stream",
     "text": [
      "[1, 2, 3, 4, 5, 90, 91]\n"
     ]
    }
   ],
   "source": [
    "del int_list[5]\n",
    "print(int_list)\n",
    "\n",
    "# Time Comp:O(N)"
   ]
  },
  {
   "cell_type": "code",
   "execution_count": 20,
   "id": "705b64f3",
   "metadata": {},
   "outputs": [
    {
     "name": "stdout",
     "output_type": "stream",
     "text": [
      "[1, 2, 3, 4, 5]\n"
     ]
    }
   ],
   "source": [
    "del int_list[5:7]\n",
    "print(int_list)\n",
    "\n",
    "# Time Comp:O(N)"
   ]
  },
  {
   "cell_type": "code",
   "execution_count": 21,
   "id": "0a7fbd41",
   "metadata": {},
   "outputs": [
    {
     "name": "stdout",
     "output_type": "stream",
     "text": [
      "[1, 3, 4, 5]\n"
     ]
    }
   ],
   "source": [
    "# remove method delete the first element occure\n",
    "\n",
    "int_list.remove(2)\n",
    "print(int_list)\n",
    "\n",
    "# Time Comp:O(N)"
   ]
  },
  {
   "cell_type": "code",
   "execution_count": 22,
   "id": "c49bbf1a",
   "metadata": {},
   "outputs": [
    {
     "name": "stdout",
     "output_type": "stream",
     "text": [
      "2\n"
     ]
    }
   ],
   "source": [
    "print(int_list.index(4))"
   ]
  },
  {
   "cell_type": "code",
   "execution_count": 25,
   "id": "e43a4e88",
   "metadata": {},
   "outputs": [
    {
     "name": "stdout",
     "output_type": "stream",
     "text": [
      "13\n",
      "3.25\n"
     ]
    }
   ],
   "source": [
    "print(sum(int_list))\n",
    "print(sum(int_list)/len(int_list))"
   ]
  },
  {
   "cell_type": "raw",
   "id": "409f0b7c",
   "metadata": {},
   "source": []
  },
  {
   "cell_type": "raw",
   "id": "aa0b9d26",
   "metadata": {},
   "source": [
    "String to List:"
   ]
  },
  {
   "cell_type": "code",
   "execution_count": 26,
   "id": "d5523a5a",
   "metadata": {},
   "outputs": [
    {
     "name": "stdout",
     "output_type": "stream",
     "text": [
      "abcd\n",
      "['a', 'b', 'c', 'd']\n"
     ]
    }
   ],
   "source": [
    "a = 'abcd'\n",
    "b = list(a)\n",
    "print(a)\n",
    "print(b)"
   ]
  },
  {
   "cell_type": "code",
   "execution_count": 28,
   "id": "fa00012d",
   "metadata": {},
   "outputs": [
    {
     "name": "stdout",
     "output_type": "stream",
     "text": [
      "['abc', 'xyz', 'mnp']\n"
     ]
    }
   ],
   "source": [
    "a = 'abc xyz mnp'\n",
    "b = a.split(' ')  # Give delimiter as an argument\n",
    "print(b)"
   ]
  },
  {
   "cell_type": "code",
   "execution_count": 29,
   "id": "47eb4530",
   "metadata": {},
   "outputs": [
    {
     "name": "stdout",
     "output_type": "stream",
     "text": [
      "abc xyz mnp\n"
     ]
    }
   ],
   "source": [
    "x = ' '.join(b)\n",
    "print(x)"
   ]
  },
  {
   "cell_type": "code",
   "execution_count": null,
   "id": "4c4adcf0",
   "metadata": {},
   "outputs": [],
   "source": []
  },
  {
   "cell_type": "code",
   "execution_count": 31,
   "id": "5ac0e56a",
   "metadata": {},
   "outputs": [
    {
     "name": "stdout",
     "output_type": "stream",
     "text": [
      "[10, 20, 30]\n",
      "[10, 20, 30]\n"
     ]
    }
   ],
   "source": [
    "int_list = [20,10,30]\n",
    "org = int_list          # It point the same list without creating separate list\n",
    "int_list.sort()\n",
    "print(int_list)\n",
    "print(org)"
   ]
  },
  {
   "cell_type": "code",
   "execution_count": 32,
   "id": "22695773",
   "metadata": {},
   "outputs": [
    {
     "name": "stdout",
     "output_type": "stream",
     "text": [
      "[10, 20, 30]\n",
      "[20, 10, 30]\n"
     ]
    }
   ],
   "source": [
    "int_list = [20,10,30]\n",
    "org = int_list[:]       # It creates completly new list with new memory location\n",
    "int_list.sort()\n",
    "print(int_list)\n",
    "print(org)"
   ]
  },
  {
   "cell_type": "code",
   "execution_count": 40,
   "id": "898318be",
   "metadata": {},
   "outputs": [
    {
     "name": "stdout",
     "output_type": "stream",
     "text": [
      "[30, 10, 20]\n"
     ]
    }
   ],
   "source": [
    "import random\n",
    "random.shuffle(int_list)\n",
    "print(int_list)"
   ]
  },
  {
   "cell_type": "raw",
   "id": "bf71def0",
   "metadata": {},
   "source": [
    "List VS Array\n",
    "\n",
    "Similarities:\n",
    "\n",
    "-> Both are mutable\n",
    "-> Both can be indexed and iterated through\n",
    "-> Both can be sliced\n",
    "\n",
    "Difference:\n",
    "\n",
    "-> Array is collection of same data type while list can be collection of any type of data"
   ]
  },
  {
   "cell_type": "code",
   "execution_count": 34,
   "id": "cf932e08",
   "metadata": {},
   "outputs": [
    {
     "name": "stdout",
     "output_type": "stream",
     "text": [
      "3 44\n"
     ]
    }
   ],
   "source": [
    "def f(value, values):\n",
    "    v = 1\n",
    "    values[0] = 44\n",
    "    \n",
    "t = 3\n",
    "v = [1,2,3]\n",
    "f(t,v)\n",
    "print(t,v[0])"
   ]
  },
  {
   "cell_type": "code",
   "execution_count": 36,
   "id": "d211f2e6",
   "metadata": {},
   "outputs": [
    {
     "name": "stdout",
     "output_type": "stream",
     "text": [
      "[1]\n",
      "[1, 2]\n",
      "[1, 2, 3]\n"
     ]
    }
   ],
   "source": [
    "def f(i,values = []):\n",
    "    values.append(i)\n",
    "    print(values)\n",
    "    \n",
    "f(1)\n",
    "f(2)\n",
    "f(3)"
   ]
  },
  {
   "cell_type": "code",
   "execution_count": null,
   "id": "d0aeff53",
   "metadata": {},
   "outputs": [],
   "source": []
  },
  {
   "cell_type": "code",
   "execution_count": 45,
   "id": "8a35878a",
   "metadata": {},
   "outputs": [
    {
     "name": "stdout",
     "output_type": "stream",
     "text": [
      "6.0\n"
     ]
    }
   ],
   "source": [
    "# 1. Fine the missing element from the list of int where values are given in the range of (1-10)\n",
    "\n",
    "int_list = [1,2,3,4,5,7,8,9,10]\n",
    "\n",
    "def findSum(int_list):\n",
    "    \n",
    "    # Total of the range value: N(N+1)/2; where N is end of the range\n",
    "    s = (10*(10+1)) /2\n",
    "    return s\n",
    "    \n",
    "print(findSum(int_list)-sum(int_list))\n",
    "\n",
    "# Time : O(N)\n",
    "# Space: O(1)"
   ]
  },
  {
   "cell_type": "code",
   "execution_count": 49,
   "id": "dee2a760",
   "metadata": {},
   "outputs": [
    {
     "name": "stdout",
     "output_type": "stream",
     "text": [
      "Unique\n",
      "Not Unique\n"
     ]
    }
   ],
   "source": [
    "# 2. Check whether all the elements in the list are unique or not\n",
    "\n",
    "int_list1 = [1,2,3,4,5,6,7,8,9,10]\n",
    "int_list2 = [1,2,3,4,5,6,5,8,9,10]\n",
    "\n",
    "def checkUnique(arr):\n",
    "    for i in range(len(arr)):\n",
    "        if arr[i] in arr[i+1:]:\n",
    "            return \"Not Unique\"\n",
    "    return \"Unique\"\n",
    "\n",
    "print(checkUnique(int_list1))\n",
    "print(checkUnique(int_list2))\n",
    "\n",
    "# Time Comp: O(N^2)\n",
    "# Space Comp: O(1)"
   ]
  },
  {
   "cell_type": "code",
   "execution_count": 48,
   "id": "db4ca416",
   "metadata": {},
   "outputs": [
    {
     "name": "stdout",
     "output_type": "stream",
     "text": [
      "Unique\n",
      "Not Unique\n"
     ]
    }
   ],
   "source": [
    "int_list1 = [1,2,3,4,5,6,7,8,9,10]\n",
    "int_list2 = [1,2,3,4,5,6,5,8,9,10]\n",
    "\n",
    "def checkUnique(arr):\n",
    "    unordered_map = {}\n",
    "    for i in arr:\n",
    "        if i in unordered_map:\n",
    "            return \"Not Unique\"\n",
    "        unordered_map[i] = 1\n",
    "    return \"Unique\"\n",
    "\n",
    "print(checkUnique(int_list1))\n",
    "print(checkUnique(int_list2))\n",
    "\n",
    "# Time Comp: O(N)\n",
    "# Space Comp: O(N)"
   ]
  },
  {
   "cell_type": "code",
   "execution_count": 51,
   "id": "3b4efbe3",
   "metadata": {},
   "outputs": [
    {
     "name": "stdout",
     "output_type": "stream",
     "text": [
      "Yes\n",
      "No\n"
     ]
    }
   ],
   "source": [
    "# 3. Check whether two list are permutation of each other or not?\n",
    "\n",
    "list1 = [1,2,3,4,5]\n",
    "list2 = [2,3,1,4,5]\n",
    "list3 = [3,4,5,6,7]\n",
    "\n",
    "def findPer(list1,list2):\n",
    "    if len(list1) != len(list2):\n",
    "        return \"No\"\n",
    "    \n",
    "    unorder_map = {}\n",
    "    for i in list1:\n",
    "        if i in unorder_map:\n",
    "            unorder_map[i] += 1\n",
    "        else:\n",
    "            unorder_map[i] = 1\n",
    "            \n",
    "    for i in list2:\n",
    "        if i not in unorder_map:\n",
    "            return \"No\"\n",
    "        unorder_map[i] -= 1\n",
    "            \n",
    "    for i in unorder_map:\n",
    "        if unorder_map[i] != 0:\n",
    "            return \"No\"\n",
    "    return \"Yes\"\n",
    "\n",
    "print(findPer(list1,list2))\n",
    "print(findPer(list1,list3))\n",
    "\n",
    "# Time : O(N)\n",
    "# Space: O(N)"
   ]
  },
  {
   "cell_type": "code",
   "execution_count": 52,
   "id": "0e76c6f2",
   "metadata": {},
   "outputs": [
    {
     "name": "stdout",
     "output_type": "stream",
     "text": [
      "Yes\n",
      "No\n"
     ]
    }
   ],
   "source": [
    "list1 = [1,2,3,4,5]\n",
    "list2 = [2,3,1,4,5]\n",
    "list3 = [3,4,5,6,7]\n",
    "\n",
    "def findPer(list1,list2):\n",
    "    if len(list1) != len(list2):\n",
    "        return \"No\"\n",
    "    \n",
    "    list1.sort()\n",
    "    list2.sort()\n",
    "    \n",
    "    if list1 == list2:\n",
    "        return \"Yes\"\n",
    "    return \"No\"\n",
    "\n",
    "print(findPer(list1,list2))\n",
    "print(findPer(list1,list3))\n",
    "\n",
    "# Time : O(N*log(N))\n",
    "# Space: O(1)"
   ]
  },
  {
   "cell_type": "code",
   "execution_count": null,
   "id": "6880c505",
   "metadata": {},
   "outputs": [],
   "source": []
  }
 ],
 "metadata": {
  "kernelspec": {
   "display_name": "Python 3 (ipykernel)",
   "language": "python",
   "name": "python3"
  },
  "language_info": {
   "codemirror_mode": {
    "name": "ipython",
    "version": 3
   },
   "file_extension": ".py",
   "mimetype": "text/x-python",
   "name": "python",
   "nbconvert_exporter": "python",
   "pygments_lexer": "ipython3",
   "version": "3.10.4"
  }
 },
 "nbformat": 4,
 "nbformat_minor": 5
}
