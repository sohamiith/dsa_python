{
 "cells": [
  {
   "cell_type": "code",
   "execution_count": 11,
   "id": "65a055ba",
   "metadata": {},
   "outputs": [],
   "source": [
    "class emp:\n",
    "    \n",
    "    # constructor\n",
    "    def __init__(self,f_name,l_name,age):\n",
    "        # Attribute\n",
    "        self.f_name = f_name\n",
    "        self.l_name = l_name\n",
    "        self.age = age\n",
    "        \n",
    "    # Method\n",
    "    def work(self):\n",
    "        if self.f_name == 'soham':\n",
    "            print(\"Software engineer\")\n",
    "        elif self.f_name == \"ravi\":\n",
    "            print(\"psi\")\n",
    "        \n",
    "soham = emp('soham','bhatt',25)\n",
    "ravi = emp('ravi','prajapati',26)"
   ]
  },
  {
   "cell_type": "code",
   "execution_count": 12,
   "id": "1ff17a86",
   "metadata": {},
   "outputs": [
    {
     "name": "stdout",
     "output_type": "stream",
     "text": [
      "<__main__.emp object at 0x7f5d1e70bb20>\n",
      "soham\n",
      "25\n",
      "Software engineer\n"
     ]
    }
   ],
   "source": [
    "print(soham)    # print address of the object\n",
    "print(soham.f_name)\n",
    "print(soham.age)\n",
    "soham.work()"
   ]
  },
  {
   "cell_type": "code",
   "execution_count": 13,
   "id": "367cb159",
   "metadata": {},
   "outputs": [
    {
     "name": "stdout",
     "output_type": "stream",
     "text": [
      "<__main__.emp object at 0x7f5d1e7aa400>\n",
      "ravi\n",
      "26\n",
      "psi\n"
     ]
    }
   ],
   "source": [
    "print(ravi)\n",
    "print(ravi.f_name)\n",
    "print(ravi.age)\n",
    "ravi.work()"
   ]
  },
  {
   "cell_type": "code",
   "execution_count": 19,
   "id": "e6ac623e",
   "metadata": {},
   "outputs": [],
   "source": [
    "class emp:\n",
    "    \n",
    "    increment = 1.5\n",
    "    no_of_emp = 0\n",
    "    \n",
    "    # constructor\n",
    "    def __init__(self,name,salary):\n",
    "        # Attribute\n",
    "        self.name = name\n",
    "        self.salary = salary\n",
    "        emp.no_of_emp += 1\n",
    "        \n",
    "    # Method\n",
    "    def work(self):\n",
    "        if self.name == 'soham':\n",
    "            print(\"Software engineer\")\n",
    "        elif self.name == \"ravi\":\n",
    "            print(\"psi\")\n",
    "            \n",
    "    def increase(self):\n",
    "        self.salary *= emp.increment\n",
    "        \n",
    "soham = emp('soham',50000)\n",
    "ravi = emp('ravi',40000)"
   ]
  },
  {
   "cell_type": "code",
   "execution_count": 20,
   "id": "5edcf9fa",
   "metadata": {},
   "outputs": [
    {
     "name": "stdout",
     "output_type": "stream",
     "text": [
      "<__main__.emp object at 0x7f5d340f5100>\n",
      "soham\n",
      "1.5\n",
      "Software engineer\n",
      "75000.0\n",
      "2\n",
      "{'name': 'soham', 'salary': 75000.0}\n"
     ]
    }
   ],
   "source": [
    "print(soham)    # print address of the object\n",
    "print(soham.name)\n",
    "print(soham.increment)\n",
    "soham.work()\n",
    "soham.increase()\n",
    "print(soham.salary)\n",
    "print(emp.no_of_emp)\n",
    "print(soham.__dict__)"
   ]
  },
  {
   "cell_type": "code",
   "execution_count": 21,
   "id": "dfbcba72",
   "metadata": {},
   "outputs": [
    {
     "name": "stdout",
     "output_type": "stream",
     "text": [
      "<__main__.emp object at 0x7f5d1e78afd0>\n",
      "ravi\n",
      "1.5\n",
      "psi\n",
      "60000.0\n",
      "2\n",
      "{'name': 'ravi', 'salary': 60000.0}\n"
     ]
    }
   ],
   "source": [
    "print(ravi)    # print address of the object\n",
    "print(ravi.name)\n",
    "print(ravi.increment)\n",
    "ravi.work()\n",
    "ravi.increase()\n",
    "print(ravi.salary)\n",
    "print(emp.no_of_emp)\n",
    "print(ravi.__dict__)"
   ]
  },
  {
   "cell_type": "code",
   "execution_count": 27,
   "id": "ae18aa84",
   "metadata": {},
   "outputs": [],
   "source": [
    "class emp:\n",
    "    \n",
    "    increment = 1.5\n",
    "    no_of_emp = 0\n",
    "    \n",
    "    # constructor\n",
    "    def __init__(self,name,salary):\n",
    "        # Attribute\n",
    "        self.name = name\n",
    "        self.salary = salary\n",
    "        emp.no_of_emp += 1\n",
    "            \n",
    "    def increase(self):\n",
    "        self.salary *= emp.increment\n",
    "        \n",
    "    @classmethod\n",
    "    def change_inc(cls,new_inc):\n",
    "        emp.increment = new_inc\n",
    "        \n",
    "soham = emp('soham',50000)"
   ]
  },
  {
   "cell_type": "code",
   "execution_count": 28,
   "id": "4dfa5eed",
   "metadata": {},
   "outputs": [
    {
     "name": "stdout",
     "output_type": "stream",
     "text": [
      "75000.0\n",
      "2\n",
      "150000.0\n"
     ]
    }
   ],
   "source": [
    "soham.increase()\n",
    "print(soham.salary)\n",
    "emp.change_inc(2)\n",
    "print(emp.increment)\n",
    "soham.increase()\n",
    "print(soham.salary)"
   ]
  },
  {
   "cell_type": "code",
   "execution_count": 34,
   "id": "765606ca",
   "metadata": {},
   "outputs": [
    {
     "name": "stdout",
     "output_type": "stream",
     "text": [
      "Transportatin\n",
      "4\n",
      "Family trip\n",
      "2\n",
      "solo trip\n"
     ]
    }
   ],
   "source": [
    "# inheritance\n",
    "\n",
    "class Vehicle:\n",
    "    def __init__(self):\n",
    "        self.general_use = \"Transportatin\"\n",
    "    \n",
    "class Car(Vehicle):\n",
    "    \n",
    "    def __init__(self):\n",
    "        self.wheels = 4\n",
    "        self.specific_use = \"Family trip\"\n",
    "        Vehicle.__init__(self)\n",
    "    \n",
    "    def describe(self):\n",
    "        print(\"this is car\")\n",
    "        \n",
    "class Bike(Vehicle):\n",
    "    \n",
    "    def __init__(self):\n",
    "        self.wheels = 2\n",
    "        self.specific_use = \"solo trip\"\n",
    "        Vehicle.__init__(self)\n",
    "    \n",
    "    def describe(self):\n",
    "        print(\"this is Bike\")\n",
    "\n",
    "        \n",
    "c = Car()\n",
    "b = Bike()\n",
    "\n",
    "print(c.general_use)\n",
    "print(c.wheels)\n",
    "print(c.specific_use)\n",
    "print(b.wheels)\n",
    "print(b.specific_use)"
   ]
  },
  {
   "cell_type": "code",
   "execution_count": 54,
   "id": "dfb2d761",
   "metadata": {},
   "outputs": [],
   "source": [
    "# Multiple inheritance\n",
    "\n",
    "class Father:\n",
    "    def __init__(self):\n",
    "        self.fname = \"x\"\n",
    "        \n",
    "    def fwork(self):\n",
    "        return \"engineer\"\n",
    "    \n",
    "    def skills(self):\n",
    "        print(\"coding\")\n",
    "    \n",
    "class Mother:\n",
    "    def __init__(self):\n",
    "        self.mname = \"y\"\n",
    "        \n",
    "    def mwork(self):\n",
    "        return \"doctor\"\n",
    "    \n",
    "    def skills(self):\n",
    "        print(\"art\")\n",
    "    \n",
    "class Child(Father,Mother):\n",
    "    def __init__(self):\n",
    "        self.cname = 'z'\n",
    "        Father.__init__(self)\n",
    "        Mother.__init__(self)\n",
    "    \n",
    "    def cwork(self):\n",
    "        return \"study\"\n",
    "\n",
    "    def skills(self):\n",
    "        Father.skills(self)\n",
    "        Mother.skills(self)\n",
    "        print(\"sports\")"
   ]
  },
  {
   "cell_type": "code",
   "execution_count": 55,
   "id": "82d0d8b7",
   "metadata": {},
   "outputs": [
    {
     "name": "stdout",
     "output_type": "stream",
     "text": [
      "child: z\n",
      "work: study\n",
      "coding\n",
      "art\n",
      "sports\n",
      "father: x\n",
      "work: engineer\n",
      "mother: y\n",
      "work: doctor\n"
     ]
    }
   ],
   "source": [
    "c = Child()\n",
    "print(\"child:\",c.cname)\n",
    "print(\"work:\",c.cwork())\n",
    "c.skills()\n",
    "print(\"father:\",c.fname)\n",
    "print(\"work:\",c.fwork())\n",
    "print(\"mother:\",c.mname)\n",
    "print(\"work:\",c.mwork())"
   ]
  },
  {
   "cell_type": "code",
   "execution_count": null,
   "id": "e0135cad",
   "metadata": {},
   "outputs": [],
   "source": []
  }
 ],
 "metadata": {
  "kernelspec": {
   "display_name": "Python [conda env:my_env] *",
   "language": "python",
   "name": "conda-env-my_env-py"
  },
  "language_info": {
   "codemirror_mode": {
    "name": "ipython",
    "version": 3
   },
   "file_extension": ".py",
   "mimetype": "text/x-python",
   "name": "python",
   "nbconvert_exporter": "python",
   "pygments_lexer": "ipython3",
   "version": "3.9.12"
  }
 },
 "nbformat": 4,
 "nbformat_minor": 5
}
