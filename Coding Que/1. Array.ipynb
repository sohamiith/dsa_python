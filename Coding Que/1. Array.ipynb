{
 "cells": [
  {
   "cell_type": "markdown",
   "id": "2c4d80b3",
   "metadata": {},
   "source": [
    "## Array"
   ]
  },
  {
   "cell_type": "markdown",
   "id": "4a75e0fb",
   "metadata": {},
   "source": [
    "### 1. Reverse the array"
   ]
  },
  {
   "cell_type": "raw",
   "id": "0aebbf9a",
   "metadata": {},
   "source": [
    "Write a function that reverses a string. The input string is given as an array of characters s.\n",
    "You must do this by modifying the input array in-place with O(1) extra memory."
   ]
  },
  {
   "cell_type": "code",
   "execution_count": null,
   "id": "0dab9e83",
   "metadata": {},
   "outputs": [],
   "source": [
    "class Solution(object):\n",
    "    \n",
    "    # if input is given in the form of array\n",
    "    def reverseString(self, s):\n",
    "        for i in range(int(len(s)/2)):\n",
    "            s[i],s[len(s)-1-i] = s[len(s)-1-i],s[i]\n",
    "        return s\n",
    "    \n",
    "    # If they ask to code in recursive fashion\n",
    "    def reverseStringRec(self,s,start,end):\n",
    "        if(start >= end):\n",
    "            return s\n",
    "        else:\n",
    "            s[start], s[end] = s[end], s[start]\n",
    "            return self.reverseStringRec(s,start+1,end-1)\n",
    "        \n",
    "    \n",
    "    # if input is given in the form of string\n",
    "    def reverseWord(self, s):\n",
    "        s = list(s)\n",
    "        for i in range(len(s)//2):\n",
    "            s[i],s[len(s)-i-1] = s[len(s)-i-1],s[i]\n",
    "        return ''.join(s)\n",
    "    \n",
    "    # By using python list slicing method\n",
    "    def reverseListSlice(self, s):\n",
    "        return s[::-1]\n",
    "    \n",
    "# All 3 have time comp: O(N)"
   ]
  },
  {
   "cell_type": "code",
   "execution_count": 78,
   "id": "96d13ffb",
   "metadata": {},
   "outputs": [],
   "source": [
    "Sol = Solution()"
   ]
  },
  {
   "cell_type": "code",
   "execution_count": 79,
   "id": "243413a7",
   "metadata": {},
   "outputs": [
    {
     "name": "stdout",
     "output_type": "stream",
     "text": [
      "['o', 'l', 'l', 'e', 'h']\n"
     ]
    }
   ],
   "source": [
    "s = [\"h\",\"e\",\"l\",\"l\",\"o\"]\n",
    "print(Sol.reverseString(s))"
   ]
  },
  {
   "cell_type": "code",
   "execution_count": 80,
   "id": "a4e25df5",
   "metadata": {},
   "outputs": [
    {
     "name": "stdout",
     "output_type": "stream",
     "text": [
      "['o', 'l', 'l', 'e', 'h']\n"
     ]
    }
   ],
   "source": [
    "s = [\"h\",\"e\",\"l\",\"l\",\"o\"]\n",
    "print(Sol.reverseStringRec(s,0,len(s)-1))"
   ]
  },
  {
   "cell_type": "code",
   "execution_count": 81,
   "id": "86e2971b",
   "metadata": {},
   "outputs": [
    {
     "name": "stdout",
     "output_type": "stream",
     "text": [
      "olleh\n"
     ]
    }
   ],
   "source": [
    "s = \"hello\"\n",
    "print(Sol.reverseWord(s))"
   ]
  },
  {
   "cell_type": "code",
   "execution_count": 83,
   "id": "80177a98",
   "metadata": {},
   "outputs": [
    {
     "name": "stdout",
     "output_type": "stream",
     "text": [
      "['o', 'l', 'l', 'e', 'h']\n"
     ]
    }
   ],
   "source": [
    "s = [\"h\",\"e\",\"l\",\"l\",\"o\"]\n",
    "print(Sol.reverseListSlice(s))"
   ]
  },
  {
   "cell_type": "code",
   "execution_count": null,
   "id": "a8d9015a",
   "metadata": {},
   "outputs": [],
   "source": []
  },
  {
   "cell_type": "markdown",
   "id": "d8a6a67a",
   "metadata": {},
   "source": [
    "### 2. Maximum and minimum of an array using minimum number of comparisons"
   ]
  },
  {
   "cell_type": "code",
   "execution_count": 84,
   "id": "495ca032",
   "metadata": {},
   "outputs": [],
   "source": [
    "# Using linear approach\n",
    "\n",
    "def findMinMax(a):\n",
    "    min = max = a[0]\n",
    "    for i in a[1:]:\n",
    "        if min > i:\n",
    "            min = i\n",
    "        if max < i:\n",
    "            max = i\n",
    "    return min,max\n",
    "\n",
    "# time comp: O(N)\n",
    "# space comp: O(1)\n",
    "# number of compairision: 2(N-1)"
   ]
  },
  {
   "cell_type": "code",
   "execution_count": 85,
   "id": "05b1f6e2",
   "metadata": {},
   "outputs": [
    {
     "name": "stdout",
     "output_type": "stream",
     "text": [
      "(10, 90)\n"
     ]
    }
   ],
   "source": [
    "a = [10,30,50,20,90,70,60,80,40]\n",
    "print(findMinMax(a))"
   ]
  },
  {
   "cell_type": "code",
   "execution_count": 86,
   "id": "7e06da3c",
   "metadata": {},
   "outputs": [],
   "source": [
    "# Using recursion\n",
    "\n",
    "def findMinMaxRec(a,low,high):\n",
    "    if low == high:\n",
    "        return (a[low],a[high])\n",
    "    elif high == low+1:\n",
    "        return (min(a[low],a[high]),max(a[low],a[high]))\n",
    "    else:\n",
    "        mid = (low+high)//2\n",
    "        min1,max1 = findMinMaxRec(a,low,mid)\n",
    "        min2,max2 = findMinMaxRec(a,mid+1,high)\n",
    "        return (min(min1,min2),max(max1,max2))\n",
    "    \n",
    "# Time Comp: O(N)\n",
    "# Space Comp: O(log N)  (Depth of the tree)\n",
    "# Number of comparison: 3n/2 -2  (if number of elements are even. if case of odd it will be more)"
   ]
  },
  {
   "cell_type": "code",
   "execution_count": 87,
   "id": "024376d9",
   "metadata": {},
   "outputs": [
    {
     "name": "stdout",
     "output_type": "stream",
     "text": [
      "(10, 90)\n"
     ]
    }
   ],
   "source": [
    "a = [10,30,50,20,90,70,60,80,40]\n",
    "print(findMinMaxRec(a,0,len(a)-1))"
   ]
  },
  {
   "cell_type": "raw",
   "id": "254dbf72",
   "metadata": {},
   "source": [
    "Next can be pair wise comparision,\n",
    "check g2g line for that\n",
    "https://www.geeksforgeeks.org/maximum-and-minimum-in-an-array/"
   ]
  },
  {
   "cell_type": "code",
   "execution_count": null,
   "id": "2ba7e2a8",
   "metadata": {},
   "outputs": [],
   "source": []
  },
  {
   "cell_type": "markdown",
   "id": "533c688b",
   "metadata": {},
   "source": [
    "### 3. Find Kth largest/smallest element from array"
   ]
  },
  {
   "cell_type": "code",
   "execution_count": 99,
   "id": "6797637d",
   "metadata": {},
   "outputs": [],
   "source": [
    "# First method\n",
    "def findKthLargest(nums, k):\n",
    "    \"\"\"\n",
    "    :type nums: List[int]\n",
    "    :type k: int\n",
    "    :rtype: int\n",
    "    \"\"\"\n",
    "\n",
    "    largest_seen = 1\n",
    "    while(1):\n",
    "        mx = max(nums)\n",
    "        if k == largest_seen:\n",
    "            return mx\n",
    "        else:\n",
    "            nums.remove(mx)\n",
    "            largest_seen += 1\n",
    "            continue\n",
    "            \n",
    "# Time comp = O(N^2)\n",
    "# Space comp = 1"
   ]
  },
  {
   "cell_type": "code",
   "execution_count": 100,
   "id": "855c68f0",
   "metadata": {},
   "outputs": [
    {
     "data": {
      "text/plain": [
       "5"
      ]
     },
     "execution_count": 100,
     "metadata": {},
     "output_type": "execute_result"
    }
   ],
   "source": [
    "nums = [3,2,1,5,6,4]\n",
    "k = 2\n",
    "findKthLargest(nums,k)"
   ]
  },
  {
   "cell_type": "code",
   "execution_count": 101,
   "id": "7856b0aa",
   "metadata": {},
   "outputs": [],
   "source": [
    "# Using sorting\n",
    "\n",
    "def findKthMax(nums,k):\n",
    "    nums.sort(reverse = True)\n",
    "    return nums[k-1]\n",
    "\n",
    "#time comp = O(N*logN)"
   ]
  },
  {
   "cell_type": "code",
   "execution_count": 102,
   "id": "9522262c",
   "metadata": {},
   "outputs": [
    {
     "data": {
      "text/plain": [
       "5"
      ]
     },
     "execution_count": 102,
     "metadata": {},
     "output_type": "execute_result"
    }
   ],
   "source": [
    "nums = [3,2,1,5,6,4]\n",
    "k = 2\n",
    "findKthMax(nums,k)"
   ]
  },
  {
   "cell_type": "code",
   "execution_count": 103,
   "id": "e7f761c2",
   "metadata": {},
   "outputs": [],
   "source": [
    "# using quick select algo\n",
    "\n",
    "def findKthlargestQuick(nums,k):\n",
    "    k = len(nums) - k # because we need to access the element from this index from an array\n",
    "    \n",
    "    def quickSelect(left, right):\n",
    "        pivot, p = nums[right], left\n",
    "        \n",
    "        for i in range(left, right):\n",
    "            if nums[i] <= pivot:\n",
    "                nums[p], nums[i] = nums[i], nums[p]\n",
    "                p = p+1\n",
    "        nums[p], nums[right] = nums[right], nums[p]\n",
    "        \n",
    "        if p>k: return quickSelect(left, p-1)\n",
    "        elif p<k: return quickSelect(p+1, right)\n",
    "        else: return nums[p]\n",
    "        \n",
    "    return quickSelect(0, len(nums)-1)\n",
    "\n",
    "# Avg case time comp = O(N)\n",
    "# Worst case time comp = O(N^2)\n",
    "# Revisit after doing quick sort\n",
    "# https://www.youtube.com/watch?v=XEmy13g1Qxc"
   ]
  },
  {
   "cell_type": "code",
   "execution_count": 104,
   "id": "aa9bcffc",
   "metadata": {},
   "outputs": [
    {
     "data": {
      "text/plain": [
       "5"
      ]
     },
     "execution_count": 104,
     "metadata": {},
     "output_type": "execute_result"
    }
   ],
   "source": [
    "nums = [3,2,1,5,6,4]\n",
    "k = 2\n",
    "findKthlargestQuick(nums,k)"
   ]
  },
  {
   "cell_type": "code",
   "execution_count": null,
   "id": "aa31dea9",
   "metadata": {},
   "outputs": [],
   "source": []
  },
  {
   "cell_type": "markdown",
   "id": "b6c62935",
   "metadata": {},
   "source": [
    "### 4. Given an array which consists of only 0, 1 and 2. Sort the array without using any sorting algo"
   ]
  },
  {
   "cell_type": "code",
   "execution_count": 113,
   "id": "fc194b28",
   "metadata": {},
   "outputs": [],
   "source": [
    "def sort012(arr,n):\n",
    "    zero = arr.count(0)\n",
    "    one = arr.count(1)\n",
    "    two = arr.count(2)\n",
    "    \n",
    "    for i in range(n):\n",
    "        if i<zero:\n",
    "            arr[i] = 0\n",
    "        elif i >= zero and i < zero+one:\n",
    "            arr[i] = 1\n",
    "        else:\n",
    "            arr[i] = 2\n",
    "    return arr\n",
    "\n",
    "# time comp = O(N)\n",
    "# Space Comp = O(1)"
   ]
  },
  {
   "cell_type": "code",
   "execution_count": 114,
   "id": "088b3c9c",
   "metadata": {},
   "outputs": [
    {
     "data": {
      "text/plain": [
       "[0, 0, 1, 2, 2]"
      ]
     },
     "execution_count": 114,
     "metadata": {},
     "output_type": "execute_result"
    }
   ],
   "source": [
    "arr = [0,2,1,2,0]\n",
    "sort012(arr,5)"
   ]
  },
  {
   "cell_type": "code",
   "execution_count": null,
   "id": "b961265c",
   "metadata": {},
   "outputs": [],
   "source": []
  },
  {
   "cell_type": "markdown",
   "id": "178f1dbc",
   "metadata": {},
   "source": [
    "### 5. Move all negative numbers to beginning and positive to end with constant extra space"
   ]
  },
  {
   "cell_type": "raw",
   "id": "7d2c433d",
   "metadata": {},
   "source": [
    "An array contains both positive and negative numbers in random order. Rearrange the array elements so that all negative numbers appear before all positive numbers.\n",
    "\n",
    "Input: -12, 11, -13, -5, 6, -7, 5, -3, -6\n",
    "Output: -12, -13, -5, -7, -3, -6, 11, 6, 5"
   ]
  },
  {
   "cell_type": "code",
   "execution_count": 129,
   "id": "b94f8eee",
   "metadata": {},
   "outputs": [],
   "source": [
    "# Approach 1\n",
    "def moveNeg(nums):\n",
    "    for i in range(len(nums)):\n",
    "        value = nums[i]\n",
    "        print(value)\n",
    "        if value >= 0:\n",
    "            nums.remove(value)\n",
    "            nums.append(value)\n",
    "            i = i-1\n",
    "    return nums\n",
    "\n",
    "# Wrong approach"
   ]
  },
  {
   "cell_type": "code",
   "execution_count": 130,
   "id": "faa8ffde",
   "metadata": {},
   "outputs": [
    {
     "name": "stdout",
     "output_type": "stream",
     "text": [
      "-12\n",
      "11\n",
      "-5\n",
      "6\n",
      "5\n",
      "-6\n",
      "11\n",
      "5\n",
      "5\n"
     ]
    },
    {
     "data": {
      "text/plain": [
       "[-12, -13, -5, -7, -3, -6, 6, 11, 5]"
      ]
     },
     "execution_count": 130,
     "metadata": {},
     "output_type": "execute_result"
    }
   ],
   "source": [
    "nums = [-12, 11, -13, -5, 6, -7, 5, -3, -6]\n",
    "moveNeg(nums)"
   ]
  },
  {
   "cell_type": "code",
   "execution_count": 144,
   "id": "a5a36983",
   "metadata": {},
   "outputs": [],
   "source": [
    "# With two pointers\n",
    "# one run from left and second run from right\n",
    "def moveNeg2(num):\n",
    "    left = 0\n",
    "    right = len(num) - 1\n",
    "    \n",
    "    while left < right:\n",
    "        if num[left] < 0 and num[right] >= 0:\n",
    "            left += 1\n",
    "            right -= 1\n",
    "        elif num[left] < 0 and num[right] < 0:\n",
    "            left += 1\n",
    "        elif num[left] >= 0 and num[right] >= 0:\n",
    "            right -= 1\n",
    "        elif num[left] >= 0 and num[right] < 0:\n",
    "            num[left], num[right] = num[right], num[left]\n",
    "            left += 1\n",
    "            right -= 1\n",
    "    return num\n",
    "\n",
    "# Time Comp = O(N)\n",
    "# Space Comp: O(1)"
   ]
  },
  {
   "cell_type": "code",
   "execution_count": 145,
   "id": "abddc323",
   "metadata": {},
   "outputs": [
    {
     "data": {
      "text/plain": [
       "[-12, -6, -13, -5, -3, -7, 5, 6, 11]"
      ]
     },
     "execution_count": 145,
     "metadata": {},
     "output_type": "execute_result"
    }
   ],
   "source": [
    "nums = [-12, 11, -13, -5, 6, -7, 5, -3, -6]\n",
    "moveNeg2(nums)"
   ]
  },
  {
   "cell_type": "code",
   "execution_count": null,
   "id": "27e5d8c3",
   "metadata": {},
   "outputs": [],
   "source": []
  },
  {
   "cell_type": "markdown",
   "id": "9074f2b2",
   "metadata": {},
   "source": [
    "### 6. Union and intersaction of two array"
   ]
  },
  {
   "cell_type": "code",
   "execution_count": 152,
   "id": "e16ecd1e",
   "metadata": {},
   "outputs": [],
   "source": [
    "# Count of the Union of two array\n",
    "\n",
    "def unionArray(a,n,b,m):\n",
    "    union = a + b\n",
    "    return len(set(union))"
   ]
  },
  {
   "cell_type": "code",
   "execution_count": 154,
   "id": "cefbf7dc",
   "metadata": {},
   "outputs": [
    {
     "data": {
      "text/plain": [
       "5"
      ]
     },
     "execution_count": 154,
     "metadata": {},
     "output_type": "execute_result"
    }
   ],
   "source": [
    "a = [1, 2, 3,3, 4, 5]\n",
    "b = [1,2,3]\n",
    "n = 5\n",
    "m = 3\n",
    "unionArray(a,n,b,m)"
   ]
  },
  {
   "cell_type": "code",
   "execution_count": 159,
   "id": "300cd618",
   "metadata": {},
   "outputs": [],
   "source": [
    "def intersectionArray(a,b):\n",
    "    return set(a).intersection(set(b))"
   ]
  },
  {
   "cell_type": "code",
   "execution_count": 160,
   "id": "b5e32712",
   "metadata": {},
   "outputs": [
    {
     "data": {
      "text/plain": [
       "{1, 2, 3}"
      ]
     },
     "execution_count": 160,
     "metadata": {},
     "output_type": "execute_result"
    }
   ],
   "source": [
    "a = [1, 2, 3,3, 4, 5]\n",
    "b = [1,2,3]\n",
    "intersectionArray(a,b)"
   ]
  },
  {
   "cell_type": "code",
   "execution_count": 163,
   "id": "85da077c",
   "metadata": {},
   "outputs": [],
   "source": [
    "\"\"\"\n",
    "Given two integer arrays nums1 and nums2, return an array of their intersection. \n",
    "Each element in the result must appear as many times as it shows in both arrays and you may return the result in any order.\n",
    "\"\"\"\n",
    "\n",
    "def intersect(nums1, nums2):\n",
    "    \"\"\"\n",
    "    :type nums1: List[int]\n",
    "    :type nums2: List[int]\n",
    "    :rtype: List[int]\n",
    "    \"\"\"\n",
    "    new = []\n",
    "    for i in nums1:\n",
    "        if i in nums2:\n",
    "            new.append(i)\n",
    "            nums2.remove(i)\n",
    "    return new"
   ]
  },
  {
   "cell_type": "code",
   "execution_count": 164,
   "id": "081295fd",
   "metadata": {},
   "outputs": [
    {
     "data": {
      "text/plain": [
       "[1, 2, 3, 3]"
      ]
     },
     "execution_count": 164,
     "metadata": {},
     "output_type": "execute_result"
    }
   ],
   "source": [
    "a = [1, 2, 3,3, 4, 5]\n",
    "b = [1,2,3,3,2]\n",
    "intersect(a,b)"
   ]
  },
  {
   "cell_type": "code",
   "execution_count": null,
   "id": "b47b1639",
   "metadata": {},
   "outputs": [],
   "source": []
  },
  {
   "cell_type": "markdown",
   "id": "890b439a",
   "metadata": {},
   "source": [
    "### 7. Write a program to cyclically rotate an array by one."
   ]
  },
  {
   "cell_type": "raw",
   "id": "fc36b4be",
   "metadata": {},
   "source": [
    "Given an array, rotate the array by one position in clock-wise direction.\n",
    "\n",
    "Input:\n",
    "N = 5\n",
    "A[] = {1, 2, 3, 4, 5}\n",
    "Output: 5 1 2 3 4"
   ]
  },
  {
   "cell_type": "code",
   "execution_count": 165,
   "id": "11109707",
   "metadata": {},
   "outputs": [],
   "source": [
    "# by using inbuild functions\n",
    "def rotate(arr, n):\n",
    "    arr.insert(0,arr.pop())\n",
    "    return arr\n",
    "\n",
    "# time comp: O(N)\n",
    "# space comp: O(1)"
   ]
  },
  {
   "cell_type": "code",
   "execution_count": 166,
   "id": "95b61bea",
   "metadata": {},
   "outputs": [
    {
     "data": {
      "text/plain": [
       "[5, 1, 2, 3, 4]"
      ]
     },
     "execution_count": 166,
     "metadata": {},
     "output_type": "execute_result"
    }
   ],
   "source": [
    "N = 5\n",
    "A = [1, 2, 3, 4, 5]\n",
    "rotate(A,N)"
   ]
  },
  {
   "cell_type": "code",
   "execution_count": 173,
   "id": "9a645303",
   "metadata": {},
   "outputs": [],
   "source": [
    "# Without using inbuid functions\n",
    "\n",
    "def rotate2(arr, n):\n",
    "    x = arr[-1]\n",
    "    for i in range(n-1,0,-1):\n",
    "        arr[i] = arr[i-1]\n",
    "    arr[0] = x\n",
    "    return arr\n",
    "\n",
    "# time comp: O(N)\n",
    "# space comp: O(1)"
   ]
  },
  {
   "cell_type": "code",
   "execution_count": 174,
   "id": "0dd696e4",
   "metadata": {},
   "outputs": [
    {
     "data": {
      "text/plain": [
       "[5, 1, 2, 3, 4]"
      ]
     },
     "execution_count": 174,
     "metadata": {},
     "output_type": "execute_result"
    }
   ],
   "source": [
    "N = 5\n",
    "A = [1, 2, 3, 4, 5]\n",
    "rotate2(A,N)"
   ]
  },
  {
   "cell_type": "code",
   "execution_count": 187,
   "id": "580c14fd",
   "metadata": {},
   "outputs": [],
   "source": [
    "def rotate3(arr,n):\n",
    "    return [arr[-1]] + [arr[0:n-1]] "
   ]
  },
  {
   "cell_type": "code",
   "execution_count": 188,
   "id": "6af52deb",
   "metadata": {},
   "outputs": [
    {
     "data": {
      "text/plain": [
       "[5, [1, 2, 3, 4]]"
      ]
     },
     "execution_count": 188,
     "metadata": {},
     "output_type": "execute_result"
    }
   ],
   "source": [
    "N = 5\n",
    "A = [1, 2, 3, 4, 5]\n",
    "rotate3(A,N)"
   ]
  },
  {
   "cell_type": "code",
   "execution_count": null,
   "id": "d510b1ff",
   "metadata": {},
   "outputs": [],
   "source": []
  },
  {
   "cell_type": "markdown",
   "id": "cae809c9",
   "metadata": {},
   "source": [
    "### 8. find Largest sum contiguous Subarray [V. IMP]"
   ]
  },
  {
   "cell_type": "raw",
   "id": "31d89a47",
   "metadata": {},
   "source": [
    "Given an array Arr[] of N integers. Find the contiguous sub-array(containing at least one number) which has the maximum sum and return its sum.\n",
    "Input:\n",
    "N = 5\n",
    "Arr[] = {1,2,3,-2,5}\n",
    "Output:\n",
    "9\n",
    "Explanation:\n",
    "Max subarray sum is 9\n",
    "of elements (1, 2, 3, -2, 5) which \n",
    "is a contiguous subarray."
   ]
  },
  {
   "cell_type": "code",
   "execution_count": 202,
   "id": "bb49f53b",
   "metadata": {},
   "outputs": [],
   "source": [
    "# Brute force\n",
    "\n",
    "def maxSubArraySum(arr,N):\n",
    "    sum = max(arr)\n",
    "    for i in range(N):\n",
    "        temp = 0\n",
    "        for j in range(i,N):\n",
    "            temp = temp + arr[j]\n",
    "            if temp > sum:\n",
    "                sum = temp\n",
    "    return sum\n",
    "\n",
    "# Time comp: O(N^2)\n",
    "# Space = O(1)"
   ]
  },
  {
   "cell_type": "code",
   "execution_count": 225,
   "id": "e94b6e2d",
   "metadata": {},
   "outputs": [],
   "source": [
    "# Kadane's Algorithm\n",
    "# This algo check each element of an array and find the largest sum possible till that index of the array\n",
    "# https://www.youtube.com/watch?v=HCL4_bOd3-4\n",
    "# https://www.geeksforgeeks.org/largest-sum-contiguous-subarray/\n",
    "\n",
    "def kadane(arr,N):\n",
    "    current_max = max_so_far = arr[0]\n",
    "    for i in range(1,N):\n",
    "        current_max = max(current_max + arr[i], arr[i])\n",
    "        max_so_far = max(max_so_far,current_max)\n",
    "    return max_so_far\n",
    "\n",
    "# Time Comp: O(N)\n",
    "# Space comp: O(1)"
   ]
  },
  {
   "cell_type": "code",
   "execution_count": 226,
   "id": "f4f0bbff",
   "metadata": {},
   "outputs": [
    {
     "name": "stdout",
     "output_type": "stream",
     "text": [
      "3\n",
      "3\n"
     ]
    }
   ],
   "source": [
    "N=3\n",
    "arr = [1,-2,3]\n",
    "print(maxSubArraySum(arr,N))\n",
    "print(kadane(arr,N))"
   ]
  },
  {
   "cell_type": "code",
   "execution_count": 227,
   "id": "a0282276",
   "metadata": {},
   "outputs": [
    {
     "name": "stdout",
     "output_type": "stream",
     "text": [
      "-1\n",
      "-1\n"
     ]
    }
   ],
   "source": [
    "N=4\n",
    "arr = [-1,-2,-3,-4]\n",
    "print(maxSubArraySum(arr,N))\n",
    "print(kadane(arr,N))"
   ]
  },
  {
   "cell_type": "code",
   "execution_count": 228,
   "id": "a2b2b152",
   "metadata": {},
   "outputs": [
    {
     "name": "stdout",
     "output_type": "stream",
     "text": [
      "6\n",
      "6\n"
     ]
    }
   ],
   "source": [
    "N=9\n",
    "arr=[-2, 1, -3, 4, -1, 2, 1, -5, 4]\n",
    "print(maxSubArraySum(arr,N))\n",
    "print(kadane(arr,N))"
   ]
  },
  {
   "cell_type": "code",
   "execution_count": null,
   "id": "3cbbe92e",
   "metadata": {},
   "outputs": [],
   "source": []
  },
  {
   "cell_type": "markdown",
   "id": "0c061eb4",
   "metadata": {},
   "source": [
    "### 9. Minimise the maximum difference between heights [V.IMP]"
   ]
  },
  {
   "cell_type": "raw",
   "id": "6f28f074",
   "metadata": {},
   "source": [
    "modify the height of each tower either by increasing or decreasing them by K only once. After modifying, height should be a non-negative integer. \n",
    "Find out the minimum possible difference of the height of shortest and longest towers after you have modified each tower.\n",
    "\n",
    "Input:\n",
    "K = 2, N = 4\n",
    "Arr[] = {1, 5, 8, 10}\n",
    "Output:\n",
    "5\n",
    "\n",
    "Explanation:\n",
    "The array can be modified as \n",
    "{3, 3, 6, 8}. The difference between \n",
    "the largest and the smallest is 8-3 = 5."
   ]
  },
  {
   "cell_type": "code",
   "execution_count": 277,
   "id": "c2fe474a",
   "metadata": {},
   "outputs": [],
   "source": [
    "def getMinDiff(arr, n, k):\n",
    "    arr.sort()\n",
    "    ans = arr[n-1] - arr[0]\n",
    "    largest = arr[n-1]\n",
    "    smallest = arr[0]\n",
    "\n",
    "    for i in range(1,n):\n",
    "        smallest = min(arr[0] + k, arr[i] - k)\n",
    "        largest = max(arr[n-1] - k, arr[i-1] + k)\n",
    "        \n",
    "        # Put this condition because its given that height should not be less than 0\n",
    "        if smallest < 0:\n",
    "            continue\n",
    "        \n",
    "        ans = min(ans, largest-smallest)\n",
    "    \n",
    "    return ans\n",
    "\n",
    "# Time Comp: O(N * LogN) (sorting algo)\n",
    "# Space comp: O(1)"
   ]
  },
  {
   "cell_type": "code",
   "execution_count": 278,
   "id": "4bd7df2f",
   "metadata": {},
   "outputs": [
    {
     "name": "stdout",
     "output_type": "stream",
     "text": [
      "8\n",
      "11\n"
     ]
    }
   ],
   "source": [
    "n = 10\n",
    "k = 5\n",
    "arr = [8, 1, 5, 4, 7, 5, 7, 9, 4, 6]\n",
    "print(getMinDiff(arr,n,k))\n",
    "\n",
    "n = 5\n",
    "k = 3\n",
    "arr = [3, 9, 12, 16, 20]\n",
    "print(getMinDiff(arr,n,k))"
   ]
  },
  {
   "cell_type": "raw",
   "id": "4d900169",
   "metadata": {},
   "source": [
    "Given an array arr[] denoting heights of N towers and a positive integer K, you have to modify the height of each tower either by increasing or decreasing them by K only once.\n",
    "Find out what could be the possible minimum difference of the height of shortest and longest towers after you have modified each tower.\n",
    "Note: Assume that height of the tower can be negative."
   ]
  },
  {
   "cell_type": "code",
   "execution_count": 279,
   "id": "ad415197",
   "metadata": {},
   "outputs": [],
   "source": [
    "def getMinDiff2(arr, n, k):\n",
    "    arr.sort()\n",
    "    ans = arr[n-1] - arr[0]\n",
    "    largest = arr[n-1]\n",
    "    smallest = arr[0]\n",
    "\n",
    "    for i in range(1,n):\n",
    "        smallest = min(arr[0] + k, arr[i] - k)\n",
    "        largest = max(arr[n-1] - k, arr[i-1] + k)\n",
    "        ans = min(ans, largest-smallest)\n",
    "    \n",
    "    return ans\n",
    "\n",
    "# Time Comp: O(N * LogN) (sorting algo)\n",
    "# Space comp: O(1)"
   ]
  },
  {
   "cell_type": "code",
   "execution_count": 280,
   "id": "a9332cc5",
   "metadata": {},
   "outputs": [
    {
     "name": "stdout",
     "output_type": "stream",
     "text": [
      "7\n",
      "11\n"
     ]
    }
   ],
   "source": [
    "n = 10\n",
    "k = 5\n",
    "arr = [8, 1, 5, 4, 7, 5, 7, 9, 4, 6]\n",
    "print(getMinDiff2(arr,n,k))\n",
    "\n",
    "n = 5\n",
    "k = 3\n",
    "arr = [3, 9, 12, 16, 20]\n",
    "print(getMinDiff2(arr,n,k))"
   ]
  },
  {
   "cell_type": "raw",
   "id": "63539537",
   "metadata": {},
   "source": [
    "Solution 1: https://www.youtube.com/watch?v=Av7vSnPSCtw\n",
    "Solution 2: https://www.geeksforgeeks.org/minimize-the-maximum-difference-between-the-heights/  (We follow this with some modification)"
   ]
  },
  {
   "cell_type": "code",
   "execution_count": null,
   "id": "556bb228",
   "metadata": {},
   "outputs": [],
   "source": []
  },
  {
   "cell_type": "markdown",
   "id": "61cabcdf",
   "metadata": {},
   "source": [
    "### 10. Minimum number of jumps to reach the end of array"
   ]
  },
  {
   "cell_type": "raw",
   "id": "5c2963f0",
   "metadata": {},
   "source": [
    "Given an array of N integers arr[] where each element represents the max number of steps that can be made forward from that element. Find the minimum number of jumps to reach the end of the array (starting from the first element). If an element is 0, then you cannot move through that element.\n",
    "Note: Return -1 if you can't reach the end of the array.\n",
    "\n",
    "Input:\n",
    "N = 11 \n",
    "arr[] = {1, 3, 5, 8, 9, 2, 6, 7, 6, 8, 9} \n",
    "Output: 3 \n",
    "Explanation: \n",
    "First jump from 1st element to 2nd \n",
    "element with value 3. Now, from here \n",
    "we jump to 5th element with value 9, \n",
    "and from here we will jump to last."
   ]
  },
  {
   "cell_type": "code",
   "execution_count": null,
   "id": "52eaddc9",
   "metadata": {},
   "outputs": [],
   "source": []
  },
  {
   "cell_type": "markdown",
   "id": "61ab48b1",
   "metadata": {},
   "source": [
    "### 11. Find the Duplicate Number"
   ]
  },
  {
   "cell_type": "raw",
   "id": "8a9540e8",
   "metadata": {},
   "source": [
    "Given an array of integers nums containing n + 1 integers where each integer is in the range [1, n] inclusive.\n",
    "\n",
    "There is only one repeated number in nums, return this repeated number.\n",
    "\n",
    "You must solve the problem without modifying the array nums and uses only constant extra space.\n",
    "Input: nums = [1,3,4,2,2]\n",
    "Output: 2"
   ]
  },
  {
   "cell_type": "code",
   "execution_count": 292,
   "id": "3e0b757a",
   "metadata": {},
   "outputs": [],
   "source": [
    "# Solution by modifying the array\n",
    "# Here we sort the array and visit each element of an array and compare with next element\n",
    "\n",
    "def findDuplicate(nums):\n",
    "    \"\"\"\n",
    "    :type nums: List[int]\n",
    "    :rtype: int\n",
    "    \"\"\"\n",
    "\n",
    "    nums.sort()\n",
    "        \n",
    "    for i in range(len(nums)):\n",
    "        if nums[i] == nums[i+1]:\n",
    "            return nums[i]\n",
    "\n",
    "# Time Comp: O(N * LogN) (sorting algo)\n",
    "# Space comp: O(1)"
   ]
  },
  {
   "cell_type": "code",
   "execution_count": 293,
   "id": "7c86ba4b",
   "metadata": {},
   "outputs": [
    {
     "name": "stdout",
     "output_type": "stream",
     "text": [
      "2\n"
     ]
    }
   ],
   "source": [
    "nums = [1,3,4,2,2]\n",
    "print(findDuplicate(nums))"
   ]
  },
  {
   "cell_type": "code",
   "execution_count": 294,
   "id": "2237fba2",
   "metadata": {},
   "outputs": [],
   "source": [
    "# Solution without modifying an array but high time comp\n",
    "\n",
    "def findDuplicate2(nums):\n",
    "    n = len(nums)\n",
    "    for i in range(n):\n",
    "        if nums.count(i) <= 1:\n",
    "            continue    \n",
    "        return i\n",
    "\n",
    "# Time Comp: O(N^2):\n",
    "# Space comp: O(1)"
   ]
  },
  {
   "cell_type": "code",
   "execution_count": 295,
   "id": "ed3f668b",
   "metadata": {},
   "outputs": [
    {
     "name": "stdout",
     "output_type": "stream",
     "text": [
      "2\n"
     ]
    }
   ],
   "source": [
    "nums = [1,3,4,2,2]\n",
    "print(findDuplicate2(nums))"
   ]
  },
  {
   "cell_type": "code",
   "execution_count": 300,
   "id": "948760d0",
   "metadata": {},
   "outputs": [],
   "source": [
    "# Solution with linear time comp but O(N) Space comp\n",
    "\n",
    "def findDuplicate3(nums):\n",
    "    arr = [0 for i in range(len(nums))]\n",
    "    for i in nums:\n",
    "        arr[i] += 1\n",
    "    \n",
    "    for i in range(len(arr)):\n",
    "        if arr[i] >= 2:\n",
    "            return i\n",
    "\n",
    "# Time Comp: O(N^2):\n",
    "# Space comp: O(1)"
   ]
  },
  {
   "cell_type": "code",
   "execution_count": 301,
   "id": "c5ce53ee",
   "metadata": {},
   "outputs": [
    {
     "name": "stdout",
     "output_type": "stream",
     "text": [
      "2\n"
     ]
    }
   ],
   "source": [
    "nums = [1,3,4,2,2]\n",
    "print(findDuplicate3(nums))"
   ]
  },
  {
   "cell_type": "code",
   "execution_count": null,
   "id": "eb631c66",
   "metadata": {},
   "outputs": [],
   "source": [
    "# Best solution with time comp = O(N) and space comp = O(1)\n",
    "# Here we will treat out original array as a freq array\n",
    "# Solution: https://www.youtube.com/watch?v=kV37sZV9pgk&list=PLDdcY4olLQk3zG-972eMoDJHLIz3FiGA6&index=9\n",
    "\n"
   ]
  },
  {
   "cell_type": "code",
   "execution_count": 330,
   "id": "a7b19c3d",
   "metadata": {},
   "outputs": [],
   "source": [
    "def findDuplicate4(nums):\n",
    "    n = len(nums)\n",
    "    for i in range(n):\n",
    "        nums[nums[i] % n] = nums[nums[i] % n] + n\n",
    "    for i in range(n):\n",
    "        if nums[i] / n >= 2:\n",
    "            return i"
   ]
  },
  {
   "cell_type": "code",
   "execution_count": 331,
   "id": "bcf38186",
   "metadata": {},
   "outputs": [
    {
     "name": "stdout",
     "output_type": "stream",
     "text": [
      "2\n"
     ]
    }
   ],
   "source": [
    "nums = [1,3,4,2,2]\n",
    "print(findDuplicate4(nums))"
   ]
  },
  {
   "cell_type": "code",
   "execution_count": 324,
   "id": "a2e123f6",
   "metadata": {},
   "outputs": [],
   "source": [
    "\"\"\"\n",
    "For example, \n",
    "if the input array is [1, 3, 3, 2] then for 1, flip the number at index 1, making the array [1,-3,3,2]. \n",
    "Next, for -3 flip the number at index 3, making the array [1,-3,3,-2]. \n",
    "Finally, when we reach the second 3, we'll notice that nums[3] is already negative, \n",
    "indicating that 3 has been seen before and hence is the duplicate number.\n",
    "\"\"\"\n",
    "\n",
    "\n",
    "def findDuplicate5(nums):\n",
    "    for i in range(len(nums)):\n",
    "        if(nums[abs(nums[i])] < 0):\n",
    "            return abs(nums[i])\n",
    "        else:\n",
    "            nums[abs(nums[i])] = nums[abs(nums[i])] * -1\n",
    "            \n",
    "# Time comp: O(N)\n",
    "# Space: O(1)"
   ]
  },
  {
   "cell_type": "code",
   "execution_count": 325,
   "id": "7a191b85",
   "metadata": {},
   "outputs": [
    {
     "name": "stdout",
     "output_type": "stream",
     "text": [
      "2\n"
     ]
    }
   ],
   "source": [
    "nums = [1,3,4,2,2]\n",
    "print(findDuplicate5(nums))"
   ]
  },
  {
   "cell_type": "code",
   "execution_count": null,
   "id": "dfa2cdb1",
   "metadata": {},
   "outputs": [],
   "source": []
  },
  {
   "cell_type": "markdown",
   "id": "a78eb8af",
   "metadata": {},
   "source": [
    "### 12. Merge two sorted array without extra space"
   ]
  },
  {
   "cell_type": "raw",
   "id": "f1b19fc7",
   "metadata": {},
   "source": [
    "Que Type 1:\n",
    "\n",
    "Input:\n",
    "N = 5, M = 5\n",
    "arr1[] = {1, 3, 5, 7, 9}\n",
    "arr2[] = {0, 2, 6, 8, 9}\n",
    "Output: 0 1 2 3 5 6 7 8 9"
   ]
  },
  {
   "cell_type": "code",
   "execution_count": 347,
   "id": "874efff1",
   "metadata": {},
   "outputs": [],
   "source": [
    "# Using python sets\n",
    "# In python sets, duplicates are removed automatically\n",
    "# Also sets always return values in sorted order\n",
    "\n",
    "def merge(arr1, arr2, n, m): \n",
    "    for i in arr2:\n",
    "        arr1.append(i)\n",
    "    return list(set(arr1))\n",
    "    #return arr1.sort()\n",
    "    \n",
    "# Time Comp: O(N log N)   For sorting\n",
    "# Space: O(1)"
   ]
  },
  {
   "cell_type": "code",
   "execution_count": 348,
   "id": "0b5a4692",
   "metadata": {},
   "outputs": [
    {
     "name": "stdout",
     "output_type": "stream",
     "text": [
      "[0, 1, 2, 3, 5, 6, 7, 8, 9]\n"
     ]
    }
   ],
   "source": [
    "arr1 = [1, 3, 5, 7, 9]\n",
    "arr2 = [0, 2, 6, 8, 9]\n",
    "n = 5\n",
    "m = 5\n",
    "print(merge(arr1, arr2, n, m))"
   ]
  },
  {
   "cell_type": "code",
   "execution_count": 360,
   "id": "61ef7d6e",
   "metadata": {},
   "outputs": [],
   "source": [
    "def merge2(arr1, arr2, n, m): \n",
    "    for i in arr2:\n",
    "        if i in arr1:\n",
    "            continue\n",
    "        arr1.append(i)\n",
    "    arr1.sort()\n",
    "    return arr1\n",
    "\n",
    "# Time Comp: O(N log N)   For sorting\n",
    "# Space: O(1)"
   ]
  },
  {
   "cell_type": "code",
   "execution_count": 361,
   "id": "35d15d2c",
   "metadata": {},
   "outputs": [
    {
     "name": "stdout",
     "output_type": "stream",
     "text": [
      "[0, 1, 2, 3, 5, 6, 7, 8, 9]\n"
     ]
    }
   ],
   "source": [
    "arr1 = [1, 3, 5, 7, 9]\n",
    "arr2 = [0, 2, 6, 8, 9]\n",
    "n = 5\n",
    "m = 5\n",
    "print(merge2(arr1, arr2, n, m))"
   ]
  },
  {
   "cell_type": "raw",
   "id": "ec4ea317",
   "metadata": {},
   "source": [
    "Que type 2:\n",
    "\n",
    "Input: nums1 = [1,2,3,0,0,0], m = 3, nums2 = [2,5,6], n = 3\n",
    "Output: [1,2,2,3,5,6]\n",
    "Explanation: The arrays we are merging are [1,2,3] and [2,5,6].\n",
    "The result of the merge is [1,2,2,3,5,6] with the underlined elements coming from nums1."
   ]
  },
  {
   "cell_type": "code",
   "execution_count": 366,
   "id": "a7caed51",
   "metadata": {},
   "outputs": [],
   "source": [
    "def merge3(nums1, m, nums2, n):\n",
    "    \"\"\"\n",
    "    :type nums1: List[int]\n",
    "    :type m: int\n",
    "    :type nums2: List[int]\n",
    "    :type n: int\n",
    "    :rtype: None Do not return anything, modify nums1 in-place instead.\n",
    "    \"\"\"\n",
    "    for i in range(n):\n",
    "        nums1[(-1*n) + i] = nums2[i]\n",
    "    nums1.sort()\n",
    "    return nums1\n",
    "\n",
    "# Time Comp: O(N log N)   For sorting\n",
    "# Space: O(1)"
   ]
  },
  {
   "cell_type": "code",
   "execution_count": 367,
   "id": "874dcc00",
   "metadata": {},
   "outputs": [
    {
     "name": "stdout",
     "output_type": "stream",
     "text": [
      "[1, 2, 2, 3, 5, 6]\n"
     ]
    }
   ],
   "source": [
    "nums1 = [1,2,3,0,0,0]\n",
    "m = 3\n",
    "nums2 = [2,5,6]\n",
    "n = 3\n",
    "print(merge3(nums1,m,nums2,n))"
   ]
  },
  {
   "cell_type": "code",
   "execution_count": null,
   "id": "c906fb8a",
   "metadata": {},
   "outputs": [],
   "source": []
  },
  {
   "cell_type": "markdown",
   "id": "b08b94b4",
   "metadata": {},
   "source": [
    "### 13. Kadane's Algorithm"
   ]
  },
  {
   "cell_type": "raw",
   "id": "3f7a8efa",
   "metadata": {},
   "source": [
    "Check Que 8"
   ]
  },
  {
   "cell_type": "code",
   "execution_count": null,
   "id": "1943bcf9",
   "metadata": {},
   "outputs": [],
   "source": []
  },
  {
   "cell_type": "markdown",
   "id": "3452dc88",
   "metadata": {},
   "source": [
    "### 14. Merge Intervals"
   ]
  },
  {
   "cell_type": "raw",
   "id": "a035a29f",
   "metadata": {},
   "source": [
    "Given an array of intervals where intervals[i] = [starti, endi], merge all overlapping intervals, and return an array of the non-overlapping intervals that cover all the intervals in the input.\n",
    "\n",
    "Input: intervals = [[1,3],[2,6],[8,10],[15,18]]\n",
    "Output: [[1,6],[8,10],[15,18]]\n",
    "Explanation: Since intervals [1,3] and [2,6] overlaps, merge them into [1,6]."
   ]
  },
  {
   "cell_type": "code",
   "execution_count": 435,
   "id": "82ee083d",
   "metadata": {},
   "outputs": [],
   "source": [
    "# Not a right approach for all input value\n",
    "\n",
    "def merge(intervals):\n",
    "    \"\"\"\n",
    "    :type intervals: List[List[int]]\n",
    "    :rtype: List[List[int]]\n",
    "    \"\"\"\n",
    "    mx = 0\n",
    "    for i in intervals:\n",
    "        m = max(i)\n",
    "        if m > mx:\n",
    "            mx = m\n",
    "\n",
    "    arr = [0 for i in range(m+1)]\n",
    "    \n",
    "    for i in intervals:\n",
    "        for j in range(i[0],i[1]+1):\n",
    "            arr[j] = 1\n",
    "    \n",
    "    ans = []\n",
    "    temp = []\n",
    "    for j in range(len(arr)):\n",
    "        if arr[j] == 1 and arr[j-1] == 0:\n",
    "            temp.append(j)\n",
    "        elif arr[j] and (j==len(arr)-1 or arr[j+1] == 0):\n",
    "            temp.append(j)\n",
    "            ans.append(temp)\n",
    "            temp = []\n",
    "        else:\n",
    "            continue\n",
    "    return ans"
   ]
  },
  {
   "cell_type": "code",
   "execution_count": 436,
   "id": "a91adcac",
   "metadata": {},
   "outputs": [
    {
     "data": {
      "text/plain": [
       "[[1, 6], [8, 10], [15, 18]]"
      ]
     },
     "execution_count": 436,
     "metadata": {},
     "output_type": "execute_result"
    }
   ],
   "source": [
    "n = [[1,3],[2,6],[8,10],[15,18]]\n",
    "merge(n)"
   ]
  },
  {
   "cell_type": "code",
   "execution_count": 437,
   "id": "798f51f5",
   "metadata": {},
   "outputs": [
    {
     "data": {
      "text/plain": [
       "[[1, 6]]"
      ]
     },
     "execution_count": 437,
     "metadata": {},
     "output_type": "execute_result"
    }
   ],
   "source": [
    "n = [[1,4],[5,6]]\n",
    "merge(n)\n",
    "\n",
    "# It gives wrong ans becasue here ans should be [[1,4],[5,6]]\n",
    "# So this approach can't work\n",
    "# Also it was taking O(N*N) Time comp and O(N) space Where N is largest element in an array"
   ]
  },
  {
   "cell_type": "code",
   "execution_count": 505,
   "id": "226ce550",
   "metadata": {},
   "outputs": [],
   "source": [
    "def merge2(arr):\n",
    "    # sort the array at the first place\n",
    "    arr.sort()\n",
    "    \n",
    "    \"\"\"\n",
    "    This kind of iteration will not work so follow next one\n",
    "    \n",
    "    ans = []\n",
    "    temp = []\n",
    "    skip = []\n",
    "    \n",
    "    for i in range(len(arr)):\n",
    "        if i in skip:\n",
    "            continue\n",
    "        temp.append(arr[i][0])\n",
    "        if i < len(arr) - 1:\n",
    "            if arr[i][1] >= arr[i+1][0]:\n",
    "                temp.append(max(arr[i+1][1], arr[i][1])\n",
    "                skip.append(i+1)\n",
    "            else:\n",
    "                temp.append(arr[i][1])\n",
    "            ans.append(temp)\n",
    "            temp = []\n",
    "        else:\n",
    "            ans.append(arr[i])\n",
    "    \"\"\"      \n",
    "    \n",
    "    \"\"\"\n",
    "    Solution with for loop will also not work becuase if for loop you can not change range once you give it\n",
    "    \n",
    "    for i in range(n):\n",
    "        print(i)\n",
    "        if i == 0 or i > len(arr) -1:\n",
    "            continue\n",
    "        \n",
    "        if arr[i][0] <= arr[i-1][1]:\n",
    "            arr[i-1][1] = max(arr[i][1],arr[i-1][1])\n",
    "            del arr[i]\n",
    "    \"\"\"   \n",
    "    \n",
    "    \n",
    "    n = len(arr)\n",
    "    i = 0\n",
    "    \n",
    "    while i < n:\n",
    "\n",
    "        # Skip the first set\n",
    "        if i == 0:\n",
    "            i += 1\n",
    "            continue\n",
    "        \n",
    "        # if first of current set is <= second of last set then modify the second of last element\n",
    "        if arr[i][0] <= arr[i-1][1]:\n",
    "            arr[i-1][1] = max(arr[i][1],arr[i-1][1])\n",
    "            del arr[i]\n",
    "            n = n-1\n",
    "            continue\n",
    "        \n",
    "        i += 1\n",
    "                      \n",
    "    return arr\n",
    "\n",
    "# Time = O(N)\n",
    "# Space: O(1)"
   ]
  },
  {
   "cell_type": "code",
   "execution_count": 504,
   "id": "60e0ef9d",
   "metadata": {},
   "outputs": [
    {
     "data": {
      "text/plain": [
       "[[1, 6], [8, 10], [15, 18]]"
      ]
     },
     "execution_count": 504,
     "metadata": {},
     "output_type": "execute_result"
    }
   ],
   "source": [
    "n = [[1,4],[0,2],[3,5]]\n",
    "n = [[1,3],[2,6],[8,10],[15,18]]\n",
    "merge2(n)"
   ]
  },
  {
   "cell_type": "code",
   "execution_count": null,
   "id": "d720f52c",
   "metadata": {},
   "outputs": [],
   "source": []
  },
  {
   "cell_type": "markdown",
   "id": "70fafb18",
   "metadata": {},
   "source": [
    "### 15. Next Permutation"
   ]
  },
  {
   "cell_type": "raw",
   "id": "90f132af",
   "metadata": {},
   "source": [
    "For example, the next permutation of arr = [1,2,3] is [1,3,2]\n",
    "Similarly, the next permutation of arr = [2,3,1] is [3,1,2].\n",
    "While the next permutation of arr = [3,2,1] is [1,2,3] because [3,2,1] does not have a lexicographical larger rearrangement."
   ]
  },
  {
   "cell_type": "raw",
   "id": "00f26154",
   "metadata": {},
   "source": [
    "Brute Force solution can not work here because in that we need to find all the permutation of an array and need to find next permutation from all the possible solution. Its not best solution as time comp of this method is O(N!) ans space comp is O(N). Also its complex to develop."
   ]
  },
  {
   "cell_type": "code",
   "execution_count": 555,
   "id": "5a548ebb",
   "metadata": {},
   "outputs": [],
   "source": [
    "def nextPer(nums):\n",
    "    \n",
    "    # Start from the right and check each element on left side.\n",
    "    # Find the first element which is lower than the its right side elemet and keep pointer on it.  \n",
    "    pointer = len(nums) -1\n",
    "    for i in range(len(nums)-1,0,-1):\n",
    "        if nums[i] <= nums[i-1]:    # <= is req here for input [5,1,1]. its output will be [1,1,5]\n",
    "            continue \n",
    "        pointer = i-1\n",
    "        break\n",
    "    \n",
    "    # If no such element found then it means that array is in desc order.\n",
    "    # in such case just reverse the array and retuen\n",
    "    # ex: [3,2,1] -> [1,2,3]\n",
    "    if pointer == len(nums) -1:\n",
    "        nums.reverse()\n",
    "        return nums\n",
    "    \n",
    "    # Start from the pointer and check all element till the end of an array\n",
    "    # Find an elemnt which is greater than pointer's element and its diff with the pointer's element is lowest\n",
    "    # make it pointer2\n",
    "    diff = nums[pointer+1] - nums[pointer]\n",
    "\n",
    "    pointer2 = pointer + 1\n",
    "    for i in range(pointer+1, len(nums)):\n",
    "        if nums[pointer] < nums[i] and (nums[i] - nums[pointer]) <= diff:\n",
    "            diff = nums[i] - nums[pointer]\n",
    "            pointer2 = i\n",
    "        \n",
    "    # Swap values of both the pointers\n",
    "    nums[pointer],nums[pointer2] = nums[pointer2],nums[pointer]\n",
    "    \n",
    "    # Now reverse the array which is at right side of the pointer1 and retuen the array\n",
    "    pointer += 1\n",
    "    for i in range(len(nums)-1,pointer-1,-1):\n",
    "        if pointer < i:\n",
    "            nums[i], nums[pointer] = nums[pointer], nums[i]\n",
    "            pointer += 1\n",
    "        else:\n",
    "            break\n",
    "    \n",
    "    \n",
    "    return nums\n",
    "\n",
    "# time comp: O(N)\n",
    "# space comp: O(1)"
   ]
  },
  {
   "cell_type": "code",
   "execution_count": 556,
   "id": "d182968a",
   "metadata": {},
   "outputs": [
    {
     "data": {
      "text/plain": [
       "[1, 5, 8, 5, 1, 3, 4, 6, 7]"
      ]
     },
     "execution_count": 556,
     "metadata": {},
     "output_type": "execute_result"
    }
   ],
   "source": [
    "nums = [1,5,8,4,7,6,5,3,1]\n",
    "nextPer(nums)"
   ]
  },
  {
   "cell_type": "code",
   "execution_count": null,
   "id": "155bf2c4",
   "metadata": {},
   "outputs": [],
   "source": []
  },
  {
   "cell_type": "markdown",
   "id": "baedc342",
   "metadata": {},
   "source": [
    "### 16. Count Inversions"
   ]
  },
  {
   "cell_type": "raw",
   "id": "f12666b0",
   "metadata": {},
   "source": [
    "For an array, inversion count indicates how far (or close) the array is from being sorted. If array is already sorted then the inversion count is 0. If an array is sorted in the reverse order then the inversion count is the maximum. \n",
    "Formally, two elements a[i] and a[j] form an inversion if a[i] > a[j] and i < j.\n",
    "\n",
    "Input: N = 5, arr[] = {2, 4, 1, 3, 5}\n",
    "Output: 3\n",
    "Explanation: The sequence 2, 4, 1, 3, 5 \n",
    "has three inversions (2, 1), (4, 1), (4, 3)."
   ]
  },
  {
   "cell_type": "code",
   "execution_count": 557,
   "id": "779dfa9e",
   "metadata": {},
   "outputs": [],
   "source": [
    "# Brute force solution\n",
    "def inversionCount(arr,n):\n",
    "    count = 0\n",
    "    for i in range(n):\n",
    "        for j in range(i+1,n):\n",
    "            if arr[i] <= arr[j]:\n",
    "                continue\n",
    "            count += 1\n",
    "    return count\n",
    "\n",
    "# Time comp: O(N^2)\n",
    "# space comp: O(1)"
   ]
  },
  {
   "cell_type": "code",
   "execution_count": 558,
   "id": "c2b8c0dc",
   "metadata": {},
   "outputs": [
    {
     "data": {
      "text/plain": [
       "3"
      ]
     },
     "execution_count": 558,
     "metadata": {},
     "output_type": "execute_result"
    }
   ],
   "source": [
    "arr = [2, 4, 1, 3, 5]\n",
    "n = 5\n",
    "inversionCount(arr,n)"
   ]
  },
  {
   "cell_type": "raw",
   "id": "159144f2",
   "metadata": {},
   "source": [
    "Come back after completing heap, (It will be done in [N*logN] time using heap)\n",
    "https://www.geeksforgeeks.org/counting-inversions/"
   ]
  },
  {
   "cell_type": "code",
   "execution_count": null,
   "id": "cfee7b46",
   "metadata": {},
   "outputs": [],
   "source": []
  },
  {
   "cell_type": "markdown",
   "id": "18e864d9",
   "metadata": {},
   "source": [
    "### 17. Best Time to Buy and Sell Stock"
   ]
  },
  {
   "cell_type": "raw",
   "id": "1853c403",
   "metadata": {},
   "source": [
    "You are given an array prices where prices[i] is the price of a given stock on the ith day.\n",
    "\n",
    "You want to maximize your profit by choosing a single day to buy one stock and choosing a different day in the future to sell that stock.\n",
    "\n",
    "Return the maximum profit you can achieve from this transaction. If you cannot achieve any profit, return 0.\n",
    "\n",
    "Input: prices = [7,1,5,3,6,4]\n",
    "Output: 5\n",
    "Explanation: Buy on day 2 (price = 1) and sell on day 5 (price = 6), profit = 6-1 = 5.\n",
    "Note that buying on day 2 and selling on day 1 is not allowed because you must buy before you sell."
   ]
  },
  {
   "cell_type": "code",
   "execution_count": 559,
   "id": "034579b6",
   "metadata": {},
   "outputs": [],
   "source": [
    "def maxProfit(prices):\n",
    "    profit = 0\n",
    "    n = len(prices)\n",
    "    for i in range(n):\n",
    "        for j in range(i+1,n):\n",
    "            if prices[j] <= prices[i]:\n",
    "                continue\n",
    "            x = prices[j] - prices[i]\n",
    "            profit = max(profit,x)\n",
    "    return profit\n",
    "\n",
    "# Time comp: O(N^2)\n",
    "# Space comp: O(1)"
   ]
  },
  {
   "cell_type": "code",
   "execution_count": 560,
   "id": "ef42a21c",
   "metadata": {},
   "outputs": [
    {
     "data": {
      "text/plain": [
       "5"
      ]
     },
     "execution_count": 560,
     "metadata": {},
     "output_type": "execute_result"
    }
   ],
   "source": [
    "prices = [7,1,5,3,6,4]\n",
    "maxProfit(prices)"
   ]
  },
  {
   "cell_type": "code",
   "execution_count": 582,
   "id": "c2e5f9e8",
   "metadata": {},
   "outputs": [],
   "source": [
    "# Optimal Solution\n",
    "\n",
    "def maxprofit(prices):\n",
    "    profit = 0\n",
    "    buy = prices[0]                     # Consider you are buying at day 0\n",
    "    for i in range(len(prices)):\n",
    "        \n",
    "        # If current price is less than buy price then update buy price\n",
    "        if prices[i] < buy:\n",
    "            buy = prices[i]\n",
    "        # if current price is greater than buy price then update the value of profit\n",
    "        elif prices[i] > buy:\n",
    "            temp = prices[i] - buy\n",
    "            profit = max(profit,temp)\n",
    "            \n",
    "        # Else just continue\n",
    "        else:\n",
    "            continue\n",
    "\n",
    "    return profit\n",
    "\n",
    "# Time Comp: O(N)\n",
    "# Space comp: O(1)"
   ]
  },
  {
   "cell_type": "code",
   "execution_count": 583,
   "id": "e4249638",
   "metadata": {},
   "outputs": [
    {
     "data": {
      "text/plain": [
       "5"
      ]
     },
     "execution_count": 583,
     "metadata": {},
     "output_type": "execute_result"
    }
   ],
   "source": [
    "prices = [7,1,5,3,6,4]\n",
    "#prices = [2,1,2,0,1]\n",
    "#prices = [2,1,2,1,0,1,2]\n",
    "maxprofit(prices)"
   ]
  },
  {
   "cell_type": "code",
   "execution_count": null,
   "id": "f92808d7",
   "metadata": {},
   "outputs": [],
   "source": []
  },
  {
   "cell_type": "markdown",
   "id": "6c3e2a6d",
   "metadata": {},
   "source": [
    "### 18. Count pairs with given sum"
   ]
  },
  {
   "cell_type": "raw",
   "id": "aaa90f08",
   "metadata": {},
   "source": [
    "Given an array of N integers, and an integer K, find the number of pairs of elements in the array whose sum is equal to K.\n",
    "\n",
    "Input:\n",
    "N = 4, K = 6\n",
    "arr[] = {1, 5, 7, 1}\n",
    "Output: 2\n",
    "\n",
    "Explanation: \n",
    "arr[0] + arr[1] = 1 + 5 = 6 \n",
    "and arr[1] + arr[3] = 5 + 1 = 6."
   ]
  },
  {
   "cell_type": "code",
   "execution_count": 1,
   "id": "07c45706",
   "metadata": {},
   "outputs": [],
   "source": [
    "# brute force\n",
    "\n",
    "def getPairsCount(arr, n, k):\n",
    "    count = 0\n",
    "    for i in range(n):\n",
    "        for j in range(i+1,n):            # Here i+1 is imp, otherwise it will pair up with its own\n",
    "            if arr[i] + arr[j] == k:\n",
    "                count += 1\n",
    "    return count\n",
    "\n",
    "    \n",
    "# Time comp: O(N^2)\n",
    "# Space Comp: O(1)"
   ]
  },
  {
   "cell_type": "code",
   "execution_count": 2,
   "id": "9566ea25",
   "metadata": {},
   "outputs": [
    {
     "data": {
      "text/plain": [
       "2"
      ]
     },
     "execution_count": 2,
     "metadata": {},
     "output_type": "execute_result"
    }
   ],
   "source": [
    "arr = [1, 5, 7, 1]\n",
    "n = 4\n",
    "k = 6\n",
    "getPairsCount(arr, n, k)"
   ]
  },
  {
   "cell_type": "code",
   "execution_count": 5,
   "id": "d7aa009f",
   "metadata": {},
   "outputs": [],
   "source": [
    "# by using unordered map\n",
    "# Unordered map of c++ is dictionary of python\n",
    "\n",
    "\n",
    "def getPairsCount2(arr, n, k):\n",
    "    unordered_map = {}\n",
    "    count = 0\n",
    "    \n",
    "    for i in range(n):\n",
    "        diff = k - arr[i]\n",
    "        if diff in unordered_map:\n",
    "            count += unordered_map[diff]\n",
    "        \n",
    "        if arr[i] in unordered_map:\n",
    "            unordered_map[arr[i]] += 1\n",
    "        else:\n",
    "            unordered_map[arr[i]] = 1\n",
    "    \n",
    "    return count\n",
    "\n",
    "# Time comp: O(N)\n",
    "# Space comp: O(1)"
   ]
  },
  {
   "cell_type": "code",
   "execution_count": 6,
   "id": "37617077",
   "metadata": {},
   "outputs": [
    {
     "data": {
      "text/plain": [
       "2"
      ]
     },
     "execution_count": 6,
     "metadata": {},
     "output_type": "execute_result"
    }
   ],
   "source": [
    "arr = [1, 5, 7, 1]\n",
    "n = 4\n",
    "k = 6\n",
    "getPairsCount2(arr, n, k)"
   ]
  },
  {
   "cell_type": "raw",
   "id": "1a3e9172",
   "metadata": {},
   "source": [
    "Python Dictionary time complexities:\n",
    "\n",
    "Operation    -->  Time Comp (Avg case)\n",
    "k in d       -->  O(1)\n",
    "copy         -->  O(n)\n",
    "get item     -->  O(1)\n",
    "set item     -->  O(1)\n",
    "delete item  -->  O(1)\n",
    "iteration    -->  O(n)\n",
    "\n",
    "In worst case all are O(n)"
   ]
  },
  {
   "cell_type": "code",
   "execution_count": null,
   "id": "e7bfeeb2",
   "metadata": {},
   "outputs": [],
   "source": []
  },
  {
   "cell_type": "markdown",
   "id": "b4c8e96f",
   "metadata": {},
   "source": [
    "### 19. find the intersection of 3 sorted array"
   ]
  },
  {
   "cell_type": "raw",
   "id": "5576a057",
   "metadata": {},
   "source": [
    "Given three arrays sorted in increasing order. Find the elements that are common in all three arrays.\n",
    "Note: can you take care of the duplicates without using any additional Data Structure?\n",
    "Input:\n",
    "n1 = 6; A = {1, 5, 10, 20, 40, 80}\n",
    "n2 = 5; B = {6, 7, 20, 80, 100}\n",
    "n3 = 8; C = {3, 4, 15, 20, 30, 70, 80, 120}\n",
    "Output: 20 80\n",
    "Explanation: 20 and 80 are the only\n",
    "common elements in A, B and C."
   ]
  },
  {
   "cell_type": "code",
   "execution_count": 20,
   "id": "3dd81535",
   "metadata": {},
   "outputs": [],
   "source": [
    "# By using python sets\n",
    "\n",
    "def commonElements(A, B, C, n1, n2, n3):\n",
    "    A = set(A).intersection(set(B))\n",
    "    return set(A).intersection(set(C))\n",
    "\n",
    "# Time comp: O(min(n1,n2) + min(n3,len(A)))\n",
    "# Space comp: O(1)"
   ]
  },
  {
   "cell_type": "code",
   "execution_count": 21,
   "id": "07ba444d",
   "metadata": {},
   "outputs": [
    {
     "data": {
      "text/plain": [
       "{20, 80}"
      ]
     },
     "execution_count": 21,
     "metadata": {},
     "output_type": "execute_result"
    }
   ],
   "source": [
    "A = [1, 5, 10, 20, 40, 80, 80]\n",
    "B = [6, 7, 20, 80, 100]\n",
    "C = [3, 4, 15, 20, 30, 70, 80, 120]\n",
    "commonElements(A, B, C, len(A), len(B), len(C))"
   ]
  },
  {
   "cell_type": "code",
   "execution_count": 52,
   "id": "45ead457",
   "metadata": {},
   "outputs": [],
   "source": [
    "\"\"\"\n",
    "Logic:\n",
    "-> pick the array with min length and check each element using for loop\n",
    "-> take two pointers which will point other two arrays\n",
    "-> in side the for loop, check whether other pointers are pointing lower values than current main value of not?\n",
    "-> If pointer's values are lower then increment pointer until condition becomes false\n",
    "-> Now check whenther all three values are same or not? If yes then put that value into the result array\n",
    "\"\"\"\n",
    "\n",
    "def commonElements2(A, B, C, n1, n2, n3):\n",
    "    result = []\n",
    "    \n",
    "    # If array A is smallest\n",
    "    if n1<n2 and n1<n3:\n",
    "        p1 = p2 = 0\n",
    "        for i in range(n1):\n",
    "            \n",
    "            # To remove duplicates from consideration\n",
    "            if i != 0 and  A[i] == A[i-1]:\n",
    "                continue\n",
    "                \n",
    "            # until B pointing to lower value\n",
    "            while(B[p1] < A[i]):\n",
    "                \n",
    "                # To take care of index out of bound error\n",
    "                if p1 == n2-1:\n",
    "                    break\n",
    "                p1 += 1\n",
    "                \n",
    "            # until C pointing to lower value\n",
    "            while(C[p2] < A[i]):\n",
    "                if p2 == n3-1:\n",
    "                    break\n",
    "                p2 += 1\n",
    "                \n",
    "            # If all three are same then put that value into the result\n",
    "            if A[i] == B[p1] and A[i] == C[p2]:\n",
    "                result.append(A[i])\n",
    "    \n",
    "    # If array B is smallest\n",
    "    elif n2<n1 and n2<n3:\n",
    "        p1 = p2 = 0\n",
    "        for i in range(n2):            \n",
    "            if i != 0 and  B[i] == B[i-1]:\n",
    "                continue\n",
    "\n",
    "            while(A[p1] < B[i]):\n",
    "                if p1 == n1-1:\n",
    "                    break\n",
    "                p1 += 1\n",
    "                \n",
    "            while(C[p2] < B[i]):\n",
    "                if p2 == n3-1:\n",
    "                    break\n",
    "                p2 += 1\n",
    "            if B[i] == A[p1] and B[i] == C[p2]:\n",
    "                result.append(B[i])\n",
    "    \n",
    "    # If array C is smallest or all or same\n",
    "    else:\n",
    "        p1 = p2 = 0\n",
    "        for i in range(n3):\n",
    "            if i != 0 and C[i] == C[i-1]:\n",
    "                continue\n",
    "            while(B[p1] < C[i]):\n",
    "                if p1 == n2-1:\n",
    "                    break\n",
    "                p1 += 1\n",
    "            while(A[p2] < C[i]):\n",
    "                if p2 == n1-1:\n",
    "                    break\n",
    "                p2 += 1\n",
    "            if C[i] == B[p1] and C[i] == A[p2]:\n",
    "                result.append(C[i])\n",
    "    return result\n",
    "\n",
    "# Time comp: (O(n1+n2+n3))\n",
    "# Space comp: (1)"
   ]
  },
  {
   "cell_type": "code",
   "execution_count": 53,
   "id": "78ea650b",
   "metadata": {},
   "outputs": [
    {
     "data": {
      "text/plain": [
       "[3]"
      ]
     },
     "execution_count": 53,
     "metadata": {},
     "output_type": "execute_result"
    }
   ],
   "source": [
    "A = [1, 5, 10, 20, 40, 80, 80]\n",
    "B = [6, 7, 20, 80, 100]\n",
    "C = [3, 4, 15, 20, 30, 70, 80, 120]\n",
    "A = [3,3,3]\n",
    "B = [3,3,3]\n",
    "C = [3,3,3]\n",
    "commonElements2(A, B, C, len(A), len(B), len(C))"
   ]
  },
  {
   "cell_type": "code",
   "execution_count": 59,
   "id": "035e2be6",
   "metadata": {},
   "outputs": [],
   "source": [
    "# Same approach but simple code\n",
    "\n",
    "def commonElements3(A, B, C, n1, n2, n3):\n",
    "    result = []\n",
    "    i = j = k = 0\n",
    "    while i<n1 and j<n2 and k<n3:\n",
    "        if A[i] == A[i-1] and i != 0:\n",
    "            continue\n",
    "        if B[j] == B[j-1] and j != 0:\n",
    "            continue\n",
    "        if C[k] == C[k-1] and k != 0:\n",
    "            continue\n",
    "            \n",
    "        if A[i] == B[j] and B[j] == C[k]:\n",
    "            result.append(A[i])\n",
    "            i += 1\n",
    "            j += 1\n",
    "            k += 1\n",
    "        elif A[i] < B[j]:\n",
    "            i=i+1\n",
    "        elif B[j] < C[k]:\n",
    "            j=j+1\n",
    "        else:\n",
    "            k=k+1\n",
    "    return result\n",
    "\n",
    "# Code is not working right now due to some issue\n",
    "# If you have time then check it sometime\n",
    "# It is giving time Limit Exceeded Error"
   ]
  },
  {
   "cell_type": "code",
   "execution_count": 60,
   "id": "5f5cc9b2",
   "metadata": {},
   "outputs": [
    {
     "ename": "KeyboardInterrupt",
     "evalue": "",
     "output_type": "error",
     "traceback": [
      "\u001b[0;31m---------------------------------------------------------------------------\u001b[0m",
      "\u001b[0;31mKeyboardInterrupt\u001b[0m                         Traceback (most recent call last)",
      "Input \u001b[0;32mIn [60]\u001b[0m, in \u001b[0;36m<cell line: 7>\u001b[0;34m()\u001b[0m\n\u001b[1;32m      5\u001b[0m B \u001b[38;5;241m=\u001b[39m [\u001b[38;5;241m3\u001b[39m,\u001b[38;5;241m3\u001b[39m,\u001b[38;5;241m3\u001b[39m]\n\u001b[1;32m      6\u001b[0m C \u001b[38;5;241m=\u001b[39m [\u001b[38;5;241m3\u001b[39m,\u001b[38;5;241m3\u001b[39m,\u001b[38;5;241m3\u001b[39m]\n\u001b[0;32m----> 7\u001b[0m \u001b[43mcommonElements3\u001b[49m\u001b[43m(\u001b[49m\u001b[43mA\u001b[49m\u001b[43m,\u001b[49m\u001b[43m \u001b[49m\u001b[43mB\u001b[49m\u001b[43m,\u001b[49m\u001b[43m \u001b[49m\u001b[43mC\u001b[49m\u001b[43m,\u001b[49m\u001b[43m \u001b[49m\u001b[38;5;28;43mlen\u001b[39;49m\u001b[43m(\u001b[49m\u001b[43mA\u001b[49m\u001b[43m)\u001b[49m\u001b[43m,\u001b[49m\u001b[43m \u001b[49m\u001b[38;5;28;43mlen\u001b[39;49m\u001b[43m(\u001b[49m\u001b[43mB\u001b[49m\u001b[43m)\u001b[49m\u001b[43m,\u001b[49m\u001b[43m \u001b[49m\u001b[38;5;28;43mlen\u001b[39;49m\u001b[43m(\u001b[49m\u001b[43mC\u001b[49m\u001b[43m)\u001b[49m\u001b[43m)\u001b[49m\n",
      "Input \u001b[0;32mIn [59]\u001b[0m, in \u001b[0;36mcommonElements3\u001b[0;34m(A, B, C, n1, n2, n3)\u001b[0m\n\u001b[1;32m      6\u001b[0m \u001b[38;5;28;01mwhile\u001b[39;00m i\u001b[38;5;241m<\u001b[39mn1 \u001b[38;5;129;01mand\u001b[39;00m j\u001b[38;5;241m<\u001b[39mn2 \u001b[38;5;129;01mand\u001b[39;00m k\u001b[38;5;241m<\u001b[39mn3:\n\u001b[1;32m      7\u001b[0m     \u001b[38;5;28;01mif\u001b[39;00m A[i] \u001b[38;5;241m==\u001b[39m A[i\u001b[38;5;241m-\u001b[39m\u001b[38;5;241m1\u001b[39m] \u001b[38;5;129;01mand\u001b[39;00m i \u001b[38;5;241m!=\u001b[39m \u001b[38;5;241m0\u001b[39m:\n\u001b[0;32m----> 8\u001b[0m         \u001b[38;5;28;01mcontinue\u001b[39;00m\n\u001b[1;32m      9\u001b[0m     \u001b[38;5;28;01mif\u001b[39;00m B[j] \u001b[38;5;241m==\u001b[39m B[j\u001b[38;5;241m-\u001b[39m\u001b[38;5;241m1\u001b[39m] \u001b[38;5;129;01mand\u001b[39;00m j \u001b[38;5;241m!=\u001b[39m \u001b[38;5;241m0\u001b[39m:\n\u001b[1;32m     10\u001b[0m         \u001b[38;5;28;01mcontinue\u001b[39;00m\n",
      "\u001b[0;31mKeyboardInterrupt\u001b[0m: "
     ]
    }
   ],
   "source": [
    "A = [1, 5, 10, 20, 40, 80, 80]\n",
    "B = [6, 7, 20, 80, 100]\n",
    "C = [3, 4, 15, 20, 30, 70, 80, 120]\n",
    "A = [3,3,3]\n",
    "B = [3,3,3]\n",
    "C = [3,3,3]\n",
    "commonElements3(A, B, C, len(A), len(B), len(C))"
   ]
  },
  {
   "cell_type": "code",
   "execution_count": null,
   "id": "523aec6d",
   "metadata": {},
   "outputs": [],
   "source": []
  },
  {
   "cell_type": "markdown",
   "id": "39d1eb64",
   "metadata": {},
   "source": [
    "### 20. Alternate positive and negative numbers in O(1) space"
   ]
  },
  {
   "cell_type": "raw",
   "id": "3abee3fc",
   "metadata": {},
   "source": [
    "You are given a 0-indexed integer array nums of even length consisting of an equal number of positive and negative integers.\n",
    "Space comp should be O(1)\n",
    "You should rearrange the elements of nums such that the modified array follows the given conditions:\n",
    "\n",
    "1. Every consecutive pair of integers have opposite signs.\n",
    "2. For all integers with the same sign, the order in which they were present in nums is preserved.\n",
    "3. The rearranged array begins with a positive integer.\n",
    "\n",
    "Input: nums = [3,1,-2,-5,2,-4]\n",
    "Output: [3,-2,1,-5,2,-4]\n",
    "The positive integers in nums are [3,1,2]. The negative integers are [-2,-5,-4].\n",
    "The only possible way to rearrange them such that they satisfy all conditions is [3,-2,1,-5,2,-4]."
   ]
  },
  {
   "cell_type": "code",
   "execution_count": 77,
   "id": "8397561e",
   "metadata": {},
   "outputs": [],
   "source": [
    "def rearrange(arr, l):\n",
    "    p = n = i = 0\n",
    "    \n",
    "    # By this p  will point first positive int and n will point first negative int\n",
    "    if arr[0] >= 0:\n",
    "        while arr[n] >= 0:\n",
    "            n += 1\n",
    "    else:\n",
    "        while arr[p] < 0:\n",
    "            p += 1\n",
    "\n",
    "    while i < l:\n",
    "\n",
    "        # Here we know even index should have +ve value and odd index should have -ve value\n",
    "        if i%2 == 0:\n",
    "            \n",
    "            # If its positve then just relocate positive pointer to next positive value\n",
    "            if arr[i] >= 0:\n",
    "                p += 1\n",
    "                while p<l and arr[p] < 0:\n",
    "                    p+=1\n",
    "            else:\n",
    "                \n",
    "                # This will work if order not need to be preserve\n",
    "                # arr[n],arr[p] = arr[p],arr[n]\n",
    "                # not work for [28,-41,22,-8,-37,46,35,-9,18,-6,19,-26,-37,-10,-9,15,14,31]\n",
    "                \n",
    "                # right swap each value\n",
    "                temp = arr[p]\n",
    "                del arr[p]\n",
    "                arr.insert(i,temp)\n",
    "                \n",
    "                # again relocate positive and negative pointers\n",
    "                p = n = i+1\n",
    "                if arr[p] >= 0:\n",
    "                    while n<l and arr[n] >= 0:\n",
    "                        n += 1\n",
    "                else:\n",
    "                    while p<l and arr[p] < 0:\n",
    "                        p += 1\n",
    "        else:\n",
    "            if arr[i] < 0:\n",
    "                n += 1\n",
    "                while n<l and arr[n] >= 0:\n",
    "                    n += 1\n",
    "            else:\n",
    "                \n",
    "                #arr[n],arr[p] = arr[p],arr[n]\n",
    "                \n",
    "                temp = arr[n]\n",
    "                del arr[n]\n",
    "                arr.insert(i,temp)\n",
    "                \n",
    "                p = n = i+1\n",
    "                if arr[p] >= 0:\n",
    "                    while n<l and arr[n] >= 0:\n",
    "                        n += 1\n",
    "                else:\n",
    "                    while p<l and arr[p] < 0:\n",
    "                        p += 1\n",
    "        i = i+1\n",
    "\n",
    "    return arr\n",
    "\n",
    "# If order need not to be preseve:\n",
    "# Time: O(N)\n",
    "\n",
    "# If order need to preserve:\n",
    "# time: O(N^2)\n",
    "\n",
    "# Space: O(1)"
   ]
  },
  {
   "cell_type": "code",
   "execution_count": 78,
   "id": "bc498aaa",
   "metadata": {},
   "outputs": [
    {
     "data": {
      "text/plain": [
       "[28, -41, 22, -8, 46, -37, 35, -9, 18, -6, 19, -26, 15, -37, 14, -10, 31, -9]"
      ]
     },
     "execution_count": 78,
     "metadata": {},
     "output_type": "execute_result"
    }
   ],
   "source": [
    "arr = [9, 4, -2, -1, 5, 0, -5, -3, 2]\n",
    "arr = [-1,1]\n",
    "arr = [28,-41,22,-8,-37,46,35,-9,18,-6,19,-26,-37,-10,-9,15,14,31]\n",
    "rearrange(arr, len(arr))"
   ]
  },
  {
   "cell_type": "code",
   "execution_count": 81,
   "id": "cff57e8e",
   "metadata": {},
   "outputs": [],
   "source": [
    "def rearrange2(arr, l):\n",
    "    res = [0 for i in range(l)]\n",
    "    p = 0\n",
    "    n = 1\n",
    "    \n",
    "    for i in arr:\n",
    "        if i >= 0:\n",
    "            res[p] = i\n",
    "            p = p + 2\n",
    "        else:\n",
    "            res[n] = i\n",
    "            n = n + 2\n",
    "    return res\n",
    "\n",
    "# Time comp: O(n)\n",
    "# Space comp: O(n)"
   ]
  },
  {
   "cell_type": "code",
   "execution_count": 82,
   "id": "55bba08c",
   "metadata": {},
   "outputs": [
    {
     "data": {
      "text/plain": [
       "[28, -41, 22, -8, 46, -37, 35, -9, 18, -6, 19, -26, 15, -37, 14, -10, 31, -9]"
      ]
     },
     "execution_count": 82,
     "metadata": {},
     "output_type": "execute_result"
    }
   ],
   "source": [
    "arr = [28,-41,22,-8,-37,46,35,-9,18,-6,19,-26,-37,-10,-9,15,14,31]\n",
    "rearrange2(arr, len(arr))"
   ]
  },
  {
   "cell_type": "code",
   "execution_count": 97,
   "id": "2bd68edc",
   "metadata": {},
   "outputs": [],
   "source": [
    "# If number of positive and number of negative is not same in input array\n",
    "\n",
    "def rearrange3(arr, l):\n",
    "    # code here\n",
    "    res = [0 for i in range(l)]\n",
    "    p = n = 0\n",
    "    if arr[0] >= 0:\n",
    "        while arr[n] >= 0:\n",
    "            n = n+1\n",
    "    else:\n",
    "        while arr[p] < 0:\n",
    "            p = p+1\n",
    "\n",
    "    for i in range(l):\n",
    "        if i%2 == 0 and p != l:\n",
    "            res[i] = arr[p]\n",
    "            p += 1\n",
    "            while p<l and arr[p] < 0:\n",
    "                p+=1\n",
    "        elif i%2 != 0 and n != l:\n",
    "            res[i] = arr[n]\n",
    "            n += 1\n",
    "            while n<l and arr[n] >= 0:\n",
    "                n += 1\n",
    "        else:\n",
    "            if n == l:\n",
    "                while p<l and i<l:\n",
    "                    res[i]=arr[p]\n",
    "                    i = i+1\n",
    "                    p = p+1\n",
    "                break\n",
    "            if p == l:\n",
    "                while n<l and i<l:\n",
    "                    res[i]=arr[n]\n",
    "                    i = i+1\n",
    "                    n = n+1\n",
    "                break\n",
    "    return res\n",
    "\n",
    "# Time comp: O(N)\n",
    "# Space comp : O(N)"
   ]
  },
  {
   "cell_type": "code",
   "execution_count": 98,
   "id": "24daadb4",
   "metadata": {},
   "outputs": [
    {
     "data": {
      "text/plain": [
       "[9, -2, 4, -1, 5, -5, 0, -3, 2]"
      ]
     },
     "execution_count": 98,
     "metadata": {},
     "output_type": "execute_result"
    }
   ],
   "source": [
    "arr = [-5, -2, 5, 2, 4, 7, 1, 8, 0, -8]\n",
    "arr = [9, 4, -2, -1, 5, 0, -5, -3, 2]\n",
    "rearrange3(arr,len(arr))"
   ]
  },
  {
   "cell_type": "code",
   "execution_count": null,
   "id": "e767fe84",
   "metadata": {},
   "outputs": [],
   "source": []
  },
  {
   "cell_type": "markdown",
   "id": "599c5596",
   "metadata": {},
   "source": [
    "### 21. Subarray with 0 sum"
   ]
  },
  {
   "cell_type": "raw",
   "id": "d71d195d",
   "metadata": {},
   "source": [
    "Given an array of positive and negative numbers. Find if there is a subarray (of size at-least one) with 0 sum.\n",
    "\n",
    "Input:\n",
    "5\n",
    "4 2 -3 1 6\n",
    "\n",
    "Output: \n",
    "Yes\n",
    "\n",
    "Explanation: \n",
    "2, -3, 1 is the subarray \n",
    "with sum 0."
   ]
  },
  {
   "cell_type": "code",
   "execution_count": 121,
   "id": "e8a4bb2e",
   "metadata": {},
   "outputs": [],
   "source": [
    "# Brute force method can be one by using Time comp:O(N^2) and Space Comp:O(1)\n",
    "\n",
    "# Optimize method\n",
    "\n",
    "def subArrayExists(arr,n):\n",
    "    unordered_map = {}\n",
    "    sum_so_far = 0\n",
    "    \n",
    "    for i in arr:\n",
    "        sum_so_far = sum_so_far + i\n",
    "        if i == 0 or sum_so_far == 0 or sum_so_far in unordered_map:\n",
    "            return 1\n",
    "        unordered_map[sum_so_far] = i\n",
    "    return 0\n",
    "\n",
    "# Time Comp: O(N)\n",
    "# Space comp: O(N)"
   ]
  },
  {
   "cell_type": "code",
   "execution_count": 122,
   "id": "764e3611",
   "metadata": {},
   "outputs": [
    {
     "data": {
      "text/plain": [
       "1"
      ]
     },
     "execution_count": 122,
     "metadata": {},
     "output_type": "execute_result"
    }
   ],
   "source": [
    "arr = [4,2,-3,1,6]\n",
    "arr = [1, 2, 3, 4, 5]\n",
    "arr = [10,-10]\n",
    "subArrayExists(arr,len(arr))"
   ]
  },
  {
   "cell_type": "raw",
   "id": "91bff56e",
   "metadata": {},
   "source": [
    "Logic:\n",
    "\n",
    "arr[] = {1, 4, -2, -2, 5, -4, 3}\n",
    "\n",
    "If we consider all prefix sums, we can\n",
    "notice that there is a subarray with 0\n",
    "sum when :\n",
    "1) Either a prefix sum repeats or\n",
    "2) Or prefix sum becomes 0.\n",
    "\n",
    "Prefix sums for above array are:\n",
    "1, 5, 3, 1, 6, 2, 5\n",
    "\n",
    "Since prefix sum 1 repeats, we have a subarray\n",
    "with 0 sum."
   ]
  },
  {
   "cell_type": "code",
   "execution_count": null,
   "id": "a4be360e",
   "metadata": {},
   "outputs": [],
   "source": []
  },
  {
   "cell_type": "markdown",
   "id": "d11916fd",
   "metadata": {},
   "source": [
    "### 22. Factorials of large numbers"
   ]
  },
  {
   "cell_type": "raw",
   "id": "bc239423",
   "metadata": {},
   "source": [
    "Input: N = 5\n",
    "Output: 120\n",
    "Explanation : 5! = 1*2*3*4*5 = 120"
   ]
  },
  {
   "cell_type": "code",
   "execution_count": 137,
   "id": "7881ff60",
   "metadata": {},
   "outputs": [],
   "source": [
    "def factorial(N):\n",
    "    res = 1\n",
    "    while N>0:\n",
    "        res = res*N\n",
    "        N = N-1\n",
    "    return res\n",
    "\n",
    "# Time comp: O(N)\n",
    "# Space comp: O(1)"
   ]
  },
  {
   "cell_type": "code",
   "execution_count": 138,
   "id": "c7eaf4f2",
   "metadata": {},
   "outputs": [
    {
     "data": {
      "text/plain": [
       "120"
      ]
     },
     "execution_count": 138,
     "metadata": {},
     "output_type": "execute_result"
    }
   ],
   "source": [
    "N = 5\n",
    "factorial(N)"
   ]
  },
  {
   "cell_type": "code",
   "execution_count": null,
   "id": "263bded4",
   "metadata": {},
   "outputs": [],
   "source": []
  },
  {
   "cell_type": "markdown",
   "id": "129add50",
   "metadata": {},
   "source": [
    "### 23. Maximum Product Subarray"
   ]
  },
  {
   "cell_type": "raw",
   "id": "08746302",
   "metadata": {},
   "source": [
    "Given an array Arr[] that contains N integers (may be positive, negative or zero). Find the product of the maximum product subarray.\n",
    "\n",
    "Input:\n",
    "N = 5\n",
    "Arr[] = {6, -3, -10, 0, 2}\n",
    "Output: 180\n",
    "Explanation: Subarray with maximum product\n",
    "is [6, -3, -10] which gives product as 180."
   ]
  },
  {
   "cell_type": "code",
   "execution_count": 147,
   "id": "6c6b3e7e",
   "metadata": {},
   "outputs": [],
   "source": [
    "# brute force approach\n",
    "# Find all the sub arrays and find product of them and get max of it\n",
    "\n",
    "def maxProduct(arr, n):\n",
    "    prod = max(arr)        # For third input, it is imp\n",
    "    \n",
    "    for i in range(n):\n",
    "        if arr[i] == 0:\n",
    "            continue\n",
    "        \n",
    "        temp = arr[i]\n",
    "        for j in range(i+1,n):\n",
    "            if arr[j] == 0:\n",
    "                break\n",
    "            \n",
    "            temp = temp*arr[j]\n",
    "            if temp > prod:\n",
    "                prod = temp\n",
    "    \n",
    "    return prod\n",
    "\n",
    "# time comp: O(N^2)\n",
    "# space comp: O(1)"
   ]
  },
  {
   "cell_type": "code",
   "execution_count": 148,
   "id": "9ba3fa41",
   "metadata": {},
   "outputs": [
    {
     "data": {
      "text/plain": [
       "7"
      ]
     },
     "execution_count": 148,
     "metadata": {},
     "output_type": "execute_result"
    }
   ],
   "source": [
    "arr = [6, -3, -10, 0, 2]\n",
    "arr = [2, 3, 4, 5, -1, 0]\n",
    "arr = [0, 1, -5, 7]\n",
    "maxProduct(arr, len(arr))"
   ]
  },
  {
   "cell_type": "code",
   "execution_count": 161,
   "id": "d88ab582",
   "metadata": {},
   "outputs": [],
   "source": [
    "# similar to max sum subarray solution based on kadane's algo\n",
    "# https://www.youtube.com/watch?v=tHNsZHXnYd4&list=PLDdcY4olLQk3zG-972eMoDJHLIz3FiGA6&index=28\n",
    "\n",
    "def maxProduct2(arr, n):\n",
    "    mx = arr[0]\n",
    "    mn = arr[0]\n",
    "    ans = arr[0]\n",
    "    \n",
    "    for i in range(1,n):\n",
    "        if arr[i] < 0:\n",
    "            mx, mn = mn, mx\n",
    "\n",
    "        mx = max(arr[i], arr[i] * mx)\n",
    "        mn = min(arr[i], arr[i] * mn)\n",
    "        ans = max(ans,mx)\n",
    "    return ans\n",
    "\n",
    "# Time Comp: O(N)\n",
    "# Space Comp: O(1)"
   ]
  },
  {
   "cell_type": "code",
   "execution_count": 162,
   "id": "fe4bec90",
   "metadata": {},
   "outputs": [
    {
     "data": {
      "text/plain": [
       "180"
      ]
     },
     "execution_count": 162,
     "metadata": {},
     "output_type": "execute_result"
    }
   ],
   "source": [
    "arr = [6, -3, -10, 0, 2]\n",
    "#arr = [2, 3, 4, 5, -1, 0]\n",
    "#arr = [0, 1, -5, 7]\n",
    "maxProduct2(arr, len(arr))"
   ]
  },
  {
   "cell_type": "code",
   "execution_count": null,
   "id": "d5da6f75",
   "metadata": {},
   "outputs": [],
   "source": []
  },
  {
   "cell_type": "markdown",
   "id": "4c995c5e",
   "metadata": {},
   "source": [
    "### 24. Longest consecutive subsequence"
   ]
  },
  {
   "cell_type": "raw",
   "id": "cd796b51",
   "metadata": {},
   "source": [
    "Given an array of positive integers. Find the length of the longest sub-sequence such that elements in the subsequence are consecutive integers, the consecutive numbers can be in any order.\n",
    "\n",
    "Input:\n",
    "N = 7\n",
    "a[] = {2,6,1,9,4,5,3}\n",
    "Output:\n",
    "6\n",
    "Explanation:\n",
    "The consecutive numbers here\n",
    "are 1, 2, 3, 4, 5, 6. These 6 \n",
    "numbers form the longest consecutive\n",
    "subsquence."
   ]
  },
  {
   "cell_type": "code",
   "execution_count": 177,
   "id": "e2bd1c10",
   "metadata": {},
   "outputs": [],
   "source": [
    "def findLongestConseqSubseq(arr, N):\n",
    "    arr.sort()\n",
    "    \n",
    "    ans = 0\n",
    "    if N > 0:\n",
    "        ans = 1                   # to handle case where no sequence available\n",
    "    \n",
    "    temp = 1\n",
    "    for i in range(1,N):\n",
    "        if arr[i] == arr[i-1]:    # To handle duplicate values\n",
    "            continue\n",
    "        if arr[i]-arr[i-1] == 1:\n",
    "            temp += 1\n",
    "            ans = max(ans,temp)\n",
    "        else:\n",
    "            temp = 1\n",
    "    \n",
    "    return ans\n",
    "\n",
    "# Time Comp: O(N logN)\n",
    "# Space Comp: O(1)"
   ]
  },
  {
   "cell_type": "code",
   "execution_count": 178,
   "id": "607d1c64",
   "metadata": {},
   "outputs": [
    {
     "data": {
      "text/plain": [
       "9"
      ]
     },
     "execution_count": 178,
     "metadata": {},
     "output_type": "execute_result"
    }
   ],
   "source": [
    "arr = [2,6,1,9,4,5,3]\n",
    "#arr = [1,9,3,10,4,20,2]\n",
    "arr = [1,2,3,4,5]\n",
    "arr = [1,10]\n",
    "arr = [6, 6, 2, 3, 1, 4, 1, 5, 6, 2, 8, 7, 4, 2, 1, 3, 4, 5, 9, 6]\n",
    "findLongestConseqSubseq(arr, len(arr))"
   ]
  },
  {
   "cell_type": "code",
   "execution_count": 185,
   "id": "62b62efe",
   "metadata": {},
   "outputs": [],
   "source": [
    "# By using bit map\n",
    "\n",
    "def findLongestConseqSubseq2(arr, N):\n",
    "    mx = max(arr)\n",
    "    bit_map = [0 for i in range(mx+1)]\n",
    "    \n",
    "    for i in arr:\n",
    "        bit_map[i] = 1\n",
    "        \n",
    "    ans = 0\n",
    "    if N > 0:\n",
    "        ans = 1\n",
    "        \n",
    "    temp = 0\n",
    "    for i in range(len(bit_map)):\n",
    "        if bit_map[i] == 1:\n",
    "            temp += 1\n",
    "            ans = max(ans,temp)\n",
    "        else:\n",
    "            temp = 0\n",
    "    return ans\n",
    "\n",
    "# Time Comp: O(N)\n",
    "# Space Comp: O(k) where k is max element"
   ]
  },
  {
   "cell_type": "code",
   "execution_count": 191,
   "id": "b0fa33d1",
   "metadata": {},
   "outputs": [
    {
     "data": {
      "text/plain": [
       "6"
      ]
     },
     "execution_count": 191,
     "metadata": {},
     "output_type": "execute_result"
    }
   ],
   "source": [
    "arr = [2,6,1,9,4,5,3]\n",
    "#arr = [1,9,3,10,4,20,2]\n",
    "#arr = [1,2,3,4,5]\n",
    "#arr = [1,10]\n",
    "#arr = [6, 6, 2, 3, 1, 4, 1, 5, 6, 2, 8, 7, 4, 2, 1, 3, 4, 5, 9, 6]\n",
    "findLongestConseqSubseq2(arr, len(arr))"
   ]
  },
  {
   "cell_type": "code",
   "execution_count": 201,
   "id": "52bbe6cc",
   "metadata": {},
   "outputs": [],
   "source": [
    "# By using unordered map\n",
    "# Check the dry run given here: https://www.geeksforgeeks.org/longest-consecutive-subsequence/\n",
    "\n",
    "def findLongestConseqSubseq3(arr, N):\n",
    "    unordered_map = {}\n",
    "    \n",
    "    for i in arr:\n",
    "        unordered_map[i] = 1\n",
    "        \n",
    "    ans = 0\n",
    "    for i in arr:\n",
    "        if i-1 not in unordered_map:    # If i-1 is not in map it means that it can be the start of the sequence\n",
    "            j = i\n",
    "            while(j in unordered_map):  # So start the new sequence and check how long it is?\n",
    "                j += 1\n",
    "            ans = max(ans,j-i)          # Ans keep longest such sequence  \n",
    "    return ans\n",
    "\n",
    "# Time Comp: O(N)\n",
    "# Space Comp: O(N)"
   ]
  },
  {
   "cell_type": "code",
   "execution_count": 202,
   "id": "b84e18e0",
   "metadata": {},
   "outputs": [
    {
     "data": {
      "text/plain": [
       "9"
      ]
     },
     "execution_count": 202,
     "metadata": {},
     "output_type": "execute_result"
    }
   ],
   "source": [
    "arr = [2,6,1,9,4,5,3]\n",
    "arr = [1,9,3,10,4,20,2]\n",
    "arr = [1,2,3,4,5]\n",
    "arr = [1,10]\n",
    "arr = [6, 6, 2, 3, 1, 4, 1, 5, 6, 2, 8, 7, 4, 2, 1, 3, 4, 5, 9, 6]\n",
    "findLongestConseqSubseq3(arr, len(arr))"
   ]
  },
  {
   "cell_type": "markdown",
   "id": "af66e260",
   "metadata": {},
   "source": [
    "### 25. Given an array of size n and a number k, find all elements that appear more than n/k times"
   ]
  },
  {
   "cell_type": "raw",
   "id": "9816ec40",
   "metadata": {},
   "source": [
    "Given an array of size n, find all elements in array that appear more than n/k times. For example, if the input arrays is {3, 1, 2, 2, 1, 2, 3, 3} and k is 4, then the output should be [2, 3].\n",
    "\n",
    "(Brute Force solution can be in O(N^2) time without using any extra space.)"
   ]
  },
  {
   "cell_type": "code",
   "execution_count": 145,
   "id": "dc7ae63d",
   "metadata": {},
   "outputs": [],
   "source": [
    "def findEle(arr,n,k):\n",
    "    k = n // k\n",
    "    unordered_map = {}\n",
    "    output = []\n",
    "    for i in arr:\n",
    "        if i in unordered_map:\n",
    "            unordered_map[i] += 1\n",
    "        else:\n",
    "            unordered_map[i] = 1\n",
    "    \n",
    "    for i in unordered_map:\n",
    "        if unordered_map[i] < k:\n",
    "            continue\n",
    "        output.append(i)\n",
    "    return output\n",
    "\n",
    "# Time Comp: O(N)\n",
    "# Space Comp: O(Unique numbers in an array)"
   ]
  },
  {
   "cell_type": "code",
   "execution_count": 146,
   "id": "ede13d2c",
   "metadata": {},
   "outputs": [
    {
     "data": {
      "text/plain": [
       "[1, 2]"
      ]
     },
     "execution_count": 146,
     "metadata": {},
     "output_type": "execute_result"
    }
   ],
   "source": [
    "arr = [ 1, 1, 2, 2, 3, 5, 4, 2, 2, 3, 1, 1, 1 ]\n",
    "k = 4\n",
    "findEle(arr,len(arr),k)"
   ]
  },
  {
   "cell_type": "code",
   "execution_count": null,
   "id": "a363bcaa",
   "metadata": {},
   "outputs": [],
   "source": []
  },
  {
   "cell_type": "markdown",
   "id": "7933ceab",
   "metadata": {},
   "source": [
    "### 26."
   ]
  },
  {
   "cell_type": "code",
   "execution_count": null,
   "id": "33aa2bef",
   "metadata": {},
   "outputs": [],
   "source": []
  },
  {
   "cell_type": "markdown",
   "id": "1af40513",
   "metadata": {},
   "source": [
    "### 27. Array Subset of another array"
   ]
  },
  {
   "cell_type": "raw",
   "id": "f4fafaad",
   "metadata": {},
   "source": [
    "Given two arrays: a1[0..n-1] of size n and a2[0..m-1] of size m. Task is to check whether a2[] is a subset of a1[] or not. Both the arrays can be sorted or unsorted. It may be assumed that elements in both array are distinct.\n",
    "\n",
    "Input:\n",
    "a1[] = {11, 1, 13, 21, 3, 7}\n",
    "a2[] = {11, 3, 7, 1}\n",
    "Output:\n",
    "Yes\n",
    "Explanation:\n",
    "a2[] is a subset of a1[]"
   ]
  },
  {
   "cell_type": "code",
   "execution_count": 155,
   "id": "5cc48946",
   "metadata": {},
   "outputs": [],
   "source": [
    "def isSubset( a1, a2, n, m):\n",
    "    unordered_map = {}\n",
    "    if n<m:\n",
    "        for i in a1:\n",
    "            if i in unordered_map:\n",
    "                continue\n",
    "            unordered_map[i] = 1\n",
    "        for j in a2:\n",
    "            if j not in unordered_map:\n",
    "                continue\n",
    "            unordered_map[j] += 1 \n",
    "    else:\n",
    "        for i in a2:\n",
    "            if i in unordered_map:\n",
    "                continue\n",
    "            unordered_map[i] = 1\n",
    "        for j in a1:\n",
    "            if j not in unordered_map:\n",
    "                continue\n",
    "            unordered_map[j] += 1\n",
    "            \n",
    "    for i in unordered_map:\n",
    "        if unordered_map[i] == 1:\n",
    "            return 0\n",
    "    return 1\n",
    "\n",
    "# Time Comp: O(N)\n",
    "# Space Comp: O(N)"
   ]
  },
  {
   "cell_type": "code",
   "execution_count": 157,
   "id": "098c8ce9",
   "metadata": {},
   "outputs": [
    {
     "data": {
      "text/plain": [
       "0"
      ]
     },
     "execution_count": 157,
     "metadata": {},
     "output_type": "execute_result"
    }
   ],
   "source": [
    "a1 = [11, 1, 13, 21, 3, 7]\n",
    "a2 = [11, 3, 7, 1,5]\n",
    "isSubset( a1, a2, len(a1), len(a2))"
   ]
  },
  {
   "cell_type": "raw",
   "id": "67ba73e8",
   "metadata": {},
   "source": [
    "Another approach can be:\n",
    "\n",
    "Sort both the arrays\n",
    "Iterate shorter array (Array1)\n",
    "Take one pointer which pointing to the another array (Array2)\n",
    "Move the pointer until it point the value equal or greater than current value of A1\n",
    "If ponting value is not equal to current value but greater than current value then return False\n",
    "If entire for loop pass succesfully then return True\n",
    "\n",
    "Time Comp: O(n log n + m log m)\n",
    "Space Comp: O(1)"
   ]
  },
  {
   "cell_type": "code",
   "execution_count": null,
   "id": "9e25b142",
   "metadata": {},
   "outputs": [],
   "source": []
  },
  {
   "cell_type": "markdown",
   "id": "99d1c1ac",
   "metadata": {},
   "source": [
    "### 28. Triplet Sum in Array"
   ]
  },
  {
   "cell_type": "raw",
   "id": "19c82827",
   "metadata": {},
   "source": [
    "Given an array arr of size n and an integer X. Find if there's a triplet in the array which sums equals to X.\n",
    "\n",
    "Input:\n",
    "n = 6, X = 13\n",
    "arr[] = [1 4 45 6 10 8]\n",
    "\n",
    "Output:\n",
    "1\n",
    "\n",
    "Explanation:\n",
    "The triplet {1, 4, 8} in \n",
    "the array sums up to 13."
   ]
  },
  {
   "cell_type": "code",
   "execution_count": 55,
   "id": "2aaf0044",
   "metadata": {},
   "outputs": [],
   "source": [
    "# Brute force approach using 3 nested loop\n",
    "def find3Numbers(A, n, X):\n",
    "    for i in range(n-2):\n",
    "        for j in range(i+1,n-1):\n",
    "            for k in range(j+1,n):\n",
    "                if A[i] + A[j] + A[k] == X:\n",
    "                    return 1\n",
    "    return 0\n",
    "\n",
    "# Time Comp: O(N^3)\n",
    "# Space Comp: O(1)"
   ]
  },
  {
   "cell_type": "code",
   "execution_count": 58,
   "id": "cc6192de",
   "metadata": {},
   "outputs": [
    {
     "data": {
      "text/plain": [
       "0"
      ]
     },
     "execution_count": 58,
     "metadata": {},
     "output_type": "execute_result"
    }
   ],
   "source": [
    "A = [1, 4, 45, 6, 10, 8]\n",
    "X = 45\n",
    "find3Numbers(A,len(A),X)"
   ]
  },
  {
   "cell_type": "code",
   "execution_count": 80,
   "id": "3ea8fb0e",
   "metadata": {},
   "outputs": [],
   "source": [
    "# Sort the array\n",
    "# Use two pointers\n",
    "\n",
    "def find3Numbers2(A, n, X):\n",
    "    A.sort()\n",
    "    \n",
    "    for i in range(n-2):\n",
    "        left = i+1\n",
    "        right = n-1\n",
    "        \n",
    "        while left<right:\n",
    "            temp = A[i] + A[left] + A[right]\n",
    "            if temp == X:\n",
    "                return 1\n",
    "            elif temp < X:\n",
    "                left = left+1\n",
    "            else:\n",
    "                right = right-1\n",
    "    return 0\n",
    "\n",
    "# Time comp: O(N^2)\n",
    "# Space comp: O(1)"
   ]
  },
  {
   "cell_type": "code",
   "execution_count": 81,
   "id": "0b209a58",
   "metadata": {},
   "outputs": [
    {
     "data": {
      "text/plain": [
       "1"
      ]
     },
     "execution_count": 81,
     "metadata": {},
     "output_type": "execute_result"
    }
   ],
   "source": [
    "A = [1, 4, 45, 6, 10, 8]\n",
    "X = 13\n",
    "#A = [1, 2, 4, 3, 6]\n",
    "#X = 10\n",
    "find3Numbers2(A,len(A),X)"
   ]
  },
  {
   "cell_type": "code",
   "execution_count": 90,
   "id": "6ba470c1",
   "metadata": {},
   "outputs": [],
   "source": [
    "# Without sorting\n",
    "# using extra space\n",
    "\n",
    "def find3Numbers3(A, n, X):\n",
    "    for i in range(n-1):\n",
    "        s = set()\n",
    "        cur_sum = X-A[i]\n",
    "        for j in range(i+1,n):\n",
    "            if cur_sum-A[j] in s:\n",
    "                return 1\n",
    "            s.add(A[j])\n",
    "    return 0"
   ]
  },
  {
   "cell_type": "code",
   "execution_count": 92,
   "id": "a976192e",
   "metadata": {},
   "outputs": [
    {
     "data": {
      "text/plain": [
       "1"
      ]
     },
     "execution_count": 92,
     "metadata": {},
     "output_type": "execute_result"
    }
   ],
   "source": [
    "A = [1, 4, 45, 6, 10, 8]\n",
    "X = 13\n",
    "A = [1, 2, 4, 3, 6]\n",
    "X = 10\n",
    "find3Numbers3(A,len(A),X)"
   ]
  },
  {
   "cell_type": "code",
   "execution_count": null,
   "id": "21e2631f",
   "metadata": {},
   "outputs": [],
   "source": []
  },
  {
   "cell_type": "markdown",
   "id": "309c5556",
   "metadata": {},
   "source": [
    "### 29. Trapping Rain Water"
   ]
  },
  {
   "cell_type": "raw",
   "id": "e58cc2f0",
   "metadata": {},
   "source": [
    "Given an array arr[] of N non-negative integers representing the height of blocks. If width of each block is 1, compute how much water can be trapped between the blocks during the rainy season. \n",
    "\n",
    "Input: arr[]   = {3, 0, 2, 0, 4}\n",
    "Output: 7\n",
    "Explanation:\n",
    "We can trap \"3 units\" of water between 3 and 2,\n",
    "\"1 unit\" on top of bar 2 and \"3 units\" between 2 \n",
    "and 4.  See below diagram also.\n"
   ]
  },
  {
   "cell_type": "code",
   "execution_count": 112,
   "id": "3820afcc",
   "metadata": {},
   "outputs": [],
   "source": [
    "\"\"\"\n",
    "-> Traverse the array from start to end.\n",
    "-> For every element, traverse the array from start to that index and \n",
    "   find the maximum height (a) and traverse the array from the current index to end, \n",
    "   and find the maximum height (b).\n",
    "-> The amount of water that will be stored in this column is min(a,b) – array[i], \n",
    "   add this value to the total amount of water stored.\n",
    "\"\"\"\n",
    "\n",
    "def trappingWater(arr,n):\n",
    "    total = 0\n",
    "    for i in range(1,n-1):\n",
    "        left = 0\n",
    "        right = n-1\n",
    "        for j in range(0,i):\n",
    "            if arr[j] > arr[left]:\n",
    "                left = j\n",
    "        for j in range(i+1,n):\n",
    "            if arr[j] > arr[right]:\n",
    "                right = j\n",
    "        diff = min(arr[left],arr[right]) - arr[i]\n",
    "        if diff > 0:\n",
    "            total += diff\n",
    "    return total\n",
    "\n",
    "# Time Comp: O(N^2)\n",
    "# Space comp: O(1)"
   ]
  },
  {
   "cell_type": "code",
   "execution_count": 113,
   "id": "3c1afd62",
   "metadata": {},
   "outputs": [
    {
     "data": {
      "text/plain": [
       "2"
      ]
     },
     "execution_count": 113,
     "metadata": {},
     "output_type": "execute_result"
    }
   ],
   "source": [
    "arr = [3, 0, 2, 0, 4]\n",
    "arr = [0, 1, 0, 2, 1, 0, 1, 3, 2, 1, 2, 1]\n",
    "arr = [2, 0, 2]\n",
    "trappingWater(arr,len(arr))"
   ]
  },
  {
   "cell_type": "code",
   "execution_count": 132,
   "id": "a71dfe0b",
   "metadata": {},
   "outputs": [],
   "source": [
    "# We can pre-compute max of left and max of right and stope them into two diff arrays before actual for loop\n",
    "\n",
    "def trappingWater2(arr,n):\n",
    "    total = 0\n",
    "    left = [0 for i in range(n)]\n",
    "    right = [0 for i in range(n)]\n",
    "    \n",
    "    left[0] = arr[0]\n",
    "    for i in range(1,n):\n",
    "        left[i] = max(arr[i],left[i-1])\n",
    "    \n",
    "    right[n-1] = arr[n-1]\n",
    "    for i in range(n-2,-1,-1):\n",
    "        right[i] = max(arr[i],right[i+1])\n",
    "        \n",
    "    for i in range(1,n-1):\n",
    "        diff = min(left[i],right[i]) - arr[i]\n",
    "        if diff > 0:\n",
    "            total += diff\n",
    "        \n",
    "    return total\n",
    "\n",
    "# Time Comp: O(N)\n",
    "# Space comp: O(N)"
   ]
  },
  {
   "cell_type": "code",
   "execution_count": 133,
   "id": "43e4ede6",
   "metadata": {},
   "outputs": [
    {
     "data": {
      "text/plain": [
       "2"
      ]
     },
     "execution_count": 133,
     "metadata": {},
     "output_type": "execute_result"
    }
   ],
   "source": [
    "arr = [3, 0, 2, 0, 4]\n",
    "arr = [0, 1, 0, 2, 1, 0, 1, 3, 2, 1, 2, 1]\n",
    "arr = [2, 0, 2]\n",
    "trappingWater2(arr,len(arr))"
   ]
  },
  {
   "cell_type": "code",
   "execution_count": 134,
   "id": "b575177f",
   "metadata": {},
   "outputs": [],
   "source": [
    "# https://www.youtube.com/watch?v=_qeh8VQCm0A&list=PLDdcY4olLQk3zG-972eMoDJHLIz3FiGA6&index=19\n",
    "# https://www.geeksforgeeks.org/trapping-rain-water/\n",
    "\n",
    "def trappingWater3(arr,n):\n",
    "    low = 0    # left pointer\n",
    "    high = n-1 # Right pointer\n",
    "    left_max = 0   # left size highest\n",
    "    right_max = 0  # Right size highest\n",
    "    total = 0  # ans\n",
    "    \n",
    "    while low <= high:\n",
    "        if arr[low] < arr[high]:\n",
    "            if arr[low] >= left_max:\n",
    "                left_max = arr[low]\n",
    "            else:\n",
    "                total += left_max - arr[low]\n",
    "            low += 1\n",
    "        else:\n",
    "            if arr[high] >= right_max:\n",
    "                right_max = arr[high]\n",
    "            else:\n",
    "                total += right_max - arr[high]\n",
    "            high -= 1\n",
    "    return total\n",
    "\n",
    "# Time comp: O(N)\n",
    "# Space Comp: (1)"
   ]
  },
  {
   "cell_type": "code",
   "execution_count": 137,
   "id": "8c211703",
   "metadata": {},
   "outputs": [
    {
     "data": {
      "text/plain": [
       "7"
      ]
     },
     "execution_count": 137,
     "metadata": {},
     "output_type": "execute_result"
    }
   ],
   "source": [
    "arr = [3, 0, 2, 0, 4]\n",
    "#arr = [0, 1, 0, 2, 1, 0, 1, 3, 2, 1, 2, 1]\n",
    "#arr = [2, 0, 2]\n",
    "trappingWater2(arr,len(arr))"
   ]
  },
  {
   "cell_type": "code",
   "execution_count": null,
   "id": "64b86e7c",
   "metadata": {},
   "outputs": [],
   "source": []
  },
  {
   "cell_type": "code",
   "execution_count": null,
   "id": "d40dc45f",
   "metadata": {},
   "outputs": [],
   "source": []
  },
  {
   "cell_type": "code",
   "execution_count": null,
   "id": "909da3ab",
   "metadata": {},
   "outputs": [],
   "source": []
  },
  {
   "cell_type": "code",
   "execution_count": null,
   "id": "19cd0629",
   "metadata": {},
   "outputs": [],
   "source": []
  },
  {
   "cell_type": "code",
   "execution_count": null,
   "id": "a8bd947b",
   "metadata": {},
   "outputs": [],
   "source": []
  },
  {
   "cell_type": "markdown",
   "id": "05719ed8",
   "metadata": {},
   "source": [
    "### 30. Chocolate Distribution Problem"
   ]
  },
  {
   "cell_type": "raw",
   "id": "d55076c7",
   "metadata": {},
   "source": [
    "of chocolates in a packet. Each packet can have a variable number of chocolates. There are M students, the task is to distribute chocolate packets among M students such that :\n",
    "1. Each student gets exactly one packet.\n",
    "2. The difference between maximum number of chocolates given to a student and minimum number of chocolates given to a student is minimum.\n",
    "\n",
    "Input:\n",
    "N = 8, M = 5\n",
    "A = {3, 4, 1, 9, 56, 7, 9, 12}\n",
    "Output: 6\n",
    "Explanation: The minimum difference between \n",
    "maximum chocolates and minimum chocolates \n",
    "is 9 - 3 = 6 by choosing following M packets :\n",
    "{3, 4, 9, 7, 9}."
   ]
  },
  {
   "cell_type": "code",
   "execution_count": 98,
   "id": "1985dfae",
   "metadata": {},
   "outputs": [],
   "source": [
    "# Sort the array\n",
    "# Using two pointers, maintain the windown of size M and keep finding diff\n",
    "\n",
    "def findMinDiff(A,N,M):\n",
    "    if N == 0 or M == 0:\n",
    "        return 0\n",
    "\n",
    "    A.sort()\n",
    "    left = 0\n",
    "    right = M-1\n",
    "    diff = A[right] - A[left]\n",
    "    while right < N:\n",
    "        diff = min(A[right] - A[left],diff)\n",
    "        right += 1\n",
    "        left += 1\n",
    "    return diff"
   ]
  },
  {
   "cell_type": "code",
   "execution_count": 99,
   "id": "7d68e021",
   "metadata": {},
   "outputs": [
    {
     "data": {
      "text/plain": [
       "2"
      ]
     },
     "execution_count": 99,
     "metadata": {},
     "output_type": "execute_result"
    }
   ],
   "source": [
    "A = [3, 4, 1, 9, 56, 7, 9, 12]\n",
    "M = 5\n",
    "A = [7, 3, 2, 4, 9, 12, 56]\n",
    "M = 3\n",
    "findMinDiff(A,len(A),M)"
   ]
  },
  {
   "cell_type": "code",
   "execution_count": null,
   "id": "292f56fe",
   "metadata": {},
   "outputs": [],
   "source": []
  },
  {
   "cell_type": "markdown",
   "id": "b9412c1e",
   "metadata": {},
   "source": [
    "### 32. Three way partitioning"
   ]
  },
  {
   "cell_type": "raw",
   "id": "2e891ca8",
   "metadata": {},
   "source": [
    "Given an array of size n and a range [a, b]. The task is to partition the array around the range such that array is divided into three parts.\n",
    "1) All elements smaller than a come first.\n",
    "2) All elements in range a to b come next.\n",
    "3) All elements greater than b appear in the end.\n",
    "The individual elements of three sets can appear in any order. You are required to return the modified array.\n",
    "\n",
    "Input: \n",
    "n = 5\n",
    "A[] = {1, 2, 3, 3, 4}\n",
    "[a, b] = [1, 2]\n",
    "Output: 1\n",
    "Explanation: One possible arrangement is:\n",
    "{1, 2, 3, 3, 4}. If you return a valid\n",
    "arrangement, output will be 1.\n",
    "\n",
    "One simple solution can be, return the sorted array.\n",
    "But it will take O(N log N) time"
   ]
  },
  {
   "cell_type": "code",
   "execution_count": 103,
   "id": "a05bdc3b",
   "metadata": {},
   "outputs": [],
   "source": [
    "\"\"\"\n",
    "We traverse given array elements from left. \n",
    "We keep track of two pointers, first to store next position of smaller element (smaller than range) from beginning\n",
    "and second to store next position of greater element from end. \n",
    "\"\"\"\n",
    "\n",
    "def threeWayPartition(arr, a, b):\n",
    "    start = 0\n",
    "    end = len(arr)-1\n",
    "    i = 0\n",
    "    \n",
    "    while i<=end:\n",
    "        if arr[i] < a:\n",
    "            arr[i],arr[start] = arr[start],arr[i]\n",
    "            i = i+1\n",
    "            start = start+1\n",
    "        elif arr[i] > b:\n",
    "            arr[i],arr[end] = arr[end],arr[i]\n",
    "            end = end-1\n",
    "        else:\n",
    "            i = i+1\n",
    "    return arr\n",
    "\n",
    "# Time Comp: O(N)\n",
    "# Space Comp: O(1)"
   ]
  },
  {
   "cell_type": "code",
   "execution_count": 104,
   "id": "c27c73a8",
   "metadata": {},
   "outputs": [
    {
     "data": {
      "text/plain": [
       "[1, 2, 3]"
      ]
     },
     "execution_count": 104,
     "metadata": {},
     "output_type": "execute_result"
    }
   ],
   "source": [
    "arr = [1, 2, 3, 3, 4]\n",
    "a = 1\n",
    "b = 3\n",
    "arr = [1, 2, 3]\n",
    "a = 1\n",
    "b = 3\n",
    "threeWayPartition(arr, a, b)"
   ]
  },
  {
   "cell_type": "code",
   "execution_count": null,
   "id": "29807900",
   "metadata": {},
   "outputs": [],
   "source": []
  },
  {
   "cell_type": "markdown",
   "id": "fe35d491",
   "metadata": {},
   "source": [
    "### 33. Min swap req to bring number min K together"
   ]
  },
  {
   "cell_type": "raw",
   "id": "2dc47b51",
   "metadata": {},
   "source": [
    "Given an array arr of n positive integers and a number k. One can apply a swap operation on the array any number of times, i.e choose any two index i and j (i < j) and swap arr[i] , arr[j] . Find the minimum number of swaps required to bring all the numbers less than or equal to k together, i.e. make them a contiguous subarray.\n",
    "\n",
    "Input : \n",
    "arr[ ] = {2, 7, 9, 5, 8, 7, 4} \n",
    "K = 6 \n",
    "Output :  \n",
    "2 \n",
    "Explanation: \n",
    "To bring elements 2, 5, 4 together, \n",
    "swap index 0 with 2 (0-based indexing)\n",
    "and index 4 with 6 (0-based indexing)\n",
    "such that final array will be- \n",
    "arr[] = {9, 7, 2, 5, 4, 7, 8}"
   ]
  },
  {
   "cell_type": "code",
   "execution_count": 21,
   "id": "2c3124de",
   "metadata": {},
   "outputs": [],
   "source": [
    "\"\"\"\n",
    "Brute force approach:\n",
    "\n",
    "First we will find the number of elements which are less than K and store it in a variable count.\n",
    "Now we will check all the sub arrays of size count and check what min swap required amoung all the sub arrays.\n",
    "\n",
    "\"\"\"\n",
    "\n",
    "def minSwap(arr, n, k):\n",
    "    count = 0\n",
    "    for i in arr:\n",
    "        if i<= k:\n",
    "            count += 1\n",
    "            \n",
    "    if count == 1 or count == 0 or count == n:\n",
    "        return 0\n",
    "    \n",
    "    ans = n\n",
    "    for i in range(len(arr)-count+1):\n",
    "        temp = 0\n",
    "        for j in range(i,i+count):\n",
    "            if arr[j] > k:\n",
    "                temp += 1\n",
    "        ans = min(temp,ans)\n",
    "    return ans\n",
    "\n",
    "# Time comp: O(N^2)\n",
    "# Space Comp: O(1)"
   ]
  },
  {
   "cell_type": "code",
   "execution_count": 23,
   "id": "83c508b5",
   "metadata": {},
   "outputs": [
    {
     "data": {
      "text/plain": [
       "2"
      ]
     },
     "execution_count": 23,
     "metadata": {},
     "output_type": "execute_result"
    }
   ],
   "source": [
    "arr = [2, 7, 9, 5, 8, 7, 4]\n",
    "k = 6\n",
    "#arr = [20, 3, 5, 4, 14, 7, 11, 1, 9, 10, 3, 9]\n",
    "#k = 19\n",
    "minSwap(arr,len(arr),k)"
   ]
  },
  {
   "cell_type": "code",
   "execution_count": 53,
   "id": "61b17a06",
   "metadata": {},
   "outputs": [],
   "source": [
    "\"\"\"\n",
    "Here we are tracking subarray and swap count of that subarray by using two pointers.\n",
    "After counting numbers <= k, we took ans as an count of first sub array\n",
    "\n",
    "After that we took two pointers and keep increasing pointer by one and keep modifying ans.\n",
    "\"\"\"\n",
    "\n",
    "def minSwap2(arr, n, k):\n",
    "    count = 0\n",
    "    for i in arr:\n",
    "        if i<= k:\n",
    "            count += 1\n",
    "            \n",
    "    if count == 1 or count == 0 or count == n:\n",
    "        return 0\n",
    "    \n",
    "    ans = 0\n",
    "    for i in range(count):\n",
    "        if arr[i] > k:\n",
    "            ans+=1\n",
    "\n",
    "    p1 = 0\n",
    "    p2 = count-1\n",
    "    temp = ans\n",
    "\n",
    "    while p2<n-1:        \n",
    "        p1 = p1+1\n",
    "        p2 = p2+1\n",
    "\n",
    "        if arr[p1-1] > k:\n",
    "            temp = temp - 1\n",
    "        if arr[p2] > k:\n",
    "            temp = temp + 1\n",
    "        \n",
    "        ans = min(temp,ans)\n",
    "    return ans"
   ]
  },
  {
   "cell_type": "code",
   "execution_count": 54,
   "id": "1eafcd87",
   "metadata": {},
   "outputs": [
    {
     "data": {
      "text/plain": [
       "2"
      ]
     },
     "execution_count": 54,
     "metadata": {},
     "output_type": "execute_result"
    }
   ],
   "source": [
    "arr = [2, 7, 9, 5, 8, 7, 4]\n",
    "k = 6\n",
    "#arr = [20, 3, 5, 4, 14, 7, 11, 1, 9, 10, 3, 9]\n",
    "#k = 19\n",
    "#arr = [2, 1, 5, 6, 3]\n",
    "#k = 3\n",
    "#arr = [19, 12, 20, 14, 16, 7, 14, 1, 14, 6, 11]\n",
    "#k = 12\n",
    "minSwap2(arr,len(arr),k)"
   ]
  },
  {
   "cell_type": "code",
   "execution_count": null,
   "id": "1adbda67",
   "metadata": {},
   "outputs": [],
   "source": []
  },
  {
   "cell_type": "code",
   "execution_count": null,
   "id": "0058379a",
   "metadata": {},
   "outputs": [],
   "source": []
  },
  {
   "cell_type": "code",
   "execution_count": null,
   "id": "b3ee7e66",
   "metadata": {},
   "outputs": [],
   "source": []
  },
  {
   "cell_type": "code",
   "execution_count": null,
   "id": "f5ba8795",
   "metadata": {},
   "outputs": [],
   "source": []
  },
  {
   "cell_type": "code",
   "execution_count": null,
   "id": "eec198aa",
   "metadata": {},
   "outputs": [],
   "source": []
  },
  {
   "cell_type": "code",
   "execution_count": null,
   "id": "926e6b48",
   "metadata": {},
   "outputs": [],
   "source": []
  },
  {
   "cell_type": "code",
   "execution_count": null,
   "id": "95358436",
   "metadata": {},
   "outputs": [],
   "source": []
  },
  {
   "cell_type": "markdown",
   "id": "c0fb8fea",
   "metadata": {},
   "source": [
    "### 36. Degree of Array and its sub array"
   ]
  },
  {
   "cell_type": "raw",
   "id": "94d0bd19",
   "metadata": {},
   "source": [
    "Given a non-empty array of non-negative integers nums, the degree of this array is defined as the maximum frequency of any one of its elements.\n",
    "\n",
    "Your task is to find the smallest possible length of a (contiguous) subarray of nums, that has the same degree as nums.\n",
    "\n",
    "Input: nums = [1,2,2,3,1]\n",
    "Output: 2\n",
    "Explanation: \n",
    "The input array has a degree of 2 because both elements 1 and 2 appear twice.\n",
    "Of the subarrays that have the same degree:\n",
    "[1, 2, 2, 3, 1], [1, 2, 2, 3], [2, 2, 3, 1], [1, 2, 2], [2, 2, 3], [2, 2]\n",
    "The shortest length is 2. So return 2.\n",
    "\n",
    "\n",
    "Logic:\n",
    "An array that has degree d, must have some element x occur d times. If some subarray has the same degree, then some element x (that occured d times), still occurs d times. The shortest such subarray would be from the first occurrence of x until the last occurrence.\n",
    "\n",
    "For each element in the given array, let's know left, the index of its first occurrence; and right, the index of its last occurrence. For example, with nums = [1,2,3,2,5] we have left[2] = 1 and right[2] = 3."
   ]
  },
  {
   "cell_type": "code",
   "execution_count": 105,
   "id": "b6779936",
   "metadata": {},
   "outputs": [],
   "source": [
    "def findShortestSubArray(nums):\n",
    "    \"\"\"\n",
    "    :type nums: List[int]\n",
    "    :rtype: int\n",
    "    \"\"\"\n",
    "    \n",
    "    degree = 0\n",
    "    seen = []\n",
    "    for i in nums:\n",
    "        if i in seen:\n",
    "            continue\n",
    "        seen.append(i)\n",
    "        temp = nums.count(i)\n",
    "        if temp <= degree:\n",
    "            continue\n",
    "        degree = temp\n",
    "    if degree == 1:\n",
    "        return 1\n",
    "    \n",
    "    ans = len(nums)\n",
    "    seen = []\n",
    "    \n",
    "    for i in nums:\n",
    "        if i in seen:\n",
    "            continue\n",
    "        seen.append(i)\n",
    "        if nums.count(i) < degree:\n",
    "            continue\n",
    "        \n",
    "        # Find the first occurance of the element\n",
    "        first_index = nums.index(i)\n",
    "        \n",
    "        # Find the last occurance of the element\n",
    "        last_index = nums[::-1].index(i)\n",
    "        last_index = len(nums)-last_index\n",
    "    \n",
    "        # find the length betwen the first and last occurance of the element\n",
    "        temp = len(nums[first_index:last_index])\n",
    "        if temp < ans:\n",
    "            ans = temp\n",
    "    \n",
    "    return ans"
   ]
  },
  {
   "cell_type": "code",
   "execution_count": 109,
   "id": "0cbe7adf",
   "metadata": {},
   "outputs": [
    {
     "data": {
      "text/plain": [
       "9"
      ]
     },
     "execution_count": 109,
     "metadata": {},
     "output_type": "execute_result"
    }
   ],
   "source": [
    "nums = [1,2,2,1,2,1,1,1,1,2,2,2]\n",
    "findShortestSubArray(nums)"
   ]
  },
  {
   "cell_type": "code",
   "execution_count": null,
   "id": "43364ad2",
   "metadata": {},
   "outputs": [],
   "source": []
  },
  {
   "cell_type": "markdown",
   "id": "eb244a01",
   "metadata": {},
   "source": [
    "### Extra"
   ]
  },
  {
   "cell_type": "markdown",
   "id": "6d893a31",
   "metadata": {},
   "source": [
    "### Put all the zeros at the end of array"
   ]
  },
  {
   "cell_type": "raw",
   "id": "abc384f8",
   "metadata": {},
   "source": [
    "Given an integer array nums, move all 0's to the end of it while maintaining the relative order of the non-zero elements.\n",
    "\n",
    "Note that you must do this in-place without making a copy of the array."
   ]
  },
  {
   "cell_type": "code",
   "execution_count": 121,
   "id": "b7b01dbc",
   "metadata": {},
   "outputs": [],
   "source": [
    "def moveZeroes(nums):\n",
    "    \"\"\"\n",
    "    :type nums: List[int]\n",
    "    :rtype: None Do not return anything, modify nums in-place instead.\n",
    "    \"\"\"\n",
    "    \n",
    "    # Simple approach\n",
    "    \"\"\"\n",
    "    zero = nums.count(0)\n",
    "    for i in range(zero):\n",
    "        nums.remove(0)\n",
    "        nums.append(0)\n",
    "    return nums\n",
    "    \"\"\"\n",
    "\n",
    "    # Pointer approach\n",
    "    if nums.count(0) <= 0:\n",
    "        return nums\n",
    "\n",
    "    zero = nums.index(0)\n",
    "    for i in range(len(nums)):\n",
    "        if nums[i]!=0 and zero<i:\n",
    "            nums[zero], nums[i] = nums[i], nums[zero]\n",
    "            zero = nums.index(0)\n",
    "    return nums"
   ]
  },
  {
   "cell_type": "code",
   "execution_count": 122,
   "id": "0982905c",
   "metadata": {},
   "outputs": [
    {
     "data": {
      "text/plain": [
       "[1, 3, 12, 0, 0]"
      ]
     },
     "execution_count": 122,
     "metadata": {},
     "output_type": "execute_result"
    }
   ],
   "source": [
    "nums = [0,1,0,3,12]\n",
    "moveZeroes(nums)"
   ]
  },
  {
   "cell_type": "code",
   "execution_count": null,
   "id": "56c83d5d",
   "metadata": {},
   "outputs": [],
   "source": []
  }
 ],
 "metadata": {
  "kernelspec": {
   "display_name": "Python 3",
   "language": "python",
   "name": "python3"
  },
  "language_info": {
   "codemirror_mode": {
    "name": "ipython",
    "version": 3
   },
   "file_extension": ".py",
   "mimetype": "text/x-python",
   "name": "python",
   "nbconvert_exporter": "python",
   "pygments_lexer": "ipython3",
   "version": "3.6.5"
  }
 },
 "nbformat": 4,
 "nbformat_minor": 5
}
