{
 "cells": [
  {
   "cell_type": "markdown",
   "id": "85f6732d",
   "metadata": {},
   "source": [
    "## Tree"
   ]
  },
  {
   "cell_type": "markdown",
   "id": "52080ec6",
   "metadata": {},
   "source": [
    "### 164. Level order traversal"
   ]
  },
  {
   "cell_type": "code",
   "execution_count": null,
   "id": "54dd13b5",
   "metadata": {},
   "outputs": [],
   "source": [
    "Input:\n",
    "    1\n",
    "  /   \\ \n",
    " 3     2\n",
    "Output:1 3 2"
   ]
  },
  {
   "cell_type": "code",
   "execution_count": null,
   "id": "bea65184",
   "metadata": {},
   "outputs": [],
   "source": [
    "# Here we are using queue for level order traversal.\n",
    "\n",
    "from collections import deque\n",
    "class Solution:\n",
    "    def levelOrder(self,root):\n",
    "        if root == None:\n",
    "            return\n",
    "        \n",
    "        queue = deque()\n",
    "        ans = []\n",
    "        queue.append(root)                  # Initially append root node in queue\n",
    "        \n",
    "        while len(queue):\n",
    "            \n",
    "            # dequeue first element from queue and put it in result array \n",
    "            temp = queue.popleft()\n",
    "            ans.append(ans.data)\n",
    "            \n",
    "            # push left and right children of that node in queue\n",
    "            if temp.left!= None:\n",
    "                queue.append(temp.left)\n",
    "            if temp.right != None:\n",
    "                queue.append(temp.right)\n",
    "        \n",
    "        return ans \n",
    "\n",
    "# Time comp: O(N)\n",
    "# Space comp: O(N)   (Size of queue)"
   ]
  },
  {
   "cell_type": "code",
   "execution_count": null,
   "id": "e938150f",
   "metadata": {},
   "outputs": [],
   "source": []
  },
  {
   "cell_type": "markdown",
   "id": "9a4a45eb",
   "metadata": {},
   "source": [
    "### 165. Reverse Level Order Traversal"
   ]
  },
  {
   "cell_type": "raw",
   "id": "f0c48eaa",
   "metadata": {},
   "source": [
    "Input :\n",
    "       10\n",
    "      /  \\\n",
    "     20   30\n",
    "    / \\ \n",
    "   40  60\n",
    "\n",
    "Output: 40 60 20 30 10"
   ]
  },
  {
   "cell_type": "code",
   "execution_count": null,
   "id": "1c62c5db",
   "metadata": {},
   "outputs": [],
   "source": [
    "from collections import deque\n",
    "def reverseLevelOrder(root):\n",
    "    queue = deque()\n",
    "    queue.append(root)\n",
    "    ans = []\n",
    "    \n",
    "    while len(queue):\n",
    "        temp = queue.popleft()     # Pop element from the front of queue\n",
    "        ans.append(temp.data)      # Append it in ans list   (It is stack basically)\n",
    "        \n",
    "        if temp.right:                # push right child node to the queue\n",
    "            queue.append(temp.right)\n",
    "        \n",
    "        if temp.left:                 # push left child node to the queue\n",
    "            queue.append(temp.left)\n",
    "    \n",
    "    ans = ans[::-1]                   # Reverse the ans array   (Since we are using it as stack)\n",
    "    return ans\n",
    "\n",
    "# time comp: O(N)\n",
    "# Space compL O(N)   # Due to queue"
   ]
  },
  {
   "cell_type": "code",
   "execution_count": null,
   "id": "8f75d999",
   "metadata": {},
   "outputs": [],
   "source": []
  },
  {
   "cell_type": "markdown",
   "id": "e8edacf9",
   "metadata": {},
   "source": [
    "### 166. Find height of the tree"
   ]
  },
  {
   "cell_type": "code",
   "execution_count": null,
   "id": "344db5d3",
   "metadata": {},
   "outputs": [],
   "source": [
    "class Solution:\n",
    "    #Function to find the height of a binary tree.\n",
    "    def height(self, root):\n",
    "        # code here\n",
    "        if root == None:\n",
    "            return 0\n",
    "        else:\n",
    "            return max(self.height(root.left), self.height(root.right)) + 1\n",
    "        \n",
    "# Time comp: O(N)\n",
    "# space comp: O(N)    (Due to recursion stack)"
   ]
  },
  {
   "cell_type": "code",
   "execution_count": null,
   "id": "d900569b",
   "metadata": {},
   "outputs": [],
   "source": []
  },
  {
   "cell_type": "markdown",
   "id": "389e582e",
   "metadata": {},
   "source": [
    "### 167. Diameter of a Binary Tree"
   ]
  },
  {
   "cell_type": "raw",
   "id": "52ef8355",
   "metadata": {},
   "source": [
    "The diameter of a tree (sometimes called the width) is the number of nodes on the longest path between two end nodes. The diagram below shows two trees each with diameter nine, the leaves that form the ends of the longest path are shaded (note that there is more than one path in each tree of length nine, but no path longer than nine nodes). \n",
    "\n",
    "Input:\n",
    "         10\n",
    "        /   \\\n",
    "      20    30\n",
    "    /   \\ \n",
    "   40   60\n",
    "Output: 4"
   ]
  },
  {
   "cell_type": "code",
   "execution_count": null,
   "id": "beb3bb9f",
   "metadata": {},
   "outputs": [],
   "source": [
    "\"\"\"\n",
    "Diameter from any node is: height of left subtree + height of right subtree + 1.\n",
    "So find the diameter at each node and keep the track of max of them.\n",
    "\"\"\"\n",
    "\n",
    "class Solution:\n",
    "    def __init__(self):\n",
    "        self.dia = 0\n",
    "    \n",
    "    def height(self,root):\n",
    "        if root == None:\n",
    "            return 0\n",
    "            \n",
    "        l = self.height(root.left)\n",
    "        r = self.height(root.right)\n",
    "        self.dia = max(self.dia, l+r+1)\n",
    "        \n",
    "        return 1 + max(l,r)\n",
    "    \n",
    "    def diameter(self,root):\n",
    "        # Code here\n",
    "        if root == None:\n",
    "            return 0\n",
    "            \n",
    "        self.height(root)\n",
    "        return self.dia\n",
    "    \n",
    "# Time comp: O(N)\n",
    "# space comp: O(N)    (Due to recursion)(No extra space)"
   ]
  },
  {
   "cell_type": "code",
   "execution_count": null,
   "id": "ec5541d7",
   "metadata": {},
   "outputs": [],
   "source": []
  },
  {
   "cell_type": "markdown",
   "id": "f85f8fa1",
   "metadata": {},
   "source": [
    "### 168. Mirror of the Tree"
   ]
  },
  {
   "cell_type": "raw",
   "id": "7c129208",
   "metadata": {},
   "source": [
    "Input:\n",
    "      10\n",
    "     /  \\\n",
    "    20   30\n",
    "   /  \\\n",
    "  40  60\n",
    "Output: 30 10 60 20 40\n",
    "Explanation: The tree is\n",
    "      10               10\n",
    "    /    \\  (mirror) /    \\\n",
    "   20    30    =>   30    20\n",
    "  /  \\                   /   \\\n",
    " 40  60                 60   40\n",
    "The inroder traversal of mirror is\n",
    "30 10 60 20 40."
   ]
  },
  {
   "cell_type": "code",
   "execution_count": null,
   "id": "98a20c09",
   "metadata": {},
   "outputs": [],
   "source": [
    "class Solution:\n",
    "    def mirror(self,root):\n",
    "        if root == None or (root.left == None and root.right == None):\n",
    "            return\n",
    "        \n",
    "        root.left, root.right = root.right, root.left\n",
    "        self.mirror(root.left)\n",
    "        self.mirror(root.right)\n",
    "        \n",
    "# Time comp: O(N)\n",
    "# Space comp: O(N)   (Due to recursion stack)"
   ]
  },
  {
   "cell_type": "code",
   "execution_count": null,
   "id": "8d7acd1b",
   "metadata": {},
   "outputs": [],
   "source": []
  },
  {
   "cell_type": "markdown",
   "id": "e2dd95ea",
   "metadata": {},
   "source": [
    "### 169. Inorder Traversal"
   ]
  },
  {
   "cell_type": "code",
   "execution_count": 2,
   "id": "4d8f0e27",
   "metadata": {},
   "outputs": [],
   "source": [
    "# Using recursion\n",
    "\n",
    "class Solution:\n",
    "    def __init__(self):\n",
    "        self.arr = []\n",
    "    \n",
    "    def InOrder(self,root):\n",
    "        if root == None:\n",
    "            return 0\n",
    "        \n",
    "        self.InOrder(root.left)\n",
    "        self.arr.append(root.data)\n",
    "        self.InOrder(root.right)\n",
    "        return self.arr\n",
    "    \n",
    "# Time comp: O(N)\n",
    "# Space comp: O(N)   # Due to recursion stack"
   ]
  },
  {
   "cell_type": "raw",
   "id": "2251226d",
   "metadata": {},
   "source": [
    "https://www.geeksforgeeks.org/inorder-tree-traversal-without-recursion/\n",
    "\n",
    "1) Create an empty stack S.\n",
    "2) Initialize current node as root\n",
    "3) Push the current node to S and set current = current->left until current is NULL\n",
    "4) If current is NULL and stack is not empty then \n",
    "     a) Pop the top item from stack.\n",
    "     b) Print the popped item, set current = popped_item->right \n",
    "     c) Go to step 3.\n",
    "5) If current is NULL and stack is empty then we are done."
   ]
  },
  {
   "cell_type": "code",
   "execution_count": null,
   "id": "25f2ae68",
   "metadata": {},
   "outputs": [],
   "source": [
    "# Using interative method\n",
    "\n",
    "class Solution:\n",
    "    def inOrder(self, root):\n",
    "        stack = []\n",
    "        ans = []\n",
    "        curr = root\n",
    "        \n",
    "        while True:\n",
    "            if curr != None:\n",
    "                stack.append(curr)\n",
    "                curr = curr.left\n",
    "            elif len(stack):\n",
    "                curr = stack.pop()\n",
    "                ans.append(curr.data)\n",
    "                curr = curr.right\n",
    "            else:\n",
    "                break\n",
    "        return ans\n",
    "    \n",
    "# Time comp: O(N)\n",
    "# Space comp: O(N)   (Stack size)"
   ]
  },
  {
   "cell_type": "code",
   "execution_count": null,
   "id": "b92647e8",
   "metadata": {},
   "outputs": [],
   "source": []
  },
  {
   "cell_type": "markdown",
   "id": "59d6e391",
   "metadata": {},
   "source": [
    "### 169. Pre-order traversal"
   ]
  },
  {
   "cell_type": "code",
   "execution_count": 3,
   "id": "04c2af23",
   "metadata": {},
   "outputs": [],
   "source": [
    "# Recursive method\n",
    "\n",
    "def preorder(root):\n",
    "    arr = []\n",
    "    if root == None:\n",
    "        return []\n",
    "    \n",
    "    arr.append(root.data)\n",
    "    arr += preorder(root.left)\n",
    "    arr += preorder(root.right)\n",
    "    return arr\n",
    "\n",
    "# Time comp: O(N)\n",
    "# Space comp: O(N)    (due to recursion stack)"
   ]
  },
  {
   "cell_type": "raw",
   "id": "1666805a",
   "metadata": {},
   "source": [
    "Following is a simple stack based iterative process to print Preorder traversal. \n",
    "\n",
    "1. Create an empty stack nodeStack and push root node to stack. \n",
    "2. Do the following while nodeStack is not empty. \n",
    "   -> Pop an item from the stack and print it. \n",
    "   -> Push right child of a popped item to stack \n",
    "   -> Push left child of a popped item to stack\n",
    "\n",
    "The right child is pushed before the left child to make sure that the left subtree is processed first."
   ]
  },
  {
   "cell_type": "code",
   "execution_count": 4,
   "id": "aa632bf2",
   "metadata": {},
   "outputs": [],
   "source": [
    "# Iterative method\n",
    "\n",
    "class Solution:\n",
    "    def preOrder(self, root):\n",
    "        if root == None:\n",
    "            return []\n",
    "        \n",
    "        stack = []\n",
    "        ans = []\n",
    "        \n",
    "        stack.append(root)\n",
    "        while len(stack):\n",
    "            temp = stack.pop()\n",
    "            ans.append(temp.data)\n",
    "            \n",
    "            if temp.right != None:\n",
    "                stack.append(temp.right)\n",
    "                \n",
    "            if temp.left != None:\n",
    "                stack.append(temp.left)\n",
    "                \n",
    "        return ans\n",
    "    \n",
    "# Time comp: O(N)\n",
    "# Space comp: O(N)   (due to stack)"
   ]
  },
  {
   "cell_type": "code",
   "execution_count": null,
   "id": "febc836e",
   "metadata": {},
   "outputs": [],
   "source": []
  },
  {
   "cell_type": "markdown",
   "id": "1a7c3b4f",
   "metadata": {},
   "source": [
    "### 170. Post order traversal"
   ]
  },
  {
   "cell_type": "code",
   "execution_count": 5,
   "id": "dbeb99b2",
   "metadata": {},
   "outputs": [],
   "source": [
    "# Recursive method\n",
    "\n",
    "def postOrder(root):\n",
    "    arr = []\n",
    "    if root == None:\n",
    "        return []\n",
    "    \n",
    "    \n",
    "    arr += postOrder(root.left)\n",
    "    arr += postOrder(root.right)\n",
    "    arr.append(root.data)\n",
    "    return arr\n",
    "\n",
    "# Time comp: O(N)\n",
    "# Space comp: O(N)    (due to recursion stack)"
   ]
  },
  {
   "cell_type": "raw",
   "id": "c2fa98ab",
   "metadata": {},
   "source": [
    "1. Push root to first stack.\n",
    "2. Loop while first stack is not empty\n",
    "   2.1 Pop a node from first stack and push it to second stack\n",
    "   2.2 Push left and right children of the popped node to first stack\n",
    "3. Print contents of second stack"
   ]
  },
  {
   "cell_type": "code",
   "execution_count": null,
   "id": "4385d473",
   "metadata": {},
   "outputs": [],
   "source": [
    "# Iterative method\n",
    "\n",
    "class Solution:\n",
    "    def postOrder(self,root):\n",
    "        stack = []\n",
    "        ans = []\n",
    "        stack.append(root)\n",
    "        \n",
    "        while len(stack):\n",
    "            temp = stack.pop()\n",
    "            ans.append(temp.data)\n",
    "            \n",
    "            if temp.left != None:\n",
    "                stack.append(temp.left)\n",
    "            if temp.right != None:\n",
    "                stack.append(temp.right)\n",
    "                \n",
    "        return ans[::-1]\n",
    "    \n",
    "# Time comp: O(N)\n",
    "# Space comp: O(N)   (due to stack)"
   ]
  },
  {
   "cell_type": "code",
   "execution_count": null,
   "id": "a34927cd",
   "metadata": {},
   "outputs": [],
   "source": []
  },
  {
   "cell_type": "markdown",
   "id": "53a60aa0",
   "metadata": {},
   "source": [
    "### 171. Left View of Binary Tree"
   ]
  },
  {
   "cell_type": "raw",
   "id": "eeb71c91",
   "metadata": {},
   "source": [
    "Input:\n",
    "   1\n",
    " /  \\\n",
    "3    2\n",
    "Output: 1 3\n",
    "\n",
    "Input :\n",
    "        1\n",
    "      /   \\\n",
    "    2       3\n",
    "      \\   \n",
    "        4  \n",
    "          \\\n",
    "            5\n",
    "             \\\n",
    "               6\n",
    "Output :1 2 4 5 6"
   ]
  },
  {
   "cell_type": "raw",
   "id": "3065def7",
   "metadata": {},
   "source": [
    "Basically left view is the first node from the left size of that level.\n",
    "So here we can travers the tree by level order and and print first element of that lavel as an ans.\n",
    "After appending node from each level, we are also appending None to queue as well to make end of level "
   ]
  },
  {
   "cell_type": "code",
   "execution_count": null,
   "id": "3c0a8956",
   "metadata": {},
   "outputs": [],
   "source": [
    "from collections import deque\n",
    "def LeftView(root):\n",
    "    if root == None:\n",
    "        return []\n",
    "        \n",
    "    q = deque()\n",
    "    q.append(root)\n",
    "    q.append(None)\n",
    "    ans = []\n",
    "    ans.append(root.data)\n",
    "\n",
    "    while len(q):\n",
    "        temp = q.popleft()\n",
    "        \n",
    "        # After None, the first element of queue is the first element of that level from left side\n",
    "        if temp == None:\n",
    "            if len(q) > 0 and q[0] != None:\n",
    "                ans.append(q[0].data)\n",
    "            continue\n",
    "        \n",
    "        if temp.left:\n",
    "            q.append(temp.left)\n",
    "            \n",
    "        if temp.right:\n",
    "            q.append(temp.right)\n",
    "        \n",
    "        # At the last node of level, append None to queue as well.\n",
    "        if len(q) > 0 and q[0] == None:\n",
    "            q.append(None)\n",
    "            \n",
    "    return ans\n",
    "\n",
    "# Time comp: O(N)\n",
    "# Space comp: O(N)    (Due to queue)"
   ]
  },
  {
   "cell_type": "raw",
   "id": "bc713918",
   "metadata": {},
   "source": [
    "Another approach is also level order traversal only by insteade of appending null after each level here we are using property of queue and level order traversal only."
   ]
  },
  {
   "cell_type": "code",
   "execution_count": null,
   "id": "5f700fb8",
   "metadata": {},
   "outputs": [],
   "source": [
    "from collections import deque\n",
    "def LeftView(root):\n",
    "    if root == None:\n",
    "        return []\n",
    "        \n",
    "    q = deque()\n",
    "    q.append(root)\n",
    "    \n",
    "    ans = []\n",
    "    \n",
    "    while len(q):\n",
    "        n = len(q)\n",
    "        \n",
    "        for i in range(0,n):\n",
    "            temp = q.popleft()\n",
    "            if i == 0:\n",
    "                ans.append(temp.data)\n",
    "            \n",
    "            if temp.left:\n",
    "                q.append(temp.left)\n",
    "                \n",
    "            if temp.right:\n",
    "                q.append(temp.right)\n",
    "    \n",
    "    return ans\n",
    "\n",
    "# Time comp: O(N)\n",
    "# Space comp: O(N)    (Due to queue)"
   ]
  },
  {
   "cell_type": "code",
   "execution_count": null,
   "id": "e890e683",
   "metadata": {},
   "outputs": [],
   "source": []
  },
  {
   "cell_type": "markdown",
   "id": "e35131b3",
   "metadata": {},
   "source": [
    "### 172. Right View of Tree"
   ]
  },
  {
   "cell_type": "code",
   "execution_count": null,
   "id": "54af567d",
   "metadata": {},
   "outputs": [],
   "source": [
    "Input:\n",
    "     10\n",
    "    /   \\\n",
    "  20     30\n",
    " /   \\\n",
    "40  60 \n",
    "Output: 10 30 60"
   ]
  },
  {
   "cell_type": "raw",
   "id": "894d5035",
   "metadata": {},
   "source": [
    "It is same as prev que. The right view is the last node of each level."
   ]
  },
  {
   "cell_type": "code",
   "execution_count": 1,
   "id": "cc2bc9a0",
   "metadata": {},
   "outputs": [],
   "source": [
    "from collections import deque\n",
    "class Solution:\n",
    "\n",
    "    #Function to return list containing elements of right view of binary tree.\n",
    "    def rightView(self,root):\n",
    "        if root == None:\n",
    "            return []\n",
    "            \n",
    "        q = deque()\n",
    "        q.append(root)\n",
    "        ans = []\n",
    "        \n",
    "        while len(q):\n",
    "            n = len(q)\n",
    "            \n",
    "            for i in range(0,n):\n",
    "                temp = q.popleft()\n",
    "                if i == n-1:\n",
    "                    ans.append(temp.data)\n",
    "                    \n",
    "                if temp.left:\n",
    "                    q.append(temp.left)\n",
    "                \n",
    "                if temp.right:\n",
    "                    q.append(temp.right)\n",
    "                    \n",
    "        return ans\n",
    "    \n",
    "# time comp: O(N)\n",
    "# Space comp: O(N)"
   ]
  },
  {
   "cell_type": "code",
   "execution_count": null,
   "id": "dde91f7d",
   "metadata": {},
   "outputs": [],
   "source": []
  },
  {
   "cell_type": "markdown",
   "id": "284f8633",
   "metadata": {},
   "source": [
    "### 175. ZigZag Tree Traversal"
   ]
  },
  {
   "cell_type": "raw",
   "id": "78ff15da",
   "metadata": {},
   "source": [
    "Input:\n",
    "           7\n",
    "        /     \\\n",
    "       9       7\n",
    "     /  \\     /   \n",
    "    8    8   6     \n",
    "   /  \\\n",
    "  10   9 \n",
    "Output:\n",
    "7 7 9 8 8 6 9 10 "
   ]
  },
  {
   "cell_type": "raw",
   "id": "2a44327f",
   "metadata": {},
   "source": [
    "-> Assume the two stacks are current: currentlevel and nextlevel. \n",
    "-> We would also need a variable to keep track of the current level order(left to right or right to left). \n",
    "-> We pop from the currentlevel stack and print the nodes value. \n",
    "-> Whenever the current level order is from left to right, push the nodes left child, then its right child to the    stack nextlevel. \n",
    "-> Since a stack is a LIFO(Last-In-First_out) structure, next time when nodes are popped off nextlevel, it will be    in the reverse order. \n",
    "-> On the other hand, when the current level order is from right to left, we would push the nodes right child        first, then its left child. \n",
    "-> Finally, swap those two stacks at the end of each level(i.e., when current level is empty) "
   ]
  },
  {
   "cell_type": "code",
   "execution_count": null,
   "id": "40193b98",
   "metadata": {},
   "outputs": [],
   "source": [
    "class Solution:\n",
    "    def zigZagTraversal(self, root):\n",
    "        if root == None:\n",
    "            return []\n",
    "        \n",
    "        ans = []\n",
    "        curr = []\n",
    "        nxt = []\n",
    "        \n",
    "        left_to_right = 1\n",
    "        curr.append(root)\n",
    "        \n",
    "        while len(curr):\n",
    "            temp = curr.pop()\n",
    "            ans.append(temp.data)\n",
    "            if left_to_right:\n",
    "                if temp.left:\n",
    "                    nxt.append(temp.left)    \n",
    "                if temp.right:\n",
    "                    nxt.append(temp.right)\n",
    "            else:\n",
    "                if temp.right:\n",
    "                    nxt.append(temp.right)\n",
    "                if temp.left:\n",
    "                    nxt.append(temp.left)\n",
    "                    \n",
    "            if len(curr) == 0:\n",
    "                \n",
    "                curr, nxt = nxt, curr\n",
    "                left_to_right = not left_to_right\n",
    "            \n",
    "        return ans\n",
    "    \n",
    "# Time comp: O(N)\n",
    "# Space comp: O(N)"
   ]
  },
  {
   "cell_type": "code",
   "execution_count": null,
   "id": "b91f0e49",
   "metadata": {},
   "outputs": [],
   "source": [
    "# Another approach is using deque:\n",
    "\n",
    "def zigZagTraversal(root):\n",
    "    q = deque([])\n",
    "    ans = []\n",
    "    \n",
    "    q.append(root)\n",
    "    ans.append(root.data)\n",
    "    \n",
    "    level = 1\n",
    "                 \n",
    "    while len(q) > 0:\n",
    "        n = len(q)\n",
    "        for i in range(n):\n",
    "            \n",
    "            if (level % 2 == 0):\n",
    "                temp = q.pop()\n",
    "            else:\n",
    "                temp = q.popleft()\n",
    "  \n",
    "            if (level % 2 != 0):\n",
    "                if (temp.right):\n",
    "                    q.append(temp.right)\n",
    "                    ans.append(temp.right.data)\n",
    "                if (temp.left):\n",
    "                    q.append(temp.left)\n",
    "                    ans.append(temp.left.data)\n",
    "            elif (level % 2 == 0):\n",
    "                if (temp.left):\n",
    "                    q.appendleft(temp.left)\n",
    "                    ans.append(temp.left.data)\n",
    "                if (temp.right):\n",
    "                    q.appendleft(temp.right)\n",
    "                    ans.append(temp.right.data)\n",
    "        level += 1\n",
    "    return ans\n",
    "\n",
    "# Time comp: O(N)\n",
    "# Space comp: O(N)"
   ]
  },
  {
   "cell_type": "code",
   "execution_count": null,
   "id": "2b3f6879",
   "metadata": {},
   "outputs": [],
   "source": []
  },
  {
   "cell_type": "code",
   "execution_count": null,
   "id": "3e593947",
   "metadata": {},
   "outputs": [],
   "source": []
  },
  {
   "cell_type": "markdown",
   "id": "821680ac",
   "metadata": {},
   "source": [
    "### 176. Check for Balanced Tree"
   ]
  },
  {
   "cell_type": "raw",
   "id": "1f508931",
   "metadata": {},
   "source": [
    "An empty tree is height-balanced. A non-empty binary tree T is balanced if: \n",
    "\n",
    "1. Left subtree of T is balanced \n",
    "2. Right subtree of T is balanced\n",
    "3. The difference between heights of left subtree and the right subtree is not more than 1. "
   ]
  },
  {
   "cell_type": "code",
   "execution_count": 6,
   "id": "58e6a3e3",
   "metadata": {},
   "outputs": [],
   "source": [
    "class Solution:\n",
    "    def findHeight(self,root):\n",
    "        if root == None:\n",
    "            return 0\n",
    "        return max(self.findHeight(root.left), self.findHeight(root.right)) + 1\n",
    "\n",
    "    def isBalanced(self,root):\n",
    "        if root == None:\n",
    "            return True\n",
    "\n",
    "        left = self.findHeight(root.left)\n",
    "        right = self.findHeight(root.right)\n",
    "        \n",
    "        if abs(left - right) <= 1 and self.isBalanced(root.left) and self.isBalanced(root.right):\n",
    "            return True\n",
    "        return False\n",
    "    \n",
    "# Time comp: O(N^2)  (Since for each node we are finding height of tree from that node)\n",
    "# Space comp: O(N)   (due to recursion stack)"
   ]
  },
  {
   "cell_type": "raw",
   "id": "03818da6",
   "metadata": {},
   "source": [
    "https://www.youtube.com/watch?v=Yt50Jfbd8Po\n",
    "\n",
    "Here we modify the finding height function such that, it return -1 if any stage it find imbalance."
   ]
  },
  {
   "cell_type": "code",
   "execution_count": 7,
   "id": "d0a35b2e",
   "metadata": {},
   "outputs": [],
   "source": [
    "class Solution:\n",
    "    def findHeight(self,root):\n",
    "        if root == None:\n",
    "            return 0\n",
    "            \n",
    "        left = self.findHeight(root.left)\n",
    "        right = self.findHeight(root.right)\n",
    "        \n",
    "        if left == -1 or right == -1:\n",
    "            return -1\n",
    "        \n",
    "        if abs(left-right) > 1:\n",
    "            return -1\n",
    "            \n",
    "        return max(left, right) + 1\n",
    "\n",
    "    def isBalanced(self,root):\n",
    "        if self.findHeight(root) == -1:\n",
    "            return False\n",
    "        else:\n",
    "            return True\n",
    "        \n",
    "# time comp: O(N)      (Since we are finding height from root only)\n",
    "# Space comp: O(N)     (Due to recursion stack)"
   ]
  },
  {
   "cell_type": "code",
   "execution_count": null,
   "id": "5085cd5f",
   "metadata": {},
   "outputs": [],
   "source": []
  },
  {
   "cell_type": "markdown",
   "id": "e8660b85",
   "metadata": {},
   "source": [
    "### 456. Check whether Two Trees are Mirror of each other or not?"
   ]
  },
  {
   "cell_type": "raw",
   "id": "b21f89aa",
   "metadata": {},
   "source": [
    "Tree1 is mirror of Tree2 if inorder of Tree 1 is reverse of inorder of Tree 2"
   ]
  },
  {
   "cell_type": "code",
   "execution_count": null,
   "id": "dbeb2a47",
   "metadata": {},
   "outputs": [],
   "source": [
    "class Solution:\n",
    "    def __init__(self):\n",
    "        self.arr1 = []\n",
    "        self.arr2 = []\n",
    "    \n",
    "    def inorder(self,root,tree):\n",
    "        if root == None:\n",
    "            return\n",
    "        \n",
    "        self.inorder(root.left,tree)\n",
    "        \n",
    "        if tree == 1:\n",
    "            self.arr1.append(root.data)\n",
    "        else:\n",
    "            self.arr2.append(root.data)\n",
    "        \n",
    "        self.inorder(root.right,tree)\n",
    "    \n",
    "    def areMirror(self,root1,root2):\n",
    "        self.inorder(root1,1)\n",
    "        self.inorder(root2,2)\n",
    "        \n",
    "        if self.arr1 == self.arr2[::-1]:\n",
    "            return True\n",
    "        return False\n",
    "    \n",
    "# Time comp: O(N)\n",
    "# Space comp: O(N)"
   ]
  },
  {
   "cell_type": "code",
   "execution_count": null,
   "id": "abd91f8a",
   "metadata": {},
   "outputs": [],
   "source": []
  }
 ],
 "metadata": {
  "kernelspec": {
   "display_name": "Python 3",
   "language": "python",
   "name": "python3"
  },
  "language_info": {
   "codemirror_mode": {
    "name": "ipython",
    "version": 3
   },
   "file_extension": ".py",
   "mimetype": "text/x-python",
   "name": "python",
   "nbconvert_exporter": "python",
   "pygments_lexer": "ipython3",
   "version": "3.6.5"
  }
 },
 "nbformat": 4,
 "nbformat_minor": 5
}
