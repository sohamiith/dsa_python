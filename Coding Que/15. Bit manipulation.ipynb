{
 "cells": [
  {
   "cell_type": "markdown",
   "id": "95ea4b1b",
   "metadata": {},
   "source": [
    "## Bit Manipulation"
   ]
  },
  {
   "cell_type": "code",
   "execution_count": null,
   "id": "444edab3",
   "metadata": {},
   "outputs": [],
   "source": [
    "convert decimal to binary:\n",
    "\n",
    "while N:\n",
    "    arr.append(N%2)\n",
    "    N = N//2\n",
    "arr[::-1]\n",
    "\n",
    "Additions and subtraction in binary\n",
    "-> Additions are stright forward\n",
    "  1101 \n",
    " +0110\n",
    " ------\n",
    " 10011 \n",
    " \n",
    "-> Subtraction:\n",
    "   9-3 : For this find 2s comp of 3 and add it in the result\n",
    "   \n",
    "   1001   =>  1001\n",
    "  -0010      +1110\n",
    "             ------\n",
    "              0111\n",
    "              \n",
    "2s complement:\n",
    "-> Original way: Invert all the bits and then add 1"
   ]
  },
  {
   "cell_type": "markdown",
   "id": "62955dbb",
   "metadata": {},
   "source": [
    "### 440. Count set bits in an integer"
   ]
  },
  {
   "cell_type": "markdown",
   "id": "194845f7",
   "metadata": {},
   "source": [
    "Given a positive integer N, print count of set bits in it. \n",
    "\n",
    "Example 1:\n",
    "\n",
    "Input: N = 6\n",
    "Output: 2\n",
    "Explanation:Binary representation is '110' So the count of the set bit is 2."
   ]
  },
  {
   "cell_type": "code",
   "execution_count": 3,
   "id": "2518723f",
   "metadata": {},
   "outputs": [],
   "source": [
    "class Solution:\n",
    "    def setBits(self, N):\n",
    "        arr = []\n",
    "        \n",
    "        while N:\n",
    "            arr.append(N%2)\n",
    "            N = N//2\n",
    "        \n",
    "        return arr.count(1)\n",
    "    \n",
    "# Time comp:O(Log N)\n",
    "# Space comp:O(log N)"
   ]
  },
  {
   "cell_type": "code",
   "execution_count": 4,
   "id": "b21a6600",
   "metadata": {},
   "outputs": [],
   "source": [
    "class Solution:\n",
    "    def setBits(self, N):\n",
    "        count = 0\n",
    "        \n",
    "        while N:\n",
    "            if N%2 == 1:\n",
    "                count += 1\n",
    "            N = N//2\n",
    "        \n",
    "        return count\n",
    "    \n",
    "# Time comp:O(Log N)\n",
    "# Space comp:O(1)"
   ]
  },
  {
   "cell_type": "code",
   "execution_count": 5,
   "id": "e142bcc3",
   "metadata": {},
   "outputs": [
    {
     "data": {
      "text/plain": [
       "2"
      ]
     },
     "execution_count": 5,
     "metadata": {},
     "output_type": "execute_result"
    }
   ],
   "source": [
    "s = Solution()\n",
    "s.setBits(5)"
   ]
  },
  {
   "cell_type": "code",
   "execution_count": 12,
   "id": "a9f1b437",
   "metadata": {},
   "outputs": [],
   "source": [
    "class Solution:\n",
    "    def setBits(self, N):\n",
    "        x = bin(N)[2:]\n",
    "        return x.count('1')"
   ]
  },
  {
   "cell_type": "code",
   "execution_count": 13,
   "id": "3f099629",
   "metadata": {},
   "outputs": [
    {
     "data": {
      "text/plain": [
       "2"
      ]
     },
     "execution_count": 13,
     "metadata": {},
     "output_type": "execute_result"
    }
   ],
   "source": [
    "s = Solution()\n",
    "s.setBits(5)"
   ]
  },
  {
   "cell_type": "markdown",
   "id": "829d689b",
   "metadata": {},
   "source": [
    "### 441. Find the two non-repeating elements in an array of repeating elements"
   ]
  },
  {
   "cell_type": "markdown",
   "id": "6ff3c5d7",
   "metadata": {},
   "source": [
    "Given an array A containing 2*N+2 positive numbers, out of which 2*N numbers exist in pairs whereas the other two number occur exactly once and are distinct. Find the other two numbers. Return in increasing order.\n",
    "\n",
    "Example 1:\n",
    "\n",
    "Input: N = 2, arr[] = {1, 2, 3, 2, 1, 4}\n",
    "Output:3 4 \n",
    "Explanation:3 and 4 occur exactly once."
   ]
  },
  {
   "cell_type": "code",
   "execution_count": 1,
   "id": "405b2764",
   "metadata": {},
   "outputs": [],
   "source": [
    "class Solution:\n",
    "    def singleNumber(self, nums):\n",
    "        hash_map = {}\n",
    "        \n",
    "        for i in nums:\n",
    "            if i in hash_map:\n",
    "                hash_map[i] += 1\n",
    "            else:\n",
    "                hash_map[i] = 1\n",
    "        \n",
    "        ans = []\n",
    "        for i in nums:\n",
    "            if hash_map[i] == 1:\n",
    "                ans.append(i)\n",
    "        \n",
    "        ans.sort()\n",
    "        return ans\n",
    "    \n",
    "# Time comp:O(N)\n",
    "# space comp:O(N)"
   ]
  },
  {
   "cell_type": "markdown",
   "id": "f0ecf95c",
   "metadata": {},
   "source": [
    "### 442. Count number of bits to be flipped to convert A to B"
   ]
  },
  {
   "cell_type": "markdown",
   "id": "64fadfe6",
   "metadata": {},
   "source": [
    "You are given two numbers A and B. The task is to count the number of bits needed to be flipped to convert A to B.\n",
    "\n",
    "Example 1:\n",
    "\n",
    "Input: A = 10, B = 20\n",
    "Output: 4\n",
    "Explanation:\n",
    "A  = 01010\n",
    "B  = 10100\n",
    "As we can see, the bits of A that need to be flipped are 01010. If we flip these bits, we get 10100, which is B."
   ]
  },
  {
   "cell_type": "code",
   "execution_count": 15,
   "id": "91064eb1",
   "metadata": {},
   "outputs": [],
   "source": [
    "class Solution:\n",
    "    def countBitsFlip(self,a,b):\n",
    "        x = a^b\n",
    "        x = bin(x)[2:]\n",
    "        return x.count('1')"
   ]
  },
  {
   "cell_type": "code",
   "execution_count": 16,
   "id": "f15641ec",
   "metadata": {},
   "outputs": [
    {
     "data": {
      "text/plain": [
       "4"
      ]
     },
     "execution_count": 16,
     "metadata": {},
     "output_type": "execute_result"
    }
   ],
   "source": [
    "s = Solution()\n",
    "s.countBitsFlip(10,20)"
   ]
  },
  {
   "cell_type": "markdown",
   "id": "67edd81b",
   "metadata": {},
   "source": [
    "### 444. Program to find whether a no is power of two"
   ]
  },
  {
   "cell_type": "markdown",
   "id": "f8752dbd",
   "metadata": {},
   "source": [
    "Given a non-negative integer N. The task is to check if N is a power of 2. More formally, check if N can be expressed as 2x for some x.\n",
    "\n",
    "Example 1:\n",
    "\n",
    "Input: N = 1\n",
    "Output: YES\n",
    "Explanation:1 is equal to 2 raised to 0 (20 = 1).\n",
    "\n",
    "Example 2:\n",
    "Input: N = 98\n",
    "Output: NO\n",
    "Explanation: 98 cannot be obtained by any power of 2."
   ]
  },
  {
   "cell_type": "code",
   "execution_count": 20,
   "id": "d64e6837",
   "metadata": {},
   "outputs": [],
   "source": [
    "class Solution:\n",
    "    def isPowerofTwo(self,n):\n",
    "        x = bin(n)[2:]\n",
    "        if x.count('1') == 1:\n",
    "            return True\n",
    "        return False"
   ]
  },
  {
   "cell_type": "code",
   "execution_count": 21,
   "id": "1d3cc9c7",
   "metadata": {},
   "outputs": [
    {
     "name": "stdout",
     "output_type": "stream",
     "text": [
      "True\n",
      "False\n"
     ]
    }
   ],
   "source": [
    "s= Solution()\n",
    "print(s.isPowerofTwo(4))\n",
    "print(s.isPowerofTwo(15))"
   ]
  },
  {
   "cell_type": "markdown",
   "id": "8f25eead",
   "metadata": {},
   "source": [
    "### 445. Find position of set bit"
   ]
  },
  {
   "cell_type": "markdown",
   "id": "fb84d013",
   "metadata": {},
   "source": [
    "Given a number N having only one ‘1’ and all other ’0’s in its binary representation, find position of the only set bit. If there are 0 or more than 1 set bit the answer should be -1. Position of  set bit '1' should be counted starting with 1 from LSB side in binary representation of the number.\n",
    "\n",
    "Example 1:\n",
    "\n",
    "Input:N = 2\n",
    "Output: 2\n",
    "Explanation:2 is represented as \"10\" in Binary. As we see there's only one set bit and it's in Position 2 and thus the Output 2.\n",
    "\n",
    "Example 2:\n",
    "\n",
    "Input:N = 5\n",
    "Output: -1\n",
    "Explanation: 5 is represented as \"101\" in Binary. As we see there's two set bits and thus the Output -1."
   ]
  },
  {
   "cell_type": "code",
   "execution_count": 18,
   "id": "83b5397a",
   "metadata": {},
   "outputs": [],
   "source": [
    "class Solution:\n",
    "    def findPosition(self, N):\n",
    "        x = bin(N)[2:]\n",
    "        if x.count('1') != 1:\n",
    "            return -1\n",
    "        \n",
    "        p = x.index('1')\n",
    "        return len(x)-p"
   ]
  },
  {
   "cell_type": "code",
   "execution_count": 19,
   "id": "f78860a8",
   "metadata": {},
   "outputs": [
    {
     "name": "stdout",
     "output_type": "stream",
     "text": [
      "3\n",
      "-1\n",
      "4\n"
     ]
    }
   ],
   "source": [
    "s = Solution()\n",
    "print(s.findPosition(4))\n",
    "print(s.findPosition(3))\n",
    "print(s.findPosition(8))"
   ]
  },
  {
   "cell_type": "markdown",
   "id": "d409eee2",
   "metadata": {},
   "source": [
    "### 446. Copy set bits in a range"
   ]
  },
  {
   "cell_type": "markdown",
   "id": "febcc5f6",
   "metadata": {},
   "source": [
    "Given two numbers x and y, and a range [l, r] where 1 <= l, r <= 32. Find the set bits of y in range [l, r] and set these bits in x also.\n",
    "\n",
    "Example 1:\n",
    "\n",
    "Input: X = 44, Y = 3 ,L = 1,  R = 5\n",
    "Output: 47\n",
    "Explaination: presenation of 44 and 3 are 101100 and 11. So in the range 1 to 5 there are two set bits. If those are set in 44 it will become 101111 = 47."
   ]
  },
  {
   "cell_type": "code",
   "execution_count": 3,
   "id": "bba9c6db",
   "metadata": {},
   "outputs": [],
   "source": [
    "class Solution:\n",
    "    def setSetBit(self, x, y, l, r):\n",
    "        if (l < 1 or r > 32):\n",
    "            return x;\n",
    "        \n",
    "        for i in range(l,r+1):\n",
    "            mask = 1 << (i - 1)\n",
    " \n",
    "            if ((y & mask) != 0):\n",
    "                x = x | mask\n",
    "\n",
    "        return x\n",
    "    \n",
    "# Time comp:O(r-l)\n",
    "# Space comp:O(1)"
   ]
  },
  {
   "cell_type": "code",
   "execution_count": 4,
   "id": "e521a88d",
   "metadata": {},
   "outputs": [
    {
     "data": {
      "text/plain": [
       "47"
      ]
     },
     "execution_count": 4,
     "metadata": {},
     "output_type": "execute_result"
    }
   ],
   "source": [
    "s = Solution()\n",
    "s.setSetBit(44,3,1,5)"
   ]
  }
 ],
 "metadata": {
  "kernelspec": {
   "display_name": "Python 3",
   "language": "python",
   "name": "python3"
  },
  "language_info": {
   "codemirror_mode": {
    "name": "ipython",
    "version": 3
   },
   "file_extension": ".py",
   "mimetype": "text/x-python",
   "name": "python",
   "nbconvert_exporter": "python",
   "pygments_lexer": "ipython3",
   "version": "3.9.12"
  }
 },
 "nbformat": 4,
 "nbformat_minor": 5
}
