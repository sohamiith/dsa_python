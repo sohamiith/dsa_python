{
 "cells": [
  {
   "cell_type": "markdown",
   "id": "c6d3df84",
   "metadata": {},
   "source": [
    "## Matrix"
   ]
  },
  {
   "cell_type": "markdown",
   "id": "58baabf8",
   "metadata": {},
   "source": [
    "### 38. Spiral traversal on a Matrix"
   ]
  },
  {
   "cell_type": "raw",
   "id": "c85ff783",
   "metadata": {},
   "source": [
    "Given a matrix of size r*c. Traverse the matrix in spiral form.\n",
    "\n",
    "r = 4, c = 4\n",
    "matrix[][] = {{1, 2, 3, 4},\n",
    "           {5, 6, 7, 8},\n",
    "           {9, 10, 11, 12},\n",
    "           {13, 14, 15,16}}\n",
    "\n",
    "Output: \n",
    "1 2 3 4 8 12 16 15 14 13 9 5 6 7 11 10"
   ]
  },
  {
   "cell_type": "code",
   "execution_count": 43,
   "id": "5a873550",
   "metadata": {},
   "outputs": [],
   "source": [
    "def spirallyTraverse(matrix, row, column):\n",
    "    x = 0   # Current row\n",
    "    y = 0   # Current Column\n",
    "    ans = []\n",
    "    while x<row and y<column:\n",
    "        \n",
    "        # print current row\n",
    "        for i in range(y,column):\n",
    "            ans.append(matrix[x][i])\n",
    "            #print(matrix[x][i])\n",
    "        x = x+1\n",
    "        \n",
    "        # print current column\n",
    "        for i in range(x,row):\n",
    "            ans.append(matrix[i][column-1])\n",
    "            #print(matrix[i][column-1])\n",
    "        column = column-1\n",
    "        \n",
    "        # print last row from unvisited rows\n",
    "        if x < row:\n",
    "            for i in range(column-1,y-1,-1):\n",
    "                ans.append(matrix[row-1][i])\n",
    "                #print(matrix[row-1][i])\n",
    "            row = row-1\n",
    "            \n",
    "        # print first column from unvisited columns\n",
    "        if y < column:\n",
    "            for i in range(row-1,x-1,-1):\n",
    "                ans.append(matrix[i][y])\n",
    "                #print(matrix[i][y])\n",
    "            y += 1\n",
    "    return ans\n",
    "\n",
    "# Time comp: O(row*column)\n",
    "# Space Comp: O(1)"
   ]
  },
  {
   "cell_type": "code",
   "execution_count": 44,
   "id": "1a95d7ba",
   "metadata": {},
   "outputs": [
    {
     "data": {
      "text/plain": [
       "[1, 2, 3, 4, 8, 12, 16, 15, 14, 13, 9, 5, 6, 7, 11, 10]"
      ]
     },
     "execution_count": 44,
     "metadata": {},
     "output_type": "execute_result"
    }
   ],
   "source": [
    "matrix = [[1, 2, 3, 4],\n",
    "           [5, 6, 7, 8],\n",
    "           [9, 10, 11, 12],\n",
    "           [13, 14, 15,16]]\n",
    "spirallyTraverse(matrix, len(matrix), len(matrix[0]))"
   ]
  },
  {
   "cell_type": "code",
   "execution_count": null,
   "id": "b5a5ea02",
   "metadata": {},
   "outputs": [],
   "source": []
  },
  {
   "cell_type": "markdown",
   "id": "b960cef7",
   "metadata": {},
   "source": [
    "### 39. Search in Matrix"
   ]
  },
  {
   "cell_type": "raw",
   "id": "83eae636",
   "metadata": {},
   "source": [
    "Write an efficient algorithm that searches for a value target in an m x n integer matrix matrix. This matrix has the following properties:\n",
    "\n",
    "Integers in each row are sorted from left to right.\n",
    "The first integer of each row is greater than the last integer of the previous row."
   ]
  },
  {
   "cell_type": "code",
   "execution_count": 51,
   "id": "3475d603",
   "metadata": {},
   "outputs": [],
   "source": [
    "def searchMatrix(matrix, target):\n",
    "    row = len(matrix)\n",
    "    column = len(matrix[0])\n",
    "    \n",
    "    for i in range(row):\n",
    "        if target >= matrix[i][0] and target <= matrix[i][column-1]:\n",
    "            \n",
    "            # Linear search\n",
    "            for j in matrix[i]:\n",
    "                if j == target:\n",
    "                    return 1\n",
    "            # Here you can use binary search as well\n",
    "\n",
    "    return 0\n",
    "\n",
    "# Time Comp: O(row+column)\n",
    "# space comp: O(1)"
   ]
  },
  {
   "cell_type": "code",
   "execution_count": 52,
   "id": "5f709101",
   "metadata": {},
   "outputs": [
    {
     "data": {
      "text/plain": [
       "0"
      ]
     },
     "execution_count": 52,
     "metadata": {},
     "output_type": "execute_result"
    }
   ],
   "source": [
    "matrix = [[1,3,5,7],[10,11,16,20],[23,30,34,60]]\n",
    "target = 35\n",
    "searchMatrix(matrix, target)"
   ]
  },
  {
   "cell_type": "code",
   "execution_count": null,
   "id": "aa3f2709",
   "metadata": {},
   "outputs": [],
   "source": []
  },
  {
   "cell_type": "markdown",
   "id": "624d553d",
   "metadata": {},
   "source": [
    "### 40. Median in a row-wise sorted Matrix"
   ]
  },
  {
   "cell_type": "raw",
   "id": "edf9d211",
   "metadata": {},
   "source": [
    "Given a row wise sorted matrix of size RxC where R and C are always odd, find the median of the matrix.\n",
    "Input:\n",
    "Row wise sorted means elements of all the rows are sorted in that row\n",
    "R = 3, C = 3\n",
    "M = [[1, 3, 5], \n",
    "     [2, 6, 9], \n",
    "     [3, 6, 9]]\n",
    "\n",
    "Output: 5\n",
    "\n",
    "Explanation:\n",
    "Sorting matrix elements gives us \n",
    "{1,2,3,3,5,6,6,9,9}. Hence, 5 is median."
   ]
  },
  {
   "cell_type": "code",
   "execution_count": 62,
   "id": "e6279942",
   "metadata": {},
   "outputs": [],
   "source": [
    "# A simple solution:\n",
    "# Convert it into 1D array, sort it and return middle element\n",
    "\n",
    "def median(matrix, r, c):\n",
    "    arr = []\n",
    "    for i in matrix:\n",
    "        arr.extend(i)\n",
    "    arr.sort()\n",
    "    return arr[len(arr)//2]\n",
    "\n",
    "# Time comp: O(r*c*log(r*c))\n",
    "# Space comp: O(r*c)"
   ]
  },
  {
   "cell_type": "code",
   "execution_count": 63,
   "id": "f9e576da",
   "metadata": {},
   "outputs": [
    {
     "data": {
      "text/plain": [
       "5"
      ]
     },
     "execution_count": 63,
     "metadata": {},
     "output_type": "execute_result"
    }
   ],
   "source": [
    "matrix = [[1, 3, 5], \n",
    "     [2, 6, 9], \n",
    "     [3, 6, 9]]\n",
    "median(matrix, len(matrix), len(matrix[0]))"
   ]
  },
  {
   "cell_type": "code",
   "execution_count": 68,
   "id": "4c4651da",
   "metadata": {},
   "outputs": [],
   "source": [
    "# Do it again after completing binary search\n",
    "# https://www.geeksforgeeks.org/find-median-row-wise-sorted-matrix/\n",
    "# https://www.youtube.com/watch?v=63fPPOdIr2c\n",
    "\n",
    "from bisect import bisect_right as upper_bound\n",
    "def median2(matrix, r, c):\n",
    "    mi = matrix[0][0]\n",
    "    mx = matrix[0][0]\n",
    "    for i in range(r):\n",
    "        if mi > matrix[i][0]:\n",
    "            mi = matrix[i][0]\n",
    "        if mx < matrix[i][c-1]:\n",
    "            mx = matrix[i][c-1]\n",
    "    \n",
    "    desired = (r * c + 1) // 2\n",
    "    while (mi < mx):\n",
    "        mid = mi + (mx - mi) // 2\n",
    "        place = 0;\n",
    "         \n",
    "        # Find count of elements smaller than mid\n",
    "        for i in range(r):\n",
    "            j = upper_bound(matrix[i], mid)\n",
    "            place = place + j\n",
    "        if place < desired:\n",
    "            mi = mid + 1\n",
    "        else:\n",
    "            mx = mid\n",
    "    return mi\n",
    "\n",
    "# Time Comp: O(32 * r * log(c))\n",
    "# Space Comp: O(1)\n",
    "\n",
    "# The upper bound function will take log(c) time and is performed for each row. \n",
    "# And since the numbers will be max of 32 bit, \n",
    "# so binary search of numbers from min to max will be performed in at most 32 operations. "
   ]
  },
  {
   "cell_type": "code",
   "execution_count": 69,
   "id": "13ce6774",
   "metadata": {},
   "outputs": [
    {
     "data": {
      "text/plain": [
       "5"
      ]
     },
     "execution_count": 69,
     "metadata": {},
     "output_type": "execute_result"
    }
   ],
   "source": [
    "matrix = [[1, 3, 5], \n",
    "     [2, 6, 9], \n",
    "     [3, 6, 9]]\n",
    "median2(matrix, len(matrix), len(matrix[0]))"
   ]
  },
  {
   "cell_type": "code",
   "execution_count": null,
   "id": "312183bd",
   "metadata": {},
   "outputs": [],
   "source": []
  },
  {
   "cell_type": "markdown",
   "id": "336a1261",
   "metadata": {},
   "source": [
    "### 41. Find row with max 1s"
   ]
  },
  {
   "cell_type": "raw",
   "id": "1da2421e",
   "metadata": {},
   "source": [
    "Given a boolean 2D array of n x m dimensions where each row is sorted. Find the 0-based index of the first row that has the maximum number of 1's.\n",
    "\n",
    "Input: \n",
    "N = 4 , M = 4\n",
    "Arr[][] = {{0, 1, 1, 1},\n",
    "           {0, 0, 1, 1},\n",
    "           {1, 1, 1, 1},\n",
    "           {0, 0, 0, 0}}\n",
    "Output: 2\n",
    "Explanation: Row 2 contains 4 1's (0-based\n",
    "indexing)."
   ]
  },
  {
   "cell_type": "code",
   "execution_count": 70,
   "id": "76bd93e0",
   "metadata": {},
   "outputs": [],
   "source": [
    "# brute force approach\n",
    "# Count number of 1 in each row and return raw with max 1\n",
    "\n",
    "def rowWithMax1s(arr, n, m):\n",
    "    ans = -1\n",
    "    count = 0\n",
    "    \n",
    "    for i in range(len(arr)):\n",
    "        temp = arr[i].count(1)\n",
    "        if temp > count:\n",
    "            count = temp\n",
    "            ans = i\n",
    "    return ans\n",
    "\n",
    "# Time comp: O(MN)\n",
    "# Space Comp: O(1)"
   ]
  },
  {
   "cell_type": "code",
   "execution_count": 73,
   "id": "161f21ab",
   "metadata": {},
   "outputs": [
    {
     "data": {
      "text/plain": [
       "1"
      ]
     },
     "execution_count": 73,
     "metadata": {},
     "output_type": "execute_result"
    }
   ],
   "source": [
    "arr = [[0, 1, 1, 1],\n",
    "        [0, 0, 1, 1],\n",
    "        [1, 1, 1, 1],\n",
    "        [0, 0, 0, 0]]\n",
    "\n",
    "arr = [[0, 0],\n",
    "        [1, 1]]\n",
    "rowWithMax1s(arr, len(arr), len(arr[0]))"
   ]
  },
  {
   "cell_type": "code",
   "execution_count": 123,
   "id": "283496d9",
   "metadata": {},
   "outputs": [],
   "source": [
    "# Here we can see that, in each row, 1s are followed by 0s\n",
    "# So we can point first 1 of first raw and check next raws, \n",
    "# if next row's point-1 element is 0 then we can ignore that row\n",
    "\n",
    "def rowWithMax1s(arr, n, m):\n",
    "    pointer = m\n",
    "    ans = -1\n",
    "    for i in range(m):\n",
    "        if arr[0][i] == 1:\n",
    "            pointer = i\n",
    "            ans = 0\n",
    "    \n",
    "    \n",
    "    for i in range(n):\n",
    "        if arr[i][pointer-1] != 1:\n",
    "            continue\n",
    "        \n",
    "        while pointer > 0 and arr[i][pointer-1] == 1:\n",
    "            pointer -= 1\n",
    "            ans = i\n",
    "    \n",
    "    return ans\n",
    "\n",
    "# Time Comp: O(M+N)\n",
    "# Space Comp: O(1)"
   ]
  },
  {
   "cell_type": "code",
   "execution_count": 124,
   "id": "a572a853",
   "metadata": {},
   "outputs": [
    {
     "data": {
      "text/plain": [
       "2"
      ]
     },
     "execution_count": 124,
     "metadata": {},
     "output_type": "execute_result"
    }
   ],
   "source": [
    "arr = [[0, 1, 1, 1],\n",
    "        [0, 0, 1, 1],\n",
    "        [1, 1, 1, 1],\n",
    "        [0, 0, 0, 0]]\n",
    "\n",
    "#arr = [[0, 0],\n",
    "#        [2, 2]]\n",
    "#arr = [[0], [0], [0], [1], [1], [0], [0], [1]]\n",
    "rowWithMax1s(arr, len(arr), len(arr[0]))"
   ]
  },
  {
   "cell_type": "code",
   "execution_count": null,
   "id": "85116cd6",
   "metadata": {},
   "outputs": [],
   "source": []
  },
  {
   "cell_type": "markdown",
   "id": "9eadccbb",
   "metadata": {},
   "source": [
    "### 42. Print elements in sorted order using row-column wise sorted matrix"
   ]
  },
  {
   "cell_type": "raw",
   "id": "bda5ef9f",
   "metadata": {},
   "source": [
    "Input:\n",
    "N=4\n",
    "Mat=[[10,20,30,40],\n",
    "[15,25,35,45] \n",
    "[27,29,37,48] \n",
    "[32,33,39,50]]\n",
    "Output:\n",
    "10 15 20 25 \n",
    "27 29 30 32\n",
    "33 35 37 39\n",
    "40 45 48 50"
   ]
  },
  {
   "cell_type": "code",
   "execution_count": 140,
   "id": "e2d0ad7f",
   "metadata": {},
   "outputs": [],
   "source": [
    "def sortedMatrix(N,Mat):\n",
    "    #code here\n",
    "    arr = []\n",
    "    for i in range(N):\n",
    "        arr.extend(Mat[i])\n",
    "    arr.sort()\n",
    "\n",
    "    v = []\n",
    "    ans = []\n",
    "    for i in range(len(arr)):\n",
    "        if i>0 and i%N == 0:\n",
    "            ans.append(v)\n",
    "            v = []\n",
    "        v.append(arr[i])\n",
    "    ans.append(v)\n",
    "    return ans\n",
    "\n",
    "# Time comp: O(N*N log N*N)\n",
    "# Space Comp: O(N*N)"
   ]
  },
  {
   "cell_type": "code",
   "execution_count": 141,
   "id": "75dcb044",
   "metadata": {},
   "outputs": [
    {
     "data": {
      "text/plain": [
       "[[10, 15, 20, 25], [27, 29, 30, 32], [33, 35, 37, 39], [40, 45, 48, 50]]"
      ]
     },
     "execution_count": 141,
     "metadata": {},
     "output_type": "execute_result"
    }
   ],
   "source": [
    "N=4\n",
    "Mat=[[10,20,30,40],\n",
    "[15,25,35,45],\n",
    "[27,29,37,48],\n",
    "[32,33,39,50]]\n",
    "sortedMatrix(N,Mat)"
   ]
  },
  {
   "cell_type": "code",
   "execution_count": null,
   "id": "66406116",
   "metadata": {},
   "outputs": [],
   "source": []
  },
  {
   "cell_type": "markdown",
   "id": "2d9681d7",
   "metadata": {},
   "source": [
    "### 43. Max size rectangle"
   ]
  },
  {
   "cell_type": "raw",
   "id": "cb90164a",
   "metadata": {},
   "source": [
    "Given a binary matrix M of size n X m. Find the maximum area of a rectangle formed only of 1s in the given matrix.\n",
    "Input:\n",
    "n = 4, m = 4\n",
    "M[][] = {{0 1 1 0},\n",
    "         {1 1 1 1},\n",
    "         {1 1 1 1},\n",
    "         {1 1 0 0}}\n",
    "Output: 8\n",
    "Explanation: For the above test case the\n",
    "matrix will look like\n",
    "0 1 1 0\n",
    "1 1 1 1\n",
    "1 1 1 1\n",
    "1 1 0 0\n",
    "the max size rectangle is \n",
    "1 1 1 1\n",
    "1 1 1 1\n",
    "and area is 4 *2 = 8."
   ]
  },
  {
   "cell_type": "code",
   "execution_count": null,
   "id": "12a96b49",
   "metadata": {},
   "outputs": [],
   "source": []
  },
  {
   "cell_type": "code",
   "execution_count": null,
   "id": "f347b0f6",
   "metadata": {},
   "outputs": [],
   "source": []
  },
  {
   "cell_type": "markdown",
   "id": "5561e220",
   "metadata": {},
   "source": [
    "### 44. Find a specific pair in Matrix"
   ]
  },
  {
   "cell_type": "code",
   "execution_count": null,
   "id": "e2aefab9",
   "metadata": {},
   "outputs": [],
   "source": []
  },
  {
   "cell_type": "code",
   "execution_count": null,
   "id": "c5480971",
   "metadata": {},
   "outputs": [],
   "source": []
  },
  {
   "cell_type": "markdown",
   "id": "c1187bb7",
   "metadata": {},
   "source": [
    "### 45. Rotate matrix by 90 degrees"
   ]
  },
  {
   "cell_type": "raw",
   "id": "4e358c52",
   "metadata": {},
   "source": [
    "You are given an n x n 2D matrix representing an image, rotate the image by 90 degrees (clockwise).\n",
    "\n",
    "You have to rotate the image in-place, which means you have to modify the input 2D matrix directly. DO NOT allocate another 2D matrix and do the rotation."
   ]
  },
  {
   "cell_type": "code",
   "execution_count": 144,
   "id": "cbf4fed8",
   "metadata": {},
   "outputs": [],
   "source": [
    "# By using extra space\n",
    "\"\"\"\n",
    "00 01 02      20 10 00     02 12 22\n",
    "10 11 12  =>  21 11 01  => 01 11 21 \n",
    "20 21 22      22 12 02     00 10 20\n",
    "\"\"\"\n",
    "def rotate(matrix):\n",
    "    n = len(matrix[0])\n",
    "    \n",
    "    ans = []\n",
    "    v = []\n",
    "    for i in range(n):\n",
    "        for j in range(n-1,-1,-1):\n",
    "            v.append(matrix[j][i])\n",
    "        ans.append(v)\n",
    "        v = []\n",
    "    return ans\n",
    "\n",
    "# Time comp: O(N*N)\n",
    "# Space Comp: O(N*N)"
   ]
  },
  {
   "cell_type": "code",
   "execution_count": 145,
   "id": "bceb4844",
   "metadata": {},
   "outputs": [
    {
     "data": {
      "text/plain": [
       "[[7, 4, 1], [8, 5, 2], [9, 6, 3]]"
      ]
     },
     "execution_count": 145,
     "metadata": {},
     "output_type": "execute_result"
    }
   ],
   "source": [
    "matrix = [[1,2,3],[4,5,6],[7,8,9]]\n",
    "rotate(matrix)"
   ]
  },
  {
   "cell_type": "code",
   "execution_count": 148,
   "id": "a6b46c51",
   "metadata": {},
   "outputs": [],
   "source": [
    "# Without using extra space\n",
    "def rotate2(matrix):\n",
    "    n = len(matrix[0])\n",
    "    \n",
    "    for i in range(n//2):\n",
    "        for j in range(i,n-1-i):\n",
    "            temp = matrix[i][j]\n",
    "            matrix[i][j] = matrix[n-1-j][i]\n",
    "            matrix[n-1-j][i] = matrix[n-1-i][n-1-j]\n",
    "            matrix[n-1-i][n-1-j] = matrix[j][n-1-i]\n",
    "            matrix[j][n-1-i] = temp\n",
    "            \n",
    "    return matrix\n",
    "\n",
    "# Time Comp: O(N*N)\n",
    "# Space Comp: O(1)"
   ]
  },
  {
   "cell_type": "raw",
   "id": "32dfd0ce",
   "metadata": {},
   "source": [
    "Logic:\n",
    "Let size of row and column be 3. \n",
    "\n",
    "During first iteration – \n",
    "a[i][j] = Element at first index (leftmost corner top)= 1.\n",
    "a[j][n-1-i]= Rightmost corner top Element = 3.\n",
    "a[n-1-i][n-1-j] = Rightmost corner bottom element = 9.\n",
    "a[n-1-j][i] = Leftmost corner bottom element = 7.\n",
    "Move these elements in the clockwise direction. \n",
    "\n",
    "During second iteration – \n",
    "a[i][j] = 2.\n",
    "a[j][n-1-i] = 6.\n",
    "a[n-1-i][n-1-j] = 8.\n",
    "a[n-1-j][i] = 4. \n",
    "\n",
    "Similarly, move these elements in the clockwise direction. "
   ]
  },
  {
   "cell_type": "code",
   "execution_count": 149,
   "id": "08bb8919",
   "metadata": {},
   "outputs": [
    {
     "data": {
      "text/plain": [
       "[[7, 4, 1], [8, 5, 2], [9, 6, 3]]"
      ]
     },
     "execution_count": 149,
     "metadata": {},
     "output_type": "execute_result"
    }
   ],
   "source": [
    "matrix = [[1,2,3],[4,5,6],[7,8,9]]\n",
    "rotate2(matrix)"
   ]
  },
  {
   "cell_type": "code",
   "execution_count": 1,
   "id": "0ba4e58c",
   "metadata": {},
   "outputs": [],
   "source": [
    "# Taken from udemy\n",
    "\n",
    "ef rotate_matrix(matrix):\n",
    "    '''rotates a matrix 90 degrees clockwise'''\n",
    "    n = len(matrix)\n",
    "    for layer in range(n // 2):\n",
    "        first, last = layer, n - layer - 1\n",
    "        for i in range(first, last):\n",
    "            # save top\n",
    "            top = matrix[layer][i]\n",
    "\n",
    "            # left -> top\n",
    "            matrix[layer][i] = matrix[-i - 1][layer]\n",
    "\n",
    "            # bottom -> left\n",
    "            matrix[-i - 1][layer] = matrix[-layer - 1][-i - 1]\n",
    "\n",
    "            # right -> bottom\n",
    "            matrix[-layer - 1][-i - 1] = matrix[i][- layer - 1]\n",
    "\n",
    "            # top -> right\n",
    "            matrix[i][- layer - 1] = top\n",
    "    return matrix"
   ]
  },
  {
   "cell_type": "code",
   "execution_count": 2,
   "id": "d43ff27c",
   "metadata": {},
   "outputs": [
    {
     "data": {
      "text/plain": [
       "[[7, 4, 1], [8, 5, 2], [9, 6, 3]]"
      ]
     },
     "execution_count": 2,
     "metadata": {},
     "output_type": "execute_result"
    }
   ],
   "source": [
    "matrix = [[1,2,3],[4,5,6],[7,8,9]]\n",
    "rotate_matrix(matrix)"
   ]
  },
  {
   "cell_type": "code",
   "execution_count": null,
   "id": "275e520f",
   "metadata": {},
   "outputs": [],
   "source": []
  },
  {
   "cell_type": "markdown",
   "id": "a1671fa4",
   "metadata": {},
   "source": [
    "### 46. Kth smallest element in Matrix"
   ]
  },
  {
   "cell_type": "raw",
   "id": "c6a47feb",
   "metadata": {},
   "source": [
    "N = 4\n",
    "mat[][] = {{16, 28, 60, 64},\n",
    "           {22, 41, 63, 91},\n",
    "           {27, 50, 87, 93},\n",
    "           {36, 78, 87, 94 }}\n",
    "K = 3\n",
    "Output: 27"
   ]
  },
  {
   "cell_type": "code",
   "execution_count": null,
   "id": "16950d53",
   "metadata": {},
   "outputs": [],
   "source": []
  },
  {
   "cell_type": "code",
   "execution_count": null,
   "id": "13fcb316",
   "metadata": {},
   "outputs": [],
   "source": [
    "mat = [[16, 28, 60, 64],\n",
    "      [22, 41, 63, 91],\n",
    "      [27, 50, 87, 93],\n",
    "      [36, 78, 87, 94]]\n",
    "kthSmallest(mat, 4, 3)"
   ]
  },
  {
   "cell_type": "code",
   "execution_count": null,
   "id": "c569b731",
   "metadata": {},
   "outputs": [],
   "source": []
  },
  {
   "cell_type": "markdown",
   "id": "111cb7d2",
   "metadata": {},
   "source": [
    "### 47. Common Elements in All Rows"
   ]
  },
  {
   "cell_type": "raw",
   "id": "d4041505",
   "metadata": {},
   "source": [
    "You are given a matrix Mat of N rows and M columns. You have to find and print all the elements in a sorted order that are common in all rows of the given matrix.\n",
    "\n",
    "Input:\n",
    "N = 2\n",
    "M = 5\n",
    "Mat[][] = {{3,2,6,2,1},{6,2,5,9,9}}\n",
    "Output:\n",
    "{2,6}"
   ]
  },
  {
   "cell_type": "code",
   "execution_count": 168,
   "id": "7aa98f6d",
   "metadata": {},
   "outputs": [],
   "source": [
    "def commonElements(n, m, mat):\n",
    "    unordered_map = {}\n",
    "    for i in range(m):\n",
    "        if mat[0][i] not in unordered_map.keys():\n",
    "            unordered_map[mat[0][i]] = 1\n",
    "    #print(unordered_map)\n",
    "    ans = []\n",
    "    for i in range(1,n):\n",
    "        for j in range(m):\n",
    "            if mat[i][j] in unordered_map.keys() and unordered_map[mat[i][j]] == i-1:\n",
    "                unordered_map[mat[i][j]] += 1\n",
    "                if i == n-1 and unordered_map[mat[i][j]] == n-1:\n",
    "                    ans.append(mat[i][j])\n",
    "    return ans"
   ]
  },
  {
   "cell_type": "code",
   "execution_count": 174,
   "id": "b8939a4c",
   "metadata": {},
   "outputs": [
    {
     "data": {
      "text/plain": [
       "[5, 6]"
      ]
     },
     "execution_count": 174,
     "metadata": {},
     "output_type": "execute_result"
    }
   ],
   "source": [
    "mat = [[1, 2, 1, 4, 8],\n",
    "       [3, 7, 8, 5, 1],\n",
    "       [8, 7, 7, 3, 1],\n",
    "       [8, 1, 2, 7, 9]]\n",
    "mat = [[3,4],[4,7],[4,6]]\n",
    "mat = [[1, 4, 5, 6],\n",
    "        [3, 4, 5, 6],\n",
    "        [5, 6, 7, 2]]\n",
    "commonElements(len(mat), len(mat[0]), mat)"
   ]
  },
  {
   "cell_type": "code",
   "execution_count": null,
   "id": "d3acd93a",
   "metadata": {},
   "outputs": [],
   "source": []
  }
 ],
 "metadata": {
  "kernelspec": {
   "display_name": "Python 3",
   "language": "python",
   "name": "python3"
  },
  "language_info": {
   "codemirror_mode": {
    "name": "ipython",
    "version": 3
   },
   "file_extension": ".py",
   "mimetype": "text/x-python",
   "name": "python",
   "nbconvert_exporter": "python",
   "pygments_lexer": "ipython3",
   "version": "3.9.12"
  }
 },
 "nbformat": 4,
 "nbformat_minor": 5
}
