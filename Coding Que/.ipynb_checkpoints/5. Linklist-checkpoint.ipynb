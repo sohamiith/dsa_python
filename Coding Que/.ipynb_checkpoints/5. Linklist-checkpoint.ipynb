{
 "cells": [
  {
   "cell_type": "markdown",
   "id": "ea8dc429",
   "metadata": {},
   "source": [
    "## Linklist"
   ]
  },
  {
   "cell_type": "code",
   "execution_count": null,
   "id": "cdb522bb",
   "metadata": {},
   "outputs": [],
   "source": []
  },
  {
   "cell_type": "markdown",
   "id": "0aa22a68",
   "metadata": {},
   "source": [
    "### 156. Clone a linked list with next and random pointer"
   ]
  },
  {
   "cell_type": "raw",
   "id": "91dfee07",
   "metadata": {},
   "source": [
    "You are given a special linked list with N nodes where each node has a next pointer pointing to its next node. You are also given M random pointers, where you will be given M number of pairs denoting two nodes a and b  i.e. a->arb = b.\n",
    "\n",
    "Construct a copy of the given list. The copy should consist of exactly N new nodes, where each new node has its value set to the value of its corresponding original node. Both the next and random pointer of the new nodes should point to new nodes in the copied list such that the pointers in the original list and copied list represent the same list state. None of the pointers in the new list should point to nodes in the original list.\n",
    "\n",
    "For example, if there are two nodes X and Y in the original list, where X.random --> Y, then for the corresponding two nodes x and y in the copied list, x.random --> y.\n",
    "\n",
    "Input:\n",
    "N = 4, M = 2\n",
    "value = {1,2,3,4}\n",
    "pairs = {{1,2},{2,4}}\n",
    "Output: 1\n",
    "Explanation: In this test case, there\n",
    "are 4 nodes in linked list.  Among these\n",
    "4 nodes,  2 nodes have arbitrary pointer\n",
    "set, rest two nodes have arbitrary pointer\n",
    "as NULL. Second line tells us the value\n",
    "of four nodes. The third line gives the\n",
    "information about arbitrary pointers.\n",
    "The first node arbitrary pointer is set to\n",
    "node 2.  The second node arbitrary pointer\n",
    "is set to node 4.\n",
    "\n",
    "\n",
    "Note: None of the pointers in the new list should point to nodes in the original list."
   ]
  },
  {
   "cell_type": "code",
   "execution_count": null,
   "id": "4fb714ae",
   "metadata": {},
   "outputs": [],
   "source": [
    "class Solution:\n",
    "    def copyList(self, head):\n",
    "        \n",
    "        # Traverse a LL and create duplicate node of each one and append to original node\n",
    "        temp = head\n",
    "        while temp:\n",
    "            new_node = Node(temp.data)\n",
    "            new_node.next = temp.next\n",
    "            temp.next = new_node\n",
    "            temp = new_node.next\n",
    "    \n",
    "    \n",
    "        # Traverse a new LL to assign arb pointers to each new node\n",
    "        temp = head\n",
    "        while temp:\n",
    "            if temp.arb == None:\n",
    "                temp.next.arb = None\n",
    "            else:\n",
    "                temp.next.arb = temp.arb.next\n",
    "            temp = temp.next.next\n",
    "        \n",
    "        \n",
    "        # Traverse LL to ditch old LL node and new LL node and make both LL separate\n",
    "        original = head\n",
    "        new_head = head.next\n",
    "        temp = new_head\n",
    "        while temp and original:\n",
    "            if original.next:\n",
    "                original.next = original.next.next\n",
    "            original = original.next\n",
    "            \n",
    "            if temp.next:\n",
    "                temp.next = temp.next.next\n",
    "            temp = temp.next\n",
    "        \n",
    "        return new_head\n",
    "    \n",
    "# Time comp:O(N)\n",
    "# Space comp:O(1)"
   ]
  }
 ],
 "metadata": {
  "kernelspec": {
   "display_name": "Python 3",
   "language": "python",
   "name": "python3"
  },
  "language_info": {
   "codemirror_mode": {
    "name": "ipython",
    "version": 3
   },
   "file_extension": ".py",
   "mimetype": "text/x-python",
   "name": "python",
   "nbconvert_exporter": "python",
   "pygments_lexer": "ipython3",
   "version": "3.6.5"
  }
 },
 "nbformat": 4,
 "nbformat_minor": 5
}
