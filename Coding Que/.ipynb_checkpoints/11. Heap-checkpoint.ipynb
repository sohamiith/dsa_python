{
 "cells": [
  {
   "cell_type": "markdown",
   "id": "d1e23244",
   "metadata": {},
   "source": [
    "## Heap"
   ]
  },
  {
   "cell_type": "raw",
   "id": "5ece108f",
   "metadata": {},
   "source": [
    "How to identify that it is question of heap?\n",
    "\n",
    "1. If 'K' is asked in que\n",
    "2. largest/smallest asked in que\n",
    "\n",
    "k + smallest -> max heap\n",
    "k + largest  => min heap"
   ]
  },
  {
   "cell_type": "code",
   "execution_count": null,
   "id": "ee5f9367",
   "metadata": {},
   "outputs": [],
   "source": []
  },
  {
   "cell_type": "markdown",
   "id": "818c12e5",
   "metadata": {},
   "source": [
    "### 315. “k” largest element in an array"
   ]
  },
  {
   "cell_type": "raw",
   "id": "8c0647ad",
   "metadata": {},
   "source": [
    "Given an array Arr of N positive integers, find K largest elements from the array.  The output elements should be printed in decreasing order.\n",
    "\n",
    "Input:\n",
    "N = 5, K = 2\n",
    "Arr[] = {12, 5, 787, 1, 23}\n",
    "Output: 787 23\n",
    "Explanation: 1st largest element in the array is 787 and second largest is 23."
   ]
  },
  {
   "cell_type": "raw",
   "id": "15899895",
   "metadata": {},
   "source": [
    "One option is, we can sort the array and return the k largest elements. It will take (n*log n) time."
   ]
  },
  {
   "cell_type": "code",
   "execution_count": 1,
   "id": "02a5d64b",
   "metadata": {},
   "outputs": [],
   "source": [
    "import heapq\n",
    "class Solution:\n",
    "\n",
    "    def kLargest(self,arr, n, k):\n",
    "        x = heapq.nlargest(k,arr)\n",
    "        return x\n",
    "    \n",
    "# Time comp:O(N log N)\n",
    "# Space comp:O(N)"
   ]
  },
  {
   "cell_type": "code",
   "execution_count": 2,
   "id": "6dcf3faa",
   "metadata": {},
   "outputs": [],
   "source": [
    "import heapq\n",
    "class Solution:\n",
    "\n",
    "    def kLargest(self,arr, n, k):\n",
    "        heap = []\n",
    "        \n",
    "        for i in range(n):\n",
    "            heapq.heappush(heap,arr[i])\n",
    "        \n",
    "            if len(heap) > k:\n",
    "                heapq.heappop(heap)\n",
    "        \n",
    "        heap.sort(reverse = True)            # We sort here just because they asked to return in order\n",
    "        return heap\n",
    "    \n",
    "# Time comp:O(N*log K)\n",
    "# Space comp:O(K)"
   ]
  },
  {
   "cell_type": "code",
   "execution_count": 3,
   "id": "46ccaea0",
   "metadata": {},
   "outputs": [
    {
     "data": {
      "text/plain": [
       "[787, 23]"
      ]
     },
     "execution_count": 3,
     "metadata": {},
     "output_type": "execute_result"
    }
   ],
   "source": [
    "s = Solution()\n",
    "s.kLargest([12, 5, 787, 1, 23],5,2)"
   ]
  },
  {
   "cell_type": "code",
   "execution_count": null,
   "id": "ebf73d53",
   "metadata": {},
   "outputs": [],
   "source": []
  },
  {
   "cell_type": "markdown",
   "id": "450426a4",
   "metadata": {},
   "source": [
    "### 314. Sum of elements between k1'th and k2'th smallest elements"
   ]
  },
  {
   "cell_type": "raw",
   "id": "ab844c65",
   "metadata": {},
   "source": [
    "Given an array A[] of N positive integers and two positive integers K1 and K2. Find the sum of all elements between K1th and K2th smallest elements of the array. It may be assumed that (1 <= k1 < k2 <= n).\n",
    "\n",
    " \n",
    "\n",
    "Example 1:\n",
    "\n",
    "Input:\n",
    "N  = 7\n",
    "A[] = {20, 8, 22, 4, 12, 10, 14}\n",
    "K1 = 3, K2 = 6\n",
    "Output:\n",
    "26\n",
    "Explanation:\n",
    "3rd smallest element is 10\n",
    "6th smallest element is 20\n",
    "Element between 10 and 20 \n",
    "12,14. Their sum = 26."
   ]
  },
  {
   "cell_type": "code",
   "execution_count": null,
   "id": "8c11f144",
   "metadata": {},
   "outputs": [],
   "source": [
    "\"\"\"\n",
    "Make min heap\n",
    "Update K2 = K2-K1\n",
    "Pop K1 element from heap\n",
    "Then pop next K2-1 elements from heap and keep adding them into the ans. (Since we need to exclude limit boundries)\n",
    "return ans\n",
    "\"\"\"\n",
    "\n",
    "import heapq\n",
    "class Solution:\n",
    "    def sumBetweenTwoKth(self, A, N, K1, K2):\n",
    "        heapq.heapify(A)\n",
    "        \n",
    "        K2 = K2 - K1\n",
    "        \n",
    "        while K1 > 0:\n",
    "            heapq.heappop(A)\n",
    "            K1 -= 1\n",
    "        \n",
    "        ans = 0\n",
    "        while K2 > 1:\n",
    "            ans += heapq.heappop(A)\n",
    "            K2 -= 1\n",
    "        \n",
    "        return ans\n",
    "    \n",
    "# Time comp:O(N log N)\n",
    "# Space comp:O(N)"
   ]
  },
  {
   "cell_type": "raw",
   "id": "7beed85b",
   "metadata": {},
   "source": [
    "One more solution is,\n",
    "\n",
    "x = Find K1'th smallest element from array\n",
    "y = Find K2'th smallest element from array\n",
    "\n",
    "Traverse an array and get the sum of all the numbers which are in the range between x and y\n",
    "\n",
    "Time comp:O(2* N log K + N) = (N log K)\n",
    "Space comp:O(K)"
   ]
  },
  {
   "cell_type": "code",
   "execution_count": 5,
   "id": "d400bb21",
   "metadata": {},
   "outputs": [],
   "source": [
    "import heapq\n",
    "class Solution:\n",
    "    \n",
    "    def findK(self,A,N,K):\n",
    "        heap = []\n",
    "        \n",
    "        for i in range(N):\n",
    "            heapq.heappush(heap,-1*A[i])\n",
    "            \n",
    "            if len(heap) > K:\n",
    "                heapq.heappop(heap)\n",
    "            \n",
    "        return -1*heap[0]\n",
    "    \n",
    "    def sumBetweenTwoKth(self, A, N, K1, K2):\n",
    "        first = self.findK(A,N,K1)\n",
    "        second = self.findK(A,N,K2)\n",
    "        \n",
    "        ans = 0\n",
    "        for i in A:\n",
    "            if i > first and i < second:\n",
    "                ans += i\n",
    "        \n",
    "        return ans\n",
    "    \n",
    "# Time comp:O(2* N log K + N) = (N log K)\n",
    "# Space comp:O(K)"
   ]
  },
  {
   "cell_type": "code",
   "execution_count": 6,
   "id": "3af99223",
   "metadata": {},
   "outputs": [
    {
     "data": {
      "text/plain": [
       "26"
      ]
     },
     "execution_count": 6,
     "metadata": {},
     "output_type": "execute_result"
    }
   ],
   "source": [
    "s = Solution()\n",
    "s.sumBetweenTwoKth([20, 8, 22, 4, 12, 10, 14],7,3,6)"
   ]
  },
  {
   "cell_type": "code",
   "execution_count": null,
   "id": "4c820fad",
   "metadata": {},
   "outputs": [],
   "source": []
  },
  {
   "cell_type": "markdown",
   "id": "674c230a",
   "metadata": {},
   "source": [
    "### 317. Merge k Sorted Arrays"
   ]
  },
  {
   "cell_type": "raw",
   "id": "ed3ad1af",
   "metadata": {},
   "source": [
    "Given K sorted arrays arranged in the form of a matrix of size K*K. The task is to merge them into one sorted array.\n",
    "Example 1:\n",
    "\n",
    "Input:\n",
    "K = 3\n",
    "arr[][] = {{1,2,3},{4,5,6},{7,8,9}}\n",
    "Output: 1 2 3 4 5 6 7 8 9\n",
    "Explanation:Above test case has 3 sorted\n",
    "arrays of size 3, 3, 3\n",
    "arr[][] = [[1, 2, 3],[4, 5, 6], \n",
    "[7, 8, 9]]\n",
    "The merged list will be \n",
    "[1, 2, 3, 4, 5, 6, 7, 8, 9]."
   ]
  },
  {
   "cell_type": "raw",
   "id": "f390760f",
   "metadata": {},
   "source": [
    "One solution can be, merge all k array and sort them all. But it will take O(K^2 * log K^2) time"
   ]
  },
  {
   "cell_type": "code",
   "execution_count": 14,
   "id": "b6cf9da6",
   "metadata": {},
   "outputs": [],
   "source": [
    "# Make heap of size k and push element column wise into the heap\n",
    "# After each column pop element from heap and append it into the ans\n",
    "\n",
    "import heapq\n",
    "class Solution:\n",
    "    \n",
    "    def mergeKArrays(self, arr, k):\n",
    "        ans = []\n",
    "        heap = []\n",
    "        \n",
    "        for i in range(k):\n",
    "            for j in range(k):\n",
    "                heapq.heappush(heap,arr[j][i])\n",
    "            \n",
    "            ans.append(heapq.heappop(heap))\n",
    "        \n",
    "        while len(heap):\n",
    "            ans.append(heapq.heappop(heap))\n",
    "            \n",
    "        return ans\n",
    "    \n",
    "# Time comp:O(K^2 * log K)\n",
    "# Space comp:O(K)"
   ]
  },
  {
   "cell_type": "code",
   "execution_count": 16,
   "id": "b2f4ace5",
   "metadata": {},
   "outputs": [
    {
     "data": {
      "text/plain": [
       "[1, 2, 2, 2, 3, 3, 4, 4, 5, 5, 6, 6, 7, 8, 9, 9]"
      ]
     },
     "execution_count": 16,
     "metadata": {},
     "output_type": "execute_result"
    }
   ],
   "source": [
    "arr = [[1,2,3,4],[2,2,3,4],[5,5,6,6],[7,8,9,9]]\n",
    "s = Solution()\n",
    "s.mergeKArrays(arr,4)"
   ]
  },
  {
   "cell_type": "code",
   "execution_count": null,
   "id": "b9fd32be",
   "metadata": {},
   "outputs": [],
   "source": []
  },
  {
   "cell_type": "markdown",
   "id": "e63b5147",
   "metadata": {},
   "source": [
    "### 318. Merge two binary Max heaps"
   ]
  },
  {
   "cell_type": "raw",
   "id": "45e0d038",
   "metadata": {},
   "source": [
    "Given two binary max heaps as arrays, merge the given heaps to form a new max heap.\n",
    "\n",
    "Example 1:\n",
    "\n",
    "Input  : \n",
    "n = 4 m = 3\n",
    "a[] = {10, 5, 6, 2}, \n",
    "b[] = {12, 7, 9}\n",
    "Output : \n",
    "{12, 10, 9, 2, 5, 7, 6}"
   ]
  },
  {
   "cell_type": "code",
   "execution_count": 21,
   "id": "319d3684",
   "metadata": {},
   "outputs": [],
   "source": [
    "import heapq\n",
    "class Solution():\n",
    "    def mergeHeaps(self, a, b, n, m):\n",
    "        merged = [-1*i for i in a]\n",
    "        for i in range(m):\n",
    "            heapq.heappush(merged,-1*b[i])\n",
    "        \n",
    "        merged = [-1*i for i in merged]\n",
    "        return merged\n",
    "    \n",
    "# Time comp:O(M log N)\n",
    "# Space comp:O(M+N)"
   ]
  },
  {
   "cell_type": "code",
   "execution_count": 22,
   "id": "45154b3e",
   "metadata": {},
   "outputs": [
    {
     "data": {
      "text/plain": [
       "[12, 10, 9, 2, 5, 6, 7]"
      ]
     },
     "execution_count": 22,
     "metadata": {},
     "output_type": "execute_result"
    }
   ],
   "source": [
    "s = Solution()\n",
    "s.mergeHeaps([10, 5, 6, 2],[12, 7, 9],4,3)"
   ]
  },
  {
   "cell_type": "code",
   "execution_count": null,
   "id": "c5314976",
   "metadata": {},
   "outputs": [],
   "source": []
  },
  {
   "cell_type": "markdown",
   "id": "e580de27",
   "metadata": {},
   "source": [
    "### 323. Median in a stream of Integers"
   ]
  },
  {
   "cell_type": "raw",
   "id": "b2263da3",
   "metadata": {},
   "source": [
    "Given an input stream of N integers. The task is to insert these numbers into a new stream and find the median of the stream formed by each insertion of X to the new stream.\n",
    "\n",
    "Example 1:\n",
    "\n",
    "Input:\n",
    "N = 4\n",
    "X[] = 5,15,1,3\n",
    "Output:\n",
    "5\n",
    "10\n",
    "5\n",
    "4\n",
    "Explanation:Flow in stream : 5, 15, 1, 3 \n",
    "5 goes to stream --> median 5 (5) \n",
    "15 goes to stream --> median 10 (5,15) \n",
    "1 goes to stream --> median 5 (5,15,1) \n",
    "3 goes to stream --> median 4 (5,15,1 3) "
   ]
  },
  {
   "cell_type": "code",
   "execution_count": 28,
   "id": "b73a1958",
   "metadata": {},
   "outputs": [],
   "source": [
    "\"\"\"\n",
    "After adding each element into the heap, we are calculating median here.\n",
    "So we need to pop n/2 element each time and push them back, thats why (N^2 log N) time is req\n",
    "\"\"\"\n",
    "\n",
    "import heapq\n",
    "class Solution:\n",
    "    def __init__(self):\n",
    "        self.heap = []\n",
    "        heapq.heapify(self.heap)\n",
    "        \n",
    "    '''    \n",
    "    You don't need to call getMedian it will be called itself by driver code\n",
    "    for more info see drivers code below.\n",
    "    '''\n",
    "    def getMedian(self):\n",
    "        if len(self.heap) == 0:\n",
    "            return 0\n",
    "        \n",
    "        # For odd length of the heap\n",
    "        if len(self.heap) % 2:\n",
    "            x = len(self.heap) // 2\n",
    "            temp = []\n",
    "            for i in range(x+1):\n",
    "                temp.append(heapq.heappop(self.heap))\n",
    "            \n",
    "            ans = temp[-1]\n",
    "            \n",
    "            while len(temp):\n",
    "                heapq.heappush(self.heap,temp.pop())\n",
    "            \n",
    "            return ans\n",
    "        \n",
    "        # For even length of the heap\n",
    "        else:\n",
    "            x = len(self.heap) // 2\n",
    "            \n",
    "            temp = []\n",
    "            for i in range(x+1):\n",
    "                temp.append(heapq.heappop(self.heap))\n",
    "            \n",
    "            ans = (temp[-1] + temp[-2]) / 2\n",
    "            \n",
    "            while len(temp):\n",
    "                heapq.heappush(self.heap,temp.pop())\n",
    "            \n",
    "            return ans\n",
    "        \n",
    "        \n",
    "    def insertHeaps(self,x):\n",
    "        heapq.heappush(self.heap,x)\n",
    "        \n",
    "# Time comp:O(N^2 log N)\n",
    "# Space comp:O(N)"
   ]
  },
  {
   "cell_type": "code",
   "execution_count": 30,
   "id": "535aa647",
   "metadata": {},
   "outputs": [
    {
     "name": "stdout",
     "output_type": "stream",
     "text": [
      "5\n",
      "10.0\n",
      "5\n",
      "4.0\n"
     ]
    }
   ],
   "source": [
    "s = Solution()\n",
    "s.insertHeaps(5)\n",
    "print(s.getMedian())\n",
    "s.insertHeaps(15)\n",
    "print(s.getMedian())\n",
    "s.insertHeaps(1)\n",
    "print(s.getMedian())\n",
    "s.insertHeaps(3)\n",
    "print(s.getMedian())"
   ]
  },
  {
   "cell_type": "code",
   "execution_count": 31,
   "id": "bbb8ed8c",
   "metadata": {},
   "outputs": [],
   "source": [
    "\"\"\"\n",
    "After processing an incoming element, the number of elements in heaps differs utmost by 1 element. \n",
    "When both heaps contain the same number of elements, we pick the average of heaps root data as effective median. \n",
    "When the heaps are not balanced, we select effective median from the root of the heap containing more elements.\n",
    "\n",
    "\n",
    "We make two heaps here, min-heap and max-heap.\n",
    "On every input, \n",
    "1. push input value in max-heap first\n",
    "2. then pop an element from max-heap and push it in min-heap\n",
    "3. If min-heap length is greater then pop an element from min-heap and push it into the max-heap\n",
    "\n",
    "For finding median:\n",
    "If heap size is same then return avg of both's root element\n",
    "Else return root of max-heap\n",
    "\"\"\"\n",
    "\n",
    "\n",
    "import heapq\n",
    "class Solution:\n",
    "    def __init__(self):\n",
    "        self.max_heap = []\n",
    "        heapq.heapify(self.max_heap)\n",
    "        self.min_heap = []\n",
    "        heapq.heapify(self.min_heap)\n",
    "        \n",
    "    def getMedian(self):\n",
    "        if len(self.min_heap) != len(self.max_heap):\n",
    "            return -1*self.max_heap[0]\n",
    "        else:\n",
    "            return (self.min_heap[0] - self.max_heap[0]) / 2\n",
    "        \n",
    "    def insertHeaps(self,x):\n",
    "        heapq.heappush(self.max_heap,-1*x)\n",
    "        heapq.heappush(self.min_heap,-1*heapq.heappop(self.max_heap))\n",
    "        \n",
    "        if len(self.min_heap) > len(self.max_heap):\n",
    "            heapq.heappush(self.max_heap,-1*heapq.heappop(self.min_heap))\n",
    "            \n",
    "# Time comp:O(N log N)\n",
    "# Space comp:O(N)"
   ]
  },
  {
   "cell_type": "code",
   "execution_count": 32,
   "id": "07caf8a2",
   "metadata": {},
   "outputs": [
    {
     "name": "stdout",
     "output_type": "stream",
     "text": [
      "5\n",
      "10.0\n",
      "5\n",
      "4.0\n"
     ]
    }
   ],
   "source": [
    "s = Solution()\n",
    "s.insertHeaps(5)\n",
    "print(s.getMedian())\n",
    "s.insertHeaps(15)\n",
    "print(s.getMedian())\n",
    "s.insertHeaps(1)\n",
    "print(s.getMedian())\n",
    "s.insertHeaps(3)\n",
    "print(s.getMedian())"
   ]
  },
  {
   "cell_type": "code",
   "execution_count": null,
   "id": "5dbc8884",
   "metadata": {},
   "outputs": [],
   "source": []
  },
  {
   "cell_type": "markdown",
   "id": "6af15463",
   "metadata": {},
   "source": [
    "### 324. Check if a Binary Tree is Heap"
   ]
  },
  {
   "cell_type": "raw",
   "id": "23ccb84a",
   "metadata": {},
   "source": [
    "Given a binary tree. The task is to check whether the given tree follows the max heap property or not.\n",
    "Note: Properties of a tree to be a max heap - Completeness and Value of node greater than or equal to its child.\n",
    "\n",
    "Example 1:\n",
    "\n",
    "Input:\n",
    "      5\n",
    "    /  \\\n",
    "   2    3\n",
    "Output: 1\n",
    "Explanation: The given tree follows max-heap property since 5,\n",
    "is root and it is greater than both its children.\n",
    "\n",
    "Input:\n",
    "       10\n",
    "     /   \\\n",
    "    20   30 \n",
    "  /   \\\n",
    " 40   60\n",
    "Output: 0"
   ]
  },
  {
   "cell_type": "code",
   "execution_count": null,
   "id": "c14a1fb6",
   "metadata": {},
   "outputs": [],
   "source": [
    "# Check completness and heap property by making two separate function\n",
    "\n",
    "class Solution:\n",
    "    def checkComp(self, root):\n",
    "        if root == None:         # Empty tree is complete\n",
    "            return True\n",
    "        \n",
    "        is_full = True           # To keep record of first full node\n",
    "        queue = []\n",
    "        queue.append(root)\n",
    "        \n",
    "        while len(queue):\n",
    "            temp = queue.pop(0)\n",
    "            \n",
    "            # If left node is exist\n",
    "            if temp.left:\n",
    "                \n",
    "                # If we have already seen non full node then left node should not be here\n",
    "                if is_full == False:\n",
    "                    return False\n",
    "                \n",
    "                queue.append(temp.left)\n",
    "            else:\n",
    "                # If no left node, then it is non full node\n",
    "                is_full = False\n",
    "            \n",
    "            # If left node is exist\n",
    "            if temp.right:\n",
    "                # If we have already seen non full node then right node should not be here\n",
    "                if is_full == False:\n",
    "                    return False\n",
    "                \n",
    "                queue.append(temp.right)\n",
    "            else:\n",
    "                # If no right node, then it is non full node\n",
    "                is_full = False\n",
    "            \n",
    "        return True\n",
    "    \n",
    "    def checkHeap(self,curr,prev):\n",
    "        if curr == None:\n",
    "            return True\n",
    "        \n",
    "        if curr.data > prev:\n",
    "            return False\n",
    "        \n",
    "        x = self.checkHeap(curr.left,curr.data)\n",
    "        y = self.checkHeap(curr.right,curr.data)\n",
    "        \n",
    "        if x and y:\n",
    "            return True\n",
    "        else:\n",
    "            return False\n",
    "        \n",
    "    def isHeap(self, root):\n",
    "        if self.checkHeap(root,float('inf')) and self.checkComp(root):\n",
    "            return 1\n",
    "        else:\n",
    "            return 0\n",
    "        \n",
    "# Time comp:O(N)\n",
    "# Space comp:O(N)"
   ]
  },
  {
   "cell_type": "code",
   "execution_count": null,
   "id": "ac1aa9f0",
   "metadata": {},
   "outputs": [],
   "source": [
    "# We can modify check completness function and can check heap property there only.\n",
    "# Store prev data also in queue along with curr node.\n",
    "\n",
    "class Solution:\n",
    "    def checkComp(self, root):\n",
    "        if root == None:         # Empty tree is complete\n",
    "            return True\n",
    "        \n",
    "        is_full = True           # To keep record of first full node\n",
    "        queue = []\n",
    "        queue.append([root,float('inf')])\n",
    "        \n",
    "        while len(queue):\n",
    "            item = queue.pop(0)\n",
    "            temp = item[0]\n",
    "            \n",
    "            if temp.data > item[1]:\n",
    "                return False\n",
    "            \n",
    "            # If left node is exist\n",
    "            if temp.left:\n",
    "                \n",
    "                # If we have already seen non full node then left node should not be here\n",
    "                if is_full == False:\n",
    "                    return False\n",
    "                \n",
    "                queue.append([temp.left,temp.data])\n",
    "            else:\n",
    "                # If no left node, then it is non full node\n",
    "                is_full = False\n",
    "            \n",
    "            # If left node is exist\n",
    "            if temp.right:\n",
    "                # If we have already seen non full node then right node should not be here\n",
    "                if is_full == False:\n",
    "                    return False\n",
    "                \n",
    "                queue.append([temp.right,temp.data])\n",
    "            else:\n",
    "                # If no right node, then it is non full node\n",
    "                is_full = False\n",
    "            \n",
    "        return True\n",
    "        \n",
    "    def isHeap(self, root):\n",
    "        if self.checkComp(root):\n",
    "            return 1\n",
    "        else:\n",
    "            return 0\n",
    "        \n",
    "# Time comp:O(N)\n",
    "# Space comp:O(N)"
   ]
  },
  {
   "cell_type": "code",
   "execution_count": null,
   "id": "379f28f4",
   "metadata": {},
   "outputs": [],
   "source": []
  },
  {
   "cell_type": "markdown",
   "id": "5bb02e99",
   "metadata": {},
   "source": [
    "### 325. Minimum Cost of ropes"
   ]
  },
  {
   "cell_type": "raw",
   "id": "3dfdb73c",
   "metadata": {},
   "source": [
    "There are given N ropes of different lengths, we need to connect these ropes into one rope. The cost to connect two ropes is equal to sum of their lengths. The task is to connect the ropes with minimum cost.\n",
    "\n",
    "Input:\n",
    "n = 4\n",
    "arr[] = {4, 3, 2, 6}\n",
    "Output: \n",
    "29\n",
    "\n",
    "Input:\n",
    "n = 5\n",
    "arr[] = {4, 2, 7, 6, 9}\n",
    "Output: \n",
    "62 "
   ]
  },
  {
   "cell_type": "code",
   "execution_count": null,
   "id": "e4344303",
   "metadata": {},
   "outputs": [],
   "source": [
    "\"\"\"\n",
    "Make heap, pull two min values first, add them as cost, and add addition of both back to heap.\n",
    "\"\"\"\n",
    "\n",
    "import heapq\n",
    "class Solution:\n",
    "    def minCost(self,arr,n) :\n",
    "        heapq.heapify(arr)\n",
    "        res = 0\n",
    "        \n",
    "        while(len(arr) > 1):\n",
    "            first = heapq.heappop(arr)\n",
    "            second = heapq.heappop(arr)\n",
    "\n",
    "            res += first + second\n",
    "            heapq.heappush(arr, first + second)\n",
    "             \n",
    "        return res\n",
    "    \n",
    "# Time comp:O(N log N)\n",
    "# Space comp:O(N)"
   ]
  },
  {
   "cell_type": "code",
   "execution_count": null,
   "id": "cbf5a0a9",
   "metadata": {},
   "outputs": [],
   "source": []
  },
  {
   "cell_type": "markdown",
   "id": "f92d3468",
   "metadata": {},
   "source": [
    "### 326. Convert BST to Min Heap"
   ]
  },
  {
   "cell_type": "raw",
   "id": "593382a6",
   "metadata": {},
   "source": [
    "Given a Binary Search Tree. Convert a given BST into a Special Max Heap with the condition that all the values in the left subtree of a node should be less than all the values in the right subtree of the node. This condition is applied on all the nodes in the so converted Max Heap.\n",
    "\n",
    "Input :\n",
    "                 4\n",
    "               /   \\\n",
    "              2     6\n",
    "            /  \\   /  \\\n",
    "           1   3  5    7  \n",
    "\n",
    "Output : 1 2 3 4 5 6 7 \n",
    "Exaplanation :\n",
    "               7\n",
    "             /   \\\n",
    "            3     6\n",
    "          /   \\  /   \\\n",
    "         1    2 4     5\n",
    "The given BST has been transformed into a\n",
    "Max Heap and it's postorder traversal is\n",
    "1 2 3 4 5 6 7."
   ]
  },
  {
   "cell_type": "code",
   "execution_count": null,
   "id": "dd42d433",
   "metadata": {},
   "outputs": [],
   "source": [
    "\"\"\"\n",
    "1. Create an array arr[] of size n, where n is the number of nodes in the given BST. \n",
    "2. Perform the inorder traversal of the BST and copy the node values in the arr[] in sorted order. \n",
    "3. Now perform the postorder traversal of the tree. \n",
    "4. Do postorder traversal, one by one copy the values from the array arr[] to the nodes.\n",
    "\"\"\"\n",
    "\n",
    "class Solution:\n",
    "    def __init__(self):\n",
    "        self.inorder = []\n",
    "        self.i = 0\n",
    "    \n",
    "    def makeArray(self,root):\n",
    "        if root == None:\n",
    "            return []\n",
    "            \n",
    "        arr = []\n",
    "        arr += self.makeArray(root.left)\n",
    "        arr.append(root.data)\n",
    "        arr += self.makeArray(root.right)\n",
    "        \n",
    "        return arr\n",
    "    \n",
    "    def buildHeap(self,root):\n",
    "        if root == None:\n",
    "            return None\n",
    "        \n",
    "        self.buildHeap(root.left)\n",
    "        self.buildHeap(root.right)\n",
    "        \n",
    "        root.data = self.inorder[self.i]\n",
    "        self.i += 1\n",
    "        return root\n",
    "        \n",
    "    \n",
    "    def convertToMaxHeapUtil(self, root):\n",
    "        arr = self.makeArray(root)\n",
    "        self.inorder = arr\n",
    "        return self.buildHeap(root)\n",
    "    \n",
    "# Time comp:O(N)\n",
    "# Space comp:O(N)"
   ]
  },
  {
   "cell_type": "code",
   "execution_count": null,
   "id": "1e5137b8",
   "metadata": {},
   "outputs": [],
   "source": []
  },
  {
   "cell_type": "markdown",
   "id": "16bb2b59",
   "metadata": {},
   "source": [
    "### 328. Rearrange characters in a string such that no two adjacent are same."
   ]
  },
  {
   "cell_type": "raw",
   "id": "8f3533da",
   "metadata": {},
   "source": [
    "Given a string s, rearrange the characters of s so that any two adjacent characters are not the same.\n",
    "\n",
    "Return any possible rearrangement of s or return \"\" if not possible.\n",
    "\n",
    "Example 1:\n",
    "\n",
    "Input: s = \"aab\"\n",
    "Output: \"aba\"\n",
    "Example 2:\n",
    "\n",
    "Input: s = \"aaab\"\n",
    "Output: \"\""
   ]
  },
  {
   "cell_type": "code",
   "execution_count": 25,
   "id": "532fe054",
   "metadata": {},
   "outputs": [],
   "source": [
    "\"\"\"\n",
    "Make max heap/priority queue based on the frequence of the char in string.\n",
    "While pq is not empty. \n",
    "-> Pop an element and add it to the result. \n",
    "-> Decrease frequency of the popped element by ‘1’ \n",
    "-> Push the previous element back into the priority_queue if it’s frequency > ‘0’ \n",
    "-> Make the current element as the previous element for the next iteration. \n",
    "\n",
    "If the length of the resultant string and original string is not equal, return \"\", Else return result.\n",
    "\"\"\"\n",
    "\n",
    "import heapq\n",
    "class Solution:\n",
    "    def countFreq(self,s):\n",
    "        hash_map = {}\n",
    "        \n",
    "        for i in s:\n",
    "            if i in hash_map:\n",
    "                hash_map[i] += 1\n",
    "            else:\n",
    "                hash_map[i] = 1\n",
    "        \n",
    "        return hash_map\n",
    "    \n",
    "    def reorganizeString(self, s: str) -> str:\n",
    "        hash_map = self.countFreq(s)\n",
    "        list1 = []\n",
    "        for i in hash_map:\n",
    "            t = [-1*hash_map[i],i]\n",
    "            list1.append(list(t))\n",
    "        \n",
    "        heapq.heapify(list1)\n",
    "        \n",
    "        prev = [0,'#']\n",
    "        ans = \"\"\n",
    "        \n",
    "        while len(list1):\n",
    "            x = heapq.heappop(list1)\n",
    "            ans += x[1]\n",
    "            \n",
    "            x[0] += 1\n",
    "            if prev[0] != 0:\n",
    "                heapq.heappush(list1,prev)\n",
    "            \n",
    "            prev = x\n",
    "        \n",
    "        if len(ans) == len(s):\n",
    "            return ans\n",
    "        \n",
    "        return \"\"\n",
    "    \n",
    "# Time comp:O(N log N)\n",
    "# Space comp:O(N)"
   ]
  },
  {
   "cell_type": "code",
   "execution_count": null,
   "id": "f3847109",
   "metadata": {},
   "outputs": [],
   "source": []
  },
  {
   "cell_type": "markdown",
   "id": "1ff4a291",
   "metadata": {},
   "source": [
    "### 329. Minimum sum of two numbers formed from digits of an array"
   ]
  },
  {
   "cell_type": "raw",
   "id": "9d9f4f19",
   "metadata": {},
   "source": [
    "Given an array Arr of size N such that each element is from the range 0 to 9. Find the minimum possible sum of two numbers formed using the elements of the array. All digits in the given array must be used to form the two numbers.\n",
    "\n",
    "\n",
    "Example 1:\n",
    "\n",
    "Input:\n",
    "N = 6\n",
    "Arr[] = {6, 8, 4, 5, 2, 3}\n",
    "Output: 604\n",
    "Explanation: The minimum sum is formed \n",
    "by numbers 358 and 246."
   ]
  },
  {
   "cell_type": "raw",
   "id": "1b0b5882",
   "metadata": {},
   "source": [
    "One approach is, we can sort the array and read element and make two numbers one by one.\n",
    "This will also take (nlogn) time."
   ]
  },
  {
   "cell_type": "code",
   "execution_count": 23,
   "id": "2a7a1842",
   "metadata": {},
   "outputs": [],
   "source": [
    "# Using heap\n",
    "\n",
    "import heapq\n",
    "class Solution:\n",
    "    def solve(self, arr, n):\n",
    "        first = 0\n",
    "        second = 0\n",
    "        heapq.heapify(arr)\n",
    "        for i in range(n):\n",
    "            if i % 2:\n",
    "                x = heapq.heappop(arr)\n",
    "                first = (first * 10) + x\n",
    "            else:\n",
    "                x = heapq.heappop(arr)\n",
    "                second = (second * 10) + x\n",
    "        \n",
    "        return first + second\n",
    "    \n",
    "# Time comp:O(NlogN)\n",
    "# Space comp:O(1)"
   ]
  },
  {
   "cell_type": "code",
   "execution_count": 24,
   "id": "b0d3721c",
   "metadata": {},
   "outputs": [
    {
     "data": {
      "text/plain": [
       "82"
      ]
     },
     "execution_count": 24,
     "metadata": {},
     "output_type": "execute_result"
    }
   ],
   "source": [
    "s = Solution()\n",
    "s.solve([5,3,0,7,4],5)"
   ]
  },
  {
   "cell_type": "code",
   "execution_count": null,
   "id": "5540e608",
   "metadata": {},
   "outputs": [],
   "source": []
  },
  {
   "cell_type": "markdown",
   "id": "32c39f08",
   "metadata": {},
   "source": [
    "### 495. K soted array / Nearly sorted array"
   ]
  },
  {
   "cell_type": "raw",
   "id": "b4ec8f19",
   "metadata": {},
   "source": [
    "Given an array of n distinct elements. Check whether the given array is a k sorted array or not. A k sorted array is an array where each element is at most k distance away from its target position in the sorted array.\n",
    "\n",
    "nput:\n",
    "N=6\n",
    "arr[] = {3, 2, 1, 5, 6, 4} \n",
    "K = 2\n",
    "Output: Yes\n",
    "Explanation:\n",
    "Every element is at most 2 distance \n",
    "away from its target position in the\n",
    "sorted array.  "
   ]
  },
  {
   "cell_type": "code",
   "execution_count": 7,
   "id": "51f9a0e1",
   "metadata": {},
   "outputs": [],
   "source": [
    "\"\"\"\n",
    "Build min heap of size k+1.\n",
    "Push element one by one in heap, whenever size of heap exceed k+1, pop element from heap and append it to ans\n",
    "At the end, pop all element from queue and append them in ans.\n",
    "\"\"\"\n",
    "\n",
    "import heapq\n",
    "class Solution:\n",
    "    def nearlySorted(self,a,n,k):\n",
    "        ans= []\n",
    "        heap = []\n",
    "        \n",
    "        for i in range(n):\n",
    "            heapq.heappush(heap,a[i])\n",
    "            \n",
    "            if len(heap) > k+1:\n",
    "                ans.append(heapq.heappop(heap))\n",
    "            \n",
    "        while len(heap):\n",
    "            ans.append(heapq.heappop(heap))\n",
    "        \n",
    "        return ans\n",
    "    \n",
    "# Time comp:O(N * log K)         (To append at the end, it will take O(k logK) time as well)\n",
    "# Space comp:O(N)"
   ]
  },
  {
   "cell_type": "code",
   "execution_count": 8,
   "id": "420ba1b2",
   "metadata": {},
   "outputs": [
    {
     "data": {
      "text/plain": [
       "[1, 2, 3, 4, 5]"
      ]
     },
     "execution_count": 8,
     "metadata": {},
     "output_type": "execute_result"
    }
   ],
   "source": [
    "s = Solution()\n",
    "s.nearlySorted([3,1,4,2,5],5,2)"
   ]
  },
  {
   "cell_type": "code",
   "execution_count": null,
   "id": "d43f6991",
   "metadata": {},
   "outputs": [],
   "source": [
    "# Full code: https://practice.geeksforgeeks.org/problems/nearly-sorted-algorithm/0\n",
    "\n",
    "import heapq\n",
    "def sortNearlySorted(a,n,k):\n",
    "    ans= []\n",
    "    heap = []\n",
    "    \n",
    "    for i in range(n):\n",
    "        heapq.heappush(heap,a[i])\n",
    "        \n",
    "        if len(heap) > k+1:\n",
    "            ans.append(heapq.heappop(heap))\n",
    "        \n",
    "    while len(heap):\n",
    "        ans.append(heapq.heappop(heap))\n",
    "    \n",
    "    for i in range(n):\n",
    "        print(ans[i],end = \" \")\n",
    "    \n",
    "    print(\"\")\n",
    "\n",
    "\n",
    "t = int(input())\n",
    "for i in range(t):\n",
    "    N,K = map(int,input().split(' '))\n",
    "    arr = list(map(int,input().split()))\n",
    "    sortNearlySorted(arr,N,K)"
   ]
  },
  {
   "cell_type": "code",
   "execution_count": 12,
   "id": "746a9ef8",
   "metadata": {},
   "outputs": [],
   "source": [
    "# If it was asked to just check whether given array is k sorted or not then do the following:\n",
    "\n",
    "\"\"\"\n",
    "Make a hash table where store the original index of an array items.\n",
    "sort an array.\n",
    "Then traverse array again to and check whether index diff is greather than k or not.\n",
    "\"\"\"\n",
    "\n",
    "\n",
    "class Solution:\n",
    "    def isKSortedArray(self, a, n, k): \n",
    "        hash_map = {}\n",
    "        \n",
    "        for i in range(n):\n",
    "            hash_map[a[i]] = i\n",
    "        \n",
    "        a.sort()\n",
    "        \n",
    "        for i in range(n):\n",
    "            diff = abs(hash_map[a[i]]-i)\n",
    "            if diff > k:\n",
    "                return 'No'\n",
    "        \n",
    "        return 'Yes'\n",
    "    \n",
    "# Time comp:O(N log N)\n",
    "# space comp:O(N)"
   ]
  },
  {
   "cell_type": "code",
   "execution_count": 13,
   "id": "7844af80",
   "metadata": {},
   "outputs": [
    {
     "name": "stdout",
     "output_type": "stream",
     "text": [
      "Yes\n",
      "No\n"
     ]
    }
   ],
   "source": [
    "s = Solution()\n",
    "print(s.isKSortedArray([3, 2, 1, 5, 6, 4],6,2))\n",
    "print(s.isKSortedArray([3, 2, 6, 5, 1, 4],6,2))"
   ]
  },
  {
   "cell_type": "code",
   "execution_count": null,
   "id": "42727552",
   "metadata": {},
   "outputs": [],
   "source": []
  },
  {
   "cell_type": "markdown",
   "id": "dcf509d0",
   "metadata": {},
   "source": [
    "### 497. K closest elements"
   ]
  },
  {
   "cell_type": "raw",
   "id": "109697a8",
   "metadata": {},
   "source": [
    "Given a sorted array, arr[] of N integers, and a value X. Find the K closest elements to X in arr[].\n",
    "Keep the following points in mind:\n",
    "\n",
    "If X is present in the array, then it need not be considered.\n",
    "If there are two elements with the same difference with X, the greater element is given priority.\n",
    "If sufficient elements are not present on the right side then take elements from left and vice versa.\n",
    " \n",
    "Example 1:\n",
    "\n",
    "Input:\n",
    "N = 13\n",
    "arr[] = {12, 16, 22, 30, 35, 39, 42, 45, 48, 50, 53, 55, 56}\n",
    "K = 4, X = 35\n",
    "Output: 39 30 42 45\n",
    "Explanation: \n",
    "First closest element to 35 is 39.\n",
    "Second closest element to 35 is 30.\n",
    "Third closest element to 35 is 42.\n",
    "And fourth closest element to 35 is 45."
   ]
  },
  {
   "cell_type": "code",
   "execution_count": null,
   "id": "46237c06",
   "metadata": {},
   "outputs": [],
   "source": [
    "\"\"\"\n",
    "From array, minus value of x from all element and find abs value of it.\n",
    "Make heap in style of priority queue (abs_value, element)\n",
    "Pop item with min abs_value and append in ans.\n",
    "If two abs_values are same then consider greater number first.\n",
    "\"\"\"\n",
    "\n",
    "import heapq\n",
    "class Solution:\n",
    "    def findAbs(self,arr,n,x):\n",
    "        list1 = []\n",
    "        \n",
    "        for i in arr:\n",
    "            if abs(i-x) == 0:\n",
    "                continue\n",
    "            \n",
    "            temp = [abs(i - x),i]\n",
    "            list1.append(list(temp))\n",
    "        \n",
    "        return list1\n",
    "    \n",
    "    def printKClosest(self, arr, n, k, x):\n",
    "        heap = self.findAbs(arr,n,x)\n",
    "        heapq.heapify(heap)              # Heapify takes O(N) time\n",
    "        ans = []\n",
    "        while k > 0:\n",
    "            x = heapq.heappop(heap)\n",
    "            \n",
    "            if len(heap) and heap[0][0] == x[0] and heap[0][1] > x[1]:\n",
    "                new_x = heapq.heappop(heap)\n",
    "                heapq.heappush(heap,x)\n",
    "                x = new_x\n",
    "            \n",
    "            ans.append(x[1])\n",
    "            k -= 1\n",
    "        \n",
    "        return ans\n",
    "    \n",
    "# Time comp:O(N + K log N)\n",
    "# Space comp:O(N)"
   ]
  },
  {
   "cell_type": "raw",
   "id": "c7c9bed7",
   "metadata": {},
   "source": [
    "Can do in the way of 495 first solution as well.\n",
    "ref: https://www.youtube.com/watch?v=J8yLD-x7fBI&list=PL_z_8CaSLPWdtY9W22VjnPxG30CXNZpI9&index=5\n",
    "That will take (N logK) time"
   ]
  },
  {
   "cell_type": "code",
   "execution_count": 1,
   "id": "274a829a",
   "metadata": {},
   "outputs": [],
   "source": [
    "# Variation: Top K Frequent Elements in Array\n",
    "\"\"\"\n",
    "Input:\n",
    "N = 6\n",
    "nums = {1,1,1,2,2,3}\n",
    "k = 2\n",
    "Output: {1, 2}\n",
    "\"\"\"\n",
    "\n",
    "import heapq\n",
    "class Solution:\n",
    "    def findFreq(self,nums):\n",
    "        hash_map = {}\n",
    "        for i in range(len(nums)):\n",
    "            if nums[i] in hash_map:\n",
    "                hash_map[nums[i]] += 1\n",
    "            else:\n",
    "                hash_map[nums[i]] = 1\n",
    "        \n",
    "        return hash_map\n",
    "    \n",
    "    def topK(self, nums, k):\n",
    "        hash_map = self.findFreq(nums)\n",
    "        \n",
    "        heap = []\n",
    "        heapq.heapify(heap)\n",
    "        for i in hash_map:\n",
    "            temp = [hash_map[i],i]\n",
    "            heapq.heappush(heap,temp)\n",
    "            \n",
    "            if len(heap) > k:\n",
    "                heapq.heappop(heap)\n",
    "        \n",
    "        ans = []\n",
    "        while len(heap):\n",
    "            x = heapq.heappop(heap)\n",
    "            ans.append(x[1])\n",
    "        return ans[::-1]\n",
    "    \n",
    "# Time comp:O(N log N)\n",
    "# Space comp:O(N)"
   ]
  },
  {
   "cell_type": "code",
   "execution_count": 2,
   "id": "137bf131",
   "metadata": {},
   "outputs": [
    {
     "data": {
      "text/plain": [
       "[1, 2]"
      ]
     },
     "execution_count": 2,
     "metadata": {},
     "output_type": "execute_result"
    }
   ],
   "source": [
    "s = Solution()\n",
    "s.topK([1,1,1,2,2,3],2)"
   ]
  },
  {
   "cell_type": "raw",
   "id": "e986f40d",
   "metadata": {},
   "source": [
    "Another variation is freq sort. \n",
    "Where you have to sort array element based on their frequence.\n",
    "For that, make an hash_table and count the freq of each element.\n",
    "make max_heap and pop each element one by one and make new array and return it.\n",
    "\n",
    "It will take O(NlogN) time."
   ]
  },
  {
   "cell_type": "code",
   "execution_count": null,
   "id": "5c7a3ac6",
   "metadata": {},
   "outputs": [],
   "source": []
  },
  {
   "cell_type": "markdown",
   "id": "04dc889d",
   "metadata": {},
   "source": [
    "### 498. K Closest Points to Origin"
   ]
  },
  {
   "cell_type": "raw",
   "id": "075e21b1",
   "metadata": {},
   "source": [
    "Given an array of points where points[i] = [xi, yi] represents a point on the X-Y plane and an integer k, return the k closest points to the origin (0, 0).\n",
    "\n",
    "The distance between two points on the X-Y plane is the Euclidean distance (i.e., √(x1 - x2)2 + (y1 - y2)2).\n",
    "\n",
    "You may return the answer in any order. The answer is guaranteed to be unique (except for the order that it is in).\n",
    "\n",
    "Input: points = [[3,3],[5,-1],[-2,4]], k = 2\n",
    "Output: [[3,3],[-2,4]]\n",
    "Explanation: The answer [[-2,4],[3,3]] would also be accepted."
   ]
  },
  {
   "cell_type": "code",
   "execution_count": 1,
   "id": "1b5cee21",
   "metadata": {},
   "outputs": [],
   "source": [
    "\"\"\"\n",
    "Fine distance between two points and make them as an key in priority queue or max heap.\n",
    "When size of heap goes above k, remove a element from heap.\n",
    "\"\"\"\n",
    "\n",
    "import heapq\n",
    "import math\n",
    "class Solution:\n",
    "    def makeHeap(self,arr,k):\n",
    "        heap = []\n",
    "        \n",
    "        # Cordinates of point of origin\n",
    "        x1 = 0\n",
    "        y1 = 0\n",
    "        \n",
    "        for i in range(len(arr)):\n",
    "            x2 = arr[i][0]\n",
    "            y2 = arr[i][1]\n",
    "            \n",
    "            dist = math.sqrt(((x1-x2)**2) + ((y1-y2)**2))\n",
    "            \n",
    "            temp = [-1*dist,arr[i]]\n",
    "            heapq.heappush(heap,temp)\n",
    "            \n",
    "            if len(heap) > k:\n",
    "                heapq.heappop(heap)\n",
    "        \n",
    "        return heap\n",
    "        \n",
    "    def kClosest(self, points, k):\n",
    "        heap = self.makeHeap(points,k)\n",
    "        \n",
    "        ans = []\n",
    "        while len(heap):\n",
    "            x = heapq.heappop(heap)\n",
    "            ans.append(list(x[1]))\n",
    "        \n",
    "        return ans\n",
    "    \n",
    "# Time comp:O(N log K)\n",
    "# Space comp:O(K)"
   ]
  },
  {
   "cell_type": "code",
   "execution_count": 2,
   "id": "9b87ff3b",
   "metadata": {},
   "outputs": [
    {
     "data": {
      "text/plain": [
       "[[-2, 4], [3, 3]]"
      ]
     },
     "execution_count": 2,
     "metadata": {},
     "output_type": "execute_result"
    }
   ],
   "source": [
    "s = Solution()\n",
    "s.kClosest([[3,3],[5,-1],[-2,4]],2)"
   ]
  },
  {
   "cell_type": "code",
   "execution_count": null,
   "id": "be219122",
   "metadata": {},
   "outputs": [],
   "source": []
  }
 ],
 "metadata": {
  "kernelspec": {
   "display_name": "Python 3",
   "language": "python",
   "name": "python3"
  },
  "language_info": {
   "codemirror_mode": {
    "name": "ipython",
    "version": 3
   },
   "file_extension": ".py",
   "mimetype": "text/x-python",
   "name": "python",
   "nbconvert_exporter": "python",
   "pygments_lexer": "ipython3",
   "version": "3.6.5"
  }
 },
 "nbformat": 4,
 "nbformat_minor": 5
}
