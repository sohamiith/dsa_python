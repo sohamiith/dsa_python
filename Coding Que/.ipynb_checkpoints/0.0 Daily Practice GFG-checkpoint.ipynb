{
 "cells": [
  {
   "cell_type": "markdown",
   "id": "7d799dff",
   "metadata": {},
   "source": [
    "## Daily Practice GFG"
   ]
  },
  {
   "cell_type": "code",
   "execution_count": null,
   "id": "2fa2e03d",
   "metadata": {},
   "outputs": [],
   "source": []
  },
  {
   "cell_type": "markdown",
   "id": "7926ef3d",
   "metadata": {},
   "source": [
    "### 1. Ceil in BST"
   ]
  },
  {
   "cell_type": "raw",
   "id": "2395c199",
   "metadata": {},
   "source": [
    "Given a BST and a number X, find Ceil of X.\n",
    "Note: Ceil(X) is a number that is either equal to X or is immediately greater than X.\n",
    "\n",
    "Example 1:\n",
    "\n",
    "Input:\n",
    "      5\n",
    "    /   \\\n",
    "   1     7\n",
    "    \\\n",
    "     2 \n",
    "      \\\n",
    "       3\n",
    "X = 3\n",
    "Output: 3\n",
    "Explanation: We find 3 in BST, so ceil\n",
    "of 3 is 3."
   ]
  },
  {
   "cell_type": "code",
   "execution_count": null,
   "id": "c3391003",
   "metadata": {},
   "outputs": [],
   "source": [
    "# By using inorder traversal\n",
    "\n",
    "class Solution:\n",
    "    \n",
    "    def __init__(self):\n",
    "        self.output = []\n",
    "    \n",
    "    def inorder(self,root):\n",
    "        if root == None:\n",
    "            return\n",
    "        \n",
    "        self.inorder(root.left)\n",
    "        self.output.append(root.key)\n",
    "        self.inorder(root.right)\n",
    "        return\n",
    "    \n",
    "    def findCeil(self,root, inp):\n",
    "        self.inorder(root)\n",
    "        i = 0\n",
    "        while i < len(self.output):\n",
    "            if self.output[i] < inp:\n",
    "                i += 1\n",
    "            elif self.output[i] >= inp:\n",
    "                return self.output[i]\n",
    "            \n",
    "        return -1\n",
    "    \n",
    "# Time comp:O(N)\n",
    "# Space comp:O(H)"
   ]
  },
  {
   "cell_type": "code",
   "execution_count": 2,
   "id": "d0d6fe63",
   "metadata": {},
   "outputs": [],
   "source": [
    "\"\"\"\n",
    "Imagine we are moving down the tree, and assume we are root node. The comparison yields three possibilities,\n",
    "\n",
    "A) Root data is equal to key. We are done, root data is ceil value.\n",
    "\n",
    "B) Root data < key value, certainly the ceil value can't be in left subtree. \n",
    "   Proceed to search on right subtree as reduced problem instance.\n",
    "\n",
    "C) Root data > key value, the ceil value may be in left subtree. \n",
    "   We may find a node with is larger data than key value in left subtree, \n",
    "   if not the root itself will be ceil node.\n",
    "\"\"\"\n",
    "\n",
    "\n",
    "class Solution:\n",
    "    \n",
    "    def findCeil(self,root, inp):\n",
    "        if root == None:\n",
    "            return -1\n",
    "            \n",
    "        if root.key == inp:\n",
    "            return root.key\n",
    "        \n",
    "        if inp > root.key:\n",
    "            return self.findCeil(root.right,inp)\n",
    "        \n",
    "        x = self.findCeil(root.left,inp)\n",
    "        \n",
    "        if x >= inp:\n",
    "            return x\n",
    "        else:\n",
    "            return root.key\n",
    "        \n",
    "# Time comp:O(H)\n",
    "# Space comp:O(H)"
   ]
  },
  {
   "cell_type": "code",
   "execution_count": null,
   "id": "8a1246da",
   "metadata": {},
   "outputs": [],
   "source": []
  },
  {
   "cell_type": "markdown",
   "id": "4a1eebfe",
   "metadata": {},
   "source": [
    "### 2. Get min at pop"
   ]
  },
  {
   "cell_type": "raw",
   "id": "b06cd160",
   "metadata": {},
   "source": [
    "Now, we'll try to solve a famous stack problem.\n",
    "You are given an array A of size N. You need to first push the elements of the array into a stack and then print minimum in the stack at each pop.\n",
    "\n",
    "Example 1:\n",
    "\n",
    "Input: \n",
    "N = 7\n",
    "A = {1 6 43 1 2 0 5}\n",
    "Output: \n",
    "0 0 1 1 1 1 1\n",
    "Explanation: \n",
    "After pushing the elements to the stack, the stack will be 5->0->2->1->43->6->1. \n",
    "\n",
    "Now, poping the elements from the stack:\n",
    "popping 5: min in the stack is 0. popped 5\n",
    "popping 0: min in the stack is 0. popped 0\n",
    "popping 2: min in the stack is 1. popped 2\n",
    "popping 1: min in the stack is 1. popped 1\n",
    "popping 43: min in the stack is 1. popped 43\n",
    "popping 6: min in the stack is 1. popped 6\n",
    "popping 1: min in the stack is 1. popped 1."
   ]
  },
  {
   "cell_type": "code",
   "execution_count": 3,
   "id": "f648e2fb",
   "metadata": {},
   "outputs": [],
   "source": [
    "def _push(a,n):\n",
    "    stack = []\n",
    "    for i in a:\n",
    "        stack.append(i)\n",
    "    \n",
    "    return stack\n",
    "    \n",
    "\"\"\"\n",
    "At every pop, we are finding min value below that value of print it\n",
    "\"\"\"\n",
    "def _getMinAtPop(stack):\n",
    "    while len(stack):\n",
    "        x = stack.pop()\n",
    "        mini = x\n",
    "        for i in range(len(stack)-1,-1,-1):\n",
    "            mini = min(mini,stack[i])\n",
    "        \n",
    "        print(mini,end=\" \")\n",
    "        \n",
    "# Time comp:O(N^2)\n",
    "# Space comp:O(1)"
   ]
  },
  {
   "cell_type": "code",
   "execution_count": 4,
   "id": "645e5b1f",
   "metadata": {},
   "outputs": [
    {
     "name": "stdout",
     "output_type": "stream",
     "text": [
      "0 0 1 1 1 1 1 "
     ]
    }
   ],
   "source": [
    "stack = _push([1, 6, 43, 1, 2, 0, 5],7)\n",
    "_getMinAtPop(stack)"
   ]
  },
  {
   "cell_type": "code",
   "execution_count": 5,
   "id": "7ee6a40f",
   "metadata": {},
   "outputs": [],
   "source": [
    "# Modify the push operation such a way that in O(N) time we can get ans during pop.\n",
    "# push min of each element along with that element in stack during push operatin.\n",
    "\n",
    "def _push(a,n):\n",
    "    stack = []\n",
    "    if n == 0:\n",
    "        return stack\n",
    "    \n",
    "    mini = a[0]\n",
    "    stack.append(mini)\n",
    "    stack.append(a[0])\n",
    "    \n",
    "    for i in range(1,n):\n",
    "        if a[i] < mini:\n",
    "            mini = a[i]\n",
    "        stack.append(mini)\n",
    "        stack.append(a[i])\n",
    "    \n",
    "    return stack\n",
    "    \n",
    "def _getMinAtPop(stack):\n",
    "    while len(stack):\n",
    "        stack.pop()\n",
    "        x = stack.pop()\n",
    "        print(x,end = \" \")\n"
   ]
  },
  {
   "cell_type": "code",
   "execution_count": 6,
   "id": "4946bc4a",
   "metadata": {},
   "outputs": [
    {
     "name": "stdout",
     "output_type": "stream",
     "text": [
      "0 0 1 1 1 1 1 "
     ]
    }
   ],
   "source": [
    "stack = _push([1, 6, 43, 1, 2, 0, 5],7)\n",
    "_getMinAtPop(stack)"
   ]
  },
  {
   "cell_type": "code",
   "execution_count": null,
   "id": "d8b3ff1b",
   "metadata": {},
   "outputs": [],
   "source": []
  },
  {
   "cell_type": "markdown",
   "id": "8bab867d",
   "metadata": {},
   "source": [
    "### 3. Length of longest palindrome in linked list"
   ]
  },
  {
   "cell_type": "raw",
   "id": "4b68c415",
   "metadata": {},
   "source": [
    "Given a linked list, the task is to complete the function maxPalindrome() which returns an integer denoting  the length of the longest palindrome list that exist in the given linked list."
   ]
  },
  {
   "cell_type": "code",
   "execution_count": null,
   "id": "f6b1e49c",
   "metadata": {},
   "outputs": [],
   "source": [
    "\"\"\"\n",
    "Traverse a LL using two loops and make a list of all substring and keep checking about palindrom\n",
    "\"\"\"\n",
    "\n",
    "class Solution:\n",
    "    def checkPali(self,s):\n",
    "        if len(s) == 0 or len(s) == 1:\n",
    "            return len(s)\n",
    "        \n",
    "        i = 0\n",
    "        j = len(s) -1\n",
    "        \n",
    "        while i < j:\n",
    "            if s[i] != s[j]:\n",
    "                return -1\n",
    "                \n",
    "            i += 1\n",
    "            j -= 1\n",
    "        \n",
    "        return len(s)\n",
    "    \n",
    "    def maxPalindrome(self,head):\n",
    "        ans = 0\n",
    "        s = []\n",
    "        \n",
    "        curr = head\n",
    "        \n",
    "        while curr:\n",
    "            s.append(curr.data)\n",
    "            x = self.checkPali(s)\n",
    "            if x != -1:\n",
    "                ans = max(ans,x)\n",
    "                \n",
    "            if curr.next == None:\n",
    "                break\n",
    "                \n",
    "            n = curr.next\n",
    "            while n:\n",
    "                s.append(n.data)\n",
    "                x = self.checkPali(s)\n",
    "                if x != -1:\n",
    "                    ans = max(ans,x)\n",
    "                n = n.next\n",
    "            \n",
    "            curr = curr.next\n",
    "            s = []\n",
    "        \n",
    "        return ans\n",
    "    \n",
    "# Time comp:O(N^3)\n",
    "# Space comp:O(N)"
   ]
  },
  {
   "cell_type": "code",
   "execution_count": null,
   "id": "05b11901",
   "metadata": {},
   "outputs": [],
   "source": []
  },
  {
   "cell_type": "markdown",
   "id": "4f12d3ec",
   "metadata": {},
   "source": [
    "### 4. Adding Array Elements"
   ]
  },
  {
   "cell_type": "raw",
   "id": "0a34c2b9",
   "metadata": {},
   "source": [
    "Given an array Arr[] of size N and an integer K, you have to add the first two minimum elements of the array until all the elements are greater than or equal to K and find the number of such operations required.\n",
    "\n",
    "Example 1:\n",
    "\n",
    "Input:\n",
    "N = 6, K = 6 \n",
    "Arr[] = {1, 10, 12, 9, 2, 3}\n",
    "Output: 2\n",
    "Explanation: First we add (1 + 2), now the\n",
    "new list becomes 3 10 12 9 3, then we add\n",
    "(3 + 3), now the new list becomes 6 10 12 9,\n",
    "Now all the elements in the list are greater\n",
    "than 6. Hence the output is 2 i:e 2 operations\n",
    "are required to do this. "
   ]
  },
  {
   "cell_type": "code",
   "execution_count": 1,
   "id": "4f4f3f98",
   "metadata": {},
   "outputs": [],
   "source": [
    "import heapq\n",
    "class Solution:\n",
    "    def minOperations(self, arr, n, k):\n",
    "        heapq.heapify(arr)\n",
    "        op = 0\n",
    "        \n",
    "        while True:\n",
    "            if len(arr) <= 1:\n",
    "                break\n",
    "            first = heapq.heappop(arr)\n",
    "            second = heapq.heappop(arr)\n",
    "            \n",
    "            if first >= k and second >= k:\n",
    "                break\n",
    "        \n",
    "            op += 1\n",
    "            heapq.heappush(arr,first+second)\n",
    "            \n",
    "        return op\n",
    "    \n",
    "# Time comp:O(N Log N)\n",
    "# Space comp:O(N)"
   ]
  },
  {
   "cell_type": "code",
   "execution_count": 2,
   "id": "eac44f41",
   "metadata": {},
   "outputs": [
    {
     "data": {
      "text/plain": [
       "2"
      ]
     },
     "execution_count": 2,
     "metadata": {},
     "output_type": "execute_result"
    }
   ],
   "source": [
    "s = Solution()\n",
    "s.minOperations([1, 10, 12, 9, 2, 3],6,6)"
   ]
  },
  {
   "cell_type": "code",
   "execution_count": null,
   "id": "caa3a93d",
   "metadata": {},
   "outputs": [],
   "source": []
  },
  {
   "cell_type": "markdown",
   "id": "e4da0a1f",
   "metadata": {},
   "source": [
    "### 7. Maximum sum leaf to root path"
   ]
  },
  {
   "cell_type": "raw",
   "id": "f05c535d",
   "metadata": {},
   "source": [
    "Given a Binary Tree, find the maximum sum path from a leaf to root.\n",
    "\n",
    "Input:\n",
    "       10\n",
    "      /  \\\n",
    "    -2    7\n",
    "    / \\   \n",
    "   8  -4    \n",
    "Output:\n",
    "17\n",
    "Explanation : \n",
    "Following the path 7 -> 10, results in a\n",
    "sum of 17, which is the maximum path sum\n",
    "from leaf to root for the given tree.\n",
    "\n",
    "Input:\n",
    "       10\n",
    "         \\\n",
    "         -20\n",
    "            \\\n",
    "            -30\n",
    "output = -40"
   ]
  },
  {
   "cell_type": "code",
   "execution_count": 1,
   "id": "a8f4e3ab",
   "metadata": {},
   "outputs": [],
   "source": [
    "class Solution:\n",
    "    def inorder(self,root,cost):\n",
    "        if root.left == None and root.right == None:\n",
    "            return cost + root.data\n",
    "        \n",
    "        cost1 = None\n",
    "        cost2 = None\n",
    "        if root.left:\n",
    "            cost1 = self.inorder(root.left,cost+root.data)\n",
    "        if root.right:\n",
    "            cost2 = self.inorder(root.right,cost+root.data)\n",
    "        \n",
    "        if cost1 == None:\n",
    "            return cost2\n",
    "        elif cost2 == None:\n",
    "            return cost1\n",
    "        else:\n",
    "            return max(cost1,cost2)\n",
    "            \n",
    "    \n",
    "    def maxPathSum(self, root):\n",
    "        if root == None:\n",
    "            return 0\n",
    "        \n",
    "        return self.inorder(root,0)\n",
    "    \n",
    "# Time comp:O(N)\n",
    "# Space comp:O(N)"
   ]
  },
  {
   "cell_type": "code",
   "execution_count": null,
   "id": "e3329c32",
   "metadata": {},
   "outputs": [],
   "source": []
  },
  {
   "cell_type": "markdown",
   "id": "6deaf1c0",
   "metadata": {},
   "source": [
    "### 8. Number of Provinces"
   ]
  },
  {
   "cell_type": "raw",
   "id": "169b0315",
   "metadata": {},
   "source": [
    "Given an undirected graph with V vertices. We say two vertices u and v belong to a single province if there is a path from u to v or v to u. Your task is to find the number of provinces.\n",
    "\n",
    "Note: A province is a group of directly or indirectly connected cities and no other cities outside of the group.\n",
    "\n",
    "Example 1:\n",
    "\n",
    "Input:\n",
    "[\n",
    " [1, 0, 1],\n",
    " [0, 1, 0],\n",
    " [1, 0, 1]\n",
    "]\n",
    "\n",
    "    1     2\n",
    "     \\\n",
    "      3\n",
    "      \n",
    "Output = 2"
   ]
  },
  {
   "cell_type": "code",
   "execution_count": null,
   "id": "171fe14f",
   "metadata": {},
   "outputs": [],
   "source": [
    "# Basially we need to find connected components\n",
    "# Did using dfs\n",
    "\n",
    "class Solution:\n",
    "    \n",
    "    def dfs(self,adj,i,visited):\n",
    "        visited[i] = 1\n",
    "        \n",
    "        edges = adj[i]\n",
    "        \n",
    "        for j in range(len(edges)):\n",
    "            if edges[j] == 1 and visited[j] == 0:\n",
    "                self.dfs(adj,j,visited)\n",
    "    \n",
    "    def numProvinces(self, adj, V):\n",
    "        visited = [0] * V\n",
    "        \n",
    "        count = 0\n",
    "        for i in range(V):\n",
    "            if visited[i] == 0:\n",
    "                self.dfs(adj,i,visited)\n",
    "                count+=1\n",
    "                \n",
    "        return count\n",
    "    \n",
    "# Time comp:O(E+V)\n",
    "# Space comp:O(V)"
   ]
  }
 ],
 "metadata": {
  "kernelspec": {
   "display_name": "Python 3",
   "language": "python",
   "name": "python3"
  },
  "language_info": {
   "codemirror_mode": {
    "name": "ipython",
    "version": 3
   },
   "file_extension": ".py",
   "mimetype": "text/x-python",
   "name": "python",
   "nbconvert_exporter": "python",
   "pygments_lexer": "ipython3",
   "version": "3.6.5"
  }
 },
 "nbformat": 4,
 "nbformat_minor": 5
}
