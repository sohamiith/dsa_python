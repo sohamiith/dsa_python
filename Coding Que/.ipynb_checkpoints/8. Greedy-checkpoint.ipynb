{
 "cells": [
  {
   "cell_type": "markdown",
   "id": "712ec9c1",
   "metadata": {},
   "source": [
    "## Greedy"
   ]
  },
  {
   "cell_type": "code",
   "execution_count": null,
   "id": "0d616482",
   "metadata": {},
   "outputs": [],
   "source": []
  },
  {
   "cell_type": "markdown",
   "id": "2e6a51d1",
   "metadata": {},
   "source": [
    "### 220. Activity Selection Problem"
   ]
  },
  {
   "cell_type": "raw",
   "id": "7991f950",
   "metadata": {},
   "source": [
    "There is one meeting room in a firm. There are N meetings in the form of (start[i], end[i]) where start[i] is start time of meeting i and end[i] is finish time of meeting i.\n",
    "What is the maximum number of meetings that can be accommodated in the meeting room when only one meeting can be held in the meeting room at a particular time?\n",
    "\n",
    "Note: Start time of one chosen meeting can't be equal to the end time of the other chosen meeting.\n",
    "\n",
    "Input:\n",
    "N = 6\n",
    "start[] = {1,3,0,5,8,5}\n",
    "end[] =  {2,4,6,7,9,9}\n",
    "Output: \n",
    "4\n",
    "Explanation:\n",
    "Maximum four meetings can be held with\n",
    "given start and end timings.\n",
    "The meetings are - (1, 2),(3, 4), (5,7) and (8,9)"
   ]
  },
  {
   "cell_type": "code",
   "execution_count": null,
   "id": "6078ccb9",
   "metadata": {},
   "outputs": [],
   "source": [
    "\"\"\"\n",
    "Make new array of tuples where tuples are if (start,end) of each job.\n",
    "Sort the array based on the end time of job\n",
    "Take jobs with the least end time in sequence if its starting time is greater than end time of prev job \n",
    "\"\"\"\n",
    "\n",
    "class Solution:\n",
    "    #Function to find the maximum number of meetings that can\n",
    "    #be performed in a meeting room.\n",
    "    def maximumMeetings(self,n,start,end):\n",
    "        \n",
    "        # Make new array of tuples\n",
    "        new = []\n",
    "        for i in range(n):\n",
    "            temp = (start[i],end[i])\n",
    "            new.append(temp)\n",
    "            \n",
    "        # Sort array by select element of tuples\n",
    "        # list.sort(reverse=True|False, key=myFunc)\n",
    "        # lambda arguments: expression\n",
    "        new.sort(key = lambda x : x[1])\n",
    "        \n",
    "        output = 1\n",
    "        prev = new[0][1]\n",
    "        for i in range(1,n):\n",
    "            if new[i][0] > prev:\n",
    "                output+=1\n",
    "                prev = new[i][1]\n",
    "        \n",
    "        return output\n",
    "    \n",
    "# Time comp:O(N log N)\n",
    "# Space comp:O(N)   (To make new array)\n",
    "\n",
    "# If given jobs are already sorted by their end time then it will take O(N) time and O(1) space."
   ]
  },
  {
   "cell_type": "code",
   "execution_count": null,
   "id": "6aaa7844",
   "metadata": {},
   "outputs": [],
   "source": []
  },
  {
   "cell_type": "markdown",
   "id": "f994c9f7",
   "metadata": {},
   "source": [
    "### 211. Job SequencingProblem"
   ]
  },
  {
   "cell_type": "raw",
   "id": "acae8d2e",
   "metadata": {},
   "source": [
    "Given a set of N jobs where each jobi has a deadline and profit associated with it.\n",
    "\n",
    "Each job takes 1 unit of time to complete and only one job can be scheduled at a time. We earn the profit associated with job if and only if the job is completed by its deadline.\n",
    "\n",
    "Find the number of jobs done and the maximum profit.\n",
    "\n",
    "Note: Jobs will be given in the form (Jobid, Deadline, Profit) associated with that Job.\n",
    "\n",
    "Input:\n",
    "N = 4\n",
    "Jobs = {(1,4,20),(2,1,10),(3,1,40),(4,1,30)}\n",
    "Output:\n",
    "2 60\n",
    "Explanation:\n",
    "Job1 and Job3 can be done with\n",
    "maximum profit of 60 (20+40)."
   ]
  },
  {
   "cell_type": "code",
   "execution_count": null,
   "id": "3c1dd2b3",
   "metadata": {},
   "outputs": [],
   "source": [
    "\"\"\"\n",
    "Sort the jobs based on max profit\n",
    "After that pick jobs one by one and put them to as far as available slot as possible as per deadline.\n",
    "\"\"\"\n",
    "\n",
    "class Solution:\n",
    "    def JobScheduling(self,jobs,n):\n",
    "        \n",
    "        # Sort jobs based on profit\n",
    "        jobs.sort(reverse = True, key = lambda jobs:jobs.profit)\n",
    "        \n",
    "        # Finding max deadline\n",
    "        mx = max(jobs, key = lambda jobs:jobs.deadline)\n",
    "        \n",
    "        # Create output array\n",
    "        output = [None for i in range(mx.deadline)]\n",
    "        \n",
    "        for i in range(n):\n",
    "            curr = jobs[i]\n",
    "            deadline = curr.deadline - 1\n",
    "            \n",
    "            # Find as far as possible slot for given job\n",
    "            i = deadline\n",
    "            while i >= 0:\n",
    "                if output[i] == None:\n",
    "                    total_job += 1\n",
    "                    total_prof += curr.profit\n",
    "                    output[i] = curr.profit\n",
    "                    break\n",
    "                i -= 1\n",
    "        \n",
    "        return (total_job,total_prof)\n",
    "    \n",
    "# Time comp:O(N^2)    (sorting: NlogN, find slot for each jobs: O(N^2))\n",
    "# Space comp:O(N)"
   ]
  },
  {
   "cell_type": "code",
   "execution_count": null,
   "id": "94f0bae6",
   "metadata": {},
   "outputs": [],
   "source": []
  },
  {
   "cell_type": "markdown",
   "id": "98ed2ab2",
   "metadata": {},
   "source": [
    "### 223. Water Connection Problem"
   ]
  },
  {
   "cell_type": "raw",
   "id": "dc79d19a",
   "metadata": {},
   "source": [
    "There are n houses and p water pipes in Geek Colony. Every house has at most one pipe going into it and at most one pipe going out of it. Geek needs to install pairs of tanks and taps in the colony according to the following guidelines.  \n",
    "1. Every house with one outgoing pipe but no incoming pipe gets a tank on its roof.\n",
    "2. Every house with only one incoming and no outgoing pipe gets a tap.\n",
    "The Geek council has proposed a network of pipes where connections are denoted by three input values: ai, bi, di denoting the pipe of diameter di from house ai to house bi.\n",
    "Find a more efficient way for the construction of this network of pipes. Minimize the diameter of pipes wherever possible.\n",
    "Note: The generated output will have the following format. The first line will contain t, denoting the total number of pairs of tanks and taps installed. The next t lines contain three integers each: house number of tank, house number of tap, and the minimum diameter of pipe between them.\n",
    "\n",
    "\n",
    "Example 1:\n",
    "\n",
    "Input:\n",
    "n = 9, p = 6\n",
    "a[] = {7,5,4,2,9,3}\n",
    "b[] = {4,9,6,8,7,1}\n",
    "d[] = {98,72,10,22,17,66} \n",
    "Output: \n",
    "3\n",
    "2 8 22\n",
    "3 1 66\n",
    "5 6 10\n",
    "Explanation:\n",
    "Connected components are \n",
    "3->1, 5->9->7->4->6 and 2->8.\n",
    "Therefore, our answer is 3 \n",
    "followed by 2 8 22, 3 1 66, 5 6 10."
   ]
  },
  {
   "cell_type": "code",
   "execution_count": 2,
   "id": "75740296",
   "metadata": {},
   "outputs": [],
   "source": [
    "class Node:\n",
    "    def __init__(self,f,t,d):\n",
    "        self.f = f\n",
    "        self.to = t\n",
    "        self.diameter = d\n",
    "\n",
    "class Solution:\n",
    "    def solve(self, n, p ,a, b, d): \n",
    "        new = []\n",
    "        hash_map = {}\n",
    "        for i in range(p):\n",
    "            n = Node(a[i],b[i],d[i])\n",
    "            new.append(n)\n",
    "            \n",
    "        for i in range(len(new)):\n",
    "            hash_map[new[i].f] = (new[i].to, new[i].diameter)\n",
    "        \n",
    "\n",
    "        i = 0\n",
    "        while i < len(a):\n",
    "            key = a[i]\n",
    "            if key in hash_map:\n",
    "                val = hash_map[key]\n",
    "            else:\n",
    "                i+=1\n",
    "                continue\n",
    "            \n",
    "            if val[0] in hash_map:\n",
    "                val2 = hash_map[val[0]]\n",
    "                hash_map[key] = (val2[0],min(val[1],val2[1]))\n",
    "                del(hash_map[val[0]])\n",
    "            else:\n",
    "                i+=1\n",
    "         \n",
    "        ans = []\n",
    "        for i in hash_map:\n",
    "            ans.append(list([i, hash_map[i][0], hash_map[i][1]]))\n",
    "            \n",
    "        \n",
    "        ans.sort(key = lambda ans : ans[0])    # Ans was required in sorted order thats why sorting has been used\n",
    "        return ans\n",
    "    \n",
    "# Time comp:O(p)\n",
    "# Space comp:O(p)"
   ]
  },
  {
   "cell_type": "code",
   "execution_count": null,
   "id": "3a738a21",
   "metadata": {},
   "outputs": [],
   "source": []
  },
  {
   "cell_type": "markdown",
   "id": "9a75048a",
   "metadata": {},
   "source": [
    "### 224. Fractional Knapsack"
   ]
  },
  {
   "cell_type": "raw",
   "id": "ebdab989",
   "metadata": {},
   "source": [
    "Given weights and values of N items, we need to put these items in a knapsack of capacity W to get the maximum total value in the knapsack.\n",
    "Note: Unlike 0/1 knapsack, you are allowed to break the item. \n",
    "\n",
    "Example 1:\n",
    "\n",
    "Input:\n",
    "N = 3, W = 50\n",
    "values[] = {60,100,120}\n",
    "weight[] = {10,20,30}\n",
    "Output:\n",
    "240.00\n",
    "Explanation:Total maximum value of item\n",
    "we can have is 240.00 from the given\n",
    "capacity of sack. "
   ]
  },
  {
   "cell_type": "raw",
   "id": "7f017c04",
   "metadata": {},
   "source": [
    "1. Calculate the ratio(value/weight) for each item.\n",
    "2. Sort all the items in decreasing order of the ratio.\n",
    "3. Initialize res =0, curr_cap = given_cap.\n",
    "4. Do the following for every item “i” in the sorted order:\n",
    "\n",
    "while(i.weight){\n",
    "    if(i.weight<=curr_cap)\n",
    "    {\n",
    "        curr_cap -= i.weight;\n",
    "        res += i.value;\n",
    "    }\n",
    "    else\n",
    "    {\n",
    "        res += (i.value * (curr_cap/i.weight));\n",
    "        return res;\n",
    "    }\n",
    "}"
   ]
  },
  {
   "cell_type": "code",
   "execution_count": 1,
   "id": "0bcf9a88",
   "metadata": {},
   "outputs": [],
   "source": [
    "class Node:\n",
    "    def __init__(self,w,value):\n",
    "        self.w = w\n",
    "        self.value = value\n",
    "        self.cost = value/w\n",
    "\n",
    "class Solution:    \n",
    "    #Function to get the maximum total value in the knapsack.\n",
    "    def fractionalknapsack(self, W,Items,n):\n",
    "        new = []\n",
    "        for i in range(n):\n",
    "            new.append(Node(Items[i].weight,Items[i].value))\n",
    "        new.sort(reverse = True ,key = lambda new : new.cost)\n",
    "        \n",
    "        profit = 0\n",
    "        \n",
    "        for i in range(len(new)):\n",
    "            if W <= 0:\n",
    "                break\n",
    "            \n",
    "            if new[i].w <= W:\n",
    "                W -= new[i].w\n",
    "                profit += new[i].value\n",
    "            else:\n",
    "                profit += (new[i].value * (W/new[i].w))\n",
    "                break\n",
    "        \n",
    "        return profit\n",
    "    \n",
    "# Time comp:O(N Log N)\n",
    "# Space comp:O(N)"
   ]
  },
  {
   "cell_type": "code",
   "execution_count": null,
   "id": "a671219e",
   "metadata": {},
   "outputs": [],
   "source": []
  },
  {
   "cell_type": "markdown",
   "id": "806a2d94",
   "metadata": {},
   "source": [
    "### 465.  Choose and Swap"
   ]
  },
  {
   "cell_type": "raw",
   "id": "74a3418a",
   "metadata": {},
   "source": [
    "You are given a string s of lower case english alphabets. You can choose any two characters in the string and replace all the occurences of the first character with the second character and replace all the occurences of the second character with the first character. Your aim is to find the lexicographically smallest string that can be obtained by doing this operation at most once.\n",
    "\n",
    "Example 1:\n",
    "\n",
    "Input:\n",
    "A = \"ccad\"\n",
    "Output: \"aacd\"\n",
    "Explanation:\n",
    "In ccad, we choose a and c and after \n",
    "doing the replacement operation once we get, \n",
    "aacd and this is the lexicographically\n",
    "smallest string possible. \n",
    " \n",
    "\n",
    "Example 2:\n",
    "\n",
    "Input:\n",
    "A = \"abba\"\n",
    "Output: \"abba\"\n",
    "Explanation:\n",
    "In abba, we can get baab after doing the \n",
    "replacement operation once for a and b \n",
    "but that is not lexicographically smaller \n",
    "than abba. So, the answer is abba."
   ]
  },
  {
   "cell_type": "code",
   "execution_count": 3,
   "id": "09f9c77e",
   "metadata": {},
   "outputs": [],
   "source": [
    "\"\"\"\n",
    "Here we create hash map of all unique char and their first appearance as value\n",
    "like: {a:1,c:2,d:0}\n",
    "\n",
    "After that we run through the string and for each char did the following.\n",
    "-> Find the char from hash map which is lower than curr char and appeare after curr index.\n",
    "-> Like that find lowest from right side and replace it with the curr one and exit the loop\n",
    "\"\"\"\n",
    "\n",
    "def chooseandswap (A):\n",
    "    hash_map = {}\n",
    "    \n",
    "    for i in range(len(A)):\n",
    "        if A[i] in hash_map:\n",
    "            continue\n",
    "        hash_map[A[i]] = i\n",
    "\n",
    "    for i in range(len(A)):\n",
    "        char = A[i]\n",
    "        if char in hash_map:\n",
    "            del hash_map[char]\n",
    "\n",
    "        replace = \"\"\n",
    "        for j in hash_map:\n",
    "            if j < char and hash_map[j] > i:\n",
    "                if replace == \"\":\n",
    "                    replace = j\n",
    "                else:\n",
    "                    replace = min(replace,j)\n",
    "\n",
    "\n",
    "        if replace != \"\":\n",
    "            A = A.replace(replace,'#')\n",
    "            A = A.replace(char,replace)\n",
    "            A = A.replace('#',char)\n",
    "            break\n",
    "\n",
    "    return A\n",
    "\n",
    "# Time comp:O(|A|)\n",
    "# Space comp:O(1)\n",
    "\n",
    "# Here we have used hash map but at max it will store only 26 char so O(26) = O(1)\n",
    "# Also internal for loop will also run at max 26 time to total time comp:O(26*N) = O(N)"
   ]
  },
  {
   "cell_type": "code",
   "execution_count": 4,
   "id": "42bde26a",
   "metadata": {},
   "outputs": [
    {
     "data": {
      "text/plain": [
       "'abcdef'"
      ]
     },
     "execution_count": 4,
     "metadata": {},
     "output_type": "execute_result"
    }
   ],
   "source": [
    "chooseandswap ('abcdfe')"
   ]
  },
  {
   "cell_type": "code",
   "execution_count": null,
   "id": "32f7de0b",
   "metadata": {},
   "outputs": [],
   "source": []
  }
 ],
 "metadata": {
  "kernelspec": {
   "display_name": "Python 3",
   "language": "python",
   "name": "python3"
  },
  "language_info": {
   "codemirror_mode": {
    "name": "ipython",
    "version": 3
   },
   "file_extension": ".py",
   "mimetype": "text/x-python",
   "name": "python",
   "nbconvert_exporter": "python",
   "pygments_lexer": "ipython3",
   "version": "3.6.5"
  }
 },
 "nbformat": 4,
 "nbformat_minor": 5
}
