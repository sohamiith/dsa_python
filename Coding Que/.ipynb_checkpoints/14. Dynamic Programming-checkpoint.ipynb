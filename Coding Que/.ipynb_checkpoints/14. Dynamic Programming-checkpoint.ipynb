{
 "cells": [
  {
   "cell_type": "markdown",
   "id": "ae26464c",
   "metadata": {},
   "source": [
    "## Dynamic Programming"
   ]
  },
  {
   "cell_type": "raw",
   "id": "3161c4f2",
   "metadata": {},
   "source": [
    "Dynamic Programming is mainly an optimization over plain recursion. Wherever we see a recursive solution that has repeated calls for same inputs, we can optimize it using Dynamic Programming. The idea is to simply store the results of subproblems, so that we do not have to re-compute them when needed later. This simple optimization reduces time complexities from exponential to polynomial.\n",
    "\n",
    "Approaches:\n",
    "1. Top down: recursion + memoization\n",
    "2. Bottom up: tebulation\n",
    "\n",
    "problem can be solved using Dynamic programming if following things are there in problem: \n",
    "1) Overlapping Subproblems \n",
    "2) Optimal Substructure \n",
    "\n",
    "1) Overlapping subproblems:\n",
    "Dynamic Programming is mainly used when solutions to the same subproblems are needed again and again. In dynamic programming, computed solutions to subproblems are stored in a table so that these don’t have to be recomputed. So Dynamic Programming is not useful when there are no common (overlapping) subproblems because there is no point in storing the solutions if they are not needed again.\n",
    "\n",
    "2) Optimal Substructure: \n",
    "A given problem has Optimal Substructure Property if the optimal solution of the given problem can be obtained by using optimal solutions of its subproblems.\n",
    "\n",
    "\n",
    "Memoization: \n",
    "Store the result of sub problems into map/table\n",
    "\n",
    "\n",
    "Three steps to build DP solution:\n",
    "\n",
    "1. Create DP table\n",
    "2. After calculating ans, store it into the DP table\n",
    "3. Just after base condition code, check whether given ans is already in DP table or not. If ans is there then return that ans directly without solving it."
   ]
  },
  {
   "cell_type": "code",
   "execution_count": null,
   "id": "d51a77d3",
   "metadata": {},
   "outputs": [],
   "source": []
  },
  {
   "cell_type": "markdown",
   "id": "88a4561c",
   "metadata": {},
   "source": [
    "### 102. maximum sum such that no 2 elements are adjacent"
   ]
  },
  {
   "cell_type": "raw",
   "id": "cf30f20c",
   "metadata": {},
   "source": [
    "Stickler the thief wants to loot money from a society having n houses in a single line. He is a weird person and follows a certain rule when looting the houses. According to the rule, he will never loot two consecutive houses. At the same time, he wants to maximize the amount he loots. The thief knows which house has what amount of money but is unable to come up with an optimal looting strategy. He asks for your help to find the maximum money he can get if he strictly follows the rule. Each house has a[i]amount of money present in it.\n",
    "\n",
    "Example 1:\n",
    "\n",
    "Input:\n",
    "n = 6\n",
    "a[] = {5,5,10,100,10,5}\n",
    "Output: 110\n",
    "Explanation: 5+100+5=110"
   ]
  },
  {
   "cell_type": "raw",
   "id": "b9255b89",
   "metadata": {},
   "source": [
    "recursive relation:\n",
    "\n",
    "For every element in array, there are two posibilities.\n",
    "1. include that element\n",
    "f(n) = f(n+2) + cost[n]\n",
    "\n",
    "2. exclude that element\n",
    "f(n) = f(n+1) + 0\n",
    "\n",
    "base condition:\n",
    "if n > len(cost): return 0"
   ]
  },
  {
   "cell_type": "code",
   "execution_count": 38,
   "id": "7ae9c3fc",
   "metadata": {},
   "outputs": [],
   "source": [
    "# Recursive solution\n",
    "\n",
    "class Solution:  \n",
    "    def solve(self,a,n,i):\n",
    "        if i >= n:\n",
    "            return 0\n",
    "            \n",
    "        if len(a) == 1:\n",
    "            return a[0]\n",
    "    \n",
    "        include = self.solve(a, n, i+2) + a[i]\n",
    "        exclude = self.solve(a, n, i+1) + 0\n",
    "        \n",
    "        return max(include, exclude)\n",
    "    \n",
    "    def FindMaxSum(self,a, n):\n",
    "        i = 0\n",
    "        return self.solve(a, n, i)\n",
    "    \n",
    "# Time comp:O(2^n)\n",
    "# Space comp:O(N)   (due to recursive stack)"
   ]
  },
  {
   "cell_type": "code",
   "execution_count": 39,
   "id": "41969311",
   "metadata": {},
   "outputs": [
    {
     "data": {
      "text/plain": [
       "110"
      ]
     },
     "execution_count": 39,
     "metadata": {},
     "output_type": "execute_result"
    }
   ],
   "source": [
    "s = Solution()\n",
    "s.FindMaxSum([5,5,10,100,10,5],6)"
   ]
  },
  {
   "cell_type": "code",
   "execution_count": 55,
   "id": "d9372219",
   "metadata": {},
   "outputs": [],
   "source": [
    "# DP: Top down approach\n",
    "\n",
    "class Solution:\n",
    "    def __init__(self):\n",
    "        self.table = []\n",
    "    \n",
    "    def solve(self,a,n,i):\n",
    "        if i >= n:\n",
    "            return 0\n",
    "            \n",
    "        if len(a) == 1:\n",
    "            return a[0]\n",
    "    \n",
    "        if self.table[i] != -1:\n",
    "            return self.table[i]\n",
    "    \n",
    "        include = self.solve(a, n, i+2) + a[i]\n",
    "        exclude = self.solve(a, n, i+1) + 0\n",
    "        \n",
    "        self.table[i] = max(include, exclude)\n",
    "        \n",
    "        return self.table[i]\n",
    "    \n",
    "    def FindMaxSum(self,a, n):\n",
    "        self.table = [-1 for i in range(n)]\n",
    "        i = 0\n",
    "        return self.solve(a, n, i)\n",
    "    \n",
    "# Time comp:O(N)\n",
    "# Space comp:O(N)   (due to recursive stack)"
   ]
  },
  {
   "cell_type": "code",
   "execution_count": 56,
   "id": "998a56f5",
   "metadata": {},
   "outputs": [
    {
     "data": {
      "text/plain": [
       "110"
      ]
     },
     "execution_count": 56,
     "metadata": {},
     "output_type": "execute_result"
    }
   ],
   "source": [
    "s = Solution()\n",
    "s.FindMaxSum([5,5,10,100,10,5],6)"
   ]
  },
  {
   "cell_type": "code",
   "execution_count": 65,
   "id": "1df9dc1d",
   "metadata": {},
   "outputs": [],
   "source": [
    "# DP: Bottom up approach\n",
    "\n",
    "class Solution:\n",
    "    def __init__(self):\n",
    "        self.table = []\n",
    "    \n",
    "    def solve(self,a,n):\n",
    "        if len(a) == 1:\n",
    "            return a[0]\n",
    "        \n",
    "        for j in range(n-2,-1,-1):\n",
    "            if j+2 < n:\n",
    "                include = self.table[j+2] + a[j]\n",
    "            else:\n",
    "                include = a[j]\n",
    "                \n",
    "            exclude = self.table[j+1] + 0\n",
    "            \n",
    "            self.table[j] = max(include, exclude)\n",
    "        \n",
    "        return self.table[0]\n",
    "    \n",
    "    def FindMaxSum(self,a, n):\n",
    "        self.table = [0 for i in range(n)]\n",
    "        self.table[n-1] = a[n-1]\n",
    "        return self.solve(a, n)\n",
    "    \n",
    "# Time comp:O(N)\n",
    "# Space comp:O(N)   (due to recursive stack)"
   ]
  },
  {
   "cell_type": "code",
   "execution_count": 66,
   "id": "d404987a",
   "metadata": {},
   "outputs": [
    {
     "data": {
      "text/plain": [
       "110"
      ]
     },
     "execution_count": 66,
     "metadata": {},
     "output_type": "execute_result"
    }
   ],
   "source": [
    "s = Solution()\n",
    "s.FindMaxSum([5,5,10,100,10,5],6)"
   ]
  },
  {
   "cell_type": "code",
   "execution_count": 69,
   "id": "50f6d9fd",
   "metadata": {},
   "outputs": [],
   "source": [
    "# Space optimal solution\n",
    "\n",
    "class Solution:\n",
    "    def solve(self,a,n,last,second_last):\n",
    "        if len(a) == 1:\n",
    "            return a[0]\n",
    "        \n",
    "        for j in range(n-2,-1,-1):\n",
    "            if j+2 < n:\n",
    "                include = last + a[j]\n",
    "            else:\n",
    "                include = a[j]\n",
    "                \n",
    "            exclude = second_last + 0\n",
    "            \n",
    "            temp = max(include, exclude)\n",
    "            \n",
    "            last = second_last\n",
    "            second_last = temp\n",
    "        \n",
    "        return second_last\n",
    "    \n",
    "    def FindMaxSum(self,a, n):\n",
    "        last = 0\n",
    "        second_last = a[n-1]\n",
    "        return self.solve(a, n, last, second_last)\n",
    "    \n",
    "# Time comp:O(N)\n",
    "# Space comp:O(1)"
   ]
  },
  {
   "cell_type": "code",
   "execution_count": 70,
   "id": "5548f88b",
   "metadata": {},
   "outputs": [
    {
     "data": {
      "text/plain": [
       "110"
      ]
     },
     "execution_count": 70,
     "metadata": {},
     "output_type": "execute_result"
    }
   ],
   "source": [
    "s = Solution()\n",
    "s.FindMaxSum([5,5,10,100,10,5],6)"
   ]
  },
  {
   "cell_type": "raw",
   "id": "be6f9b28",
   "metadata": {},
   "source": [
    "(https://www.codingninjas.com/codestudio/problems/house-robber_839733?leftPanelTab=1)\n",
    "\n",
    "If its given that, all the array A is actually in a circular form,\n",
    "Then we can't include first and last element togather in ans.\n",
    "\n",
    "Following is solution for that.\n"
   ]
  },
  {
   "cell_type": "code",
   "execution_count": null,
   "id": "6c97245e",
   "metadata": {},
   "outputs": [],
   "source": [
    "class Solution:\n",
    "    def solve(self,a,n,last,second_last):\n",
    "        if len(a) == 1:\n",
    "            return a[0]\n",
    "        \n",
    "        for j in range(n-2,-1,-1):\n",
    "            if j+2 < n:\n",
    "                include = last + a[j]\n",
    "            else:\n",
    "                include = a[j]\n",
    "                \n",
    "            exclude = second_last + 0\n",
    "            \n",
    "            temp = max(include, exclude)\n",
    "            \n",
    "            last = second_last\n",
    "            second_last = temp\n",
    "        \n",
    "        return second_last\n",
    "    \n",
    "    def FindMaxSum(self,a, n):\n",
    "        \n",
    "        # Include the last one and ignore the first element\n",
    "        last = 0\n",
    "        second_last = a[n-1]\n",
    "        x = self.solve(a[1:], n-1, last, second_last)\n",
    "        \n",
    "        # Include the first one and ignore the last element\n",
    "        last = 0\n",
    "        second_last = a[n-2]\n",
    "        y = self.solve(a[:n-1], n-1, last, second_last)\n",
    "        \n",
    "        return max(x,y)\n",
    "    \n",
    "# Time comp:O(N)\n",
    "# Space comp:O(1)"
   ]
  },
  {
   "cell_type": "code",
   "execution_count": null,
   "id": "8e1e76ec",
   "metadata": {},
   "outputs": [],
   "source": []
  },
  {
   "cell_type": "markdown",
   "id": "34f173a9",
   "metadata": {},
   "source": [
    "### 467. Nth Fibinacci number"
   ]
  },
  {
   "cell_type": "raw",
   "id": "24f44fe7",
   "metadata": {},
   "source": [
    "Given a positive integer n, find the nth fibonacci number. Since the answer can be very large, return the answer modulo 1000000007.\n",
    "\n",
    "Input: n = 5\n",
    "Output: 5\n",
    "Explanation: 5 is the 5th number\n",
    "of fibonacci series."
   ]
  },
  {
   "cell_type": "raw",
   "id": "f4ae5dc5",
   "metadata": {},
   "source": [
    "Fibinacci: 0 1 1 2 3 5 8 13 21 ...\n",
    "\n",
    "f(n) = f(n-1) + f(n-2)"
   ]
  },
  {
   "cell_type": "code",
   "execution_count": 3,
   "id": "41a8eec5",
   "metadata": {},
   "outputs": [],
   "source": [
    "# Recursion methon\n",
    "\n",
    "def findFibo(n):\n",
    "    if n == 1 or n == 0:\n",
    "        return n\n",
    "\n",
    "    return findFibo(n-1) + findFibo(n-2)\n",
    "\n",
    "# Time comp:O(2^n)\n",
    "# Space comp:O(1)   (Recursive tree:O(n))"
   ]
  },
  {
   "cell_type": "code",
   "execution_count": 4,
   "id": "50577357",
   "metadata": {},
   "outputs": [
    {
     "name": "stdout",
     "output_type": "stream",
     "text": [
      "8\n",
      "34\n"
     ]
    }
   ],
   "source": [
    "print(findFibo(6))\n",
    "print(findFibo(9))"
   ]
  },
  {
   "cell_type": "code",
   "execution_count": 14,
   "id": "ba0fdf63",
   "metadata": {},
   "outputs": [],
   "source": [
    "# DP: Top down approach\n",
    "\n",
    "class Solution:\n",
    "    def __init__(self):\n",
    "        self.table = []\n",
    "        \n",
    "    def findFibo(self,n):\n",
    "        if n == 1 or n == 0:\n",
    "            return n\n",
    "        \n",
    "        if self.table[n] != -1:\n",
    "            return self.table[n]\n",
    "        \n",
    "        x = self.findFibo(n-1) + self.findFibo(n-2)\n",
    "        self.table[n] = x\n",
    "        return x\n",
    "    \n",
    "    \n",
    "    def nthFibonacci(self, n):\n",
    "        self.table = [-1 for i in range(n+1)]\n",
    "        ans = self.findFibo(n)\n",
    "        return ans%1000000007\n",
    "    \n",
    "# Time comp:O(N)\n",
    "# Space comp:O(N)   (for memoization)  (recursion tree:O(N))"
   ]
  },
  {
   "cell_type": "code",
   "execution_count": 15,
   "id": "003a5b54",
   "metadata": {},
   "outputs": [
    {
     "name": "stdout",
     "output_type": "stream",
     "text": [
      "8\n",
      "34\n"
     ]
    }
   ],
   "source": [
    "s = Solution()\n",
    "print(s.nthFibonacci(6))\n",
    "print(s.nthFibonacci(9))"
   ]
  },
  {
   "cell_type": "code",
   "execution_count": 16,
   "id": "30d26b99",
   "metadata": {},
   "outputs": [],
   "source": [
    "# DP: Bottom up approach\n",
    "\n",
    "class Solution2:\n",
    "    def __init__(self):\n",
    "        self.table = []\n",
    "        \n",
    "    def findFibo(self,n):\n",
    "        if n == 1 or n == 0:\n",
    "            return self.table[n]\n",
    "        \n",
    "        for i in range(2,n+1):\n",
    "            self.table[i] = self.table[i-1] + self.table[i-2]\n",
    "        \n",
    "        return self.table[n]\n",
    "    \n",
    "    \n",
    "    def nthFibonacci(self, n):\n",
    "        self.table = [-1 for i in range(n+1)]\n",
    "        self.table[0] = 0\n",
    "        self.table[1] = 1\n",
    "        ans = self.findFibo(n)\n",
    "        return ans%1000000007\n",
    "    \n",
    "# Time comp:O(N)\n",
    "# Space comp:O(N)"
   ]
  },
  {
   "cell_type": "code",
   "execution_count": 17,
   "id": "2261cdbe",
   "metadata": {},
   "outputs": [
    {
     "name": "stdout",
     "output_type": "stream",
     "text": [
      "8\n",
      "34\n"
     ]
    }
   ],
   "source": [
    "s = Solution2()\n",
    "print(s.nthFibonacci(6))\n",
    "print(s.nthFibonacci(9))"
   ]
  },
  {
   "cell_type": "code",
   "execution_count": 12,
   "id": "2e784ad1",
   "metadata": {},
   "outputs": [],
   "source": [
    "# Iterative method  (Space optimization)\n",
    "\n",
    "def findFibo2(n):\n",
    "    if n == 1 or n == 0:\n",
    "        return n\n",
    "\n",
    "    s_last = 0    # second last\n",
    "    last = 1      # last\n",
    "    \n",
    "    for i in range(2,n+1):\n",
    "        temp = last\n",
    "        last = s_last + last\n",
    "        s_last = temp\n",
    "    return last\n",
    "\n",
    "# Time comp:O(N)\n",
    "# Space cop:O(1)"
   ]
  },
  {
   "cell_type": "code",
   "execution_count": 13,
   "id": "c1c993ba",
   "metadata": {},
   "outputs": [
    {
     "name": "stdout",
     "output_type": "stream",
     "text": [
      "8\n",
      "34\n"
     ]
    }
   ],
   "source": [
    "print(findFibo2(6))\n",
    "print(findFibo2(9))"
   ]
  },
  {
   "cell_type": "code",
   "execution_count": null,
   "id": "ca8918f5",
   "metadata": {},
   "outputs": [],
   "source": []
  },
  {
   "cell_type": "markdown",
   "id": "cdeec8fc",
   "metadata": {},
   "source": [
    "### 468. Count ways to reach the n'th stair"
   ]
  },
  {
   "cell_type": "raw",
   "id": "899f7228",
   "metadata": {},
   "source": [
    "There are n stairs, a person standing at the bottom wants to reach the top. The person can climb either 1 stair or 2 stairs at a time. Count the number of ways, the person can reach the top (order does matter).\n",
    "\n",
    "Input:\n",
    "n = 4\n",
    "Output: 5\n",
    "Explanation:\n",
    "You can reach 4th stair in 5 ways. \n",
    "Way 1: Climb 2 stairs at a time. \n",
    "Way 2: Climb 1 stair at a time.\n",
    "Way 3: Climb 2 stairs, then 1 stair\n",
    "and then 1 stair.\n",
    "Way 4: Climb 1 stair, then 2 stairs\n",
    "then 1 stair.\n",
    "Way 5: Climb 1 stair, then 1 stair and\n",
    "then 2 stairs."
   ]
  },
  {
   "cell_type": "raw",
   "id": "f031c834",
   "metadata": {},
   "source": [
    "recursive function:\n",
    "f(n) = f(n+1) + f(f+2)   If I am standing at stair 1 then I can either go to (1+1 = 2) or (1+2 = 3)\n",
    "\n",
    "or\n",
    "\n",
    "f(n) = f(n-1) + f(n-2)   If I am stading at strai 5 then I came either from (5-1 = 4) or (5-2 = 3)"
   ]
  },
  {
   "cell_type": "code",
   "execution_count": 18,
   "id": "8df4c333",
   "metadata": {},
   "outputs": [],
   "source": [
    "class Solution:\n",
    "    def count(self,stairs,i):\n",
    "        if i == stairs:\n",
    "            return 1\n",
    "            \n",
    "        if i > stairs:\n",
    "            return 0\n",
    "            \n",
    "        return self.count(stairs,i+1) + self.count(stairs,i+2)\n",
    "    \n",
    "    def countWays(self,n):\n",
    "        return self.count(n,0) % 1000000007\n",
    "    \n",
    "# Time comp:O(2^N)\n",
    "# Space comp:O(1)   (Recursion stakc:O(N))"
   ]
  },
  {
   "cell_type": "code",
   "execution_count": 19,
   "id": "f916626a",
   "metadata": {},
   "outputs": [
    {
     "name": "stdout",
     "output_type": "stream",
     "text": [
      "5\n",
      "89\n"
     ]
    }
   ],
   "source": [
    "s = Solution()\n",
    "print(s.countWays(4))\n",
    "print(s.countWays(10))"
   ]
  },
  {
   "cell_type": "code",
   "execution_count": 20,
   "id": "f85e5174",
   "metadata": {},
   "outputs": [],
   "source": [
    "# DP: Top down approach\n",
    "\n",
    "class Solution:\n",
    "    def __init__(self):\n",
    "        self.table = []\n",
    "    \n",
    "    def count(self,stairs,i):\n",
    "        if i == stairs:\n",
    "            return 1\n",
    "            \n",
    "        if i > stairs:\n",
    "            return 0\n",
    "            \n",
    "        if self.table[i] != -1:\n",
    "            return self.table[i]\n",
    "            \n",
    "        self.table[i] = self.count(stairs,i+1) + self.count(stairs,i+2)\n",
    "        return self.table[i]\n",
    "    \n",
    "    def countWays(self,n):\n",
    "        self.table = [-1 for i in range(n+1)]\n",
    "        return self.count(n,0) % 1000000007\n",
    "    \n",
    "# Time comp:O(N)\n",
    "# Space comp:O(N)    (recursion stack:O(N))"
   ]
  },
  {
   "cell_type": "code",
   "execution_count": 21,
   "id": "acfe5c97",
   "metadata": {},
   "outputs": [
    {
     "name": "stdout",
     "output_type": "stream",
     "text": [
      "5\n",
      "89\n"
     ]
    }
   ],
   "source": [
    "s = Solution()\n",
    "print(s.countWays(4))\n",
    "print(s.countWays(10))"
   ]
  },
  {
   "cell_type": "code",
   "execution_count": null,
   "id": "2c861e8f",
   "metadata": {},
   "outputs": [],
   "source": [
    "# DP: Bottom up approach\n",
    "\n",
    "class Solution:\n",
    "    def __init__(self):\n",
    "        self.table = []\n",
    "    \n",
    "    def count(self,stairs,i):\n",
    "        if i == stairs:\n",
    "            return self.table[i]\n",
    "        \n",
    "        for j in range(stairs-2,-1,-1):\n",
    "            self.table[j] = self.table[j+1] + self.table[j+2]\n",
    "            \n",
    "        return self.table[0]\n",
    "    \n",
    "    def countWays(self,n):\n",
    "        self.table = [-1 for i in range(n+1)]\n",
    "        self.table[n] = 1\n",
    "        self.table[n-1] = 1\n",
    "        return self.count(n,0) % 1000000007\n",
    "    \n",
    "# Time comp:O(N)\n",
    "# Space comp:O(N)    (recursion stack:O(N))"
   ]
  },
  {
   "cell_type": "code",
   "execution_count": 22,
   "id": "1cabc8a0",
   "metadata": {},
   "outputs": [],
   "source": [
    "# Iterative method (Space optimization)\n",
    "\n",
    "class Solution:\n",
    "    def countWays(self,n):\n",
    "        one = 1\n",
    "        two = 1\n",
    "        \n",
    "        for i in range(2,n+1):\n",
    "            temp = one\n",
    "            one = one + two\n",
    "            two = temp\n",
    "            \n",
    "        return one % 1000000007\n",
    "    \n",
    "# Time comp:O(N)\n",
    "# Space comp:O(1)"
   ]
  },
  {
   "cell_type": "code",
   "execution_count": null,
   "id": "3a5e8b38",
   "metadata": {},
   "outputs": [],
   "source": []
  },
  {
   "cell_type": "markdown",
   "id": "6397ba6b",
   "metadata": {},
   "source": [
    "### 469.  Min Cost Climbing Stairs "
   ]
  },
  {
   "cell_type": "raw",
   "id": "ff671149",
   "metadata": {},
   "source": [
    "Given an array of integers cost[] of length N, where cost[i] is the cost of the ith step on a staircase. Once the cost is paid, you can either climb one or two steps.\n",
    "You can either start from the step with index 0, or the step with index 1.\n",
    "Return the minimum cost to reach the top of the floor.\n",
    "\n",
    "Input:\n",
    "N = 10\n",
    "arr[] = {1, 100, 1, 1, 1, 100, 1, 1, 100, 1}\n",
    "Output:\n",
    "6\n",
    "Explanation:\n",
    "Cheapest option is to start on cost[0], \n",
    "and only step on 1s, skipping cost[3]."
   ]
  },
  {
   "cell_type": "raw",
   "id": "8cdaf134",
   "metadata": {},
   "source": [
    "https://www.youtube.com/watch?v=S31W3kohFDk\n",
    "\n",
    "recursive relation\n",
    "\n",
    "f(k) = min(f(k-1),f(k-2)) + cost(k)   (Where 0<= k <= n-1)\n",
    "\n",
    "if k = n:\n",
    "f(k) = min(f(k-1),f(k-2))"
   ]
  },
  {
   "cell_type": "code",
   "execution_count": 23,
   "id": "8329ea12",
   "metadata": {},
   "outputs": [],
   "source": [
    "# Recursive solution\n",
    "\n",
    "class Solution:\n",
    "    def solve(self, cost,N):\n",
    "        if N == 0:\n",
    "            return cost[0]\n",
    "            \n",
    "        if N == 1:\n",
    "            return cost[1]\n",
    "            \n",
    "        x = self.solve(cost, N-1)\n",
    "        y = self.solve(cost, N-2)\n",
    "        return min(x,y) + cost[N]\n",
    "    \n",
    "    \n",
    "    def minCostClimbingStairs(self, cost, N):\n",
    "        x = self.solve(cost, N-1)\n",
    "        y = self.solve(cost, N-2)\n",
    "        return min(x,y)\n",
    "    \n",
    "# Time comp:O(2^N)\n",
    "# Space comp:O(N)   (due to recursion stack)"
   ]
  },
  {
   "cell_type": "code",
   "execution_count": 24,
   "id": "f6c615a2",
   "metadata": {},
   "outputs": [
    {
     "name": "stdout",
     "output_type": "stream",
     "text": [
      "6\n"
     ]
    }
   ],
   "source": [
    "s = Solution()\n",
    "print(s.minCostClimbingStairs([1, 100, 1, 1, 1, 100, 1, 1, 100, 1],10))"
   ]
  },
  {
   "cell_type": "code",
   "execution_count": null,
   "id": "fb14ffa9",
   "metadata": {},
   "outputs": [],
   "source": [
    "# DP: Top down approach\n",
    "\n",
    "import sys\n",
    "sys.setrecursionlimit(1500)\n",
    "\n",
    "class Solution:\n",
    "    def __init__(self):\n",
    "        self.table = []\n",
    "    \n",
    "    def solve(self, cost,N):\n",
    "        if N == 0:\n",
    "            return cost[0]\n",
    "            \n",
    "        if N == 1:\n",
    "            return cost[1]\n",
    "            \n",
    "        if self.table[N] != -1:\n",
    "            return self.table[N]\n",
    "        \n",
    "        x = self.solve(cost, N-1)\n",
    "        y = self.solve(cost, N-2)\n",
    "        \n",
    "        self.table[N] = min(x,y) + cost[N]\n",
    "        return self.table[N]\n",
    "    \n",
    "    \n",
    "    def minCostClimbingStairs(self, cost, N):\n",
    "        self.table = [-1 for i in range(N+1)]\n",
    "        x = self.solve(cost, N-1)\n",
    "        y = self.solve(cost, N-2)\n",
    "        return min(x,y)\n",
    "    \n",
    "# Time comp:O(N)\n",
    "# Space comp:O(N)   (recursion stack:O(N) + DP table:O(N))"
   ]
  },
  {
   "cell_type": "code",
   "execution_count": null,
   "id": "edf8fdfc",
   "metadata": {},
   "outputs": [],
   "source": [
    "# DP: Bottom up approach\n",
    "\n",
    "class Solution:\n",
    "    def __init__(self):\n",
    "        self.table = []\n",
    "    \n",
    "    def solve(self, cost,N):\n",
    "        if N == 0 or N == 1:\n",
    "            return self.table[N]\n",
    "            \n",
    "        if self.table[N] != -1:\n",
    "            return self.table[N]\n",
    "            \n",
    "        for i in range(2,N):\n",
    "            self.table[i] = min(self.table[i-1],self.table[i-2]) + cost[i]\n",
    "        \n",
    "        return min(self.table[N-1],self.table[N-2])\n",
    "    \n",
    "    \n",
    "    def minCostClimbingStairs(self, cost, N):\n",
    "        self.table = [-1 for i in range(N+1)]\n",
    "        self.table[0] = cost[0]\n",
    "        self.table[1] = cost[1]\n",
    "        return self.solve(cost,N)\n",
    "    \n",
    "# Time comp:O(N)\n",
    "# Space comp:O(N)   (DP table:O(N))"
   ]
  },
  {
   "cell_type": "code",
   "execution_count": 25,
   "id": "0cef2593",
   "metadata": {},
   "outputs": [],
   "source": [
    "# Space optimization\n",
    "\n",
    "class Solution:\n",
    "    def solve(self, cost,N,second_last,last):\n",
    "        if N == 0:\n",
    "            return second_last\n",
    "        \n",
    "        if N == 1:\n",
    "            return last\n",
    "            \n",
    "        for i in range(2,N):\n",
    "            temp = last\n",
    "            last = min(last,second_last) + cost[i]\n",
    "            second_last = temp\n",
    "        \n",
    "        return min(last,second_last)\n",
    "    \n",
    "    \n",
    "    def minCostClimbingStairs(self, cost, N):\n",
    "        self.table = [-1 for i in range(N+1)]\n",
    "        second_last = cost[0]\n",
    "        last = cost[1]\n",
    "        return self.solve(cost,N,second_last,last)\n",
    "    \n",
    "# Time comp:O(N)\n",
    "# Space comp:O(1)"
   ]
  },
  {
   "cell_type": "code",
   "execution_count": 26,
   "id": "e52eea51",
   "metadata": {},
   "outputs": [
    {
     "name": "stdout",
     "output_type": "stream",
     "text": [
      "6\n"
     ]
    }
   ],
   "source": [
    "s = Solution()\n",
    "print(s.minCostClimbingStairs([1, 100, 1, 1, 1, 100, 1, 1, 100, 1],10))"
   ]
  },
  {
   "cell_type": "code",
   "execution_count": null,
   "id": "51eaa90c",
   "metadata": {},
   "outputs": [],
   "source": []
  },
  {
   "cell_type": "markdown",
   "id": "7e511979",
   "metadata": {},
   "source": [
    "### 470. Number of Coins"
   ]
  },
  {
   "cell_type": "raw",
   "id": "add4bd65",
   "metadata": {},
   "source": [
    "Given a value V and array coins[] of size M, the task is to make the change for V cents, given that you have an infinite supply of each of coins{coins1, coins2, ..., coinsm} valued coins. Find the minimum number of coins to make the change. If not possible to make change then return -1.\n",
    "\n",
    "Input: V = 30, M = 3, coins[] = {25, 10, 5}\n",
    "Output: 2\n",
    "Explanation: Use one 25 cent coin\n",
    "and one 5 cent coin"
   ]
  },
  {
   "cell_type": "raw",
   "id": "7ee6e5c6",
   "metadata": {},
   "source": [
    "https://www.youtube.com/watch?v=A3FHNCAkhxE\n",
    "\n",
    "recursive function:\n",
    "    \n",
    "If V == 0: then return 0\n",
    "\n",
    "f(V) = min(1 + f(V - coins[i]))\n",
    "where i from coins[0] to coins[n]"
   ]
  },
  {
   "cell_type": "code",
   "execution_count": 27,
   "id": "7c821571",
   "metadata": {},
   "outputs": [],
   "source": [
    "# Recursive solution\n",
    "\n",
    "class Solution:\n",
    "    def getCoins(self,coins,V):\n",
    "        if V == 0:\n",
    "            return 0\n",
    "            \n",
    "        if V < 0:\n",
    "            return -1\n",
    "            \n",
    "        mini = float('inf')\n",
    "        for i in range(len(coins)):\n",
    "            ans = self.getCoins(coins,V-coins[i])\n",
    "            if ans != -1:\n",
    "                mini = min(mini, 1+ans)\n",
    "        \n",
    "        return mini\n",
    "    \n",
    "    def minCoins(self, coins, M, V):\n",
    "        ans = self.getCoins(coins,V)\n",
    "        if ans == float('inf'):\n",
    "            return -1\n",
    "        else:\n",
    "            return ans\n",
    "        \n",
    "# Time comp:O(V^M)\n",
    "# Space comp:O(M)   (Due to recursion stack)"
   ]
  },
  {
   "cell_type": "code",
   "execution_count": 28,
   "id": "b0b1977b",
   "metadata": {},
   "outputs": [
    {
     "name": "stdout",
     "output_type": "stream",
     "text": [
      "2\n"
     ]
    }
   ],
   "source": [
    "s = Solution()\n",
    "print(s.minCoins([25, 10, 5],3,30))"
   ]
  },
  {
   "cell_type": "code",
   "execution_count": 33,
   "id": "479636f9",
   "metadata": {},
   "outputs": [],
   "source": [
    "# DP: Top Down approach\n",
    "\n",
    "class Solution:\n",
    "    def __init__(self):\n",
    "        self.table = []\n",
    "    \n",
    "    def getCoins(self,coins,V):\n",
    "        if V == 0:\n",
    "            return 0\n",
    "            \n",
    "        if V < 0:\n",
    "            return -1\n",
    "        \n",
    "        if self.table[V] != -1:\n",
    "            return self.table[V]\n",
    "        \n",
    "        mini = float('inf')\n",
    "        for i in range(len(coins)):\n",
    "            ans = self.getCoins(coins,V-coins[i])\n",
    "            if ans != -1:\n",
    "                mini = min(mini, 1+ans)\n",
    "        \n",
    "        self.table[V] = mini\n",
    "        return self.table[V]\n",
    "    \n",
    "    def minCoins(self, coins, M, V):\n",
    "        self.table = [-1 for i in range(V+1)]\n",
    "        ans = self.getCoins(coins,V)\n",
    "        if ans == float('inf'):\n",
    "            return -1\n",
    "        else:\n",
    "            return ans\n",
    "        \n",
    "# Time comp:O(V*M)\n",
    "# Space comp:O(V)   (Due to DP table)"
   ]
  },
  {
   "cell_type": "code",
   "execution_count": 34,
   "id": "3f58c929",
   "metadata": {},
   "outputs": [
    {
     "name": "stdout",
     "output_type": "stream",
     "text": [
      "2\n"
     ]
    }
   ],
   "source": [
    "s = Solution()\n",
    "print(s.minCoins([25, 10, 5],3,30))"
   ]
  },
  {
   "cell_type": "code",
   "execution_count": 35,
   "id": "b6f02641",
   "metadata": {},
   "outputs": [],
   "source": [
    "# DP: Bottom up approach\n",
    "\n",
    "class Solution:\n",
    "    def __init__(self):\n",
    "        self.table = []\n",
    "    \n",
    "    def getCoins(self,coins,V):\n",
    "        if V == 0:\n",
    "            return self.table[0]\n",
    "        \n",
    "        \n",
    "        for i in range(1,V+1):\n",
    "            for j in range(len(coins)):\n",
    "                if i-coins[j] >= 0 and self.table[i-coins[j]] != float('inf'):\n",
    "                    self.table[i] = min(self.table[i], 1+ self.table[i-coins[j]]) \n",
    "        \n",
    "        return self.table[V]\n",
    "    \n",
    "    def minCoins(self, coins, M, V):\n",
    "        self.table = [float('inf') for i in range(V+1)]\n",
    "        self.table[0] = 0\n",
    "        ans = self.getCoins(coins,V)\n",
    "        if ans == float('inf'):\n",
    "            return -1\n",
    "        else:\n",
    "            return ans\n",
    "        \n",
    "# Time comp:O(V*M)\n",
    "# Space comp:O(V)   (Due to DP table)"
   ]
  },
  {
   "cell_type": "code",
   "execution_count": 36,
   "id": "18090ce4",
   "metadata": {},
   "outputs": [
    {
     "name": "stdout",
     "output_type": "stream",
     "text": [
      "2\n"
     ]
    }
   ],
   "source": [
    "s = Solution()\n",
    "print(s.minCoins([25, 10, 5],3,30))"
   ]
  },
  {
   "cell_type": "raw",
   "id": "8e595ac0",
   "metadata": {},
   "source": [
    "Space optimize solution is not possible"
   ]
  },
  {
   "cell_type": "code",
   "execution_count": null,
   "id": "083f76fa",
   "metadata": {},
   "outputs": [],
   "source": []
  },
  {
   "cell_type": "code",
   "execution_count": null,
   "id": "48168626",
   "metadata": {},
   "outputs": [],
   "source": []
  }
 ],
 "metadata": {
  "kernelspec": {
   "display_name": "Python 3",
   "language": "python",
   "name": "python3"
  },
  "language_info": {
   "codemirror_mode": {
    "name": "ipython",
    "version": 3
   },
   "file_extension": ".py",
   "mimetype": "text/x-python",
   "name": "python",
   "nbconvert_exporter": "python",
   "pygments_lexer": "ipython3",
   "version": "3.6.5"
  }
 },
 "nbformat": 4,
 "nbformat_minor": 5
}
