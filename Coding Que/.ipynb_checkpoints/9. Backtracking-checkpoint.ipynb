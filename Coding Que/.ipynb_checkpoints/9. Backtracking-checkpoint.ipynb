{
 "cells": [
  {
   "cell_type": "markdown",
   "id": "1dd51c52",
   "metadata": {},
   "source": [
    "## Backtracking"
   ]
  },
  {
   "cell_type": "code",
   "execution_count": null,
   "id": "132b3c75",
   "metadata": {},
   "outputs": [],
   "source": []
  },
  {
   "cell_type": "markdown",
   "id": "2833714e",
   "metadata": {},
   "source": [
    "### 255. Rat in a Maze Problem"
   ]
  },
  {
   "cell_type": "raw",
   "id": "7c13e3ae",
   "metadata": {},
   "source": [
    "Consider a rat placed at (0, 0) in a square matrix of order N * N. It has to reach the destination at (N - 1, N - 1). Find all possible paths that the rat can take to reach from source to destination. The directions in which the rat can move are 'U'(up), 'D'(down), 'L' (left), 'R' (right). Value 0 at a cell in the matrix represents that it is blocked and rat cannot move to it while value 1 at a cell in the matrix represents that rat can be travel through it.\n",
    "Note: In a path, no cell can be visited more than one time. If the source cell is 0, the rat cannot move to any other cell.\n",
    "\n",
    "Example 1:\n",
    "\n",
    "Input:\n",
    "N = 4\n",
    "m[][] = {{1, 0, 0, 0},\n",
    "         {1, 1, 0, 1}, \n",
    "         {1, 1, 0, 0},\n",
    "         {0, 1, 1, 1}}\n",
    "Output:\n",
    "DDRDRR DRDDRR\n",
    "Explanation:\n",
    "The rat can reach the destination at \n",
    "(3, 3) from (0, 0) by two paths - DRDDRR \n",
    "and DDRDRR, when printed in sorted order \n",
    "we get DDRDRR DRDDRR."
   ]
  },
  {
   "cell_type": "code",
   "execution_count": null,
   "id": "a6bf01b8",
   "metadata": {},
   "outputs": [],
   "source": [
    "class Solution:\n",
    "    def __init__(self):\n",
    "        self.output = []\n",
    "        \n",
    "    def isPossible(self,grid,n,n_row,n_col):\n",
    "        if n_row >= n or n_col >= n or n_row < 0 or n_col < 0 or grid[n_row][n_col] == 0:\n",
    "            return False\n",
    "            \n",
    "        return True\n",
    "        \n",
    "    def solve(self,grid,n,row,col,ans):\n",
    "        if row == n-1 and col == n-1:\n",
    "            self.output.append(\"\".join(ans))\n",
    "            return\n",
    "        \n",
    "        # check down\n",
    "        if self.isPossible(grid,n,row+1,col):\n",
    "            ans.append('D')\n",
    "            grid[row][col] = 0\n",
    "            self.solve(grid,n,row+1,col,ans)\n",
    "            grid[row][col] = 1\n",
    "            ans.pop()\n",
    "            \n",
    "        # check up\n",
    "        if self.isPossible(grid,n,row-1,col):\n",
    "            ans.append('U')\n",
    "            grid[row][col] = 0\n",
    "            self.solve(grid,n,row-1,col,ans)\n",
    "            grid[row][col] = 1\n",
    "            ans.pop()\n",
    "            \n",
    "        # check right\n",
    "        if self.isPossible(grid,n,row,col+1):\n",
    "            ans.append('R')\n",
    "            grid[row][col] = 0\n",
    "            self.solve(grid,n,row,col+1,ans)\n",
    "            grid[row][col] = 1\n",
    "            ans.pop()\n",
    "            \n",
    "        # check left\n",
    "        if self.isPossible(grid,n,row,col-1):\n",
    "            ans.append('L')\n",
    "            grid[row][col] = 0\n",
    "            self.solve(grid,n,row,col-1,ans)\n",
    "            grid[row][col] = 1\n",
    "            ans.pop()\n",
    "        \n",
    "    def findPath(self, m, n):\n",
    "        row = 0\n",
    "        col = 0\n",
    "        ans = []\n",
    "        \n",
    "        # add this to handle edge case where first element itself is 0\n",
    "        if m[0][0] == 0:\n",
    "            return []\n",
    "        \n",
    "        self.solve(m,n,row,col,ans)\n",
    "        return self.output\n",
    "    \n",
    "# Time comp:O(3^(n*n))    because from each cell, we call move to three direction (as one direction will be reached one)\n",
    "# Space comp:O(n*n)       (recursion stack can go upto that length of n*n)      "
   ]
  },
  {
   "cell_type": "code",
   "execution_count": null,
   "id": "09d59181",
   "metadata": {},
   "outputs": [],
   "source": []
  },
  {
   "cell_type": "markdown",
   "id": "3e582600",
   "metadata": {},
   "source": [
    "### 256. Printing all solutions in N-Queen Problem"
   ]
  },
  {
   "cell_type": "raw",
   "id": "3410c44a",
   "metadata": {},
   "source": [
    "Input:\n",
    "4\n",
    "Output:\n",
    "[2 4 1 3 ] [3 1 4 2 ]\n",
    "Explaination:\n",
    "These are the 2 possible solutions."
   ]
  },
  {
   "cell_type": "code",
   "execution_count": 18,
   "id": "bcbeb31c",
   "metadata": {},
   "outputs": [],
   "source": [
    "class Solution:\n",
    "    def __init__(self):\n",
    "        self.board = []\n",
    "        self.ans = []\n",
    "    \n",
    "    def isSafe(self,col,row,n):\n",
    "        \n",
    "        # Check whether is there any queen in same row?\n",
    "        for i in range(col):\n",
    "            if self.board[row][i] == 1:\n",
    "                return False\n",
    "        \n",
    "        # Check in left upper diagonal\n",
    "        i = row\n",
    "        j = col\n",
    "        while i >= 0 and j >= 0:\n",
    "            if self.board[i][j] == 1:\n",
    "                return False\n",
    "            \n",
    "            i -= 1\n",
    "            j -= 1\n",
    "        \n",
    "        # Check in left lower diagonal\n",
    "        i = row\n",
    "        j = col\n",
    "        while i < n and j >= 0:\n",
    "            if self.board[i][j] == 1:\n",
    "                return False\n",
    "            \n",
    "            i += 1\n",
    "            j -= 1\n",
    "        \n",
    "        # If its safe\n",
    "        return True\n",
    "    \n",
    "    \n",
    "    def solve(self,col,n):\n",
    "        \n",
    "        # If we reached to last column, print solution and return True\n",
    "        if col == n:\n",
    "            temp = []\n",
    "            for i in range(n):\n",
    "                for j in range(n):\n",
    "                    if self.board[j][i] == 1:\n",
    "                        temp.append(j+1)\n",
    "            self.ans.append(list(temp))\n",
    "            return True\n",
    "        \n",
    "        result = False\n",
    "        for i in range(n):\n",
    "            \n",
    "            # if its safe cell to place queen then\n",
    "            if self.isSafe(col,i,n):\n",
    "                # place a queen\n",
    "                self.board[i][col] = 1\n",
    "                \n",
    "                # recursive call with next column\n",
    "                result = self.solve(col + 1, n)\n",
    "                \n",
    "                # remove queen as part of backtracking\n",
    "                self.board[i][col] = 0\n",
    "        \n",
    "        return result\n",
    "        \n",
    "    \n",
    "    def nQueen(self, n):\n",
    "        self.board = [[0 for i in range(n)] for j in range(n)]\n",
    "        col = 0\n",
    "        self.solve(col,n)\n",
    "        return self.ans\n",
    "    \n",
    "# Time comp:O(n!)\n",
    "# Space comp:O(n^2)        # recursion stack:O(N)"
   ]
  },
  {
   "cell_type": "code",
   "execution_count": 19,
   "id": "770df71a",
   "metadata": {},
   "outputs": [
    {
     "name": "stdout",
     "output_type": "stream",
     "text": [
      "[[2, 4, 1, 3], [3, 1, 4, 2]]\n"
     ]
    }
   ],
   "source": [
    "s = Solution()\n",
    "print(s.nQueen(4))"
   ]
  },
  {
   "cell_type": "code",
   "execution_count": 16,
   "id": "1713976b",
   "metadata": {},
   "outputs": [],
   "source": [
    "# link: https://www.youtube.com/watch?v=i05Ju7AftcM&list=PLgUwDviBIf0rGlzIn_7rsaR2FQ5e6ZOL9&index=14\n",
    "\n",
    "# Another way to check whether particular cell is safe or not\n",
    "# Maintain hash_map and keep marking whenever we push queen in that cell\n",
    "\n",
    "class Solution:\n",
    "    def __init__(self):\n",
    "        self.board = []\n",
    "        self.ans = []\n",
    "        self.left_row = []\n",
    "        self.left_upper = []\n",
    "        self.left_lower = []\n",
    "    \n",
    "    def isSafe(self,col,row,n):\n",
    "        if self.left_row[row] == 1 or self.left_upper[(n-1)+(col-row)] == 1 or self.left_lower[col+row] == 1:\n",
    "            return False\n",
    "        return True\n",
    "    \n",
    "    def solve(self,col,n):\n",
    "        # If we reached to last column, print solution and return True\n",
    "        if col == n:\n",
    "            temp = []\n",
    "            for i in range(n):\n",
    "                for j in range(n):\n",
    "                    if self.board[j][i] == 1:\n",
    "                        temp.append(j+1)\n",
    "            self.ans.append(list(temp))\n",
    "            return True\n",
    "        \n",
    "        result = False\n",
    "        for i in range(n):\n",
    "            \n",
    "            # if its safe cell to place queen then\n",
    "            if self.isSafe(col,i,n):\n",
    "                # place a queen\n",
    "                self.board[i][col] = 1\n",
    "                self.left_row[i] = 1\n",
    "                self.left_upper[(n-1)+(col-i)] = 1\n",
    "                self.left_lower[col+i] = 1\n",
    "                \n",
    "                # recursive call with next column\n",
    "                result = self.solve(col + 1, n)\n",
    "                \n",
    "                # remove queen as part of backtracking\n",
    "                self.board[i][col] = 0\n",
    "                self.left_row[i] = 0\n",
    "                self.left_upper[(n-1)+(col-i)] = 0\n",
    "                self.left_lower[col+i] = 0\n",
    "        \n",
    "        return result\n",
    "        \n",
    "    \n",
    "    def nQueen(self, n):\n",
    "        self.board = [[0 for i in range(n)] for j in range(n)]\n",
    "        self.left_row = [0 for i in range(n)]\n",
    "        self.left_upper = [0 for i in range((2*n) -1)]\n",
    "        self.left_lower = [0 for i in range((2*n) -1)]\n",
    "        col = 0\n",
    "        self.solve(col,n)\n",
    "        return self.ans\n",
    "    \n",
    "# Time comp:O(n!)\n",
    "# Space comp:O(n^2)        # recursion stack:O(N)"
   ]
  },
  {
   "cell_type": "code",
   "execution_count": 17,
   "id": "b5d28d6e",
   "metadata": {},
   "outputs": [
    {
     "name": "stdout",
     "output_type": "stream",
     "text": [
      "[[2, 4, 1, 3], [3, 1, 4, 2]]\n"
     ]
    }
   ],
   "source": [
    "s = Solution()\n",
    "print(s.nQueen(4))"
   ]
  },
  {
   "cell_type": "code",
   "execution_count": null,
   "id": "605d258b",
   "metadata": {},
   "outputs": [],
   "source": []
  },
  {
   "cell_type": "markdown",
   "id": "01e41f46",
   "metadata": {},
   "source": [
    "### 259. sudoku solver"
   ]
  },
  {
   "cell_type": "raw",
   "id": "e5823a61",
   "metadata": {},
   "source": [
    "Input:\n",
    "grid[][] = \n",
    "[[3 0 6 5 0 8 4 0 0],\n",
    "[5 2 0 0 0 0 0 0 0],\n",
    "[0 8 7 0 0 0 0 3 1 ],\n",
    "[0 0 3 0 1 0 0 8 0],\n",
    "[9 0 0 8 6 3 0 0 5],\n",
    "[0 5 0 0 9 0 6 0 0],\n",
    "[1 3 0 0 0 0 2 5 0],\n",
    "[0 0 0 0 0 0 0 7 4],\n",
    "[0 0 5 2 0 6 3 0 0]]\n",
    "Output:\n",
    "3 1 6 5 7 8 4 9 2\n",
    "5 2 9 1 3 4 7 6 8\n",
    "4 8 7 6 2 9 5 3 1\n",
    "2 6 3 4 1 5 9 8 7\n",
    "9 7 4 8 6 3 1 2 5\n",
    "8 5 1 7 9 2 6 4 3\n",
    "1 3 8 9 4 7 2 5 6\n",
    "6 9 2 3 5 1 8 7 4\n",
    "7 4 5 2 8 6 3 1 9"
   ]
  },
  {
   "cell_type": "code",
   "execution_count": 20,
   "id": "48771f7f",
   "metadata": {},
   "outputs": [],
   "source": [
    "# \n",
    "\n",
    "class Solution:\n",
    "    def __init__(self):\n",
    "        self.grid = None\n",
    "        \n",
    "    def isPossible(self,row,col,k):\n",
    "        for i in range(9):\n",
    "            if self.grid[row][i] == k:\n",
    "                return False\n",
    "            \n",
    "            if self.grid[i][col] == k:\n",
    "                return False\n",
    "        \n",
    "        row = row - (row%3)\n",
    "        col = col - (col%3)\n",
    "        \n",
    "        for i in range(3):\n",
    "            for j in range(3):\n",
    "                if self.grid[i+row][j+col] == k:\n",
    "                    return False\n",
    "        return True\n",
    "\n",
    "    def solve(self):\n",
    "        for i in range(len(self.grid)):\n",
    "            for j in range(len(self.grid[i])):\n",
    "                if self.grid[i][j] != 0:\n",
    "                    continue\n",
    "                \n",
    "                for k in range(1,10):\n",
    "                    if self.isPossible(i,j,k):\n",
    "                        self.grid[i][j] = k\n",
    "                        x = self.solve()\n",
    "                        if x == True:\n",
    "                            return True\n",
    "                        else:\n",
    "                            self.grid[i][j] = 0\n",
    "                return False\n",
    "        return True\n",
    "    \n",
    "    def SolveSudoku(self,grid):\n",
    "        self.grid = grid\n",
    "        return self.solve()\n",
    "    \n",
    "    def printGrid(self,arr):\n",
    "        for i in range(len(arr)):\n",
    "            for j in range(len(arr[i])):\n",
    "                print(arr[i][j], end= \" \")\n",
    "                \n",
    "# Time comp:O(9^(n*n))\n",
    "# Space comp:O(n*n)\n",
    "# where n is grid's row/column size"
   ]
  },
  {
   "cell_type": "code",
   "execution_count": null,
   "id": "3988418c",
   "metadata": {},
   "outputs": [],
   "source": []
  },
  {
   "cell_type": "markdown",
   "id": "e31be104",
   "metadata": {},
   "source": [
    "### 260. M-Coloring Problem"
   ]
  },
  {
   "cell_type": "raw",
   "id": "f9e7df76",
   "metadata": {},
   "source": [
    "Given an undirected graph and an integer M. The task is to determine if the graph can be colored with at most M colors such that no two adjacent vertices of the graph are colored with the same color. Here coloring of a graph means the assignment of colors to all vertices. Print 1 if it is possible to colour vertices and 0 otherwise.\n",
    "\n",
    "Example 1:\n",
    "\n",
    "Input:\n",
    "N = 4\n",
    "M = 3\n",
    "E = 5\n",
    "Edges[] = {(0,1),(1,2),(2,3),(3,0),(0,2)}\n",
    "Output: 1\n",
    "Explanation: It is possible to colour the\n",
    "given graph using 3 colours."
   ]
  },
  {
   "cell_type": "code",
   "execution_count": 21,
   "id": "bbe3a0c5",
   "metadata": {},
   "outputs": [],
   "source": [
    "# https://www.youtube.com/watch?v=wuVwUK25Rfc&list=PLgUwDviBIf0rGlzIn_7rsaR2FQ5e6ZOL9&index=16\n",
    "\n",
    "\n",
    "# Check whether color k is possible on curr node or not?\n",
    "def isPossible(graph,k,color,curr):\n",
    "    temp = graph[curr]\n",
    "    for i in range(len(temp)):\n",
    "        if temp[i] == 0:\n",
    "            continue\n",
    "        \n",
    "        if color[i] == k:\n",
    "            return False\n",
    "    return True\n",
    "\n",
    "\n",
    "def solve(graph,k,V,color,curr):\n",
    "    if curr == V:\n",
    "        return True\n",
    "    \n",
    "    # Will try with every possible values of k in backtracking\n",
    "    for i in range(k):\n",
    "        \n",
    "        # If curr node is possible to color with ith color\n",
    "        if isPossible(graph,i,color,curr):    \n",
    "            color[curr] = i\n",
    "            x = solve(graph,k,V,color,curr + 1)\n",
    "            if x == True:\n",
    "                return True\n",
    "            color[curr] = -1\n",
    "    \n",
    "    return False\n",
    "\n",
    "def graphColoring(graph, k, V):\n",
    "    color = [-1 for i in range(V)]\n",
    "    curr = 0\n",
    "    return solve(graph,k,V,color,curr)\n",
    "\n",
    "# Graph given in this format: [[0, 1, 1, 1], [1, 0, 1, 0], [1, 1, 0, 1], [1, 0, 1, 0]]\n",
    "# Where each subarray represent each node where 1 is indicating edge between nodes\n",
    "\n",
    "\n",
    "\n",
    "# Time comp:O(K^N)   K = number of colors, N = number of nodes\n",
    "# Space comp:O(V)    # To store color of each node"
   ]
  },
  {
   "cell_type": "code",
   "execution_count": 22,
   "id": "0f981cca",
   "metadata": {},
   "outputs": [
    {
     "data": {
      "text/plain": [
       "True"
      ]
     },
     "execution_count": 22,
     "metadata": {},
     "output_type": "execute_result"
    }
   ],
   "source": [
    "graph = [[0, 1, 1, 1], [1, 0, 1, 0], [1, 1, 0, 1], [1, 0, 1, 0]]\n",
    "k = 3\n",
    "V = 4\n",
    "graphColoring(graph, k, V)"
   ]
  },
  {
   "cell_type": "code",
   "execution_count": null,
   "id": "8b68671d",
   "metadata": {},
   "outputs": [],
   "source": []
  },
  {
   "cell_type": "markdown",
   "id": "f1c42cca",
   "metadata": {},
   "source": [
    "### 261. print all possible palindromic partitions"
   ]
  },
  {
   "cell_type": "raw",
   "id": "67d016f8",
   "metadata": {},
   "source": [
    "Given a String S, Find all possible Palindromic partitions of the given String.\n",
    " \n",
    "\n",
    "Example 1:\n",
    "\n",
    "Input:\n",
    "S = \"geeks\"\n",
    "Output:\n",
    "g e e k s\n",
    "g ee k s\n",
    "Explanation:\n",
    "All possible palindromic partitions\n",
    "are printed."
   ]
  },
  {
   "cell_type": "code",
   "execution_count": 34,
   "id": "0733270b",
   "metadata": {},
   "outputs": [],
   "source": [
    "# https://takeuforward.org/data-structure/palindrome-partitioning/\n",
    "\n",
    "class Solution:\n",
    "    def __init__(self):\n",
    "        self.output = []\n",
    "        \n",
    "    def isPali(self,S,i,j):\n",
    "        while i<=j:\n",
    "            if S[i] != S[j]:\n",
    "                return False\n",
    "            i += 1\n",
    "            j -= 1\n",
    "        return True\n",
    "        \n",
    "    def solve(self,S,index,ans):\n",
    "        if index == len(S):\n",
    "            self.output.append(list(ans))\n",
    "            return\n",
    "        \n",
    "        for i in range(index,len(S)):\n",
    "            if self.isPali(S,index,i):\n",
    "                ans.append(S[index:i+1])\n",
    "                self.solve(S,i+1,ans)\n",
    "                ans.pop()\n",
    "        \n",
    "    def allPalindromicPerms(self, S):\n",
    "        ans = []\n",
    "        self.solve(S,0,ans)\n",
    "        return self.output\n",
    "    \n",
    "# Time comp:O(N*(2^N))\n",
    "# Space comp:O(N^2)"
   ]
  },
  {
   "cell_type": "code",
   "execution_count": 35,
   "id": "d9926fa2",
   "metadata": {},
   "outputs": [
    {
     "name": "stdout",
     "output_type": "stream",
     "text": [
      "[['g', 'e', 'e', 'k', 's'], ['g', 'ee', 'k', 's']]\n"
     ]
    }
   ],
   "source": [
    "s = Solution()\n",
    "print(s.allPalindromicPerms(\"geeks\"))"
   ]
  },
  {
   "cell_type": "code",
   "execution_count": null,
   "id": "9ff15ff4",
   "metadata": {},
   "outputs": [],
   "source": []
  },
  {
   "cell_type": "markdown",
   "id": "4569a1ba",
   "metadata": {},
   "source": [
    "### 262. Partition Equal Subset Sum"
   ]
  },
  {
   "cell_type": "raw",
   "id": "87807f8f",
   "metadata": {},
   "source": [
    "Given an array arr[] of size N, check if it can be partitioned into two parts such that the sum of elements in both parts is the same.\n",
    "\n",
    "Example 1:\n",
    "\n",
    "Input: N = 4\n",
    "arr = {1, 5, 11, 5}\n",
    "Output: YES\n",
    "Explanation: \n",
    "The two parts are {1, 5, 5} and {11}.\n",
    "Example 2:\n",
    "\n",
    "Input: N = 3\n",
    "arr = {1, 3, 5}\n",
    "Output: NO\n",
    "Explanation: This array can never be \n",
    "partitioned into two such parts."
   ]
  },
  {
   "cell_type": "code",
   "execution_count": 23,
   "id": "79fff8f2",
   "metadata": {},
   "outputs": [],
   "source": [
    "\"\"\"\n",
    "It is simple back tracking solutoin.\n",
    "Where we pick and not pick each element in the subset which we create\n",
    "If at any point, subset sum and remaining sum become equal then return True and stop further process\n",
    "\"\"\"\n",
    "\n",
    "class Solution:\n",
    "    def solve(self,arr,N,total,curr_sum,i):\n",
    "        if curr_sum == total:\n",
    "            return True\n",
    "        if curr_sum > total or i >= N:\n",
    "            return False\n",
    "        \n",
    "        curr_sum += arr[i]\n",
    "        total -= arr[i]\n",
    "        \n",
    "        x = self.solve(arr,N,total,curr_sum,i+1)\n",
    "        if x == True:\n",
    "            return True\n",
    "            \n",
    "        curr_sum -= arr[i]\n",
    "        total += arr[i]\n",
    "        return self.solve(arr,N,total,curr_sum,i+1)\n",
    "        \n",
    "    def equalPartition(self, N, arr):\n",
    "        total = sum(arr)\n",
    "        curr_sum = 0\n",
    "        i = 0\n",
    "        \n",
    "        if self.solve(arr,N,total,curr_sum,i):\n",
    "            return 1\n",
    "        return 0\n",
    "    \n",
    "# Time comp:O(2^N)\n",
    "# Space comp:O(N)    (Due to recursion stack depth) "
   ]
  },
  {
   "cell_type": "code",
   "execution_count": null,
   "id": "a6f69f25",
   "metadata": {},
   "outputs": [],
   "source": []
  },
  {
   "cell_type": "markdown",
   "id": "c63b6bf5",
   "metadata": {},
   "source": [
    "### 273. Find the K-th Permutation Sequence of first N natural numbers"
   ]
  },
  {
   "cell_type": "raw",
   "id": "ba8af733",
   "metadata": {},
   "source": [
    "Given two integers N and K. Find the kth permutation sequence of first N natural numbers.\n",
    "\n",
    "Input: 3 5\n",
    "Output: 312\n",
    "Explanation: \n",
    "Permutations of first 3 natural numbers:\n",
    "123,132,213,231,312,321.\n",
    "So the 5th permutation is 312. "
   ]
  },
  {
   "cell_type": "raw",
   "id": "6f456a73",
   "metadata": {},
   "source": [
    "Brute force method is to find all the permutation and sort them and return kth one\n",
    "It will take (N!*N + N! log N!) time"
   ]
  },
  {
   "cell_type": "code",
   "execution_count": 37,
   "id": "684dfcf4",
   "metadata": {},
   "outputs": [],
   "source": [
    "# must watch: https://www.youtube.com/watch?v=wT7gcXLYoao&list=PLgUwDviBIf0rGlzIn_7rsaR2FQ5e6ZOL9&index=19\n",
    "\n",
    "class Solution:\n",
    "    def solve(self,n,number,k):\n",
    "        ans = \"\"\n",
    "        fact = 1\n",
    "        for i in range(1,n):\n",
    "            fact = fact * i\n",
    "        \n",
    "        while True:\n",
    "            ans = ans + str(number[int(k//fact)])\n",
    "            del number[int(k//fact)]\n",
    "            \n",
    "            if len(number) == 0:\n",
    "                break\n",
    "            \n",
    "            k = k % fact\n",
    "            fact = fact // len(number)\n",
    "        \n",
    "        return ans\n",
    "    \n",
    "    def kthPermutation(self, n, k):\n",
    "        number = []\n",
    "        for i in range(1,n+1):\n",
    "            number.append(i)\n",
    "        \n",
    "        ans = self.solve(n,number,k-1)\n",
    "        return ans\n",
    "    \n",
    "# Time comp:O(N)\n",
    "# Space comp:O(N)"
   ]
  },
  {
   "cell_type": "code",
   "execution_count": 38,
   "id": "1e665ed1",
   "metadata": {},
   "outputs": [
    {
     "name": "stdout",
     "output_type": "stream",
     "text": [
      "312\n"
     ]
    }
   ],
   "source": [
    "s= Solution()\n",
    "print(s.kthPermutation(3,5))"
   ]
  },
  {
   "cell_type": "code",
   "execution_count": null,
   "id": "e06340dd",
   "metadata": {},
   "outputs": [],
   "source": []
  }
 ],
 "metadata": {
  "kernelspec": {
   "display_name": "Python 3",
   "language": "python",
   "name": "python3"
  },
  "language_info": {
   "codemirror_mode": {
    "name": "ipython",
    "version": 3
   },
   "file_extension": ".py",
   "mimetype": "text/x-python",
   "name": "python",
   "nbconvert_exporter": "python",
   "pygments_lexer": "ipython3",
   "version": "3.6.5"
  }
 },
 "nbformat": 4,
 "nbformat_minor": 5
}
