{
 "cells": [
  {
   "cell_type": "markdown",
   "id": "25c62e51",
   "metadata": {},
   "source": [
    "## String"
   ]
  },
  {
   "cell_type": "markdown",
   "id": "b0c11539",
   "metadata": {},
   "source": [
    "### 48. Reverse a String"
   ]
  },
  {
   "cell_type": "raw",
   "id": "5c2f5aef",
   "metadata": {},
   "source": [
    "Done in reverse the array"
   ]
  },
  {
   "cell_type": "markdown",
   "id": "08025381",
   "metadata": {},
   "source": [
    "### 49. Check Palindrome String"
   ]
  },
  {
   "cell_type": "raw",
   "id": "a34ea58d",
   "metadata": {},
   "source": [
    "Given a string S, check if it is palindrome or not."
   ]
  },
  {
   "cell_type": "code",
   "execution_count": 5,
   "id": "db2e0222",
   "metadata": {},
   "outputs": [],
   "source": [
    "def isPalindrome(S):\n",
    "    n = len(S)\n",
    "    for i in range(n//2):\n",
    "        if S[i] != S[n-1-i]:\n",
    "            return 0\n",
    "    return 1"
   ]
  },
  {
   "cell_type": "code",
   "execution_count": 7,
   "id": "9843c77e",
   "metadata": {},
   "outputs": [
    {
     "data": {
      "text/plain": [
       "1"
      ]
     },
     "execution_count": 7,
     "metadata": {},
     "output_type": "execute_result"
    }
   ],
   "source": [
    "S = 'abcba'\n",
    "#S = 'abc'\n",
    "isPalindrome(S)"
   ]
  },
  {
   "cell_type": "code",
   "execution_count": null,
   "id": "ad35c1b0",
   "metadata": {},
   "outputs": [],
   "source": []
  },
  {
   "cell_type": "markdown",
   "id": "e759e8d6",
   "metadata": {},
   "source": [
    "### 50. Print all the duplicates in the input string"
   ]
  },
  {
   "cell_type": "code",
   "execution_count": 15,
   "id": "92e68705",
   "metadata": {},
   "outputs": [],
   "source": [
    "def printDup(S):\n",
    "    unordered_map = {}\n",
    "    for i in S:\n",
    "        if i == ' ':\n",
    "            continue\n",
    "\n",
    "        if i in unordered_map:\n",
    "            unordered_map[i] += 1\n",
    "        else:\n",
    "            unordered_map[i] = 1\n",
    "            \n",
    "    for i in unordered_map:\n",
    "        if unordered_map[i] > 1:\n",
    "            print(i,\"->\",unordered_map[i])"
   ]
  },
  {
   "cell_type": "code",
   "execution_count": 16,
   "id": "46c1cc0d",
   "metadata": {},
   "outputs": [
    {
     "name": "stdout",
     "output_type": "stream",
     "text": [
      "t -> 3\n",
      "s -> 2\n"
     ]
    }
   ],
   "source": [
    "S = \"test string\"\n",
    "printDup(S)"
   ]
  },
  {
   "cell_type": "code",
   "execution_count": null,
   "id": "a309fc06",
   "metadata": {},
   "outputs": [],
   "source": []
  },
  {
   "cell_type": "markdown",
   "id": "f21d189a",
   "metadata": {},
   "source": [
    "### 52. Check if strings are rotations of each other or not"
   ]
  },
  {
   "cell_type": "raw",
   "id": "bd4a45c0",
   "metadata": {},
   "source": [
    "Given two strings s1 and s2. The task is to check if s2 is a rotated version of the string s1. The characters in the strings are in lowercase.\n",
    "\n",
    "Input:\n",
    "geeksforgeeks\n",
    "forgeeksgeeks\n",
    "Output: \n",
    "1\n",
    "Explanation: s1 is geeksforgeeks, s2 is\n",
    "forgeeksgeeks. Clearly, s2 is a rotated\n",
    "version of s1 as s2 can be obtained by\n",
    "left-rotating s1 by 5 units."
   ]
  },
  {
   "cell_type": "code",
   "execution_count": 29,
   "id": "b2f89e24",
   "metadata": {},
   "outputs": [],
   "source": [
    "# To check this, append s1 with s1\n",
    "# After that check whether s2 is present in new string or not?\n",
    "# if s2 is there it means both the string are in rotation.\n",
    "\n",
    "def areRotations(s1,s2):\n",
    "    if len(s1) != len(s2):\n",
    "        return 0\n",
    "    \n",
    "    temp = s1+s1\n",
    "    \n",
    "    if temp.count(s2) > 0:\n",
    "        return 1\n",
    "    return 0\n",
    "\n",
    "# Time comp: O(N)\n",
    "# Space Comp: O(N)"
   ]
  },
  {
   "cell_type": "code",
   "execution_count": 31,
   "id": "45444272",
   "metadata": {},
   "outputs": [
    {
     "data": {
      "text/plain": [
       "0"
      ]
     },
     "execution_count": 31,
     "metadata": {},
     "output_type": "execute_result"
    }
   ],
   "source": [
    "s1 = \"geeksforgeeks\"\n",
    "s2 = \"forgeeksgeeks\"\n",
    "s2 = \"forgeeksgeeka\"\n",
    "areRotations(s1,s2)"
   ]
  },
  {
   "cell_type": "code",
   "execution_count": 32,
   "id": "7fad627e",
   "metadata": {},
   "outputs": [],
   "source": [
    "# Another method is to do using queue\n",
    "\n",
    "def areRotations2(s1,s2):\n",
    "    if len(s1) != len(s2):\n",
    "        return 0\n",
    "    \n",
    "    q1 = []\n",
    "    q2 = []\n",
    "    \n",
    "    for i in s1:\n",
    "        q1.append(i)\n",
    "    for i in s2:\n",
    "        q2.append(i)\n",
    "        \n",
    "    for i in range(len(q2)):\n",
    "        x = q2.pop(0)\n",
    "        q2.append(x)\n",
    "        if q1 == q2:\n",
    "            return 1\n",
    "    return 0\n",
    "\n",
    "# Time comp: O(N^2)\n",
    "# Space comp: O(N)  (For queue)"
   ]
  },
  {
   "cell_type": "code",
   "execution_count": 34,
   "id": "6fd64f18",
   "metadata": {},
   "outputs": [
    {
     "data": {
      "text/plain": [
       "1"
      ]
     },
     "execution_count": 34,
     "metadata": {},
     "output_type": "execute_result"
    }
   ],
   "source": [
    "s1 = \"geeksforgeeks\"\n",
    "s2 = \"forgeeksgeeks\"\n",
    "s2 = \"forgeeksgeeka\"\n",
    "areRotations2(s1,s2)"
   ]
  },
  {
   "cell_type": "code",
   "execution_count": null,
   "id": "d29e8472",
   "metadata": {},
   "outputs": [],
   "source": []
  },
  {
   "cell_type": "markdown",
   "id": "519dde4f",
   "metadata": {},
   "source": [
    "### 53. Check if a string is a valid shuffle of two distinct strings"
   ]
  },
  {
   "cell_type": "raw",
   "id": "aebfa726",
   "metadata": {},
   "source": [
    "1XY2 is a valid shuffle of XY and 12\n",
    "Y1X2 is not a valid shuffle of XY and 12\n",
    "Y21XX is not a valid shuffle of XY and 12"
   ]
  },
  {
   "cell_type": "code",
   "execution_count": 6,
   "id": "0266188b",
   "metadata": {},
   "outputs": [],
   "source": [
    "def checkShuffle(a,b,c):\n",
    "    l1 = len(a)\n",
    "    l2 = len(b)\n",
    "    l3 = len(c)\n",
    "    \n",
    "    if l1+l2 != l3:\n",
    "        return 0\n",
    "    \n",
    "    i=0\n",
    "    j=0\n",
    "    k=0\n",
    "    \n",
    "    while k<l3:\n",
    "        if i < l1 and a[i] == c[k]:\n",
    "            i+=1\n",
    "        elif j < l2 and b[j] == c[k]:\n",
    "            j+=1\n",
    "        else:\n",
    "            break\n",
    "        k+=1\n",
    "    if i<l1 or j<l2 or k<l3:\n",
    "        return 0\n",
    "    return 1\n",
    "\n",
    "# Time Comp: O(N)\n",
    "# Space comp: O(1)"
   ]
  },
  {
   "cell_type": "code",
   "execution_count": 7,
   "id": "a76c3883",
   "metadata": {},
   "outputs": [
    {
     "name": "stdout",
     "output_type": "stream",
     "text": [
      "1\n",
      "0\n",
      "0\n"
     ]
    }
   ],
   "source": [
    "print(checkShuffle('XY','12','1XY2'))\n",
    "print(checkShuffle('XY','12','Y1X2'))\n",
    "print(checkShuffle('XY','12','Y21XX'))"
   ]
  },
  {
   "cell_type": "code",
   "execution_count": null,
   "id": "d2b2c0e8",
   "metadata": {},
   "outputs": [],
   "source": []
  },
  {
   "cell_type": "markdown",
   "id": "09df0e0c",
   "metadata": {},
   "source": [
    "### 54. Count and Say "
   ]
  },
  {
   "cell_type": "raw",
   "id": "e3b26c6c",
   "metadata": {},
   "source": [
    "Find the n’th term in Look-and-say (Or Count and Say) Sequence. The look-and-say sequence is the sequence of below integers: \n",
    "1, 11, 21, 1211, 111221, 312211, 13112221, 1113213211,...\n"
   ]
  },
  {
   "cell_type": "code",
   "execution_count": 1,
   "id": "bbf54931",
   "metadata": {},
   "outputs": [],
   "source": [
    "def countAndSay(n):\n",
    "    if n == 1:\n",
    "        return '1'\n",
    "    if n == 2:\n",
    "        return '11'\n",
    "    \n",
    "    s = '11'\n",
    "    for i in range(3,n+1):\n",
    "        s = s+'$'\n",
    "        l = len(s)\n",
    "        count = 1\n",
    "        temp = ''\n",
    "        \n",
    "        for j in range(1,l):\n",
    "            if s[j] == s[j-1]:\n",
    "                count += 1\n",
    "            else:\n",
    "                temp = temp + str(count)\n",
    "                temp = temp + s[j-1]\n",
    "                count = 1\n",
    "        s = temp\n",
    "    return s\n",
    "\n",
    "# Time Comp: O(N)\n",
    "# Space Comp: O(1)"
   ]
  },
  {
   "cell_type": "code",
   "execution_count": 4,
   "id": "ff096075",
   "metadata": {},
   "outputs": [
    {
     "data": {
      "text/plain": [
       "'111221'"
      ]
     },
     "execution_count": 4,
     "metadata": {},
     "output_type": "execute_result"
    }
   ],
   "source": [
    "countAndSay(5)"
   ]
  },
  {
   "cell_type": "code",
   "execution_count": 5,
   "id": "af297ae2",
   "metadata": {},
   "outputs": [],
   "source": [
    "# Same logic by using recursive\n",
    "\n",
    "def countAndSay2(n):\n",
    "    if n == 1:\n",
    "        return '1'\n",
    "    elif n == 2:\n",
    "        return '11'\n",
    "    else:\n",
    "        s = countAndSay(n-1)\n",
    "        s = s+'$'\n",
    "        l = len(s)\n",
    "        count = 1\n",
    "        temp = ''\n",
    "        for j in range(1,l):\n",
    "            if s[j] == s[j-1]:\n",
    "                count += 1\n",
    "            else:\n",
    "                temp = temp + str(count)\n",
    "                temp = temp + s[j-1]\n",
    "                count = 1\n",
    "        s = temp\n",
    "    return s"
   ]
  },
  {
   "cell_type": "code",
   "execution_count": 6,
   "id": "3cbaf07b",
   "metadata": {},
   "outputs": [
    {
     "data": {
      "text/plain": [
       "'111221'"
      ]
     },
     "execution_count": 6,
     "metadata": {},
     "output_type": "execute_result"
    }
   ],
   "source": [
    "countAndSay2(5)"
   ]
  },
  {
   "cell_type": "code",
   "execution_count": null,
   "id": "495f412a",
   "metadata": {},
   "outputs": [],
   "source": []
  },
  {
   "cell_type": "markdown",
   "id": "34d34381",
   "metadata": {},
   "source": [
    "### 55. Longest Palindrome in a String"
   ]
  },
  {
   "cell_type": "raw",
   "id": "e70b9665",
   "metadata": {},
   "source": [
    "Given a string S, find the longest palindromic substring in S. Substring of string S: S[ i . . . . j ] where 0 ≤ i ≤ j < len(S).\n",
    "Input:\n",
    "S = \"aaaabbaa\"\n",
    "Output: aabbaa\n",
    "Explanation: The longest Palindromic\n",
    "substring is \"aabbaa\"."
   ]
  },
  {
   "cell_type": "code",
   "execution_count": 24,
   "id": "e9adc5a4",
   "metadata": {},
   "outputs": [],
   "source": [
    "# Brute force approach\n",
    "# Check all the sub string and find longest palindrome\n",
    "\n",
    "def longestPalin(S):\n",
    "    n = len(S)\n",
    "    ans = ''\n",
    "    if n>0:\n",
    "        ans = S[0]\n",
    "    \n",
    "    def checkPali(s):\n",
    "        l = len(s)\n",
    "        for i in range(l//2):\n",
    "            if s[i] != s[l-i-1]:\n",
    "                return 0\n",
    "        return 1\n",
    "    \n",
    "    for i in range(n):\n",
    "        for j in range(i+1,n):\n",
    "            if checkPali(S[i:j+1]):\n",
    "                if j-i+1 > len(ans):\n",
    "                    ans = S[i:j+1]\n",
    "    return ans\n",
    "\n",
    "# Time Comp: O(N^3)\n",
    "# Space Comp: O(1)"
   ]
  },
  {
   "cell_type": "code",
   "execution_count": 25,
   "id": "5a2afcc2",
   "metadata": {},
   "outputs": [
    {
     "data": {
      "text/plain": [
       "'xyzyx'"
      ]
     },
     "execution_count": 25,
     "metadata": {},
     "output_type": "execute_result"
    }
   ],
   "source": [
    "S = \"aaaabbaa\"\n",
    "S = \"abc\"\n",
    "S = \"xyzyxy\"\n",
    "longestPalin(S)"
   ]
  },
  {
   "cell_type": "code",
   "execution_count": 93,
   "id": "ad83cdb2",
   "metadata": {},
   "outputs": [],
   "source": [
    "# Solution without dynamic programming\n",
    "\n",
    "\"\"\"\n",
    "Stage 1: (For odd length)\n",
    "Here pick a char and consider it as a center of palindrome string and check the length of palindrome\n",
    "by taking two pointers on both the side of that char\n",
    "\n",
    "Stage 2: (For even length)\n",
    "pick two char and consider them as a center of palindrome string and check the length of palindrome\n",
    "by taking two pointers on both the side of that char\n",
    "\"\"\"\n",
    "\n",
    "def longestPalin2(S):\n",
    "    n = len(S)\n",
    "    ans = ''\n",
    "    if n > 0:\n",
    "        ans = S[0]\n",
    "    \n",
    "    # To check odd length palindrome \n",
    "    def checkPeli1(s,i):\n",
    "        p1 = i-1\n",
    "        p2 = i+1\n",
    "        l = len(s)\n",
    "        if p1<0 or p2>=l:\n",
    "            return ''\n",
    "        is_peli = 1\n",
    "        \n",
    "        # Run a loop till both pointers reached to the end of string or we found non palindrome string\n",
    "        while p1 >= 0 and p2 < l:\n",
    "            if s[p1] != s[p2]:\n",
    "                is_peli = 0\n",
    "                break    \n",
    "            p1 -= 1\n",
    "            p2 += 1\n",
    "        \n",
    "        # If current pointer is not palindrome then reduce both the pointers and \n",
    "        if not is_peli or p2 >= l or p1 < 0:\n",
    "            p1 += 1\n",
    "            p2 -= 1\n",
    "        \n",
    "        if p1 == p2:\n",
    "            return s[i]\n",
    "        return s[p1:p2+1]\n",
    "    \n",
    "    # To check even length palindrome\n",
    "    def checkPeli2(s,i,j):\n",
    "        p1 = i-1\n",
    "        p2 = j+1\n",
    "        l = len(s)\n",
    "        if p1<0 or p2>=l:\n",
    "            return s[i:j]\n",
    "        \n",
    "        is_peli = 1\n",
    "        while p1 >= 0 and p2 < l:\n",
    "            if s[p1] != s[p2]:\n",
    "                is_peli = 0\n",
    "                break    \n",
    "            p1 -= 1\n",
    "            p2 += 1\n",
    "        \n",
    "        if not is_peli or p2 >= l or p1 < 0:\n",
    "            p1 += 1\n",
    "            p2 -= 1\n",
    "        if p1 == p2-1:\n",
    "            return s[i:j+1]\n",
    "        return s[p1:p2+1]\n",
    "        \n",
    "    for i in range(n):\n",
    "        temp = checkPeli1(S,i)\n",
    "        if len(temp) > len(ans):\n",
    "            ans = temp\n",
    "        \n",
    "    for i in range(1,n):\n",
    "        if S[i] != S[i-1]:\n",
    "            continue\n",
    "        temp = checkPeli2(S,i-1,i)\n",
    "        \n",
    "        # If fun returen single char then we knew that at least current two char are palindrome so replace them\n",
    "        if len(temp) <= 1:\n",
    "            temp = S[i-1:i+1]\n",
    "        \n",
    "        if len(temp) > len(ans):\n",
    "            ans = temp\n",
    "    return ans\n",
    "\n",
    "# Time Comp: O(N^2)\n",
    "# Space Comp: O(1)"
   ]
  },
  {
   "cell_type": "code",
   "execution_count": 94,
   "id": "ef2d3b3f",
   "metadata": {},
   "outputs": [
    {
     "data": {
      "text/plain": [
       "'ss'"
      ]
     },
     "execution_count": 94,
     "metadata": {},
     "output_type": "execute_result"
    }
   ],
   "source": [
    "S = \"aaaabbaa\"\n",
    "#S = \"abc\"\n",
    "#S = \"xyzyxy\"\n",
    "S = \"qrrc\"\n",
    "S = \"ssyoqcjomwufbdfxudzhiftak\"\n",
    "longestPalin2(S)"
   ]
  },
  {
   "cell_type": "code",
   "execution_count": 97,
   "id": "0ff30929",
   "metadata": {},
   "outputs": [],
   "source": [
    "# Overall same logic but simple code\n",
    "\n",
    "def longestPalSubstr(string):\n",
    "    n = len(string) # calculating size of string\n",
    "    if (n < 2):\n",
    "        return n # if string is empty then size will be 0.\n",
    "                # if n==1 then, answer will be 1(single\n",
    "                # character will always palindrome)\n",
    "    start=0\n",
    "    maxLength = 1\n",
    "    for i in range(n):\n",
    "        low = i - 1\n",
    "        high = i + 1\n",
    "        while (high < n and string[high] == string[i] ):\n",
    "            high=high+1\n",
    "\n",
    "        while (low >= 0 and string[low] == string[i] ):\n",
    "            low=low-1\n",
    "\n",
    "        while (low >= 0 and high < n and string[low] == string[high] ):\n",
    "            low=low-1\n",
    "            high=high+1\n",
    "\n",
    "        length = high - low - 1\n",
    "        if (maxLength < length):\n",
    "            maxLength = length\n",
    "            start=low+1\n",
    "    return string[start:start + maxLength]"
   ]
  },
  {
   "cell_type": "code",
   "execution_count": 100,
   "id": "5de18e98",
   "metadata": {},
   "outputs": [
    {
     "data": {
      "text/plain": [
       "'aabbaa'"
      ]
     },
     "execution_count": 100,
     "metadata": {},
     "output_type": "execute_result"
    }
   ],
   "source": [
    "S = \"aaaabbaa\"\n",
    "#S = \"ssyoqcjomwufbdfxudzhiftak\"\n",
    "longestPalSubstr(S)"
   ]
  },
  {
   "cell_type": "code",
   "execution_count": null,
   "id": "70101e96",
   "metadata": {},
   "outputs": [],
   "source": []
  },
  {
   "cell_type": "markdown",
   "id": "74b2f29e",
   "metadata": {},
   "source": [
    "### 57. Print all unique subsequences of a string"
   ]
  },
  {
   "cell_type": "raw",
   "id": "fccf0cae",
   "metadata": {},
   "source": [
    "Given a string return all unique possible subsequences which start with vowel and end with consonant. A String is a subsequence of a given String, that is generated by deleting some character of a given string without changing its order.\n",
    "NOTE: Return all the unique subsequences in lexicographically sorted order. "
   ]
  },
  {
   "cell_type": "code",
   "execution_count": 1,
   "id": "0ae5d188",
   "metadata": {},
   "outputs": [],
   "source": [
    "# logic is same as pick or not pick each char form string\n",
    "# refer recursion que 4\n",
    "\n",
    "class Solution:\n",
    "    def __init__(self):\n",
    "        self.output = []\n",
    "        \n",
    "    def solve(self,S,i,ans):\n",
    "        if i == len(S):\n",
    "            if len(ans) > 0:\n",
    "                self.output.append(\"\".join(ans))\n",
    "            return\n",
    "            \n",
    "        ans.append(S[i])\n",
    "        self.solve(S,i+1,ans)\n",
    "        ans.pop()\n",
    "        self.solve(S,i+1,ans)\n",
    "    \n",
    "    def AllPossibleStrings(self, s):\n",
    "        ans = []\n",
    "        i = 0\n",
    "        self.solve(s,i,ans)\n",
    "        self.output.sort()\n",
    "        return self.output\n",
    "    \n",
    "# Time comp:O(2^N)        (ignore the last sorting on output as it is not part of algo)\n",
    "# Space comp:O(2^N * k)   k = avg size of subsequence"
   ]
  },
  {
   "cell_type": "code",
   "execution_count": 2,
   "id": "b505036b",
   "metadata": {},
   "outputs": [
    {
     "name": "stdout",
     "output_type": "stream",
     "text": [
      "['a', 'ab', 'abc', 'ac', 'b', 'bc', 'c']\n"
     ]
    }
   ],
   "source": [
    "s = Solution()\n",
    "print(s.AllPossibleStrings('abc'))"
   ]
  },
  {
   "cell_type": "code",
   "execution_count": null,
   "id": "b04343e1",
   "metadata": {},
   "outputs": [],
   "source": []
  },
  {
   "cell_type": "markdown",
   "id": "4b8d5d40",
   "metadata": {},
   "source": [
    "### 58. Print all the unique permutation of the string"
   ]
  },
  {
   "cell_type": "raw",
   "id": "be277725",
   "metadata": {},
   "source": [
    "Given a string S. The task is to print all permutations of a given string in lexicographically sorted order.\n",
    "\n",
    "Example 1:\n",
    "\n",
    "Input: ABC\n",
    "Output:\n",
    "ABC ACB BAC BCA CAB CBA\n",
    "Explanation:\n",
    "Given string ABC has permutations in 6 \n",
    "forms as ABC, ACB, BAC, BCA, CAB and CBA ."
   ]
  },
  {
   "cell_type": "code",
   "execution_count": null,
   "id": "444d7b33",
   "metadata": {},
   "outputs": [],
   "source": [
    "\"\"\"\n",
    "https://www.youtube.com/watch?v=YK78FU5Ffjw&list=PLgUwDviBIf0rGlzIn_7rsaR2FQ5e6ZOL9&index=12\n",
    "\n",
    "Along with ans data structure we need to maintain one hash map which will indicate that which elements are\n",
    "already included into the ans. \n",
    "Otherwise logic is same as recursion que no 7\n",
    "\"\"\"\n",
    "\n",
    "class Solution:\n",
    "    def __init__(self):\n",
    "        self.output = []               # Since we need to return in form of array\n",
    "        self.hash_table = {}           # This is used to just have unique string as an output\n",
    "        \n",
    "    def solve(self,S,ans,hash_map):\n",
    "        if len(ans) == len(S):\n",
    "            temp = \"\".join(ans)\n",
    "            if temp not in self.hash_table:\n",
    "                self.output.append(\"\".join(ans))\n",
    "                self.hash_table[temp] = 1\n",
    "            return\n",
    "        \n",
    "        for i in range(0,len(S)):\n",
    "            if hash_map[i] == 1:\n",
    "                continue\n",
    "            \n",
    "            ans.append(S[i])\n",
    "            hash_map[i] = 1\n",
    "            self.solve(S,ans,hash_map)\n",
    "            hash_map[i] = 0\n",
    "            ans.pop()\n",
    "    \n",
    "    def find_permutation(self, S):\n",
    "        ans = []\n",
    "        hash_map = [0 for _ in range(len(S))]\n",
    "        S = list(S)\n",
    "        S.sort()\n",
    "        S = \"\".join(S)\n",
    "        self.solve(S,ans,hash_map)\n",
    "        return self.output\n",
    "    \n",
    "# Time comp:O(n! * n)           # Since number of permitations are n! and we run loop for n times for each one\n",
    "# Sapce comp:O(n)               # Ignore the output array as its not part of algo"
   ]
  },
  {
   "cell_type": "code",
   "execution_count": 3,
   "id": "9b8e8e09",
   "metadata": {},
   "outputs": [],
   "source": [
    "# https://www.youtube.com/watch?v=f2ic2Rsc9pU&list=PLgUwDviBIf0rGlzIn_7rsaR2FQ5e6ZOL9&index=13\n",
    "\n",
    "\"\"\"\n",
    "Another approach without using hash map:\n",
    "\n",
    "here we will run the loop from 0 to len(S) with pointer i initialized with 0\n",
    "and will replace element at ith position will every other element after i and do it recursivly\n",
    "\"\"\"\n",
    "\n",
    "class Solution:\n",
    "    def __init__(self):\n",
    "        self.output = []\n",
    "        self.hash_table = {}\n",
    "        \n",
    "    def solve2(self,S,i):\n",
    "        if i == len(S):\n",
    "            temp = \"\".join(S)\n",
    "            if temp not in self.hash_table:\n",
    "                self.output.append(temp)\n",
    "                self.hash_table[temp] = 1\n",
    "            return\n",
    "        \n",
    "        for j in range(i,len(S)):\n",
    "            S[i],S[j] = S[j],S[i]\n",
    "            self.solve2(S,i+1)\n",
    "            S[i],S[j] = S[j],S[i]\n",
    "    \n",
    "    \n",
    "    def find_permutation(self, S):\n",
    "        ans = []\n",
    "        hash_map = [0 for _ in range(len(S))]\n",
    "        S = list(S)\n",
    "        S.sort()\n",
    "        #S = \"\".join(S)\n",
    "        self.solve2(S,0)\n",
    "        self.output.sort()\n",
    "        return self.output\n",
    "    \n",
    "# Time comp:O(n! * n)           # Since number of permitations are n! and we run loop for n times for each one\n",
    "                                # ignore last sorting on output, as it is not part of algo\n",
    "# Sapce comp:O(n)               # because of the recursion call, else no extra DS used."
   ]
  },
  {
   "cell_type": "code",
   "execution_count": 4,
   "id": "67bbf3bd",
   "metadata": {},
   "outputs": [
    {
     "name": "stdout",
     "output_type": "stream",
     "text": [
      "['abc', 'acb', 'bac', 'bca', 'cab', 'cba']\n"
     ]
    }
   ],
   "source": [
    "s = Solution()\n",
    "print(s.find_permutation('abc'))"
   ]
  },
  {
   "cell_type": "code",
   "execution_count": null,
   "id": "8833a0bc",
   "metadata": {},
   "outputs": [],
   "source": []
  },
  {
   "cell_type": "markdown",
   "id": "181dec17",
   "metadata": {},
   "source": [
    "### 59. Split the Binary string into two substring with equal 0’s and 1’s"
   ]
  },
  {
   "cell_type": "raw",
   "id": "09c5f144",
   "metadata": {},
   "source": [
    "Give a binary string s, return the number of non-empty substrings that have the same number of 0's and 1's, and all the 0's and all the 1's in these substrings are grouped consecutively.\n",
    "\n",
    "Substrings that occur multiple times are counted the number of times they occur.\n",
    "\n",
    "Input: s = \"00110011\"\n",
    "Output: 6\n",
    "Explanation: There are 6 substrings that have equal number of consecutive 1's and 0's: \"0011\", \"01\", \"1100\", \"10\", \"0011\", and \"01\".\n",
    "Notice that some of these substrings repeat and are counted the number of times they occur.\n",
    "Also, \"00110011\" is not a valid substring because all the 0's (and 1's) are not grouped together."
   ]
  },
  {
   "cell_type": "code",
   "execution_count": 24,
   "id": "a4f593b6",
   "metadata": {},
   "outputs": [],
   "source": [
    "# https://www.youtube.com/watch?v=MGPHPadxhtQ\n",
    "\n",
    "def countBinarySubstrings(s):\n",
    "    count = 0\n",
    "    i = 1\n",
    "    prev = 0\n",
    "    curr = 1\n",
    "    while(i<len(s)):\n",
    "        if s[i] == s[i-1]:\n",
    "            curr += 1\n",
    "        else:\n",
    "            count = count + min(prev,curr)\n",
    "            prev = curr\n",
    "            curr = 1\n",
    "        i+=1\n",
    "    count = count + min(prev,curr)\n",
    "    return count\n",
    "\n",
    "# Time Comp: O(N)\n",
    "# Space comp: O(1)"
   ]
  },
  {
   "cell_type": "code",
   "execution_count": 25,
   "id": "30579b77",
   "metadata": {},
   "outputs": [
    {
     "name": "stdout",
     "output_type": "stream",
     "text": [
      "curr: 1\n",
      "prev: 0\n",
      "count: 0\n",
      "curr: 1\n",
      "prev: 1\n",
      "count: 1\n"
     ]
    },
    {
     "data": {
      "text/plain": [
       "1"
      ]
     },
     "execution_count": 25,
     "metadata": {},
     "output_type": "execute_result"
    }
   ],
   "source": [
    "s = '01'\n",
    "countBinarySubstrings(s)"
   ]
  },
  {
   "cell_type": "code",
   "execution_count": 15,
   "id": "6c1e7e03",
   "metadata": {},
   "outputs": [],
   "source": []
  },
  {
   "cell_type": "markdown",
   "id": "be2342a4",
   "metadata": {},
   "source": [
    "### 61. EDIT Distance"
   ]
  },
  {
   "cell_type": "raw",
   "id": "1bf9ff7c",
   "metadata": {},
   "source": [
    "Given two strings s and t. Return the minimum number of operations required to convert s to t.\n",
    "The possible operations are permitted:\n",
    "\n",
    "Insert a character at any position of the string.\n",
    "Remove any character from the string.\n",
    "Replace any character from the string with any other character.\n",
    " \n",
    "\n",
    "Example 1:\n",
    "\n",
    "Input: \n",
    "s = \"geek\", t = \"gesek\"\n",
    "Output: 1\n",
    "Explanation: One operation is required \n",
    "inserting 's' between two 'e's of str1.\n",
    "\n",
    "\n",
    "(Max number of operation required are delete all char from s and then add char of t)"
   ]
  },
  {
   "cell_type": "raw",
   "id": "aedc5b58",
   "metadata": {},
   "source": [
    "must watch: https://www.youtube.com/watch?v=fJaKO8FbDdo&list=PLgUwDviBIf0qUlt5H_kiKYaNSqJ81PMMY&index=34\n",
    "\n",
    "\n",
    "n = len(s)\n",
    "m = len(t)\n",
    "function call will start from F(n-1,m-1)\n",
    "\n",
    "if both char match then: 0 + F(i-1,j-1)\n",
    "else:\n",
    "1. if we hypothetically insert: 1 + F(i,j-1)\n",
    "2. if we hypothetically replace: 1 + F(i-1,j-1)\n",
    "3. if we hypothetically delete: 1 + F(i-1,j)\n",
    "\n",
    "about base case:\n",
    "1. if we read string 1 completly then return j+1   (because those many char we need to insert)\n",
    "1. if we read string 2 completly then return i+1   (because those many char we need to delete)"
   ]
  },
  {
   "cell_type": "code",
   "execution_count": 18,
   "id": "10cc7e11",
   "metadata": {},
   "outputs": [],
   "source": [
    "# recursive solution:\n",
    "\n",
    "class Solution:\n",
    "    \n",
    "    def solve(self,s,t,i,j):\n",
    "        if i < 0:\n",
    "            return j + 1\n",
    "        if j < 0:\n",
    "            return i + 1\n",
    "        \n",
    "        if s[i] == t[j]:\n",
    "            return 0 + self.solve(s,t,i-1,j-1)\n",
    "        else:\n",
    "            x = 1 + self.solve(s,t,i,j-1)    # insert\n",
    "            y = 1 + self.solve(s,t,i-1,j)    # delete\n",
    "            z = 1 + self.solve(s,t,i-1,j-1)    # replace\n",
    "            return min(x,y,z)\n",
    "    \n",
    "def editDistance(self, s, t):\n",
    "        n = len(s)\n",
    "        m = len(t)\n",
    "        table = [[-1 for i in range(m)]for j in range(n)]\n",
    "        i = n-1\n",
    "        j = m-1\n",
    "\n",
    "        return self.solve(s,t,i,j)\n",
    "    \n",
    "# Time comp:O(3^N)     # Because from each char we have 3 choise\n",
    "# Space comp:O(N+M)"
   ]
  },
  {
   "cell_type": "code",
   "execution_count": 19,
   "id": "908d3da1",
   "metadata": {},
   "outputs": [],
   "source": [
    "# DP: Top down\n",
    "\n",
    "class Solution:\n",
    "    def solve(self,s,t,i,j,table):\n",
    "        if i < 0:\n",
    "            return j + 1\n",
    "        if j < 0:\n",
    "            return i + 1\n",
    "        \n",
    "        if table[i][j] != -1:\n",
    "            return table[i][j]\n",
    "        \n",
    "        if s[i] == t[j]:\n",
    "            table[i][j] = 0 + self.solve(s,t,i-1,j-1,table)\n",
    "        else:\n",
    "            x = 1 + self.solve(s,t,i,j-1,table)    # insert\n",
    "            y = 1 + self.solve(s,t,i-1,j,table)    # delete\n",
    "            z = 1 + self.solve(s,t,i-1,j-1,table)    # replace\n",
    "            table[i][j] = min(x,y,z)\n",
    "    \n",
    "        return table[i][j]\n",
    "    \n",
    "    def editDistance(self, s, t):\n",
    "        n = len(s)\n",
    "        m = len(t)\n",
    "        table = [[-1 for i in range(m)]for j in range(n)]\n",
    "        i = n-1\n",
    "        j = m-1\n",
    "\n",
    "        return self.solve(s,t,i,j,table)\n",
    "    \n",
    "# Time comp:O(N*M)\n",
    "# Space comp:O(N*M)"
   ]
  },
  {
   "cell_type": "code",
   "execution_count": 21,
   "id": "6bb5d4a3",
   "metadata": {},
   "outputs": [],
   "source": [
    "# DP: Bottom up\n",
    "\n",
    "class Solution:\n",
    "    def editDistance(self, s, t):\n",
    "        n = len(s)\n",
    "        m = len(t)\n",
    "        table = [[-1 for i in range(m+1)]for j in range(n+1)]\n",
    "        \n",
    "        for i in range(m+1):\n",
    "            table[0][i] = i\n",
    "        for i in range(1,n+1):\n",
    "            table[i][0] = i\n",
    "            \n",
    "        for i in range(1,n+1):\n",
    "            for j in range(1,m+1):\n",
    "                if s[i-1] == t[j-1]:\n",
    "                    table[i][j] = 0 + table[i-1][j-1]\n",
    "                else:\n",
    "                    x = 1 + table[i][j-1]     # insert\n",
    "                    y = 1 + table[i-1][j]     # delete\n",
    "                    z = 1 + table[i-1][j-1]   # replace\n",
    "                    table[i][j] = min(x,y,z)\n",
    "        \n",
    "        return table[n][m]\n",
    "    \n",
    "# Time comp:O(N*M)\n",
    "# Space comp:O(N*M)\n",
    "\n",
    "# Space optimized approach is also possible here, do it after"
   ]
  },
  {
   "cell_type": "code",
   "execution_count": 22,
   "id": "9e3f8d7c",
   "metadata": {},
   "outputs": [
    {
     "data": {
      "text/plain": [
       "1"
      ]
     },
     "execution_count": 22,
     "metadata": {},
     "output_type": "execute_result"
    }
   ],
   "source": [
    "s = Solution()\n",
    "s.editDistance('geek','gesek')"
   ]
  },
  {
   "cell_type": "code",
   "execution_count": null,
   "id": "8248ea2d",
   "metadata": {},
   "outputs": [],
   "source": []
  },
  {
   "cell_type": "markdown",
   "id": "b0998b2b",
   "metadata": {},
   "source": [
    "### 62. Find next greater number with same set of digits."
   ]
  },
  {
   "cell_type": "raw",
   "id": "194ead2a",
   "metadata": {},
   "source": [
    "Same as que 15 from array"
   ]
  },
  {
   "cell_type": "markdown",
   "id": "4cd968c3",
   "metadata": {},
   "source": [
    "### 63. Balanced Parenthesis problem"
   ]
  },
  {
   "cell_type": "code",
   "execution_count": 19,
   "id": "c76ae914",
   "metadata": {},
   "outputs": [],
   "source": [
    "def ispar(x):\n",
    "    stack = []\n",
    "    \n",
    "    for i in x:\n",
    "        if i in ['{','(','[']:\n",
    "            stack.append(i)\n",
    "        \n",
    "        else:\n",
    "            if len(stack) == 0:\n",
    "                return False\n",
    "            \n",
    "            top = stack.pop()\n",
    "            \n",
    "            if i == '}' and top != '{':\n",
    "                return False\n",
    "            elif i == ')' and top != '(':\n",
    "                return False\n",
    "            elif i == ']' and top != '[':\n",
    "                return False\n",
    "            \n",
    "    if len(stack) != 0:\n",
    "        return False\n",
    "    return True\n",
    "\n",
    "# Time Comp: O(N)\n",
    "# Space Comp: O(N) (Stack)"
   ]
  },
  {
   "cell_type": "code",
   "execution_count": 25,
   "id": "8392d51c",
   "metadata": {},
   "outputs": [
    {
     "data": {
      "text/plain": [
       "True"
      ]
     },
     "execution_count": 25,
     "metadata": {},
     "output_type": "execute_result"
    }
   ],
   "source": [
    "x = '{([])}'\n",
    "ispar(x)"
   ]
  },
  {
   "cell_type": "code",
   "execution_count": null,
   "id": "e5015d75",
   "metadata": {},
   "outputs": [],
   "source": []
  },
  {
   "cell_type": "markdown",
   "id": "66ac4052",
   "metadata": {},
   "source": [
    "### 65. Search Pattern (Rabin-Karp Algorithm)"
   ]
  },
  {
   "cell_type": "raw",
   "id": "302c399e",
   "metadata": {},
   "source": [
    "Given two strings, one is a text string and other is a pattern string. The task is to print the indexes of all the occurences of pattern string in the text string. For printing, Starting Index of a string should be taken as 1.\n",
    "\n",
    "Input:\n",
    "S = \"batmanandrobinarebat\", pat = \"bat\"\n",
    "Output: 1 18\n",
    "Explanation: The string \"bat\" occurs twice\n",
    "in S, one starts are index 1 and the other\n",
    "at index 18. "
   ]
  },
  {
   "cell_type": "code",
   "execution_count": 147,
   "id": "70ec6d40",
   "metadata": {},
   "outputs": [],
   "source": [
    "def search(patt, s):\n",
    "    patt_len = len(patt)\n",
    "    output = []\n",
    "    \n",
    "    for i in range(len(s)):\n",
    "        if s[i] == patt[0]:\n",
    "            if s[i:i+patt_len] == patt:\n",
    "                output.append(i+1)\n",
    "                \n",
    "    if len(output) == 0:\n",
    "        return [-1]\n",
    "    return output\n",
    "\n",
    "# Time Comp: O(N^2)\n",
    "# Space Comp: O(1)"
   ]
  },
  {
   "cell_type": "code",
   "execution_count": 148,
   "id": "7ec39ec1",
   "metadata": {},
   "outputs": [
    {
     "name": "stdout",
     "output_type": "stream",
     "text": [
      "[1, 18]\n"
     ]
    }
   ],
   "source": [
    "print(search('bat', 'batmanandrobinarebat'))"
   ]
  },
  {
   "cell_type": "code",
   "execution_count": null,
   "id": "e120ca51",
   "metadata": {},
   "outputs": [],
   "source": []
  },
  {
   "cell_type": "markdown",
   "id": "dc5d53c7",
   "metadata": {},
   "source": [
    "### 67. Convert a sentence into its equivalent mobile numeric keypad sequence"
   ]
  },
  {
   "cell_type": "raw",
   "id": "b726fe81",
   "metadata": {},
   "source": [
    "Given a sentence in the form of a string in uppercase, convert it into its equivalent mobile numeric keypad sequence.\n",
    "\n",
    "\n",
    "Input:\n",
    "S = \"HEY U\"\n",
    "Output: 4433999088\n",
    "Explanation: For 'H' press '4' two times.\n",
    "â€‹For 'E' press '3' two times. For 'Y' press '9' \n",
    "three times. For white space press '0' one time.\n",
    "For 'U' press '8' two times."
   ]
  },
  {
   "cell_type": "code",
   "execution_count": 123,
   "id": "74e7891c",
   "metadata": {},
   "outputs": [],
   "source": [
    "def printSequence(S):\n",
    "    alpha_map = {' ':'0','A':'2','B':'22','C':'222','D':'3','E':'33','F':'333','G':'4','H':'44','I':'444','J':'5','K':'55','L':'555','M':'6','N':'66','O':'666','P':'7','Q':'77','R':'777','S':'7777','T':'8','U':'88','V':'888','W':'9','X':'99','Y':'999','Z':'9999'}\n",
    "    output = \"\"\n",
    "    for i in S:\n",
    "        output += alpha_map[i]\n",
    "    \n",
    "    return output\n",
    "\n",
    "# Time Comp: O(N)\n",
    "# Space Comp: O(27)"
   ]
  },
  {
   "cell_type": "code",
   "execution_count": 124,
   "id": "5fc4f02e",
   "metadata": {},
   "outputs": [
    {
     "data": {
      "text/plain": [
       "'4333355777733366677743333557777'"
      ]
     },
     "execution_count": 124,
     "metadata": {},
     "output_type": "execute_result"
    }
   ],
   "source": [
    "S = \"GEEKSFORGEEKS\"\n",
    "printSequence(S)"
   ]
  },
  {
   "cell_type": "code",
   "execution_count": null,
   "id": "399e86a6",
   "metadata": {},
   "outputs": [],
   "source": []
  },
  {
   "cell_type": "markdown",
   "id": "f47088ef",
   "metadata": {},
   "source": [
    "### 68. Count the Reversals"
   ]
  },
  {
   "cell_type": "raw",
   "id": "6ec5eae5",
   "metadata": {},
   "source": [
    "Given a string S consisting of only opening and closing curly brackets '{' and '}', find out the minimum number of reversals required to convert the string into a balanced expression.\n",
    "A reversal means changing '{' to '}' or vice-versa.\n",
    "\n",
    "Input:\n",
    "S = \"}{{}}{{{\"\n",
    "Output: 3\n",
    "Explanation: One way to balance is:\n",
    "\"{{{}}{}}\". There is no balanced sequence\n",
    "that can be formed in lesser reversals."
   ]
  },
  {
   "cell_type": "code",
   "execution_count": 153,
   "id": "d28945fe",
   "metadata": {},
   "outputs": [],
   "source": [
    "def countRev(s):\n",
    "    if len(s) % 2 != 0:\n",
    "        return -1\n",
    "    \n",
    "    stack = []\n",
    "    ans = 0\n",
    "    for i in s:\n",
    "        if i == '{':\n",
    "            stack.append('{')\n",
    "        else:\n",
    "            if len(stack) > 0:\n",
    "                stack.pop()\n",
    "            else:\n",
    "                stack.append('{')\n",
    "                ans = ans + 1\n",
    "    \n",
    "    # If stack size is odd then return -1 (i.e not possible)\n",
    "    if len(stack) % 2 == 1:\n",
    "        return -1\n",
    "    \n",
    "    ans += len(stack) // 2\n",
    "    return ans\n",
    "\n",
    "# Time Comp: O(N)\n",
    "# Space Comp: O(N)"
   ]
  },
  {
   "cell_type": "code",
   "execution_count": 155,
   "id": "f5c15fe2",
   "metadata": {},
   "outputs": [
    {
     "data": {
      "text/plain": [
       "-1"
      ]
     },
     "execution_count": 155,
     "metadata": {},
     "output_type": "execute_result"
    }
   ],
   "source": [
    "countRev('}{{}}{{{')\n",
    "countRev('{{}')"
   ]
  },
  {
   "cell_type": "code",
   "execution_count": 158,
   "id": "8c4d0500",
   "metadata": {},
   "outputs": [],
   "source": [
    "def countRev2(s):\n",
    "    if len(s) % 2 != 0:\n",
    "        return -1\n",
    "    \n",
    "    ans = 0\n",
    "    temp = 0\n",
    "    \n",
    "    for i in s:\n",
    "        if i == '{':\n",
    "            temp += 1\n",
    "        else:\n",
    "            if temp > 0:\n",
    "                temp -= 1\n",
    "            else:\n",
    "                ans += 1\n",
    "                temp += 1\n",
    "    if temp % 2 == 1:\n",
    "        return -1\n",
    "    \n",
    "    ans += temp // 2\n",
    "    return ans\n",
    "\n",
    "# Time Comp: O(N)\n",
    "# Space Comp: O(1)"
   ]
  },
  {
   "cell_type": "code",
   "execution_count": 159,
   "id": "47c02e27",
   "metadata": {},
   "outputs": [
    {
     "data": {
      "text/plain": [
       "3"
      ]
     },
     "execution_count": 159,
     "metadata": {},
     "output_type": "execute_result"
    }
   ],
   "source": [
    "countRev2('}{{}}{{{')\n",
    "#countRev2('{{}')"
   ]
  },
  {
   "cell_type": "code",
   "execution_count": null,
   "id": "ffde6eb4",
   "metadata": {},
   "outputs": [],
   "source": []
  },
  {
   "cell_type": "markdown",
   "id": "06a6fe68",
   "metadata": {},
   "source": [
    "### 69. Find the string in grid"
   ]
  },
  {
   "cell_type": "raw",
   "id": "1ed44a19",
   "metadata": {},
   "source": [
    "Given a string str of length N, you have to find number of palindromic subsequence (need not necessarily be distinct) which could be formed from the string str.\n",
    "\n",
    "Input: \n",
    "Str = \"aab\"\n",
    "Output: \n",
    "4\n",
    "Explanation:\n",
    "palindromic subsequence are :\"a\", \"a\", \"b\", \"aa\""
   ]
  },
  {
   "cell_type": "code",
   "execution_count": 117,
   "id": "e4c98beb",
   "metadata": {},
   "outputs": [],
   "source": [
    "def countPs(S):\n",
    "    def findPal(s):\n",
    "        if len(s) <= 1:\n",
    "            return 0\n",
    "        \n",
    "        i = 0\n",
    "        j = len(s)-1\n",
    "        \n",
    "        while i<j:\n",
    "            if s[i] != s[j]:\n",
    "                return 0\n",
    "            i += 1\n",
    "            j -= 1\n",
    "        return 1\n",
    "    \n",
    "    ans = len(S)\n",
    "    \n",
    "    for i in range(len(S)):\n",
    "        for j in range(len(S)-1,i,-1):\n",
    "            if S[i] == S[j]:\n",
    "                if findPal(S[i:j+1]):\n",
    "                    ans += 1\n",
    "            \n",
    "    return ans"
   ]
  },
  {
   "cell_type": "code",
   "execution_count": 122,
   "id": "8ffaed41",
   "metadata": {},
   "outputs": [
    {
     "name": "stdout",
     "output_type": "stream",
     "text": [
      "6\n"
     ]
    }
   ],
   "source": [
    "print(countPs('aaa'))\n",
    "#print(countPs('aabb'))\n",
    "#print(countPs('abcd'))\n",
    "#print(countPs('abccba'))"
   ]
  },
  {
   "cell_type": "code",
   "execution_count": null,
   "id": "92c99599",
   "metadata": {},
   "outputs": [],
   "source": []
  },
  {
   "cell_type": "markdown",
   "id": "799a539f",
   "metadata": {},
   "source": [
    "### 73. Roman Number to Integer"
   ]
  },
  {
   "cell_type": "raw",
   "id": "488675f0",
   "metadata": {},
   "source": [
    "Given a string in roman no format (s)  your task is to convert it to an integer . Various symbols and their values are given below.\n",
    "I 1\n",
    "V 5\n",
    "X 10\n",
    "L 50\n",
    "C 100\n",
    "D 500\n",
    "M 1000\n",
    "\n",
    "Input: MCMIV\n",
    "Output: 1904\n",
    "M is a thousand, \n",
    "CM is nine hundred and \n",
    "IV is four"
   ]
  },
  {
   "cell_type": "code",
   "execution_count": 16,
   "id": "3fc4ab86",
   "metadata": {},
   "outputs": [],
   "source": [
    "\"\"\"\n",
    "If current number is greater than next number then simply add that into the result and increment pointer by 1\n",
    "Else resuce current number from next number and add it into the result and increment pointer by 2\n",
    "\"\"\"\n",
    "\n",
    "def romanToDecimal(S):\n",
    "    roman = {}\n",
    "    roman['I'] = 1\n",
    "    roman['V'] = 5\n",
    "    roman['X'] = 10\n",
    "    roman['L'] = 50\n",
    "    roman['C'] = 100\n",
    "    roman['D'] = 500\n",
    "    roman['M'] = 1000\n",
    "    \n",
    "    n = len(S)\n",
    "    ans = 0\n",
    "    i = 0\n",
    "    \n",
    "    while i < n:\n",
    "        if i < n-1 and roman[S[i]] < roman[S[i+1]]:\n",
    "            ans += roman[S[i+1]] - roman[S[i]]\n",
    "            i += 2\n",
    "        else:\n",
    "            ans += roman[S[i]]\n",
    "            i += 1\n",
    "    return ans\n",
    "\n",
    "# Time Comp: O(N)\n",
    "# Space Comp: O(1)"
   ]
  },
  {
   "cell_type": "code",
   "execution_count": 18,
   "id": "dc251a48",
   "metadata": {},
   "outputs": [
    {
     "data": {
      "text/plain": [
       "3"
      ]
     },
     "execution_count": 18,
     "metadata": {},
     "output_type": "execute_result"
    }
   ],
   "source": [
    "S = 'III'\n",
    "#S = 'MCMIV'\n",
    "romanToDecimal(S)"
   ]
  },
  {
   "cell_type": "code",
   "execution_count": null,
   "id": "412a31ca",
   "metadata": {},
   "outputs": [],
   "source": []
  },
  {
   "cell_type": "markdown",
   "id": "18a6df32",
   "metadata": {},
   "source": [
    "### 74. Longest Common Prefix"
   ]
  },
  {
   "cell_type": "raw",
   "id": "da07c748",
   "metadata": {},
   "source": [
    "Write a function to find the longest common prefix string amongst an array of strings.\n",
    "\n",
    "If there is no common prefix, return an empty string \"\".\n",
    "\n",
    "Input: strs = [\"flower\",\"flow\",\"flight\"]\n",
    "Output: \"fl\""
   ]
  },
  {
   "cell_type": "code",
   "execution_count": 48,
   "id": "9ccc061f",
   "metadata": {},
   "outputs": [],
   "source": [
    "def longestCommonPrefix(strs):\n",
    "    ans = \"\"\n",
    "    l = len(strs)\n",
    "    print(l)\n",
    "    if l == 0:\n",
    "        return \"\"\n",
    "    elif l == 1:\n",
    "        return strs[0]\n",
    "    \n",
    "    str1 = strs[0]\n",
    "    str2 = strs[1]\n",
    "    \n",
    "    p1 = 0\n",
    "    p2 = 0\n",
    "    \n",
    "    while p1<len(str1) and p2<len(str2):\n",
    "        if str1[p1] == str2[p2]:\n",
    "            ans += str1[p1]\n",
    "            p1+=1\n",
    "            p2+=1\n",
    "        else:\n",
    "            break\n",
    "    #return ans\n",
    "    for i in range(2,l):\n",
    "        p1 = 0\n",
    "        if len(strs[i]) == 0:\n",
    "            ans = \"\"\n",
    "            break\n",
    "        while p1<len(strs[i]) and p1<len(ans):\n",
    "            if ans[p1] == strs[i][p1]:\n",
    "                p1+=1\n",
    "                continue\n",
    "            else:\n",
    "                break\n",
    "        ans = ans[0:p1]\n",
    "    return ans\n",
    "\n",
    "# Time comp: O(C) where C is total number of char in all the input string given\n",
    "# Space Comp: O(1)"
   ]
  },
  {
   "cell_type": "code",
   "execution_count": 49,
   "id": "76c1f676",
   "metadata": {},
   "outputs": [
    {
     "name": "stdout",
     "output_type": "stream",
     "text": [
      "3\n"
     ]
    },
    {
     "data": {
      "text/plain": [
       "'fl'"
      ]
     },
     "execution_count": 49,
     "metadata": {},
     "output_type": "execute_result"
    }
   ],
   "source": [
    "strs = [\"flower\",\"flow\",\"flight\"]\n",
    "#strs = [\"dog\",\"racecar\",\"car\"]\n",
    "#strs = [\"cir\",\"car\"]\n",
    "#strs = [\"abab\",\"aba\",\"\"]\n",
    "#strs = [\"ac\",\"ac\",\"a\",\"a\"]\n",
    "longestCommonPrefix(strs)"
   ]
  },
  {
   "cell_type": "code",
   "execution_count": 47,
   "id": "3c8179e8",
   "metadata": {},
   "outputs": [],
   "source": [
    "# Same logic but shorter code\n",
    "\n",
    "def longestCommonPrefix(self, strs):\n",
    "    \"\"\"\n",
    "    :type strs: List[str]\n",
    "    :rtype: str\n",
    "    \"\"\"\n",
    "    if len(strs) == 0:\n",
    "        return \"\"\n",
    "    current = strs[0]\n",
    "    for i in range(1,len(strs)):\n",
    "        temp = \"\"\n",
    "        if len(current) == 0:\n",
    "            break\n",
    "        for j in range(len(strs[i])):\n",
    "            if j<len(current) and current[j] == strs[i][j]:\n",
    "                temp+=current[j]\n",
    "            else:\n",
    "                break\n",
    "        current = temp\n",
    "    return current"
   ]
  },
  {
   "cell_type": "code",
   "execution_count": null,
   "id": "2bbcc415",
   "metadata": {},
   "outputs": [],
   "source": []
  },
  {
   "cell_type": "markdown",
   "id": "aeb187ca",
   "metadata": {},
   "source": [
    "### 75. Number of flips to make binary string alternate"
   ]
  },
  {
   "cell_type": "raw",
   "id": "161fcc6b",
   "metadata": {},
   "source": [
    "Given a binary string, that is it contains only 0s and 1s. We need to make this string a sequence of alternate characters by flipping some of the bits, our goal is to minimize the number of bits to be flipped.\n",
    "\n",
    "Input:\n",
    "S = \"001\"\n",
    "Output: 1\n",
    "Explanation: \n",
    "We can flip the 0th bit to 1 to have\n",
    "101."
   ]
  },
  {
   "cell_type": "code",
   "execution_count": 10,
   "id": "a2a85087",
   "metadata": {},
   "outputs": [],
   "source": [
    "\"\"\"\n",
    "Here we know that output string will be start with either 0 or 1\n",
    "So we will check both the possibility\n",
    "\"\"\"\n",
    "\n",
    "def minFlips(S):\n",
    "    # For the string start with 1\n",
    "    next_char_1 = '1'\n",
    "    flip_1 = 0\n",
    "    \n",
    "    # For the string start with 0\n",
    "    next_char_2 = '0'\n",
    "    flip_2 = 0\n",
    "    \n",
    "    for i in S:\n",
    "        \n",
    "        # Check for the string start with 1\n",
    "        if i != next_char_1:\n",
    "            flip_1 += 1\n",
    "        next_char_1 = '0' if next_char_1 == '1' else '1'\n",
    "        \n",
    "        # Check for the string start with 0\n",
    "        if i != next_char_2:\n",
    "            flip_2 += 1\n",
    "        next_char_2 = '0' if next_char_2 == '1' else '1'\n",
    "    \n",
    "    return min(flip_1,flip_2)\n",
    "\n",
    "# time comp: O(N)\n",
    "# Space comp: O(1)"
   ]
  },
  {
   "cell_type": "code",
   "execution_count": 11,
   "id": "9ff8daac",
   "metadata": {},
   "outputs": [
    {
     "data": {
      "text/plain": [
       "2"
      ]
     },
     "execution_count": 11,
     "metadata": {},
     "output_type": "execute_result"
    }
   ],
   "source": [
    "S = \"001\"\n",
    "S = \"0001010111\"\n",
    "minFlips(S)"
   ]
  },
  {
   "cell_type": "code",
   "execution_count": null,
   "id": "e33d2192",
   "metadata": {},
   "outputs": [],
   "source": []
  },
  {
   "cell_type": "markdown",
   "id": "3faee129",
   "metadata": {},
   "source": [
    "### 76. Second most repeated string in a sequence"
   ]
  },
  {
   "cell_type": "raw",
   "id": "2c0d0880",
   "metadata": {},
   "source": [
    "Given a sequence of strings, the task is to find out the second most repeated (or frequent) string in the given sequence.\n",
    "\n",
    "Input:\n",
    "N = 6\n",
    "arr[] = {aaa, bbb, ccc, bbb, aaa, aaa}\n",
    "Output: bbb\n",
    "Explanation: \"bbb\" is the second most \n",
    "occurring string with frequency 2."
   ]
  },
  {
   "cell_type": "code",
   "execution_count": 80,
   "id": "8845da77",
   "metadata": {},
   "outputs": [],
   "source": [
    "# Create freq map\n",
    "# Delet max freq element from it\n",
    "# Find second most freq element and return\n",
    "\n",
    "def secFrequent(arr, n):\n",
    "    if len(arr) == 0:\n",
    "        return ''\n",
    "    \n",
    "    arr = arr.split(' ')\n",
    "    unorder_map = {}\n",
    "    first_mx = arr[0]\n",
    "    for i in arr:\n",
    "        if i in unorder_map:\n",
    "            unorder_map[i] += 1\n",
    "        else:\n",
    "            unorder_map[i] = 1\n",
    "            \n",
    "        if unorder_map[first_mx] < unorder_map[i]:\n",
    "            first_mx = i\n",
    "        \n",
    "    unorder_map[first_mx] = 0\n",
    "    second_mx = first_mx\n",
    "    for i in unorder_map:\n",
    "        if i == first_mx:\n",
    "            continue\n",
    "            \n",
    "        if unorder_map[second_mx] < unorder_map[i]:\n",
    "            second_mx = i\n",
    "    \n",
    "    # To handle case like \"aaa aaa\"\n",
    "    if second_mx == first_mx:\n",
    "        return ''\n",
    "    \n",
    "    return second_mx\n",
    "\n",
    "# Time Comp: O(N)\n",
    "# Space Comp: O(N)"
   ]
  },
  {
   "cell_type": "code",
   "execution_count": 81,
   "id": "2ad9dfd4",
   "metadata": {},
   "outputs": [
    {
     "name": "stdout",
     "output_type": "stream",
     "text": [
      "bbb\n",
      "\n"
     ]
    }
   ],
   "source": [
    "print(secFrequent('aaa bbb ccc bbb aaa aaa',6))\n",
    "print(secFrequent('aaa aaa',6))"
   ]
  },
  {
   "cell_type": "code",
   "execution_count": null,
   "id": "ba8072be",
   "metadata": {},
   "outputs": [],
   "source": []
  },
  {
   "cell_type": "markdown",
   "id": "dee4080b",
   "metadata": {},
   "source": [
    "### 77. Minimum number of swaps for bracket balancing."
   ]
  },
  {
   "cell_type": "raw",
   "id": "04c47903",
   "metadata": {},
   "source": [
    "You are given a string S of 2N characters consisting of N ‘[‘ brackets and N ‘]’ brackets.\n",
    "Calculate the minimum number of swaps necessary to make a string balanced.\n",
    "\n",
    "Input: s = \"][][\"\n",
    "Output: 1\n",
    "Explanation: You can make the string balanced by swapping index 0 with index 3.\n",
    "The resulting string is \"[[]]\"."
   ]
  },
  {
   "cell_type": "code",
   "execution_count": 60,
   "id": "c433c26b",
   "metadata": {},
   "outputs": [],
   "source": [
    "# https://leetcode.com/problems/minimum-number-of-swaps-to-make-the-string-balanced/discuss/1390319/How-to-reach-the-optimal-solution-or-Explained-with-Intuition-and-Diagram\n",
    "\n",
    "\"\"\"\n",
    "We can discard the balanced components from our input string as they will not matter in balancing the string.\n",
    "Now, after excluding them, we will find that all the unbalanced brackets look like this\n",
    "\n",
    "Now, since we can swap any pair of brackets, \n",
    "the optimal approach is to balance 2 sets of brackets at a time using 1 swap.\n",
    "\"\"\"\n",
    "\n",
    "def minimumNumberOfSwaps(S):\n",
    "    if len(S) == 0:\n",
    "        return 0\n",
    "    \n",
    "    balance = 0\n",
    "    for i in S:\n",
    "        if i == '[':\n",
    "            balance += 1\n",
    "        else:\n",
    "            if balance > 0:\n",
    "                balance -= 1\n",
    "        \n",
    "    return (balance+1) // 2\n",
    "\n",
    "# Time Comp: O(N)\n",
    "# Space Comp: O(1)"
   ]
  },
  {
   "cell_type": "code",
   "execution_count": 62,
   "id": "d3b3f6cd",
   "metadata": {},
   "outputs": [
    {
     "name": "stdout",
     "output_type": "stream",
     "text": [
      "1\n",
      "0\n"
     ]
    }
   ],
   "source": [
    "print(minimumNumberOfSwaps('[]][]['))\n",
    "print(minimumNumberOfSwaps('[[][]]'))"
   ]
  },
  {
   "cell_type": "code",
   "execution_count": null,
   "id": "3f115258",
   "metadata": {},
   "outputs": [],
   "source": []
  },
  {
   "cell_type": "markdown",
   "id": "560a74b0",
   "metadata": {},
   "source": [
    "### 80. Write a program tofind the smallest window that contains all characters of string itself."
   ]
  },
  {
   "cell_type": "raw",
   "id": "c5763da9",
   "metadata": {},
   "source": [
    "Given a string 's'. The task is to find the smallest window length that contains all the characters of the given string at least one time.\n",
    "For eg. A = aabcbcdbca, then the result would be 4 as of the smallest window will be dbca.\n",
    "\n",
    "Input : \"GEEKSGEEKSFOR\"\n",
    "Output : 8\n",
    "Explanation : Sub-string -> \"GEEKSFOR\""
   ]
  },
  {
   "cell_type": "code",
   "execution_count": 40,
   "id": "6c44e537",
   "metadata": {},
   "outputs": [],
   "source": [
    "\"\"\"\n",
    "Brute force solution\n",
    "\n",
    "Min possible ans can be the number od unique elements in the str\n",
    "Initially take window of of the size of unique elements and check possible sequence of the window\n",
    "window has been managed by using 2 pointers\n",
    "If we got a window where all unique elements are preset then return that \n",
    "else keep increasing window size by 1 and keep checking\n",
    "\"\"\"\n",
    "\n",
    "def findSubString(str):\n",
    "    unique = set(str)\n",
    "    window_size = len(unique)\n",
    "    i = 0\n",
    "    j = window_size - 1\n",
    "    ans = len(str)\n",
    "\n",
    "    while j <= len(str):\n",
    "        temp_set = set(str[i:j])\n",
    "        if len(temp_set) == len(unique):\n",
    "            ans = j-i\n",
    "            break\n",
    "        else:\n",
    "            i += 1\n",
    "            j += 1\n",
    "        \n",
    "        if j == len(str)+1 and window_size < len(str):\n",
    "            window_size += 1\n",
    "            i = 0\n",
    "            j = window_size - 1\n",
    "    \n",
    "    return ans\n",
    "\n",
    "# Time Comp: O(N^2)\n",
    "# Space Comp: O(N)"
   ]
  },
  {
   "cell_type": "code",
   "execution_count": 41,
   "id": "368f6794",
   "metadata": {},
   "outputs": [
    {
     "name": "stdout",
     "output_type": "stream",
     "text": [
      "8\n",
      "3\n",
      "2\n",
      "1\n",
      "2\n"
     ]
    }
   ],
   "source": [
    "print(findSubString('GEEKSGEEKSFOR'))\n",
    "print(findSubString('AABBBCBBAC'))\n",
    "print(findSubString('aaab'))\n",
    "print(findSubString('b'))\n",
    "print(findSubString('ab'))"
   ]
  },
  {
   "cell_type": "code",
   "execution_count": 91,
   "id": "1dc08480",
   "metadata": {},
   "outputs": [],
   "source": [
    "# https://www.geeksforgeeks.org/smallest-window-contains-characters-string/\n",
    "# https://www.youtube.com/watch?v=Q3iTTwgDb6U\n",
    "\n",
    "def findSubString2(str):\n",
    "    ans = len(str)\n",
    "    if ans <= 1:\n",
    "        return ans \n",
    "    \n",
    "    unorder_map = {}\n",
    "    for i in range(len(str)):\n",
    "        if str[i] not in unorder_map:\n",
    "            unorder_map[str[i]] = 0\n",
    "    \n",
    "    i = 0\n",
    "    j = 0\n",
    "    prev = -1   # It stores prev value of j\n",
    "    while j < len(str):\n",
    "        \n",
    "        # If j is moving then only update the value of j in map\n",
    "        if prev == j-1:\n",
    "            unorder_map[str[j]] += 1\n",
    "        \n",
    "        # Untill all the elements are not in windows, keep moving j to right\n",
    "        values = list(unorder_map.values())\n",
    "        if 0 in values:\n",
    "            prev = j\n",
    "            j += 1\n",
    "            continue\n",
    "        else:\n",
    "            prev = j\n",
    "        \n",
    "        # If all values are 1 in map then we can understand that we got the min window\n",
    "        if values.count(1) == len(values):\n",
    "            ans = (j-i) + 1\n",
    "            break\n",
    "        \n",
    "        # keep the track of min ans\n",
    "        ans = min(ans,(j-i)+1)\n",
    "        \n",
    "        # is value of i is 1 in map and if we can not move window further then break the loop\n",
    "        if unorder_map[str[i]] == 1 and j==len(str)-1:\n",
    "            break\n",
    "        \n",
    "        # else increment the value of i and adjust the count of i in map\n",
    "        unorder_map[str[i]] -= 1\n",
    "        i += 1\n",
    "    \n",
    "    return ans\n",
    "\n",
    "# Time Comp: O(N)\n",
    "# Space Comp: O(N)"
   ]
  },
  {
   "cell_type": "code",
   "execution_count": 92,
   "id": "1f184aad",
   "metadata": {},
   "outputs": [
    {
     "name": "stdout",
     "output_type": "stream",
     "text": [
      "2\n",
      "8\n",
      "3\n",
      "1\n",
      "2\n"
     ]
    }
   ],
   "source": [
    "print(findSubString2('aaab'))\n",
    "print(findSubString2('GEEKSGEEKSFOR'))\n",
    "print(findSubString2('AABBBCBBAC'))\n",
    "print(findSubString('b'))\n",
    "print(findSubString('ab'))"
   ]
  },
  {
   "cell_type": "code",
   "execution_count": null,
   "id": "ca82d98f",
   "metadata": {},
   "outputs": [],
   "source": []
  },
  {
   "cell_type": "markdown",
   "id": "0b57506f",
   "metadata": {},
   "source": [
    "### 81. Rearrange characters in a string such that no two adjacent are same"
   ]
  },
  {
   "cell_type": "raw",
   "id": "200cf9c8",
   "metadata": {},
   "source": [
    "Given a string S with repeated characters. The task is to rearrange characters in a string such that no two adjacent characters are the same.\n",
    "\n",
    "Input : str = \"geeksforgeeks\"\n",
    "Output: 1\n",
    "Explanation: All the repeated characters of the\n",
    "given string can be rearranged so that no \n",
    "adjacent characters in the string is equal.\n",
    "Any correct rearrangement will show a output\n",
    "of 1."
   ]
  },
  {
   "cell_type": "code",
   "execution_count": 56,
   "id": "6953fd8f",
   "metadata": {},
   "outputs": [],
   "source": [
    "def rearrangeString(str):\n",
    "    unorder_map = {}\n",
    "    mx_count = 0\n",
    "    mx_char = str[0]\n",
    "    \n",
    "    \n",
    "    # Prepare unordered map to count the frequence\n",
    "    for i in str:\n",
    "        if i in unorder_map:\n",
    "            unorder_map[i] += 1\n",
    "        else:\n",
    "            unorder_map[i] = 1\n",
    "    \n",
    "    #If lamda function work then use it directly\n",
    "    unorder_map = dict(sorted(unorder_map.items(), key=lambda x:x[1], reverse=True))\n",
    "    \n",
    "    \"\"\"\n",
    "    Else use following method to sort unordered map based on its value\n",
    "    \n",
    "    def findMax(unorder_map):\n",
    "        mx_count = 0\n",
    "        mx_char = ''\n",
    "        \n",
    "        for x in unorder_map:\n",
    "            if unorder_map[x] > mx_count:\n",
    "                mx_count = unorder_map[x]\n",
    "                mx_char = x\n",
    "                \n",
    "        return mx_count,mx_char\n",
    "    \n",
    "    sorted_map = {}\n",
    "    \n",
    "    temp = 0\n",
    "    while temp <= len(unorder_map):\n",
    "        mx_count,mx_char = findMax(unorder_map)\n",
    "        if mx_count > 0:\n",
    "            sorted_map[mx_char] = mx_count\n",
    "            unorder_map[mx_char] = 0\n",
    "        temp += 1\n",
    "    \n",
    "    unorder_map = sorted_map\n",
    "    \"\"\"\n",
    "    \n",
    "    mx_char = next(iter(unorder_map))  # take first key from the map\n",
    "    mx_count = unorder_map[mx_char]    # Take value of first key\n",
    "\n",
    "    # If max count is greater than half of string then its not possible to rearrange\n",
    "    if mx_count > (len(str) - mx_count) + 1:\n",
    "        return ''\n",
    "    \n",
    "    extra = [0] * len(str)\n",
    "    i = 0\n",
    "    while mx_count > 0:\n",
    "        if i >= len(str):\n",
    "            return -1\n",
    "        extra[i] = mx_char\n",
    "        i += 2\n",
    "        mx_count -= 1\n",
    "    unorder_map[mx_char] = 0\n",
    "    \n",
    "    temp = 0\n",
    "    for x in unorder_map:\n",
    "        if x == mx_char:\n",
    "            continue\n",
    "            \n",
    "        while temp < unorder_map[x]:\n",
    "            if i >= len(str):\n",
    "                i = 1\n",
    "            extra[i] = x\n",
    "            temp += 1\n",
    "            i+=2\n",
    "            \n",
    "        temp = 0\n",
    "            \n",
    "    return ''.join(extra)\n",
    "\n",
    "# Time Comp : O(N*log N)\n",
    "# Space Comp: O(N)"
   ]
  },
  {
   "cell_type": "code",
   "execution_count": 57,
   "id": "5538fc44",
   "metadata": {},
   "outputs": [
    {
     "name": "stdout",
     "output_type": "stream",
     "text": [
      "bab\n",
      "vlvov\n",
      "ldle\n"
     ]
    }
   ],
   "source": [
    "print(rearrangeString('bab'))\n",
    "print(rearrangeString('vvvlo'))\n",
    "print(rearrangeString('dell'))\n",
    "#print(rearrangeString('bbbbb'))\n",
    "#print(rearrangeString('abbba'))\n",
    "#print(rearrangeString('abbbba'))"
   ]
  },
  {
   "cell_type": "code",
   "execution_count": 42,
   "id": "c0a5d755",
   "metadata": {},
   "outputs": [
    {
     "name": "stdout",
     "output_type": "stream",
     "text": [
      "3\n",
      "{'x': 5, 'y': 1, 'a': 2}\n",
      "{'x': 5, 'a': 2, 'y': 1}\n"
     ]
    }
   ],
   "source": [
    "p = dict({'x':5,'y':1,'a':2})\n",
    "print(len(p))\n",
    "#p = dict({\"l\":1,\"o\":1,\"v\":3})\n",
    "#p = dict({\"e\":1,\"d\":1,\"l\":2})\n",
    "q = dict(sorted(p.items(), key=lambda d:d[1], reverse=True))\n",
    "print(p)\n",
    "print(q)"
   ]
  },
  {
   "cell_type": "code",
   "execution_count": null,
   "id": "309d5ed2",
   "metadata": {},
   "outputs": [],
   "source": []
  },
  {
   "cell_type": "markdown",
   "id": "485c6df5",
   "metadata": {},
   "source": [
    "### 82. Minimum characters to be added at front to make string palindrome"
   ]
  },
  {
   "cell_type": "raw",
   "id": "17e299fd",
   "metadata": {},
   "source": [
    "Given string str of length N. The task is to find the minimum characters to be added at front to make string palindrome.\n",
    "\n",
    "Note: A palindrome is a word which reads the same backward as forward. Example : madam.\n",
    "\n",
    "Example 1:\n",
    "\n",
    "Input:\n",
    "S = \"abc\"\n",
    "Output: 2\n",
    "Explanation: \n",
    "Add 'b' and 'c' at front of above string to make it\n",
    "palindrome : \"cbabc\""
   ]
  },
  {
   "cell_type": "code",
   "execution_count": 5,
   "id": "df1e6596",
   "metadata": {},
   "outputs": [],
   "source": [
    "\"\"\"\n",
    "Delete each element from the end and check whether remaining string is palindrom or not?\n",
    "The keep the cound of element you delete, and that count will be your ans.\n",
    "\"\"\"\n",
    "\n",
    "class Solution:\n",
    "    def checkPali(self,S):\n",
    "        i = 0\n",
    "        j = len(S)-1\n",
    "        while i < j:\n",
    "            if S[i] != S[j]:\n",
    "                return False\n",
    "            i += 1\n",
    "            j -= 1\n",
    "        \n",
    "        return True\n",
    "    \n",
    "    def solve(self,S,i,n):\n",
    "        \n",
    "        key = 0\n",
    "        for j in range(i+1):\n",
    "            if self.checkPali(S[:(n-j)]):\n",
    "                break\n",
    "            key += 1\n",
    "        \n",
    "        return key\n",
    "    \n",
    "    def minChar(self,str):\n",
    "        i = len(str)-1\n",
    "        n = len(str)\n",
    "        return self.solve(str,i,n)\n",
    "    \n",
    "# Time comp:O(N^2)\n",
    "# Space comp:O(1)"
   ]
  },
  {
   "cell_type": "raw",
   "id": "a31dde47",
   "metadata": {},
   "source": [
    "https://www.geeksforgeeks.org/minimum-characters-added-front-make-string-palindrome/\n",
    "\n",
    "Take left pointer as 0 and right and n-1 and compare both characters\n",
    "\n",
    "If both are same left++ and right–;\n",
    "\n",
    "else\n",
    "\n",
    "we can think that we have to add N-right elements at front to make last (N-right) characters palindrome so added = (n-right)\n",
    "\n",
    "Now left again point to 0 as we have to check the string from 0th index .\n",
    "\n",
    "but if character at right position is same as 0th index char then we can add one less character at front  , now left will point to 1."
   ]
  },
  {
   "cell_type": "code",
   "execution_count": 6,
   "id": "c5d0fca2",
   "metadata": {},
   "outputs": [],
   "source": [
    "# this is the solution using two pointers.\n",
    "# do the dry run by taking string 'abc' and 'aabcbaaaa' for better undertsanding\n",
    "\n",
    "class Solution:\n",
    "    def minChar(self,str):\n",
    "        n = len(str)\n",
    "        i = 0\n",
    "        j = n -1\n",
    "        added = 0\n",
    "        \n",
    "        \n",
    "        while i < j:\n",
    "            if str[i] == str[j]:\n",
    "                i += 1\n",
    "                j -= 1\n",
    "            else:\n",
    "                i = 0\n",
    "                added = n - j\n",
    "                if str[i] == str[j]:\n",
    "                    added -= 1\n",
    "                    i += 1\n",
    "                j -= 1\n",
    "        \n",
    "        return added\n",
    "    \n",
    "# Time comp:O(N)\n",
    "# space comp:O(1)"
   ]
  },
  {
   "cell_type": "code",
   "execution_count": 7,
   "id": "35784cca",
   "metadata": {},
   "outputs": [
    {
     "data": {
      "text/plain": [
       "2"
      ]
     },
     "execution_count": 7,
     "metadata": {},
     "output_type": "execute_result"
    }
   ],
   "source": [
    "s = Solution()\n",
    "s.minChar('aacecaaaa')"
   ]
  },
  {
   "cell_type": "code",
   "execution_count": null,
   "id": "1d1f2787",
   "metadata": {},
   "outputs": [],
   "source": []
  },
  {
   "cell_type": "markdown",
   "id": "2d8a9ec2",
   "metadata": {},
   "source": [
    "### 83. Given a sequence of words, print all anagrams together"
   ]
  },
  {
   "cell_type": "raw",
   "id": "67f44b76",
   "metadata": {},
   "source": [
    "Given an array of strings, return all groups of strings that are anagrams. The groups must be created in order of their appearance in the original array. Look at the sample case for clarification.\n",
    "\n",
    "Input:\n",
    "N = 5\n",
    "words[] = {act,god,cat,dog,tac}\n",
    "Output:\n",
    "act cat tac \n",
    "god dog\n",
    "Explanation:\n",
    "There are 2 groups of\n",
    "anagrams \"god\", \"dog\" make group 1.\n",
    "\"act\", \"cat\", \"tac\" make group 2."
   ]
  },
  {
   "cell_type": "code",
   "execution_count": 115,
   "id": "e4ce26d0",
   "metadata": {},
   "outputs": [],
   "source": [
    "def Anagrams(words, n):\n",
    "    words_map = {}\n",
    "    \n",
    "    for i in range(n):\n",
    "        temp = sorted(words[i])  # It takes string but returns as sorted array\n",
    "        temp = ''.join(temp)     # So we convert array into string\n",
    "        if temp in words_map:\n",
    "            words_map[temp].append(words[i])\n",
    "        else:\n",
    "            words_map[temp] = [words[i]]\n",
    "    \n",
    "    words = []\n",
    "    for i in words_map:\n",
    "        words.append(words_map[i])\n",
    "        \n",
    "    return words\n",
    "\n",
    "# Time Comp: O(N * MlogM)   N is number of words and M is length of each word\n",
    "# Space Comp: O(N)"
   ]
  },
  {
   "cell_type": "code",
   "execution_count": 116,
   "id": "c44fdc72",
   "metadata": {},
   "outputs": [
    {
     "name": "stdout",
     "output_type": "stream",
     "text": [
      "[['act', 'cat', 'tac'], ['god', 'dog']]\n"
     ]
    }
   ],
   "source": [
    "words = ['act','god','cat','dog','tac']\n",
    "Anagrams(words,len(words))"
   ]
  },
  {
   "cell_type": "code",
   "execution_count": null,
   "id": "d1f314e0",
   "metadata": {},
   "outputs": [],
   "source": []
  },
  {
   "cell_type": "markdown",
   "id": "e3212f9a",
   "metadata": {},
   "source": [
    "### 84. Smallest window in a string containing all the characters of another string"
   ]
  },
  {
   "cell_type": "raw",
   "id": "03e40d5a",
   "metadata": {},
   "source": [
    "Given two strings S and P. Find the smallest window in the string S consisting of all the characters(including duplicates) of the string P.  Return \"-1\" in case there is no such window present. In case there are multiple such windows of same length, return the one with the least starting index.\n",
    "\n",
    "Input:\n",
    "S = \"zoomlazapzo\"\n",
    "P = \"oza\"\n",
    "Output: \n",
    "apzo\n",
    "Explanation: \"apzo\" is the smallest \n",
    "substring in which \"oza\" can be found."
   ]
  },
  {
   "cell_type": "code",
   "execution_count": 81,
   "id": "e9a00b32",
   "metadata": {},
   "outputs": [],
   "source": [
    "def smallestWindow(s, p):\n",
    "    \n",
    "    # Check if any string is not given or target string is larger than actual string then return and exit\n",
    "    if not s or not p or len(s) < len(p):\n",
    "        return -1\n",
    "    \n",
    "    p_map = {}  # Map for target string\n",
    "    s_map = {}  # Map for actual string\n",
    "    \n",
    "    # Prepare the map for target string\n",
    "    for i in p:\n",
    "        if i in p_map:\n",
    "            p_map[i] += 1\n",
    "        else:\n",
    "            p_map[i] = 1\n",
    "            \n",
    "    total_p_count = len(p_map.keys())   # Take the count of p map's key\n",
    "    \n",
    "    start = 0   # Start of the window \n",
    "    end = -1    # End of the window \n",
    "    \n",
    "    ans = ''    # default ans\n",
    "    \n",
    "    total_s_count = 0    # Take the count of s map w.r.t p map\n",
    "    \n",
    "    # Run for loop until start reaches to end of the string\n",
    "    while start < len(s):\n",
    "        \n",
    "        # If we didn't fount proper window then\n",
    "        if total_s_count < total_p_count:\n",
    "            \n",
    "            # If end is already at the end of string then break the loop because we can't move further\n",
    "            if end == len(s)-1:\n",
    "                break\n",
    "            \n",
    "            # Else increase the value of End and keep adding it to s map \n",
    "            end += 1\n",
    "            if s[end] in s_map:\n",
    "                s_map[s[end]] += 1\n",
    "            else:\n",
    "                s_map[s[end]] = 1\n",
    "            \n",
    "            # If current end char have been seen enough time them increase the value of s count\n",
    "            if s[end] in p_map and s_map[s[end]] == p_map[s[end]]:\n",
    "                total_s_count += 1\n",
    "        \n",
    "        # If we found proper window then start increasing the value of start until window kept valid\n",
    "        else:\n",
    "            \n",
    "            # decrese the value of s map\n",
    "            if s[start] in s_map:\n",
    "                s_map[s[start]] -= 1\n",
    "            \n",
    "            # After decrement, if value of s_map becoming less than dec the counter of s\n",
    "            if s[start] in p_map and s_map[s[start]] == p_map[s[start]] - 1:\n",
    "                total_s_count -= 1\n",
    "            start += 1\n",
    "\n",
    "        # If both couters match it means that window is a valid window so update ans accordingly\n",
    "        if total_s_count == total_p_count:\n",
    "            if not ans:\n",
    "                ans = s[start:end+1]\n",
    "            elif len(ans) > (end - start + 1):\n",
    "                ans = s[start:end+1]\n",
    "    \n",
    "    if len(ans) == 0:\n",
    "        return -1\n",
    "    return ans"
   ]
  },
  {
   "cell_type": "code",
   "execution_count": 82,
   "id": "35542893",
   "metadata": {},
   "outputs": [
    {
     "data": {
      "text/plain": [
       "-1"
      ]
     },
     "execution_count": 82,
     "metadata": {},
     "output_type": "execute_result"
    }
   ],
   "source": [
    "S = \"zoomlazapzo\"\n",
    "P = \"oza\"\n",
    "S = 'mpsbqedzsqyskjqydomdanqfmtqri'\n",
    "P = 'rrbqrnbbzyijnwfnimshbjimbfe'\n",
    "smallestWindow(S,P)"
   ]
  },
  {
   "cell_type": "code",
   "execution_count": null,
   "id": "194dce5a",
   "metadata": {},
   "outputs": [],
   "source": []
  },
  {
   "cell_type": "markdown",
   "id": "a8a8708d",
   "metadata": {},
   "source": [
    "### 85. Recursively remove all adjacent duplicates"
   ]
  },
  {
   "cell_type": "raw",
   "id": "77b14017",
   "metadata": {},
   "source": [
    "Given a string S delete the characters which are appearing more than once consecutively.\n",
    "\n",
    "Input:\n",
    "S = aabb\n",
    "Output:  ab \n",
    "Explanation: 'a' at 2nd position is\n",
    "appearing 2nd time consecutively.\n",
    "Similiar explanation for b at\n",
    "4th position."
   ]
  },
  {
   "cell_type": "code",
   "execution_count": 76,
   "id": "dc57f4d3",
   "metadata": {},
   "outputs": [],
   "source": [
    "def removeConsecutiveCharacter(S):\n",
    "    ans = []\n",
    "    i = 0\n",
    "    last = ''\n",
    "    while i < len(S):\n",
    "        \n",
    "        # To handle cases like 'aaaa'\n",
    "        # If current element is same as last appended char then ignore it\n",
    "        if last == S[i]:\n",
    "            i += 1\n",
    "            continue\n",
    "        ans.append(S[i])\n",
    "        last = S[i]\n",
    "        \n",
    "        # If we are at the last char then break the loop\n",
    "        if i == len(S)-1:\n",
    "            break\n",
    "            \n",
    "        # increment pointer by 2 if we found duplicate char else by 1\n",
    "        if S[i] != S[i+1]:\n",
    "            i+=1\n",
    "        else:\n",
    "            i+=2\n",
    "    \n",
    "    return ''.join(ans)"
   ]
  },
  {
   "cell_type": "code",
   "execution_count": 77,
   "id": "9814904d",
   "metadata": {
    "scrolled": true
   },
   "outputs": [
    {
     "name": "stdout",
     "output_type": "stream",
     "text": [
      "a\n"
     ]
    }
   ],
   "source": [
    "print(removeConsecutiveCharacter('aaaa'))\n",
    "#print(removeConsecutiveCharacter('aabaa'))"
   ]
  },
  {
   "cell_type": "code",
   "execution_count": null,
   "id": "23e4ef48",
   "metadata": {},
   "outputs": [],
   "source": []
  },
  {
   "cell_type": "markdown",
   "id": "54a6bcdf",
   "metadata": {},
   "source": [
    "### 86. String matching where one string contains wildcard characters"
   ]
  },
  {
   "cell_type": "raw",
   "id": "49ebbc3a",
   "metadata": {},
   "source": [
    "Given two strings wild and pattern where wild string may contain wild card characters and pattern string is a normal string. Determine if the two strings match. The following are the allowed wild card characters in first string :-\n",
    "\n",
    "* --> This character in string wild can be replaced by any sequence of characters, it can also be replaced by an empty string.\n",
    "? --> This character in string wild can be replaced by any one character.\n",
    "Example 1:\n",
    "\n",
    "Input: wild = ge*ks\n",
    "       pattern = geeks\n",
    "Output: Yes\n",
    "Explanation: Replace the '*' in wild string \n",
    "with 'e' to obtain pattern \"geeks\".\n",
    "Example 2:\n",
    "\n",
    "Input: wild = ge?ks*\n",
    "       pattern = geeksforgeeks\n",
    "Output: Yes\n",
    "Explanation: Replace '?' and '*' in wild string with\n",
    "'e' and 'forgeeks' respectively to obtain pattern \n",
    "\"geeksforgeeks\""
   ]
  },
  {
   "cell_type": "code",
   "execution_count": null,
   "id": "9dad10d4",
   "metadata": {},
   "outputs": [],
   "source": [
    "# Recursive solution:\n",
    "\n",
    "class Solution:\n",
    "    def solve(self,wild,pattern,i,j):\n",
    "        \n",
    "        # If we read both the string means its valid\n",
    "        if i < 0 and j < 0:\n",
    "            return True\n",
    "        \n",
    "        # If wild is over but pattern is still left means its not valid\n",
    "        if i < 0 and j >= 0:\n",
    "            return False\n",
    "        \n",
    "        # If pattern is over but wild is left then it can be valid only if all remaining are '*'\n",
    "        # As '*' can be replaced with empty string as well\n",
    "        if i >= 0 and j < 0:\n",
    "            for k in range(i+1):\n",
    "                if wild[k] != '*':\n",
    "                    return False\n",
    "            return True\n",
    "        \n",
    "        if wild[i] == pattern[j] or wild[i] == '?':\n",
    "            return self.solve(wild,pattern,i-1,j-1)    # both char match\n",
    "        elif wild[i] == '*':\n",
    "            x = self.solve(wild,pattern,i-1,j)         # Replace we empty string\n",
    "            y = self.solve(wild,pattern,i,j-1)         # replace with j\n",
    "            return x or y\n",
    "        else:\n",
    "            return False                               # if both char not match then return False\n",
    "    \n",
    "    def match(self, wild, pattern):\n",
    "        n = len(wild)\n",
    "        m = len(pattern)\n",
    "        i = n-1\n",
    "        j = m-1\n",
    "        return self.solve(wild,pattern,i,j)\n",
    "    \n",
    "# Time comp: Exponential\n",
    "# Space comp:O(N+M)"
   ]
  },
  {
   "cell_type": "code",
   "execution_count": 41,
   "id": "1cb83566",
   "metadata": {},
   "outputs": [],
   "source": [
    "# DP: Top Down appraoch\n",
    "\n",
    "class Solution:\n",
    "    def solve(self,wild,pattern,i,j,table):\n",
    "        if i < 0 and j < 0:\n",
    "            return True\n",
    "        if i < 0 and j >= 0:\n",
    "            return False\n",
    "        if i >= 0 and j < 0:\n",
    "            for k in range(i+1):\n",
    "                if wild[k] != '*':\n",
    "                    return False\n",
    "            return True\n",
    "        \n",
    "        if table[i][j] != None:\n",
    "            return table[i][j]\n",
    "        \n",
    "        if wild[i] == pattern[j] or wild[i] == '?':\n",
    "            table[i][j] = self.solve(wild,pattern,i-1,j-1,table)\n",
    "        elif wild[i] == '*':\n",
    "            x = self.solve(wild,pattern,i-1,j,table)\n",
    "            y = self.solve(wild,pattern,i,j-1,table)\n",
    "            table[i][j] = x or y\n",
    "        else:\n",
    "            table[i][j] = False\n",
    "        \n",
    "        return table[i][j]\n",
    "    \n",
    "    def match(self, wild, pattern):\n",
    "        n = len(wild)\n",
    "        m = len(pattern)\n",
    "        \n",
    "        table = [[None for i in range(m)] for j in range(n)]\n",
    "        \n",
    "        i = n-1\n",
    "        j = m-1\n",
    "        \n",
    "        x = self.solve(wild,pattern,i,j,table)\n",
    "        #print(table)\n",
    "        return x\n",
    "# Time comp:O(N*M)\n",
    "# Space comp:O(N*M)    (Recursion stack:O(N+M))"
   ]
  },
  {
   "cell_type": "code",
   "execution_count": 42,
   "id": "2e38d588",
   "metadata": {},
   "outputs": [
    {
     "data": {
      "text/plain": [
       "False"
      ]
     },
     "execution_count": 42,
     "metadata": {},
     "output_type": "execute_result"
    }
   ],
   "source": [
    "s = Solution()\n",
    "s.match('*pqrs','pqrst')"
   ]
  },
  {
   "cell_type": "code",
   "execution_count": 39,
   "id": "fffcce0e",
   "metadata": {},
   "outputs": [],
   "source": [
    "# DP: Bottom up approach\n",
    "\n",
    "class Solution:\n",
    "    def match(self, wild, pattern):\n",
    "        n = len(wild)\n",
    "        m = len(pattern)\n",
    "        \n",
    "        table = [[None for i in range(m+1)] for j in range(n+1)]\n",
    "        \n",
    "        table[0][0] = True\n",
    "        \n",
    "        for i in range(1,m+1):\n",
    "            table[0][i] = False\n",
    "        \n",
    "        for i in range(1,n+1):\n",
    "            for k in range(i):\n",
    "                if wild[k] != '*':\n",
    "                    table[i][0] = False\n",
    "            if table[i][0] == None:\n",
    "                table[i][0] = True\n",
    "        \n",
    "        for i in range(1,n+1):\n",
    "            for j in range(1,m+1):\n",
    "                if wild[i-1] == pattern[j-1] or wild[i-1] == '?':\n",
    "                    table[i][j] = table[i-1][j-1]\n",
    "                elif wild[i-1] == '*':\n",
    "                    x = table[i-1][j]\n",
    "                    y = table[i][j-1]\n",
    "                    table[i][j] = x or y\n",
    "                else:\n",
    "                    table[i][j] = False\n",
    "        \n",
    "        return table[n][m]\n",
    "    \n",
    "# Time comp:O(N*M)\n",
    "# Space comp:O(N*M)"
   ]
  },
  {
   "cell_type": "code",
   "execution_count": 40,
   "id": "8ac095b0",
   "metadata": {},
   "outputs": [
    {
     "data": {
      "text/plain": [
       "False"
      ]
     },
     "execution_count": 40,
     "metadata": {},
     "output_type": "execute_result"
    }
   ],
   "source": [
    "s = Solution()\n",
    "s.match('*pqrs','pqrst')"
   ]
  },
  {
   "cell_type": "code",
   "execution_count": 43,
   "id": "7d83fafe",
   "metadata": {},
   "outputs": [],
   "source": [
    "# Space optimized\n",
    "\n",
    "class Solution:\n",
    "    def match(self, wild, pattern):\n",
    "        n = len(wild)\n",
    "        m = len(pattern)\n",
    "        \n",
    "        prev = [None for i in range(m+1)]\n",
    "        curr = [None for i in range(m+1)]\n",
    "        prev[0] = True\n",
    "        \n",
    "        for i in range(1,m+1):\n",
    "            prev[i] = False\n",
    "        \n",
    "        for i in range(1,n+1):\n",
    "            \n",
    "            for k in range(i):\n",
    "                if wild[k] != '*':\n",
    "                    curr[0] = False\n",
    "            if curr[0] == None:\n",
    "                curr[0] = True\n",
    "            \n",
    "            \n",
    "            for j in range(1,m+1):\n",
    "                if wild[i-1] == pattern[j-1] or wild[i-1] == '?':\n",
    "                    curr[j] = prev[j-1]\n",
    "                elif wild[i-1] == '*':\n",
    "                    x = prev[j]\n",
    "                    y = curr[j-1]\n",
    "                    curr[j] = x or y\n",
    "                else:\n",
    "                    curr[j] = False\n",
    "            prev = curr[:]\n",
    "\n",
    "        return curr[m]\n",
    "    \n",
    "# Time comp:O(N*M)\n",
    "# Space comp:O(M)"
   ]
  },
  {
   "cell_type": "code",
   "execution_count": null,
   "id": "5d3efce2",
   "metadata": {},
   "outputs": [],
   "source": []
  },
  {
   "cell_type": "markdown",
   "id": "77277724",
   "metadata": {},
   "source": [
    "### 87. Function to find Number of customers who could not get a computer"
   ]
  },
  {
   "cell_type": "raw",
   "id": "66332188",
   "metadata": {},
   "source": [
    "Consider the sequence of customers as [ 1, 2, 3, 2, 3, 1 ] for N = 3 and K = 2.\n",
    "\n",
    "The procedure takes place as follows :\n",
    "1) At the start, Customer 1 comes and finds an available computer and starts using it and now the number of available computers is reduced by 1. \n",
    "\n",
    "2) Customer 2 comes and he is also able to find an available computer and he starts using the computer. Now all the computers are unavailable.\n",
    "\n",
    "3) Customer 3 comes and goes back immediately as there are no computers available currently. \n",
    "\n",
    "4) Customer 2 leaves the cafe making 1 computer available. \n",
    "\n",
    "5) As customer 3 has already left no new computers are made available.\n",
    "\n",
    "6) Customer 1 leaves the cafe and all the computers are again available. \n",
    "\n",
    "As only Customer 3 was unable to find any available computers therefore the answer is 1 for this case"
   ]
  },
  {
   "cell_type": "code",
   "execution_count": 34,
   "id": "e42623be",
   "metadata": {},
   "outputs": [],
   "source": [
    "\"\"\"\n",
    "Maintain the map to keep information of available computer\n",
    "\"\"\"\n",
    "def countCustomers(arr, k):\n",
    "    comp_map = {}     # Map\n",
    "    unserved = []     # Unserved array\n",
    "    \n",
    "    for i in range(len(arr)):\n",
    "        # if customer already served and he is exiting now then delete key from map\n",
    "        if arr[i] in comp_map:\n",
    "            del comp_map[arr[i]]\n",
    "            continue\n",
    "        else:\n",
    "            \n",
    "            # If he is already in unserved then continue\n",
    "            if arr[i] in unserved:\n",
    "                continue\n",
    "            \n",
    "            # if all comp are in used then put customer into unserved else give him a comp\n",
    "            if len(comp_map) < k:\n",
    "                comp_map[arr[i]] = 1\n",
    "            else:\n",
    "                unserved.append(arr[i])\n",
    "    return len(unserved)\n",
    "\n",
    "# Time Comp: O(N)\n",
    "# Space comp: O(N)\n",
    "# solved on : https://www.codingninjas.com/codestudio/problems/count-customers-who-did-not-get-a-computer_1115775?leftPanelTab=0"
   ]
  },
  {
   "cell_type": "code",
   "execution_count": 35,
   "id": "0b740bee",
   "metadata": {},
   "outputs": [
    {
     "name": "stdout",
     "output_type": "stream",
     "text": [
      "3\n"
     ]
    }
   ],
   "source": [
    "#print(countCustomers([1, 3, 2, 1, 2, 3], 2))\n",
    "print(countCustomers([1, 2, 3, 4, 4, 3, 2, 1], 1))\n",
    "#print(countCustomers([1, 2, 1, 2], 2))"
   ]
  },
  {
   "cell_type": "code",
   "execution_count": null,
   "id": "b3deea50",
   "metadata": {},
   "outputs": [],
   "source": []
  },
  {
   "cell_type": "markdown",
   "id": "fe1135f6",
   "metadata": {},
   "source": [
    "### 88. Transform One String to Another using Minimum Number of Given Operation"
   ]
  },
  {
   "cell_type": "raw",
   "id": "a8418912",
   "metadata": {},
   "source": [
    "Professor McGonagall teaches transfiguration at Hogwarts. She has given Harry the task of changing himself into a cat. She explains that the trick is to analyze your own DNA and change it into the DNA of a cat. The transfigure spell can be used to pick any one character from the DNA string, remove it and insert it in the beginning. \n",
    "Help Harry calculates minimum number of times he needs to use the spell to change himself into a cat.\n",
    "\n",
    "Example 1:\n",
    "\n",
    "Input: \n",
    "A = \"GEEKSFORGEEKS\" \n",
    "B = \"FORGEEKSGEEKS\"\n",
    "Output: 3\n",
    "Explanation:The conversion can take place \n",
    "in 3 operations:\n",
    "1. Pick 'R' and place it at the front, \n",
    "   A=\"RGEEKSFOGEEKS\"\n",
    "2. Pick 'O' and place it at the front, \n",
    "   A=\"ORGEEKSFGEEKS\"\n",
    "3. Pick 'F' and place it at the front, \n",
    "   A=\"FORGEEKSGEEKS\""
   ]
  },
  {
   "cell_type": "raw",
   "id": "ff71ca87",
   "metadata": {},
   "source": [
    "1) Find if A can be transformed to B or not by first creating a count array for all characters of A, then checking with B if B has same count for every character. \n",
    "2) Initialize result as 0. \n",
    "3) Start traversing from end of both strings. \n",
    "……a) If current characters of A and B match, i.e., A[i] == B[j] \n",
    "………then do i = i-1 and j = j-1 \n",
    "    b) If current characters don’t match, then search B[j] in remaining \n",
    "………A. While searching, keep incrementing result as these characters \n",
    "………must be moved ahead for A to B transformation."
   ]
  },
  {
   "cell_type": "code",
   "execution_count": 13,
   "id": "35ce79e2",
   "metadata": {},
   "outputs": [],
   "source": [
    "class Solution:\n",
    "    def transfigure(self, A, B): \n",
    "        count = {}\n",
    "        n = len(A)\n",
    "        m = len(B)\n",
    "        \n",
    "        # This three for loop will be used to check whether both the strings are having equal char or not\n",
    "        if n!= m:\n",
    "            return -1\n",
    "        \n",
    "        for i in A:\n",
    "            if i in count:\n",
    "                count[i] += 1\n",
    "            else:\n",
    "                count[i] = 1\n",
    "        \n",
    "        for i in B:\n",
    "            if i in count:\n",
    "                count[i] -= 1\n",
    "            else:\n",
    "                return -1\n",
    "        \n",
    "        for i in count:\n",
    "            if count[i] != 0:\n",
    "                return -1\n",
    "        \n",
    "        ans = 0\n",
    "        i = len(A)-1\n",
    "        j = len(B)-1\n",
    "        while i >= 0:\n",
    "            if A[i] == B[j]:\n",
    "                i -= 1\n",
    "                j -= 1\n",
    "            else:\n",
    "                while i>= 0 and A[i] != B[j]:\n",
    "                    ans += 1\n",
    "                    i -= 1\n",
    "                    \n",
    "        return ans\n",
    "    \n",
    "# time comp:O(N)\n",
    "# Space comp:O(1)"
   ]
  },
  {
   "cell_type": "code",
   "execution_count": 14,
   "id": "126d8dbb",
   "metadata": {},
   "outputs": [
    {
     "data": {
      "text/plain": [
       "3"
      ]
     },
     "execution_count": 14,
     "metadata": {},
     "output_type": "execute_result"
    }
   ],
   "source": [
    "s = Solution()\n",
    "s.transfigure('GEEKSFORGEEKS','FORGEEKSGEEKS')"
   ]
  },
  {
   "cell_type": "raw",
   "id": "ad4e42ee",
   "metadata": {},
   "source": [
    "Variation of the prob:\n",
    "Solved using DP (Longgest common subsequence)\n",
    "\n",
    "Given two strings str1 and str2. The task is to remove or insert the minimum number of characters from/in str1 so as to transform it into str2. It could be possible that the same character needs to be removed/deleted from one point of str1 and inserted to some another point.\n",
    "\n",
    "Input: str1 = \"heap\", str2 = \"pea\"\n",
    "Output: 3\n",
    "Explanation: 2 deletions and 1 insertion\n",
    "p and h deleted from heap. Then, p is \n",
    "inserted at the beginning One thing to \n",
    "note, though p was required yet it was \n",
    "removed/deleted first from its position \n",
    "and then it is inserted to some other \n",
    "position. Thus, p contributes one to the \n",
    "deletion_count and one to the \n",
    "insertion_count."
   ]
  },
  {
   "cell_type": "raw",
   "id": "ef598eaa",
   "metadata": {},
   "source": [
    "The idea here is,\n",
    "Find the Longest common subsequence (lcs) of both the string and let them ass it is.\n",
    "then number of deletions will be n-lcs\n",
    "amd number of insertion will be m-lcs\n",
    "where n and m is length of both the string resp."
   ]
  },
  {
   "cell_type": "code",
   "execution_count": 15,
   "id": "56221090",
   "metadata": {},
   "outputs": [],
   "source": [
    "# DP: Bottom up approach:\n",
    "\n",
    "class Solution:\n",
    "    def minOperations(self, s1, s2):\n",
    "        n1 = len(s1)\n",
    "        n2 = len(s2)\n",
    "        \n",
    "        table = [[0 for i in range(n2+1)] for j in range(n1+1)]\n",
    "        \n",
    "        for i in range(1,n1+1):\n",
    "            for j in range(1,n2+1):\n",
    "                if s1[i-1] == s2[j-1]:\n",
    "                    table[i][j] = 1+table[i-1][j-1]\n",
    "                else:\n",
    "                    table[i][j] = max(table[i-1][j],table[i][j-1])\n",
    "        \n",
    "        \n",
    "        lcs = table[n1][n2]\n",
    "        \n",
    "        return (n1-lcs + n2-lcs)\n",
    "    \n",
    "# Time comp:O(N*M)\n",
    "# Space comp:O(N*M)"
   ]
  },
  {
   "cell_type": "code",
   "execution_count": 17,
   "id": "85d7933a",
   "metadata": {},
   "outputs": [
    {
     "data": {
      "text/plain": [
       "8"
      ]
     },
     "execution_count": 17,
     "metadata": {},
     "output_type": "execute_result"
    }
   ],
   "source": [
    "s = Solution()\n",
    "s.minOperations('geeksforgeeks','geeks')"
   ]
  },
  {
   "cell_type": "code",
   "execution_count": null,
   "id": "9f760535",
   "metadata": {},
   "outputs": [],
   "source": []
  },
  {
   "cell_type": "markdown",
   "id": "4d011da0",
   "metadata": {},
   "source": [
    "### 89. Check if two given strings are isomorphic to each other"
   ]
  },
  {
   "cell_type": "raw",
   "id": "4d40d698",
   "metadata": {},
   "source": [
    "Given two strings s and t, determine if they are isomorphic.\n",
    "\n",
    "Two strings s and t are isomorphic if the characters in s can be replaced to get t.\n",
    "\n",
    "All occurrences of a character must be replaced with another character while preserving the order of characters. No two characters may map to the same character, but a character may map to itself.\n",
    "\n",
    "Input: s = \"egg\", t = \"add\"\n",
    "Output: true\n",
    "\n",
    "Input: s = \"paper\", t = \"title\"\n",
    "Output: true\n",
    "\n",
    "Input: s = \"foo\", t = \"bar\"\n",
    "Output: false"
   ]
  },
  {
   "cell_type": "code",
   "execution_count": 97,
   "id": "2e6c7240",
   "metadata": {},
   "outputs": [],
   "source": [
    "\"\"\"\n",
    "One to one mapping should be from both the sides, thats why we need to use two maps.\n",
    "Watch this video to understand the que: https://www.youtube.com/watch?v=6Qkail843d8\n",
    "\"\"\"\n",
    "\n",
    "def areIsomorphic(str1,str2):\n",
    "    if len(str1) != len(str2):\n",
    "        return 0\n",
    "    \n",
    "    str1_map = {}\n",
    "    str2_map = {}\n",
    "    for i in range(len(str1)):\n",
    "        if str1[i] in str1_map and str1_map[str1[i]] != str2[i]:\n",
    "            return 0\n",
    "        if str2[i] in str2_map and str2_map[str2[i]] != str1[i]:\n",
    "            return 0\n",
    "        str1_map[str1[i]] = str2[i]\n",
    "        str2_map[str2[i]] = str1[i]\n",
    "    return 1\n",
    "\n",
    "# Time Comp: O(N)\n",
    "# Space Comp: O(N)"
   ]
  },
  {
   "cell_type": "code",
   "execution_count": 98,
   "id": "2ac5b1b2",
   "metadata": {},
   "outputs": [
    {
     "name": "stdout",
     "output_type": "stream",
     "text": [
      "2\n",
      "{'p': 'f', 'i': 'v', 'j': 'l', 't': 'a', 'h': 'd', 'b': 'z', 's': 'p', 'f': 'b'}\n",
      "{'f': 'p', 'v': 'i', 'l': 'j', 'a': 't', 'd': 'h', 'z': 'b', 'p': 's', 'b': 'f'}\n",
      "0\n"
     ]
    }
   ],
   "source": [
    "#print(areIsomorphic('egg','add'))\n",
    "#print(areIsomorphic('paper','title'))\n",
    "#print(areIsomorphic('xudzhi','ftakcz'))\n",
    "print(areIsomorphic('pijthbsfy','fvladzpbf'))\n",
    "#print(areIsomorphic('wfca','yssy'))"
   ]
  }
 ],
 "metadata": {
  "kernelspec": {
   "display_name": "Python 3",
   "language": "python",
   "name": "python3"
  },
  "language_info": {
   "codemirror_mode": {
    "name": "ipython",
    "version": 3
   },
   "file_extension": ".py",
   "mimetype": "text/x-python",
   "name": "python",
   "nbconvert_exporter": "python",
   "pygments_lexer": "ipython3",
   "version": "3.9.12"
  }
 },
 "nbformat": 4,
 "nbformat_minor": 5
}
