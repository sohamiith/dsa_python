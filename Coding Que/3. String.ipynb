{
 "cells": [
  {
   "cell_type": "markdown",
   "id": "25c62e51",
   "metadata": {},
   "source": [
    "## String"
   ]
  },
  {
   "cell_type": "markdown",
   "id": "b0c11539",
   "metadata": {},
   "source": [
    "### 48. Reverse a String"
   ]
  },
  {
   "cell_type": "raw",
   "id": "5c2f5aef",
   "metadata": {},
   "source": [
    "Done in reverse the array"
   ]
  },
  {
   "cell_type": "code",
   "execution_count": null,
   "id": "1ea6588a",
   "metadata": {},
   "outputs": [],
   "source": []
  },
  {
   "cell_type": "markdown",
   "id": "08025381",
   "metadata": {},
   "source": [
    "### 49. Check Palindrome String"
   ]
  },
  {
   "cell_type": "raw",
   "id": "a34ea58d",
   "metadata": {},
   "source": [
    "Given a string S, check if it is palindrome or not."
   ]
  },
  {
   "cell_type": "code",
   "execution_count": 5,
   "id": "db2e0222",
   "metadata": {},
   "outputs": [],
   "source": [
    "def isPalindrome(S):\n",
    "    n = len(S)\n",
    "    for i in range(n//2):\n",
    "        if S[i] != S[n-1-i]:\n",
    "            return 0\n",
    "    return 1"
   ]
  },
  {
   "cell_type": "code",
   "execution_count": 7,
   "id": "9843c77e",
   "metadata": {},
   "outputs": [
    {
     "data": {
      "text/plain": [
       "1"
      ]
     },
     "execution_count": 7,
     "metadata": {},
     "output_type": "execute_result"
    }
   ],
   "source": [
    "S = 'abcba'\n",
    "#S = 'abc'\n",
    "isPalindrome(S)"
   ]
  },
  {
   "cell_type": "code",
   "execution_count": null,
   "id": "ad35c1b0",
   "metadata": {},
   "outputs": [],
   "source": []
  },
  {
   "cell_type": "markdown",
   "id": "e759e8d6",
   "metadata": {},
   "source": [
    "### 50. Print all the duplicates in the input string"
   ]
  },
  {
   "cell_type": "code",
   "execution_count": 15,
   "id": "92e68705",
   "metadata": {},
   "outputs": [],
   "source": [
    "def printDup(S):\n",
    "    unordered_map = {}\n",
    "    for i in S:\n",
    "        if i == ' ':\n",
    "            continue\n",
    "\n",
    "        if i in unordered_map:\n",
    "            unordered_map[i] += 1\n",
    "        else:\n",
    "            unordered_map[i] = 1\n",
    "            \n",
    "    for i in unordered_map:\n",
    "        if unordered_map[i] > 1:\n",
    "            print(i,\"->\",unordered_map[i])"
   ]
  },
  {
   "cell_type": "code",
   "execution_count": 16,
   "id": "46c1cc0d",
   "metadata": {},
   "outputs": [
    {
     "name": "stdout",
     "output_type": "stream",
     "text": [
      "t -> 3\n",
      "s -> 2\n"
     ]
    }
   ],
   "source": [
    "S = \"test string\"\n",
    "printDup(S)"
   ]
  },
  {
   "cell_type": "code",
   "execution_count": null,
   "id": "a309fc06",
   "metadata": {},
   "outputs": [],
   "source": []
  },
  {
   "cell_type": "markdown",
   "id": "f21d189a",
   "metadata": {},
   "source": [
    "### 52. Check if strings are rotations of each other or not"
   ]
  },
  {
   "cell_type": "raw",
   "id": "bd4a45c0",
   "metadata": {},
   "source": [
    "Given two strings s1 and s2. The task is to check if s2 is a rotated version of the string s1. The characters in the strings are in lowercase.\n",
    "\n",
    "Input:\n",
    "geeksforgeeks\n",
    "forgeeksgeeks\n",
    "Output: \n",
    "1\n",
    "Explanation: s1 is geeksforgeeks, s2 is\n",
    "forgeeksgeeks. Clearly, s2 is a rotated\n",
    "version of s1 as s2 can be obtained by\n",
    "left-rotating s1 by 5 units."
   ]
  },
  {
   "cell_type": "code",
   "execution_count": 29,
   "id": "b2f89e24",
   "metadata": {},
   "outputs": [],
   "source": [
    "# To check this, append s1 with s1\n",
    "# After that check whether s2 is present in new string or not?\n",
    "# if s2 is there it means both the string are in rotation.\n",
    "\n",
    "def areRotations(s1,s2):\n",
    "    if len(s1) != len(s2):\n",
    "        return 0\n",
    "    \n",
    "    temp = s1+s1\n",
    "    \n",
    "    if temp.count(s2) > 0:\n",
    "        return 1\n",
    "    return 0\n",
    "\n",
    "# Time comp: O(N)\n",
    "# Space Comp: O(N)"
   ]
  },
  {
   "cell_type": "code",
   "execution_count": 31,
   "id": "45444272",
   "metadata": {},
   "outputs": [
    {
     "data": {
      "text/plain": [
       "0"
      ]
     },
     "execution_count": 31,
     "metadata": {},
     "output_type": "execute_result"
    }
   ],
   "source": [
    "s1 = \"geeksforgeeks\"\n",
    "s2 = \"forgeeksgeeks\"\n",
    "s2 = \"forgeeksgeeka\"\n",
    "areRotations(s1,s2)"
   ]
  },
  {
   "cell_type": "code",
   "execution_count": 32,
   "id": "7fad627e",
   "metadata": {},
   "outputs": [],
   "source": [
    "# Another method is to do using queue\n",
    "\n",
    "def areRotations2(s1,s2):\n",
    "    if len(s1) != len(s2):\n",
    "        return 0\n",
    "    \n",
    "    q1 = []\n",
    "    q2 = []\n",
    "    \n",
    "    for i in s1:\n",
    "        q1.append(i)\n",
    "    for i in s2:\n",
    "        q2.append(i)\n",
    "        \n",
    "    for i in range(len(q2)):\n",
    "        x = q2.pop(0)\n",
    "        q2.append(x)\n",
    "        if q1 == q2:\n",
    "            return 1\n",
    "    return 0\n",
    "\n",
    "# Time comp: O(N^2)\n",
    "# Space comp: O(N)  (For queue)"
   ]
  },
  {
   "cell_type": "code",
   "execution_count": 34,
   "id": "6fd64f18",
   "metadata": {},
   "outputs": [
    {
     "data": {
      "text/plain": [
       "1"
      ]
     },
     "execution_count": 34,
     "metadata": {},
     "output_type": "execute_result"
    }
   ],
   "source": [
    "s1 = \"geeksforgeeks\"\n",
    "s2 = \"forgeeksgeeks\"\n",
    "s2 = \"forgeeksgeeka\"\n",
    "areRotations2(s1,s2)"
   ]
  },
  {
   "cell_type": "code",
   "execution_count": null,
   "id": "d29e8472",
   "metadata": {},
   "outputs": [],
   "source": []
  },
  {
   "cell_type": "markdown",
   "id": "519dde4f",
   "metadata": {},
   "source": [
    "### 53. Check if a string is a valid shuffle of two distinct strings"
   ]
  },
  {
   "cell_type": "raw",
   "id": "aebfa726",
   "metadata": {},
   "source": [
    "1XY2 is a valid shuffle of XY and 12\n",
    "Y1X2 is not a valid shuffle of XY and 12\n",
    "Y21XX is not a valid shuffle of XY and 12"
   ]
  },
  {
   "cell_type": "code",
   "execution_count": 6,
   "id": "0266188b",
   "metadata": {},
   "outputs": [],
   "source": [
    "def checkShuffle(a,b,c):\n",
    "    l1 = len(a)\n",
    "    l2 = len(b)\n",
    "    l3 = len(c)\n",
    "    \n",
    "    if l1+l2 != l3:\n",
    "        return 0\n",
    "    \n",
    "    i=0\n",
    "    j=0\n",
    "    k=0\n",
    "    \n",
    "    while k<l3:\n",
    "        if i < l1 and a[i] == c[k]:\n",
    "            i+=1\n",
    "        elif j < l2 and b[j] == c[k]:\n",
    "            j+=1\n",
    "        else:\n",
    "            break\n",
    "        k+=1\n",
    "    if i<l1 or j<l2 or k<l3:\n",
    "        return 0\n",
    "    return 1\n",
    "\n",
    "# Time Comp: O(N)\n",
    "# Space comp: O(1)"
   ]
  },
  {
   "cell_type": "code",
   "execution_count": 7,
   "id": "a76c3883",
   "metadata": {},
   "outputs": [
    {
     "name": "stdout",
     "output_type": "stream",
     "text": [
      "1\n",
      "0\n",
      "0\n"
     ]
    }
   ],
   "source": [
    "print(checkShuffle('XY','12','1XY2'))\n",
    "print(checkShuffle('XY','12','Y1X2'))\n",
    "print(checkShuffle('XY','12','Y21XX'))"
   ]
  },
  {
   "cell_type": "code",
   "execution_count": null,
   "id": "d2b2c0e8",
   "metadata": {},
   "outputs": [],
   "source": []
  },
  {
   "cell_type": "markdown",
   "id": "09df0e0c",
   "metadata": {},
   "source": [
    "### 54. Count and Say "
   ]
  },
  {
   "cell_type": "raw",
   "id": "e3b26c6c",
   "metadata": {},
   "source": [
    "Find the n’th term in Look-and-say (Or Count and Say) Sequence. The look-and-say sequence is the sequence of below integers: \n",
    "1, 11, 21, 1211, 111221, 312211, 13112221, 1113213211,...\n"
   ]
  },
  {
   "cell_type": "code",
   "execution_count": 1,
   "id": "bbf54931",
   "metadata": {},
   "outputs": [],
   "source": [
    "def countAndSay(n):\n",
    "    if n == 1:\n",
    "        return '1'\n",
    "    if n == 2:\n",
    "        return '11'\n",
    "    \n",
    "    s = '11'\n",
    "    for i in range(3,n+1):\n",
    "        s = s+'$'\n",
    "        l = len(s)\n",
    "        count = 1\n",
    "        temp = ''\n",
    "        \n",
    "        for j in range(1,l):\n",
    "            if s[j] == s[j-1]:\n",
    "                count += 1\n",
    "            else:\n",
    "                temp = temp + str(count)\n",
    "                temp = temp + s[j-1]\n",
    "                count = 1\n",
    "        s = temp\n",
    "    return s\n",
    "\n",
    "# Time Comp: O(N)\n",
    "# Space Comp: O(1)"
   ]
  },
  {
   "cell_type": "code",
   "execution_count": 4,
   "id": "ff096075",
   "metadata": {},
   "outputs": [
    {
     "data": {
      "text/plain": [
       "'111221'"
      ]
     },
     "execution_count": 4,
     "metadata": {},
     "output_type": "execute_result"
    }
   ],
   "source": [
    "countAndSay(5)"
   ]
  },
  {
   "cell_type": "code",
   "execution_count": 5,
   "id": "af297ae2",
   "metadata": {},
   "outputs": [],
   "source": [
    "# Same logic by using recursive\n",
    "\n",
    "def countAndSay2(n):\n",
    "    if n == 1:\n",
    "        return '1'\n",
    "    elif n == 2:\n",
    "        return '11'\n",
    "    else:\n",
    "        s = countAndSay(n-1)\n",
    "        s = s+'$'\n",
    "        l = len(s)\n",
    "        count = 1\n",
    "        temp = ''\n",
    "        for j in range(1,l):\n",
    "            if s[j] == s[j-1]:\n",
    "                count += 1\n",
    "            else:\n",
    "                temp = temp + str(count)\n",
    "                temp = temp + s[j-1]\n",
    "                count = 1\n",
    "        s = temp\n",
    "    return s"
   ]
  },
  {
   "cell_type": "code",
   "execution_count": 6,
   "id": "3cbaf07b",
   "metadata": {},
   "outputs": [
    {
     "data": {
      "text/plain": [
       "'111221'"
      ]
     },
     "execution_count": 6,
     "metadata": {},
     "output_type": "execute_result"
    }
   ],
   "source": [
    "countAndSay2(5)"
   ]
  },
  {
   "cell_type": "code",
   "execution_count": null,
   "id": "495f412a",
   "metadata": {},
   "outputs": [],
   "source": []
  },
  {
   "cell_type": "markdown",
   "id": "34d34381",
   "metadata": {},
   "source": [
    "### 55. Longest Palindrome in a String"
   ]
  },
  {
   "cell_type": "raw",
   "id": "e70b9665",
   "metadata": {},
   "source": [
    "Given a string S, find the longest palindromic substring in S. Substring of string S: S[ i . . . . j ] where 0 ≤ i ≤ j < len(S).\n",
    "Input:\n",
    "S = \"aaaabbaa\"\n",
    "Output: aabbaa\n",
    "Explanation: The longest Palindromic\n",
    "substring is \"aabbaa\"."
   ]
  },
  {
   "cell_type": "code",
   "execution_count": 24,
   "id": "e9adc5a4",
   "metadata": {},
   "outputs": [],
   "source": [
    "# Brute force approach\n",
    "# Check all the sub string and find longest palindrome\n",
    "\n",
    "def longestPalin(S):\n",
    "    n = len(S)\n",
    "    ans = ''\n",
    "    if n>0:\n",
    "        ans = S[0]\n",
    "    \n",
    "    def checkPali(s):\n",
    "        l = len(s)\n",
    "        for i in range(l//2):\n",
    "            if s[i] != s[l-i-1]:\n",
    "                return 0\n",
    "        return 1\n",
    "    \n",
    "    for i in range(n):\n",
    "        for j in range(i+1,n):\n",
    "            if checkPali(S[i:j+1]):\n",
    "                if j-i+1 > len(ans):\n",
    "                    ans = S[i:j+1]\n",
    "    return ans\n",
    "\n",
    "# Time Comp: O(N^3)\n",
    "# Space Comp: O(1)"
   ]
  },
  {
   "cell_type": "code",
   "execution_count": 25,
   "id": "5a2afcc2",
   "metadata": {},
   "outputs": [
    {
     "data": {
      "text/plain": [
       "'xyzyx'"
      ]
     },
     "execution_count": 25,
     "metadata": {},
     "output_type": "execute_result"
    }
   ],
   "source": [
    "S = \"aaaabbaa\"\n",
    "S = \"abc\"\n",
    "S = \"xyzyxy\"\n",
    "longestPalin(S)"
   ]
  },
  {
   "cell_type": "code",
   "execution_count": 93,
   "id": "ad83cdb2",
   "metadata": {},
   "outputs": [],
   "source": [
    "# Solution without dynamic programming\n",
    "\n",
    "\"\"\"\n",
    "Stage 1: (For odd length)\n",
    "Here pick a char and consider it as a center of palindrome string and check the length of palindrome\n",
    "by taking two pointers on both the side of that char\n",
    "\n",
    "Stage 2: (For even length)\n",
    "pick two char and consider them as a center of palindrome string and check the length of palindrome\n",
    "by taking two pointers on both the side of that char\n",
    "\"\"\"\n",
    "\n",
    "def longestPalin2(S):\n",
    "    n = len(S)\n",
    "    ans = ''\n",
    "    if n > 0:\n",
    "        ans = S[0]\n",
    "    \n",
    "    # To check odd length palindrome \n",
    "    def checkPeli1(s,i):\n",
    "        p1 = i-1\n",
    "        p2 = i+1\n",
    "        l = len(s)\n",
    "        if p1<0 or p2>=l:\n",
    "            return ''\n",
    "        is_peli = 1\n",
    "        \n",
    "        # Run a loop till both pointers reached to the end of string or we found non palindrome string\n",
    "        while p1 >= 0 and p2 < l:\n",
    "            if s[p1] != s[p2]:\n",
    "                is_peli = 0\n",
    "                break    \n",
    "            p1 -= 1\n",
    "            p2 += 1\n",
    "        \n",
    "        # If current pointer is not palindrome then reduce both the pointers and \n",
    "        if not is_peli or p2 >= l or p1 < 0:\n",
    "            p1 += 1\n",
    "            p2 -= 1\n",
    "        \n",
    "        if p1 == p2:\n",
    "            return s[i]\n",
    "        return s[p1:p2+1]\n",
    "    \n",
    "    # To check even length palindrome\n",
    "    def checkPeli2(s,i,j):\n",
    "        p1 = i-1\n",
    "        p2 = j+1\n",
    "        l = len(s)\n",
    "        if p1<0 or p2>=l:\n",
    "            return s[i:j]\n",
    "        \n",
    "        is_peli = 1\n",
    "        while p1 >= 0 and p2 < l:\n",
    "            if s[p1] != s[p2]:\n",
    "                is_peli = 0\n",
    "                break    \n",
    "            p1 -= 1\n",
    "            p2 += 1\n",
    "        \n",
    "        if not is_peli or p2 >= l or p1 < 0:\n",
    "            p1 += 1\n",
    "            p2 -= 1\n",
    "        if p1 == p2-1:\n",
    "            return s[i:j+1]\n",
    "        return s[p1:p2+1]\n",
    "        \n",
    "    for i in range(n):\n",
    "        temp = checkPeli1(S,i)\n",
    "        if len(temp) > len(ans):\n",
    "            ans = temp\n",
    "        \n",
    "    for i in range(1,n):\n",
    "        if S[i] != S[i-1]:\n",
    "            continue\n",
    "        temp = checkPeli2(S,i-1,i)\n",
    "        \n",
    "        # If fun returen single char then we knew that at least current two char are palindrome so replace them\n",
    "        if len(temp) <= 1:\n",
    "            temp = S[i-1:i+1]\n",
    "        \n",
    "        if len(temp) > len(ans):\n",
    "            ans = temp\n",
    "    return ans\n",
    "\n",
    "# Time Comp: O(N^2)\n",
    "# Space Comp: O(1)"
   ]
  },
  {
   "cell_type": "code",
   "execution_count": 94,
   "id": "ef2d3b3f",
   "metadata": {},
   "outputs": [
    {
     "data": {
      "text/plain": [
       "'ss'"
      ]
     },
     "execution_count": 94,
     "metadata": {},
     "output_type": "execute_result"
    }
   ],
   "source": [
    "S = \"aaaabbaa\"\n",
    "#S = \"abc\"\n",
    "#S = \"xyzyxy\"\n",
    "S = \"qrrc\"\n",
    "S = \"ssyoqcjomwufbdfxudzhiftak\"\n",
    "longestPalin2(S)"
   ]
  },
  {
   "cell_type": "code",
   "execution_count": 97,
   "id": "0ff30929",
   "metadata": {},
   "outputs": [],
   "source": [
    "# Overall same logic but simple code\n",
    "\n",
    "def longestPalSubstr(string):\n",
    "    n = len(string) # calculating size of string\n",
    "    if (n < 2):\n",
    "        return n # if string is empty then size will be 0.\n",
    "                # if n==1 then, answer will be 1(single\n",
    "                # character will always palindrome)\n",
    "    start=0\n",
    "    maxLength = 1\n",
    "    for i in range(n):\n",
    "        low = i - 1\n",
    "        high = i + 1\n",
    "        while (high < n and string[high] == string[i] ):\n",
    "            high=high+1\n",
    "\n",
    "        while (low >= 0 and string[low] == string[i] ):\n",
    "            low=low-1\n",
    "\n",
    "        while (low >= 0 and high < n and string[low] == string[high] ):\n",
    "            low=low-1\n",
    "            high=high+1\n",
    "\n",
    "        length = high - low - 1\n",
    "        if (maxLength < length):\n",
    "            maxLength = length\n",
    "            start=low+1\n",
    "    return string[start:start + maxLength]"
   ]
  },
  {
   "cell_type": "code",
   "execution_count": 100,
   "id": "5de18e98",
   "metadata": {},
   "outputs": [
    {
     "data": {
      "text/plain": [
       "'aabbaa'"
      ]
     },
     "execution_count": 100,
     "metadata": {},
     "output_type": "execute_result"
    }
   ],
   "source": [
    "S = \"aaaabbaa\"\n",
    "#S = \"ssyoqcjomwufbdfxudzhiftak\"\n",
    "longestPalSubstr(S)"
   ]
  },
  {
   "cell_type": "code",
   "execution_count": null,
   "id": "70101e96",
   "metadata": {},
   "outputs": [],
   "source": []
  },
  {
   "cell_type": "markdown",
   "id": "81a12f32",
   "metadata": {},
   "source": [
    "### 56. Find Longest Recurring Subsequence in String"
   ]
  },
  {
   "cell_type": "code",
   "execution_count": null,
   "id": "fd3cba7b",
   "metadata": {},
   "outputs": [],
   "source": []
  },
  {
   "cell_type": "code",
   "execution_count": null,
   "id": "a0b2c7b2",
   "metadata": {},
   "outputs": [],
   "source": []
  },
  {
   "cell_type": "code",
   "execution_count": null,
   "id": "2e2a8daa",
   "metadata": {},
   "outputs": [],
   "source": []
  },
  {
   "cell_type": "markdown",
   "id": "74b2f29e",
   "metadata": {},
   "source": [
    "### 57. Print all unique subsequences of a string"
   ]
  },
  {
   "cell_type": "raw",
   "id": "fccf0cae",
   "metadata": {},
   "source": [
    "Given a string return all unique possible subsequences which start with vowel and end with consonant. A String is a subsequence of a given String, that is generated by deleting some character of a given string without changing its order.\n",
    "NOTE: Return all the unique subsequences in lexicographically sorted order. "
   ]
  },
  {
   "cell_type": "code",
   "execution_count": null,
   "id": "0ae5d188",
   "metadata": {},
   "outputs": [],
   "source": []
  },
  {
   "cell_type": "markdown",
   "id": "181dec17",
   "metadata": {},
   "source": [
    "### 59. Split the Binary string into two substring with equal 0’s and 1’s"
   ]
  },
  {
   "cell_type": "raw",
   "id": "09c5f144",
   "metadata": {},
   "source": [
    "Give a binary string s, return the number of non-empty substrings that have the same number of 0's and 1's, and all the 0's and all the 1's in these substrings are grouped consecutively.\n",
    "\n",
    "Substrings that occur multiple times are counted the number of times they occur.\n",
    "\n",
    "Input: s = \"00110011\"\n",
    "Output: 6\n",
    "Explanation: There are 6 substrings that have equal number of consecutive 1's and 0's: \"0011\", \"01\", \"1100\", \"10\", \"0011\", and \"01\".\n",
    "Notice that some of these substrings repeat and are counted the number of times they occur.\n",
    "Also, \"00110011\" is not a valid substring because all the 0's (and 1's) are not grouped together."
   ]
  },
  {
   "cell_type": "code",
   "execution_count": 24,
   "id": "a4f593b6",
   "metadata": {},
   "outputs": [],
   "source": [
    "# https://www.youtube.com/watch?v=MGPHPadxhtQ\n",
    "\n",
    "def countBinarySubstrings(s):\n",
    "    count = 0\n",
    "    i = 1\n",
    "    prev = 0\n",
    "    curr = 1\n",
    "    while(i<len(s)):\n",
    "        if s[i] == s[i-1]:\n",
    "            curr += 1\n",
    "        else:\n",
    "            count = count + min(prev,curr)\n",
    "            prev = curr\n",
    "            curr = 1\n",
    "        i+=1\n",
    "    count = count + min(prev,curr)\n",
    "    return count\n",
    "\n",
    "# Time Comp: O(N)\n",
    "# Space comp: O(1)"
   ]
  },
  {
   "cell_type": "code",
   "execution_count": 25,
   "id": "30579b77",
   "metadata": {},
   "outputs": [
    {
     "name": "stdout",
     "output_type": "stream",
     "text": [
      "curr: 1\n",
      "prev: 0\n",
      "count: 0\n",
      "curr: 1\n",
      "prev: 1\n",
      "count: 1\n"
     ]
    },
    {
     "data": {
      "text/plain": [
       "1"
      ]
     },
     "execution_count": 25,
     "metadata": {},
     "output_type": "execute_result"
    }
   ],
   "source": [
    "s = '01'\n",
    "countBinarySubstrings(s)"
   ]
  },
  {
   "cell_type": "code",
   "execution_count": 15,
   "id": "6c1e7e03",
   "metadata": {},
   "outputs": [],
   "source": []
  },
  {
   "cell_type": "markdown",
   "id": "4cd968c3",
   "metadata": {},
   "source": [
    "### 63. Balanced Parenthesis problem"
   ]
  },
  {
   "cell_type": "code",
   "execution_count": 19,
   "id": "c76ae914",
   "metadata": {},
   "outputs": [],
   "source": [
    "def ispar(x):\n",
    "    stack = []\n",
    "    \n",
    "    for i in x:\n",
    "        if i in ['{','(','[']:\n",
    "            stack.append(i)\n",
    "        \n",
    "        else:\n",
    "            if len(stack) == 0:\n",
    "                return False\n",
    "            \n",
    "            top = stack.pop()\n",
    "            \n",
    "            if i == '}' and top != '{':\n",
    "                return False\n",
    "            elif i == ')' and top != '(':\n",
    "                return False\n",
    "            elif i == ']' and top != '[':\n",
    "                return False\n",
    "            \n",
    "    if len(stack) != 0:\n",
    "        return False\n",
    "    return True\n",
    "\n",
    "# Time Comp: O(N)\n",
    "# Space Comp: O(N) (Stack)"
   ]
  },
  {
   "cell_type": "code",
   "execution_count": 25,
   "id": "8392d51c",
   "metadata": {},
   "outputs": [
    {
     "data": {
      "text/plain": [
       "True"
      ]
     },
     "execution_count": 25,
     "metadata": {},
     "output_type": "execute_result"
    }
   ],
   "source": [
    "x = '{([])}'\n",
    "ispar(x)"
   ]
  },
  {
   "cell_type": "code",
   "execution_count": null,
   "id": "f2dc3446",
   "metadata": {},
   "outputs": [],
   "source": []
  },
  {
   "cell_type": "markdown",
   "id": "18a6df32",
   "metadata": {},
   "source": [
    "### 74. Longest Common Prefix"
   ]
  },
  {
   "cell_type": "raw",
   "id": "da07c748",
   "metadata": {},
   "source": [
    "Write a function to find the longest common prefix string amongst an array of strings.\n",
    "\n",
    "If there is no common prefix, return an empty string \"\".\n",
    "\n",
    "Input: strs = [\"flower\",\"flow\",\"flight\"]\n",
    "Output: \"fl\""
   ]
  },
  {
   "cell_type": "code",
   "execution_count": 48,
   "id": "9ccc061f",
   "metadata": {},
   "outputs": [],
   "source": [
    "def longestCommonPrefix(strs):\n",
    "    ans = \"\"\n",
    "    l = len(strs)\n",
    "    print(l)\n",
    "    if l == 0:\n",
    "        return \"\"\n",
    "    elif l == 1:\n",
    "        return strs[0]\n",
    "    \n",
    "    str1 = strs[0]\n",
    "    str2 = strs[1]\n",
    "    \n",
    "    p1 = 0\n",
    "    p2 = 0\n",
    "    \n",
    "    while p1<len(str1) and p2<len(str2):\n",
    "        if str1[p1] == str2[p2]:\n",
    "            ans += str1[p1]\n",
    "            p1+=1\n",
    "            p2+=1\n",
    "        else:\n",
    "            break\n",
    "    #return ans\n",
    "    for i in range(2,l):\n",
    "        p1 = 0\n",
    "        if len(strs[i]) == 0:\n",
    "            ans = \"\"\n",
    "            break\n",
    "        while p1<len(strs[i]) and p1<len(ans):\n",
    "            if ans[p1] == strs[i][p1]:\n",
    "                p1+=1\n",
    "                continue\n",
    "            else:\n",
    "                break\n",
    "        ans = ans[0:p1]\n",
    "    return ans\n",
    "\n",
    "# Time comp: O(C) where C is total number of char in all the input string given\n",
    "# Space Comp: O(1)"
   ]
  },
  {
   "cell_type": "code",
   "execution_count": 49,
   "id": "76c1f676",
   "metadata": {},
   "outputs": [
    {
     "name": "stdout",
     "output_type": "stream",
     "text": [
      "3\n"
     ]
    },
    {
     "data": {
      "text/plain": [
       "'fl'"
      ]
     },
     "execution_count": 49,
     "metadata": {},
     "output_type": "execute_result"
    }
   ],
   "source": [
    "strs = [\"flower\",\"flow\",\"flight\"]\n",
    "#strs = [\"dog\",\"racecar\",\"car\"]\n",
    "#strs = [\"cir\",\"car\"]\n",
    "#strs = [\"abab\",\"aba\",\"\"]\n",
    "#strs = [\"ac\",\"ac\",\"a\",\"a\"]\n",
    "longestCommonPrefix(strs)"
   ]
  },
  {
   "cell_type": "code",
   "execution_count": 47,
   "id": "3c8179e8",
   "metadata": {},
   "outputs": [],
   "source": [
    "# Same logic but shorter code\n",
    "\n",
    "def longestCommonPrefix(self, strs):\n",
    "    \"\"\"\n",
    "    :type strs: List[str]\n",
    "    :rtype: str\n",
    "    \"\"\"\n",
    "    if len(strs) == 0:\n",
    "        return \"\"\n",
    "    current = strs[0]\n",
    "    for i in range(1,len(strs)):\n",
    "        temp = \"\"\n",
    "        if len(current) == 0:\n",
    "            break\n",
    "        for j in range(len(strs[i])):\n",
    "            if j<len(current) and current[j] == strs[i][j]:\n",
    "                temp+=current[j]\n",
    "            else:\n",
    "                break\n",
    "        current = temp\n",
    "    return current"
   ]
  },
  {
   "cell_type": "code",
   "execution_count": null,
   "id": "2bbcc415",
   "metadata": {},
   "outputs": [],
   "source": []
  }
 ],
 "metadata": {
  "kernelspec": {
   "display_name": "Python 3 (ipykernel)",
   "language": "python",
   "name": "python3"
  },
  "language_info": {
   "codemirror_mode": {
    "name": "ipython",
    "version": 3
   },
   "file_extension": ".py",
   "mimetype": "text/x-python",
   "name": "python",
   "nbconvert_exporter": "python",
   "pygments_lexer": "ipython3",
   "version": "3.10.4"
  }
 },
 "nbformat": 4,
 "nbformat_minor": 5
}
