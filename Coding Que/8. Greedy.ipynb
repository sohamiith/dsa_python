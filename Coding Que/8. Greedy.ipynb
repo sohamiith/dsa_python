{
 "cells": [
  {
   "cell_type": "markdown",
   "id": "31aa998e",
   "metadata": {},
   "source": [
    "## Greedy"
   ]
  },
  {
   "cell_type": "code",
   "execution_count": null,
   "id": "324dda92",
   "metadata": {},
   "outputs": [],
   "source": []
  },
  {
   "cell_type": "markdown",
   "id": "d51f13c7",
   "metadata": {},
   "source": [
    "### 220. Activity Selection Problem"
   ]
  },
  {
   "cell_type": "raw",
   "id": "43f437e9",
   "metadata": {},
   "source": [
    "Given N activities with their start and finish day given in array start[ ] and end[ ]. Select the maximum number of activities that can be performed by a single person, assuming that a person can only work on a single activity at a given day.\n",
    "Note : Duration of the activity includes both starting and ending day.\n",
    "\n",
    "\n",
    "Example 1:\n",
    "\n",
    "Input:\n",
    "N = 2\n",
    "start[] = {2, 1}\n",
    "end[] = {2, 2}\n",
    "Output: \n",
    "1\n",
    "Explanation:\n",
    "A person can perform only one of the\n",
    "given activities."
   ]
  },
  {
   "cell_type": "code",
   "execution_count": null,
   "id": "bc8de24d",
   "metadata": {},
   "outputs": [],
   "source": [
    "\"\"\"\n",
    "Sort array by their end time\n",
    "Pick job if its start time is greater than end time of running job\n",
    "\"\"\"\n",
    "\n",
    "class Node:\n",
    "    def __init__(self,start,end):\n",
    "        self.start = start\n",
    "        self.end = end\n",
    "\n",
    "class Solution:\n",
    "    def activitySelection(self,n,start,end):\n",
    "        new = []\n",
    "        for i in range(n):\n",
    "            new.append(Node(start[i],end[i]))\n",
    "            \n",
    "        new.sort(key = lambda new:new.end)\n",
    "        \n",
    "        count = 0\n",
    "        running = None\n",
    "        for i in range(n):\n",
    "            if running == None:\n",
    "                running = new[i].end\n",
    "                count += 1\n",
    "            elif running < new[i].start:\n",
    "                running = new[i].end\n",
    "                count += 1\n",
    "                \n",
    "        return count\n",
    "    \n",
    "# Time comp:O(N log N)\n",
    "# Space comp:O(N)   (To make new array)\n",
    "\n",
    "# If given jobs are already sorted by their end time then it will take O(N) time and O(1) space."
   ]
  },
  {
   "cell_type": "code",
   "execution_count": null,
   "id": "24bace8c",
   "metadata": {},
   "outputs": [],
   "source": []
  },
  {
   "cell_type": "markdown",
   "id": "0c048826",
   "metadata": {},
   "source": [
    "### 211. Job SequencingProblem"
   ]
  },
  {
   "cell_type": "raw",
   "id": "52fb525c",
   "metadata": {},
   "source": [
    "Given a set of N jobs where each jobi has a deadline and profit associated with it.\n",
    "\n",
    "Each job takes 1 unit of time to complete and only one job can be scheduled at a time. We earn the profit associated with job if and only if the job is completed by its deadline.\n",
    "\n",
    "Find the number of jobs done and the maximum profit.\n",
    "\n",
    "Note: Jobs will be given in the form (Jobid, Deadline, Profit) associated with that Job.\n",
    "\n",
    "Input:\n",
    "N = 4\n",
    "Jobs = {(1,4,20),(2,1,10),(3,1,40),(4,1,30)}\n",
    "Output:\n",
    "2 60\n",
    "Explanation:\n",
    "Job1 and Job3 can be done with\n",
    "maximum profit of 60 (20+40)."
   ]
  },
  {
   "cell_type": "code",
   "execution_count": null,
   "id": "82faabef",
   "metadata": {},
   "outputs": [],
   "source": [
    "\"\"\"\n",
    "Sort the jobs based on max profit\n",
    "After that pick jobs one by one and put them to as far as available slot as possible as per deadline.\n",
    "\"\"\"\n",
    "\n",
    "class Solution:\n",
    "    def JobScheduling(self,jobs,n):\n",
    "        \n",
    "        # Sort jobs based on profit\n",
    "        jobs.sort(reverse = True, key = lambda jobs:jobs.profit)\n",
    "        \n",
    "        # Finding max deadline\n",
    "        mx = max(jobs, key = lambda jobs:jobs.deadline)\n",
    "        \n",
    "        # Create output array\n",
    "        output = [None for i in range(mx.deadline)]\n",
    "        \n",
    "        for i in range(n):\n",
    "            curr = jobs[i]\n",
    "            deadline = curr.deadline - 1\n",
    "            \n",
    "            # Find as far as possible slot for given job\n",
    "            i = deadline\n",
    "            while i >= 0:\n",
    "                if output[i] == None:\n",
    "                    total_job += 1\n",
    "                    total_prof += curr.profit\n",
    "                    output[i] = curr.profit\n",
    "                    break\n",
    "                i -= 1\n",
    "        \n",
    "        return (total_job,total_prof)\n",
    "    \n",
    "# Time comp:O(N^2)    (sorting: NlogN, find slot for each jobs: O(N^2))\n",
    "# Space comp:O(N)"
   ]
  },
  {
   "cell_type": "code",
   "execution_count": null,
   "id": "c15ea6dd",
   "metadata": {},
   "outputs": [],
   "source": []
  },
  {
   "cell_type": "markdown",
   "id": "7c08bdf1",
   "metadata": {},
   "source": [
    "### 223. Water Connection Problem"
   ]
  },
  {
   "cell_type": "raw",
   "id": "f23686dd",
   "metadata": {},
   "source": [
    "There are n houses and p water pipes in Geek Colony. Every house has at most one pipe going into it and at most one pipe going out of it. Geek needs to install pairs of tanks and taps in the colony according to the following guidelines.  \n",
    "1. Every house with one outgoing pipe but no incoming pipe gets a tank on its roof.\n",
    "2. Every house with only one incoming and no outgoing pipe gets a tap.\n",
    "The Geek council has proposed a network of pipes where connections are denoted by three input values: ai, bi, di denoting the pipe of diameter di from house ai to house bi.\n",
    "Find a more efficient way for the construction of this network of pipes. Minimize the diameter of pipes wherever possible.\n",
    "Note: The generated output will have the following format. The first line will contain t, denoting the total number of pairs of tanks and taps installed. The next t lines contain three integers each: house number of tank, house number of tap, and the minimum diameter of pipe between them.\n",
    "\n",
    "\n",
    "Example 1:\n",
    "\n",
    "Input:\n",
    "n = 9, p = 6\n",
    "a[] = {7,5,4,2,9,3}\n",
    "b[] = {4,9,6,8,7,1}\n",
    "d[] = {98,72,10,22,17,66} \n",
    "Output: \n",
    "3\n",
    "2 8 22\n",
    "3 1 66\n",
    "5 6 10\n",
    "Explanation:\n",
    "Connected components are \n",
    "3->1, 5->9->7->4->6 and 2->8.\n",
    "Therefore, our answer is 3 \n",
    "followed by 2 8 22, 3 1 66, 5 6 10."
   ]
  },
  {
   "cell_type": "code",
   "execution_count": 2,
   "id": "69febd15",
   "metadata": {},
   "outputs": [],
   "source": [
    "class Node:\n",
    "    def __init__(self,f,t,d):\n",
    "        self.f = f\n",
    "        self.to = t\n",
    "        self.diameter = d\n",
    "\n",
    "class Solution:\n",
    "    def solve(self, n, p ,a, b, d): \n",
    "        new = []\n",
    "        hash_map = {}\n",
    "        for i in range(p):\n",
    "            n = Node(a[i],b[i],d[i])\n",
    "            new.append(n)\n",
    "            \n",
    "        for i in range(len(new)):\n",
    "            hash_map[new[i].f] = (new[i].to, new[i].diameter)\n",
    "        \n",
    "\n",
    "        i = 0\n",
    "        while i < len(a):\n",
    "            key = a[i]\n",
    "            if key in hash_map:\n",
    "                val = hash_map[key]\n",
    "            else:\n",
    "                i+=1\n",
    "                continue\n",
    "            \n",
    "            if val[0] in hash_map:\n",
    "                val2 = hash_map[val[0]]\n",
    "                hash_map[key] = (val2[0],min(val[1],val2[1]))\n",
    "                del(hash_map[val[0]])\n",
    "            else:\n",
    "                i+=1\n",
    "         \n",
    "        ans = []\n",
    "        for i in hash_map:\n",
    "            ans.append(list([i, hash_map[i][0], hash_map[i][1]]))\n",
    "            \n",
    "        \n",
    "        ans.sort(key = lambda ans : ans[0])    # Ans was required in sorted order thats why sorting has been used\n",
    "        return ans\n",
    "    \n",
    "# Time comp:O(p)\n",
    "# Space comp:O(p)"
   ]
  },
  {
   "cell_type": "code",
   "execution_count": null,
   "id": "9f12a058",
   "metadata": {},
   "outputs": [],
   "source": []
  },
  {
   "cell_type": "markdown",
   "id": "c0fccfc9",
   "metadata": {},
   "source": [
    "### 224. Fractional Knapsack"
   ]
  },
  {
   "cell_type": "raw",
   "id": "73e3fed2",
   "metadata": {},
   "source": [
    "Given weights and values of N items, we need to put these items in a knapsack of capacity W to get the maximum total value in the knapsack.\n",
    "Note: Unlike 0/1 knapsack, you are allowed to break the item. \n",
    "\n",
    "Example 1:\n",
    "\n",
    "Input:\n",
    "N = 3, W = 50\n",
    "values[] = {60,100,120}\n",
    "weight[] = {10,20,30}\n",
    "Output:\n",
    "240.00\n",
    "Explanation:Total maximum value of item\n",
    "we can have is 240.00 from the given\n",
    "capacity of sack. "
   ]
  },
  {
   "cell_type": "raw",
   "id": "d473cd46",
   "metadata": {},
   "source": [
    "1. Calculate the ratio(value/weight) for each item.\n",
    "2. Sort all the items in decreasing order of the ratio.\n",
    "3. Initialize res =0, curr_cap = given_cap.\n",
    "4. Do the following for every item “i” in the sorted order:\n",
    "\n",
    "while(i.weight){\n",
    "    if(i.weight<=curr_cap)\n",
    "    {\n",
    "        curr_cap -= i.weight;\n",
    "        res += i.value;\n",
    "    }\n",
    "    else\n",
    "    {\n",
    "        res += (i.value * (curr_cap/i.weight));\n",
    "        return res;\n",
    "    }\n",
    "}"
   ]
  },
  {
   "cell_type": "code",
   "execution_count": 1,
   "id": "eeafe3c0",
   "metadata": {},
   "outputs": [],
   "source": [
    "class Node:\n",
    "    def __init__(self,w,value):\n",
    "        self.w = w\n",
    "        self.value = value\n",
    "        self.cost = value/w\n",
    "\n",
    "class Solution:    \n",
    "    #Function to get the maximum total value in the knapsack.\n",
    "    def fractionalknapsack(self, W,Items,n):\n",
    "        new = []\n",
    "        for i in range(n):\n",
    "            new.append(Node(Items[i].weight,Items[i].value))\n",
    "        new.sort(reverse = True ,key = lambda new : new.cost)\n",
    "        \n",
    "        profit = 0\n",
    "        \n",
    "        for i in range(len(new)):\n",
    "            if W <= 0:\n",
    "                break\n",
    "            \n",
    "            if new[i].w <= W:\n",
    "                W -= new[i].w\n",
    "                profit += new[i].value\n",
    "            else:\n",
    "                profit += (new[i].value * (W/new[i].w))\n",
    "                break\n",
    "        \n",
    "        return profit\n",
    "    \n",
    "# Time comp:O(N Log N)\n",
    "# Space comp:O(N)"
   ]
  },
  {
   "cell_type": "code",
   "execution_count": null,
   "id": "b5fa51f6",
   "metadata": {},
   "outputs": [],
   "source": []
  },
  {
   "cell_type": "markdown",
   "id": "c3bea9cf",
   "metadata": {},
   "source": [
    "### 225. Minimum number of Coins"
   ]
  },
  {
   "cell_type": "raw",
   "id": "78f6d208",
   "metadata": {},
   "source": [
    "Given an infinite supply of each denomination of Indian currency { 1, 2, 5, 10, 20, 50, 100, 200, 500, 2000 } and a target value N.\n",
    "Find the minimum number of coins and/or notes needed to make the change for Rs N.\n",
    "\n",
    "\n",
    "Example 1:\n",
    "\n",
    "Input: N = 43\n",
    "Output: 20 20 2 1\n",
    "Explaination: \n",
    "Minimum number of coins and notes needed \n",
    "to make 43. "
   ]
  },
  {
   "cell_type": "code",
   "execution_count": 5,
   "id": "2ddf2ef5",
   "metadata": {},
   "outputs": [],
   "source": [
    "def minPartition(N):\n",
    "    currency = [1,2,5,10,20,50,100,200,500,2000]\n",
    "    ans = []\n",
    "    while N > 0:\n",
    "        largest_small = currency[0]\n",
    "        for i in currency:\n",
    "            if i <= N:\n",
    "                if i > largest_small:\n",
    "                    largest_small = i\n",
    "                    continue\n",
    "            else:\n",
    "                break\n",
    "        ans.append(largest_small)\n",
    "        N -= largest_small\n",
    "    return ans\n",
    "\n",
    "# Time comp:O(N)\n",
    "# Space comp:O(N)   # To store ans, otherwise to store currency:O(10) = O(1)\n",
    "\n",
    "#Also inner loop will run for 10 time at max for each value of N, so time comp:O(N*10) = O(N)"
   ]
  },
  {
   "cell_type": "code",
   "execution_count": 7,
   "id": "6e5b0785",
   "metadata": {},
   "outputs": [
    {
     "data": {
      "text/plain": [
       "[2000, 2000, 500, 500, 1]"
      ]
     },
     "execution_count": 7,
     "metadata": {},
     "output_type": "execute_result"
    }
   ],
   "source": [
    "minPartition(5001)"
   ]
  },
  {
   "cell_type": "code",
   "execution_count": null,
   "id": "734061dc",
   "metadata": {},
   "outputs": [],
   "source": []
  },
  {
   "cell_type": "markdown",
   "id": "412cca09",
   "metadata": {},
   "source": [
    "### 226. Maximum trains for which stoppage can be provided"
   ]
  },
  {
   "cell_type": "raw",
   "id": "d97b75d5",
   "metadata": {},
   "source": [
    "Input : n = 3, m = 6 \n",
    "Train no.|  Arrival Time |Dept. Time | Platform No.\n",
    "    1    |   10:00       |  10:30    |    1\n",
    "    2    |   10:10       |  10:30    |    1\n",
    "    3    |   10:00       |  10:20    |    2\n",
    "    4    |   10:30       |  12:30    |    2\n",
    "    5    |   12:00       |  12:30    |    3\n",
    "    6    |   09:00       |  10:05    |    1\n",
    "Output : Maximum Stopped Trains = 5\n",
    "Explanation : If train no. 1 will left \n",
    "to go without stoppage then 2 and 6 can \n",
    "easily be accommodated on platform 1. \n",
    "And 3 and 4 on platform 2 and 5 on platform 3."
   ]
  },
  {
   "cell_type": "code",
   "execution_count": null,
   "id": "d4a2bca8",
   "metadata": {},
   "outputs": [],
   "source": [
    "\"\"\"\n",
    "Make new array with node of each trains\n",
    "sort array by departure time\n",
    "Traverse each node one by by, if platform is empty assign it\n",
    "else check whether arrival time of curr is greater than departure time of the one which is at platform\n",
    "\"\"\"\n",
    "\n",
    "class Node:\n",
    "    def __init__(self,no,in_time,out_time,platform):\n",
    "        self.n = no,\n",
    "        self.arr = in_time\n",
    "        self.dep = out_time\n",
    "        self.platform = platform\n",
    "\n",
    "def maxStop(trains, n, m):\n",
    "    new = []\n",
    "    \n",
    "    for i in range(n):\n",
    "        temp = Node(i,trains[i][0],trains[i][1],trains[i][2])\n",
    "        new.append(temp)\n",
    "    \n",
    "    new.sort(key = lambda new : new.dep)\n",
    "    platform = [None for i in range(m)]\n",
    "    ans = 0\n",
    "    for i in range(len(new)):\n",
    "        x = new[i]\n",
    "        p = x.platform - 1\n",
    "        if platform[p] == None:\n",
    "            platform[p] = x\n",
    "            ans += 1\n",
    "        elif x.arr >= platform[p].dep:\n",
    "            platform[p] = x\n",
    "            ans += 1\n",
    "    return ans\n",
    "\n",
    "# Time comp:O(N)    (Number of trains in case of sorted data, else O(N log N))\n",
    "# Space comp:O(M)   (Number of platform)"
   ]
  },
  {
   "cell_type": "code",
   "execution_count": null,
   "id": "ae4648f0",
   "metadata": {},
   "outputs": [],
   "source": []
  },
  {
   "cell_type": "markdown",
   "id": "a481f5c0",
   "metadata": {},
   "source": [
    "### 227. Minimum Platforms Problem"
   ]
  },
  {
   "cell_type": "raw",
   "id": "b56cdc95",
   "metadata": {},
   "source": [
    "Given arrival and departure times of all trains that reach a railway station. Find the minimum number of platforms required for the railway station so that no train is kept waiting.\n",
    "Consider that all the trains arrive on the same day and leave on the same day. Arrival and departure time can never be the same for a train but we can have arrival time of one train equal to departure time of the other. At any given instance of time, same platform can not be used for both departure of a train and arrival of another train. In such cases, we need different platforms.\n",
    "\n",
    "\n",
    "Example 1:\n",
    "\n",
    "Input: n = 6 \n",
    "arr[] = {0900, 0940, 0950, 1100, 1500, 1800}\n",
    "dep[] = {0910, 1200, 1120, 1130, 1900, 2000}\n",
    "Output: 3\n",
    "Explanation: \n",
    "Minimum 3 platforms are required to \n",
    "safely arrive and depart all trains."
   ]
  },
  {
   "cell_type": "code",
   "execution_count": null,
   "id": "d67e51be",
   "metadata": {},
   "outputs": [],
   "source": [
    "class Node:\n",
    "    def __init__(self,n,arr,dep):\n",
    "        self.n = n\n",
    "        self.arr = arr\n",
    "        self.dep = dep\n",
    "\n",
    "class Solution:    \n",
    "    #railway station such that no train waits.\n",
    "    def minimumPlatform(self,n,arr,dep):\n",
    "        new = []\n",
    "        for i in range(n):\n",
    "            temp = Node(i,arr[i],dep[i])\n",
    "            new.append(temp)\n",
    "            \n",
    "        new.sort(key = lambda new:new.arr)\n",
    "        \n",
    "        platform = []\n",
    "        \n",
    "        for i in new:\n",
    "            if len(platform) == 0:\n",
    "                platform.append(i)\n",
    "                continue\n",
    "            else:\n",
    "                Flag = True\n",
    "                for j in range(len(platform)):\n",
    "                    if platform[j].dep < i.arr:\n",
    "                        Flag = False\n",
    "                        platform[j] = i\n",
    "                        break\n",
    "                if Flag:\n",
    "                    platform.append(i)\n",
    "        \n",
    "        return len(platform)\n",
    "    \n",
    "# Time comp:O(N^2)     (Since we are finding right platform for all train, it can to to N)\n",
    "# Space comp:O(N)\n",
    "\n",
    "# We can do it in (N log N) time using heap"
   ]
  },
  {
   "cell_type": "code",
   "execution_count": null,
   "id": "d3787bc7",
   "metadata": {},
   "outputs": [],
   "source": []
  },
  {
   "cell_type": "markdown",
   "id": "da5cfb7d",
   "metadata": {},
   "source": [
    "### 228. Buy Maximum Stocks if i stocks can be bought on i-th day"
   ]
  },
  {
   "cell_type": "raw",
   "id": "337e3ca3",
   "metadata": {},
   "source": [
    "In a stock market, there is a product with its infinite stocks. The stock prices are given for N days, where price[i] denotes the price of the stock on the ith day.\n",
    "There is a rule that a customer can buy at most i stock on the ith day.\n",
    "If the customer has an amount of k amount of money initially. The task is to find out the maximum number of stocks a customer can buy. \n",
    "\n",
    "Example 1:\n",
    "\n",
    "Input:\n",
    "price[] = { 10, 7, 19 }\n",
    "k = 45\n",
    "Output: 4\n",
    "Explanation: A customer purchases 1 stock on day 1, \n",
    "2 stocks on day 2 and 1 stock on day 3 for \n",
    "10, 7 * 2 = 14 and 19 respectively. Hence, \n",
    "total amount is 10 + 14 + 19 = 43 and number \n",
    "of stocks purchased is 4."
   ]
  },
  {
   "cell_type": "code",
   "execution_count": 8,
   "id": "09c40cfc",
   "metadata": {},
   "outputs": [],
   "source": [
    "# Sort based on price and keep buying until balance become 0\n",
    "\n",
    "class Node:\n",
    "    def __init__(self,n,price):\n",
    "        self.n = n\n",
    "        self.price = price\n",
    "\n",
    "class Solution:\n",
    "    def buyMaximumProducts(self, n, k, price):\n",
    "        new = []\n",
    "        for i in range(n):\n",
    "            new.append(Node(i+1,price[i]))\n",
    "            \n",
    "        new.sort(key = lambda new:new.price)\n",
    "        mn = min(price)\n",
    "        ans = 0\n",
    "        \n",
    "        for i in range(len(new)):\n",
    "            if k < mn:\n",
    "                break\n",
    "            \n",
    "            curr = new[i]\n",
    "            if (curr.n * curr.price) <= k:\n",
    "                ans += curr.n\n",
    "                k -= curr.n * curr.price\n",
    "                continue\n",
    "            else:\n",
    "                x = k//curr.price\n",
    "                ans += x\n",
    "                k -= x * curr.price\n",
    "        \n",
    "        return ans\n",
    "    \n",
    "# Time comp:O(N log N)    (For sorting)\n",
    "# Space comp:O(N)         (If its given in proper structure then O(1))"
   ]
  },
  {
   "cell_type": "code",
   "execution_count": null,
   "id": "cf440d7c",
   "metadata": {},
   "outputs": [],
   "source": []
  },
  {
   "cell_type": "markdown",
   "id": "fce3b530",
   "metadata": {},
   "source": [
    "### 229. Find the minimum and maximum amount to buy all N candies"
   ]
  },
  {
   "cell_type": "raw",
   "id": "aa10d9a1",
   "metadata": {},
   "source": [
    "In a candy store, there are N different types of candies available and the prices of all the N different types of candies are provided to you.\n",
    "You are now provided with an attractive offer.\n",
    "You can buy a single candy from the store and get at most K other candies ( all are different types ) for free.\n",
    "Now you have to answer two questions. Firstly, you have to find what is the minimum amount of money you have to spend to buy all the N different candies. Secondly, you have to find what is the maximum amount of money you have to spend to buy all the N different candies.\n",
    "In both the cases you must utilize the offer i.e. you buy one candy and get K other candies for free.\n",
    "\n",
    "Input: \n",
    "N = 5\n",
    "K = 4\n",
    "candies[] = {3 2 1 4 5}\n",
    "\n",
    "Output: \n",
    "1 5\n",
    "\n",
    "Explanation:\n",
    "For minimimum cost buy the candy with\n",
    "the cost 1 and get all the other candies\n",
    "for free.\n",
    "For maximum cost buy the candy with\n",
    "the cost 5 and get all other candies\n",
    "for free."
   ]
  },
  {
   "cell_type": "code",
   "execution_count": 9,
   "id": "40ac3bba",
   "metadata": {},
   "outputs": [],
   "source": [
    "# Sort based on the price\n",
    "# For min price, add candies from front and delete K candies from back for each addition\n",
    "# For max price, add candies from back and delete K candies from front for each addition\n",
    "\n",
    "def candyStore(candies,N,K):\n",
    "    candies.sort()\n",
    "    duplicate = candies[:]\n",
    "    duplicate.reverse()\n",
    "    mn = 0\n",
    "    mx = 0\n",
    "\n",
    "    i = 0\n",
    "    while i < len(candies):\n",
    "        mn += candies[i]\n",
    "        i += 1\n",
    "        for _ in range(K):\n",
    "            if len(candies):\n",
    "                candies.pop()\n",
    "\n",
    "    i = 0\n",
    "    while i < len(duplicate):\n",
    "        mx += duplicate[i]\n",
    "        i += 1\n",
    "        for _ in range(K):\n",
    "            if len(duplicate):\n",
    "                duplicate.pop()\n",
    "\n",
    "    return (mn,mx)"
   ]
  },
  {
   "cell_type": "code",
   "execution_count": 10,
   "id": "0180904a",
   "metadata": {},
   "outputs": [
    {
     "data": {
      "text/plain": [
       "(1, 5)"
      ]
     },
     "execution_count": 10,
     "metadata": {},
     "output_type": "execute_result"
    }
   ],
   "source": [
    "candyStore([3,2,1,4,5],5,4)"
   ]
  },
  {
   "cell_type": "code",
   "execution_count": null,
   "id": "11ed1146",
   "metadata": {},
   "outputs": [],
   "source": []
  },
  {
   "cell_type": "markdown",
   "id": "c6f98128",
   "metadata": {},
   "source": [
    "### 230. Minimum Cost to cut a board into squares"
   ]
  },
  {
   "cell_type": "raw",
   "id": "c99b0b5d",
   "metadata": {},
   "source": [
    "A board of length M and width N is given. The task is to break this board into M * N squares such that cost of breaking is minimum. The cutting cost for each edge will be given for the board in two arrays X[] and Y[]. In short, you need to choose such a sequence of cutting such that cost is minimized. Return the minimized cost.\n",
    "\n",
    "Example 1:\n",
    "\n",
    "Input:\n",
    "M = 6. N = 4\n",
    "X[] = {2, 1, 3, 1, 4}\n",
    "Y[] = {4, 1, 2}\n",
    "Output: 42\n",
    "Explanation: \n",
    "\n",
    "For above board optimal way to cut into square is:\n",
    "Total minimum cost in above case is 42. It is \n",
    "evaluated using following steps.\n",
    "Initial Value : Total_cost = 0\n",
    "Total_cost = Total_cost + edge_cost * total_pieces\n",
    "Cost 4 Horizontal cut:      Cost = 0 + 4*1 = 4\n",
    "Cost 4 Vertical cut:        Cost = 4 + 4*2 = 12\n",
    "Cost 3 Vertical cut:        Cost = 12 + 3*2 = 18\n",
    "Cost 2 Horizontal cut:      Cost = 18 + 2*3 = 24\n",
    "Cost 2 Vertical cut:        Cost = 24 + 2*3 = 30\n",
    "Cost 1 Horizontal cut:      Cost = 30 + 1*4 = 34\n",
    "Cost 1 Vertical cut:        Cost = 34 + 1*4 = 38\n",
    "Cost 1 Vertical cut:        Cost = 38 + 1*4 = 42"
   ]
  },
  {
   "cell_type": "code",
   "execution_count": null,
   "id": "45e01ac4",
   "metadata": {},
   "outputs": [],
   "source": [
    "\"\"\"\n",
    "Cut the edge first whose cost is high amoung vertical and horizontal \n",
    "When we will put vertical cut, then value of h will be increae and vice versa\n",
    "\"\"\"\n",
    "\n",
    "def minimumCostOfBreaking(self, X, Y, M, N):\n",
    "        h = 1          # Count horizontal cuts\n",
    "        v = 1          # Count vertical cuts\n",
    "        X.sort(reverse = True)\n",
    "        Y.sort(reverse = True)\n",
    "        cost = 0\n",
    "        i = 0          # To traverse X\n",
    "        j = 0          # To traverse Y\n",
    "        \n",
    "        while i < len(X) or j < len(Y):\n",
    "            \n",
    "            # When X array is traversed completly\n",
    "            if i >= len(X):\n",
    "                cost += Y[j] * h\n",
    "                v += 1\n",
    "                j += 1\n",
    "                continue\n",
    "            \n",
    "            # When Y array is traversed completly\n",
    "            if j >= len(Y):\n",
    "                cost += X[i] * v\n",
    "                h += 1\n",
    "                i += 1\n",
    "                continue\n",
    "            \n",
    "            # If both values are same then select edge which will cost less as per the value of v and h\n",
    "            if X[i] == Y[j]:\n",
    "                if h == v:\n",
    "                    cost += X[i] * v\n",
    "                    h += 1\n",
    "                    i += 1\n",
    "                elif v < h:\n",
    "                    cost += X[i] * v\n",
    "                    h += 1\n",
    "                    i += 1\n",
    "                else:\n",
    "                    cost += Y[j] * h\n",
    "                    v += 1\n",
    "                    j += 1\n",
    "            \n",
    "            # Otherwise take the edge whose cost is high and update the value of h and v accordingly\n",
    "            elif X[i] > Y[j]:\n",
    "                cost += X[i] * v\n",
    "                h += 1\n",
    "                i += 1\n",
    "            else:\n",
    "                cost += Y[j] * h\n",
    "                v += 1\n",
    "                j += 1\n",
    "                \n",
    "        return cost\n",
    "    \n",
    "# Time comp:O(N logN + M logM)\n",
    "# Space comp:O(1)"
   ]
  },
  {
   "cell_type": "code",
   "execution_count": null,
   "id": "67af5459",
   "metadata": {},
   "outputs": [],
   "source": []
  },
  {
   "cell_type": "markdown",
   "id": "b730f38d",
   "metadata": {},
   "source": [
    "### 232. Check if it is possible to survive on Island"
   ]
  },
  {
   "cell_type": "raw",
   "id": "13c924ec",
   "metadata": {},
   "source": [
    "Ishika got stuck on an island. There is only one shop on this island and it is open on all days of the week except for Sunday. Consider following constraints:\n",
    "\n",
    "N – The maximum unit of food you can buy each day.\n",
    "S – Number of days you are required to survive.\n",
    "M – Unit of food required each day to survive.\n",
    "Currently, it’s Monday, and she needs to survive for the next S days.\n",
    "Find the minimum number of days on which you need to buy food from the shop so that she can survive the next S days, or determine that it isn’t possible to survive.\n",
    "\n",
    "Example 1:\n",
    "\n",
    "Input: S = 10, N = 16, M = 2\n",
    "Output: 2\n",
    "Explaination: One possible solution is to \n",
    "buy a box on the first day (Monday), \n",
    "it’s sufficient to eat from this box up to \n",
    "8th day (Monday) inclusive. Now, on the 9th \n",
    "day (Tuesday), you buy another box and use \n",
    "the chocolates in it to survive the 9th and \n",
    "10th day."
   ]
  },
  {
   "cell_type": "code",
   "execution_count": 11,
   "id": "5882c0a0",
   "metadata": {},
   "outputs": [],
   "source": [
    "\"\"\"\n",
    "If M > N then its not possible to servive even one day\n",
    "If M = N then its possible if sunday doesn't comes in between\n",
    "If we need to servive for more than 6 days then diff (N-M)*6 should be less than daily need(M)\n",
    "\"\"\"\n",
    "\n",
    "def minimumDays(S, N, M):\n",
    "    d = N-M\n",
    "    if (M > N) or (M==N and S >= 7) or (S >= 7 and d * 6 < M):\n",
    "        return -1\n",
    "\n",
    "    ans = 0\n",
    "    day = 1\n",
    "    stock = 0\n",
    "    while day <= S:\n",
    "        if stock < M:\n",
    "            stock += N -M\n",
    "            ans += 1\n",
    "        else:\n",
    "            stock -= M\n",
    "\n",
    "        day += 1\n",
    "    return ans\n",
    "\n",
    "# Time comp:O(S)\n",
    "# Space comp:O(1)"
   ]
  },
  {
   "cell_type": "code",
   "execution_count": 17,
   "id": "f2dec051",
   "metadata": {},
   "outputs": [
    {
     "name": "stdout",
     "output_type": "stream",
     "text": [
      "9\n",
      "26\n",
      "-1\n"
     ]
    }
   ],
   "source": [
    "print(minimumDays(10, 7, 6))\n",
    "print(minimumDays(30, 33, 28))\n",
    "print(minimumDays(10, 10, 10))"
   ]
  },
  {
   "cell_type": "code",
   "execution_count": null,
   "id": "dacdda0a",
   "metadata": {},
   "outputs": [],
   "source": [
    "import math\n",
    "class Solution:\n",
    "    def minimumDays(self, S, N, M):\n",
    "        d = N-M\n",
    "        if (M > N) or (M==N and S >= 7) or (S >= 7 and d * 6 < M):\n",
    "            return -1\n",
    "            \n",
    "        return math.ceil((S*M) / N)\n",
    "    \n",
    "# Time comp:O(1)\n",
    "# Space comp:O(1)"
   ]
  },
  {
   "cell_type": "code",
   "execution_count": null,
   "id": "448bc9d2",
   "metadata": {},
   "outputs": [],
   "source": []
  },
  {
   "cell_type": "markdown",
   "id": "d78defd9",
   "metadata": {},
   "source": [
    "### 233. Find maximum meetings in one room"
   ]
  },
  {
   "cell_type": "raw",
   "id": "329f2c7d",
   "metadata": {},
   "source": [
    "There is one meeting room in a firm. There are N meetings in the form of (start[i], end[i]) where start[i] is start time of meeting i and end[i] is finish time of meeting i.\n",
    "What is the maximum number of meetings that can be accommodated in the meeting room when only one meeting can be held in the meeting room at a particular time?\n",
    "\n",
    "Note: Start time of one chosen meeting can't be equal to the end time of the other chosen meeting.\n",
    "\n",
    "Input:\n",
    "N = 6\n",
    "start[] = {1,3,0,5,8,5}\n",
    "end[] =  {2,4,6,7,9,9}\n",
    "Output: \n",
    "4\n",
    "Explanation:\n",
    "Maximum four meetings can be held with\n",
    "given start and end timings.\n",
    "The meetings are - (1, 2),(3, 4), (5,7) and (8,9)"
   ]
  },
  {
   "cell_type": "code",
   "execution_count": null,
   "id": "47fe503a",
   "metadata": {},
   "outputs": [],
   "source": [
    "\"\"\"\n",
    "Make new array of tuples where tuples are if (start,end) of each job.\n",
    "Sort the array based on the end time of job\n",
    "Take jobs with the least end time in sequence if its starting time is greater than end time of prev job \n",
    "\"\"\"\n",
    "\n",
    "class Solution:\n",
    "    def maximumMeetings(self,n,start,end):\n",
    "        \n",
    "        # Make new array of tuples\n",
    "        new = []\n",
    "        for i in range(n):\n",
    "            temp = (start[i],end[i])\n",
    "            new.append(temp)\n",
    "            \n",
    "        # Sort array by select element of tuples\n",
    "        # list.sort(reverse=True|False, key=myFunc)\n",
    "        # lambda arguments: expression\n",
    "        new.sort(key = lambda x : x[1])\n",
    "        \n",
    "        output = 1\n",
    "        prev = new[0][1]\n",
    "        for i in range(1,n):\n",
    "            if new[i][0] > prev:\n",
    "                output+=1\n",
    "                prev = new[i][1]\n",
    "        \n",
    "        return output\n",
    "    \n",
    "# Time comp:O(N log N)\n",
    "# Space comp:O(N)   (To make new array)\n",
    "\n",
    "# If given jobs are already sorted by their end time then it will take O(N) time and O(1) space."
   ]
  },
  {
   "cell_type": "code",
   "execution_count": null,
   "id": "ad86b585",
   "metadata": {},
   "outputs": [],
   "source": []
  },
  {
   "cell_type": "markdown",
   "id": "aa233a9c",
   "metadata": {},
   "source": [
    "### 334. Maximum product subset of an array"
   ]
  },
  {
   "cell_type": "raw",
   "id": "a8678fe5",
   "metadata": {},
   "source": [
    "Given an array A[]. The task is to find the maximum product possible with the subset of elements present in the array. The maximum product can be a single element also.\n",
    "Since the product can be large, return it modulo (10^9 + 7).\n",
    "\n",
    "Example 1:\n",
    "\n",
    "Input:\n",
    "A[] = {-1, -1, -2, 4, 3}\n",
    "Output: 24\n",
    "Explanation: Maximum product will be ( -2 * -1 * 4 * 3 ) = 24"
   ]
  },
  {
   "cell_type": "raw",
   "id": "d6d89a5d",
   "metadata": {},
   "source": [
    "1. If there are even number of negative numbers and no zeros, result is simply product of all\n",
    "2. If there are odd number of negative numbers and no zeros, result is product of all except the negative integer    with the least absolute value.\n",
    "3. If there are zeros, result is product of all except these zeros with one exceptional case. The exceptional case    is when there is one negative number and all other elements are 0. In this case, result is 0."
   ]
  },
  {
   "cell_type": "code",
   "execution_count": 19,
   "id": "0c05590f",
   "metadata": {},
   "outputs": [],
   "source": [
    "def findMaxProduct(a, n):\n",
    "    if n == 1:\n",
    "        return a[0]\n",
    "\n",
    "    max_neg = float('-inf')\n",
    "    count_zero = 0\n",
    "    count_neg = 0\n",
    "    ans = 1\n",
    "\n",
    "    for i in range(n):\n",
    "\n",
    "        if a[i] == 0:\n",
    "            count_zero += 1\n",
    "            continue\n",
    "\n",
    "        if a[i] < 0:\n",
    "            count_neg += 1\n",
    "            max_neg = max(max_neg,a[i])\n",
    "\n",
    "        ans = ans * a[i]\n",
    "\n",
    "    if count_zero == n:\n",
    "        return 0\n",
    "\n",
    "    if count_neg % 2 == 1:\n",
    "        ans = ans // max_neg\n",
    "\n",
    "        if count_neg == 1 and count_zero == n-1:\n",
    "            return 0\n",
    "\n",
    "    return ans % 1000000007    # Since we have to give solution in modulo (10^9 + 7)\n",
    "\n",
    "# Time comp:O(N)\n",
    "# Space comp:O(1)"
   ]
  },
  {
   "cell_type": "code",
   "execution_count": 20,
   "id": "58a41cd7",
   "metadata": {},
   "outputs": [
    {
     "data": {
      "text/plain": [
       "12"
      ]
     },
     "execution_count": 20,
     "metadata": {},
     "output_type": "execute_result"
    }
   ],
   "source": [
    "findMaxProduct([-1,-1,0,4,3], 5)"
   ]
  },
  {
   "cell_type": "raw",
   "id": "f2c36906",
   "metadata": {},
   "source": [
    "One more possible solution is, sort array in reverse order, keep adding element in ans except 0. Also keep count of neg numbers. if total neg are odd then don't add last neg number\n",
    "\n",
    "But it will take O(NlogN) time"
   ]
  },
  {
   "cell_type": "code",
   "execution_count": null,
   "id": "8c1141a5",
   "metadata": {},
   "outputs": [],
   "source": []
  },
  {
   "cell_type": "markdown",
   "id": "13f79baa",
   "metadata": {},
   "source": [
    "### 235. Maximize array sum after K negations"
   ]
  },
  {
   "cell_type": "raw",
   "id": "1a79d9e1",
   "metadata": {},
   "source": [
    "Given an array of integers of size N and a number K., Your must modify array arr[] exactly K number of times. Here modify array means in each operation you can replace any array element either arr[i] by -arr[i] or -arr[i] by arr[i]. You need to perform this operation in such a way that after K operations, the sum of the array must be maximum.\n",
    "\n",
    "Example 2:\n",
    "\n",
    "Input:\n",
    "N = 10, K = 5\n",
    "arr[] = {5, -2, 5, -4, 5, -12, 5, 5, 5, 20}\n",
    "Output:\n",
    "68\n",
    "Explanation:\n",
    "Here  we have k=5 so we turn -2, -4, -12 to\n",
    "2, 4, and 12 respectively. Since we have\n",
    "performed 3 operations so k is now 2. To get\n",
    "maximum sum of array we can turn positive\n",
    "turned 2 into negative and then positive\n",
    "again so k is 0. Now sum is\n",
    "5+5+4+5+12+5+5+5+20+2 = 68"
   ]
  },
  {
   "cell_type": "code",
   "execution_count": 24,
   "id": "5348e818",
   "metadata": {},
   "outputs": [],
   "source": [
    "\"\"\"\n",
    "Sort the array\n",
    "If all numbers are positive then keep negating first element k time and return sum of all\n",
    "Else turn all negative numbers into positive\n",
    "After that sort array and for remaining value of K, keep negating first element of array and return sum\n",
    "\"\"\"\n",
    "\n",
    "def maximizeSum(a, n, k):\n",
    "    a.sort()\n",
    "\n",
    "    if a[0] >= 0:\n",
    "        for i in range(k):\n",
    "            a[0] = a[0] * -1\n",
    "    else:\n",
    "        i = 0\n",
    "        while k:\n",
    "            if i < n and a[i] < 0:\n",
    "                a[i] *= -1\n",
    "                k -= 1\n",
    "                i += 1\n",
    "            else:\n",
    "                break\n",
    "        \n",
    "        if k > 0:\n",
    "            a.sort()\n",
    "            for i in range(k):\n",
    "                a[0] = a[0] * -1\n",
    "\n",
    "    return sum(a)\n",
    "\n",
    "# Time comp:O(N log N)\n",
    "# Space comp:O(1)"
   ]
  },
  {
   "cell_type": "code",
   "execution_count": 25,
   "id": "3c97e2e1",
   "metadata": {},
   "outputs": [
    {
     "data": {
      "text/plain": [
       "24"
      ]
     },
     "execution_count": 25,
     "metadata": {},
     "output_type": "execute_result"
    }
   ],
   "source": [
    "maximizeSum([1,3,-2,-4,-5,5,6],7,4)"
   ]
  },
  {
   "cell_type": "code",
   "execution_count": null,
   "id": "d06a9e8e",
   "metadata": {},
   "outputs": [],
   "source": []
  },
  {
   "cell_type": "markdown",
   "id": "938ec29b",
   "metadata": {},
   "source": [
    "### 336. Maximize sum(arr[i]*i) of an Array"
   ]
  },
  {
   "cell_type": "raw",
   "id": "39bc5e87",
   "metadata": {},
   "source": [
    "Given an array A of N integers. Your task is to write a program to find the maximum value of ∑arr[i]*i, where i = 0, 1, 2,., n 1.\n",
    "You are allowed to rearrange the elements of the array.\n",
    "Note: Since output could be large, hence module 109+7 and then print answer.\n",
    "\n",
    "Input : Arr[] = {5, 3, 2, 4, 1}\n",
    "Output : 40\n",
    "Explanation:\n",
    "If we arrange the array as 1 2 3 4 5 then \n",
    "we can see that the minimum index will multiply\n",
    "with minimum number and maximum index will \n",
    "multiply with maximum number. \n",
    "So 1*0+2*1+3*2+4*3+5*4=0+2+6+12+20 = 40 mod(109+7) = 40"
   ]
  },
  {
   "cell_type": "code",
   "execution_count": 27,
   "id": "2905b998",
   "metadata": {},
   "outputs": [],
   "source": [
    "def Maximize(a, n): \n",
    "    a.sort()\n",
    "    ans = 0\n",
    "    for i in range(n):\n",
    "        x = a[i] * i\n",
    "        ans += x\n",
    "\n",
    "    return ans%1000000007\n",
    "\n",
    "# Time comp:O(N log N)\n",
    "# Space comp:O(1)"
   ]
  },
  {
   "cell_type": "code",
   "execution_count": 28,
   "id": "8b2bf39a",
   "metadata": {},
   "outputs": [
    {
     "data": {
      "text/plain": [
       "40"
      ]
     },
     "execution_count": 28,
     "metadata": {},
     "output_type": "execute_result"
    }
   ],
   "source": [
    "Maximize([5, 3, 2, 4, 1],5)"
   ]
  },
  {
   "cell_type": "code",
   "execution_count": null,
   "id": "b58e400d",
   "metadata": {},
   "outputs": [],
   "source": []
  },
  {
   "cell_type": "markdown",
   "id": "357eeabc",
   "metadata": {},
   "source": [
    "### 237. Maximum sum of absolute difference of an array"
   ]
  },
  {
   "cell_type": "raw",
   "id": "4040f7b6",
   "metadata": {},
   "source": [
    "Given an array, we need to find the maximum sum of absolute difference of any permutation of the given array.\n",
    "Examples: \n",
    " \n",
    "\n",
    "Input : { 1, 2, 4, 8 }\n",
    "Output : 18\n",
    "Explanation : For the given array there are \n",
    "several sequence possible\n",
    "like : {2, 1, 4, 8}\n",
    "       {4, 2, 1, 8} and some more.\n",
    "Now, the absolute difference of an array sequence will be\n",
    "like for this array sequence {1, 2, 4, 8}, the absolute\n",
    "difference sum is \n",
    "= |1-2| + |2-4| + |4-8| + |8-1|\n",
    "= 14\n",
    "For the given array, we get the maximum value for\n",
    "the sequence {1, 8, 2, 4}\n",
    "= |1-8| + |8-2| + |2-4| + |4-1|\n",
    "= 18\n"
   ]
  },
  {
   "cell_type": "raw",
   "id": "2dca8d70",
   "metadata": {},
   "source": [
    "1. We will sort the array. \n",
    "2. Calculate the final sequence by taking one smallest element and largest element from the sorted array and make one vector array of this final sequence. \n",
    "3. Finally, calculate the sum of absolute difference between the elements of the array."
   ]
  },
  {
   "cell_type": "code",
   "execution_count": 36,
   "id": "9c7b982f",
   "metadata": {},
   "outputs": [],
   "source": [
    "def maxAbsSum(arr, n):\n",
    "    arr.sort()\n",
    "    new = []\n",
    "    for i in range(int(n/2)):\n",
    "        new.append(arr[i])\n",
    "        new.append(arr[n-i-1])\n",
    "        \n",
    "    if n % 2 != 0:\n",
    "        new.append(arr[n//2 + 1])\n",
    "        \n",
    "    ans = 0\n",
    "    for i in range(n-1):\n",
    "        ans += abs(new[i] - new[i+1])\n",
    "        \n",
    "    ans += abs(new[0]-new[n-1])\n",
    "    return ans\n",
    "\n",
    "# Time comp:O(N log N)\n",
    "# Space comp:O(N)"
   ]
  },
  {
   "cell_type": "code",
   "execution_count": 38,
   "id": "7166e9f6",
   "metadata": {},
   "outputs": [
    {
     "name": "stdout",
     "output_type": "stream",
     "text": [
      "16\n",
      "12\n",
      "24\n",
      "4\n",
      "4\n"
     ]
    }
   ],
   "source": [
    "print(maxAbsSum([1,2,8,3],4))\n",
    "print(maxAbsSum([1,2,3,4,5],5))\n",
    "print(maxAbsSum([3,4,2,9,1,5],6))\n",
    "print(maxAbsSum([1,3],2))\n",
    "print(maxAbsSum([10,12],2))"
   ]
  },
  {
   "cell_type": "code",
   "execution_count": null,
   "id": "b354df05",
   "metadata": {},
   "outputs": [],
   "source": []
  },
  {
   "cell_type": "markdown",
   "id": "38cc610f",
   "metadata": {},
   "source": [
    "### 238. Maximize sum of consecutive differences in a circular array"
   ]
  },
  {
   "cell_type": "raw",
   "id": "b38859ab",
   "metadata": {},
   "source": [
    "Same as above"
   ]
  },
  {
   "cell_type": "code",
   "execution_count": null,
   "id": "e931de91",
   "metadata": {},
   "outputs": [],
   "source": []
  },
  {
   "cell_type": "markdown",
   "id": "c2ee5b96",
   "metadata": {},
   "source": [
    "### 239. Minimum sum of absolute difference of pairs of two arrays"
   ]
  },
  {
   "cell_type": "raw",
   "id": "b34772b1",
   "metadata": {},
   "source": [
    "You are given two arrays A and B of equal length N. Your task is to pair each element of array A to an element in array B, such that the sum of the absolute differences of all the pairs is minimum.\n",
    "\n",
    "Example 1:\n",
    "\n",
    "Input:\n",
    "N = 4\n",
    "A = {4,1,8,7}\n",
    "B = {2,3,6,5}\n",
    "Output:\n",
    "6\n",
    "Explanation:\n",
    "If we take the pairings as (1,2), (4,3),\n",
    "(7,5), and (8,6), the sum will be S =\n",
    "|1 - 2| + |4 - 3| + |7 - 5| + |8 - 6| = 6.\n",
    "It can be shown that this is the minimum sum we can get."
   ]
  },
  {
   "cell_type": "code",
   "execution_count": 39,
   "id": "3311bda6",
   "metadata": {},
   "outputs": [],
   "source": [
    "def findMinSum(self, A,B,N):\n",
    "    A.sort()\n",
    "    B.sort()\n",
    "\n",
    "    ans = 0\n",
    "    for i in range(N):\n",
    "        ans += abs(A[i]-B[i])\n",
    "\n",
    "    return ans\n",
    "\n",
    "# Time comp:O(N log N)\n",
    "# Space comp:O(1)"
   ]
  },
  {
   "cell_type": "code",
   "execution_count": null,
   "id": "63ac0c02",
   "metadata": {},
   "outputs": [],
   "source": []
  },
  {
   "cell_type": "markdown",
   "id": "6f0a6132",
   "metadata": {},
   "source": [
    "### 241. Program for Least Recently Used (LRU) Page Replacement algorithm"
   ]
  },
  {
   "cell_type": "raw",
   "id": "12e87733",
   "metadata": {},
   "source": [
    "Input: N = 9, C = 4\n",
    "pages = {5, 0, 1, 3, 2, 4, 1, 0, 5}\n",
    "Output: 8\n",
    "Explaination: memory allocated with 4 pages 5, 0, 1, \n",
    "3: page fault = 4\n",
    "page number 2 is required, replaces LRU 5: \n",
    "page fault = 4+1 = 5\n",
    "page number 4 is required, replaces LRU 0: \n",
    "page fault = 5 + 1 = 6\n",
    "page number 1 is required which is already present: \n",
    "page fault = 6 + 0 = 6\n",
    "page number 0 is required which replaces LRU 3: \n",
    "page fault = 6 + 1 = 7\n",
    "page number 5 is required which replaces LRU 2: \n",
    "page fault = 7 + 1  = 8."
   ]
  },
  {
   "cell_type": "code",
   "execution_count": 42,
   "id": "950f4e00",
   "metadata": {},
   "outputs": [],
   "source": [
    "# Used hash map here {page:index}\n",
    "# If capacity is full then find victim such that index in least among all and replace it\n",
    "\n",
    "def pageFaults(N, C, pages):\n",
    "    hash_map = {}\n",
    "    page_fault = 0\n",
    "\n",
    "    for i in range(N):\n",
    "        if pages[i] in hash_map:\n",
    "            hash_map[pages[i]] = i\n",
    "        else:\n",
    "            if len(hash_map) < C:\n",
    "                hash_map[pages[i]] = i\n",
    "                page_fault += 1\n",
    "            else:\n",
    "                victim = None\n",
    "                for j in hash_map:\n",
    "                    if victim == None:\n",
    "                        victim = j\n",
    "                    else:\n",
    "                        if hash_map[j] < hash_map[victim]:\n",
    "                            victim = j\n",
    "                del(hash_map[victim])\n",
    "                hash_map[pages[i]] = i\n",
    "                page_fault += 1\n",
    "    return page_fault\n",
    "\n",
    "# Time comp:O(N*C)\n",
    "# Space comp:O(C)"
   ]
  },
  {
   "cell_type": "code",
   "execution_count": 43,
   "id": "db1deb1c",
   "metadata": {},
   "outputs": [
    {
     "data": {
      "text/plain": [
       "8"
      ]
     },
     "execution_count": 43,
     "metadata": {},
     "output_type": "execute_result"
    }
   ],
   "source": [
    "pageFaults(9, 4, [5,0,1,3,2,4,1,0,5])"
   ]
  },
  {
   "cell_type": "code",
   "execution_count": null,
   "id": "55a9b531",
   "metadata": {},
   "outputs": [],
   "source": []
  },
  {
   "cell_type": "markdown",
   "id": "e6535b1f",
   "metadata": {},
   "source": [
    "### 242. Smallest subset with sum greater than all other elements"
   ]
  },
  {
   "cell_type": "raw",
   "id": "c1651002",
   "metadata": {},
   "source": [
    "Input:\n",
    "N = 5\n",
    "Arr[] = {4,3,1,0,2}\n",
    "Output:\n",
    "2\n",
    "Explanation:\n",
    "If we just select 4 and 3 from the array, \n",
    "the sum will be (4+3) = 7 and the sum of \n",
    "the rest of the elements will be (2+0+1)=3. \n",
    "So, the answer will be 2. We can also \n",
    "select 4 and 2 as well."
   ]
  },
  {
   "cell_type": "code",
   "execution_count": 44,
   "id": "1cdf721e",
   "metadata": {},
   "outputs": [],
   "source": [
    "def minSubset(A,N):\n",
    "    A = sorted(A)\n",
    "    s = sum(A)\n",
    "    s_s = 0\n",
    "    ans = 0\n",
    "    for i in range(N-1,-1,-1):\n",
    "        if s_s > s:\n",
    "            break\n",
    "        s_s += A[i]\n",
    "        s -= A[i]\n",
    "        ans += 1\n",
    "    return ans\n",
    "\n",
    "# Time comp:O(N log N)\n",
    "# Space comp:O(1)"
   ]
  },
  {
   "cell_type": "code",
   "execution_count": null,
   "id": "777118c0",
   "metadata": {},
   "outputs": [],
   "source": []
  },
  {
   "cell_type": "markdown",
   "id": "8f522d1c",
   "metadata": {},
   "source": [
    "### 243. Chocolate Distribution Problem"
   ]
  },
  {
   "cell_type": "raw",
   "id": "99a1cc02",
   "metadata": {},
   "source": [
    "Same as que 30 (Array)"
   ]
  },
  {
   "cell_type": "code",
   "execution_count": null,
   "id": "a6a7d0b5",
   "metadata": {},
   "outputs": [],
   "source": []
  },
  {
   "cell_type": "markdown",
   "id": "ac39f351",
   "metadata": {},
   "source": [
    "### 244. Defense of a Kingdom"
   ]
  },
  {
   "cell_type": "code",
   "execution_count": 68,
   "id": "501c47fb",
   "metadata": {},
   "outputs": [],
   "source": [
    "# https://www.codechef.com/submit/WCE0004?tab=statement"
   ]
  },
  {
   "cell_type": "code",
   "execution_count": 67,
   "id": "3f1e032b",
   "metadata": {},
   "outputs": [
    {
     "name": "stdout",
     "output_type": "stream",
     "text": [
      "1\n",
      "15 8 3\n",
      "3 8\n",
      "11 2\n",
      "8 6\n",
      "12\n"
     ]
    }
   ],
   "source": [
    "t = int(input())\n",
    "for i in range(t):\n",
    "    x,y,z = map(int,input().split(' '))\n",
    "    if z == 0:\n",
    "        print(x*y)\n",
    "    \n",
    "    row = [0]\n",
    "    column = [0]\n",
    "    \n",
    "    for j in range(z):\n",
    "        r,c = map(int,input().split(' '))\n",
    "        row.append(r)\n",
    "        column.append(c)\n",
    "    \n",
    "    row.append(x+1)\n",
    "    column.append(y+1)\n",
    "    \n",
    "    row.sort()\n",
    "    column.sort()\n",
    "    \n",
    "    row_diff = 0\n",
    "    cal_diff = 0\n",
    "    \n",
    "    for j in range(1,len(row)):\n",
    "        row_diff = max(row_diff,row[j]-row[j-1])\n",
    "        cal_diff = max(cal_diff,column[j]-column[j-1])\n",
    "        \n",
    "    print((row_diff-1) * (cal_diff-1))\n",
    "    \n",
    "# Time comp:O(N logN)\n",
    "# Space comp:O(1)"
   ]
  },
  {
   "cell_type": "code",
   "execution_count": null,
   "id": "4d163305",
   "metadata": {},
   "outputs": [],
   "source": []
  },
  {
   "cell_type": "markdown",
   "id": "76f5903c",
   "metadata": {},
   "source": [
    "### 245. DIEHARD - DIE HARD"
   ]
  },
  {
   "cell_type": "code",
   "execution_count": 69,
   "id": "1d6463fb",
   "metadata": {},
   "outputs": [],
   "source": [
    "# https://www.spoj.com/problems/DIEHARD/"
   ]
  },
  {
   "cell_type": "code",
   "execution_count": 70,
   "id": "7d2dd302",
   "metadata": {},
   "outputs": [
    {
     "name": "stdout",
     "output_type": "stream",
     "text": [
      "3\n",
      "2 10\n",
      "1\n",
      "4 4\n",
      "1\n",
      "20 8\n",
      "5\n"
     ]
    }
   ],
   "source": [
    "def countUnit(h,a):\n",
    "    time = 0\n",
    "    while True:\n",
    "        if h <= 0 or a <= 0:\n",
    "            break\n",
    "            \n",
    "        if time % 2 == 0:\n",
    "            h += 3\n",
    "            a += 2\n",
    "        else:\n",
    "            if a>10:\n",
    "                h -= 5\n",
    "                a -= 10\n",
    "            else:\n",
    "                h -= 20\n",
    "                a += 5\n",
    "        time += 1\n",
    "    return time-1\n",
    "\n",
    "t = int(input())\n",
    "for i in range(t):\n",
    "    x,y = map(int,input().split(' '))\n",
    "    print(countUnit(x,y))\n",
    "    \n",
    "# Time comp:O(N)\n",
    "# Space comp:O(1)"
   ]
  },
  {
   "cell_type": "code",
   "execution_count": null,
   "id": "dd4b28dc",
   "metadata": {},
   "outputs": [],
   "source": []
  },
  {
   "cell_type": "markdown",
   "id": "2781e242",
   "metadata": {},
   "source": [
    "### 246. Wine trading in Gergovia"
   ]
  },
  {
   "cell_type": "raw",
   "id": "734996c2",
   "metadata": {},
   "source": [
    "https://www.spoj.com/problems/GERGOVIA/"
   ]
  },
  {
   "cell_type": "code",
   "execution_count": 77,
   "id": "7f0bd12b",
   "metadata": {},
   "outputs": [
    {
     "name": "stdout",
     "output_type": "stream",
     "text": [
      "5\n",
      "5 -4 1 -3 1\n",
      "9\n",
      "6\n",
      "-1000 -1000 -1000 1000 1000 1000\n",
      "9000\n",
      "0\n"
     ]
    }
   ],
   "source": [
    "def countWork(arr):\n",
    "    buy = []\n",
    "    sell = []\n",
    "    \n",
    "    for i in range(len(arr)):\n",
    "        if int(arr[i]) == 0:\n",
    "            continue\n",
    "        \n",
    "        if int(arr[i]) < 0:\n",
    "            temp = [int(arr[i]),i]\n",
    "            sell.append(list(temp))\n",
    "        else:\n",
    "            temp = [int(arr[i]),i]\n",
    "            buy.append(list(temp))\n",
    "    \n",
    "    ans = 0\n",
    "    i = 0\n",
    "    j = 0\n",
    "    \n",
    "    while i<len(buy) and j<len(sell):\n",
    "        x = min(buy[i][0],sell[j][0]*-1)\n",
    "        buy[i][0] -= x\n",
    "        sell[j][0] += x\n",
    "        \n",
    "        d = abs(buy[i][1]-sell[j][1])\n",
    "        ans += (x*d)\n",
    "        \n",
    "        if buy[i][0] == 0:\n",
    "            i+=1\n",
    "        if sell[j][0] == 0:\n",
    "            j += 1\n",
    "            \n",
    "    return ans\n",
    "    \n",
    "\n",
    "while True:\n",
    "    n = int(input())\n",
    "    if n == 0:\n",
    "        break\n",
    "    arr = []\n",
    "    arr = input().split()\n",
    "    print(countWork(arr))\n",
    "\n",
    "# Time comp:O(N)\n",
    "# Space comp:O(N)"
   ]
  },
  {
   "cell_type": "code",
   "execution_count": 75,
   "id": "3c394113",
   "metadata": {},
   "outputs": [
    {
     "data": {
      "text/plain": [
       "9"
      ]
     },
     "execution_count": 75,
     "metadata": {},
     "output_type": "execute_result"
    }
   ],
   "source": [
    "countWork([5,-4,1,-3,1])"
   ]
  },
  {
   "cell_type": "code",
   "execution_count": null,
   "id": "8fbda3f7",
   "metadata": {},
   "outputs": [],
   "source": []
  },
  {
   "cell_type": "code",
   "execution_count": null,
   "id": "1ef860d0",
   "metadata": {},
   "outputs": [],
   "source": []
  },
  {
   "cell_type": "markdown",
   "id": "13524498",
   "metadata": {},
   "source": [
    "### 251. Minimum Cost of ropes"
   ]
  },
  {
   "cell_type": "raw",
   "id": "e02fe9fa",
   "metadata": {},
   "source": [
    "There are given N ropes of different lengths, we need to connect these ropes into one rope. The cost to connect two ropes is equal to sum of their lengths. The task is to connect the ropes with minimum cost.\n",
    "\n",
    "Input:\n",
    "n = 4\n",
    "arr[] = {4, 3, 2, 6}\n",
    "Output: \n",
    "29\n",
    "Explanation:\n",
    "For example if we are given 4\n",
    "ropes of lengths 4, 3, 2 and 6. We can\n",
    "connect the ropes in following ways.\n",
    "1) First connect ropes of lengths 2 and 3.\n",
    "Now we have three ropes of lengths 4, 6\n",
    "and 5.\n",
    "2) Now connect ropes of lengths 4 and 5.\n",
    "Now we have two ropes of lengths 6 and 9.\n",
    "3) Finally connect the two ropes and all\n",
    "ropes have connected.\n",
    "Total cost for connecting all ropes is 5\n",
    "+ 9 + 15 = 29. This is the optimized cost\n",
    "for connecting ropes. Other ways of\n",
    "connecting ropes would always have same\n",
    "or more cost. For example, if we connect\n",
    "4 and 6 first (we get three strings of 3,\n",
    "2 and 10), then connect 10 and 3 (we get\n",
    "two strings of 13 and 2). Finally we\n",
    "connect 13 and 2. Total cost in this way\n",
    "is 10 + 13 + 15 = 38."
   ]
  },
  {
   "cell_type": "code",
   "execution_count": 52,
   "id": "226f9dbb",
   "metadata": {},
   "outputs": [],
   "source": [
    "from queue import PriorityQueue\n",
    "def minCost(arr,n) :\n",
    "    q = PriorityQueue()\n",
    "    for i in range(n):\n",
    "        q.put(arr[i])\n",
    "\n",
    "    ans = 0\n",
    "    while q.qsize() > 1:\n",
    "        x = q.get()\n",
    "        y = q.get()\n",
    "        z = x+y\n",
    "        ans += z\n",
    "        q.put(z)\n",
    "\n",
    "    return ans\n",
    "    \n",
    "# Time comp:O(N log N)    (Since we have used priority queue)\n",
    "# Space comp:O(N)"
   ]
  },
  {
   "cell_type": "code",
   "execution_count": 54,
   "id": "26151e24",
   "metadata": {},
   "outputs": [
    {
     "name": "stdout",
     "output_type": "stream",
     "text": [
      "29\n",
      "62\n"
     ]
    }
   ],
   "source": [
    "print(minCost([4,3,2,6],4))\n",
    "print(minCost([4,2,7,6,9],5))"
   ]
  },
  {
   "cell_type": "code",
   "execution_count": null,
   "id": "c80d1f75",
   "metadata": {},
   "outputs": [],
   "source": [
    "# Using heap\n",
    "\n",
    "import heapq\n",
    "class Solution:\n",
    "    def minCost(self,arr,n) :\n",
    "        heapq.heapify(arr)\n",
    "        res = 0\n",
    "        \n",
    "        while(len(arr) > 1):\n",
    "            first = heapq.heappop(arr)\n",
    "            second = heapq.heappop(arr)\n",
    "\n",
    "            res += first + second\n",
    "            heapq.heappush(arr, first + second)\n",
    "             \n",
    "        return res\n",
    "    \n",
    "# Time comp:O(N log N)    (Since we have used heap)\n",
    "# Space comp:O(N)"
   ]
  },
  {
   "cell_type": "code",
   "execution_count": null,
   "id": "46ce14af",
   "metadata": {},
   "outputs": [],
   "source": []
  },
  {
   "cell_type": "markdown",
   "id": "d0ecdac1",
   "metadata": {},
   "source": [
    "### 252. Smallest number "
   ]
  },
  {
   "cell_type": "raw",
   "id": "fdef9e41",
   "metadata": {},
   "source": [
    "The task is to find the smallest number with given sum of digits as S and number of digits as D.\n",
    "\n",
    "Input:\n",
    "S = 20\n",
    "D = 3\n",
    "Output:\n",
    "299\n",
    "Explanation:\n",
    "299 is the smallest number\n",
    "possible with sum = 20\n",
    "and total digits = 3."
   ]
  },
  {
   "cell_type": "code",
   "execution_count": 59,
   "id": "e6f13269",
   "metadata": {},
   "outputs": [],
   "source": [
    "# https://www.youtube.com/watch?v=H7iqIjbWty4\n",
    "\n",
    "\"\"\"\n",
    "There is a Greedy approach to solve the problem. \n",
    "The idea is to one by one fill all digits from rightmost to leftmost. \n",
    "We initially deduct 1 from sum s so that we have smallest digit at the end. \n",
    "After deducting 1, we apply greedy approach. \n",
    "We compare remaining sum with 9, \n",
    "if remaining sum is more than 9, we put 9 at the current position, else we put the remaining sum. \n",
    "Since we fill digits from right to left, we put the highest digits on the right side.\n",
    "\"\"\"\n",
    "\n",
    "def smallestNumber(S, D):\n",
    "    if D == 1 and S <= 9:\n",
    "        return S\n",
    "    if D*9 < S:\n",
    "        return -1\n",
    "\n",
    "    res = [None for i in range(D)]\n",
    "\n",
    "    S = S-1\n",
    "\n",
    "    for i in range(D-1,0,-1):\n",
    "        if S > 9:\n",
    "            res[i] = 9\n",
    "            S -= 9\n",
    "        else:\n",
    "            res[i] = S\n",
    "            S = 0\n",
    "\n",
    "    res[0] = S + 1\n",
    "\n",
    "    ans = 0\n",
    "    for i in res:\n",
    "        ans = (ans * 10) + i\n",
    "    return ans\n",
    "\n",
    "# Time comp:O(D)\n",
    "# Space comp:O(D)"
   ]
  },
  {
   "cell_type": "code",
   "execution_count": 60,
   "id": "a335db55",
   "metadata": {},
   "outputs": [
    {
     "data": {
      "text/plain": [
       "10199"
      ]
     },
     "execution_count": 60,
     "metadata": {},
     "output_type": "execute_result"
    }
   ],
   "source": [
    "smallestNumber (20, 5)"
   ]
  },
  {
   "cell_type": "code",
   "execution_count": null,
   "id": "bb815a77",
   "metadata": {},
   "outputs": [],
   "source": []
  },
  {
   "cell_type": "markdown",
   "id": "24ff7dfe",
   "metadata": {},
   "source": [
    "### 253. Rearrange characters in a string such that no two adjacent are same"
   ]
  },
  {
   "cell_type": "raw",
   "id": "0573a104",
   "metadata": {},
   "source": [
    "Given a string S with repeated characters. The task is to rearrange characters in a string such that no two adjacent characters are the same.\n",
    "Note: The string has only lowercase English alphabets and it can have multiple solutions. Return any one of them.\n",
    "\n",
    "Example 1:\n",
    "\n",
    "Input : str = \"geeksforgeeks\"\n",
    "Output: 1  (return updated string)\n",
    "Explanation: All the repeated characters of the\n",
    "given string can be rearranged so that no \n",
    "adjacent characters in the string is equal.\n",
    "Any correct rearrangement will show a output\n",
    "of 1."
   ]
  },
  {
   "cell_type": "code",
   "execution_count": 63,
   "id": "00e796e8",
   "metadata": {},
   "outputs": [],
   "source": [
    "\"\"\"\n",
    "Idea is to create a hash_map with the freq of each char as value and char as key.\n",
    "Find the char with highest freq. If its greater that length/2 then not possible and return -1\n",
    "else put the char with max freq in even position of output string.\n",
    "After that fill the even position with next largest freq first \n",
    "and after that fill remaining char at odd position.\n",
    "\"\"\"\n",
    "\n",
    "import math\n",
    "class Solution :\n",
    "    def getMaxOfMap(self,hash_map,x):\n",
    "        mx = x\n",
    "        for i in hash_map:\n",
    "            if hash_map[mx] < hash_map[i]:\n",
    "                mx = i\n",
    "        return mx\n",
    "    \n",
    "    def rearrangeString(self, str):\n",
    "        if len(str) == 1:\n",
    "            return str\n",
    "        \n",
    "        hash_map = {}\n",
    "        \n",
    "        for i in str:\n",
    "            if i in hash_map:\n",
    "                hash_map[i] += 1\n",
    "            else:\n",
    "                hash_map[i] = 1\n",
    "        \n",
    "        mx = self.getMaxOfMap(hash_map,str[0])\n",
    "        if hash_map[mx] > math.ceil(len(str)/2):\n",
    "            \n",
    "            return '-1'\n",
    "            \n",
    "        ans = [None] * len(str)\n",
    "        \n",
    "        j = 0\n",
    "        while hash_map[mx] > 0:\n",
    "            ans[j] = mx\n",
    "            hash_map[mx] -= 1\n",
    "            j += 2\n",
    "        \n",
    "        while j < len(str):\n",
    "            mx = self.getMaxOfMap(hash_map,str[0])\n",
    "            while hash_map[mx] > 0:\n",
    "                ans[j] = mx\n",
    "                hash_map[mx] -= 1\n",
    "                j += 2\n",
    "                if j >= len(str):\n",
    "                    break\n",
    "        \n",
    "        j = 1\n",
    "        while hash_map[mx] > 0:\n",
    "            ans[j] = mx\n",
    "            hash_map[mx] -= 1\n",
    "            j += 2\n",
    "        \n",
    "        for i in hash_map:\n",
    "            if hash_map[i] == 0:\n",
    "                continue\n",
    "            \n",
    "            while hash_map[i]:\n",
    "                ans[j] = i\n",
    "                hash_map[i] -= 1\n",
    "                j += 2\n",
    "        \n",
    "        return \"\".join(ans)\n",
    "    \n",
    "# Time comp:O(N)    (Here we are finding max freq from hash map at most 26 times, so O(26*N) = O(N))\n",
    "# Space comp:O(26)=O(1)   "
   ]
  },
  {
   "cell_type": "code",
   "execution_count": 64,
   "id": "35ed865a",
   "metadata": {},
   "outputs": [
    {
     "data": {
      "text/plain": [
       "'abacad'"
      ]
     },
     "execution_count": 64,
     "metadata": {},
     "output_type": "execute_result"
    }
   ],
   "source": [
    "s = Solution()\n",
    "s.rearrangeString('aaabcd')"
   ]
  },
  {
   "cell_type": "code",
   "execution_count": null,
   "id": "03f2c66e",
   "metadata": {},
   "outputs": [],
   "source": []
  },
  {
   "cell_type": "markdown",
   "id": "b39e2adf",
   "metadata": {},
   "source": [
    "### 254. Find maximum sum possible equal sum of three stacks"
   ]
  },
  {
   "cell_type": "raw",
   "id": "95f50009",
   "metadata": {},
   "source": [
    "Given three stacks S1, S2, and S3 of the positive numbers, the task is to find the possible equal maximum sum of the stacks with the removal of top elements allowed. Stacks are represented as an array, and the first index of the array represents the top element of the stack.\n",
    "\n",
    "Example 1:\n",
    "\n",
    "Input:\n",
    "N1 = 3, N2 = 4, N3 = 2\n",
    "S1 = {4,2,3}\n",
    "S2 = {1,1,2,3}\n",
    "S3= {1,4}\n",
    "Output:\n",
    "5\n",
    "Explanation:\n",
    "We can pop 1 element from the 1st stack, and 2\n",
    "elements from the 2nd stack. Now remaining elements\n",
    "yield the equal sum of the three stacks, that is 5."
   ]
  },
  {
   "cell_type": "code",
   "execution_count": 56,
   "id": "c69eff85",
   "metadata": {},
   "outputs": [],
   "source": [
    "\"\"\"\n",
    "Calculate sum of all stack.\n",
    "If all three sum are equal then return that sum\n",
    "Else execute while loop until all stacks have some value in it\n",
    "In the loop, pop the element from stack whose sum is highest among all and minus from original sum and compair again\n",
    "\"\"\"\n",
    "\n",
    "def maxEqualSum(N1,N2,N3, S1, S2, S3):\n",
    "    S1.reverse()\n",
    "    S2.reverse()\n",
    "    S3.reverse()\n",
    "\n",
    "    sum1 = sum(S1)\n",
    "    sum2 = sum(S2)\n",
    "    sum3 = sum(S3)\n",
    "\n",
    "    if sum1 == sum2 and sum2 == sum3:\n",
    "        return sum1\n",
    "\n",
    "    while len(S1) > 0 and len(S2) > 0 and len(S3) > 0:\n",
    "        if sum1 >= sum2 and sum1 >= sum3:\n",
    "            x = S1.pop()\n",
    "            sum1 -= x\n",
    "            if sum1 == sum2 and sum2 == sum3:\n",
    "                return sum1\n",
    "        elif sum2 >= sum1 and sum2 >= sum3:\n",
    "            x = S2.pop()\n",
    "            sum2 -= x\n",
    "            if sum1 == sum2 and sum2 == sum3:\n",
    "                return sum2\n",
    "        else:\n",
    "            x = S3.pop()\n",
    "            sum3 -= x\n",
    "            if sum1 == sum2 and sum2 == sum3:\n",
    "                return sum3\n",
    "\n",
    "    return 0\n",
    "\n",
    "# Time comp:O(N)\n",
    "# Space comp:O(1)"
   ]
  },
  {
   "cell_type": "code",
   "execution_count": 57,
   "id": "af2d3077",
   "metadata": {},
   "outputs": [
    {
     "data": {
      "text/plain": [
       "5"
      ]
     },
     "execution_count": 57,
     "metadata": {},
     "output_type": "execute_result"
    }
   ],
   "source": [
    "maxEqualSum(3,4,2,[4,2,3],[1,1,2,3],[1,4])"
   ]
  },
  {
   "cell_type": "code",
   "execution_count": null,
   "id": "bd44ac1f",
   "metadata": {},
   "outputs": [],
   "source": []
  },
  {
   "cell_type": "markdown",
   "id": "82caf9f2",
   "metadata": {},
   "source": [
    "### 465.  Choose and Swap"
   ]
  },
  {
   "cell_type": "raw",
   "id": "d31bfdcc",
   "metadata": {},
   "source": [
    "You are given a string s of lower case english alphabets. You can choose any two characters in the string and replace all the occurences of the first character with the second character and replace all the occurences of the second character with the first character. Your aim is to find the lexicographically smallest string that can be obtained by doing this operation at most once.\n",
    "\n",
    "Example 1:\n",
    "\n",
    "Input:\n",
    "A = \"ccad\"\n",
    "Output: \"aacd\"\n",
    "Explanation:\n",
    "In ccad, we choose a and c and after \n",
    "doing the replacement operation once we get, \n",
    "aacd and this is the lexicographically\n",
    "smallest string possible. \n",
    " \n",
    "\n",
    "Example 2:\n",
    "\n",
    "Input:\n",
    "A = \"abba\"\n",
    "Output: \"abba\"\n",
    "Explanation:\n",
    "In abba, we can get baab after doing the \n",
    "replacement operation once for a and b \n",
    "but that is not lexicographically smaller \n",
    "than abba. So, the answer is abba."
   ]
  },
  {
   "cell_type": "code",
   "execution_count": 3,
   "id": "4366ee16",
   "metadata": {},
   "outputs": [],
   "source": [
    "\"\"\"\n",
    "Here we create hash map of all unique char and their first appearance as value\n",
    "like: {a:1,c:2,d:0}\n",
    "\n",
    "After that we run through the string and for each char did the following.\n",
    "-> Find the char from hash map which is lower than curr char and appeare after curr index.\n",
    "-> Like that find lowest from right side and replace it with the curr one and exit the loop\n",
    "\"\"\"\n",
    "\n",
    "def chooseandswap (A):\n",
    "    hash_map = {}\n",
    "    \n",
    "    for i in range(len(A)):\n",
    "        if A[i] in hash_map:\n",
    "            continue\n",
    "        hash_map[A[i]] = i\n",
    "\n",
    "    for i in range(len(A)):\n",
    "        char = A[i]\n",
    "        if char in hash_map:\n",
    "            del hash_map[char]\n",
    "\n",
    "        replace = \"\"\n",
    "        for j in hash_map:\n",
    "            if j < char and hash_map[j] > i:\n",
    "                if replace == \"\":\n",
    "                    replace = j\n",
    "                else:\n",
    "                    replace = min(replace,j)\n",
    "\n",
    "\n",
    "        if replace != \"\":\n",
    "            A = A.replace(replace,'#')\n",
    "            A = A.replace(char,replace)\n",
    "            A = A.replace('#',char)\n",
    "            break\n",
    "\n",
    "    return A\n",
    "\n",
    "# Time comp:O(|A|)\n",
    "# Space comp:O(1)\n",
    "\n",
    "# Here we have used hash map but at max it will store only 26 char so O(26) = O(1)\n",
    "# Also internal for loop will also run at max 26 time to total time comp:O(26*N) = O(N)"
   ]
  },
  {
   "cell_type": "code",
   "execution_count": 4,
   "id": "0472a645",
   "metadata": {},
   "outputs": [
    {
     "data": {
      "text/plain": [
       "'abcdef'"
      ]
     },
     "execution_count": 4,
     "metadata": {},
     "output_type": "execute_result"
    }
   ],
   "source": [
    "chooseandswap ('abcdfe')"
   ]
  },
  {
   "cell_type": "code",
   "execution_count": null,
   "id": "2405e11b",
   "metadata": {},
   "outputs": [],
   "source": []
  },
  {
   "cell_type": "markdown",
   "id": "b3cecabf",
   "metadata": {},
   "source": [
    "### 466. Stock buy and sell to get max profit"
   ]
  },
  {
   "cell_type": "raw",
   "id": "8da13dcd",
   "metadata": {},
   "source": [
    "The cost of stock on each day is given in an array A[] of size N. Find all the days on which you buy and sell the stock so that in between those days your profit is maximum.\n",
    "Note: There may be multiple possible solutions. Return any one of them. Any correct solution will result in an output of 1, whereas wrong solutions will result in an output of 0.\n",
    "\n",
    "Example 1:\n",
    "\n",
    "Input:\n",
    "N = 7\n",
    "A[] = {100,180,260,310,40,535,695}\n",
    "Output:\n",
    "1\n",
    "Explanation:\n",
    "One possible solution is (0 3) (4 6)\n",
    "We can buy stock on day 0,\n",
    "and sell it on 3rd day, which will \n",
    "give us maximum profit. Now, we buy \n",
    "stock on day 4 and sell it on day 6.\n",
    "\n",
    "Note: Since there can be multiple solutions, the driver code will return 1 if your answer is correct, otherwise, it will return 0. In case there's no profit the driver code will return the string \"No Profit\" for a correct solution."
   ]
  },
  {
   "cell_type": "code",
   "execution_count": 65,
   "id": "ee2e9d33",
   "metadata": {},
   "outputs": [],
   "source": [
    "\"\"\"\n",
    "Buy stock on day 1\n",
    "If price increae then dont sell, keep wait\n",
    "Once price decrease then sell stock on prev day and buy again on today's price\n",
    "\"\"\"\n",
    "\n",
    "def stockBuySell(A, n):\n",
    "    ans = []\n",
    "    buy = None\n",
    "\n",
    "    for i in range(n):\n",
    "        if buy == None:\n",
    "            buy = i\n",
    "            continue\n",
    "        else:\n",
    "            if A[i] <= A[i-1]:\n",
    "                if buy != i-1:\n",
    "                    ans.append(list([buy,i-1]))    \n",
    "                buy = i\n",
    "\n",
    "    if A[n-1] > A[buy]:\n",
    "        ans.append(list([buy,n-1]))\n",
    "\n",
    "    return ans\n",
    "\n",
    "# Time comp:O(N)\n",
    "# Space comp:O(N)"
   ]
  },
  {
   "cell_type": "code",
   "execution_count": 66,
   "id": "5d2e57ec",
   "metadata": {},
   "outputs": [
    {
     "name": "stdout",
     "output_type": "stream",
     "text": [
      "[[0, 3], [4, 6]]\n",
      "[[3, 4]]\n",
      "[]\n"
     ]
    }
   ],
   "source": [
    "print(stockBuySell([100,180,260,310,40,535,695],7))\n",
    "print(stockBuySell([4,2,2,2,4],5))\n",
    "print(stockBuySell([4,3,2,1],4))"
   ]
  },
  {
   "cell_type": "code",
   "execution_count": null,
   "id": "62b822da",
   "metadata": {},
   "outputs": [],
   "source": []
  }
 ],
 "metadata": {
  "kernelspec": {
   "display_name": "Python 3",
   "language": "python",
   "name": "python3"
  },
  "language_info": {
   "codemirror_mode": {
    "name": "ipython",
    "version": 3
   },
   "file_extension": ".py",
   "mimetype": "text/x-python",
   "name": "python",
   "nbconvert_exporter": "python",
   "pygments_lexer": "ipython3",
   "version": "3.6.5"
  }
 },
 "nbformat": 4,
 "nbformat_minor": 5
}
