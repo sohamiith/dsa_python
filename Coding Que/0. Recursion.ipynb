{
 "cells": [
  {
   "cell_type": "markdown",
   "id": "07e45cbe",
   "metadata": {},
   "source": [
    "## Recursion"
   ]
  },
  {
   "cell_type": "raw",
   "id": "64cd8378",
   "metadata": {},
   "source": [
    "When function calls it self.\n",
    "\n",
    "Two imp things required in recursion:\n",
    "1. base condition\n",
    "2. recursive relation\n",
    "\n",
    "Ex. Find 2^n\n",
    "\n",
    "2^4 = 2 * 2^3\n",
    "2^3 = 2 * 2^2\n",
    ".\n",
    ".\n",
    ".\n",
    "\n",
    "f(n) = n * f(n-1)   ---> Recursive relation\n",
    "\n",
    "base condition: if n == 0: return 1"
   ]
  },
  {
   "cell_type": "code",
   "execution_count": null,
   "id": "e6b17dba",
   "metadata": {},
   "outputs": [],
   "source": []
  },
  {
   "cell_type": "markdown",
   "id": "f8d3d7cc",
   "metadata": {},
   "source": [
    "### 1. Find factorial"
   ]
  },
  {
   "cell_type": "raw",
   "id": "2c6be5f2",
   "metadata": {},
   "source": [
    "Input:\n",
    "N = 5\n",
    "Output:\n",
    "120\n",
    "Explanation:\n",
    "5*4*3*2*1 = 120"
   ]
  },
  {
   "cell_type": "raw",
   "id": "fc8dd6a7",
   "metadata": {},
   "source": [
    "Recursive relation:\n",
    "f(n) = f(n-1) * n\n",
    "\n",
    "base condition: \n",
    "if n == 0: return 1"
   ]
  },
  {
   "cell_type": "code",
   "execution_count": 1,
   "id": "5b12b9bb",
   "metadata": {},
   "outputs": [],
   "source": [
    "class Solution:\n",
    "    def factorial (self, N):\n",
    "        if N == 0:\n",
    "            return 1\n",
    "            \n",
    "        return N * self.factorial(N-1)\n",
    "    \n",
    "# Time comp:O(N)\n",
    "# Space comp:O(N)   (recursive stack)"
   ]
  },
  {
   "cell_type": "code",
   "execution_count": 2,
   "id": "d9d389d1",
   "metadata": {},
   "outputs": [
    {
     "data": {
      "text/plain": [
       "120"
      ]
     },
     "execution_count": 2,
     "metadata": {},
     "output_type": "execute_result"
    }
   ],
   "source": [
    "s = Solution()\n",
    "s.factorial(5)"
   ]
  },
  {
   "cell_type": "code",
   "execution_count": null,
   "id": "fc3b433a",
   "metadata": {},
   "outputs": [],
   "source": []
  },
  {
   "cell_type": "markdown",
   "id": "15dd8e51",
   "metadata": {},
   "source": [
    "### 2. Count ways to reach the n'th stair"
   ]
  },
  {
   "cell_type": "raw",
   "id": "4d5661a1",
   "metadata": {},
   "source": [
    "There are n stairs, a person standing at the bottom wants to reach the top. The person can climb either 1 stair or 2 stairs at a time. Count the number of ways, the person can reach the top (order does matter).\n",
    "\n",
    "Input:\n",
    "n = 4\n",
    "Output: 5\n",
    "Explanation:\n",
    "You can reach 4th stair in 5 ways. \n",
    "Way 1: Climb 2 stairs at a time. \n",
    "Way 2: Climb 1 stair at a time.\n",
    "Way 3: Climb 2 stairs, then 1 stair\n",
    "and then 1 stair.\n",
    "Way 4: Climb 1 stair, then 2 stairs\n",
    "then 1 stair.\n",
    "Way 5: Climb 1 stair, then 1 stair and\n",
    "then 2 stairs."
   ]
  },
  {
   "cell_type": "raw",
   "id": "6482c772",
   "metadata": {},
   "source": [
    "recursive function:\n",
    "f(n) = f(n+1) + f(f+2)   If I am standing at stair 1 then I can either go to (1+1 = 2) or (1+2 = 3)\n",
    "\n",
    "or\n",
    "\n",
    "f(n) = f(n-1) + f(n-2)   If I am stading at strai 5 then I came either from (5-1 = 4) or (5-2 = 3)"
   ]
  },
  {
   "cell_type": "code",
   "execution_count": 3,
   "id": "4ea7a4b7",
   "metadata": {},
   "outputs": [],
   "source": [
    "class Solution:\n",
    "    def count(self,stairs,i):\n",
    "        if i == stairs:\n",
    "            return 1\n",
    "            \n",
    "        if i > stairs:\n",
    "            return 0\n",
    "            \n",
    "        return self.count(stairs,i+1) + self.count(stairs,i+2)\n",
    "    \n",
    "    def countWays(self,n):\n",
    "        return self.count(n,0) % 1000000007\n",
    "    \n",
    "# Time comp:O(2^N)\n",
    "# Space comp:O(1)   (Recursion stakc:O(N))"
   ]
  },
  {
   "cell_type": "code",
   "execution_count": 4,
   "id": "14573d9c",
   "metadata": {},
   "outputs": [
    {
     "data": {
      "text/plain": [
       "8"
      ]
     },
     "execution_count": 4,
     "metadata": {},
     "output_type": "execute_result"
    }
   ],
   "source": [
    "s = Solution()\n",
    "s.countWays(5)"
   ]
  },
  {
   "cell_type": "code",
   "execution_count": null,
   "id": "b7a60a5b",
   "metadata": {},
   "outputs": [],
   "source": []
  },
  {
   "cell_type": "markdown",
   "id": "474bc171",
   "metadata": {},
   "source": [
    "### 3. Natural Sum"
   ]
  },
  {
   "cell_type": "raw",
   "id": "c1f0a550",
   "metadata": {},
   "source": [
    "Given N, find s such that sum of first s natural number is N.\n",
    " \n",
    "\n",
    "Example 1:\n",
    "\n",
    "Input: N = 10\n",
    "Output: 4\n",
    "Explanation: Sum of first 4 natural\n",
    "number is 1 + 2 + 3 + 4 = 10. "
   ]
  },
  {
   "cell_type": "code",
   "execution_count": null,
   "id": "f16cb041",
   "metadata": {},
   "outputs": [],
   "source": [
    "import sys\n",
    "sys.setrecursionlimit(50000000)\n",
    "\n",
    "class Solution:\n",
    "    def sum1(self,i,s,N):\n",
    "        if s > N:\n",
    "            return -1\n",
    "        if s == N:\n",
    "            return i - 1\n",
    "        \n",
    "        s = s+i\n",
    "        return self.sum1(i+1,s,N)\n",
    "        \n",
    "\n",
    "    def find(self, N):\n",
    "        return self.sum1(1,0,N)\n",
    "    \n",
    "# Time comp:O(log N)\n",
    "# Space comp:O(log N)   (recursive stack)"
   ]
  },
  {
   "cell_type": "code",
   "execution_count": null,
   "id": "46232c38",
   "metadata": {},
   "outputs": [],
   "source": []
  },
  {
   "cell_type": "markdown",
   "id": "cfe2e94d",
   "metadata": {},
   "source": [
    "### 4. String Subsequence Game \n"
   ]
  },
  {
   "cell_type": "raw",
   "id": "9241bc5b",
   "metadata": {},
   "source": [
    "Given a string return all unique possible subsequences which start with vowel and end with consonant. A String is a subsequence of a given String, that is generated by deleting some character of a given string without changing its order.\n",
    "NOTE: Return all the unique subsequences in lexicographically sorted order. \n",
    "\n",
    "Example 1:\n",
    "\n",
    "Input: S = \"abc\"\n",
    "Output: \"ab\", \"ac\", \"abc\" \n",
    "Explanation: \"ab\", \"ac\", \"abc\" are \n",
    "the all possible subsequences which \n",
    "start with vowel and end with consonant."
   ]
  },
  {
   "cell_type": "raw",
   "id": "bda94985",
   "metadata": {},
   "source": [
    "Here we have to include and exclude each char and find recursive ans"
   ]
  },
  {
   "cell_type": "code",
   "execution_count": 5,
   "id": "e376a5e8",
   "metadata": {},
   "outputs": [],
   "source": [
    "class Solution:\n",
    "    def __init__(self):\n",
    "        self.output = []\n",
    "        self.hash_table = {}\n",
    "        self.vowels = ['a','e','i','o','u']\n",
    "        \n",
    "    def findSub(self,S,i,ans):\n",
    "        \n",
    "        # When we read entire string then only think about whether it valid ans or not\n",
    "        if i >= len(S):\n",
    "            if len(ans) > 0 and ans[0] in self.vowels and ans[-1] not in self.vowels: \n",
    "                x = \"\".join(ans)\n",
    "                if x not in self.hash_table:\n",
    "                    self.output.append(x)\n",
    "                    self.hash_table[x] = 1\n",
    "            return\n",
    "        \n",
    "        ans.append(S[i])           # Include current element in ans\n",
    "        self.findSub(S,i+1,ans)    # Call recursive fun with it\n",
    "        ans.pop()                  # Exclude current element from ans    \n",
    "        self.findSub(S,i+1,ans)    # Call recursive fun without it\n",
    "    \n",
    "    def allPossibleSubsequences (self, S):\n",
    "        ans = []\n",
    "        self.findSub(S,0,[])\n",
    "        self.output.sort()\n",
    "        return self.output\n",
    "    \n",
    "# Time comp:O(n*logn*2^n)\n",
    "# Space comp:O(2^n)   (to store ans)"
   ]
  },
  {
   "cell_type": "code",
   "execution_count": null,
   "id": "32e73aa0",
   "metadata": {},
   "outputs": [],
   "source": []
  },
  {
   "cell_type": "markdown",
   "id": "ceaf97cd",
   "metadata": {},
   "source": [
    "### 5.  Number of Subsequences That Satisfy the Given Sum Condition"
   ]
  },
  {
   "cell_type": "raw",
   "id": "1e47888f",
   "metadata": {},
   "source": [
    "You are given an array of integers nums and an integer target.\n",
    "\n",
    "Return the number of non-empty subsequences of nums such that the sum of the minimum and maximum element on it is less or equal to target. Since the answer may be too large, return it modulo 109 + 7.\n",
    "\n",
    " \n",
    "\n",
    "Example 1:\n",
    "\n",
    "Input: nums = [3,5,6,7], target = 9\n",
    "Output: 4\n",
    "Explanation: There are 4 subsequences that satisfy the condition.\n",
    "[3] -> Min value + max value <= target (3 + 3 <= 9)\n",
    "[3,5] -> (3 + 5 <= 9)\n",
    "[3,5,6] -> (3 + 6 <= 9)\n",
    "[3,6] -> (3 + 6 <= 9)"
   ]
  },
  {
   "cell_type": "code",
   "execution_count": 15,
   "id": "ce78e0ba",
   "metadata": {},
   "outputs": [],
   "source": [
    "class Solution:\n",
    "    def findSub(self, nums, target, i, ans):\n",
    "        if i >= len(nums):\n",
    "            if len(ans) == 0:\n",
    "                return 0\n",
    "            \n",
    "            mn = min(ans)\n",
    "            mx = max(ans)\n",
    "            \n",
    "            if target >= mn+mx:\n",
    "                return 1\n",
    "            return 0\n",
    "        \n",
    "        ans.append(nums[i])\n",
    "        x = self.findSub(nums, target, i+1, ans)\n",
    "        ans.pop()\n",
    "        y = self.findSub(nums, target, i+1, ans)\n",
    "        return x+y\n",
    "    \n",
    "    def numSubseq(self, nums, target):\n",
    "        ans = []\n",
    "        i = 0\n",
    "        x = self.findSub(nums, target, i, ans)\n",
    "        return x % 1000000007\n",
    "    \n",
    "# Time comp:O(2^N)\n",
    "# Space comp:O(N)"
   ]
  },
  {
   "cell_type": "code",
   "execution_count": 19,
   "id": "f470f52b",
   "metadata": {},
   "outputs": [
    {
     "name": "stdout",
     "output_type": "stream",
     "text": [
      "4\n",
      "61\n"
     ]
    }
   ],
   "source": [
    "s = Solution()\n",
    "print(s.numSubseq([3,5,6,7],9))\n",
    "print(s.numSubseq([2,3,3,4,6,7],12))"
   ]
  },
  {
   "cell_type": "code",
   "execution_count": 23,
   "id": "a50e4d7c",
   "metadata": {},
   "outputs": [],
   "source": [
    "# Small modification:\n",
    "# If its says that you just have to find only one of such subsequence then:\n",
    "\n",
    "class Solution:\n",
    "    def findSub(self, nums, target, i, ans):\n",
    "        # In such cases, return True or False from base cases and check returned value after execution of function call\n",
    "        if i >= len(nums):\n",
    "            if len(ans) == 0:\n",
    "                return False\n",
    "            \n",
    "            mn = min(ans)\n",
    "            mx = max(ans)\n",
    "            \n",
    "            if target >= mn+mx:\n",
    "                print(ans)\n",
    "                return True\n",
    "            return False\n",
    "        \n",
    "        ans.append(nums[i])\n",
    "        x = self.findSub(nums, target, i+1, ans)\n",
    "        \n",
    "        if x:\n",
    "            return True\n",
    "        \n",
    "        ans.pop()\n",
    "        return self.findSub(nums, target, i+1, ans)\n",
    "    \n",
    "    def numSubseq(self, nums, target):\n",
    "        ans = []\n",
    "        i = 0\n",
    "        return self.findSub(nums, target, i, ans)\n",
    "    \n",
    "# Time comp:O(2^N)\n",
    "# Space comp:O(N)"
   ]
  },
  {
   "cell_type": "code",
   "execution_count": 24,
   "id": "36cad0f9",
   "metadata": {},
   "outputs": [
    {
     "name": "stdout",
     "output_type": "stream",
     "text": [
      "[3, 5, 6]\n",
      "True\n",
      "[2, 3, 3, 4, 6, 7]\n",
      "True\n"
     ]
    }
   ],
   "source": [
    "s = Solution()\n",
    "print(s.numSubseq([3,5,6,7],9))\n",
    "print(s.numSubseq([2,3,3,4,6,7],12))"
   ]
  },
  {
   "cell_type": "code",
   "execution_count": null,
   "id": "47c87bc6",
   "metadata": {},
   "outputs": [],
   "source": []
  },
  {
   "cell_type": "raw",
   "id": "7f076bdd",
   "metadata": {},
   "source": [
    "IMP:\n",
    "\n",
    "From subsequence ques, we understand three things:\n",
    "\n",
    "1. When it tells to print all subsequence then do two recursion call per element by picking and not picking and print all the valid ans which we found. (Valid ans will be after reading all the elements only, so it will be at base condition)\n",
    "\n",
    "2. When it about counting then from base condition return 1 or 0 based on satisfied condition.\n",
    "Since we have only two option here for each element (pick or not pick), we will call recursive funtion twice ans sum both anss and return that sum.\n",
    "\n",
    "3. When it about just one ans then from base condition return True or Fasle, and from function call check, if it returns true then stop further recursion call and return True."
   ]
  },
  {
   "cell_type": "code",
   "execution_count": null,
   "id": "8bda756a",
   "metadata": {},
   "outputs": [],
   "source": []
  },
  {
   "cell_type": "markdown",
   "id": "9d347fb0",
   "metadata": {},
   "source": [
    "### 6. Combination Sum"
   ]
  },
  {
   "cell_type": "raw",
   "id": "7d369dde",
   "metadata": {},
   "source": [
    "Given an array of distinct integers candidates and a target integer target, return a list of all unique combinations of candidates where the chosen numbers sum to target. You may return the combinations in any order.\n",
    "\n",
    "The same number may be chosen from candidates an unlimited number of times. Two combinations are unique if the frequency of at least one of the chosen numbers is different.\n",
    "\n",
    "It is guaranteed that the number of unique combinations that sum up to target is less than 150 combinations for the given input.\n",
    "\n",
    " \n",
    "\n",
    "Example 1:\n",
    "\n",
    "Input: candidates = [2,3,6,7], target = 7\n",
    "Output: [[2,2,3],[7]]\n",
    "Explanation:\n",
    "2 and 3 are candidates, and 2 + 2 + 3 = 7. Note that 2 can be used multiple times.\n",
    "7 is a candidate, and 7 = 7.\n",
    "These are the only two combinations."
   ]
  },
  {
   "cell_type": "code",
   "execution_count": 29,
   "id": "a29612be",
   "metadata": {},
   "outputs": [],
   "source": [
    "# https://www.youtube.com/watch?v=OyZFFqQtu98&list=PLgUwDviBIf0rGlzIn_7rsaR2FQ5e6ZOL9&index=8\n",
    "# Here the idea is same as subsequence, but whenever we pick, we will not incement i pointer.\n",
    "# Will increment i pointer whenever it \n",
    "\n",
    "class Solution:\n",
    "    \n",
    "    def __init__(self):\n",
    "        self.output = []\n",
    "        \n",
    "    def solve(self,arr,target,i,ans):\n",
    "        if i >= len(arr) or target <= 0:\n",
    "            if target == 0:\n",
    "                if ans not in self.output:\n",
    "                    self.output.append(list(ans))\n",
    "            return\n",
    "        \n",
    "        ans.append(arr[i])\n",
    "        self.solve(arr,target-arr[i],i,ans)\n",
    "        ans.pop()\n",
    "        self.solve(arr,target,i+1,ans)\n",
    "        \n",
    "    def combinationSum(self, A: List[int], B: int) -> List[List[int]]:\n",
    "        ans = []\n",
    "        i = 0\n",
    "        self.solve(A,B,i,ans)\n",
    "        return self.output\n",
    "    \n",
    "# Time comp:O(2^B * k)   Where B is target and k is avg length of every combination.\n",
    "# Space comp:O(K * x)    Where x in number of combinations"
   ]
  },
  {
   "cell_type": "code",
   "execution_count": 32,
   "id": "08a8a7f1",
   "metadata": {},
   "outputs": [
    {
     "name": "stdout",
     "output_type": "stream",
     "text": [
      "[[2, 2, 2, 2, 2, 2, 2, 2], [2, 2, 2, 2, 2, 6], [2, 2, 2, 5, 5], [2, 2, 5, 7], [2, 2, 6, 6], [2, 7, 7], [5, 5, 6]]\n",
      "[[2, 2, 2, 2, 2, 2, 2, 2], [2, 2, 2, 2, 2, 6], [2, 2, 2, 5, 5], [2, 2, 5, 7], [2, 2, 6, 6], [2, 7, 7], [5, 5, 6], [1, 1, 1, 1, 1, 1, 1, 1, 1, 1, 1, 1], [1, 1, 1, 1, 1, 1, 6], [1, 1, 1, 1, 8], [6, 6]]\n"
     ]
    }
   ],
   "source": [
    "s = Solution()\n",
    "print(s.combinationalSum([7,2,6,5],16))\n",
    "print(s.combinationalSum([8,1,8,6,8],12))"
   ]
  },
  {
   "cell_type": "code",
   "execution_count": null,
   "id": "9b67c9e3",
   "metadata": {},
   "outputs": [],
   "source": []
  },
  {
   "cell_type": "markdown",
   "id": "12f5b055",
   "metadata": {},
   "source": [
    "### 7. Combination Sum II"
   ]
  },
  {
   "cell_type": "raw",
   "id": "1cdb4651",
   "metadata": {},
   "source": [
    "Another version:\n",
    "\n",
    "Given a collection of candidate numbers (candidates) and a target number (target), find all unique combinations in candidates where the candidate numbers sum to target.\n",
    "\n",
    "Each number in candidates may only be used once in the combination.\n",
    "\n",
    "Note: The solution set must not contain duplicate combinations.\n",
    "\n",
    " \n",
    "\n",
    "Example 1:\n",
    "\n",
    "Input: candidates = [10,1,2,7,6,1,5], target = 8\n",
    "Output: \n",
    "[[1,1,6],[1,2,5],[1,7],[2,6]]"
   ]
  },
  {
   "cell_type": "raw",
   "id": "fb494c01",
   "metadata": {},
   "source": [
    "Link: https://www.youtube.com/watch?v=G1fRTGRxXU8&list=PLgUwDviBIf0rGlzIn_7rsaR2FQ5e6ZOL9&index=9\n",
    "\n",
    "To solve this kind of problems where you need to avoid duplicate combinations, there are another way to to it. (pick and not pick method will not work here)\n",
    "\n",
    "Ex: arr: [1,1,1,2,2]\n",
    "whill start i from 0 to len(arr) in for loop and keep picking each element one by one and had function call with i++.\n",
    "One catch here is, if you picked same element before then dont get another function call with same element and just continue,"
   ]
  },
  {
   "cell_type": "code",
   "execution_count": null,
   "id": "cea7ef0b",
   "metadata": {},
   "outputs": [],
   "source": [
    "class Solution:\n",
    "    \n",
    "    def __init__(self):\n",
    "        self.output = []\n",
    "        \n",
    "    def solve(self,arr,target,i,ans):\n",
    "        if i >= len(arr) or target <= 0:\n",
    "            if target == 0:\n",
    "                self.output.append(list(ans))\n",
    "            return\n",
    "        \n",
    "        for j in range(i,len(arr)):\n",
    "            if arr[j] > target:\n",
    "                break\n",
    "            \n",
    "            # Only do for first element or if current element is not same as last one\n",
    "            if j == i or arr[j] != arr[j-1]:\n",
    "                ans.append(arr[j])\n",
    "                self.solve(arr,target-arr[j],j+1,ans)\n",
    "                ans.pop()\n",
    "        \n",
    "    def combinationSum2(self, A: List[int], B: int) -> List[List[int]]:\n",
    "        ans = []\n",
    "        i = 0\n",
    "        A.sort()\n",
    "        self.solve(A,B,i,ans)\n",
    "        return self.output\n",
    "    \n",
    "# Time comp:O(2^B * k)   Where B is target and k is avg length of every combination.\n",
    "# Space comp:O(K * x)    Where x in number of combinations"
   ]
  },
  {
   "cell_type": "code",
   "execution_count": null,
   "id": "16bf22e3",
   "metadata": {},
   "outputs": [],
   "source": []
  },
  {
   "cell_type": "markdown",
   "id": "a5610054",
   "metadata": {},
   "source": [
    "### 8. Subset Sums"
   ]
  },
  {
   "cell_type": "raw",
   "id": "6b187f77",
   "metadata": {},
   "source": [
    "Given a list arr of N integers, print sums of all subsets in it.\n",
    "\n",
    "Example 1:\n",
    "\n",
    "Input:\n",
    "N = 2\n",
    "arr[] = {2, 3}\n",
    "Output:\n",
    "0 2 3 5\n",
    "Explanation:\n",
    "When no elements is taken then Sum = 0.\n",
    "When only 2 is taken then Sum = 2.\n",
    "When only 3 is taken then Sum = 3.\n",
    "When element 2 and 3 are taken then \n",
    "Sum = 2+3 = 5."
   ]
  },
  {
   "cell_type": "code",
   "execution_count": 48,
   "id": "7ec84da3",
   "metadata": {},
   "outputs": [],
   "source": [
    "# It is same as picked or not picked based solution\n",
    "\n",
    "class Solution:\n",
    "    def __init__(self):\n",
    "        self.output = []\n",
    "        \n",
    "    def solve(self,arr,i,s):\n",
    "        if i >= len(arr):\n",
    "            self.output.append(s)\n",
    "            return\n",
    "        \n",
    "        self.solve(arr,i+1,s+arr[i])\n",
    "        self.solve(arr,i+1,s)\n",
    "        \n",
    "    def subsetSums(self, arr, N):\n",
    "        self.output = []\n",
    "        curr_sum = 0\n",
    "        self.solve(arr,0,curr_sum)\n",
    "        self.output.sort()\n",
    "        return self.output\n",
    "    \n",
    "# Time comp:O(2^N log (2^N))   (if no need to sort output then O(2^N))\n",
    "# Space comp:O(2^N)"
   ]
  },
  {
   "cell_type": "code",
   "execution_count": 49,
   "id": "d65de36f",
   "metadata": {},
   "outputs": [
    {
     "name": "stdout",
     "output_type": "stream",
     "text": [
      "[0, 2, 3, 5]\n",
      "[0, 1, 2, 3, 5, 6, 7, 8]\n"
     ]
    }
   ],
   "source": [
    "s = Solution()\n",
    "print(s.subsetSums([2,3],2))\n",
    "print(s.subsetSums([5,2,1],3))"
   ]
  },
  {
   "cell_type": "code",
   "execution_count": null,
   "id": "cc7ae290",
   "metadata": {},
   "outputs": [],
   "source": []
  },
  {
   "cell_type": "markdown",
   "id": "c76199a1",
   "metadata": {},
   "source": [
    "### 9. Print unique Subsets"
   ]
  },
  {
   "cell_type": "raw",
   "id": "c2a62826",
   "metadata": {},
   "source": [
    "Given an array arr[] of integers of size N that might contain duplicates, the task is to find all possible unique subsets.\n",
    "\n",
    "Note: Each subset should be sorted.\n",
    "\n",
    "Example 1:\n",
    "\n",
    "Input: N = 3, arr[] = {2,1,2}\n",
    "Output:(),(1),(1 2),(1 2 2),(2),(2 2)\n",
    "Explanation: \n",
    "All possible subsets = (),(2),(1),(1,2),(2),(2,2),(2,1),(2,1,2)\n",
    "After Sorting each subset = (),(2),(1),(1,2),(2),(2,2),(1,2),(1,2,2) \n",
    "Unique Susbsets in Lexicographical order = (),(1),(1,2),(1,2,2),(2),(2,2) "
   ]
  },
  {
   "cell_type": "code",
   "execution_count": 50,
   "id": "f36dc228",
   "metadata": {},
   "outputs": [],
   "source": [
    "# Logic is same as que 7\n",
    "# https://www.youtube.com/watch?v=RIn3gOkbhQE&list=PLgUwDviBIf0rGlzIn_7rsaR2FQ5e6ZOL9&index=11\n",
    "\n",
    "class Solution:\n",
    "    def __init__(self):\n",
    "        self.output = []\n",
    "        \n",
    "    def solve(self,arr,i,ans):\n",
    "        self.output.append(list(ans))\n",
    "        for j in range(i,len(arr)):\n",
    "            if i == j or arr[j] != arr[j-1]:\n",
    "                ans.append(arr[j])\n",
    "                self.solve(arr,j+1,ans)\n",
    "                ans.pop()\n",
    "    \n",
    "    def AllSubsets(self, arr,n):\n",
    "        ans = []\n",
    "        i = 0\n",
    "        arr.sort()\n",
    "        self.solve(arr,i,ans)\n",
    "        return self.output\n",
    "    \n",
    "# time comp:O(2^n)\n",
    "# Space comp:O(2^n)"
   ]
  },
  {
   "cell_type": "code",
   "execution_count": null,
   "id": "3372d076",
   "metadata": {},
   "outputs": [],
   "source": []
  },
  {
   "cell_type": "markdown",
   "id": "033d23fe",
   "metadata": {},
   "source": [
    "### 10. Print all the subsets"
   ]
  },
  {
   "cell_type": "raw",
   "id": "c77a82d9",
   "metadata": {},
   "source": [
    "Given a set of positive integers, find all its subsets.\n",
    "\n",
    "Example 1 :\n",
    "\n",
    "Input : \n",
    "array = {1, 2, 3}\n",
    "Output :\n",
    "// this space denotes null element. \n",
    "1\n",
    "1 2\n",
    "1 2 3\n",
    "1 3\n",
    "2\n",
    "2 3\n",
    "3\n",
    "Explanation: \n",
    "The following are the subsets \n",
    "of the array {1, 2, 3}."
   ]
  },
  {
   "cell_type": "code",
   "execution_count": 51,
   "id": "9bb8b1d6",
   "metadata": {},
   "outputs": [],
   "source": [
    "class Solution:\n",
    "    def __init__(self):\n",
    "        self.output = []\n",
    "        \n",
    "    def solve(self,arr,i,ans):\n",
    "        self.output.append(list(ans))\n",
    "        \n",
    "        for j in range(i,len(arr)):\n",
    "            ans.append(arr[j])\n",
    "            self.solve(arr,j+1,ans)\n",
    "            ans.pop()\n",
    "        \n",
    "    def subsets(self, A):\n",
    "        #code here\n",
    "        ans = []\n",
    "        i = 0\n",
    "        self.solve(A,i,ans)\n",
    "        self.output.sort()\n",
    "        return self.output\n",
    "    \n",
    "# time comp:O(2^n)    # Since ans was asked in sorted order only that why we sort output array at the end\n",
    "# Space comp:O(2^n * k)   # k is avg length of each subset"
   ]
  },
  {
   "cell_type": "code",
   "execution_count": null,
   "id": "8a320219",
   "metadata": {},
   "outputs": [],
   "source": []
  },
  {
   "cell_type": "markdown",
   "id": "04bf771e",
   "metadata": {},
   "source": [
    "### 11. Print all Permutations of a given string"
   ]
  },
  {
   "cell_type": "raw",
   "id": "9d0b3f92",
   "metadata": {},
   "source": [
    "Given a string S. The task is to print all permutations of a given string in lexicographically sorted order.\n",
    "\n",
    "Input: ABC\n",
    "Output:\n",
    "ABC ACB BAC BCA CAB CBA\n",
    "Explanation:\n",
    "Given string ABC has permutations in 6 \n",
    "forms as ABC, ACB, BAC, BCA, CAB and CBA ."
   ]
  },
  {
   "cell_type": "raw",
   "id": "2691b1ce",
   "metadata": {},
   "source": [
    "Total number of permutations are: n!"
   ]
  },
  {
   "cell_type": "code",
   "execution_count": null,
   "id": "d6fe8ee8",
   "metadata": {},
   "outputs": [],
   "source": [
    "\"\"\"\n",
    "https://www.youtube.com/watch?v=YK78FU5Ffjw&list=PLgUwDviBIf0rGlzIn_7rsaR2FQ5e6ZOL9&index=12\n",
    "\n",
    "Along with ans data structure we need to maintain one hash map which will indicate that which elements are\n",
    "already included into the ans. \n",
    "Otherwise logic is same as recursion que no 7\n",
    "\"\"\"\n",
    "\n",
    "class Solution:\n",
    "    def __init__(self):\n",
    "        self.output = []               # Since we need to return in form of array\n",
    "        self.hash_table = {}           # This is used to just have unique string as an output\n",
    "        \n",
    "    def solve(self,S,ans,hash_map):\n",
    "        if len(ans) == len(S):\n",
    "            temp = \"\".join(ans)\n",
    "            if temp not in self.hash_table:\n",
    "                self.output.append(\"\".join(ans))\n",
    "                self.hash_table[temp] = 1\n",
    "            return\n",
    "        \n",
    "        for i in range(0,len(S)):\n",
    "            if hash_map[i] == 1:\n",
    "                continue\n",
    "            \n",
    "            ans.append(S[i])\n",
    "            hash_map[i] = 1\n",
    "            self.solve(S,ans,hash_map)\n",
    "            hash_map[i] = 0\n",
    "            ans.pop()\n",
    "    \n",
    "    def find_permutation(self, S):\n",
    "        ans = []\n",
    "        hash_map = [0 for _ in range(len(S))]\n",
    "        S = list(S)\n",
    "        S.sort()\n",
    "        S = \"\".join(S)\n",
    "        self.solve(S,ans,hash_map)\n",
    "        return self.output\n",
    "    \n",
    "# Time comp:O(n! * n)           # Since number of permitations are n! and we run loop for n times for each one\n",
    "# Sapce comp:O(n)               # Ignore the output array as its not part of algo"
   ]
  },
  {
   "cell_type": "code",
   "execution_count": null,
   "id": "f4e6a791",
   "metadata": {},
   "outputs": [],
   "source": [
    "# https://www.youtube.com/watch?v=f2ic2Rsc9pU&list=PLgUwDviBIf0rGlzIn_7rsaR2FQ5e6ZOL9&index=13\n",
    "\n",
    "\"\"\"\n",
    "Another approach without using hash map:\n",
    "\n",
    "here we will run the loop from 0 to len(S) with pointer i initialized with 0\n",
    "and will replace element at ith position will every other element after i and do it recursivly\n",
    "\"\"\"\n",
    "\n",
    "class Solution:\n",
    "    def __init__(self):\n",
    "        self.output = []\n",
    "        self.hash_table = {}\n",
    "        \n",
    "    def solve2(self,S,i):\n",
    "        if i == len(S):\n",
    "            temp = \"\".join(S)\n",
    "            if temp not in self.hash_table:\n",
    "                self.output.append(temp)\n",
    "                self.hash_table[temp] = 1\n",
    "            return\n",
    "        \n",
    "        for j in range(i,len(S)):\n",
    "            S[i],S[j] = S[j],S[i]\n",
    "            self.solve2(S,i+1)\n",
    "            S[i],S[j] = S[j],S[i]\n",
    "    \n",
    "    \n",
    "    def find_permutation(self, S):\n",
    "        ans = []\n",
    "        hash_map = [0 for _ in range(len(S))]\n",
    "        S = list(S)\n",
    "        S.sort()\n",
    "        #S = \"\".join(S)\n",
    "        self.solve2(S,0)\n",
    "        self.output.sort()\n",
    "        return self.output\n",
    "    \n",
    "# Time comp:O(n! * n)           # Since number of permitations are n! and we run loop for n times for each one\n",
    "# Sapce comp:O(n)               # because of the recursion call, else no extra DS used."
   ]
  }
 ],
 "metadata": {
  "kernelspec": {
   "display_name": "Python 3",
   "language": "python",
   "name": "python3"
  },
  "language_info": {
   "codemirror_mode": {
    "name": "ipython",
    "version": 3
   },
   "file_extension": ".py",
   "mimetype": "text/x-python",
   "name": "python",
   "nbconvert_exporter": "python",
   "pygments_lexer": "ipython3",
   "version": "3.6.5"
  }
 },
 "nbformat": 4,
 "nbformat_minor": 5
}
