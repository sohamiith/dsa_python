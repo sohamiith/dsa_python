{
 "cells": [
  {
   "cell_type": "markdown",
   "id": "7d799dff",
   "metadata": {},
   "source": [
    "## Daily Practice GFG"
   ]
  },
  {
   "cell_type": "code",
   "execution_count": null,
   "id": "2fa2e03d",
   "metadata": {},
   "outputs": [],
   "source": []
  },
  {
   "cell_type": "markdown",
   "id": "7926ef3d",
   "metadata": {},
   "source": [
    "### 1. Ceil in BST"
   ]
  },
  {
   "cell_type": "raw",
   "id": "2395c199",
   "metadata": {},
   "source": [
    "Given a BST and a number X, find Ceil of X.\n",
    "Note: Ceil(X) is a number that is either equal to X or is immediately greater than X.\n",
    "\n",
    "Example 1:\n",
    "\n",
    "Input:\n",
    "      5\n",
    "    /   \\\n",
    "   1     7\n",
    "    \\\n",
    "     2 \n",
    "      \\\n",
    "       3\n",
    "X = 3\n",
    "Output: 3\n",
    "Explanation: We find 3 in BST, so ceil\n",
    "of 3 is 3."
   ]
  },
  {
   "cell_type": "code",
   "execution_count": null,
   "id": "c3391003",
   "metadata": {},
   "outputs": [],
   "source": [
    "# By using inorder traversal\n",
    "\n",
    "class Solution:\n",
    "    \n",
    "    def __init__(self):\n",
    "        self.output = []\n",
    "    \n",
    "    def inorder(self,root):\n",
    "        if root == None:\n",
    "            return\n",
    "        \n",
    "        self.inorder(root.left)\n",
    "        self.output.append(root.key)\n",
    "        self.inorder(root.right)\n",
    "        return\n",
    "    \n",
    "    def findCeil(self,root, inp):\n",
    "        self.inorder(root)\n",
    "        i = 0\n",
    "        while i < len(self.output):\n",
    "            if self.output[i] < inp:\n",
    "                i += 1\n",
    "            elif self.output[i] >= inp:\n",
    "                return self.output[i]\n",
    "            \n",
    "        return -1\n",
    "    \n",
    "# Time comp:O(N)\n",
    "# Space comp:O(H)"
   ]
  },
  {
   "cell_type": "code",
   "execution_count": 2,
   "id": "d0d6fe63",
   "metadata": {},
   "outputs": [],
   "source": [
    "\"\"\"\n",
    "Imagine we are moving down the tree, and assume we are root node. The comparison yields three possibilities,\n",
    "\n",
    "A) Root data is equal to key. We are done, root data is ceil value.\n",
    "\n",
    "B) Root data < key value, certainly the ceil value can't be in left subtree. \n",
    "   Proceed to search on right subtree as reduced problem instance.\n",
    "\n",
    "C) Root data > key value, the ceil value may be in left subtree. \n",
    "   We may find a node with is larger data than key value in left subtree, \n",
    "   if not the root itself will be ceil node.\n",
    "\"\"\"\n",
    "\n",
    "\n",
    "class Solution:\n",
    "    \n",
    "    def findCeil(self,root, inp):\n",
    "        if root == None:\n",
    "            return -1\n",
    "            \n",
    "        if root.key == inp:\n",
    "            return root.key\n",
    "        \n",
    "        if inp > root.key:\n",
    "            return self.findCeil(root.right,inp)\n",
    "        \n",
    "        x = self.findCeil(root.left,inp)\n",
    "        \n",
    "        if x >= inp:\n",
    "            return x\n",
    "        else:\n",
    "            return root.key\n",
    "        \n",
    "# Time comp:O(H)\n",
    "# Space comp:O(H)"
   ]
  },
  {
   "cell_type": "code",
   "execution_count": null,
   "id": "8a1246da",
   "metadata": {},
   "outputs": [],
   "source": []
  },
  {
   "cell_type": "markdown",
   "id": "4a1eebfe",
   "metadata": {},
   "source": [
    "### 2. Get min at pop"
   ]
  },
  {
   "cell_type": "raw",
   "id": "b06cd160",
   "metadata": {},
   "source": [
    "Now, we'll try to solve a famous stack problem.\n",
    "You are given an array A of size N. You need to first push the elements of the array into a stack and then print minimum in the stack at each pop.\n",
    "\n",
    "Example 1:\n",
    "\n",
    "Input: \n",
    "N = 7\n",
    "A = {1 6 43 1 2 0 5}\n",
    "Output: \n",
    "0 0 1 1 1 1 1\n",
    "Explanation: \n",
    "After pushing the elements to the stack, the stack will be 5->0->2->1->43->6->1. \n",
    "\n",
    "Now, poping the elements from the stack:\n",
    "popping 5: min in the stack is 0. popped 5\n",
    "popping 0: min in the stack is 0. popped 0\n",
    "popping 2: min in the stack is 1. popped 2\n",
    "popping 1: min in the stack is 1. popped 1\n",
    "popping 43: min in the stack is 1. popped 43\n",
    "popping 6: min in the stack is 1. popped 6\n",
    "popping 1: min in the stack is 1. popped 1."
   ]
  },
  {
   "cell_type": "code",
   "execution_count": 3,
   "id": "f648e2fb",
   "metadata": {},
   "outputs": [],
   "source": [
    "def _push(a,n):\n",
    "    stack = []\n",
    "    for i in a:\n",
    "        stack.append(i)\n",
    "    \n",
    "    return stack\n",
    "    \n",
    "\"\"\"\n",
    "At every pop, we are finding min value below that value of print it\n",
    "\"\"\"\n",
    "def _getMinAtPop(stack):\n",
    "    while len(stack):\n",
    "        x = stack.pop()\n",
    "        mini = x\n",
    "        for i in range(len(stack)-1,-1,-1):\n",
    "            mini = min(mini,stack[i])\n",
    "        \n",
    "        print(mini,end=\" \")\n",
    "        \n",
    "# Time comp:O(N^2)\n",
    "# Space comp:O(1)"
   ]
  },
  {
   "cell_type": "code",
   "execution_count": 4,
   "id": "645e5b1f",
   "metadata": {},
   "outputs": [
    {
     "name": "stdout",
     "output_type": "stream",
     "text": [
      "0 0 1 1 1 1 1 "
     ]
    }
   ],
   "source": [
    "stack = _push([1, 6, 43, 1, 2, 0, 5],7)\n",
    "_getMinAtPop(stack)"
   ]
  },
  {
   "cell_type": "code",
   "execution_count": 5,
   "id": "7ee6a40f",
   "metadata": {},
   "outputs": [],
   "source": [
    "# Modify the push operation such a way that in O(N) time we can get ans during pop.\n",
    "# push min of each element along with that element in stack during push operatin.\n",
    "\n",
    "def _push(a,n):\n",
    "    stack = []\n",
    "    if n == 0:\n",
    "        return stack\n",
    "    \n",
    "    mini = a[0]\n",
    "    stack.append(mini)\n",
    "    stack.append(a[0])\n",
    "    \n",
    "    for i in range(1,n):\n",
    "        if a[i] < mini:\n",
    "            mini = a[i]\n",
    "        stack.append(mini)\n",
    "        stack.append(a[i])\n",
    "    \n",
    "    return stack\n",
    "    \n",
    "def _getMinAtPop(stack):\n",
    "    while len(stack):\n",
    "        stack.pop()\n",
    "        x = stack.pop()\n",
    "        print(x,end = \" \")\n"
   ]
  },
  {
   "cell_type": "code",
   "execution_count": 6,
   "id": "4946bc4a",
   "metadata": {},
   "outputs": [
    {
     "name": "stdout",
     "output_type": "stream",
     "text": [
      "0 0 1 1 1 1 1 "
     ]
    }
   ],
   "source": [
    "stack = _push([1, 6, 43, 1, 2, 0, 5],7)\n",
    "_getMinAtPop(stack)"
   ]
  },
  {
   "cell_type": "code",
   "execution_count": null,
   "id": "d8b3ff1b",
   "metadata": {},
   "outputs": [],
   "source": []
  }
 ],
 "metadata": {
  "kernelspec": {
   "display_name": "Python 3",
   "language": "python",
   "name": "python3"
  },
  "language_info": {
   "codemirror_mode": {
    "name": "ipython",
    "version": 3
   },
   "file_extension": ".py",
   "mimetype": "text/x-python",
   "name": "python",
   "nbconvert_exporter": "python",
   "pygments_lexer": "ipython3",
   "version": "3.6.5"
  }
 },
 "nbformat": 4,
 "nbformat_minor": 5
}
