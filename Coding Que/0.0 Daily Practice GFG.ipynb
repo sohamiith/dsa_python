{
 "cells": [
  {
   "cell_type": "markdown",
   "id": "7d799dff",
   "metadata": {},
   "source": [
    "## Daily Practice GFG"
   ]
  },
  {
   "cell_type": "code",
   "execution_count": null,
   "id": "2fa2e03d",
   "metadata": {},
   "outputs": [],
   "source": []
  },
  {
   "cell_type": "markdown",
   "id": "7926ef3d",
   "metadata": {},
   "source": [
    "### 1. Ceil in BST"
   ]
  },
  {
   "cell_type": "raw",
   "id": "2395c199",
   "metadata": {},
   "source": [
    "Given a BST and a number X, find Ceil of X.\n",
    "Note: Ceil(X) is a number that is either equal to X or is immediately greater than X.\n",
    "\n",
    "Example 1:\n",
    "\n",
    "Input:\n",
    "      5\n",
    "    /   \\\n",
    "   1     7\n",
    "    \\\n",
    "     2 \n",
    "      \\\n",
    "       3\n",
    "X = 3\n",
    "Output: 3\n",
    "Explanation: We find 3 in BST, so ceil\n",
    "of 3 is 3."
   ]
  },
  {
   "cell_type": "code",
   "execution_count": null,
   "id": "c3391003",
   "metadata": {},
   "outputs": [],
   "source": [
    "# By using inorder traversal\n",
    "\n",
    "class Solution:\n",
    "    \n",
    "    def __init__(self):\n",
    "        self.output = []\n",
    "    \n",
    "    def inorder(self,root):\n",
    "        if root == None:\n",
    "            return\n",
    "        \n",
    "        self.inorder(root.left)\n",
    "        self.output.append(root.key)\n",
    "        self.inorder(root.right)\n",
    "        return\n",
    "    \n",
    "    def findCeil(self,root, inp):\n",
    "        self.inorder(root)\n",
    "        i = 0\n",
    "        while i < len(self.output):\n",
    "            if self.output[i] < inp:\n",
    "                i += 1\n",
    "            elif self.output[i] >= inp:\n",
    "                return self.output[i]\n",
    "            \n",
    "        return -1\n",
    "    \n",
    "# Time comp:O(N)\n",
    "# Space comp:O(H)"
   ]
  },
  {
   "cell_type": "code",
   "execution_count": 2,
   "id": "d0d6fe63",
   "metadata": {},
   "outputs": [],
   "source": [
    "\"\"\"\n",
    "Imagine we are moving down the tree, and assume we are root node. The comparison yields three possibilities,\n",
    "\n",
    "A) Root data is equal to key. We are done, root data is ceil value.\n",
    "\n",
    "B) Root data < key value, certainly the ceil value can't be in left subtree. \n",
    "   Proceed to search on right subtree as reduced problem instance.\n",
    "\n",
    "C) Root data > key value, the ceil value may be in left subtree. \n",
    "   We may find a node with is larger data than key value in left subtree, \n",
    "   if not the root itself will be ceil node.\n",
    "\"\"\"\n",
    "\n",
    "\n",
    "class Solution:\n",
    "    \n",
    "    def findCeil(self,root, inp):\n",
    "        if root == None:\n",
    "            return -1\n",
    "            \n",
    "        if root.key == inp:\n",
    "            return root.key\n",
    "        \n",
    "        if inp > root.key:\n",
    "            return self.findCeil(root.right,inp)\n",
    "        \n",
    "        x = self.findCeil(root.left,inp)\n",
    "        \n",
    "        if x >= inp:\n",
    "            return x\n",
    "        else:\n",
    "            return root.key\n",
    "        \n",
    "# Time comp:O(H)\n",
    "# Space comp:O(H)"
   ]
  },
  {
   "cell_type": "code",
   "execution_count": null,
   "id": "8a1246da",
   "metadata": {},
   "outputs": [],
   "source": []
  }
 ],
 "metadata": {
  "kernelspec": {
   "display_name": "Python 3",
   "language": "python",
   "name": "python3"
  },
  "language_info": {
   "codemirror_mode": {
    "name": "ipython",
    "version": 3
   },
   "file_extension": ".py",
   "mimetype": "text/x-python",
   "name": "python",
   "nbconvert_exporter": "python",
   "pygments_lexer": "ipython3",
   "version": "3.6.5"
  }
 },
 "nbformat": 4,
 "nbformat_minor": 5
}
