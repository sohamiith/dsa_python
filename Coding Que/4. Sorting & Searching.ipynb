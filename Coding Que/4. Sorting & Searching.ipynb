{
 "cells": [
  {
   "cell_type": "markdown",
   "id": "a54c009b",
   "metadata": {},
   "source": [
    "## Sorting and Searching"
   ]
  },
  {
   "cell_type": "markdown",
   "id": "7478a3c4",
   "metadata": {},
   "source": [
    "### 91. First and last occurrences of x"
   ]
  },
  {
   "cell_type": "code",
   "execution_count": null,
   "id": "f9db93e3",
   "metadata": {},
   "outputs": [],
   "source": [
    "def find(arr,n,x):\n",
    "    # code here\n",
    "    first = -1\n",
    "    last = -1\n",
    "    \n",
    "    for i in range(n):\n",
    "        if arr[i] == x:\n",
    "            if first == -1:\n",
    "                first = i\n",
    "                last = i\n",
    "            else:\n",
    "                last = i\n",
    "    return (first,last)"
   ]
  },
  {
   "cell_type": "code",
   "execution_count": null,
   "id": "d9270cfb",
   "metadata": {},
   "outputs": [],
   "source": []
  },
  {
   "cell_type": "markdown",
   "id": "3fce0330",
   "metadata": {},
   "source": [
    "### 92. Value equal to index value"
   ]
  },
  {
   "cell_type": "code",
   "execution_count": null,
   "id": "7fd611e1",
   "metadata": {},
   "outputs": [],
   "source": [
    "class Solution:\n",
    "    def valueEqualToIndex(self,arr, n):\n",
    "        # code here\n",
    "        ans = []\n",
    "        for i in range(n):\n",
    "            if arr[i] == i+1:\n",
    "                ans.append(arr[i])\n",
    "        return ans"
   ]
  },
  {
   "cell_type": "code",
   "execution_count": null,
   "id": "6d1a30f0",
   "metadata": {},
   "outputs": [],
   "source": []
  },
  {
   "cell_type": "markdown",
   "id": "6b069476",
   "metadata": {},
   "source": [
    "### 94. Count Squares"
   ]
  },
  {
   "cell_type": "raw",
   "id": "29edc98d",
   "metadata": {},
   "source": [
    "Input :\n",
    "N = 9\n",
    "Output:2\n",
    "Explanation:\n",
    "1 and 4 are the only Perfect Squares less than 9. So, the Output is 2."
   ]
  },
  {
   "cell_type": "code",
   "execution_count": null,
   "id": "b3b82a58",
   "metadata": {},
   "outputs": [],
   "source": [
    "class Solution:\n",
    "    def countSquares(self, N):\n",
    "        # code here \n",
    "        import math\n",
    "        return math.ceil(math.sqrt(N)) - 1"
   ]
  },
  {
   "cell_type": "code",
   "execution_count": null,
   "id": "970b3905",
   "metadata": {},
   "outputs": [],
   "source": []
  },
  {
   "cell_type": "markdown",
   "id": "90c9745f",
   "metadata": {},
   "source": [
    "### 95. Maximum and minimum of an array using minimum number of comparisons"
   ]
  },
  {
   "cell_type": "code",
   "execution_count": 1,
   "id": "fb0638c4",
   "metadata": {},
   "outputs": [],
   "source": [
    "def getMinMax( a, n):\n",
    "    \n",
    "    mn = a[0]\n",
    "    mx = a[0]\n",
    "    \n",
    "    for i in a:\n",
    "        if mn > i:\n",
    "            mn = i\n",
    "        if mx < i:\n",
    "            mx = i\n",
    "    return (mn,mx)\n",
    "\n",
    "# Check whether its possible to do with less number of comparision?"
   ]
  },
  {
   "cell_type": "code",
   "execution_count": null,
   "id": "7761359f",
   "metadata": {},
   "outputs": [],
   "source": []
  },
  {
   "cell_type": "markdown",
   "id": "a1f34e6e",
   "metadata": {},
   "source": [
    "### 97. Find the repeating and the missing"
   ]
  },
  {
   "cell_type": "raw",
   "id": "6844ddd1",
   "metadata": {},
   "source": [
    "Given an unsorted array Arr of size N of positive integers. One number 'A' from set {1, 2, …N} is missing and one number 'B' occurs twice in array. Find these two numbers.\n",
    "\n",
    "Input: N = 3   Arr[] = {1, 3, 3}\n",
    "Output: 3 2\n",
    "Explanation: Repeating number is 3 and smallest positive missing number is 2."
   ]
  },
  {
   "cell_type": "code",
   "execution_count": null,
   "id": "85f90d1a",
   "metadata": {},
   "outputs": [],
   "source": [
    "# Simple solution is to using a map,\n",
    "# this is without using extra space\n",
    "\n",
    "class Solution:\n",
    "    def findTwoElement( self,arr, n): \n",
    "        rep = 0\n",
    "        miss = 0\n",
    "        \n",
    "        for i in range(n):\n",
    "            index = abs(arr[i]) - 1\n",
    "            if arr[index] < 0:\n",
    "                rep = index + 1\n",
    "            else:\n",
    "                arr[index] = -1 * arr[index]\n",
    "        \n",
    "        for i in range(n):\n",
    "            if arr[i] > 0:\n",
    "                miss = i+1\n",
    "                break\n",
    "        \n",
    "        return (rep,miss)"
   ]
  },
  {
   "cell_type": "code",
   "execution_count": null,
   "id": "5948bb86",
   "metadata": {},
   "outputs": [],
   "source": []
  },
  {
   "cell_type": "markdown",
   "id": "26fa0ef3",
   "metadata": {},
   "source": [
    "### 98. Majority Element"
   ]
  },
  {
   "cell_type": "raw",
   "id": "8f6df3d2",
   "metadata": {},
   "source": [
    "Given an array A of N elements. Find the majority element in the array. A majority element in an array A of size N is an element that appears more than N/2 times in the array.\n",
    "\n",
    "Input: N = 5  A[] = {3,1,3,3,2} \n",
    "Output:3\n",
    "Explanation: Since, 3 is present more than N/2 times, so it is the majority element."
   ]
  },
  {
   "cell_type": "code",
   "execution_count": null,
   "id": "8eb7b481",
   "metadata": {},
   "outputs": [],
   "source": [
    "class Solution:\n",
    "    def majorityElement(self, A, N):\n",
    "        A = sorted(A)\n",
    "        mid = A[N//2]\n",
    "        c = A.count(mid)\n",
    "        if c > (N//2):\n",
    "            return mid\n",
    "        return -1"
   ]
  },
  {
   "cell_type": "code",
   "execution_count": null,
   "id": "4b8cb88b",
   "metadata": {},
   "outputs": [],
   "source": [
    "class Solution:\n",
    "    def majorityElement(self, A, N):\n",
    "        #Your code here\n",
    "        def findHighest(A):\n",
    "            count = 0\n",
    "            element = 0\n",
    "    \n",
    "            for i in A:\n",
    "                if count == 0:\n",
    "                    element = i\n",
    "    \n",
    "                if element == i:\n",
    "                    count += 1\n",
    "                else:\n",
    "                    count -= 1\n",
    "    \n",
    "            return element\n",
    "        \n",
    "        element = findHighest(A)\n",
    "    \n",
    "        # After getting potential highest element, check whether its in majority or not\n",
    "        count = 0\n",
    "        for i in A:\n",
    "            if i == element:\n",
    "                count += 1\n",
    "        if count >= (N//2 + 1):\n",
    "            return element\n",
    "        \n",
    "        return -1"
   ]
  },
  {
   "cell_type": "code",
   "execution_count": null,
   "id": "18f28579",
   "metadata": {},
   "outputs": [],
   "source": []
  },
  {
   "cell_type": "markdown",
   "id": "d22172b5",
   "metadata": {},
   "source": [
    "### 99. Searching in an array where adjacent differ by at most k"
   ]
  },
  {
   "cell_type": "raw",
   "id": "8369349a",
   "metadata": {},
   "source": [
    "A step array is an array of integers where each element has a difference of at most k with its neighbor. Given a key x, we need to find the index value of x if multiple elements exist, and return the first occurrence of the key.\n",
    "\n",
    "Example 1:\n",
    "Input : arr[ ] = {4, 5, 6, 7, 6}, K = 1 and X = 6\n",
    "Output : 2\n",
    "Explanation:In an array arr 6 is present at index 2. So, return 2."
   ]
  },
  {
   "cell_type": "code",
   "execution_count": null,
   "id": "c99de802",
   "metadata": {},
   "outputs": [],
   "source": [
    "def search (arr, n, x, k) :\n",
    "    for i in range(n):\n",
    "        if arr[i] == x:\n",
    "            return i\n",
    "    return -1"
   ]
  },
  {
   "cell_type": "code",
   "execution_count": null,
   "id": "dbe26e45",
   "metadata": {},
   "outputs": [],
   "source": [
    "def search (arr, n, x, k) : \n",
    "    i = 0\n",
    "    while i<n:\n",
    "        if arr[i] == x:\n",
    "            return i\n",
    "        \n",
    "        diff = abs(arr[i] - x)\n",
    "        i += max(1, diff//k)\n",
    "    return -1"
   ]
  },
  {
   "cell_type": "code",
   "execution_count": null,
   "id": "ae7a2043",
   "metadata": {},
   "outputs": [],
   "source": []
  },
  {
   "cell_type": "markdown",
   "id": "5ebbf6f5",
   "metadata": {},
   "source": [
    "### 100. Find Pair Given Difference"
   ]
  },
  {
   "cell_type": "raw",
   "id": "e5abe822",
   "metadata": {},
   "source": [
    "Given an array Arr[] of size L and a number N, you need to write a program to find if there exists a pair of elements in the array whose difference is N.\n",
    "\n",
    "Example 1:\n",
    "\n",
    "Input: L = 6, N = 78, arr[] = {5, 20, 3, 2, 5, 80}\n",
    "Output: 1   Explanation: (2, 80) have difference of 78."
   ]
  },
  {
   "cell_type": "code",
   "execution_count": null,
   "id": "3e7e6d44",
   "metadata": {},
   "outputs": [],
   "source": [
    "# C++ code:\n",
    "\n",
    "bool findPair(int arr[], int size, int n){\n",
    "   int i=0,j=1;\n",
    "   sort(arr,arr+size);\n",
    "   \n",
    "   while(i<size && j <size)\n",
    "   {\n",
    "       if(abs(arr[i]-arr[j])==n&&j!=i)\n",
    "           return true;\n",
    "       else if(abs(arr[i]-arr[j]) <n)\n",
    "           j++;\n",
    "       else\n",
    "           i++;\n",
    "   }\n",
    "   return false;  \n",
    "}"
   ]
  },
  {
   "cell_type": "code",
   "execution_count": null,
   "id": "2c63a0d1",
   "metadata": {},
   "outputs": [],
   "source": []
  },
  {
   "cell_type": "markdown",
   "id": "7b41e77f",
   "metadata": {},
   "source": [
    "### 103. Count triplet with sum smaller than a given value"
   ]
  },
  {
   "cell_type": "raw",
   "id": "8fb9dd83",
   "metadata": {},
   "source": [
    "Given an array arr[] of distinct integers of size N and a value sum, the task is to find the count of triplets (i, j, k), having (i<j<k) with the sum of (arr[i] + arr[j] + arr[k]) smaller than the given value sum.\n",
    "\n",
    "Example 1:\n",
    "Input: N = 4, sum = 2, arr[] = {-2, 0, 1, 3}\n",
    "Output:  2    \n",
    "Explanation: Below are triplets with sum less than 2 (-2, 0, 1) and (-2, 0, 3). \n",
    "\n",
    "Input: N = 5, sum = 12, arr[] = {5, 1, 3, 4, 7}\n",
    "Output: 4\n",
    "Explanation: Below are triplets with sum less than 12 (1, 3, 4), (1, 3, 5), (1, 3, 7) and (1, 4, 5)."
   ]
  },
  {
   "cell_type": "code",
   "execution_count": null,
   "id": "b7a4ef77",
   "metadata": {},
   "outputs": [],
   "source": [
    "def countTriplets(self, arr, n, sumo):\n",
    "    ans = 0\n",
    "    arr = sorted(arr)\n",
    "\n",
    "    for i in range(0,n-2):\n",
    "        j = i+1\n",
    "        k = n-1\n",
    "\n",
    "        while j<k:\n",
    "            if arr[i] + arr[j] + arr[k] >= sumo:\n",
    "                k -= 1\n",
    "            else:\n",
    "                ans += k-j\n",
    "                j += 1\n",
    "    return ans"
   ]
  },
  {
   "cell_type": "code",
   "execution_count": null,
   "id": "0c12260a",
   "metadata": {},
   "outputs": [],
   "source": []
  },
  {
   "cell_type": "markdown",
   "id": "8c70fdef",
   "metadata": {},
   "source": [
    "### 105. Zero Sum Subarrays"
   ]
  },
  {
   "cell_type": "raw",
   "id": "49b1d325",
   "metadata": {},
   "source": [
    "You are given an array arr[] of size n. Find the total count of sub-arrays having their sum equal to 0.\n",
    "\n",
    "Example 1:\n",
    "\n",
    "Input:n = 6, arr[] = {0,0,5,5,0,0}\n",
    "Output: 6\n",
    "Explanation: The 6 subarrays are [0], [0], [0], [0], [0,0], and [0,0]."
   ]
  },
  {
   "cell_type": "code",
   "execution_count": null,
   "id": "1e434a5d",
   "metadata": {},
   "outputs": [],
   "source": [
    "class Solution:\n",
    "    def findSubArrays(self,arr,n):\n",
    "        sum_map={}\n",
    "        sum_map[0] = 1\n",
    "        \n",
    "        ans = 0\n",
    "        current_sum = 0\n",
    "        \n",
    "        for i in range(n):\n",
    "            current_sum += arr[i]\n",
    "            \n",
    "            if current_sum in sum_map:\n",
    "                ans += sum_map[current_sum]\n",
    "                sum_map[current_sum] += 1\n",
    "            else:\n",
    "                sum_map[current_sum] = 1\n",
    "        return ans"
   ]
  },
  {
   "cell_type": "code",
   "execution_count": null,
   "id": "10a905f2",
   "metadata": {},
   "outputs": [],
   "source": []
  },
  {
   "cell_type": "markdown",
   "id": "c0f6b4f6",
   "metadata": {},
   "source": [
    "### 106. Product array puzzle"
   ]
  },
  {
   "cell_type": "raw",
   "id": "3e595c15",
   "metadata": {},
   "source": [
    "Given an array nums[] of size n, construct a Product Array P (of same size n) such that P[i] is equal to the product of all the elements of nums except nums[i].\n",
    "\n",
    " \n",
    "\n",
    "Example 1:\n",
    "\n",
    "Input:\n",
    "n = 5\n",
    "nums[] = {10, 3, 5, 6, 2}\n",
    "Output:\n",
    "180 600 360 300 900\n",
    "Explanation: \n",
    "For i=0, P[i] = 3*5*6*2 = 180.\n",
    "For i=1, P[i] = 10*5*6*2 = 600.\n",
    "For i=2, P[i] = 10*3*6*2 = 360.\n",
    "For i=3, P[i] = 10*3*5*2 = 300.\n",
    "For i=4, P[i] = 10*3*5*6 = 900."
   ]
  },
  {
   "cell_type": "code",
   "execution_count": 1,
   "id": "3d3b7efd",
   "metadata": {},
   "outputs": [],
   "source": [
    "# Start calculating prod till that num from starting of an array and store it in hash_map with index as key\n",
    "# Start calculating prod till that num from ending of an array and multiply it with stored value from hash_map\n",
    "\n",
    "def productExceptSelf(nums, n):\n",
    "    output = [0] * n\n",
    "\n",
    "    hash_map = {}\n",
    "\n",
    "    prod_so_far = 1\n",
    "\n",
    "    for i in range(0,n):\n",
    "        hash_map[i] = prod_so_far\n",
    "        prod_so_far *= nums[i]\n",
    "\n",
    "    prod_so_far = 1\n",
    "\n",
    "    for i in range(n-1,-1,-1):\n",
    "        output[i] = hash_map[i] * prod_so_far\n",
    "        prod_so_far *= nums[i]\n",
    "\n",
    "    return output\n",
    "\n",
    "# Time comp:O(N)\n",
    "# Space comp:O(N)"
   ]
  },
  {
   "cell_type": "code",
   "execution_count": 2,
   "id": "1d0801a2",
   "metadata": {},
   "outputs": [
    {
     "data": {
      "text/plain": [
       "[180, 600, 360, 300, 900]"
      ]
     },
     "execution_count": 2,
     "metadata": {},
     "output_type": "execute_result"
    }
   ],
   "source": [
    "productExceptSelf([10, 3, 5, 6, 2], 5)"
   ]
  },
  {
   "cell_type": "code",
   "execution_count": 4,
   "id": "7385b1d6",
   "metadata": {},
   "outputs": [],
   "source": [
    "# Basic idea is to find prod of all element\n",
    "# Then devide all_prod by particular number and store it to output array\n",
    "# Here we need to handle 0 as an element\n",
    "\n",
    "def productExceptSelf(nums, n):\n",
    "        output = [0] * n\n",
    "        \n",
    "        all_prod = 1\n",
    "        flag = 0\n",
    "        for i in nums:\n",
    "            if i == 0:\n",
    "                flag += 1\n",
    "            else:\n",
    "                all_prod *= i\n",
    "        \n",
    "        for i in range(len(nums)):\n",
    "            # If there are more than 1 zero then all output will be zero\n",
    "            if flag > 1:\n",
    "                output[i] = 0\n",
    "            # If no zeros then\n",
    "            elif flag == 0:\n",
    "                output[i] = all_prod // nums[i]\n",
    "            #If only 1 zero then all other output will be 0 except item 0 itself\n",
    "            elif flag == 1 and nums[i] != 0:\n",
    "                output[i] = 0\n",
    "            else:\n",
    "                output[i] = all_prod\n",
    "        \n",
    "        return output\n",
    "    \n",
    "# Time comp:O(N)\n",
    "# Space comp:O(1)"
   ]
  },
  {
   "cell_type": "code",
   "execution_count": 5,
   "id": "febd3f64",
   "metadata": {},
   "outputs": [
    {
     "name": "stdout",
     "output_type": "stream",
     "text": [
      "[180, 600, 360, 300, 900]\n",
      "[0, 12]\n"
     ]
    }
   ],
   "source": [
    "print(productExceptSelf([10, 3, 5, 6, 2], 5))\n",
    "print(productExceptSelf([12,0], 2))"
   ]
  },
  {
   "cell_type": "code",
   "execution_count": null,
   "id": "d92f06b7",
   "metadata": {},
   "outputs": [],
   "source": []
  },
  {
   "cell_type": "markdown",
   "id": "ce34bb4f",
   "metadata": {},
   "source": [
    "### 108. minimum no. of swaps required to sort the array"
   ]
  },
  {
   "cell_type": "raw",
   "id": "6a7ae8d1",
   "metadata": {},
   "source": [
    "Given an array of n distinct elements. Find the minimum number of swaps required to sort the array in strictly increasing order.\n",
    "\n",
    "Example 1:\n",
    "\n",
    "Input:\n",
    "nums = {2, 8, 5, 4}\n",
    "Output:1\n",
    "Explaination: swap 8 with 4.\n",
    "\n",
    "Example 2:\n",
    "\n",
    "Input:\n",
    "nums = {10, 19, 6, 3, 5}\n",
    "Output:2\n",
    "Explaination: swap 10 with 3 and swap 19 with 5."
   ]
  },
  {
   "cell_type": "code",
   "execution_count": 18,
   "id": "886ccd17",
   "metadata": {},
   "outputs": [],
   "source": [
    "class Solution:\n",
    "    def minSwaps(self, arr):\n",
    "        ans = 0\n",
    "        temp = arr.copy()\n",
    "\n",
    "        h = {}\n",
    "\n",
    "        temp.sort()\n",
    "        n = len(arr)\n",
    "        for i in range(n):\n",
    "            h[arr[i]] = i\n",
    "\n",
    "        init = 0\n",
    "        for i in range(n):\n",
    "            if arr[i] != temp[i]:\n",
    "                ans += 1\n",
    "                init = arr[i]\n",
    "\n",
    "                arr[i], arr[h[temp[i]]] = arr[h[temp[i]]], arr[i]\n",
    "\n",
    "                h[init] = h[temp[i]]\n",
    "                h[temp[i]] = i\n",
    "\n",
    "        return ans\n",
    "    \n",
    "# Time comp:O(N log N)\n",
    "# Space comp:O(N)"
   ]
  },
  {
   "cell_type": "code",
   "execution_count": 19,
   "id": "e69fa7e3",
   "metadata": {},
   "outputs": [
    {
     "data": {
      "text/plain": [
       "2"
      ]
     },
     "execution_count": 19,
     "metadata": {},
     "output_type": "execute_result"
    }
   ],
   "source": [
    "s = Solution()\n",
    "s.minSwaps([10, 19, 6, 3, 5])"
   ]
  },
  {
   "cell_type": "code",
   "execution_count": null,
   "id": "279ca3b6",
   "metadata": {},
   "outputs": [],
   "source": []
  },
  {
   "cell_type": "markdown",
   "id": "cb10608d",
   "metadata": {},
   "source": [
    "### 113. K-th Element of Two Sorted Arrays"
   ]
  },
  {
   "cell_type": "raw",
   "id": "50c08ad6",
   "metadata": {},
   "source": [
    "Given two sorted arrays arr1 and arr2 of size N and M respectively and an element K. The task is to find the element that would be at the k’th position of the final sorted array.\n",
    " \n",
    "\n",
    "Example 1:\n",
    "\n",
    "Input:\n",
    "arr1[] = {2, 3, 6, 7, 9}\n",
    "arr2[] = {1, 4, 8, 10}\n",
    "k = 5\n",
    "Output:\n",
    "6\n",
    "Explanation:\n",
    "The final sorted array would be -1, 2, 3, 4, 6, 7, 8, 9, 10\n",
    "The 5th element of this array is 6.\n"
   ]
  },
  {
   "cell_type": "code",
   "execution_count": 2,
   "id": "6ac6d098",
   "metadata": {},
   "outputs": [],
   "source": [
    "\"\"\"\n",
    "Search linearly.\n",
    "Since we have to find kth smallest, and both array's are sorted,\n",
    "We will take two pointer i and j pointing to two diff arrays, \n",
    "will keep incrementing one of the pointer.\n",
    "\"\"\"\n",
    "\n",
    "class Solution:\n",
    "    def kthElement(self,  arr1, arr2, n, m, k):\n",
    "        i = 0\n",
    "        j = 0\n",
    "        curr = 0\n",
    "        \n",
    "        while curr < k-1:\n",
    "            if i < n and j < m:\n",
    "                if arr1[i] < arr2[j]:\n",
    "                    i += 1\n",
    "                else:\n",
    "                    j += 1\n",
    "                curr += 1\n",
    "                \n",
    "            elif j < m:\n",
    "                j += 1\n",
    "                curr += 1\n",
    "                \n",
    "            else:\n",
    "                i += 1\n",
    "                curr += 1\n",
    "            \n",
    "        if i < n and j < m:\n",
    "            return min(arr1[i],arr2[j])\n",
    "        elif j < m:\n",
    "            return arr2[j]\n",
    "        else:\n",
    "            return arr1[i]\n",
    "        \n",
    "# Time comp:O(K)\n",
    "# Space comp:O(1)"
   ]
  },
  {
   "cell_type": "code",
   "execution_count": 3,
   "id": "339379e4",
   "metadata": {},
   "outputs": [
    {
     "data": {
      "text/plain": [
       "6"
      ]
     },
     "execution_count": 3,
     "metadata": {},
     "output_type": "execute_result"
    }
   ],
   "source": [
    "s = Solution()\n",
    "s.kthElement([2, 3, 6, 7, 9],[1, 4, 8, 10],5,4,5)"
   ]
  },
  {
   "cell_type": "code",
   "execution_count": 6,
   "id": "d49cdcf9",
   "metadata": {},
   "outputs": [],
   "source": [
    "# https://www.youtube.com/watch?v=nv7F4PiLUzo\n",
    "\n",
    "class Solution:\n",
    "    def solve(self,arr1,arr2,n,m,k):\n",
    "        low = max(0,k-m)\n",
    "        high = min(k,n)\n",
    "        \n",
    "        while low<=high:\n",
    "            cut1 = (low+high)//2\n",
    "            cut2 = k-cut1\n",
    "            \n",
    "            l1 = float('-inf') if cut1 == 0 else arr1[cut1-1]\n",
    "            l2 = float('-inf') if cut2 == 0 else arr2[cut2-1]\n",
    "            r1 = float('inf') if cut1 == n else arr1[cut1]\n",
    "            r2 = float('inf') if cut2 == m else arr2[cut2]\n",
    "            \n",
    "            if l1<=r2 and l2<=r1:\n",
    "                return max(l1,l2)\n",
    "            elif l1 > r2:\n",
    "                high = cut1-1\n",
    "            else:\n",
    "                low = cut1+1\n",
    "        \n",
    "        return 1\n",
    "    \n",
    "    def kthElement(self,  arr1, arr2, n, m, k):\n",
    "        if n < m:\n",
    "            return self.solve(arr1,arr2,n,m,k)\n",
    "        else:\n",
    "            return self.solve(arr2,arr1,m,n,k)\n",
    "        \n",
    "# Time comp:O(log(min(N,M)))\n",
    "# Space comp:O(1)"
   ]
  },
  {
   "cell_type": "code",
   "execution_count": 7,
   "id": "afd5f804",
   "metadata": {},
   "outputs": [
    {
     "data": {
      "text/plain": [
       "6"
      ]
     },
     "execution_count": 7,
     "metadata": {},
     "output_type": "execute_result"
    }
   ],
   "source": [
    "s = Solution()\n",
    "s.kthElement([2, 3, 6, 7, 9],[1, 4, 8, 10],5,4,5)"
   ]
  },
  {
   "cell_type": "code",
   "execution_count": null,
   "id": "d9de68b6",
   "metadata": {},
   "outputs": [],
   "source": []
  },
  {
   "cell_type": "markdown",
   "id": "7b171cec",
   "metadata": {},
   "source": [
    "### 118. Arithmetic Number"
   ]
  },
  {
   "cell_type": "raw",
   "id": "1d237f49",
   "metadata": {},
   "source": [
    "Given three integers  'A' denoting the first term of an arithmetic sequence , 'C' denoting the common difference of an arithmetic sequence and an integer 'B'. you need to tell whether 'B' exists in the arithmetic sequence or not.\n",
    "\n",
    "Example 1:\n",
    "Input: A = 1, B = 3, C = 2\n",
    "Output: 1\n",
    "Explaination: 3 is the second term of the sequence starting with 1 and having a common difference 2."
   ]
  },
  {
   "cell_type": "code",
   "execution_count": null,
   "id": "7799d8f9",
   "metadata": {},
   "outputs": [],
   "source": [
    "class Solution:\n",
    "    def inSequence(self, A, B, C):\n",
    "        n = abs(A-B)\n",
    "        \n",
    "        if B < A and C > 0:\n",
    "            return 0\n",
    "        if A < B and C < 0:\n",
    "            return 0\n",
    "        if A == B:\n",
    "            return 1\n",
    "        if C == 0:\n",
    "            return 0\n",
    "        \n",
    "        if n%C == 0:\n",
    "            return 1\n",
    "        else:\n",
    "            return 0"
   ]
  },
  {
   "cell_type": "code",
   "execution_count": null,
   "id": "8129c34f",
   "metadata": {},
   "outputs": [],
   "source": []
  },
  {
   "cell_type": "markdown",
   "id": "f5081216",
   "metadata": {},
   "source": [
    "### 119. Smallest number with at least n trailing zeroes in factorial"
   ]
  },
  {
   "cell_type": "raw",
   "id": "3f7b468b",
   "metadata": {},
   "source": [
    "Given a number n. The task is to find the smallest number whose factorial contains at least n trailing zeroes.\n",
    "\n",
    "Example 1:\n",
    "\n",
    "Input:\n",
    "n = 1\n",
    "Output: 5\n",
    "Explanation : 5! = 120 which has at\n",
    "least 1 trailing 0.\n",
    "Example 2:\n",
    "\n",
    "Input:\n",
    "n = 6\n",
    "Output: 25\n",
    "Explanation : 25! has at least\n",
    "6 trailing 0."
   ]
  },
  {
   "cell_type": "code",
   "execution_count": null,
   "id": "f90fb9a6",
   "metadata": {},
   "outputs": [],
   "source": [
    "class Solution:\n",
    "    def findNum(self, n : int):\n",
    "        if n == 0:\n",
    "            return 0\n",
    "        \n",
    "        x = 10**n\n",
    "        i = 1\n",
    "        value = 1\n",
    "        \n",
    "        while True:\n",
    "            value = value * i\n",
    "            if value%x == 0:\n",
    "                return i\n",
    "            \n",
    "            i += 1\n",
    "            \n",
    "# Not complete solution"
   ]
  },
  {
   "cell_type": "code",
   "execution_count": null,
   "id": "662701ae",
   "metadata": {},
   "outputs": [],
   "source": []
  },
  {
   "cell_type": "code",
   "execution_count": null,
   "id": "05e79066",
   "metadata": {},
   "outputs": [],
   "source": []
  },
  {
   "cell_type": "markdown",
   "id": "97c30992",
   "metadata": {},
   "source": [
    "### 511. Buuble sort"
   ]
  },
  {
   "cell_type": "raw",
   "id": "871a692d",
   "metadata": {},
   "source": [
    "Given an Integer N and a list arr. Sort the array using bubble sort algorithm.\n",
    "Example 1:\n",
    "\n",
    "Input: \n",
    "N = 5\n",
    "arr[] = {4, 1, 3, 9, 7}\n",
    "Output: \n",
    "1 3 4 7 9"
   ]
  },
  {
   "cell_type": "raw",
   "id": "f813e21d",
   "metadata": {},
   "source": [
    "works by repeatedly swapping the adjacent elements if they are in the wrong order\n",
    "\n",
    "Input: arr[] = {5, 1, 4, 2, 8}\n",
    "\n",
    "First Pass: \n",
    "\n",
    "Bubble sort starts with very first two elements, comparing them to check which one is greater.\n",
    "( 5 1 4 2 8 ) –> ( 1 5 4 2 8 ), Here, algorithm compares the first two elements, and swaps since 5 > 1. \n",
    "( 1 5 4 2 8 ) –>  ( 1 4 5 2 8 ), Swap since 5 > 4 \n",
    "( 1 4 5 2 8 ) –>  ( 1 4 2 5 8 ), Swap since 5 > 2 \n",
    "( 1 4 2 5 8 ) –> ( 1 4 2 5 8 ), since these elements are already in order (8 > 5), algorithm does not swap them.\n",
    "\n",
    "If at any point of time, number of swap are 0, stop there.\n",
    "If array is already sorted then it will take O(N) time only"
   ]
  },
  {
   "cell_type": "code",
   "execution_count": 1,
   "id": "979f8523",
   "metadata": {},
   "outputs": [],
   "source": [
    "class Solution:\n",
    "    def bubbleSort(self,arr, n):\n",
    "        \n",
    "        for i in range(n):\n",
    "            swapped = False\n",
    "            \n",
    "            for j in range(0,n-i-1):\n",
    "                if arr[j] > arr[j+1]:\n",
    "                    arr[j], arr[j+1] = arr[j+1], arr[j]\n",
    "                    swapped = True\n",
    "            \n",
    "            if swapped == False:\n",
    "                break\n",
    "        \n",
    "        return arr\n",
    "    \n",
    "# Time comp:O(N^2)\n",
    "# Space comp:O(1)"
   ]
  },
  {
   "cell_type": "code",
   "execution_count": 2,
   "id": "f25b727b",
   "metadata": {},
   "outputs": [
    {
     "data": {
      "text/plain": [
       "[1, 3, 4, 7, 9]"
      ]
     },
     "execution_count": 2,
     "metadata": {},
     "output_type": "execute_result"
    }
   ],
   "source": [
    "s = Solution()\n",
    "s.bubbleSort([4,1,3,9,7],5)"
   ]
  },
  {
   "cell_type": "code",
   "execution_count": null,
   "id": "08c7991d",
   "metadata": {},
   "outputs": [],
   "source": []
  },
  {
   "cell_type": "markdown",
   "id": "170c6dba",
   "metadata": {},
   "source": [
    "### 512. Insertion Sort"
   ]
  },
  {
   "cell_type": "raw",
   "id": "cb66b75e",
   "metadata": {},
   "source": [
    "The task is to complete the insert() function which is used to implement Insertion Sort.\n",
    "\n",
    "Example 1:\n",
    "Input: N = 5, arr[] = { 4, 1, 3, 9, 7}\n",
    "Output: 1 3 4 7 9"
   ]
  },
  {
   "cell_type": "raw",
   "id": "fe6407b9",
   "metadata": {},
   "source": [
    "To sort an array of size N in ascending order: \n",
    "\n",
    "-> Iterate from arr[1] to arr[N] over the array. \n",
    "-> Compare the current element (key) to its predecessor. \n",
    "-> If the key element is smaller than its predecessor, compare it to the elements before. Move the greater elements one position up to make space for the swapped element."
   ]
  },
  {
   "cell_type": "raw",
   "id": "66419a72",
   "metadata": {},
   "source": [
    "Third Pass:\n",
    "\n",
    "Moving forward to the next two elements which are 13 and 5\n",
    "\n",
    "11   \t   12   \t   13   \t   5   \t   6   \n",
    "Both 5 and 13 are not present at their correct place so swap them\n",
    "\n",
    "11   \t   12   \t   5   \t   13   \t   6   \n",
    "After swapping, elements 12 and 5 are not sorted, thus swap again\n",
    "\n",
    "11   \t   5   \t   12   \t   13   \t   6   \n",
    "Here, again 11 and 5 are not sorted, hence swap again\n",
    "\n",
    "5   \t   11   \t   12   \t   13   \t   6   "
   ]
  },
  {
   "cell_type": "code",
   "execution_count": 3,
   "id": "695d29aa",
   "metadata": {},
   "outputs": [],
   "source": [
    "class Solution:\n",
    "    def insertionSort(self, arr, n):\n",
    "        for i in range(1,n):\n",
    "            key = arr[i]\n",
    "            j = i-1\n",
    "            \n",
    "            while j >= 0 and key < arr[j]:\n",
    "                arr[j+1] = arr[j]\n",
    "                j -= 1\n",
    "            \n",
    "            arr[j+1] = key\n",
    "        \n",
    "        return arr\n",
    "    \n",
    "# Time comp:O(N^2)\n",
    "# Space comp:O(1)"
   ]
  },
  {
   "cell_type": "code",
   "execution_count": 4,
   "id": "28024bea",
   "metadata": {},
   "outputs": [
    {
     "data": {
      "text/plain": [
       "[1, 3, 4, 7, 9]"
      ]
     },
     "execution_count": 4,
     "metadata": {},
     "output_type": "execute_result"
    }
   ],
   "source": [
    "s = Solution()\n",
    "s.insertionSort([4,1,3,9,7],5)"
   ]
  },
  {
   "cell_type": "code",
   "execution_count": null,
   "id": "0314ec66",
   "metadata": {},
   "outputs": [],
   "source": []
  },
  {
   "cell_type": "markdown",
   "id": "42528611",
   "metadata": {},
   "source": [
    "### 513. Merge Sort"
   ]
  },
  {
   "cell_type": "raw",
   "id": "23263c7d",
   "metadata": {},
   "source": [
    "Given an array arr[], its starting position l and its ending position r. Sort the array using merge sort algorithm.\n",
    "Example 1:\n",
    "\n",
    "Input:\n",
    "N = 5\n",
    "arr[] = {4 1 3 9 7}\n",
    "Output:\n",
    "1 3 4 7 9"
   ]
  },
  {
   "cell_type": "code",
   "execution_count": 9,
   "id": "607ee55a",
   "metadata": {},
   "outputs": [],
   "source": [
    "class Solution:\n",
    "    def merge(self,arr, si, mid, ei): \n",
    "        m = [0 for i in range((ei-si)+1)]\n",
    "        \n",
    "        i = si\n",
    "        j = mid+1\n",
    "        \n",
    "        x = 0\n",
    "        \n",
    "        while i <= mid and j <= ei:\n",
    "            if arr[i] <= arr[j]:\n",
    "                m[x] = arr[i]\n",
    "                x += 1\n",
    "                i += 1\n",
    "            else:\n",
    "                m[x] = arr[j]\n",
    "                x += 1\n",
    "                j += 1\n",
    "        \n",
    "        while i <= mid:\n",
    "            m[x] = arr[i]\n",
    "            x += 1\n",
    "            i += 1\n",
    "        \n",
    "        while j <= ei:\n",
    "            m[x] = arr[j]\n",
    "            x += 1\n",
    "            j += 1\n",
    "            \n",
    "        j = si\n",
    "        for i in range(len(m)):\n",
    "            arr[j] = m[i]\n",
    "            j += 1\n",
    "        \n",
    "    def divide(self,arr,si,ei):\n",
    "        if si >= ei:\n",
    "            return\n",
    "        \n",
    "        mid = int(si + (ei-si)/2)\n",
    "        self.divide(arr,si,mid)\n",
    "        self.divide(arr,mid+1,ei)\n",
    "        self.merge(arr,si,mid,ei)\n",
    "        \n",
    "    def mergeSort(self,arr, l, r):\n",
    "        n = len(arr)\n",
    "        self.divide(arr,l,r)\n",
    "        return arr\n",
    "    \n",
    "# Time comp:O(NlogN)\n",
    "# Space comp:O(N)"
   ]
  },
  {
   "cell_type": "code",
   "execution_count": 10,
   "id": "0e21c97a",
   "metadata": {},
   "outputs": [
    {
     "data": {
      "text/plain": [
       "[1, 3, 4, 7, 9]"
      ]
     },
     "execution_count": 10,
     "metadata": {},
     "output_type": "execute_result"
    }
   ],
   "source": [
    "s = Solution()\n",
    "s.mergeSort([4, 1, 3, 9, 7],0,4)"
   ]
  },
  {
   "cell_type": "code",
   "execution_count": null,
   "id": "d26c49eb",
   "metadata": {},
   "outputs": [],
   "source": []
  },
  {
   "cell_type": "markdown",
   "id": "0a4405a9",
   "metadata": {},
   "source": [
    "### 514. Quick sort"
   ]
  },
  {
   "cell_type": "raw",
   "id": "ccf173b8",
   "metadata": {},
   "source": [
    "Quick Sort is a Divide and Conquer algorithm. It picks an element as a pivot and partitions the given array around the picked pivot.\n",
    "Given an array arr[], its starting position is low (the index of the array) and its ending position is high(the index of the array).\n",
    "\n",
    "Note: The low and high are inclusive.\n",
    "\n",
    "Implement the partition() and quickSort() functions to sort the array.\n",
    "\n",
    "\n",
    "Example 1:\n",
    "\n",
    "Input: \n",
    "N = 5 \n",
    "arr[] = { 4, 1, 3, 9, 7}\n",
    "Output:\n",
    "1 3 4 7 9"
   ]
  },
  {
   "cell_type": "code",
   "execution_count": 14,
   "id": "09d0de28",
   "metadata": {},
   "outputs": [],
   "source": [
    "class Solution:\n",
    "    \n",
    "    def partition(self,arr,low,high):\n",
    "        pivot = arr[high]\n",
    "        i = low-1\n",
    "        \n",
    "        for j in range(low,high):\n",
    "            if arr[j] < pivot:\n",
    "                i += 1\n",
    "                arr[i], arr[j] = arr[j], arr[i]\n",
    "        \n",
    "        i += 1\n",
    "        arr[i], arr[high] = arr[high], arr[i]\n",
    "        return i   # index of pivot\n",
    "    \n",
    "    def quickSort(self,arr,low,high):\n",
    "        if low >= high:\n",
    "            return arr\n",
    "        \n",
    "        pivot_ind = self.partition(arr,low,high)\n",
    "        self.quickSort(arr,low,pivot_ind-1)\n",
    "        self.quickSort(arr,pivot_ind+1,high)\n",
    "        \n",
    "        return arr\n",
    "    \n",
    "# Time comp:O(N log N) in avg case; (N^N) in worst case\n",
    "# Space comp: O(1)   (recursive stack: O(N)) "
   ]
  },
  {
   "cell_type": "code",
   "execution_count": 15,
   "id": "bf53cdf1",
   "metadata": {},
   "outputs": [
    {
     "data": {
      "text/plain": [
       "[1, 3, 4, 7, 9]"
      ]
     },
     "execution_count": 15,
     "metadata": {},
     "output_type": "execute_result"
    }
   ],
   "source": [
    "s = Solution()\n",
    "s.quickSort([4, 1, 3, 9, 7],0,4)"
   ]
  },
  {
   "cell_type": "code",
   "execution_count": null,
   "id": "f04144e1",
   "metadata": {},
   "outputs": [],
   "source": []
  }
 ],
 "metadata": {
  "kernelspec": {
   "display_name": "Python 3",
   "language": "python",
   "name": "python3"
  },
  "language_info": {
   "codemirror_mode": {
    "name": "ipython",
    "version": 3
   },
   "file_extension": ".py",
   "mimetype": "text/x-python",
   "name": "python",
   "nbconvert_exporter": "python",
   "pygments_lexer": "ipython3",
   "version": "3.9.12"
  }
 },
 "nbformat": 4,
 "nbformat_minor": 5
}
