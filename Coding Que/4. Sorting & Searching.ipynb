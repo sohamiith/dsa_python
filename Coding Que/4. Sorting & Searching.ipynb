{
 "cells": [
  {
   "cell_type": "markdown",
   "id": "a54c009b",
   "metadata": {},
   "source": [
    "## Sorting and Searching"
   ]
  },
  {
   "cell_type": "code",
   "execution_count": null,
   "id": "9b942727",
   "metadata": {},
   "outputs": [],
   "source": []
  },
  {
   "cell_type": "markdown",
   "id": "c0f6b4f6",
   "metadata": {},
   "source": [
    "### 106. Product array puzzle"
   ]
  },
  {
   "cell_type": "raw",
   "id": "3e595c15",
   "metadata": {},
   "source": [
    "Given an array nums[] of size n, construct a Product Array P (of same size n) such that P[i] is equal to the product of all the elements of nums except nums[i].\n",
    "\n",
    " \n",
    "\n",
    "Example 1:\n",
    "\n",
    "Input:\n",
    "n = 5\n",
    "nums[] = {10, 3, 5, 6, 2}\n",
    "Output:\n",
    "180 600 360 300 900\n",
    "Explanation: \n",
    "For i=0, P[i] = 3*5*6*2 = 180.\n",
    "For i=1, P[i] = 10*5*6*2 = 600.\n",
    "For i=2, P[i] = 10*3*6*2 = 360.\n",
    "For i=3, P[i] = 10*3*5*2 = 300.\n",
    "For i=4, P[i] = 10*3*5*6 = 900."
   ]
  },
  {
   "cell_type": "code",
   "execution_count": 1,
   "id": "3d3b7efd",
   "metadata": {},
   "outputs": [],
   "source": [
    "# Start calculating prod till that num from starting of an array and store it in hash_map with index as key\n",
    "# Start calculating prod till that num from ending of an array and multiply it with stored value from hash_map\n",
    "\n",
    "def productExceptSelf(nums, n):\n",
    "    output = [0] * n\n",
    "\n",
    "    hash_map = {}\n",
    "\n",
    "    prod_so_far = 1\n",
    "\n",
    "    for i in range(0,n):\n",
    "        hash_map[i] = prod_so_far\n",
    "        prod_so_far *= nums[i]\n",
    "\n",
    "    prod_so_far = 1\n",
    "\n",
    "    for i in range(n-1,-1,-1):\n",
    "        output[i] = hash_map[i] * prod_so_far\n",
    "        prod_so_far *= nums[i]\n",
    "\n",
    "    return output\n",
    "\n",
    "# Time comp:O(N)\n",
    "# Space comp:O(N)"
   ]
  },
  {
   "cell_type": "code",
   "execution_count": 2,
   "id": "1d0801a2",
   "metadata": {},
   "outputs": [
    {
     "data": {
      "text/plain": [
       "[180, 600, 360, 300, 900]"
      ]
     },
     "execution_count": 2,
     "metadata": {},
     "output_type": "execute_result"
    }
   ],
   "source": [
    "productExceptSelf([10, 3, 5, 6, 2], 5)"
   ]
  },
  {
   "cell_type": "code",
   "execution_count": 4,
   "id": "7385b1d6",
   "metadata": {},
   "outputs": [],
   "source": [
    "# Basic idea is to find prod of all element\n",
    "# Then devide all_prod by particular number and store it to output array\n",
    "# Here we need to handle 0 as an element\n",
    "\n",
    "def productExceptSelf(nums, n):\n",
    "        output = [0] * n\n",
    "        \n",
    "        all_prod = 1\n",
    "        flag = 0\n",
    "        for i in nums:\n",
    "            if i == 0:\n",
    "                flag += 1\n",
    "            else:\n",
    "                all_prod *= i\n",
    "        \n",
    "        for i in range(len(nums)):\n",
    "            # If there are more than 1 zero then all output will be zero\n",
    "            if flag > 1:\n",
    "                output[i] = 0\n",
    "            # If no zeros then\n",
    "            elif flag == 0:\n",
    "                output[i] = all_prod // nums[i]\n",
    "            #If only 1 zero then all other output will be 0 except item 0 itself\n",
    "            elif flag == 1 and nums[i] != 0:\n",
    "                output[i] = 0\n",
    "            else:\n",
    "                output[i] = all_prod\n",
    "        \n",
    "        return output\n",
    "    \n",
    "# Time comp:O(N)\n",
    "# Space comp:O(1)"
   ]
  },
  {
   "cell_type": "code",
   "execution_count": 5,
   "id": "febd3f64",
   "metadata": {},
   "outputs": [
    {
     "name": "stdout",
     "output_type": "stream",
     "text": [
      "[180, 600, 360, 300, 900]\n",
      "[0, 12]\n"
     ]
    }
   ],
   "source": [
    "print(productExceptSelf([10, 3, 5, 6, 2], 5))\n",
    "print(productExceptSelf([12,0], 2))"
   ]
  },
  {
   "cell_type": "code",
   "execution_count": null,
   "id": "d92f06b7",
   "metadata": {},
   "outputs": [],
   "source": []
  },
  {
   "cell_type": "markdown",
   "id": "cb10608d",
   "metadata": {},
   "source": [
    "### 113. K-th Element of Two Sorted Arrays"
   ]
  },
  {
   "cell_type": "raw",
   "id": "50c08ad6",
   "metadata": {},
   "source": [
    "Given two sorted arrays arr1 and arr2 of size N and M respectively and an element K. The task is to find the element that would be at the k’th position of the final sorted array.\n",
    " \n",
    "\n",
    "Example 1:\n",
    "\n",
    "Input:\n",
    "arr1[] = {2, 3, 6, 7, 9}\n",
    "arr2[] = {1, 4, 8, 10}\n",
    "k = 5\n",
    "Output:\n",
    "6\n",
    "Explanation:\n",
    "The final sorted array would be -1, 2, 3, 4, 6, 7, 8, 9, 10\n",
    "The 5th element of this array is 6.\n"
   ]
  },
  {
   "cell_type": "code",
   "execution_count": 2,
   "id": "6ac6d098",
   "metadata": {},
   "outputs": [],
   "source": [
    "\"\"\"\n",
    "Search linearly.\n",
    "Since we have to find kth smallest, and both array's are sorted,\n",
    "We will take two pointer i and j pointing to two diff arrays, \n",
    "will keep incrementing one of the pointer.\n",
    "\"\"\"\n",
    "\n",
    "class Solution:\n",
    "    def kthElement(self,  arr1, arr2, n, m, k):\n",
    "        i = 0\n",
    "        j = 0\n",
    "        curr = 0\n",
    "        \n",
    "        while curr < k-1:\n",
    "            if i < n and j < m:\n",
    "                if arr1[i] < arr2[j]:\n",
    "                    i += 1\n",
    "                else:\n",
    "                    j += 1\n",
    "                curr += 1\n",
    "                \n",
    "            elif j < m:\n",
    "                j += 1\n",
    "                curr += 1\n",
    "                \n",
    "            else:\n",
    "                i += 1\n",
    "                curr += 1\n",
    "            \n",
    "        if i < n and j < m:\n",
    "            return min(arr1[i],arr2[j])\n",
    "        elif j < m:\n",
    "            return arr2[j]\n",
    "        else:\n",
    "            return arr1[i]\n",
    "        \n",
    "# Time comp:O(K)\n",
    "# Space comp:O(1)"
   ]
  },
  {
   "cell_type": "code",
   "execution_count": 3,
   "id": "339379e4",
   "metadata": {},
   "outputs": [
    {
     "data": {
      "text/plain": [
       "6"
      ]
     },
     "execution_count": 3,
     "metadata": {},
     "output_type": "execute_result"
    }
   ],
   "source": [
    "s = Solution()\n",
    "s.kthElement([2, 3, 6, 7, 9],[1, 4, 8, 10],5,4,5)"
   ]
  },
  {
   "cell_type": "code",
   "execution_count": 6,
   "id": "d49cdcf9",
   "metadata": {},
   "outputs": [],
   "source": [
    "# https://www.youtube.com/watch?v=nv7F4PiLUzo\n",
    "\n",
    "class Solution:\n",
    "    def solve(self,arr1,arr2,n,m,k):\n",
    "        low = max(0,k-m)\n",
    "        high = min(k,n)\n",
    "        \n",
    "        while low<=high:\n",
    "            cut1 = (low+high)//2\n",
    "            cut2 = k-cut1\n",
    "            \n",
    "            l1 = float('-inf') if cut1 == 0 else arr1[cut1-1]\n",
    "            l2 = float('-inf') if cut2 == 0 else arr2[cut2-1]\n",
    "            r1 = float('inf') if cut1 == n else arr1[cut1]\n",
    "            r2 = float('inf') if cut2 == m else arr2[cut2]\n",
    "            \n",
    "            if l1<=r2 and l2<=r1:\n",
    "                return max(l1,l2)\n",
    "            elif l1 > r2:\n",
    "                high = cut1-1\n",
    "            else:\n",
    "                low = cut1+1\n",
    "        \n",
    "        return 1\n",
    "    \n",
    "    def kthElement(self,  arr1, arr2, n, m, k):\n",
    "        if n < m:\n",
    "            return self.solve(arr1,arr2,n,m,k)\n",
    "        else:\n",
    "            return self.solve(arr2,arr1,m,n,k)\n",
    "        \n",
    "# Time comp:O(log(min(N,M)))\n",
    "# Space comp:O(1)"
   ]
  },
  {
   "cell_type": "code",
   "execution_count": 7,
   "id": "afd5f804",
   "metadata": {},
   "outputs": [
    {
     "data": {
      "text/plain": [
       "6"
      ]
     },
     "execution_count": 7,
     "metadata": {},
     "output_type": "execute_result"
    }
   ],
   "source": [
    "s = Solution()\n",
    "s.kthElement([2, 3, 6, 7, 9],[1, 4, 8, 10],5,4,5)"
   ]
  },
  {
   "cell_type": "code",
   "execution_count": null,
   "id": "d9de68b6",
   "metadata": {},
   "outputs": [],
   "source": []
  },
  {
   "cell_type": "markdown",
   "id": "f5081216",
   "metadata": {},
   "source": [
    "### 119. Smallest number with at least n trailing zeroes in factorial"
   ]
  },
  {
   "cell_type": "raw",
   "id": "3f7b468b",
   "metadata": {},
   "source": [
    "Given a number n. The task is to find the smallest number whose factorial contains at least n trailing zeroes.\n",
    "\n",
    "Example 1:\n",
    "\n",
    "Input:\n",
    "n = 1\n",
    "Output: 5\n",
    "Explanation : 5! = 120 which has at\n",
    "least 1 trailing 0.\n",
    "Example 2:\n",
    "\n",
    "Input:\n",
    "n = 6\n",
    "Output: 25\n",
    "Explanation : 25! has at least\n",
    "6 trailing 0."
   ]
  },
  {
   "cell_type": "code",
   "execution_count": null,
   "id": "f90fb9a6",
   "metadata": {},
   "outputs": [],
   "source": [
    "class Solution:\n",
    "    def findNum(self, n : int):\n",
    "        if n == 0:\n",
    "            return 0\n",
    "        \n",
    "        x = 10**n\n",
    "        i = 1\n",
    "        value = 1\n",
    "        \n",
    "        while True:\n",
    "            value = value * i\n",
    "            if value%x == 0:\n",
    "                return i\n",
    "            \n",
    "            i += 1"
   ]
  },
  {
   "cell_type": "code",
   "execution_count": null,
   "id": "662701ae",
   "metadata": {},
   "outputs": [],
   "source": []
  },
  {
   "cell_type": "code",
   "execution_count": null,
   "id": "05e79066",
   "metadata": {},
   "outputs": [],
   "source": []
  }
 ],
 "metadata": {
  "kernelspec": {
   "display_name": "Python 3",
   "language": "python",
   "name": "python3"
  },
  "language_info": {
   "codemirror_mode": {
    "name": "ipython",
    "version": 3
   },
   "file_extension": ".py",
   "mimetype": "text/x-python",
   "name": "python",
   "nbconvert_exporter": "python",
   "pygments_lexer": "ipython3",
   "version": "3.9.12"
  }
 },
 "nbformat": 4,
 "nbformat_minor": 5
}
