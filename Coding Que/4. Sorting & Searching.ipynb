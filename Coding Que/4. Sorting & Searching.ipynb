{
 "cells": [
  {
   "cell_type": "markdown",
   "id": "a54c009b",
   "metadata": {},
   "source": [
    "## Sorting and Searching"
   ]
  },
  {
   "cell_type": "code",
   "execution_count": null,
   "id": "9b942727",
   "metadata": {},
   "outputs": [],
   "source": []
  },
  {
   "cell_type": "markdown",
   "id": "b6bbf524",
   "metadata": {},
   "source": [
    "### 106. Product array puzzle"
   ]
  },
  {
   "cell_type": "raw",
   "id": "5fcaec2e",
   "metadata": {},
   "source": [
    "Given an array nums[] of size n, construct a Product Array P (of same size n) such that P[i] is equal to the product of all the elements of nums except nums[i].\n",
    "\n",
    " \n",
    "\n",
    "Example 1:\n",
    "\n",
    "Input:\n",
    "n = 5\n",
    "nums[] = {10, 3, 5, 6, 2}\n",
    "Output:\n",
    "180 600 360 300 900\n",
    "Explanation: \n",
    "For i=0, P[i] = 3*5*6*2 = 180.\n",
    "For i=1, P[i] = 10*5*6*2 = 600.\n",
    "For i=2, P[i] = 10*3*6*2 = 360.\n",
    "For i=3, P[i] = 10*3*5*2 = 300.\n",
    "For i=4, P[i] = 10*3*5*6 = 900."
   ]
  },
  {
   "cell_type": "code",
   "execution_count": 1,
   "id": "0b73f8ac",
   "metadata": {},
   "outputs": [],
   "source": [
    "# Start calculating prod till that num from starting of an array and store it in hash_map with index as key\n",
    "# Start calculating prod till that num from ending of an array and multiply it with stored value from hash_map\n",
    "\n",
    "def productExceptSelf(nums, n):\n",
    "    output = [0] * n\n",
    "\n",
    "    hash_map = {}\n",
    "\n",
    "    prod_so_far = 1\n",
    "\n",
    "    for i in range(0,n):\n",
    "        hash_map[i] = prod_so_far\n",
    "        prod_so_far *= nums[i]\n",
    "\n",
    "    prod_so_far = 1\n",
    "\n",
    "    for i in range(n-1,-1,-1):\n",
    "        output[i] = hash_map[i] * prod_so_far\n",
    "        prod_so_far *= nums[i]\n",
    "\n",
    "    return output\n",
    "\n",
    "# Time comp:O(N)\n",
    "# Space comp:O(N)"
   ]
  },
  {
   "cell_type": "code",
   "execution_count": 2,
   "id": "9fab7c2d",
   "metadata": {},
   "outputs": [
    {
     "data": {
      "text/plain": [
       "[180, 600, 360, 300, 900]"
      ]
     },
     "execution_count": 2,
     "metadata": {},
     "output_type": "execute_result"
    }
   ],
   "source": [
    "productExceptSelf([10, 3, 5, 6, 2], 5)"
   ]
  },
  {
   "cell_type": "code",
   "execution_count": 4,
   "id": "f2f3a22a",
   "metadata": {},
   "outputs": [],
   "source": [
    "# Basic idea is to find prod of all element\n",
    "# Then devide all_prod by particular number and store it to output array\n",
    "# Here we need to handle 0 as an element\n",
    "\n",
    "def productExceptSelf(nums, n):\n",
    "        output = [0] * n\n",
    "        \n",
    "        all_prod = 1\n",
    "        flag = 0\n",
    "        for i in nums:\n",
    "            if i == 0:\n",
    "                flag += 1\n",
    "            else:\n",
    "                all_prod *= i\n",
    "        \n",
    "        for i in range(len(nums)):\n",
    "            # If there are more than 1 zero then all output will be zero\n",
    "            if flag > 1:\n",
    "                output[i] = 0\n",
    "            # If no zeros then\n",
    "            elif flag == 0:\n",
    "                output[i] = all_prod // nums[i]\n",
    "            If only 1 zero then all other output will be 0 \n",
    "            elif flag == 1 and nums[i] != 0:\n",
    "                output[i] = 0\n",
    "            else:\n",
    "                output[i] = all_prod\n",
    "        \n",
    "        return output\n",
    "    \n",
    "# Time comp:O(N)\n",
    "# Space comp:O(1)"
   ]
  },
  {
   "cell_type": "code",
   "execution_count": 5,
   "id": "f0046810",
   "metadata": {},
   "outputs": [
    {
     "name": "stdout",
     "output_type": "stream",
     "text": [
      "[180, 600, 360, 300, 900]\n",
      "[0, 12]\n"
     ]
    }
   ],
   "source": [
    "print(productExceptSelf([10, 3, 5, 6, 2], 5))\n",
    "print(productExceptSelf([12,0], 2))"
   ]
  },
  {
   "cell_type": "code",
   "execution_count": null,
   "id": "1463065e",
   "metadata": {},
   "outputs": [],
   "source": []
  }
 ],
 "metadata": {
  "kernelspec": {
   "display_name": "Python 3",
   "language": "python",
   "name": "python3"
  },
  "language_info": {
   "codemirror_mode": {
    "name": "ipython",
    "version": 3
   },
   "file_extension": ".py",
   "mimetype": "text/x-python",
   "name": "python",
   "nbconvert_exporter": "python",
   "pygments_lexer": "ipython3",
   "version": "3.6.5"
  }
 },
 "nbformat": 4,
 "nbformat_minor": 5
}
