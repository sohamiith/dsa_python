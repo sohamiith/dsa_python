{
 "cells": [
  {
   "cell_type": "markdown",
   "id": "a54c009b",
   "metadata": {},
   "source": [
    "## Sorting and Searching"
   ]
  },
  {
   "cell_type": "code",
   "execution_count": null,
   "id": "9b942727",
   "metadata": {},
   "outputs": [],
   "source": []
  },
  {
   "cell_type": "markdown",
   "id": "c0f6b4f6",
   "metadata": {},
   "source": [
    "### 106. Product array puzzle"
   ]
  },
  {
   "cell_type": "raw",
   "id": "3e595c15",
   "metadata": {},
   "source": [
    "Given an array nums[] of size n, construct a Product Array P (of same size n) such that P[i] is equal to the product of all the elements of nums except nums[i].\n",
    "\n",
    " \n",
    "\n",
    "Example 1:\n",
    "\n",
    "Input:\n",
    "n = 5\n",
    "nums[] = {10, 3, 5, 6, 2}\n",
    "Output:\n",
    "180 600 360 300 900\n",
    "Explanation: \n",
    "For i=0, P[i] = 3*5*6*2 = 180.\n",
    "For i=1, P[i] = 10*5*6*2 = 600.\n",
    "For i=2, P[i] = 10*3*6*2 = 360.\n",
    "For i=3, P[i] = 10*3*5*2 = 300.\n",
    "For i=4, P[i] = 10*3*5*6 = 900."
   ]
  },
  {
   "cell_type": "code",
   "execution_count": 1,
   "id": "3d3b7efd",
   "metadata": {},
   "outputs": [],
   "source": [
    "# Start calculating prod till that num from starting of an array and store it in hash_map with index as key\n",
    "# Start calculating prod till that num from ending of an array and multiply it with stored value from hash_map\n",
    "\n",
    "def productExceptSelf(nums, n):\n",
    "    output = [0] * n\n",
    "\n",
    "    hash_map = {}\n",
    "\n",
    "    prod_so_far = 1\n",
    "\n",
    "    for i in range(0,n):\n",
    "        hash_map[i] = prod_so_far\n",
    "        prod_so_far *= nums[i]\n",
    "\n",
    "    prod_so_far = 1\n",
    "\n",
    "    for i in range(n-1,-1,-1):\n",
    "        output[i] = hash_map[i] * prod_so_far\n",
    "        prod_so_far *= nums[i]\n",
    "\n",
    "    return output\n",
    "\n",
    "# Time comp:O(N)\n",
    "# Space comp:O(N)"
   ]
  },
  {
   "cell_type": "code",
   "execution_count": 2,
   "id": "1d0801a2",
   "metadata": {},
   "outputs": [
    {
     "data": {
      "text/plain": [
       "[180, 600, 360, 300, 900]"
      ]
     },
     "execution_count": 2,
     "metadata": {},
     "output_type": "execute_result"
    }
   ],
   "source": [
    "productExceptSelf([10, 3, 5, 6, 2], 5)"
   ]
  },
  {
   "cell_type": "code",
   "execution_count": 4,
   "id": "7385b1d6",
   "metadata": {},
   "outputs": [],
   "source": [
    "# Basic idea is to find prod of all element\n",
    "# Then devide all_prod by particular number and store it to output array\n",
    "# Here we need to handle 0 as an element\n",
    "\n",
    "def productExceptSelf(nums, n):\n",
    "        output = [0] * n\n",
    "        \n",
    "        all_prod = 1\n",
    "        flag = 0\n",
    "        for i in nums:\n",
    "            if i == 0:\n",
    "                flag += 1\n",
    "            else:\n",
    "                all_prod *= i\n",
    "        \n",
    "        for i in range(len(nums)):\n",
    "            # If there are more than 1 zero then all output will be zero\n",
    "            if flag > 1:\n",
    "                output[i] = 0\n",
    "            # If no zeros then\n",
    "            elif flag == 0:\n",
    "                output[i] = all_prod // nums[i]\n",
    "            #If only 1 zero then all other output will be 0 except item 0 itself\n",
    "            elif flag == 1 and nums[i] != 0:\n",
    "                output[i] = 0\n",
    "            else:\n",
    "                output[i] = all_prod\n",
    "        \n",
    "        return output\n",
    "    \n",
    "# Time comp:O(N)\n",
    "# Space comp:O(1)"
   ]
  },
  {
   "cell_type": "code",
   "execution_count": 5,
   "id": "febd3f64",
   "metadata": {},
   "outputs": [
    {
     "name": "stdout",
     "output_type": "stream",
     "text": [
      "[180, 600, 360, 300, 900]\n",
      "[0, 12]\n"
     ]
    }
   ],
   "source": [
    "print(productExceptSelf([10, 3, 5, 6, 2], 5))\n",
    "print(productExceptSelf([12,0], 2))"
   ]
  },
  {
   "cell_type": "code",
   "execution_count": null,
   "id": "d92f06b7",
   "metadata": {},
   "outputs": [],
   "source": []
  },
  {
   "cell_type": "markdown",
   "id": "ce34bb4f",
   "metadata": {},
   "source": [
    "### 108. minimum no. of swaps required to sort the array"
   ]
  },
  {
   "cell_type": "raw",
   "id": "6a7ae8d1",
   "metadata": {},
   "source": [
    "Given an array of n distinct elements. Find the minimum number of swaps required to sort the array in strictly increasing order.\n",
    "\n",
    "Example 1:\n",
    "\n",
    "Input:\n",
    "nums = {2, 8, 5, 4}\n",
    "Output:1\n",
    "Explaination: swap 8 with 4.\n",
    "\n",
    "Example 2:\n",
    "\n",
    "Input:\n",
    "nums = {10, 19, 6, 3, 5}\n",
    "Output:2\n",
    "Explaination: swap 10 with 3 and swap 19 with 5."
   ]
  },
  {
   "cell_type": "code",
   "execution_count": 18,
   "id": "886ccd17",
   "metadata": {},
   "outputs": [],
   "source": [
    "class Solution:\n",
    "    def minSwaps(self, arr):\n",
    "        ans = 0\n",
    "        temp = arr.copy()\n",
    "\n",
    "        h = {}\n",
    "\n",
    "        temp.sort()\n",
    "        n = len(arr)\n",
    "        for i in range(n):\n",
    "            h[arr[i]] = i\n",
    "\n",
    "        init = 0\n",
    "        for i in range(n):\n",
    "            if arr[i] != temp[i]:\n",
    "                ans += 1\n",
    "                init = arr[i]\n",
    "\n",
    "                arr[i], arr[h[temp[i]]] = arr[h[temp[i]]], arr[i]\n",
    "\n",
    "                h[init] = h[temp[i]]\n",
    "                h[temp[i]] = i\n",
    "\n",
    "        return ans\n",
    "    \n",
    "# Time comp:O(N log N)\n",
    "# Space comp:O(N)"
   ]
  },
  {
   "cell_type": "code",
   "execution_count": 19,
   "id": "e69fa7e3",
   "metadata": {},
   "outputs": [
    {
     "data": {
      "text/plain": [
       "2"
      ]
     },
     "execution_count": 19,
     "metadata": {},
     "output_type": "execute_result"
    }
   ],
   "source": [
    "s = Solution()\n",
    "s.minSwaps([10, 19, 6, 3, 5])"
   ]
  },
  {
   "cell_type": "code",
   "execution_count": null,
   "id": "279ca3b6",
   "metadata": {},
   "outputs": [],
   "source": []
  },
  {
   "cell_type": "markdown",
   "id": "cb10608d",
   "metadata": {},
   "source": [
    "### 113. K-th Element of Two Sorted Arrays"
   ]
  },
  {
   "cell_type": "raw",
   "id": "50c08ad6",
   "metadata": {},
   "source": [
    "Given two sorted arrays arr1 and arr2 of size N and M respectively and an element K. The task is to find the element that would be at the k’th position of the final sorted array.\n",
    " \n",
    "\n",
    "Example 1:\n",
    "\n",
    "Input:\n",
    "arr1[] = {2, 3, 6, 7, 9}\n",
    "arr2[] = {1, 4, 8, 10}\n",
    "k = 5\n",
    "Output:\n",
    "6\n",
    "Explanation:\n",
    "The final sorted array would be -1, 2, 3, 4, 6, 7, 8, 9, 10\n",
    "The 5th element of this array is 6.\n"
   ]
  },
  {
   "cell_type": "code",
   "execution_count": 2,
   "id": "6ac6d098",
   "metadata": {},
   "outputs": [],
   "source": [
    "\"\"\"\n",
    "Search linearly.\n",
    "Since we have to find kth smallest, and both array's are sorted,\n",
    "We will take two pointer i and j pointing to two diff arrays, \n",
    "will keep incrementing one of the pointer.\n",
    "\"\"\"\n",
    "\n",
    "class Solution:\n",
    "    def kthElement(self,  arr1, arr2, n, m, k):\n",
    "        i = 0\n",
    "        j = 0\n",
    "        curr = 0\n",
    "        \n",
    "        while curr < k-1:\n",
    "            if i < n and j < m:\n",
    "                if arr1[i] < arr2[j]:\n",
    "                    i += 1\n",
    "                else:\n",
    "                    j += 1\n",
    "                curr += 1\n",
    "                \n",
    "            elif j < m:\n",
    "                j += 1\n",
    "                curr += 1\n",
    "                \n",
    "            else:\n",
    "                i += 1\n",
    "                curr += 1\n",
    "            \n",
    "        if i < n and j < m:\n",
    "            return min(arr1[i],arr2[j])\n",
    "        elif j < m:\n",
    "            return arr2[j]\n",
    "        else:\n",
    "            return arr1[i]\n",
    "        \n",
    "# Time comp:O(K)\n",
    "# Space comp:O(1)"
   ]
  },
  {
   "cell_type": "code",
   "execution_count": 3,
   "id": "339379e4",
   "metadata": {},
   "outputs": [
    {
     "data": {
      "text/plain": [
       "6"
      ]
     },
     "execution_count": 3,
     "metadata": {},
     "output_type": "execute_result"
    }
   ],
   "source": [
    "s = Solution()\n",
    "s.kthElement([2, 3, 6, 7, 9],[1, 4, 8, 10],5,4,5)"
   ]
  },
  {
   "cell_type": "code",
   "execution_count": 6,
   "id": "d49cdcf9",
   "metadata": {},
   "outputs": [],
   "source": [
    "# https://www.youtube.com/watch?v=nv7F4PiLUzo\n",
    "\n",
    "class Solution:\n",
    "    def solve(self,arr1,arr2,n,m,k):\n",
    "        low = max(0,k-m)\n",
    "        high = min(k,n)\n",
    "        \n",
    "        while low<=high:\n",
    "            cut1 = (low+high)//2\n",
    "            cut2 = k-cut1\n",
    "            \n",
    "            l1 = float('-inf') if cut1 == 0 else arr1[cut1-1]\n",
    "            l2 = float('-inf') if cut2 == 0 else arr2[cut2-1]\n",
    "            r1 = float('inf') if cut1 == n else arr1[cut1]\n",
    "            r2 = float('inf') if cut2 == m else arr2[cut2]\n",
    "            \n",
    "            if l1<=r2 and l2<=r1:\n",
    "                return max(l1,l2)\n",
    "            elif l1 > r2:\n",
    "                high = cut1-1\n",
    "            else:\n",
    "                low = cut1+1\n",
    "        \n",
    "        return 1\n",
    "    \n",
    "    def kthElement(self,  arr1, arr2, n, m, k):\n",
    "        if n < m:\n",
    "            return self.solve(arr1,arr2,n,m,k)\n",
    "        else:\n",
    "            return self.solve(arr2,arr1,m,n,k)\n",
    "        \n",
    "# Time comp:O(log(min(N,M)))\n",
    "# Space comp:O(1)"
   ]
  },
  {
   "cell_type": "code",
   "execution_count": 7,
   "id": "afd5f804",
   "metadata": {},
   "outputs": [
    {
     "data": {
      "text/plain": [
       "6"
      ]
     },
     "execution_count": 7,
     "metadata": {},
     "output_type": "execute_result"
    }
   ],
   "source": [
    "s = Solution()\n",
    "s.kthElement([2, 3, 6, 7, 9],[1, 4, 8, 10],5,4,5)"
   ]
  },
  {
   "cell_type": "code",
   "execution_count": null,
   "id": "d9de68b6",
   "metadata": {},
   "outputs": [],
   "source": []
  },
  {
   "cell_type": "markdown",
   "id": "f5081216",
   "metadata": {},
   "source": [
    "### 119. Smallest number with at least n trailing zeroes in factorial"
   ]
  },
  {
   "cell_type": "raw",
   "id": "3f7b468b",
   "metadata": {},
   "source": [
    "Given a number n. The task is to find the smallest number whose factorial contains at least n trailing zeroes.\n",
    "\n",
    "Example 1:\n",
    "\n",
    "Input:\n",
    "n = 1\n",
    "Output: 5\n",
    "Explanation : 5! = 120 which has at\n",
    "least 1 trailing 0.\n",
    "Example 2:\n",
    "\n",
    "Input:\n",
    "n = 6\n",
    "Output: 25\n",
    "Explanation : 25! has at least\n",
    "6 trailing 0."
   ]
  },
  {
   "cell_type": "code",
   "execution_count": null,
   "id": "f90fb9a6",
   "metadata": {},
   "outputs": [],
   "source": [
    "class Solution:\n",
    "    def findNum(self, n : int):\n",
    "        if n == 0:\n",
    "            return 0\n",
    "        \n",
    "        x = 10**n\n",
    "        i = 1\n",
    "        value = 1\n",
    "        \n",
    "        while True:\n",
    "            value = value * i\n",
    "            if value%x == 0:\n",
    "                return i\n",
    "            \n",
    "            i += 1"
   ]
  },
  {
   "cell_type": "code",
   "execution_count": null,
   "id": "662701ae",
   "metadata": {},
   "outputs": [],
   "source": []
  },
  {
   "cell_type": "code",
   "execution_count": null,
   "id": "05e79066",
   "metadata": {},
   "outputs": [],
   "source": []
  },
  {
   "cell_type": "markdown",
   "id": "97c30992",
   "metadata": {},
   "source": [
    "### 511. Buuble sort"
   ]
  },
  {
   "cell_type": "raw",
   "id": "871a692d",
   "metadata": {},
   "source": [
    "Given an Integer N and a list arr. Sort the array using bubble sort algorithm.\n",
    "Example 1:\n",
    "\n",
    "Input: \n",
    "N = 5\n",
    "arr[] = {4, 1, 3, 9, 7}\n",
    "Output: \n",
    "1 3 4 7 9"
   ]
  },
  {
   "cell_type": "raw",
   "id": "f813e21d",
   "metadata": {},
   "source": [
    "works by repeatedly swapping the adjacent elements if they are in the wrong order\n",
    "\n",
    "Input: arr[] = {5, 1, 4, 2, 8}\n",
    "\n",
    "First Pass: \n",
    "\n",
    "Bubble sort starts with very first two elements, comparing them to check which one is greater.\n",
    "( 5 1 4 2 8 ) –> ( 1 5 4 2 8 ), Here, algorithm compares the first two elements, and swaps since 5 > 1. \n",
    "( 1 5 4 2 8 ) –>  ( 1 4 5 2 8 ), Swap since 5 > 4 \n",
    "( 1 4 5 2 8 ) –>  ( 1 4 2 5 8 ), Swap since 5 > 2 \n",
    "( 1 4 2 5 8 ) –> ( 1 4 2 5 8 ), since these elements are already in order (8 > 5), algorithm does not swap them.\n",
    "\n",
    "If at any point of time, number of swap are 0, stop there.\n",
    "If array is already sorted then it will take O(N) time only"
   ]
  },
  {
   "cell_type": "code",
   "execution_count": 1,
   "id": "979f8523",
   "metadata": {},
   "outputs": [],
   "source": [
    "class Solution:\n",
    "    def bubbleSort(self,arr, n):\n",
    "        \n",
    "        for i in range(n):\n",
    "            swapped = False\n",
    "            \n",
    "            for j in range(0,n-i-1):\n",
    "                if arr[j] > arr[j+1]:\n",
    "                    arr[j], arr[j+1] = arr[j+1], arr[j]\n",
    "                    swapped = True\n",
    "            \n",
    "            if swapped == False:\n",
    "                break\n",
    "        \n",
    "        return arr\n",
    "    \n",
    "# Time comp:O(N^2)\n",
    "# Space comp:O(1)"
   ]
  },
  {
   "cell_type": "code",
   "execution_count": 2,
   "id": "f25b727b",
   "metadata": {},
   "outputs": [
    {
     "data": {
      "text/plain": [
       "[1, 3, 4, 7, 9]"
      ]
     },
     "execution_count": 2,
     "metadata": {},
     "output_type": "execute_result"
    }
   ],
   "source": [
    "s = Solution()\n",
    "s.bubbleSort([4,1,3,9,7],5)"
   ]
  },
  {
   "cell_type": "code",
   "execution_count": null,
   "id": "08c7991d",
   "metadata": {},
   "outputs": [],
   "source": []
  },
  {
   "cell_type": "markdown",
   "id": "170c6dba",
   "metadata": {},
   "source": [
    "### 512. Insertion Sort"
   ]
  },
  {
   "cell_type": "raw",
   "id": "cb66b75e",
   "metadata": {},
   "source": [
    "The task is to complete the insert() function which is used to implement Insertion Sort.\n",
    "\n",
    "Example 1:\n",
    "Input: N = 5, arr[] = { 4, 1, 3, 9, 7}\n",
    "Output: 1 3 4 7 9"
   ]
  },
  {
   "cell_type": "raw",
   "id": "fe6407b9",
   "metadata": {},
   "source": [
    "To sort an array of size N in ascending order: \n",
    "\n",
    "-> Iterate from arr[1] to arr[N] over the array. \n",
    "-> Compare the current element (key) to its predecessor. \n",
    "-> If the key element is smaller than its predecessor, compare it to the elements before. Move the greater elements one position up to make space for the swapped element."
   ]
  },
  {
   "cell_type": "raw",
   "id": "66419a72",
   "metadata": {},
   "source": [
    "Third Pass:\n",
    "\n",
    "Moving forward to the next two elements which are 13 and 5\n",
    "\n",
    "11   \t   12   \t   13   \t   5   \t   6   \n",
    "Both 5 and 13 are not present at their correct place so swap them\n",
    "\n",
    "11   \t   12   \t   5   \t   13   \t   6   \n",
    "After swapping, elements 12 and 5 are not sorted, thus swap again\n",
    "\n",
    "11   \t   5   \t   12   \t   13   \t   6   \n",
    "Here, again 11 and 5 are not sorted, hence swap again\n",
    "\n",
    "5   \t   11   \t   12   \t   13   \t   6   "
   ]
  },
  {
   "cell_type": "code",
   "execution_count": 3,
   "id": "695d29aa",
   "metadata": {},
   "outputs": [],
   "source": [
    "class Solution:\n",
    "    def insertionSort(self, arr, n):\n",
    "        for i in range(1,n):\n",
    "            key = arr[i]\n",
    "            j = i-1\n",
    "            \n",
    "            while j >= 0 and key < arr[j]:\n",
    "                arr[j+1] = arr[j]\n",
    "                j -= 1\n",
    "            \n",
    "            arr[j+1] = key\n",
    "        \n",
    "        return arr\n",
    "    \n",
    "# Time comp:O(N^2)\n",
    "# Space comp:O(1)"
   ]
  },
  {
   "cell_type": "code",
   "execution_count": 4,
   "id": "28024bea",
   "metadata": {},
   "outputs": [
    {
     "data": {
      "text/plain": [
       "[1, 3, 4, 7, 9]"
      ]
     },
     "execution_count": 4,
     "metadata": {},
     "output_type": "execute_result"
    }
   ],
   "source": [
    "s = Solution()\n",
    "s.insertionSort([4,1,3,9,7],5)"
   ]
  },
  {
   "cell_type": "code",
   "execution_count": null,
   "id": "0314ec66",
   "metadata": {},
   "outputs": [],
   "source": []
  },
  {
   "cell_type": "markdown",
   "id": "42528611",
   "metadata": {},
   "source": [
    "### 513. Merge Sort"
   ]
  },
  {
   "cell_type": "raw",
   "id": "23263c7d",
   "metadata": {},
   "source": [
    "Given an array arr[], its starting position l and its ending position r. Sort the array using merge sort algorithm.\n",
    "Example 1:\n",
    "\n",
    "Input:\n",
    "N = 5\n",
    "arr[] = {4 1 3 9 7}\n",
    "Output:\n",
    "1 3 4 7 9"
   ]
  },
  {
   "cell_type": "code",
   "execution_count": 9,
   "id": "607ee55a",
   "metadata": {},
   "outputs": [],
   "source": [
    "class Solution:\n",
    "    def merge(self,arr, si, mid, ei): \n",
    "        m = [0 for i in range((ei-si)+1)]\n",
    "        \n",
    "        i = si\n",
    "        j = mid+1\n",
    "        \n",
    "        x = 0\n",
    "        \n",
    "        while i <= mid and j <= ei:\n",
    "            if arr[i] <= arr[j]:\n",
    "                m[x] = arr[i]\n",
    "                x += 1\n",
    "                i += 1\n",
    "            else:\n",
    "                m[x] = arr[j]\n",
    "                x += 1\n",
    "                j += 1\n",
    "        \n",
    "        while i <= mid:\n",
    "            m[x] = arr[i]\n",
    "            x += 1\n",
    "            i += 1\n",
    "        \n",
    "        while j <= ei:\n",
    "            m[x] = arr[j]\n",
    "            x += 1\n",
    "            j += 1\n",
    "            \n",
    "        j = si\n",
    "        for i in range(len(m)):\n",
    "            arr[j] = m[i]\n",
    "            j += 1\n",
    "        \n",
    "    def divide(self,arr,si,ei):\n",
    "        if si >= ei:\n",
    "            return\n",
    "        \n",
    "        mid = int(si + (ei-si)/2)\n",
    "        self.divide(arr,si,mid)\n",
    "        self.divide(arr,mid+1,ei)\n",
    "        self.merge(arr,si,mid,ei)\n",
    "        \n",
    "    def mergeSort(self,arr, l, r):\n",
    "        n = len(arr)\n",
    "        self.divide(arr,l,r)\n",
    "        return arr\n",
    "    \n",
    "# Time comp:O(NlogN)\n",
    "# Space comp:O(N)"
   ]
  },
  {
   "cell_type": "code",
   "execution_count": 10,
   "id": "0e21c97a",
   "metadata": {},
   "outputs": [
    {
     "data": {
      "text/plain": [
       "[1, 3, 4, 7, 9]"
      ]
     },
     "execution_count": 10,
     "metadata": {},
     "output_type": "execute_result"
    }
   ],
   "source": [
    "s = Solution()\n",
    "s.mergeSort([4, 1, 3, 9, 7],0,4)"
   ]
  },
  {
   "cell_type": "code",
   "execution_count": null,
   "id": "d26c49eb",
   "metadata": {},
   "outputs": [],
   "source": []
  },
  {
   "cell_type": "markdown",
   "id": "0a4405a9",
   "metadata": {},
   "source": [
    "### 514. Quick sort"
   ]
  },
  {
   "cell_type": "raw",
   "id": "ccf173b8",
   "metadata": {},
   "source": [
    "Quick Sort is a Divide and Conquer algorithm. It picks an element as a pivot and partitions the given array around the picked pivot.\n",
    "Given an array arr[], its starting position is low (the index of the array) and its ending position is high(the index of the array).\n",
    "\n",
    "Note: The low and high are inclusive.\n",
    "\n",
    "Implement the partition() and quickSort() functions to sort the array.\n",
    "\n",
    "\n",
    "Example 1:\n",
    "\n",
    "Input: \n",
    "N = 5 \n",
    "arr[] = { 4, 1, 3, 9, 7}\n",
    "Output:\n",
    "1 3 4 7 9"
   ]
  },
  {
   "cell_type": "code",
   "execution_count": 14,
   "id": "09d0de28",
   "metadata": {},
   "outputs": [],
   "source": [
    "class Solution:\n",
    "    \n",
    "    def partition(self,arr,low,high):\n",
    "        pivot = arr[high]\n",
    "        i = low-1\n",
    "        \n",
    "        for j in range(low,high):\n",
    "            if arr[j] < pivot:\n",
    "                i += 1\n",
    "                arr[i], arr[j] = arr[j], arr[i]\n",
    "        \n",
    "        i += 1\n",
    "        arr[i], arr[high] = arr[high], arr[i]\n",
    "        return i   # index of pivot\n",
    "    \n",
    "    def quickSort(self,arr,low,high):\n",
    "        if low >= high:\n",
    "            return arr\n",
    "        \n",
    "        pivot_ind = self.partition(arr,low,high)\n",
    "        self.quickSort(arr,low,pivot_ind-1)\n",
    "        self.quickSort(arr,pivot_ind+1,high)\n",
    "        \n",
    "        return arr\n",
    "    \n",
    "# Time comp:O(N log N) in avg case; (N^N) in worst case\n",
    "# Space comp: O(1)   (recursive stack: O(N)) "
   ]
  },
  {
   "cell_type": "code",
   "execution_count": 15,
   "id": "bf53cdf1",
   "metadata": {},
   "outputs": [
    {
     "data": {
      "text/plain": [
       "[1, 3, 4, 7, 9]"
      ]
     },
     "execution_count": 15,
     "metadata": {},
     "output_type": "execute_result"
    }
   ],
   "source": [
    "s = Solution()\n",
    "s.quickSort([4, 1, 3, 9, 7],0,4)"
   ]
  },
  {
   "cell_type": "code",
   "execution_count": null,
   "id": "f04144e1",
   "metadata": {},
   "outputs": [],
   "source": []
  }
 ],
 "metadata": {
  "kernelspec": {
   "display_name": "Python 3",
   "language": "python",
   "name": "python3"
  },
  "language_info": {
   "codemirror_mode": {
    "name": "ipython",
    "version": 3
   },
   "file_extension": ".py",
   "mimetype": "text/x-python",
   "name": "python",
   "nbconvert_exporter": "python",
   "pygments_lexer": "ipython3",
   "version": "3.9.12"
  }
 },
 "nbformat": 4,
 "nbformat_minor": 5
}
