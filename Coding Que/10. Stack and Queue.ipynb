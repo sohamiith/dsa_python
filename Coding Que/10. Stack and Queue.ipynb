{
 "cells": [
  {
   "cell_type": "markdown",
   "id": "8a29ee02",
   "metadata": {},
   "source": [
    "## Stack and Queue"
   ]
  },
  {
   "cell_type": "markdown",
   "id": "561912aa",
   "metadata": {},
   "source": [
    "### 274.  Implement Stack from Scratch"
   ]
  },
  {
   "cell_type": "code",
   "execution_count": null,
   "id": "7974e173",
   "metadata": {},
   "outputs": [],
   "source": [
    "class MyStack:\n",
    "    \n",
    "    def __init__(self):\n",
    "        self.arr=[]\n",
    "    \n",
    "    #Function to push an integer into the stack.\n",
    "    def push(self,data):\n",
    "        self.arr.append(data)\n",
    "        #add code here\n",
    "    \n",
    "    #Function to remove an item from top of the stack.\n",
    "    def pop(self):\n",
    "        if len(self.arr) == 0:\n",
    "            return -1\n",
    "        return self.arr.pop()\n",
    "    \n",
    "# Time comp: O(1)"
   ]
  },
  {
   "cell_type": "code",
   "execution_count": null,
   "id": "ab5e4cdf",
   "metadata": {},
   "outputs": [],
   "source": []
  },
  {
   "cell_type": "markdown",
   "id": "bb81c4f8",
   "metadata": {},
   "source": [
    "### 275.  Implement Queue from Scratch"
   ]
  },
  {
   "cell_type": "code",
   "execution_count": 1,
   "id": "ffe15960",
   "metadata": {},
   "outputs": [],
   "source": [
    "class MyQueue:\n",
    "    \n",
    "    def __init__(self):\n",
    "        self.list = []\n",
    "    \n",
    "    #Function to push an element x in a queue.\n",
    "    def push(self, x):\n",
    "        self.list.append(x)\n",
    "        #add code here\n",
    "         \n",
    "     \n",
    "    #Function to pop an element from queue and return that element.\n",
    "    def pop(self):\n",
    "        if len(self.list) == 0:\n",
    "            return -1\n",
    "        return self.list.pop(0) \n",
    "        # add code here\n",
    "        \n",
    "# Enqueue and dequque is O(1)"
   ]
  },
  {
   "cell_type": "code",
   "execution_count": null,
   "id": "356e88f0",
   "metadata": {},
   "outputs": [],
   "source": []
  },
  {
   "cell_type": "markdown",
   "id": "2adf786c",
   "metadata": {},
   "source": [
    "### 276. Implement two stacks in an array"
   ]
  },
  {
   "cell_type": "code",
   "execution_count": 2,
   "id": "c8e9e7cc",
   "metadata": {},
   "outputs": [],
   "source": [
    "class Stack:\n",
    "    def __init__(self,size):\n",
    "        self.size = size\n",
    "        self.top1 = -1\n",
    "        self.top2 = size\n",
    "        self.list = [None for i in range(size)]\n",
    "        \n",
    "    def push1(self,a):\n",
    "        if self.top1 + 1 == self.top2:\n",
    "            # Overflow\n",
    "            return\n",
    "        \n",
    "        self.top1 += 1\n",
    "        self.list[self.top1] = a\n",
    "        \n",
    "    def push2(self,a):\n",
    "        if self.top2 - 1 == self.top1:\n",
    "            # Overflow\n",
    "            return\n",
    "        \n",
    "        self.top2 -= 1\n",
    "        self.list[self.top2] = a\n",
    "        \n",
    "    def pop1(self):\n",
    "        if self.top1 == -1:\n",
    "            # underflow\n",
    "            return -1\n",
    "        x = self.list[self.top1]\n",
    "        self.top1 -= 1\n",
    "        return x\n",
    "        \n",
    "    def pop2(self):\n",
    "        if self.top2 == self.size:\n",
    "            # underflow\n",
    "            return -1\n",
    "        x = self.list[self.top2]\n",
    "        self.top2 += 1\n",
    "        return x\n",
    "    \n",
    "# All time comp: O(1)\n",
    "# All space comp: O(1)"
   ]
  },
  {
   "cell_type": "code",
   "execution_count": 4,
   "id": "a70b065e",
   "metadata": {},
   "outputs": [
    {
     "name": "stdout",
     "output_type": "stream",
     "text": [
      "2\n",
      "1\n",
      "3\n",
      "-1\n",
      "-1\n"
     ]
    }
   ],
   "source": [
    "stack = Stack(3)\n",
    "stack.push1(1)\n",
    "stack.push1(2)\n",
    "stack.push2(3)\n",
    "print(stack.pop1())\n",
    "print(stack.pop1())\n",
    "print(stack.pop2())\n",
    "print(stack.pop2())\n",
    "print(stack.pop1())"
   ]
  },
  {
   "cell_type": "code",
   "execution_count": null,
   "id": "ee47a54a",
   "metadata": {},
   "outputs": [],
   "source": []
  },
  {
   "cell_type": "markdown",
   "id": "2be7269e",
   "metadata": {},
   "source": [
    "### 277. Delete middle element of a stack"
   ]
  },
  {
   "cell_type": "raw",
   "id": "035528e7",
   "metadata": {},
   "source": [
    "Given a stack with push(), pop(), empty() operations, delete the middle of the stack without using any additional data structure.\n",
    "\n",
    "Input: \n",
    "Stack = {1, 2, 3, 4, 5}\n",
    "Output:\n",
    "ModifiedStack = {1, 2, 4, 5}"
   ]
  },
  {
   "cell_type": "code",
   "execution_count": null,
   "id": "e2f9ce8d",
   "metadata": {},
   "outputs": [],
   "source": [
    "class Solution:\n",
    "    def deleteMid(self, s, sizeOfStack):\n",
    "        mid = sizeOfStack//2\n",
    "        stack = []\n",
    "        \n",
    "        while mid:\n",
    "            stack.append(s.pop())\n",
    "            mid -= 1\n",
    "        \n",
    "        s.pop()\n",
    "        \n",
    "        while len(stack) > 0:\n",
    "            s.append(stack.pop())\n",
    "            \n",
    "# Time comp: O(N)\n",
    "# Space comp: O(N)"
   ]
  },
  {
   "cell_type": "code",
   "execution_count": null,
   "id": "2d53914e",
   "metadata": {},
   "outputs": [],
   "source": []
  },
  {
   "cell_type": "markdown",
   "id": "9f56084f",
   "metadata": {},
   "source": [
    "### 279. Check the expression has valid or Balanced parenthesis or not."
   ]
  },
  {
   "cell_type": "code",
   "execution_count": 5,
   "id": "8742ccef",
   "metadata": {},
   "outputs": [],
   "source": [
    "# Already did in array/string"
   ]
  },
  {
   "cell_type": "code",
   "execution_count": null,
   "id": "e22dadee",
   "metadata": {},
   "outputs": [],
   "source": []
  },
  {
   "cell_type": "markdown",
   "id": "b609da4d",
   "metadata": {},
   "source": [
    "### 280. Reverse a String using Stack"
   ]
  },
  {
   "cell_type": "code",
   "execution_count": 6,
   "id": "d6a8b150",
   "metadata": {},
   "outputs": [],
   "source": [
    "def reverse(S):\n",
    "    \n",
    "    #Add code here\n",
    "    stack = []\n",
    "    for i in S:\n",
    "        stack.append(i)\n",
    "    ans = ''\n",
    "    for i in range(len(stack)):\n",
    "        x = stack.pop()\n",
    "        ans += str(x)\n",
    "    return ans\n",
    "\n",
    "# time comp: O(N)\n",
    "# Space comp: O(N)"
   ]
  },
  {
   "cell_type": "code",
   "execution_count": 7,
   "id": "6668d967",
   "metadata": {},
   "outputs": [
    {
     "data": {
      "text/plain": [
       "'olleh'"
      ]
     },
     "execution_count": 7,
     "metadata": {},
     "output_type": "execute_result"
    }
   ],
   "source": [
    "reverse('hello')"
   ]
  },
  {
   "cell_type": "code",
   "execution_count": null,
   "id": "54e066b5",
   "metadata": {},
   "outputs": [],
   "source": []
  },
  {
   "cell_type": "markdown",
   "id": "36f145d3",
   "metadata": {},
   "source": [
    "### 281. Design a Stack that supports getMin() in O(N) time and O(1) extra space."
   ]
  },
  {
   "cell_type": "raw",
   "id": "f545bbee",
   "metadata": {},
   "source": [
    "Input:\n",
    "Stack: 18 19 29 15 16\n",
    "Output: 15\n",
    "Explanation:\n",
    "The minimum element of the stack is 15."
   ]
  },
  {
   "cell_type": "code",
   "execution_count": 9,
   "id": "51cb7cb4",
   "metadata": {},
   "outputs": [],
   "source": [
    "# function should append an element on to the stack\n",
    "def push(arr, ele):\n",
    "    return arr.append(ele)\n",
    "\n",
    "# Function should pop an element from stack\n",
    "def pop(arr):\n",
    "    return arr.pop()\n",
    "\n",
    "# function should return 1/0 or True/False\n",
    "def isFull(n, arr):\n",
    "    if len(arr) == n:\n",
    "        return 1\n",
    "    return 0\n",
    "\n",
    "# function should return 1/0 or True/False\n",
    "def isEmpty(arr):\n",
    "    if len(arr) == 0:\n",
    "        return 1\n",
    "    return 0\n",
    "\n",
    "# function should return minimum element from the stack\n",
    "def getMin(n, arr):\n",
    "    x = arr.pop()\n",
    "    if len(arr) == 0:\n",
    "        return x\n",
    "    else:\n",
    "        return min(x,getMin(n,arr[0:len(arr)]))\n",
    "    \n",
    "# To get min:\n",
    "# Time comp: O(N)\n",
    "# space comp: O(1)   Due to recursion stack: O(N)"
   ]
  },
  {
   "cell_type": "code",
   "execution_count": null,
   "id": "b30e13f3",
   "metadata": {},
   "outputs": [],
   "source": []
  },
  {
   "cell_type": "markdown",
   "id": "9e74cc48",
   "metadata": {},
   "source": [
    "### 282. Find the next Greater element"
   ]
  },
  {
   "cell_type": "raw",
   "id": "2d11d624",
   "metadata": {},
   "source": [
    "Input: \n",
    "N = 4, arr[] = [1 3 2 4]\n",
    "Output:\n",
    "3 4 4 -1\n",
    "Explanation:\n",
    "In the array, the next larger element \n",
    "to 1 is 3 , 3 is 4 , 2 is 4 and for 4 ? \n",
    "since it doesn't exist, it is -1."
   ]
  },
  {
   "cell_type": "code",
   "execution_count": 10,
   "id": "1eb0ca44",
   "metadata": {},
   "outputs": [],
   "source": [
    "# Brute force solution\n",
    "# For each element, search at right side for next larger element\n",
    "\n",
    "def nextLargerElement(arr,n):\n",
    "    for i in range(n-1):\n",
    "        ans = -1\n",
    "        for j in range(i+1,n):\n",
    "            if arr[j] > arr[i]:\n",
    "                ans = arr[j]\n",
    "                break\n",
    "        arr[i] = ans\n",
    "    arr[n-1] = -1\n",
    "    return arr\n",
    "\n",
    "# Time comp: O(N^2)\n",
    "# Space comp: O(1)"
   ]
  },
  {
   "cell_type": "code",
   "execution_count": 11,
   "id": "f590807c",
   "metadata": {},
   "outputs": [
    {
     "data": {
      "text/plain": [
       "[4, 2, 4, -1]"
      ]
     },
     "execution_count": 11,
     "metadata": {},
     "output_type": "execute_result"
    }
   ],
   "source": [
    "nextLargerElement([3,1,2,4],4)"
   ]
  },
  {
   "cell_type": "code",
   "execution_count": 30,
   "id": "dcdc478f",
   "metadata": {},
   "outputs": [],
   "source": [
    "\"\"\"\n",
    "-> create one stack.\n",
    "-> push first element into the stack.\n",
    "-> run a loop from (1,n)\n",
    "-> if current element <= top of stack and push that element into the stack\n",
    "-> else pop all the element from top of stack until top of stack > current element and make them current element\n",
    "\n",
    "-> at the end pop all element from stack and make them -1\n",
    "\n",
    "ref: https://www.youtube.com/watch?v=sDKpIO2HGq0&list=PLEJXowNB4kPzEvxN8ed6T13Meet7HP3h0\n",
    "\"\"\"\n",
    "\n",
    "def nextLargerElement2(arr,n):\n",
    "    if n == 0:\n",
    "        return arr\n",
    "    if n == 1:\n",
    "        arr[0] = -1\n",
    "        return arr\n",
    "    \n",
    "    stack = []\n",
    "    stack.append(0)\n",
    "    \n",
    "    for i in range(1,n):\n",
    "        if arr[i] <= arr[stack[len(stack)-1]]:      # if current is less than or equal to top of stack\n",
    "            stack.append(i)\n",
    "        else:\n",
    "            while len(stack) > 0 and arr[stack[len(stack)-1]] < arr[i]:    # while top of stack < current\n",
    "                arr[stack[len(stack)-1]] = arr[i]\n",
    "                stack.pop()\n",
    "            stack.append(i)\n",
    "    \n",
    "    while len(stack) > 0:\n",
    "        x = stack.pop()\n",
    "        arr[x] = -1\n",
    "    \n",
    "    return arr\n",
    "        \n",
    "# Time comp: O(N)\n",
    "# Space comp: O(N)"
   ]
  },
  {
   "cell_type": "code",
   "execution_count": 31,
   "id": "3022b23e",
   "metadata": {},
   "outputs": [
    {
     "name": "stdout",
     "output_type": "stream",
     "text": [
      "[4, 2, 4, -1]\n",
      "[3, 4, 4, -1]\n"
     ]
    }
   ],
   "source": [
    "print(nextLargerElement2([3,1,2,4],4))\n",
    "print(nextLargerElement2([1,3,2,4],4))"
   ]
  },
  {
   "cell_type": "code",
   "execution_count": null,
   "id": "6086be2d",
   "metadata": {},
   "outputs": [],
   "source": []
  },
  {
   "cell_type": "markdown",
   "id": "e8612e82",
   "metadata": {},
   "source": [
    "### 283. The celebrity Problem"
   ]
  },
  {
   "cell_type": "raw",
   "id": "bee747b4",
   "metadata": {},
   "source": [
    "A celebrity is a person who is known to all but does not know anyone at a party. If you go to a party of N people, find if there is a celebrity in the party or not.\n",
    "\n",
    "Input:\n",
    "N = 3\n",
    "M[][] = {{0 1 0},\n",
    "         {0 0 0}, \n",
    "         {0 1 0}}\n",
    "Output: 1\n",
    "\n",
    "Input:\n",
    "N = 3\n",
    "M[][] = {{0 1 0},\n",
    "         {1 0 0}, \n",
    "         {0 1 0}}\n",
    "Output: -1"
   ]
  },
  {
   "cell_type": "code",
   "execution_count": null,
   "id": "8feedff7",
   "metadata": {},
   "outputs": [],
   "source": [
    "\"\"\"\n",
    "Brute force solution is:\n",
    "\n",
    "1. Create two arrays indegree and outdegree, to store the indegree and outdegree\n",
    "2. Run a nested loop, the outer loop from 0 to n and inner loop from 0 to n.\n",
    "3. For every pair i, j check if i knows j then increase the outdegree of i and indegree of j\n",
    "4. For every pair i, j check if j knows i then increase the outdegree of j and indegree of i\n",
    "5. Run a loop from 0 to n and find the id where the indegree is n-1 and outdegree is 0\n",
    "\n",
    "But it will take O(N^2) time and O(N) Space\n",
    "\"\"\""
   ]
  },
  {
   "cell_type": "code",
   "execution_count": null,
   "id": "9e67a36c",
   "metadata": {},
   "outputs": [],
   "source": [
    "\"\"\"\n",
    "Take two pointers, i = 0 and j = n-1 (Lets say for A and B resp.)\n",
    "If A knows B then A can't be celebrity so do i++\n",
    "If A don't know B then B can't be celebrity so do j--\n",
    "\n",
    "At the end we will get potential celebrity.\n",
    "\n",
    "Now check whether all other knows celebrity and celebrity knows no one or not.\n",
    "\"\"\"\n",
    "\n",
    "def celebrity(self, M, n):\n",
    "    i = 0\n",
    "    j = n-1\n",
    "\n",
    "    while i != j:\n",
    "        if M[i][j] == 1:\n",
    "            i += 1\n",
    "        else:\n",
    "            j -= 1\n",
    "\n",
    "    cel = i    # Potential celebrity\n",
    "\n",
    "    count = 0\n",
    "    for i in range(n):\n",
    "        if i == cel:\n",
    "            continue\n",
    "\n",
    "        if M[i][cel] == 1:     # If person i-th knows celebrity\n",
    "            count += 1\n",
    "\n",
    "        if M[cel][i] == 1:\n",
    "            return -1         # If celebrity knows i-th person\n",
    "\n",
    "    if count == n-1:\n",
    "        return cel\n",
    "\n",
    "    return -1\n",
    "\n",
    "# Time comp:O(N)\n",
    "# Space comp:O(1)"
   ]
  },
  {
   "cell_type": "code",
   "execution_count": null,
   "id": "bea3f403",
   "metadata": {},
   "outputs": [],
   "source": []
  },
  {
   "cell_type": "code",
   "execution_count": null,
   "id": "a2ef7e78",
   "metadata": {},
   "outputs": [],
   "source": []
  },
  {
   "cell_type": "code",
   "execution_count": null,
   "id": "0c9261cc",
   "metadata": {},
   "outputs": [],
   "source": []
  },
  {
   "cell_type": "markdown",
   "id": "14a2e987",
   "metadata": {},
   "source": [
    "### 284. Arithmetic Expression evaluation"
   ]
  },
  {
   "cell_type": "code",
   "execution_count": 36,
   "id": "2fd7d498",
   "metadata": {},
   "outputs": [],
   "source": [
    "# evaluation of prefix expression\n",
    "\n",
    "def evaluatePrefix(S):\n",
    "    stack = []\n",
    "    \n",
    "    for i in range(len(S)-1, -1, -1):\n",
    "        if S[i] not in ('+','-','/','*'):\n",
    "            stack.append(int(S[i]))\n",
    "        else:\n",
    "            x = stack.pop()\n",
    "            y = stack.pop()\n",
    "            if S[i] == '+':\n",
    "                stack.append(x+y)\n",
    "            elif S[i] == '-':\n",
    "                stack.append(x-y)\n",
    "            elif S[i] == '*':\n",
    "                stack.append(x*y)\n",
    "            elif S[i] == '/':\n",
    "                stack.append(x//y)\n",
    "    return stack.pop()\n",
    "\n",
    "# Time and space comp: O(N)"
   ]
  },
  {
   "cell_type": "code",
   "execution_count": 38,
   "id": "7b2d92b1",
   "metadata": {},
   "outputs": [
    {
     "name": "stdout",
     "output_type": "stream",
     "text": [
      "8\n"
     ]
    }
   ],
   "source": [
    "print(evaluatePrefix('-+8/632'))"
   ]
  },
  {
   "cell_type": "markdown",
   "id": "b08e4d10",
   "metadata": {},
   "source": [
    "### 285. Evaluation of Postfix Expression"
   ]
  },
  {
   "cell_type": "code",
   "execution_count": 33,
   "id": "e9dcb8d4",
   "metadata": {},
   "outputs": [
    {
     "data": {
      "text/plain": [
       "-4"
      ]
     },
     "execution_count": 33,
     "metadata": {},
     "output_type": "execute_result"
    }
   ],
   "source": [
    "def evaluatePostfix(S):\n",
    "    stack = []\n",
    "\n",
    "    for i in range(len(S)):\n",
    "        if S[i] not in ('+','-','/','*'):\n",
    "            stack.append(int(S[i]))\n",
    "        else:\n",
    "            x = stack.pop()\n",
    "            y = stack.pop()\n",
    "            if S[i] == '+':\n",
    "                stack.append(y+x)\n",
    "            elif S[i] == '-':\n",
    "                stack.append(y-x)\n",
    "            elif S[i] == '*':\n",
    "                stack.append(y*x)\n",
    "            elif S[i] == '/':\n",
    "                stack.append(y//x)\n",
    "    return stack.pop()\n",
    "\n",
    "evaluatePostfix(\"231*+9-\")\n",
    "\n",
    "# Time and space comp: O(N)"
   ]
  },
  {
   "cell_type": "code",
   "execution_count": null,
   "id": "afa5ae5a",
   "metadata": {},
   "outputs": [],
   "source": []
  },
  {
   "cell_type": "markdown",
   "id": "8fd5781e",
   "metadata": {},
   "source": [
    "### 286. Insert An Element At Its Bottom In A Given Stack"
   ]
  },
  {
   "cell_type": "raw",
   "id": "eb7dd2ba",
   "metadata": {},
   "source": [
    "You are given a stack/deque of integers 'MY-STACK' and an integer ‘X’. Your task is to insert ‘X’ to the bottom of ‘MY-STACK’ and return the updated stack/deque."
   ]
  },
  {
   "cell_type": "code",
   "execution_count": 39,
   "id": "27e2faf0",
   "metadata": {},
   "outputs": [],
   "source": [
    "def pushAtBottom(myStack, x):\n",
    "    if len(myStack) == 0:\n",
    "        myStack.append(x)\n",
    "        return myStack\n",
    "    \n",
    "    p = myStack.pop()\n",
    "    myStack = pushAtBottom(myStack,x)\n",
    "    myStack.append(p)\n",
    "    return myStack\n",
    "\n",
    "# Time comp: O(N)\n",
    "# space comp: O(N)  (Due to recursion stack)"
   ]
  },
  {
   "cell_type": "code",
   "execution_count": 40,
   "id": "3b84332d",
   "metadata": {},
   "outputs": [
    {
     "name": "stdout",
     "output_type": "stream",
     "text": [
      "[5, 1, 2, 3, 4]\n"
     ]
    }
   ],
   "source": [
    "print(pushAtBottom([1,2,3,4], 5))"
   ]
  },
  {
   "cell_type": "code",
   "execution_count": null,
   "id": "bf3779f7",
   "metadata": {},
   "outputs": [],
   "source": []
  },
  {
   "cell_type": "markdown",
   "id": "6f2329f5",
   "metadata": {},
   "source": [
    "### 287. Reverse a stack using recursion"
   ]
  },
  {
   "cell_type": "code",
   "execution_count": 41,
   "id": "5efaeed0",
   "metadata": {},
   "outputs": [],
   "source": [
    "def insertAtBottom(stack,x):\n",
    "    if len(stack) == 0:\n",
    "        stack.append(x)\n",
    "    else:\n",
    "        temp = stack.pop()\n",
    "        stack = insertAtBottom(stack,x)\n",
    "        stack.append(temp)\n",
    "    return stack\n",
    "\n",
    "def reverseStack(stack) :\n",
    "    if len(stack) > 0:\n",
    "        top = stack.pop()\n",
    "        stack = reverseStack(stack)\n",
    "        insertAtBottom(stack,top)\n",
    "    return stack\n",
    "\n",
    "# Time comp: O(N^2)\n",
    "# Space comp: O(N)  Due to recursion stack\n",
    "\n",
    "# It can be done in O(N) time if stack is implemented using LL"
   ]
  },
  {
   "cell_type": "code",
   "execution_count": null,
   "id": "bf7c4b68",
   "metadata": {},
   "outputs": [],
   "source": []
  },
  {
   "cell_type": "markdown",
   "id": "50c1ef1e",
   "metadata": {},
   "source": [
    "### 288. Sort a Stack using recursion"
   ]
  },
  {
   "cell_type": "code",
   "execution_count": null,
   "id": "031b7107",
   "metadata": {},
   "outputs": [],
   "source": [
    "def insertSorted(s, x):\n",
    "    if len(s) == 0 or s[len(s)-1] <= x:\n",
    "        s.append(x)\n",
    "    else:\n",
    "        item = s.pop()\n",
    "        self.insertSorted(s, x)\n",
    "        s.append(item)\n",
    "    return s\n",
    "\n",
    "def sorted(s):\n",
    "    if len(s) > 0:\n",
    "        x = s.pop()\n",
    "        self.sorted(s)\n",
    "        self.insertSorted(s,x)\n",
    "    return s\n",
    "\n",
    "# Time comp: O(N^2)\n",
    "# Space comp: O(N)  due to recursion stack\n",
    "\n",
    "# It can be done in O(N) time if stack is implemented using LL"
   ]
  },
  {
   "cell_type": "code",
   "execution_count": null,
   "id": "7078c02f",
   "metadata": {},
   "outputs": [],
   "source": []
  },
  {
   "cell_type": "markdown",
   "id": "71c13744",
   "metadata": {},
   "source": [
    "### 289. Merge Intervals"
   ]
  },
  {
   "cell_type": "raw",
   "id": "2197e03b",
   "metadata": {},
   "source": [
    "Input: intervals = [[1,3],[2,6],[8,10],[15,18]]\n",
    "Output: [[1,6],[8,10],[15,18]]\n",
    "Explanation: Since intervals [1,3] and [2,6] overlap, merge them into [1,6]."
   ]
  },
  {
   "cell_type": "code",
   "execution_count": 44,
   "id": "40ed16d4",
   "metadata": {},
   "outputs": [],
   "source": [
    "# Using stack\n",
    "\n",
    "def merge(intervals):\n",
    "    arr = intervals\n",
    "    arr.sort()\n",
    "\n",
    "    stack = []\n",
    "\n",
    "    for i in arr:\n",
    "        if len(stack) == 0 or stack[len(stack)-1] < i[0]:\n",
    "            stack.append(i[0])\n",
    "            stack.append(i[1])\n",
    "            continue\n",
    "        else:\n",
    "            x = stack.pop()\n",
    "            stack.append(max(i[1],x))\n",
    "\n",
    "    ans = []\n",
    "    i = 0\n",
    "    while i < len(stack):\n",
    "        ans.append([stack[i],stack[i+1]])\n",
    "        i += 2\n",
    "\n",
    "    return ans\n",
    "\n",
    "# Time Comp:O(N log N)\n",
    "# Space comp: O(N)\n",
    "\n",
    "# More optimised solution is at Que-14 (Array)"
   ]
  },
  {
   "cell_type": "code",
   "execution_count": 45,
   "id": "f0db1334",
   "metadata": {},
   "outputs": [
    {
     "data": {
      "text/plain": [
       "[[1, 6], [8, 10], [15, 18]]"
      ]
     },
     "execution_count": 45,
     "metadata": {},
     "output_type": "execute_result"
    }
   ],
   "source": [
    "merge([[1,3],[2,6],[8,10],[15,18]])"
   ]
  },
  {
   "cell_type": "code",
   "execution_count": null,
   "id": "1dbcf471",
   "metadata": {},
   "outputs": [],
   "source": []
  },
  {
   "cell_type": "markdown",
   "id": "a7846e1a",
   "metadata": {},
   "source": [
    "### 290. Largest rectangular Area in Histogram"
   ]
  },
  {
   "cell_type": "raw",
   "id": "67999ca5",
   "metadata": {},
   "source": [
    "Find the largest rectangular area possible in a given histogram where the largest rectangle can be made of a number of contiguous bars. For simplicity, assume that all bars have the same width and the width is 1 unit, there will be N bars height of each bar will be given by the array arr.\n",
    "\n",
    "Example 1:\n",
    "\n",
    "Input:\n",
    "N = 7\n",
    "arr[] = {6,2,5,4,5,1,6}\n",
    "Output: 12  (4(height) * 3(column))\n",
    "\n",
    "Example 2:\n",
    "\n",
    "Input:\n",
    "N = 8\n",
    "arr[] = {7 2 8 9 1 3 6 5}\n",
    "Output: 16\n",
    "Explanation: Maximum size of the histogram will be 8  and there will be 2 consecutive histogram. And hence the area of the histogram will be 8x2 = 16."
   ]
  },
  {
   "cell_type": "code",
   "execution_count": 3,
   "id": "92d5f245",
   "metadata": {},
   "outputs": [],
   "source": [
    "\"\"\"\n",
    "Brute force logic:\n",
    "\n",
    "Suppose current element is 4, \n",
    "so from that element check the lest size area where we can go (bars with <= 4) & count # such bars on left side.\n",
    "similarly do that for thr right side as well and count # such bars on right side.\n",
    "So the area will be (4 * (left+right+1)) for that index.\n",
    "Calculate such area for every index and store max result\n",
    "\"\"\"\n",
    "\n",
    "class Solution:\n",
    "    def getMaxArea(self,arr):\n",
    "        n = len(arr)\n",
    "        ans = 0\n",
    "        for i in range(n):\n",
    "            \n",
    "            left = 0\n",
    "            k = i-1\n",
    "            \n",
    "            while k >= 0:\n",
    "                if arr[k] >= arr[i]:\n",
    "                    left += 1\n",
    "                    k -= 1\n",
    "                else:\n",
    "                    break\n",
    "            \n",
    "            right = 0\n",
    "            k = i+1\n",
    "            \n",
    "            while k < n:\n",
    "                if arr[k] >= arr[i]:\n",
    "                    right += 1\n",
    "                    k += 1\n",
    "                else:\n",
    "                    break\n",
    "            \n",
    "            area = arr[i] * (left+right+1)\n",
    "            ans = max(ans,area)\n",
    "        \n",
    "        return ans\n",
    "    \n",
    "# Time comp:O(N^2)\n",
    "# Space comp:O(1)"
   ]
  },
  {
   "cell_type": "code",
   "execution_count": 4,
   "id": "9b49a2f4",
   "metadata": {},
   "outputs": [
    {
     "data": {
      "text/plain": [
       "16"
      ]
     },
     "execution_count": 4,
     "metadata": {},
     "output_type": "execute_result"
    }
   ],
   "source": [
    "s = Solution()\n",
    "s.getMaxArea([7, 2, 8, 9, 1, 3, 6, 5])\n"
   ]
  },
  {
   "cell_type": "code",
   "execution_count": 17,
   "id": "f94adf0e",
   "metadata": {},
   "outputs": [],
   "source": [
    "# It is based on Que:311 \n",
    "# Here we find left smaller element and right smaller element\n",
    "\n",
    "class Solution:\n",
    "    def leftSmaller(self,arr):\n",
    "        ans = []\n",
    "        stack = []\n",
    "        \n",
    "        for i in range(len(arr)):\n",
    "            if len(stack) == 0:\n",
    "                ans.append(-1)\n",
    "                stack.append(i)\n",
    "                continue\n",
    "            \n",
    "            if arr[stack[-1]] < arr[i]:\n",
    "                ans.append(stack[-1])\n",
    "                stack.append(i)\n",
    "            else:\n",
    "                while len(stack) > 0 and arr[stack[-1]] >= arr[i]:\n",
    "                    stack.pop()\n",
    "                \n",
    "                if len(stack) == 0:\n",
    "                    ans.append(-1)\n",
    "                else:\n",
    "                    ans.append(stack[-1])\n",
    "                \n",
    "                stack.append(i)\n",
    "        \n",
    "        return ans\n",
    "        \n",
    "    def rightSmaller(self,arr):\n",
    "        ans = []\n",
    "        stack = []\n",
    "        n = len(arr)\n",
    "        for i in range(n-1,-1,-1):\n",
    "            if len(stack) == 0:\n",
    "                ans.append(n)\n",
    "                stack.append(i)\n",
    "                continue\n",
    "            \n",
    "            if arr[stack[-1]] < arr[i]:\n",
    "                ans.append(stack[-1])\n",
    "                stack.append(i)\n",
    "            else:\n",
    "                while len(stack) > 0 and arr[stack[-1]] >= arr[i]:\n",
    "                    stack.pop()\n",
    "                \n",
    "                if len(stack) == 0:\n",
    "                    ans.append(n)\n",
    "                else:\n",
    "                    ans.append(stack[-1])\n",
    "                \n",
    "                stack.append(i)\n",
    "        \n",
    "        return ans[::-1]\n",
    "    \n",
    "    def getMaxArea(self,arr):\n",
    "        n = len(arr)\n",
    "        left = self.leftSmaller(arr)\n",
    "        right = self.rightSmaller(arr)\n",
    "        \n",
    "        ans = 0\n",
    "        for i in range(n):\n",
    "            temp = (right[i]-left[i]-1) * arr[i]\n",
    "            ans = max(ans,temp)\n",
    "        \n",
    "        return ans\n",
    "    \n",
    "# Time comp:O(4*N)\n",
    "# Space comp:O(3*N)"
   ]
  },
  {
   "cell_type": "code",
   "execution_count": 18,
   "id": "befef385",
   "metadata": {},
   "outputs": [
    {
     "data": {
      "text/plain": [
       "16"
      ]
     },
     "execution_count": 18,
     "metadata": {},
     "output_type": "execute_result"
    }
   ],
   "source": [
    "s = Solution()\n",
    "s.getMaxArea([7, 2, 8, 9, 1, 3, 6, 5])"
   ]
  },
  {
   "cell_type": "raw",
   "id": "54dd97b2",
   "metadata": {},
   "source": [
    "1. Create an empty stack.\n",
    "2. Start from the first bar, and do the following for every bar hist[i] where ‘i‘ varies from 0 to n-1\n",
    "   -If the stack is empty or hist[i] is higher than the bar at top of the stack, then push ‘i‘ to stack. \n",
    "   -If this bar is smaller than the top of the stack, then keep removing the top of the stack while the top of the     stack is greater. \n",
    "   -Let the removed bar be hist[tp]. Calculate the area of the rectangle with hist[tp] as the smallest bar. \n",
    "   -For hist[tp], the ‘left index’ is previous (previous to tp) item in stack and ‘right index’ is ‘i‘ (current       index).\n",
    "3. If the stack is not empty, then one by one remove all bars from the stack and do step (2.2 and 2.3) for every      removed bar"
   ]
  },
  {
   "cell_type": "code",
   "execution_count": 19,
   "id": "f6af77a1",
   "metadata": {},
   "outputs": [],
   "source": [
    "# https://www.youtube.com/watch?v=jC_cWLy7jSI\n",
    "\n",
    "class Solution:\n",
    "    def getMaxArea(self,arr):\n",
    "        stack = []\n",
    "        ans = 0\n",
    "        n = len(arr)\n",
    "        \n",
    "        for i in range(n+1):\n",
    "            while len(stack) > 0 and (i == n or arr[stack[-1]] >= arr[i]):\n",
    "                height = arr[stack[-1]]\n",
    "                stack.pop()\n",
    "                \n",
    "                if len(stack) == 0:\n",
    "                    width = i\n",
    "                else:\n",
    "                    width = i - stack[-1] - 1\n",
    "                \n",
    "                ans = max(ans, width*height)\n",
    "            \n",
    "            stack.append(i)\n",
    "        \n",
    "        return ans\n",
    "    \n",
    "# Time comp:O(N)\n",
    "# Space comp:O(N)"
   ]
  },
  {
   "cell_type": "code",
   "execution_count": 20,
   "id": "f5e091dd",
   "metadata": {},
   "outputs": [
    {
     "data": {
      "text/plain": [
       "16"
      ]
     },
     "execution_count": 20,
     "metadata": {},
     "output_type": "execute_result"
    }
   ],
   "source": [
    "s = Solution()\n",
    "s.getMaxArea([7, 2, 8, 9, 1, 3, 6, 5])"
   ]
  },
  {
   "cell_type": "code",
   "execution_count": null,
   "id": "d11f2686",
   "metadata": {},
   "outputs": [],
   "source": []
  },
  {
   "cell_type": "markdown",
   "id": "39c6c17d",
   "metadata": {},
   "source": [
    "### 291. Length of the Longest Valid Substring"
   ]
  },
  {
   "cell_type": "raw",
   "id": "dd1ce1c2",
   "metadata": {},
   "source": [
    "Input: S = \"(()(\"\n",
    "Output: 2\n",
    "Explanation: The longest valid \n",
    "substring is \"()\". Length = 2."
   ]
  },
  {
   "cell_type": "raw",
   "id": "8f13512d",
   "metadata": {},
   "source": [
    "1) Create an empty stack and push -1 to it. \n",
    "   The first element of the stack is used \n",
    "   to provide a base for the next valid string. \n",
    "\n",
    "2) Initialize result as 0.\n",
    "\n",
    "3) If the character is '(' i.e. str[i] == '('), \n",
    "   push index'i' to the stack. \n",
    "   \n",
    "2) Else (if the character is ')')\n",
    "   a) Pop an item from the stack (Most of the \n",
    "      time an opening bracket)\n",
    "   b) If the stack is not empty, then find the\n",
    "      length of current valid substring by taking \n",
    "      the difference between the current index and\n",
    "      top of the stack. If current length is more \n",
    "      than the result, then update the result.\n",
    "   c) If the stack is empty, push the current index\n",
    "      as a base for the next valid substring.\n",
    "\n",
    "3) Return result."
   ]
  },
  {
   "cell_type": "code",
   "execution_count": 46,
   "id": "60b7be84",
   "metadata": {},
   "outputs": [],
   "source": [
    "def findMaxLen(S):\n",
    "    stack = [-1]\n",
    "    ans = 0\n",
    "    \n",
    "    for i in range(len(S)):\n",
    "        if S[i] == '(':\n",
    "            stack.append(i)\n",
    "            continue\n",
    "        \n",
    "        stack.pop()\n",
    "        if len(stack) == 0:\n",
    "            stack.append(i)\n",
    "            continue\n",
    "        else:\n",
    "            ans = max(ans, i - stack[-1])\n",
    "    return ans\n",
    "\n",
    "# Time comp: O(N)\n",
    "# Space comp: O(N)"
   ]
  },
  {
   "cell_type": "code",
   "execution_count": 49,
   "id": "23e338cb",
   "metadata": {},
   "outputs": [
    {
     "name": "stdout",
     "output_type": "stream",
     "text": [
      "2\n",
      "2\n",
      "6\n"
     ]
    }
   ],
   "source": [
    "print(findMaxLen('(()('))\n",
    "print(findMaxLen('))()'))\n",
    "print(findMaxLen('(())())'))"
   ]
  },
  {
   "cell_type": "raw",
   "id": "4b8c3bcf",
   "metadata": {},
   "source": [
    "1. The idea to solve this problem is to traverse the string on and keep track of the count of open parentheses and close parentheses with the help of two counters left and right respectively.\n",
    "2. First, the string is traversed from the left towards the right and for every “(” encountered, the left counter is incremented by 1 and for every “)” the right counter is incremented by 1.\n",
    "3. Whenever the left becomes equal to right, the length of the current valid string is calculated and if it greater than the current longest substring, then value of required longest substring is updated with current string length.\n",
    "4. If the right counter becomes greater than the left counter, then the set of parentheses has become invalid and hence the left and right counters are set to 0.\n",
    "5. After the above process, the string is similarly traversed from right to left and similar procedure is applied."
   ]
  },
  {
   "cell_type": "code",
   "execution_count": 50,
   "id": "054f74ff",
   "metadata": {},
   "outputs": [],
   "source": [
    "# Solution with space comp: O(1)\n",
    "\n",
    "def findMaxLen2(s):\n",
    "    ans = 0\n",
    "    left = 0\n",
    "    right = 0\n",
    "    \n",
    "    # Iterate from left to right\n",
    "    for i in range(len(s)):\n",
    "        if s[i] == '(':\n",
    "            left += 1\n",
    "        else:\n",
    "            right += 1\n",
    "            \n",
    "        if right == left:\n",
    "            ans = max(ans, 2*left)\n",
    "        elif right>left:\n",
    "            right = 0\n",
    "            left = 0\n",
    "        else:\n",
    "            continue\n",
    "            \n",
    "    left = 0\n",
    "    right = 0\n",
    "    \n",
    "    # Iterate from right to left\n",
    "    for i in range(len(s)-1, -1, -1):\n",
    "        if s[i] == '(':\n",
    "            left += 1\n",
    "        else:\n",
    "            right += 1\n",
    "            \n",
    "        if right == left:\n",
    "            ans = max(ans, 2*left)\n",
    "        elif left>right:\n",
    "            right = 0\n",
    "            left = 0\n",
    "        else:\n",
    "            continue\n",
    "            \n",
    "    return ans\n",
    "\n",
    "# time comp: O(N)\n",
    "# Space comp: O(1)"
   ]
  },
  {
   "cell_type": "code",
   "execution_count": 51,
   "id": "dac53a4d",
   "metadata": {},
   "outputs": [
    {
     "name": "stdout",
     "output_type": "stream",
     "text": [
      "2\n",
      "2\n",
      "6\n"
     ]
    }
   ],
   "source": [
    "print(findMaxLen2('(()('))\n",
    "print(findMaxLen2('))()'))\n",
    "print(findMaxLen2('(())())'))"
   ]
  },
  {
   "cell_type": "code",
   "execution_count": null,
   "id": "9f954b4a",
   "metadata": {},
   "outputs": [],
   "source": []
  },
  {
   "cell_type": "markdown",
   "id": "e7e9f226",
   "metadata": {},
   "source": [
    "### 292. Expression contains redundant bracket or not"
   ]
  },
  {
   "cell_type": "raw",
   "id": "6c28ef85",
   "metadata": {},
   "source": [
    "Input: \n",
    "((a+b))\n",
    "(a+(b)/c)\n",
    "(a+b*(c-d))\n",
    "Output: \n",
    "Yes\n",
    "Yes\n",
    "No\n",
    "\n",
    "Explanation:\n",
    "1. ((a+b)) can reduced to (a+b), this Redundant\n",
    "2. (a+(b)/c) can reduced to (a+b/c) because b is\n",
    "surrounded by () which is redundant.\n",
    "3. (a+b*(c-d)) doesn't have any redundant or multiple\n",
    "brackets."
   ]
  },
  {
   "cell_type": "code",
   "execution_count": 78,
   "id": "c75a9211",
   "metadata": {},
   "outputs": [],
   "source": [
    "\"\"\"\n",
    "-> read string from left o right\n",
    "-> if its operand then skip\n",
    "-> if its in ['(','+','-','*','/'] then push it in stack and continue\n",
    "-> if its ')' then do the following\n",
    "-> pop element from stack until top != '('\n",
    "-> if we dont found any element in pop, it mean that its not redundant \n",
    "\"\"\"\n",
    "\n",
    "def findRedundantBrackets(s):\n",
    "    stack = []\n",
    "    for i in s:\n",
    "        if i in ['(','+','-','*','/']:\n",
    "            stack.append(i)\n",
    "            continue\n",
    "        elif i == ')':\n",
    "            ans = True\n",
    "            while len(stack) > 0 and stack[-1] != '(':\n",
    "                top = stack.pop()\n",
    "                if top in ['+','-','*','/']:\n",
    "                    ans = False\n",
    "            if len(stack) > 0 and stack[-1] == '(':\n",
    "                stack.pop()\n",
    "            if ans == True:\n",
    "                return 'Yes'\n",
    "        else:\n",
    "            continue   # skip opprands\n",
    "    return 'No'\n",
    "\n",
    "# Time comp: O(N)\n",
    "# space comp; O(N)"
   ]
  },
  {
   "cell_type": "code",
   "execution_count": 80,
   "id": "0a639acd",
   "metadata": {},
   "outputs": [
    {
     "name": "stdout",
     "output_type": "stream",
     "text": [
      "No\n",
      "Yes\n"
     ]
    }
   ],
   "source": [
    "print(findRedundantBrackets('(a*b+(c/d))'))\n",
    "print(findRedundantBrackets('(a+(b)/c)'))"
   ]
  },
  {
   "cell_type": "code",
   "execution_count": null,
   "id": "9094e220",
   "metadata": {},
   "outputs": [],
   "source": []
  },
  {
   "cell_type": "markdown",
   "id": "b0531985",
   "metadata": {},
   "source": [
    "### 293. Stack using two queues"
   ]
  },
  {
   "cell_type": "code",
   "execution_count": null,
   "id": "e59f23cf",
   "metadata": {},
   "outputs": [],
   "source": [
    "def push(x):\n",
    "    \n",
    "    # global declaration\n",
    "    global queue_1\n",
    "    global queue_2\n",
    "    \n",
    "    queue_1.append(x)\n",
    "\n",
    "# Time comp: O(1)\n",
    "# Space comp: O(1)\n",
    "    \n",
    "def pop():\n",
    "    \n",
    "    # global declaration\n",
    "    global queue_1\n",
    "    global queue_2\n",
    "    \n",
    "    if len(queue_1) == 0:\n",
    "        return -1\n",
    "    \n",
    "    for i in queue_1:\n",
    "        queue_2.append(i)\n",
    "    queue_1 = []\n",
    "    \n",
    "    x = queue_2.pop()\n",
    "    \n",
    "    for i in queue_2:\n",
    "        queue_1.append(i)\n",
    "    queue_2 = []\n",
    "        \n",
    "    return x\n",
    "\n",
    "# Time comp: O(N)\n",
    "# Space comp: O(N)\n",
    "\n",
    "# Here we make pop function costly"
   ]
  },
  {
   "cell_type": "code",
   "execution_count": null,
   "id": "edca5d46",
   "metadata": {},
   "outputs": [],
   "source": []
  },
  {
   "cell_type": "markdown",
   "id": "0ef79a84",
   "metadata": {},
   "source": [
    "### 294. Deque Implementations"
   ]
  },
  {
   "cell_type": "code",
   "execution_count": null,
   "id": "5ecd5312",
   "metadata": {},
   "outputs": [],
   "source": [
    "#Function to push element x to the front of the deque.\n",
    "def push_front_pf(dq,x):\n",
    "    dq.appendleft(x)\n",
    "\n",
    "#Function to push element x to the back of the deque.\n",
    "def push_back_pb(dq,x):\n",
    "    dq.append(x)\n",
    "\n",
    "#Function to return element from front of the deque.\n",
    "def front_dq(dq):\n",
    "    if len(dq) == 0:\n",
    "        return -1\n",
    "    return dq[0]\n",
    "\n",
    "#Function to pop element from back of the deque.\n",
    "def pop_back_ppb(dq):\n",
    "    if len(dq) == 0:\n",
    "        return -1\n",
    "    return dq.pop()\n",
    "\n",
    "# All Time comp:O(1)\n",
    "# All space comp: O(1)\n",
    "# Here dq is collections object deque"
   ]
  },
  {
   "cell_type": "code",
   "execution_count": null,
   "id": "c7066548",
   "metadata": {},
   "outputs": [],
   "source": []
  },
  {
   "cell_type": "markdown",
   "id": "758baf09",
   "metadata": {},
   "source": [
    "### 295. Stack Permutations (Check if an array is stack permutation of other)"
   ]
  },
  {
   "cell_type": "raw",
   "id": "8450142b",
   "metadata": {},
   "source": [
    "You are given two arrays A and B of size N of unique elements. Check if one array is a stack permutation of the other array or not.\n",
    "Stack permutation means that one array can be created from another array using a stack and stack operations.\n",
    "\n",
    "Input:\n",
    "N = 3\n",
    "A = {1,2,3}\n",
    "B = {2,1,3}\n",
    "Output:\n",
    "1\n",
    "\n",
    "Input:\n",
    "N = 3\n",
    "A = {1,2,3}\n",
    "B = {3,1,2}\n",
    "Output:\n",
    "0"
   ]
  },
  {
   "cell_type": "code",
   "execution_count": 81,
   "id": "24800f44",
   "metadata": {},
   "outputs": [],
   "source": [
    "def isStackPermutation(N, A, B):\n",
    "    stack = []\n",
    "    p = 0    # to point output string\n",
    "    \n",
    "    for i in A:\n",
    "        stack.append(i)\n",
    "        \n",
    "        # pop element until top of stack == output's current location\n",
    "        while len(stack) > 0 and p < len(B) and stack[-1] == B[p]:\n",
    "            stack.pop()\n",
    "            p += 1\n",
    "    \n",
    "    if len(stack) == 0 and p == len(B):\n",
    "        return 1\n",
    "    else:\n",
    "        return 0\n",
    "            \n",
    "# Time comp: O(N)\n",
    "# Space comp: O(N)"
   ]
  },
  {
   "cell_type": "code",
   "execution_count": 82,
   "id": "7072da4f",
   "metadata": {},
   "outputs": [
    {
     "name": "stdout",
     "output_type": "stream",
     "text": [
      "1\n",
      "0\n"
     ]
    }
   ],
   "source": [
    "print(isStackPermutation(3, [1,2,3], [2,1,3]))\n",
    "print(isStackPermutation(3, [1,2,3], [3,1,2]))"
   ]
  },
  {
   "cell_type": "code",
   "execution_count": null,
   "id": "b3da55d4",
   "metadata": {},
   "outputs": [],
   "source": []
  },
  {
   "cell_type": "markdown",
   "id": "59d99499",
   "metadata": {},
   "source": [
    "### 296. Queue using two Stacks"
   ]
  },
  {
   "cell_type": "code",
   "execution_count": 83,
   "id": "056754a9",
   "metadata": {},
   "outputs": [],
   "source": [
    "def Push(x,stack1,stack2):\n",
    "    '''\n",
    "    x: value to push\n",
    "    stack1: list\n",
    "    stack2: list\n",
    "    '''\n",
    "    stack1.append(x)\n",
    "\n",
    "# Time and space comp: O(1)\n",
    "\n",
    "def Pop(stack1,stack2):\n",
    "    '''\n",
    "    stack1: list\n",
    "    stack2: list\n",
    "    '''\n",
    "    \n",
    "    if len(stack2) > 0:\n",
    "        return stack2.pop()\n",
    "    else:\n",
    "        if len(stack1) == 0:\n",
    "            return -1\n",
    "        while len(stack1) > 0:\n",
    "            stack2.append(stack1.pop())\n",
    "        return stack2.pop()\n",
    "\n",
    "# Time comp:O(N)\n",
    "# Space comp: O(1)"
   ]
  },
  {
   "cell_type": "code",
   "execution_count": null,
   "id": "89e55a91",
   "metadata": {},
   "outputs": [],
   "source": []
  },
  {
   "cell_type": "markdown",
   "id": "522eb6fd",
   "metadata": {},
   "source": [
    "### 298. Implement a Circular queue"
   ]
  },
  {
   "cell_type": "code",
   "execution_count": null,
   "id": "83082e4f",
   "metadata": {},
   "outputs": [],
   "source": [
    "class MyCircularQueue:\n",
    "\n",
    "    def __init__(self, k: int):\n",
    "        self.list = [None for i in range(k)]\n",
    "        self.front = -1\n",
    "        self.rear = -1\n",
    "        self.size = k\n",
    "\n",
    "    def enQueue(self, value: int) -> bool:\n",
    "        if self.isFull():\n",
    "            return False\n",
    "        \n",
    "        if self.isEmpty():\n",
    "            self.front = 0\n",
    "            self.rear = 0\n",
    "            self.list[self.rear] = value\n",
    "            return True\n",
    "        elif self.rear == self.size - 1:\n",
    "            self.rear = 0\n",
    "            self.list[self.rear] = value\n",
    "            return True\n",
    "        else:\n",
    "            self.rear += 1\n",
    "            self.list[self.rear] = value\n",
    "            return True\n",
    "\n",
    "    def deQueue(self) -> bool:\n",
    "        if self.isEmpty():\n",
    "            return False\n",
    "        \n",
    "        if self.front == self.rear:\n",
    "            self.list[self.front] = None\n",
    "            self.front = -1\n",
    "            self.rear = -1\n",
    "            return True\n",
    "        elif self.front == self.size -1:\n",
    "            self.list[self.front] = None\n",
    "            self.front = 0\n",
    "            return True\n",
    "        else:\n",
    "            self.list[self.front] = None\n",
    "            self.front += 1\n",
    "            return True\n",
    "        \n",
    "    def Front(self) -> int:\n",
    "        if self.isEmpty():\n",
    "            return -1\n",
    "        return self.list[self.front]\n",
    "\n",
    "    def Rear(self) -> int:\n",
    "        if self.isEmpty():\n",
    "            return -1\n",
    "        return self.list[self.rear]\n",
    "\n",
    "    def isEmpty(self) -> bool:\n",
    "        if self.front == -1 and self.rear == -1:\n",
    "            return True\n",
    "        return False\n",
    "\n",
    "    def isFull(self) -> bool:\n",
    "        if (self.rear + 1) % self.size == self.front:\n",
    "            return True\n",
    "        return False\n",
    "    \n",
    "# All time comp: O(1)\n",
    "# All space comp: O(1)"
   ]
  },
  {
   "cell_type": "code",
   "execution_count": null,
   "id": "361aa5b7",
   "metadata": {},
   "outputs": [],
   "source": []
  },
  {
   "cell_type": "markdown",
   "id": "ca101d71",
   "metadata": {},
   "source": [
    "### 300. Reverse a Queue using recursion"
   ]
  },
  {
   "cell_type": "raw",
   "id": "40e2d3da",
   "metadata": {},
   "source": [
    "Input:\n",
    "6\n",
    "4 3 1 10 2 6\n",
    "\n",
    "Output: \n",
    "6 2 10 1 3 4"
   ]
  },
  {
   "cell_type": "code",
   "execution_count": 84,
   "id": "3c9a52fa",
   "metadata": {},
   "outputs": [],
   "source": [
    "import sys\n",
    "sys.setrecursionlimit(10000)\n",
    "# import queue from Queue\n",
    "# Here queue is of type Queue module of python\n",
    "\n",
    "def rev(q):\n",
    "    #add code here\n",
    "    if q.empty():\n",
    "        return q\n",
    "    x = q.get()\n",
    "    q = rev(q)\n",
    "    q.put(x)\n",
    "    return q\n",
    "\n",
    "# Time comp: O(N)\n",
    "# Space comp: O(N)  due to recursion stack"
   ]
  },
  {
   "cell_type": "code",
   "execution_count": null,
   "id": "63f2e278",
   "metadata": {},
   "outputs": [],
   "source": []
  },
  {
   "cell_type": "markdown",
   "id": "17c272a5",
   "metadata": {},
   "source": [
    "### 301. Reverse First K elements of Queue"
   ]
  },
  {
   "cell_type": "raw",
   "id": "12d7e34d",
   "metadata": {},
   "source": [
    "Given an integer K and a queue of integers, we need to reverse the order of the first K elements of the queue, leaving the other elements in the same relative order.\n",
    "\n",
    "Input:\n",
    "5 3\n",
    "1 2 3 4 5\n",
    "\n",
    "Output: \n",
    "3 2 1 4 5"
   ]
  },
  {
   "cell_type": "raw",
   "id": "3f0a7903",
   "metadata": {},
   "source": [
    "Create an empty stack.\n",
    "One by one dequeue first K items from given queue and push the dequeued items to stack.\n",
    "Enqueue the contents of stack at the back of the queue\n",
    "Dequeue (size-k) elements from the front and enqueue them one by one to the same queue."
   ]
  },
  {
   "cell_type": "code",
   "execution_count": 85,
   "id": "0bb08832",
   "metadata": {},
   "outputs": [],
   "source": [
    "def modifyQueue(q,k):\n",
    "    stack = []\n",
    "    ans = []\n",
    "    rem = len(q)-k\n",
    "    \n",
    "    if len(q) == 0:\n",
    "        return q\n",
    "    \n",
    "    while k:\n",
    "        stack.append(q.pop(0))\n",
    "        k -= 1\n",
    "        if len(q) == 0:\n",
    "            break\n",
    "    \n",
    "    while len(stack) > 0:\n",
    "        q.append(stack.pop())\n",
    "    \n",
    "    while rem:\n",
    "        q.append(q.pop(0))\n",
    "        rem -= 1\n",
    "        \n",
    "    return q\n",
    "\n",
    "# Time comp: O(N)\n",
    "# Space comp: O(k)  (to create stack)"
   ]
  },
  {
   "cell_type": "code",
   "execution_count": 86,
   "id": "66507308",
   "metadata": {},
   "outputs": [
    {
     "data": {
      "text/plain": [
       "[3, 2, 1, 4, 5]"
      ]
     },
     "execution_count": 86,
     "metadata": {},
     "output_type": "execute_result"
    }
   ],
   "source": [
    "modifyQueue([1,2,3,4,5],3)"
   ]
  },
  {
   "cell_type": "code",
   "execution_count": null,
   "id": "4976b9b5",
   "metadata": {},
   "outputs": [],
   "source": []
  },
  {
   "cell_type": "markdown",
   "id": "47399a56",
   "metadata": {},
   "source": [
    "### 302. Interleave the first half of the queue with second half"
   ]
  },
  {
   "cell_type": "raw",
   "id": "06320485",
   "metadata": {},
   "source": [
    "You have been given a queue of integers. You need to rearrange the elements of the queue by interleaving the elements of the first half of the queue with the second half. Only a stack can be used as an auxiliary space.\n",
    "\n",
    "Input :  1 2 3 4\n",
    "Output : 1 3 2 4\n",
    "\n",
    "Input : 11 12 13 14 15 16 17 18 19 20\n",
    "Output : 11 16 12 17 13 18 14 19 15 20\n"
   ]
  },
  {
   "cell_type": "code",
   "execution_count": null,
   "id": "27d904ac",
   "metadata": {},
   "outputs": [],
   "source": [
    "# here queue os of collections type deque\n",
    "\n",
    "def interLeaveQueue(queue):\n",
    "    half = len(queue) // 2\n",
    "    stack = []\n",
    "    \n",
    "    # append first half of queue into the stack\n",
    "    for i in range(0,half):\n",
    "        stack.append(queue.popleft())\n",
    "        \n",
    "    # Pop all element from stack and append it back to queue\n",
    "    while len(stack):\n",
    "        queue.append(stack.pop())\n",
    "        \n",
    "    # append first half of queue into the back of queue\n",
    "    for i in range(0,half):\n",
    "        queue.append(queue.popleft())\n",
    "        \n",
    "    # append first half of queue into the stack again\n",
    "    for i in range(0,half):\n",
    "        stack.append(queue.popleft())\n",
    "    \n",
    "    # Append top of the stack and first element of queue one by one until stack become empty\n",
    "    while len(stack):\n",
    "        queue.append(stack.pop())\n",
    "        queue.append(queue.popleft())\n",
    "    \n",
    "    return queue\n",
    "\n",
    "# Time comp: O(N)\n",
    "# Space comp: O(N)   (size of stack: N/2)"
   ]
  },
  {
   "cell_type": "code",
   "execution_count": null,
   "id": "0d0031f4",
   "metadata": {},
   "outputs": [],
   "source": []
  },
  {
   "cell_type": "markdown",
   "id": "ec99083d",
   "metadata": {},
   "source": [
    "### 303. Find the first circular tour that visits all petrol pumps"
   ]
  },
  {
   "cell_type": "raw",
   "id": "670e60f8",
   "metadata": {},
   "source": [
    "Suppose there is a circle. There are N petrol pumps on that circle. You will be given two sets of data.\n",
    "1. The amount of petrol that every petrol pump has.\n",
    "2. Distance from that petrol pump to the next petrol pump.\n",
    "Find a starting point where the truck can start to get through the complete circle without exhausting its petrol in between.\n",
    "Note :  Assume for 1 litre petrol, the truck can go 1 unit of distance.\n",
    "\n",
    "Input:\n",
    "N = 4\n",
    "Petrol = 4 6 7 4\n",
    "Distance = 6 5 3 5\n",
    "Output: 1\n",
    "Explanation: There are 4 petrol pumps with\n",
    "amount of petrol and distance to next\n",
    "petrol pump value pairs as {4, 6}, {6, 5},\n",
    "{7, 3} and {4, 5}. The first point from\n",
    "where truck can make a circular tour is\n",
    "2nd petrol pump. Output in this case is 1\n",
    "(index of 2nd petrol pump)."
   ]
  },
  {
   "cell_type": "code",
   "execution_count": 124,
   "id": "44721379",
   "metadata": {},
   "outputs": [],
   "source": [
    "def tour(arr, n):\n",
    "    start = 0                  # Start with index 0 initially\n",
    "    capacity = 0               # current capacity of petrol\n",
    "    deficity = 0               # current deficity\n",
    "\n",
    "    for i in range(n):\n",
    "        capacity = capacity + (arr[i][0] - arr[i][1])     \n",
    "        if capacity < 0:\n",
    "            start = i+1\n",
    "            deficity = deficity + capacity\n",
    "            capacity = 0\n",
    "\n",
    "    if capacity + deficity >= 0:\n",
    "        return start\n",
    "    else:\n",
    "        return -1\n",
    "    \n",
    "# Time comp: O(N)\n",
    "# Space comp: O(1)"
   ]
  },
  {
   "cell_type": "code",
   "execution_count": 125,
   "id": "c588ee13",
   "metadata": {},
   "outputs": [
    {
     "data": {
      "text/plain": [
       "1"
      ]
     },
     "execution_count": 125,
     "metadata": {},
     "output_type": "execute_result"
    }
   ],
   "source": [
    "arr = [[4,6], [6,5], [7,3], [4,5]]\n",
    "tour(arr, 4)"
   ]
  },
  {
   "cell_type": "code",
   "execution_count": null,
   "id": "745dc402",
   "metadata": {},
   "outputs": [],
   "source": []
  },
  {
   "cell_type": "markdown",
   "id": "083c1084",
   "metadata": {},
   "source": [
    "### 304. Minimum time required to rot all oranges"
   ]
  },
  {
   "cell_type": "raw",
   "id": "9201b822",
   "metadata": {},
   "source": [
    "Given a grid of dimension nxm where each cell in the grid can have values 0, 1 or 2 which has the following meaning:\n",
    "0 : Empty cell\n",
    "1 : Cells have fresh oranges\n",
    "2 : Cells have rotten oranges\n",
    "\n",
    "We have to determine what is the minimum time required to rot all oranges. A rotten orange at index [i,j] can rot other fresh orange at indexes [i-1,j], [i+1,j], [i,j-1], [i,j+1] (up, down, left and right) in unit time. \n",
    "\n",
    "Input: grid = {{0,1,2},{0,1,2},{2,1,1}}\n",
    "Output: 1\n",
    "Explanation: The grid is-\n",
    "0 1 2\n",
    "0 1 2\n",
    "2 1 1\n",
    "Oranges at positions (0,2), (1,2), (2,0)\n",
    "will rot oranges at (0,1), (1,1), (2,2) and \n",
    "(2,1) in unit time."
   ]
  },
  {
   "cell_type": "code",
   "execution_count": 150,
   "id": "2b128e54",
   "metadata": {},
   "outputs": [],
   "source": [
    "\"\"\"\n",
    "Check each cell, when it comes to rottened number then make its neighbouring 1 as rottened too\n",
    "\"\"\"\n",
    "\n",
    "def orangesRotting(grid):\n",
    "    row = len(grid)\n",
    "    col = len(grid[0])\n",
    "    \n",
    "    # This function is used to check whether given index is valid or not\n",
    "    def checkRange(x,y):\n",
    "        if x >= 0 and x < row and y >= 0 and y < col:\n",
    "            return True\n",
    "        return False\n",
    "    \n",
    "    change = False\n",
    "    number = 2\n",
    "    while True:\n",
    "        for i in range(row):\n",
    "            for j in range(col):\n",
    "                if grid[i][j] == number:\n",
    "                    \n",
    "                    if(checkRange(i+1,j) and grid[i+1][j] == 1):\n",
    "                        grid[i+1][j] = grid[i][j] + 1\n",
    "                        change = True\n",
    "                        \n",
    "                    if(checkRange(i-1,j) and grid[i-1][j] == 1):\n",
    "                        grid[i-1][j] = grid[i][j] + 1\n",
    "                        change = True\n",
    "                        \n",
    "                    if(checkRange(i,j+1) and grid[i][j+1] == 1):\n",
    "                        grid[i][j+1] = grid[i][j] + 1\n",
    "                        change = True\n",
    "                        \n",
    "                    if(checkRange(i,j-1) and grid[i][j-1] == 1):\n",
    "                        grid[i][j-1] = grid[i][j] + 1\n",
    "                        change = True \n",
    "        if not change:\n",
    "            break\n",
    "            \n",
    "        change = False\n",
    "        number += 1\n",
    "        \n",
    "    for i in range(row):\n",
    "        for j in range(col):\n",
    "            if grid[i][j] == 1:\n",
    "                return -1\n",
    "            \n",
    "    return number - 2\n",
    "\n",
    "# Time comp: O(N*N)\n",
    "# Space comp: O(1)\n",
    "# Do this que again after bfs"
   ]
  },
  {
   "cell_type": "code",
   "execution_count": 151,
   "id": "6a5fdf2e",
   "metadata": {},
   "outputs": [
    {
     "data": {
      "text/plain": [
       "2"
      ]
     },
     "execution_count": 151,
     "metadata": {},
     "output_type": "execute_result"
    }
   ],
   "source": [
    "#grid = [[0,1,2],[0,1,2],[2,1,1]]\n",
    "grid = [\n",
    "[0, 1, 0],\n",
    "[0, 1, 2],\n",
    "[2, 2, 0],\n",
    "[1, 0, 2],\n",
    "[0, 2, 1],\n",
    "[2, 1, 1],\n",
    "[2, 2, 0],\n",
    "[2, 2, 2],\n",
    "[2, 2, 1]]\n",
    "\n",
    "orangesRotting(grid)"
   ]
  },
  {
   "cell_type": "code",
   "execution_count": null,
   "id": "e667ea94",
   "metadata": {},
   "outputs": [],
   "source": []
  },
  {
   "cell_type": "markdown",
   "id": "1c1e8ee9",
   "metadata": {},
   "source": [
    "### 306. First negative integer in every window of size “k”"
   ]
  },
  {
   "cell_type": "raw",
   "id": "dd420dac",
   "metadata": {},
   "source": [
    "Input : \n",
    "N = 5\n",
    "A[] = {-8, 2, 3, -6, 10}\n",
    "K = 2\n",
    "Output : \n",
    "-8 0 -6 -6\n",
    "Explanation :\n",
    "First negative integer for each window of size k\n",
    "{-8, 2} = -8\n",
    "{2, 3} = 0 (does not contain a negative integer)\n",
    "{3, -6} = -6\n",
    "{-6, 10} = -6"
   ]
  },
  {
   "cell_type": "raw",
   "id": "5251bb1a",
   "metadata": {},
   "source": [
    "We create a Dequeue, Di of capacity k, that stores only useful elements of the current window of k elements. An element is useful if it is in the current window and it is a negative integer. We process all array elements one by one and maintain Di to contain useful elements of current window and these useful elements are all negative integers. For a particular window, if Di is not empty then the element at front of the Di is the first negative integer for that window, else that window does not contain a negative integer."
   ]
  },
  {
   "cell_type": "code",
   "execution_count": 87,
   "id": "11f39a13",
   "metadata": {},
   "outputs": [],
   "source": [
    "from collections import deque\n",
    "def printFirstNegativeInteger( A, N, K):\n",
    "    ans = []\n",
    "    if N <= K:\n",
    "        for i in A:\n",
    "            if i < 0:\n",
    "                ans.append(i)\n",
    "                return ans\n",
    "    \n",
    "    queue = deque(maxlen = K)\n",
    "    \n",
    "    for i in range(K):\n",
    "        if A[i] < 0:\n",
    "            queue.append(i)\n",
    "            \n",
    "    for i in range(K,N):\n",
    "        if len(queue) == 0:\n",
    "            ans.append(0)\n",
    "        else:\n",
    "            ans.append(A[queue[0]])\n",
    "            \n",
    "        while len(queue) > 0 and queue[0] <= i - K:\n",
    "            queue.popleft()\n",
    "            \n",
    "        if A[i] < 0:\n",
    "            queue.append(i)\n",
    "            \n",
    "    if len(queue) == 0:\n",
    "        ans.append(0)\n",
    "    else:\n",
    "        ans.append(A[queue[0]])\n",
    "        \n",
    "    return ans\n",
    "\n",
    "# time comp:O(N)\n",
    "# space comp: O(k)  (for queue) "
   ]
  },
  {
   "cell_type": "code",
   "execution_count": 88,
   "id": "7b021ed2",
   "metadata": {},
   "outputs": [
    {
     "data": {
      "text/plain": [
       "[-8, 0, -2, -2]"
      ]
     },
     "execution_count": 88,
     "metadata": {},
     "output_type": "execute_result"
    }
   ],
   "source": [
    "printFirstNegativeInteger([-8,2,3,-2,-5], 5, 2)"
   ]
  },
  {
   "cell_type": "code",
   "execution_count": 122,
   "id": "b9199e4b",
   "metadata": {},
   "outputs": [],
   "source": [
    "\"\"\"\n",
    "The idea is to have a variable neg to keep track of the first negative element in the k sized window. \n",
    "At every iteration, we skip the elements which no longer fall under the current k size window (neg <= i – k) \n",
    "as well as the non-negative elements(zero or positive).\n",
    "\"\"\"\n",
    "\n",
    "def printFirstNegativeInteger2( A, N, K):\n",
    "    ans = []\n",
    "    if N <= K:\n",
    "        for i in A:\n",
    "            if i < 0:\n",
    "                ans.append(i)\n",
    "                return ans\n",
    "            \n",
    "    neg = 0\n",
    "    \n",
    "    for i in range(K-1,N):\n",
    "        while neg < i and (neg <= i-K or A[neg] >= 0):\n",
    "            neg += 1\n",
    "        \n",
    "        if A[neg] < 0:\n",
    "            ans.append(A[neg])\n",
    "        else:\n",
    "            ans.append(0)\n",
    "            \n",
    "    return ans\n",
    "\n",
    "# Time comp: O(N)\n",
    "# space comp: O(1)"
   ]
  },
  {
   "cell_type": "code",
   "execution_count": 123,
   "id": "247e70c7",
   "metadata": {},
   "outputs": [
    {
     "data": {
      "text/plain": [
       "[-1, -1, -7, -15, -15, 0]"
      ]
     },
     "execution_count": 123,
     "metadata": {},
     "output_type": "execute_result"
    }
   ],
   "source": [
    "printFirstNegativeInteger2([12, -1, -7, 8, -15, 30, 16, 28], 8, 3)"
   ]
  },
  {
   "cell_type": "code",
   "execution_count": null,
   "id": "fa255486",
   "metadata": {},
   "outputs": [],
   "source": []
  },
  {
   "cell_type": "markdown",
   "id": "29c631be",
   "metadata": {},
   "source": [
    "### 307. Check if all levels of two trees are anagrams or not."
   ]
  },
  {
   "cell_type": "raw",
   "id": "c3953c7c",
   "metadata": {},
   "source": [
    "Given two binary trees, the task is to check if each of their levels are anagrams of each other or not. \n",
    "\n",
    "Example 1:\n",
    "\n",
    "Input:\n",
    "\n",
    "Output: 1\n",
    "Explanation: \n",
    "Tree 1:\n",
    "Level 0 : 1\n",
    "Level 1 : 3, 2\n",
    "Level 2 : 5, 4\n",
    "\n",
    "Tree 2:\n",
    "Level 0 : 1\n",
    "Level 1 : 2, 3\n",
    "Level 2 : 4, 5\n",
    "\n",
    "As we can clearly see all the levels of above two binary trees \n",
    "are anagrams of each other, hence return true"
   ]
  },
  {
   "cell_type": "code",
   "execution_count": null,
   "id": "a05688c6",
   "metadata": {},
   "outputs": [],
   "source": [
    "\"\"\"\n",
    "Here idea is to do level order traversing and make hash table of key:[levels] of tree 1\n",
    "After that do the level order traversal of tree 2 and keep deleting key/levels from hash map\n",
    "During that also check that current key was at the same level in tree 1 or not.\n",
    "After that check whether any key left there or not, if hash map is empty then return true else false.\n",
    "\"\"\"\n",
    "\n",
    "from collections import deque\n",
    "class Solution:\n",
    "    def __init__(self):\n",
    "        self.level = 0\n",
    "        self.hash_map = {}\n",
    "    def areAnagrams(self, node1, node2):\n",
    "        if node1 == None or node2 == None:\n",
    "            return False\n",
    "            \n",
    "        q = deque()\n",
    "        q.append(node1)\n",
    "        q.append(None)\n",
    "        \n",
    "        while len(q):\n",
    "            temp = q.popleft()\n",
    "            if temp.data in self.hash_map:\n",
    "                self.hash_map[temp.data].append(self.level)\n",
    "            else:\n",
    "                self.hash_map[temp.data] = [self.level]\n",
    "            \n",
    "            if temp.left:\n",
    "                q.append(temp.left)\n",
    "            if temp.right:\n",
    "                q.append(temp.right)\n",
    "                \n",
    "            if q[0] == None:\n",
    "                q.popleft()\n",
    "                self.level += 1\n",
    "                if len(q):\n",
    "                    q.append(None)\n",
    "        \n",
    "        #print(self.hash_map)\n",
    "        \n",
    "        self.level = 0\n",
    "        q = deque()\n",
    "        q.append(node2)\n",
    "        q.append(None)\n",
    "        \n",
    "        while len(q):\n",
    "            temp = q.popleft()\n",
    "            \n",
    "            if temp.data in self.hash_map:\n",
    "                if self.level in self.hash_map[temp.data]:\n",
    "                    if len(self.hash_map[temp.data]) == 1:\n",
    "                        del(self.hash_map[temp.data])\n",
    "                    else:\n",
    "                        self.hash_map[temp.data].remove(self.level)\n",
    "                else:\n",
    "                    return False\n",
    "            \n",
    "            if temp.left:\n",
    "                q.append(temp.left)\n",
    "            if temp.right:\n",
    "                q.append(temp.right)\n",
    "                \n",
    "            if q[0] == None:\n",
    "                q.popleft()\n",
    "                self.level += 1\n",
    "                if len(q):\n",
    "                    q.append(None)\n",
    "                   \n",
    "        if len(self.hash_map):\n",
    "            return False\n",
    "        return True\n",
    "    \n",
    "# Time comp:O(N)\n",
    "# Space comp:O(N)"
   ]
  },
  {
   "cell_type": "code",
   "execution_count": null,
   "id": "ca09e7a9",
   "metadata": {},
   "outputs": [],
   "source": []
  },
  {
   "cell_type": "markdown",
   "id": "5592da9b",
   "metadata": {},
   "source": [
    "### 308. Maximum of all subarrays of size k"
   ]
  },
  {
   "cell_type": "raw",
   "id": "47e75b7b",
   "metadata": {},
   "source": [
    "Given an array arr[] of size N and an integer K. Find the maximum for each and every contiguous subarray of size K.\n",
    "\n",
    "Input:\n",
    "N = 9, K = 3\n",
    "arr[] = 1 2 3 1 4 5 2 3 6\n",
    "Output: \n",
    "3 3 4 5 5 5 6"
   ]
  },
  {
   "cell_type": "code",
   "execution_count": 198,
   "id": "f981e9ca",
   "metadata": {},
   "outputs": [],
   "source": [
    "# Brute force solution\n",
    "def max_of_subarrays0(arr,n,k):\n",
    "    ans = []\n",
    "\n",
    "    for i in range(k,n+1):\n",
    "        ans.append(max(arr[i-k:i]))\n",
    "\n",
    "    return ans\n",
    "\n",
    "# time comp O(N*k)\n",
    "# Space comp: O(1)"
   ]
  },
  {
   "cell_type": "code",
   "execution_count": 199,
   "id": "5b693ae1",
   "metadata": {},
   "outputs": [
    {
     "data": {
      "text/plain": [
       "[3, 3, 4, 5, 5, 5, 6]"
      ]
     },
     "execution_count": 199,
     "metadata": {},
     "output_type": "execute_result"
    }
   ],
   "source": [
    "arr = [1, 2, 3, 1, 4, 5, 2, 3, 6]\n",
    "#arr = [8, 5, 10, 7, 9, 4, 15, 12, 90, 13]\n",
    "max_of_subarrays0(arr,9,3)"
   ]
  },
  {
   "cell_type": "raw",
   "id": "b30692ac",
   "metadata": {},
   "source": [
    "-> Create a deque to store k elements.\n",
    "-> Run a loop and insert first k elements in the deque. Before inserting the element, check if the element at the back of the queue is smaller than the current element, if it is so remove the element from the back of the deque, until all elements left in the deque are greater than the current element. Then insert the current element, at the back of the deque.\n",
    "-> Now, run a loop from k to end of the array.\n",
    "-> Print the front element of the deque.\n",
    "-> Remove the element from the front of the queue if they are out of the current window.\n",
    "-> Insert the next element in the deque. Before inserting the element, check if the element at the back of the queue is smaller than the current element, if it is so remove the element from the back of the deque, until all elements left in the deque are greater than the current element. Then insert the current element, at the back of the deque.\n",
    "-> Print the maximum element of the last window."
   ]
  },
  {
   "cell_type": "code",
   "execution_count": 196,
   "id": "ed2f8270",
   "metadata": {},
   "outputs": [],
   "source": [
    "from collections import deque\n",
    "\n",
    "def max_of_subarrays(arr,n,k):\n",
    "    ans = []\n",
    "    queue = deque(maxlen = k)\n",
    "    \n",
    "    for i in range(k):\n",
    "        while len(queue) > 0 and arr[i] >= arr[queue[-1]]:\n",
    "            queue.pop()\n",
    "        queue.append(i)\n",
    "\n",
    "    for i in range(k,n):\n",
    "        ans.append(arr[queue[0]])\n",
    "        \n",
    "        while len(queue) > 0 and queue[0] <= i-k:\n",
    "            queue.popleft()\n",
    "            \n",
    "        while len(queue) > 0 and arr[i] >= arr[queue[-1]]:\n",
    "            queue.pop()\n",
    "            \n",
    "        queue.append(i)\n",
    "    \n",
    "    ans.append(arr[queue.popleft()])\n",
    "\n",
    "    return ans\n",
    "\n",
    "# time comp: O(N)\n",
    "# space comp: O(K)  to store queue"
   ]
  },
  {
   "cell_type": "code",
   "execution_count": 197,
   "id": "4fcf467b",
   "metadata": {},
   "outputs": [
    {
     "data": {
      "text/plain": [
       "[3, 3, 4, 5, 5, 5, 6]"
      ]
     },
     "execution_count": 197,
     "metadata": {},
     "output_type": "execute_result"
    }
   ],
   "source": [
    "arr = [1, 2, 3, 1, 4, 5, 2, 3, 6]\n",
    "#arr = [8, 5, 10, 7, 9, 4, 15, 12, 90, 13]\n",
    "max_of_subarrays(arr,9,3)"
   ]
  },
  {
   "cell_type": "code",
   "execution_count": null,
   "id": "26d85c10",
   "metadata": {},
   "outputs": [],
   "source": []
  },
  {
   "cell_type": "markdown",
   "id": "6ac544a2",
   "metadata": {},
   "source": [
    "### 309. Minimum sum of squares of character counts in a given string after removing “k” characters."
   ]
  },
  {
   "cell_type": "raw",
   "id": "af0a93be",
   "metadata": {},
   "source": [
    "Given a string s of lowercase alphabets and a number k, the task is to print the minimum value of the string after removal of ‘k’ characters. The value of a string is defined as the sum of squares of the count of each distinct character.\n",
    "\n",
    "Input: s = aabcbcbcabcc, k = 3\n",
    "Output: 27\n",
    "Explaination: We remove two 'c' and one 'b'. \n",
    "Now we get the value as 32 + 32 + 32.\n"
   ]
  },
  {
   "cell_type": "code",
   "execution_count": 205,
   "id": "ae806312",
   "metadata": {},
   "outputs": [],
   "source": [
    "def minValue(s, k):\n",
    "    if len(s) == k:\n",
    "        return 0\n",
    "    if len(s) == k-1:\n",
    "        return 1\n",
    "\n",
    "    char_map = {}\n",
    "\n",
    "    for i in s:\n",
    "        if i in char_map:\n",
    "            char_map[i] += 1\n",
    "        else:\n",
    "            char_map[i] = 1\n",
    "\n",
    "    for i in range(k):\n",
    "        mx = s[0]\n",
    "        for j in char_map:\n",
    "            if char_map[j] > char_map[mx]:\n",
    "                mx = j\n",
    "        char_map[mx] -= 1\n",
    "\n",
    "    ans = 0\n",
    "    for j in char_map:\n",
    "        ans += char_map[j] ** 2\n",
    "\n",
    "    return ans\n",
    "\n",
    "# Time comp: O(K*N)\n",
    "# Space comp: O(N)"
   ]
  },
  {
   "cell_type": "code",
   "execution_count": 206,
   "id": "2e075efb",
   "metadata": {},
   "outputs": [
    {
     "data": {
      "text/plain": [
       "6"
      ]
     },
     "execution_count": 206,
     "metadata": {},
     "output_type": "execute_result"
    }
   ],
   "source": [
    "minValue('abccc', 1)"
   ]
  },
  {
   "cell_type": "code",
   "execution_count": 203,
   "id": "46eb46c8",
   "metadata": {},
   "outputs": [],
   "source": [
    "# Solution with priority queue\n",
    "\n",
    "from queue import PriorityQueue\n",
    "\n",
    "def minValue2(s, k):\n",
    "    if len(s) == k:\n",
    "        return 0\n",
    "    if len(s) == k-1:\n",
    "        return 1\n",
    "\n",
    "    char_map = {}\n",
    "\n",
    "    for i in s:\n",
    "        if i in char_map:\n",
    "            char_map[i] += 1\n",
    "        else:\n",
    "            char_map[i] = 1\n",
    "            \n",
    "    q = PriorityQueue()\n",
    "    \n",
    "    for i in char_map:\n",
    "        q.put(char_map[i] * -1)             # As it consider lower value as highest priority\n",
    "        \n",
    "    while k > 0:\n",
    "        x = q.get()\n",
    "        x += 1\n",
    "        q.put(x)\n",
    "        k -= 1\n",
    "    \n",
    "    ans = 0\n",
    "    while not q.empty():\n",
    "        x = -1 * q.get()\n",
    "        ans = ans + (x**2)\n",
    "        \n",
    "    return ans\n",
    "\n",
    "# Time comp: O(K*log N)\n",
    "# Space comp: O(N)   to store hash map and queue"
   ]
  },
  {
   "cell_type": "code",
   "execution_count": 204,
   "id": "92d4e779",
   "metadata": {},
   "outputs": [
    {
     "data": {
      "text/plain": [
       "27"
      ]
     },
     "execution_count": 204,
     "metadata": {},
     "output_type": "execute_result"
    }
   ],
   "source": [
    "minValue2('aabcbcbcabcc',3)"
   ]
  },
  {
   "cell_type": "code",
   "execution_count": null,
   "id": "61f851af",
   "metadata": {},
   "outputs": [],
   "source": []
  },
  {
   "cell_type": "code",
   "execution_count": null,
   "id": "7a09776f",
   "metadata": {},
   "outputs": [],
   "source": []
  },
  {
   "cell_type": "markdown",
   "id": "5681d97e",
   "metadata": {},
   "source": [
    "### 310. Queue based approach or first non-repeating character in a stream."
   ]
  },
  {
   "cell_type": "code",
   "execution_count": null,
   "id": "2839aedd",
   "metadata": {},
   "outputs": [],
   "source": [
    "# did in linklist, que 162"
   ]
  },
  {
   "cell_type": "code",
   "execution_count": null,
   "id": "1a4e82a9",
   "metadata": {},
   "outputs": [],
   "source": []
  },
  {
   "cell_type": "markdown",
   "id": "a3ea5870",
   "metadata": {},
   "source": [
    "### 311. Next Smaller Element"
   ]
  },
  {
   "cell_type": "raw",
   "id": "8ea5669b",
   "metadata": {},
   "source": [
    "Given an array, print the Next Smaller Element (NSE) for every element. The NSE for an element x is the first smaller element on the right side of x in array. Elements for which no smaller element exist (on right side), consider NSE as -1.\n",
    "\n",
    "Input: N = 5, arr[] = {3, 8, 5, 2, 25}\n",
    "Output: 2 5 2 -1 -1"
   ]
  },
  {
   "cell_type": "code",
   "execution_count": null,
   "id": "1fb6833b",
   "metadata": {},
   "outputs": [],
   "source": [
    "# Brute force method is simple,\n",
    "# time comp will be O(N^2) and space comp: O(1)"
   ]
  },
  {
   "cell_type": "code",
   "execution_count": 11,
   "id": "97a1b342",
   "metadata": {},
   "outputs": [],
   "source": [
    "def help_classmate(arr, n):\n",
    "    stack = []\n",
    "    stack.append(0)\n",
    "    \n",
    "    for i in range(1,n):\n",
    "        if arr[i] >= arr[stack[-1]]:\n",
    "            stack.append(i)\n",
    "        else:\n",
    "            while len(stack) and arr[stack[-1]] > arr[i]:\n",
    "                x = stack.pop()\n",
    "                arr[x] = arr[i]\n",
    "            stack.append(i)\n",
    "        \n",
    "    while len(stack) > 0:\n",
    "        x = stack.pop()\n",
    "        arr[x] = -1\n",
    "        \n",
    "    return arr\n",
    "\n",
    "# Time comp: O(N)\n",
    "# sapce comp: O(N)"
   ]
  },
  {
   "cell_type": "code",
   "execution_count": 12,
   "id": "fcd68460",
   "metadata": {},
   "outputs": [
    {
     "name": "stdout",
     "output_type": "stream",
     "text": [
      "[2, 5, 2, -1, -1]\n",
      "[-1, -1, -1, -1]\n"
     ]
    }
   ],
   "source": [
    "print(help_classmate([3, 8, 5, 2, 25], 5))\n",
    "print(help_classmate([1,2,3,4], 4))"
   ]
  },
  {
   "cell_type": "raw",
   "id": "cf0cae57",
   "metadata": {},
   "source": [
    "Variation of this que:\n",
    "\n",
    "Que: Smaller number on left\n",
    "\n",
    "Given an array a of integers of length n, find the nearest smaller number for every element such that the smaller element is on left side.If no small element present on the left print -1.\n",
    "\n",
    "Example 1:\n",
    "\n",
    "Input: n = 3\n",
    "a = {1, 6, 2}\n",
    "Output: -1 1 1\n",
    "Explaination: There is no number at the \n",
    "left of 1. Smaller number than 6 and 2 is 1.\n",
    "Example 2:\n",
    "\n",
    "Input: n = 6\n",
    "a = {1, 5, 0, 3, 4, 5}\n",
    "Output: -1 1 -1 0 3 4\n",
    "Explaination: Upto 3 it is easy to see \n",
    "the smaller numbers. But for 4 the smaller \n",
    "numbers are 1, 0 and 3. But among them 3 \n",
    "is closest. Similary for 5 it is 4."
   ]
  },
  {
   "cell_type": "code",
   "execution_count": 13,
   "id": "8e4a6224",
   "metadata": {},
   "outputs": [],
   "source": [
    "class Solution:\n",
    "    def leftSmaller(self, n, arr):\n",
    "        stack = []\n",
    "        ans = []\n",
    "        for i in range(0,n):\n",
    "            \n",
    "            # If stack is empty, append -1 in ans and curr element on stack\n",
    "            if len(stack) == 0:\n",
    "                stack.append(arr[i])\n",
    "                ans.append(-1)\n",
    "                continue\n",
    "            \n",
    "            # If top of the stack is less than curr element then append it in ans and push curr element on stack\n",
    "            if stack[-1] < arr[i]:\n",
    "                ans.append(stack[-1])\n",
    "                stack.append(arr[i])\n",
    "            else:\n",
    "                # Else pop element from stack until top of stack greater than curr\n",
    "                while len(stack) > 0 and stack[-1] >= arr[i]:\n",
    "                    stack.pop()\n",
    "                \n",
    "                # In that process if stack gets empty then append -1 in ans\n",
    "                if len(stack) == 0:\n",
    "                    ans.append(-1)\n",
    "                else:\n",
    "                    # else append top of the stack in ans\n",
    "                    ans.append(stack[-1])\n",
    "                \n",
    "                # Append curr element on stack as well\n",
    "                stack.append(arr[i])\n",
    "            \n",
    "        return ans\n",
    "    \n",
    "# Time comp:O(N)\n",
    "# Space comp:O(N)"
   ]
  },
  {
   "cell_type": "code",
   "execution_count": 14,
   "id": "eb82ab54",
   "metadata": {},
   "outputs": [
    {
     "data": {
      "text/plain": [
       "[-1, 1, -1, 0, 3, 4]"
      ]
     },
     "execution_count": 14,
     "metadata": {},
     "output_type": "execute_result"
    }
   ],
   "source": [
    "s = Solution()\n",
    "s.leftSmaller(6,[1, 5, 0, 3, 4, 5])"
   ]
  },
  {
   "cell_type": "code",
   "execution_count": 15,
   "id": "55b696d5",
   "metadata": {},
   "outputs": [],
   "source": [
    "# Smaller number on right with same logic\n",
    "# Just start reading arr from right side and reverse the final ans\n",
    "\n",
    "class Solution:\n",
    "    def rightSmaller(self, n, arr):\n",
    "        stack = []\n",
    "        ans = []\n",
    "        for i in range(n-1,-1,-1):\n",
    "            if len(stack) == 0:\n",
    "                stack.append(arr[i])\n",
    "                ans.append(-1)\n",
    "                continue\n",
    "            \n",
    "            if stack[-1] < arr[i]:\n",
    "                ans.append(stack[-1])\n",
    "                stack.append(arr[i])\n",
    "            else:\n",
    "                while len(stack) > 0 and stack[-1] >= arr[i]:\n",
    "                    stack.pop()\n",
    "                \n",
    "                if len(stack) == 0:\n",
    "                    ans.append(-1)\n",
    "                else:\n",
    "                    ans.append(stack[-1])\n",
    "                stack.append(arr[i])\n",
    "            \n",
    "        return ans[::-1]"
   ]
  },
  {
   "cell_type": "code",
   "execution_count": 16,
   "id": "333644de",
   "metadata": {},
   "outputs": [
    {
     "data": {
      "text/plain": [
       "[2, 5, 2, -1, -1]"
      ]
     },
     "execution_count": 16,
     "metadata": {},
     "output_type": "execute_result"
    }
   ],
   "source": [
    "s = Solution()\n",
    "s.rightSmaller(5,[3, 8, 5, 2, 25])"
   ]
  },
  {
   "cell_type": "code",
   "execution_count": null,
   "id": "c0ae7435",
   "metadata": {},
   "outputs": [],
   "source": []
  }
 ],
 "metadata": {
  "kernelspec": {
   "display_name": "Python 3",
   "language": "python",
   "name": "python3"
  },
  "language_info": {
   "codemirror_mode": {
    "name": "ipython",
    "version": 3
   },
   "file_extension": ".py",
   "mimetype": "text/x-python",
   "name": "python",
   "nbconvert_exporter": "python",
   "pygments_lexer": "ipython3",
   "version": "3.9.12"
  }
 },
 "nbformat": 4,
 "nbformat_minor": 5
}
