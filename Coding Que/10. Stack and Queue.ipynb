{
 "cells": [
  {
   "cell_type": "markdown",
   "id": "8a29ee02",
   "metadata": {},
   "source": [
    "## Stack and Queue"
   ]
  },
  {
   "cell_type": "markdown",
   "id": "0b42ee9b",
   "metadata": {},
   "source": [
    "### 274.  Implement Stack from Scratch"
   ]
  },
  {
   "cell_type": "code",
   "execution_count": null,
   "id": "3e268efb",
   "metadata": {},
   "outputs": [],
   "source": [
    "class MyStack:\n",
    "    \n",
    "    def __init__(self):\n",
    "        self.arr=[]\n",
    "    \n",
    "    #Function to push an integer into the stack.\n",
    "    def push(self,data):\n",
    "        self.arr.append(data)\n",
    "        #add code here\n",
    "    \n",
    "    #Function to remove an item from top of the stack.\n",
    "    def pop(self):\n",
    "        if len(self.arr) == 0:\n",
    "            return -1\n",
    "        return self.arr.pop()\n",
    "    \n",
    "# Time comp: O(1)"
   ]
  },
  {
   "cell_type": "code",
   "execution_count": null,
   "id": "e6846fda",
   "metadata": {},
   "outputs": [],
   "source": []
  },
  {
   "cell_type": "markdown",
   "id": "c87e6d69",
   "metadata": {},
   "source": [
    "### 275.  Implement Queue from Scratch"
   ]
  },
  {
   "cell_type": "code",
   "execution_count": 1,
   "id": "8297bc88",
   "metadata": {},
   "outputs": [],
   "source": [
    "class MyQueue:\n",
    "    \n",
    "    def __init__(self):\n",
    "        self.list = []\n",
    "    \n",
    "    #Function to push an element x in a queue.\n",
    "    def push(self, x):\n",
    "        self.list.append(x)\n",
    "        #add code here\n",
    "         \n",
    "     \n",
    "    #Function to pop an element from queue and return that element.\n",
    "    def pop(self):\n",
    "        if len(self.list) == 0:\n",
    "            return -1\n",
    "        return self.list.pop(0) \n",
    "        # add code here\n",
    "        \n",
    "# Enqueue and dequque is O(1)"
   ]
  },
  {
   "cell_type": "code",
   "execution_count": null,
   "id": "c07662d2",
   "metadata": {},
   "outputs": [],
   "source": []
  },
  {
   "cell_type": "markdown",
   "id": "8f0c7f2e",
   "metadata": {},
   "source": [
    "### 276. Implement two stacks in an array"
   ]
  },
  {
   "cell_type": "code",
   "execution_count": 2,
   "id": "149f896b",
   "metadata": {},
   "outputs": [],
   "source": [
    "class Stack:\n",
    "    def __init__(self,size):\n",
    "        self.size = size\n",
    "        self.top1 = -1\n",
    "        self.top2 = size\n",
    "        self.list = [None for i in range(size)]\n",
    "        \n",
    "    def push1(self,a):\n",
    "        if self.top1 + 1 == self.top2:\n",
    "            # Overflow\n",
    "            return\n",
    "        \n",
    "        self.top1 += 1\n",
    "        self.list[self.top1] = a\n",
    "        \n",
    "    def push2(self,a):\n",
    "        if self.top2 - 1 == self.top1:\n",
    "            # Overflow\n",
    "            return\n",
    "        \n",
    "        self.top2 -= 1\n",
    "        self.list[self.top2] = a\n",
    "        \n",
    "    def pop1(self):\n",
    "        if self.top1 == -1:\n",
    "            # underflow\n",
    "            return -1\n",
    "        x = self.list[self.top1]\n",
    "        self.top1 -= 1\n",
    "        return x\n",
    "        \n",
    "    def pop2(self):\n",
    "        if self.top2 == self.size:\n",
    "            # underflow\n",
    "            return -1\n",
    "        x = self.list[self.top2]\n",
    "        self.top2 += 1\n",
    "        return x\n",
    "    \n",
    "# All time comp: O(1)\n",
    "# All space comp: O(1)"
   ]
  },
  {
   "cell_type": "code",
   "execution_count": 4,
   "id": "3ce9ae5f",
   "metadata": {},
   "outputs": [
    {
     "name": "stdout",
     "output_type": "stream",
     "text": [
      "2\n",
      "1\n",
      "3\n",
      "-1\n",
      "-1\n"
     ]
    }
   ],
   "source": [
    "stack = Stack(3)\n",
    "stack.push1(1)\n",
    "stack.push1(2)\n",
    "stack.push2(3)\n",
    "print(stack.pop1())\n",
    "print(stack.pop1())\n",
    "print(stack.pop2())\n",
    "print(stack.pop2())\n",
    "print(stack.pop1())"
   ]
  },
  {
   "cell_type": "code",
   "execution_count": null,
   "id": "5192b4aa",
   "metadata": {},
   "outputs": [],
   "source": []
  },
  {
   "cell_type": "markdown",
   "id": "8b690d9f",
   "metadata": {},
   "source": [
    "### 277. Delete middle element of a stack"
   ]
  },
  {
   "cell_type": "raw",
   "id": "76999dd5",
   "metadata": {},
   "source": [
    "Given a stack with push(), pop(), empty() operations, delete the middle of the stack without using any additional data structure.\n",
    "\n",
    "Input: \n",
    "Stack = {1, 2, 3, 4, 5}\n",
    "Output:\n",
    "ModifiedStack = {1, 2, 4, 5}"
   ]
  },
  {
   "cell_type": "code",
   "execution_count": null,
   "id": "cd1321ee",
   "metadata": {},
   "outputs": [],
   "source": [
    "class Solution:\n",
    "    def deleteMid(self, s, sizeOfStack):\n",
    "        mid = sizeOfStack//2\n",
    "        stack = []\n",
    "        \n",
    "        while mid:\n",
    "            stack.append(s.pop())\n",
    "            mid -= 1\n",
    "        \n",
    "        s.pop()\n",
    "        \n",
    "        while len(stack) > 0:\n",
    "            s.append(stack.pop())\n",
    "            \n",
    "# Time comp: O(N)\n",
    "# Space comp: O(N)"
   ]
  },
  {
   "cell_type": "code",
   "execution_count": null,
   "id": "ffce570f",
   "metadata": {},
   "outputs": [],
   "source": []
  },
  {
   "cell_type": "markdown",
   "id": "aaeea5b6",
   "metadata": {},
   "source": [
    "### 279. Check the expression has valid or Balanced parenthesis or not."
   ]
  },
  {
   "cell_type": "code",
   "execution_count": 5,
   "id": "249efd81",
   "metadata": {},
   "outputs": [],
   "source": [
    "# Already did in array/string"
   ]
  },
  {
   "cell_type": "code",
   "execution_count": null,
   "id": "c25a97bf",
   "metadata": {},
   "outputs": [],
   "source": []
  },
  {
   "cell_type": "markdown",
   "id": "c1bdc17b",
   "metadata": {},
   "source": [
    "### 280. Reverse a String using Stack"
   ]
  },
  {
   "cell_type": "code",
   "execution_count": 6,
   "id": "1f64ea14",
   "metadata": {},
   "outputs": [],
   "source": [
    "def reverse(S):\n",
    "    \n",
    "    #Add code here\n",
    "    stack = []\n",
    "    for i in S:\n",
    "        stack.append(i)\n",
    "    ans = ''\n",
    "    for i in range(len(stack)):\n",
    "        x = stack.pop()\n",
    "        ans += str(x)\n",
    "    return ans\n",
    "\n",
    "# time comp: O(N)\n",
    "# Space comp: O(N)"
   ]
  },
  {
   "cell_type": "code",
   "execution_count": 7,
   "id": "e2e83da5",
   "metadata": {},
   "outputs": [
    {
     "data": {
      "text/plain": [
       "'olleh'"
      ]
     },
     "execution_count": 7,
     "metadata": {},
     "output_type": "execute_result"
    }
   ],
   "source": [
    "reverse('hello')"
   ]
  },
  {
   "cell_type": "code",
   "execution_count": null,
   "id": "bc99f25e",
   "metadata": {},
   "outputs": [],
   "source": []
  },
  {
   "cell_type": "markdown",
   "id": "c8a3343f",
   "metadata": {},
   "source": [
    "### 281. Design a Stack that supports getMin() in O(N) time and O(1) extra space."
   ]
  },
  {
   "cell_type": "raw",
   "id": "513f90d1",
   "metadata": {},
   "source": [
    "Input:\n",
    "Stack: 18 19 29 15 16\n",
    "Output: 15\n",
    "Explanation:\n",
    "The minimum element of the stack is 15."
   ]
  },
  {
   "cell_type": "code",
   "execution_count": 9,
   "id": "0e7069df",
   "metadata": {},
   "outputs": [],
   "source": [
    "# function should append an element on to the stack\n",
    "def push(arr, ele):\n",
    "    return arr.append(ele)\n",
    "\n",
    "# Function should pop an element from stack\n",
    "def pop(arr):\n",
    "    return arr.pop()\n",
    "\n",
    "# function should return 1/0 or True/False\n",
    "def isFull(n, arr):\n",
    "    if len(arr) == n:\n",
    "        return 1\n",
    "    return 0\n",
    "\n",
    "# function should return 1/0 or True/False\n",
    "def isEmpty(arr):\n",
    "    if len(arr) == 0:\n",
    "        return 1\n",
    "    return 0\n",
    "\n",
    "# function should return minimum element from the stack\n",
    "def getMin(n, arr):\n",
    "    x = arr.pop()\n",
    "    if len(arr) == 0:\n",
    "        return x\n",
    "    else:\n",
    "        return min(x,getMin(n,arr[0:len(arr)]))\n",
    "    \n",
    "# To get min:\n",
    "# Time comp: O(N)\n",
    "# space comp: O(1)   Due to recursion stack: O(N)"
   ]
  },
  {
   "cell_type": "code",
   "execution_count": null,
   "id": "b98f130a",
   "metadata": {},
   "outputs": [],
   "source": []
  },
  {
   "cell_type": "markdown",
   "id": "98960ba1",
   "metadata": {},
   "source": [
    "### 282. Find the next Greater element"
   ]
  },
  {
   "cell_type": "raw",
   "id": "36278016",
   "metadata": {},
   "source": [
    "Input: \n",
    "N = 4, arr[] = [1 3 2 4]\n",
    "Output:\n",
    "3 4 4 -1\n",
    "Explanation:\n",
    "In the array, the next larger element \n",
    "to 1 is 3 , 3 is 4 , 2 is 4 and for 4 ? \n",
    "since it doesn't exist, it is -1."
   ]
  },
  {
   "cell_type": "code",
   "execution_count": 10,
   "id": "441a6012",
   "metadata": {},
   "outputs": [],
   "source": [
    "# Brute force solution\n",
    "# For each element, search at right side for next larger element\n",
    "\n",
    "def nextLargerElement(arr,n):\n",
    "    for i in range(n-1):\n",
    "        ans = -1\n",
    "        for j in range(i+1,n):\n",
    "            if arr[j] > arr[i]:\n",
    "                ans = arr[j]\n",
    "                break\n",
    "        arr[i] = ans\n",
    "    arr[n-1] = -1\n",
    "    return arr\n",
    "\n",
    "# Time comp: O(N^2)\n",
    "# Space comp: O(1)"
   ]
  },
  {
   "cell_type": "code",
   "execution_count": 11,
   "id": "5eae8c7c",
   "metadata": {},
   "outputs": [
    {
     "data": {
      "text/plain": [
       "[4, 2, 4, -1]"
      ]
     },
     "execution_count": 11,
     "metadata": {},
     "output_type": "execute_result"
    }
   ],
   "source": [
    "nextLargerElement([3,1,2,4],4)"
   ]
  },
  {
   "cell_type": "code",
   "execution_count": 30,
   "id": "03965c4a",
   "metadata": {},
   "outputs": [],
   "source": [
    "\"\"\"\n",
    "-> create one stack.\n",
    "-> push first element into the stack.\n",
    "-> run a loop from (1,n)\n",
    "-> if current element <= top of stack and push that element into the stack\n",
    "-> else pop all the element from top of stack until top of stack > current element and make them current element\n",
    "\n",
    "-> at the end pop all element from stack and make them -1\n",
    "\n",
    "ref: https://www.youtube.com/watch?v=sDKpIO2HGq0&list=PLEJXowNB4kPzEvxN8ed6T13Meet7HP3h0\n",
    "\"\"\"\n",
    "\n",
    "def nextLargerElement2(arr,n):\n",
    "    if n == 0:\n",
    "        return arr\n",
    "    if n == 1:\n",
    "        arr[0] = -1\n",
    "        return arr\n",
    "    \n",
    "    stack = []\n",
    "    stack.append(0)\n",
    "    \n",
    "    for i in range(1,n):\n",
    "        if arr[i] <= arr[stack[len(stack)-1]]:      # if current if less than or equal to top of stack\n",
    "            stack.append(i)\n",
    "        else:\n",
    "            while len(stack) > 0 and arr[stack[len(stack)-1]] < arr[i]:    # while top of stack < current\n",
    "                arr[stack[len(stack)-1]] = arr[i]\n",
    "                stack.pop()\n",
    "            stack.append(i)\n",
    "    \n",
    "    while len(stack) > 0:\n",
    "        x = stack.pop()\n",
    "        arr[x] = -1\n",
    "    \n",
    "    return arr\n",
    "        \n",
    "# Time comp: O(N)\n",
    "# Space comp: O(N)"
   ]
  },
  {
   "cell_type": "code",
   "execution_count": 31,
   "id": "f013aecd",
   "metadata": {},
   "outputs": [
    {
     "name": "stdout",
     "output_type": "stream",
     "text": [
      "[4, 2, 4, -1]\n",
      "[3, 4, 4, -1]\n"
     ]
    }
   ],
   "source": [
    "print(nextLargerElement2([3,1,2,4],4))\n",
    "print(nextLargerElement2([1,3,2,4],4))"
   ]
  },
  {
   "cell_type": "code",
   "execution_count": null,
   "id": "04fe0d3e",
   "metadata": {},
   "outputs": [],
   "source": []
  },
  {
   "cell_type": "markdown",
   "id": "2d683658",
   "metadata": {},
   "source": [
    "### 283. The celebrity Problem"
   ]
  },
  {
   "cell_type": "raw",
   "id": "7c6f6a61",
   "metadata": {},
   "source": [
    "A celebrity is a person who is known to all but does not know anyone at a party. If you go to a party of N people, find if there is a celebrity in the party or not.\n",
    "\n",
    "Input:\n",
    "N = 3\n",
    "M[][] = {{0 1 0},\n",
    "         {0 0 0}, \n",
    "         {0 1 0}}\n",
    "Output: 1\n",
    "\n",
    "Input:\n",
    "N = 3\n",
    "M[][] = {{0 1 0},\n",
    "         {1 0 0}, \n",
    "         {0 1 0}}\n",
    "Output: -1"
   ]
  },
  {
   "cell_type": "code",
   "execution_count": null,
   "id": "f124fadc",
   "metadata": {},
   "outputs": [],
   "source": []
  },
  {
   "cell_type": "markdown",
   "id": "13d06163",
   "metadata": {},
   "source": [
    "### 284. Arithmetic Expression evaluation"
   ]
  },
  {
   "cell_type": "code",
   "execution_count": 36,
   "id": "92fb502e",
   "metadata": {},
   "outputs": [],
   "source": [
    "# evaluation of prefix expression\n",
    "\n",
    "def evaluatePrefix(S):\n",
    "    stack = []\n",
    "    \n",
    "    for i in range(len(S)-1, -1, -1):\n",
    "        if S[i] not in ('+','-','/','*'):\n",
    "            stack.append(int(S[i]))\n",
    "        else:\n",
    "            x = stack.pop()\n",
    "            y = stack.pop()\n",
    "            if S[i] == '+':\n",
    "                stack.append(x+y)\n",
    "            elif S[i] == '-':\n",
    "                stack.append(x-y)\n",
    "            elif S[i] == '*':\n",
    "                stack.append(x*y)\n",
    "            elif S[i] == '/':\n",
    "                stack.append(x//y)\n",
    "    return stack.pop()\n",
    "\n",
    "# Time and space comp: O(N)"
   ]
  },
  {
   "cell_type": "code",
   "execution_count": 38,
   "id": "a33ef562",
   "metadata": {},
   "outputs": [
    {
     "name": "stdout",
     "output_type": "stream",
     "text": [
      "8\n"
     ]
    }
   ],
   "source": [
    "print(evaluatePrefix('-+8/632'))"
   ]
  },
  {
   "cell_type": "markdown",
   "id": "91d7d2c4",
   "metadata": {},
   "source": [
    "### 285. Evaluation of Postfix Expression"
   ]
  },
  {
   "cell_type": "code",
   "execution_count": 33,
   "id": "92abbd5e",
   "metadata": {},
   "outputs": [
    {
     "data": {
      "text/plain": [
       "-4"
      ]
     },
     "execution_count": 33,
     "metadata": {},
     "output_type": "execute_result"
    }
   ],
   "source": [
    "def evaluatePostfix(S):\n",
    "    stack = []\n",
    "\n",
    "    for i in range(len(S)):\n",
    "        if S[i] not in ('+','-','/','*'):\n",
    "            stack.append(int(S[i]))\n",
    "        else:\n",
    "            x = stack.pop()\n",
    "            y = stack.pop()\n",
    "            if S[i] == '+':\n",
    "                stack.append(y+x)\n",
    "            elif S[i] == '-':\n",
    "                stack.append(y-x)\n",
    "            elif S[i] == '*':\n",
    "                stack.append(y*x)\n",
    "            elif S[i] == '/':\n",
    "                stack.append(y//x)\n",
    "    return stack.pop()\n",
    "\n",
    "evaluatePostfix(\"231*+9-\")\n",
    "\n",
    "# Time and space comp: O(N)"
   ]
  },
  {
   "cell_type": "code",
   "execution_count": null,
   "id": "384c55e5",
   "metadata": {},
   "outputs": [],
   "source": []
  },
  {
   "cell_type": "markdown",
   "id": "d3800e0b",
   "metadata": {},
   "source": [
    "### 286. Insert An Element At Its Bottom In A Given Stack"
   ]
  },
  {
   "cell_type": "raw",
   "id": "205a4374",
   "metadata": {},
   "source": [
    "You are given a stack/deque of integers 'MY-STACK' and an integer ‘X’. Your task is to insert ‘X’ to the bottom of ‘MY-STACK’ and return the updated stack/deque."
   ]
  },
  {
   "cell_type": "code",
   "execution_count": 39,
   "id": "5e7bf222",
   "metadata": {},
   "outputs": [],
   "source": [
    "def pushAtBottom(myStack, x):\n",
    "    if len(myStack) == 0:\n",
    "        myStack.append(x)\n",
    "        return myStack\n",
    "    \n",
    "    p = myStack.pop()\n",
    "    myStack = pushAtBottom(myStack,x)\n",
    "    myStack.append(p)\n",
    "    return myStack\n",
    "\n",
    "# Time comp: O(N)\n",
    "# space comp: O(N)  (Due to recursion stack)"
   ]
  },
  {
   "cell_type": "code",
   "execution_count": 40,
   "id": "fcabbb8f",
   "metadata": {},
   "outputs": [
    {
     "name": "stdout",
     "output_type": "stream",
     "text": [
      "[5, 1, 2, 3, 4]\n"
     ]
    }
   ],
   "source": [
    "print(pushAtBottom([1,2,3,4], 5))"
   ]
  },
  {
   "cell_type": "code",
   "execution_count": null,
   "id": "37ea047d",
   "metadata": {},
   "outputs": [],
   "source": []
  },
  {
   "cell_type": "markdown",
   "id": "acbf54d8",
   "metadata": {},
   "source": [
    "### 287. Reverse a stack using recursion"
   ]
  },
  {
   "cell_type": "code",
   "execution_count": 41,
   "id": "c8e03537",
   "metadata": {},
   "outputs": [],
   "source": [
    "def insertAtBottom(stack,x):\n",
    "    if len(stack) == 0:\n",
    "        stack.append(x)\n",
    "    else:\n",
    "        temp = stack.pop()\n",
    "        stack = insertAtBottom(stack,x)\n",
    "        stack.append(temp)\n",
    "    return stack\n",
    "\n",
    "def reverseStack(stack) :\n",
    "    if len(stack) > 0:\n",
    "        top = stack.pop()\n",
    "        stack = reverseStack(stack)\n",
    "        insertAtBottom(stack,top)\n",
    "    return stack\n",
    "\n",
    "# Time comp: O(N^2)\n",
    "# Space comp: O(N)  Due to recursion stack\n",
    "\n",
    "# It can be done in O(N) time if stack is implemented using LL"
   ]
  },
  {
   "cell_type": "code",
   "execution_count": null,
   "id": "f509df4f",
   "metadata": {},
   "outputs": [],
   "source": []
  },
  {
   "cell_type": "markdown",
   "id": "fa18809c",
   "metadata": {},
   "source": [
    "### 288. Sort a Stack using recursion"
   ]
  },
  {
   "cell_type": "code",
   "execution_count": null,
   "id": "90511fd2",
   "metadata": {},
   "outputs": [],
   "source": [
    "def insertSorted(s, x):\n",
    "    if len(s) == 0 or s[len(s)-1] <= x:\n",
    "        s.append(x)\n",
    "    else:\n",
    "        item = s.pop()\n",
    "        self.insertSorted(s, x)\n",
    "        s.append(item)\n",
    "    return s\n",
    "\n",
    "def sorted(s):\n",
    "    if len(s) > 0:\n",
    "        x = s.pop()\n",
    "        self.sorted(s)\n",
    "        self.insertSorted(s,x)\n",
    "    return s\n",
    "\n",
    "# Time comp: O(N^2)\n",
    "# Space comp: O(N)  due to recursion stack\n",
    "\n",
    "# It can be done in O(N) time if stack is implemented using LL"
   ]
  },
  {
   "cell_type": "code",
   "execution_count": null,
   "id": "45f6eb7a",
   "metadata": {},
   "outputs": [],
   "source": []
  },
  {
   "cell_type": "markdown",
   "id": "2325c685",
   "metadata": {},
   "source": [
    "### 289. Merge Intervals"
   ]
  },
  {
   "cell_type": "raw",
   "id": "91b9e430",
   "metadata": {},
   "source": [
    "Input: intervals = [[1,3],[2,6],[8,10],[15,18]]\n",
    "Output: [[1,6],[8,10],[15,18]]\n",
    "Explanation: Since intervals [1,3] and [2,6] overlap, merge them into [1,6]."
   ]
  },
  {
   "cell_type": "code",
   "execution_count": 44,
   "id": "bc8c5718",
   "metadata": {},
   "outputs": [],
   "source": [
    "# Using stack\n",
    "\n",
    "def merge(intervals):\n",
    "    arr = intervals\n",
    "    arr.sort()\n",
    "\n",
    "    stack = []\n",
    "\n",
    "    for i in arr:\n",
    "        if len(stack) == 0 or stack[len(stack)-1] < i[0]:\n",
    "            stack.append(i[0])\n",
    "            stack.append(i[1])\n",
    "            continue\n",
    "        else:\n",
    "            x = stack.pop()\n",
    "            stack.append(max(i[1],x))\n",
    "\n",
    "    ans = []\n",
    "    i = 0\n",
    "    while i < len(stack):\n",
    "        ans.append([stack[i],stack[i+1]])\n",
    "        i += 2\n",
    "\n",
    "    return ans\n",
    "\n",
    "# Time Comp:O(N log N)\n",
    "# Space comp: O(N)\n",
    "\n",
    "# More optimised solution is at Que-14 (Array)"
   ]
  },
  {
   "cell_type": "code",
   "execution_count": 45,
   "id": "649cf926",
   "metadata": {},
   "outputs": [
    {
     "data": {
      "text/plain": [
       "[[1, 6], [8, 10], [15, 18]]"
      ]
     },
     "execution_count": 45,
     "metadata": {},
     "output_type": "execute_result"
    }
   ],
   "source": [
    "merge([[1,3],[2,6],[8,10],[15,18]])"
   ]
  },
  {
   "cell_type": "code",
   "execution_count": null,
   "id": "e081eb55",
   "metadata": {},
   "outputs": [],
   "source": []
  },
  {
   "cell_type": "markdown",
   "id": "cf83ed97",
   "metadata": {},
   "source": [
    "### 290. Length of the Longest Valid Substring"
   ]
  },
  {
   "cell_type": "raw",
   "id": "851023de",
   "metadata": {},
   "source": [
    "Input: S = \"(()(\"\n",
    "Output: 2\n",
    "Explanation: The longest valid \n",
    "substring is \"()\". Length = 2."
   ]
  },
  {
   "cell_type": "raw",
   "id": "89e9821c",
   "metadata": {},
   "source": [
    "1) Create an empty stack and push -1 to it. \n",
    "   The first element of the stack is used \n",
    "   to provide a base for the next valid string. \n",
    "\n",
    "2) Initialize result as 0.\n",
    "\n",
    "3) If the character is '(' i.e. str[i] == '('), \n",
    "   push index'i' to the stack. \n",
    "   \n",
    "2) Else (if the character is ')')\n",
    "   a) Pop an item from the stack (Most of the \n",
    "      time an opening bracket)\n",
    "   b) If the stack is not empty, then find the\n",
    "      length of current valid substring by taking \n",
    "      the difference between the current index and\n",
    "      top of the stack. If current length is more \n",
    "      than the result, then update the result.\n",
    "   c) If the stack is empty, push the current index\n",
    "      as a base for the next valid substring.\n",
    "\n",
    "3) Return result."
   ]
  },
  {
   "cell_type": "code",
   "execution_count": 46,
   "id": "2825b6c3",
   "metadata": {},
   "outputs": [],
   "source": [
    "def findMaxLen(S):\n",
    "    stack = [-1]\n",
    "    ans = 0\n",
    "    \n",
    "    for i in range(len(S)):\n",
    "        if S[i] == '(':\n",
    "            stack.append(i)\n",
    "            continue\n",
    "        \n",
    "        stack.pop()\n",
    "        if len(stack) == 0:\n",
    "            stack.append(i)\n",
    "            continue\n",
    "        else:\n",
    "            ans = max(ans, i - stack[-1])\n",
    "    return ans\n",
    "\n",
    "# Time comp: O(N)\n",
    "# Space comp: O(N)"
   ]
  },
  {
   "cell_type": "code",
   "execution_count": 49,
   "id": "8ed8bc07",
   "metadata": {},
   "outputs": [
    {
     "name": "stdout",
     "output_type": "stream",
     "text": [
      "2\n",
      "2\n",
      "6\n"
     ]
    }
   ],
   "source": [
    "print(findMaxLen('(()('))\n",
    "print(findMaxLen('))()'))\n",
    "print(findMaxLen('(())())'))"
   ]
  },
  {
   "cell_type": "raw",
   "id": "8f9ce876",
   "metadata": {},
   "source": [
    "1. The idea to solve this problem is to traverse the string on and keep track of the count of open parentheses and close parentheses with the help of two counters left and right respectively.\n",
    "2. First, the string is traversed from the left towards the right and for every “(” encountered, the left counter is incremented by 1 and for every “)” the right counter is incremented by 1.\n",
    "3. Whenever the left becomes equal to right, the length of the current valid string is calculated and if it greater than the current longest substring, then value of required longest substring is updated with current string length.\n",
    "4. If the right counter becomes greater than the left counter, then the set of parentheses has become invalid and hence the left and right counters are set to 0.\n",
    "5. After the above process, the string is similarly traversed from right to left and similar procedure is applied."
   ]
  },
  {
   "cell_type": "code",
   "execution_count": 50,
   "id": "5bf712db",
   "metadata": {},
   "outputs": [],
   "source": [
    "# Solution with space comp: O(1)\n",
    "\n",
    "def findMaxLen2(s):\n",
    "    ans = 0\n",
    "    left = 0\n",
    "    right = 0\n",
    "    \n",
    "    # Iterate from left to right\n",
    "    for i in range(len(s)):\n",
    "        if s[i] == '(':\n",
    "            left += 1\n",
    "        else:\n",
    "            right += 1\n",
    "            \n",
    "        if right == left:\n",
    "            ans = max(ans, 2*left)\n",
    "        elif right>left:\n",
    "            right = 0\n",
    "            left = 0\n",
    "        else:\n",
    "            continue\n",
    "            \n",
    "    left = 0\n",
    "    right = 0\n",
    "    \n",
    "    # Iterate from right to left\n",
    "    for i in range(len(s)-1, -1, -1):\n",
    "        if s[i] == '(':\n",
    "            left += 1\n",
    "        else:\n",
    "            right += 1\n",
    "            \n",
    "        if right == left:\n",
    "            ans = max(ans, 2*left)\n",
    "        elif left>right:\n",
    "            right = 0\n",
    "            left = 0\n",
    "        else:\n",
    "            continue\n",
    "            \n",
    "    return ans\n",
    "\n",
    "# time comp: O(N)\n",
    "# Space comp: O(1)"
   ]
  },
  {
   "cell_type": "code",
   "execution_count": 51,
   "id": "2e2b5ada",
   "metadata": {},
   "outputs": [
    {
     "name": "stdout",
     "output_type": "stream",
     "text": [
      "2\n",
      "2\n",
      "6\n"
     ]
    }
   ],
   "source": [
    "print(findMaxLen2('(()('))\n",
    "print(findMaxLen2('))()'))\n",
    "print(findMaxLen2('(())())'))"
   ]
  },
  {
   "cell_type": "code",
   "execution_count": null,
   "id": "c649d632",
   "metadata": {},
   "outputs": [],
   "source": []
  },
  {
   "cell_type": "markdown",
   "id": "ee2d268c",
   "metadata": {},
   "source": [
    "### 292. Expression contains redundant bracket or not"
   ]
  },
  {
   "cell_type": "raw",
   "id": "95e3426b",
   "metadata": {},
   "source": [
    "Input: \n",
    "((a+b))\n",
    "(a+(b)/c)\n",
    "(a+b*(c-d))\n",
    "Output: \n",
    "Yes\n",
    "Yes\n",
    "No\n",
    "\n",
    "Explanation:\n",
    "1. ((a+b)) can reduced to (a+b), this Redundant\n",
    "2. (a+(b)/c) can reduced to (a+b/c) because b is\n",
    "surrounded by () which is redundant.\n",
    "3. (a+b*(c-d)) doesn't have any redundant or multiple\n",
    "brackets."
   ]
  },
  {
   "cell_type": "code",
   "execution_count": 78,
   "id": "cd3f6e99",
   "metadata": {},
   "outputs": [],
   "source": [
    "\"\"\"\n",
    "-> read string from left o right\n",
    "-> if its operand then skip\n",
    "-> if its in ['(','+','-','*','/'] then push it in stack and continue\n",
    "-> if its ')' then do the following\n",
    "-> pop element from stack until top != '('\n",
    "-> if we dont found any element in pop, it mean that its not redundant \n",
    "\"\"\"\n",
    "\n",
    "def findRedundantBrackets(s):\n",
    "    stack = []\n",
    "    for i in s:\n",
    "        if i in ['(','+','-','*','/']:\n",
    "            stack.append(i)\n",
    "            continue\n",
    "        elif i == ')':\n",
    "            ans = True\n",
    "            while len(stack) > 0 and stack[-1] != '(':\n",
    "                top = stack.pop()\n",
    "                if top in ['+','-','*','/']:\n",
    "                    ans = False\n",
    "            if len(stack) > 0 and stack[-1] == '(':\n",
    "                stack.pop()\n",
    "            if ans == True:\n",
    "                return 'Yes'\n",
    "        else:\n",
    "            continue   # skip opprands\n",
    "    return 'No'\n",
    "\n",
    "# Time comp: O(N)\n",
    "# space comp; O(N)"
   ]
  },
  {
   "cell_type": "code",
   "execution_count": 80,
   "id": "0b97aff5",
   "metadata": {},
   "outputs": [
    {
     "name": "stdout",
     "output_type": "stream",
     "text": [
      "No\n",
      "Yes\n"
     ]
    }
   ],
   "source": [
    "print(findRedundantBrackets('(a*b+(c/d))'))\n",
    "print(findRedundantBrackets('(a+(b)/c)'))"
   ]
  },
  {
   "cell_type": "code",
   "execution_count": null,
   "id": "ae78fbee",
   "metadata": {},
   "outputs": [],
   "source": []
  },
  {
   "cell_type": "markdown",
   "id": "fd79ae35",
   "metadata": {},
   "source": [
    "### 293. Stack using two queues"
   ]
  },
  {
   "cell_type": "code",
   "execution_count": null,
   "id": "90de5e6e",
   "metadata": {},
   "outputs": [],
   "source": [
    "def push(x):\n",
    "    \n",
    "    # global declaration\n",
    "    global queue_1\n",
    "    global queue_2\n",
    "    \n",
    "    queue_1.append(x)\n",
    "\n",
    "# Time comp: O(1)\n",
    "# Space comp: O(1)\n",
    "    \n",
    "def pop():\n",
    "    \n",
    "    # global declaration\n",
    "    global queue_1\n",
    "    global queue_2\n",
    "    \n",
    "    if len(queue_1) == 0:\n",
    "        return -1\n",
    "    \n",
    "    for i in queue_1:\n",
    "        queue_2.append(i)\n",
    "    queue_1 = []\n",
    "    \n",
    "    x = queue_2.pop()\n",
    "    \n",
    "    for i in queue_2:\n",
    "        queue_1.append(i)\n",
    "    queue_2 = []\n",
    "        \n",
    "    return x\n",
    "\n",
    "# Time comp: O(N)\n",
    "# Space comp: O(N)\n",
    "\n",
    "# Here we make pop function costly"
   ]
  },
  {
   "cell_type": "code",
   "execution_count": null,
   "id": "f6588a2c",
   "metadata": {},
   "outputs": [],
   "source": []
  },
  {
   "cell_type": "markdown",
   "id": "bf1e6000",
   "metadata": {},
   "source": [
    "### 294. Deque Implementations"
   ]
  },
  {
   "cell_type": "code",
   "execution_count": null,
   "id": "a57148d1",
   "metadata": {},
   "outputs": [],
   "source": [
    "#Function to push element x to the front of the deque.\n",
    "def push_front_pf(dq,x):\n",
    "    dq.appendleft(x)\n",
    "\n",
    "#Function to push element x to the back of the deque.\n",
    "def push_back_pb(dq,x):\n",
    "    dq.append(x)\n",
    "\n",
    "#Function to return element from front of the deque.\n",
    "def front_dq(dq):\n",
    "    if len(dq) == 0:\n",
    "        return -1\n",
    "    return dq[0]\n",
    "\n",
    "#Function to pop element from back of the deque.\n",
    "def pop_back_ppb(dq):\n",
    "    if len(dq) == 0:\n",
    "        return -1\n",
    "    return dq.pop()\n",
    "\n",
    "# All Time comp:O(1)\n",
    "# All space comp: O(1)\n",
    "# Here dq is collections object deque"
   ]
  },
  {
   "cell_type": "code",
   "execution_count": null,
   "id": "79606e15",
   "metadata": {},
   "outputs": [],
   "source": []
  },
  {
   "cell_type": "markdown",
   "id": "a36cee70",
   "metadata": {},
   "source": [
    "### 295. Stack Permutations (Check if an array is stack permutation of other)"
   ]
  },
  {
   "cell_type": "raw",
   "id": "ccacf338",
   "metadata": {},
   "source": [
    "You are given two arrays A and B of size N of unique elements. Check if one array is a stack permutation of the other array or not.\n",
    "Stack permutation means that one array can be created from another array using a stack and stack operations.\n",
    "\n",
    "Input:\n",
    "N = 3\n",
    "A = {1,2,3}\n",
    "B = {2,1,3}\n",
    "Output:\n",
    "1\n",
    "\n",
    "Input:\n",
    "N = 3\n",
    "A = {1,2,3}\n",
    "B = {3,1,2}\n",
    "Output:\n",
    "0"
   ]
  },
  {
   "cell_type": "code",
   "execution_count": 81,
   "id": "e924b54e",
   "metadata": {},
   "outputs": [],
   "source": [
    "def isStackPermutation(N, A, B):\n",
    "    stack = []\n",
    "    p = 0    # to point output string\n",
    "    \n",
    "    for i in A:\n",
    "        stack.append(i)\n",
    "        \n",
    "        # pop element until top of stack == output's current location\n",
    "        while len(stack) > 0 and p < len(B) and stack[-1] == B[p]:\n",
    "            stack.pop()\n",
    "            p += 1\n",
    "    \n",
    "    if len(stack) == 0 and p == len(B):\n",
    "        return 1\n",
    "    else:\n",
    "        return 0\n",
    "            \n",
    "# Time comp: O(N)\n",
    "# Space comp: O(N)"
   ]
  },
  {
   "cell_type": "code",
   "execution_count": 82,
   "id": "2c9cbddc",
   "metadata": {},
   "outputs": [
    {
     "name": "stdout",
     "output_type": "stream",
     "text": [
      "1\n",
      "0\n"
     ]
    }
   ],
   "source": [
    "print(isStackPermutation(3, [1,2,3], [2,1,3]))\n",
    "print(isStackPermutation(3, [1,2,3], [3,1,2]))"
   ]
  },
  {
   "cell_type": "code",
   "execution_count": null,
   "id": "1b747825",
   "metadata": {},
   "outputs": [],
   "source": []
  },
  {
   "cell_type": "markdown",
   "id": "c665b2c8",
   "metadata": {},
   "source": [
    "### 296. Queue using two Stacks"
   ]
  },
  {
   "cell_type": "code",
   "execution_count": 83,
   "id": "37374a0e",
   "metadata": {},
   "outputs": [],
   "source": [
    "def Push(x,stack1,stack2):\n",
    "    '''\n",
    "    x: value to push\n",
    "    stack1: list\n",
    "    stack2: list\n",
    "    '''\n",
    "    stack1.append(x)\n",
    "\n",
    "# Time and space comp: O(1)\n",
    "\n",
    "def Pop(stack1,stack2):\n",
    "    '''\n",
    "    stack1: list\n",
    "    stack2: list\n",
    "    '''\n",
    "    \n",
    "    if len(stack2) > 0:\n",
    "        return stack2.pop()\n",
    "    else:\n",
    "        if len(stack1) == 0:\n",
    "            return -1\n",
    "        while len(stack1) > 0:\n",
    "            stack2.append(stack1.pop())\n",
    "        return stack2.pop()\n",
    "\n",
    "# Time comp:O(N)\n",
    "# Space comp: O(1)"
   ]
  },
  {
   "cell_type": "code",
   "execution_count": null,
   "id": "39a9051f",
   "metadata": {},
   "outputs": [],
   "source": []
  },
  {
   "cell_type": "markdown",
   "id": "7b5c5137",
   "metadata": {},
   "source": [
    "### 298. Implement a Circular queue"
   ]
  },
  {
   "cell_type": "code",
   "execution_count": null,
   "id": "45f25e0e",
   "metadata": {},
   "outputs": [],
   "source": [
    "class MyCircularQueue:\n",
    "\n",
    "    def __init__(self, k: int):\n",
    "        self.list = [None for i in range(k)]\n",
    "        self.front = -1\n",
    "        self.rear = -1\n",
    "        self.size = k\n",
    "\n",
    "    def enQueue(self, value: int) -> bool:\n",
    "        if self.isFull():\n",
    "            return False\n",
    "        \n",
    "        if self.isEmpty():\n",
    "            self.front = 0\n",
    "            self.rear = 0\n",
    "            self.list[self.rear] = value\n",
    "            return True\n",
    "        elif self.rear == self.size - 1:\n",
    "            self.rear = 0\n",
    "            self.list[self.rear] = value\n",
    "            return True\n",
    "        else:\n",
    "            self.rear += 1\n",
    "            self.list[self.rear] = value\n",
    "            return True\n",
    "\n",
    "    def deQueue(self) -> bool:\n",
    "        if self.isEmpty():\n",
    "            return False\n",
    "        \n",
    "        if self.front == self.rear:\n",
    "            self.list[self.front] = None\n",
    "            self.front = -1\n",
    "            self.rear = -1\n",
    "            return True\n",
    "        elif self.front == self.size -1:\n",
    "            self.list[self.front] = None\n",
    "            self.front = 0\n",
    "            return True\n",
    "        else:\n",
    "            self.list[self.front] = None\n",
    "            self.front += 1\n",
    "            return True\n",
    "        \n",
    "    def Front(self) -> int:\n",
    "        if self.isEmpty():\n",
    "            return -1\n",
    "        return self.list[self.front]\n",
    "\n",
    "    def Rear(self) -> int:\n",
    "        if self.isEmpty():\n",
    "            return -1\n",
    "        return self.list[self.rear]\n",
    "\n",
    "    def isEmpty(self) -> bool:\n",
    "        if self.front == -1 and self.rear == -1:\n",
    "            return True\n",
    "        return False\n",
    "\n",
    "    def isFull(self) -> bool:\n",
    "        if (self.rear + 1) % self.size == self.front:\n",
    "            return True\n",
    "        return False\n",
    "    \n",
    "# All time comp: O(1)\n",
    "# All space comp: O(1)"
   ]
  },
  {
   "cell_type": "code",
   "execution_count": null,
   "id": "24148511",
   "metadata": {},
   "outputs": [],
   "source": []
  },
  {
   "cell_type": "markdown",
   "id": "c0066d29",
   "metadata": {},
   "source": [
    "### 300. Reverse a Queue using recursion"
   ]
  },
  {
   "cell_type": "raw",
   "id": "38f7858e",
   "metadata": {},
   "source": [
    "Input:\n",
    "6\n",
    "4 3 1 10 2 6\n",
    "\n",
    "Output: \n",
    "6 2 10 1 3 4"
   ]
  },
  {
   "cell_type": "code",
   "execution_count": 84,
   "id": "187898b8",
   "metadata": {},
   "outputs": [],
   "source": [
    "import sys\n",
    "sys.setrecursionlimit(10000)\n",
    "# import queue from Queue\n",
    "# Here queue is of type Queue module of python\n",
    "\n",
    "def rev(q):\n",
    "    #add code here\n",
    "    if q.empty():\n",
    "        return q\n",
    "    x = q.get()\n",
    "    q = rev(q)\n",
    "    q.put(x)\n",
    "    return q\n",
    "\n",
    "# Time comp: O(N)\n",
    "# Space comp: O(N)  due to recursion stack"
   ]
  },
  {
   "cell_type": "code",
   "execution_count": null,
   "id": "f8f1c453",
   "metadata": {},
   "outputs": [],
   "source": []
  },
  {
   "cell_type": "markdown",
   "id": "fe964325",
   "metadata": {},
   "source": [
    "### 301. Reverse First K elements of Queue"
   ]
  },
  {
   "cell_type": "raw",
   "id": "ac872fbc",
   "metadata": {},
   "source": [
    "Given an integer K and a queue of integers, we need to reverse the order of the first K elements of the queue, leaving the other elements in the same relative order.\n",
    "\n",
    "Input:\n",
    "5 3\n",
    "1 2 3 4 5\n",
    "\n",
    "Output: \n",
    "3 2 1 4 5"
   ]
  },
  {
   "cell_type": "raw",
   "id": "71945f4a",
   "metadata": {},
   "source": [
    "Create an empty stack.\n",
    "One by one dequeue first K items from given queue and push the dequeued items to stack.\n",
    "Enqueue the contents of stack at the back of the queue\n",
    "Dequeue (size-k) elements from the front and enqueue them one by one to the same queue."
   ]
  },
  {
   "cell_type": "code",
   "execution_count": 85,
   "id": "249af3c0",
   "metadata": {},
   "outputs": [],
   "source": [
    "def modifyQueue(q,k):\n",
    "    stack = []\n",
    "    ans = []\n",
    "    rem = len(q)-k\n",
    "    \n",
    "    if len(q) == 0:\n",
    "        return q\n",
    "    \n",
    "    while k:\n",
    "        stack.append(q.pop(0))\n",
    "        k -= 1\n",
    "        if len(q) == 0:\n",
    "            break\n",
    "    \n",
    "    while len(stack) > 0:\n",
    "        q.append(stack.pop())\n",
    "    \n",
    "    while rem:\n",
    "        q.append(q.pop(0))\n",
    "        rem -= 1\n",
    "        \n",
    "    return q\n",
    "\n",
    "# Time comp: O(N)\n",
    "# Space comp: O(k)  (to create stack)"
   ]
  },
  {
   "cell_type": "code",
   "execution_count": 86,
   "id": "f68968e7",
   "metadata": {},
   "outputs": [
    {
     "data": {
      "text/plain": [
       "[3, 2, 1, 4, 5]"
      ]
     },
     "execution_count": 86,
     "metadata": {},
     "output_type": "execute_result"
    }
   ],
   "source": [
    "modifyQueue([1,2,3,4,5],3)"
   ]
  },
  {
   "cell_type": "code",
   "execution_count": null,
   "id": "44a7b2f2",
   "metadata": {},
   "outputs": [],
   "source": []
  },
  {
   "cell_type": "markdown",
   "id": "7a4095eb",
   "metadata": {},
   "source": [
    "### 302. Interleave the first half of the queue with second half"
   ]
  },
  {
   "cell_type": "raw",
   "id": "189f17d4",
   "metadata": {},
   "source": [
    "You have been given a queue of integers. You need to rearrange the elements of the queue by interleaving the elements of the first half of the queue with the second half. Only a stack can be used as an auxiliary space.\n",
    "\n",
    "Input :  1 2 3 4\n",
    "Output : 1 3 2 4\n",
    "\n",
    "Input : 11 12 13 14 15 16 17 18 19 20\n",
    "Output : 11 16 12 17 13 18 14 19 15 20\n"
   ]
  },
  {
   "cell_type": "code",
   "execution_count": null,
   "id": "ed822409",
   "metadata": {},
   "outputs": [],
   "source": [
    "# here queue os of collections type deque\n",
    "\n",
    "def interLeaveQueue(queue):\n",
    "    half = len(queue) // 2\n",
    "    stack = []\n",
    "    \n",
    "    # append first half of queue into the stack\n",
    "    for i in range(0,half):\n",
    "        stack.append(queue.popleft())\n",
    "        \n",
    "    # Pop all element from stack and append it back to queue\n",
    "    while len(stack):\n",
    "        queue.append(stack.pop())\n",
    "        \n",
    "    # append first half of queue into the back of queue\n",
    "    for i in range(0,half):\n",
    "        queue.append(queue.popleft())\n",
    "        \n",
    "    # append first half of queue into the stack again\n",
    "    for i in range(0,half):\n",
    "        stack.append(queue.popleft())\n",
    "    \n",
    "    # Append top of the stack and first element of queue one by one until stack become empty\n",
    "    while len(stack):\n",
    "        queue.append(stack.pop())\n",
    "        queue.append(queue.popleft())\n",
    "    \n",
    "    return queue\n",
    "\n",
    "# Time comp: O(N)\n",
    "# Space comp: O(N)   (size of stack: N/2)"
   ]
  },
  {
   "cell_type": "code",
   "execution_count": null,
   "id": "d38a8846",
   "metadata": {},
   "outputs": [],
   "source": []
  },
  {
   "cell_type": "markdown",
   "id": "4bc7af67",
   "metadata": {},
   "source": [
    "### 303. Find the first circular tour that visits all petrol pumps"
   ]
  },
  {
   "cell_type": "raw",
   "id": "e81553c5",
   "metadata": {},
   "source": [
    "Suppose there is a circle. There are N petrol pumps on that circle. You will be given two sets of data.\n",
    "1. The amount of petrol that every petrol pump has.\n",
    "2. Distance from that petrol pump to the next petrol pump.\n",
    "Find a starting point where the truck can start to get through the complete circle without exhausting its petrol in between.\n",
    "Note :  Assume for 1 litre petrol, the truck can go 1 unit of distance.\n",
    "\n",
    "Input:\n",
    "N = 4\n",
    "Petrol = 4 6 7 4\n",
    "Distance = 6 5 3 5\n",
    "Output: 1\n",
    "Explanation: There are 4 petrol pumps with\n",
    "amount of petrol and distance to next\n",
    "petrol pump value pairs as {4, 6}, {6, 5},\n",
    "{7, 3} and {4, 5}. The first point from\n",
    "where truck can make a circular tour is\n",
    "2nd petrol pump. Output in this case is 1\n",
    "(index of 2nd petrol pump)."
   ]
  },
  {
   "cell_type": "code",
   "execution_count": 124,
   "id": "21fb654d",
   "metadata": {},
   "outputs": [],
   "source": [
    "def tour(arr, n):\n",
    "    start = 0                  # Start with index 0 initially\n",
    "    capacity = 0               # current capacity of petrol\n",
    "    deficity = 0               # current deficity\n",
    "\n",
    "    for i in range(n):\n",
    "        capacity = capacity + (arr[i][0] - arr[i][1])     \n",
    "        if capacity < 0:\n",
    "            start = i+1\n",
    "            deficity = deficity + capacity\n",
    "            capacity = 0\n",
    "\n",
    "    if capacity + deficity >= 0:\n",
    "        return start\n",
    "    else:\n",
    "        return -1\n",
    "    \n",
    "# Time comp: O(N)\n",
    "# Space comp: O(1)"
   ]
  },
  {
   "cell_type": "code",
   "execution_count": 125,
   "id": "84fe533f",
   "metadata": {},
   "outputs": [
    {
     "data": {
      "text/plain": [
       "1"
      ]
     },
     "execution_count": 125,
     "metadata": {},
     "output_type": "execute_result"
    }
   ],
   "source": [
    "arr = [[4,6], [6,5], [7,3], [4,5]]\n",
    "tour(arr, 4)"
   ]
  },
  {
   "cell_type": "code",
   "execution_count": null,
   "id": "89da242d",
   "metadata": {},
   "outputs": [],
   "source": []
  },
  {
   "cell_type": "markdown",
   "id": "5e1fcff8",
   "metadata": {},
   "source": [
    "### 306. First negative integer in every window of size “k”"
   ]
  },
  {
   "cell_type": "raw",
   "id": "04e114cc",
   "metadata": {},
   "source": [
    "Input : \n",
    "N = 5\n",
    "A[] = {-8, 2, 3, -6, 10}\n",
    "K = 2\n",
    "Output : \n",
    "-8 0 -6 -6\n",
    "Explanation :\n",
    "First negative integer for each window of size k\n",
    "{-8, 2} = -8\n",
    "{2, 3} = 0 (does not contain a negative integer)\n",
    "{3, -6} = -6\n",
    "{-6, 10} = -6"
   ]
  },
  {
   "cell_type": "raw",
   "id": "9747e784",
   "metadata": {},
   "source": [
    "We create a Dequeue, Di of capacity k, that stores only useful elements of the current window of k elements. An element is useful if it is in the current window and it is a negative integer. We process all array elements one by one and maintain Di to contain useful elements of current window and these useful elements are all negative integers. For a particular window, if Di is not empty then the element at front of the Di is the first negative integer for that window, else that window does not contain a negative integer."
   ]
  },
  {
   "cell_type": "code",
   "execution_count": 87,
   "id": "83266911",
   "metadata": {},
   "outputs": [],
   "source": [
    "from collections import deque\n",
    "def printFirstNegativeInteger( A, N, K):\n",
    "    ans = []\n",
    "    if N <= K:\n",
    "        for i in A:\n",
    "            if i < 0:\n",
    "                ans.append(i)\n",
    "                return ans\n",
    "    \n",
    "    queue = deque(maxlen = K)\n",
    "    \n",
    "    for i in range(K):\n",
    "        if A[i] < 0:\n",
    "            queue.append(i)\n",
    "            \n",
    "    for i in range(K,N):\n",
    "        if len(queue) == 0:\n",
    "            ans.append(0)\n",
    "        else:\n",
    "            ans.append(A[queue[0]])\n",
    "            \n",
    "        while len(queue) > 0 and queue[0] <= i - K:\n",
    "            queue.popleft()\n",
    "            \n",
    "        if A[i] < 0:\n",
    "            queue.append(i)\n",
    "            \n",
    "    if len(queue) == 0:\n",
    "        ans.append(0)\n",
    "    else:\n",
    "        ans.append(A[queue[0]])\n",
    "        \n",
    "    return ans\n",
    "\n",
    "# time comp:O(N)\n",
    "# space comp: O(k)  (for queue) "
   ]
  },
  {
   "cell_type": "code",
   "execution_count": 88,
   "id": "c25a9c21",
   "metadata": {},
   "outputs": [
    {
     "data": {
      "text/plain": [
       "[-8, 0, -2, -2]"
      ]
     },
     "execution_count": 88,
     "metadata": {},
     "output_type": "execute_result"
    }
   ],
   "source": [
    "printFirstNegativeInteger([-8,2,3,-2,-5], 5, 2)"
   ]
  },
  {
   "cell_type": "code",
   "execution_count": 122,
   "id": "bc67fe01",
   "metadata": {},
   "outputs": [],
   "source": [
    "\"\"\"\n",
    "The idea is to have a variable neg to keep track of the first negative element in the k sized window. \n",
    "At every iteration, we skip the elements which no longer fall under the current k size window (neg <= i – k) \n",
    "as well as the non-negative elements(zero or positive).\n",
    "\"\"\"\n",
    "\n",
    "def printFirstNegativeInteger2( A, N, K):\n",
    "    ans = []\n",
    "    if N <= K:\n",
    "        for i in A:\n",
    "            if i < 0:\n",
    "                ans.append(i)\n",
    "                return ans\n",
    "            \n",
    "    neg = 0\n",
    "    \n",
    "    for i in range(K-1,N):\n",
    "        while neg < i and (neg <= i-K or A[neg] >= 0):\n",
    "            neg += 1\n",
    "        \n",
    "        if A[neg] < 0:\n",
    "            ans.append(A[neg])\n",
    "        else:\n",
    "            ans.append(0)\n",
    "            \n",
    "    return ans\n",
    "\n",
    "# Time comp: O(N)\n",
    "# space comp: O(1)"
   ]
  },
  {
   "cell_type": "code",
   "execution_count": 123,
   "id": "5ac892b1",
   "metadata": {},
   "outputs": [
    {
     "data": {
      "text/plain": [
       "[-1, -1, -7, -15, -15, 0]"
      ]
     },
     "execution_count": 123,
     "metadata": {},
     "output_type": "execute_result"
    }
   ],
   "source": [
    "printFirstNegativeInteger2([12, -1, -7, 8, -15, 30, 16, 28], 8, 3)"
   ]
  },
  {
   "cell_type": "code",
   "execution_count": null,
   "id": "58c3941f",
   "metadata": {},
   "outputs": [],
   "source": []
  }
 ],
 "metadata": {
  "kernelspec": {
   "display_name": "Python 3",
   "language": "python",
   "name": "python3"
  },
  "language_info": {
   "codemirror_mode": {
    "name": "ipython",
    "version": 3
   },
   "file_extension": ".py",
   "mimetype": "text/x-python",
   "name": "python",
   "nbconvert_exporter": "python",
   "pygments_lexer": "ipython3",
   "version": "3.6.5"
  }
 },
 "nbformat": 4,
 "nbformat_minor": 5
}
