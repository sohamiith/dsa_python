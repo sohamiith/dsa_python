{
 "cells": [
  {
   "cell_type": "markdown",
   "id": "8b74e824",
   "metadata": {},
   "source": [
    "## Graph"
   ]
  },
  {
   "cell_type": "code",
   "execution_count": null,
   "id": "17eb9dd3",
   "metadata": {},
   "outputs": [],
   "source": []
  },
  {
   "cell_type": "markdown",
   "id": "8d1bff31",
   "metadata": {},
   "source": [
    "### 331. Implement BFS algorithm "
   ]
  },
  {
   "cell_type": "raw",
   "id": "1c17ae44",
   "metadata": {},
   "source": [
    "Given a directed graph. The task is to do Breadth First Traversal of this graph starting from 0.\n",
    "Note: One can move from node u to node v only if there's an edge from u to v and find the BFS traversal of the graph starting from the 0th vertex, from left to right according to the graph. Also, you should only take nodes directly or indirectly connected from Node 0 in consideration."
   ]
  },
  {
   "cell_type": "code",
   "execution_count": 1,
   "id": "08895aac",
   "metadata": {},
   "outputs": [],
   "source": [
    "# For conneced graph\n",
    "\n",
    "from collections import deque\n",
    "class Solution:\n",
    "    \n",
    "    def bfs(self,V,adj,i,visited):\n",
    "        q = deque()\n",
    "        q.append(i)\n",
    "        visited[i] = 1\n",
    "        \n",
    "        ans = []\n",
    "        while len(q):\n",
    "            # pop from queue and append it in ans\n",
    "            node = q.popleft()\n",
    "            ans.append(node)\n",
    "            \n",
    "            # append all its connected nodes into the queue and mark them visited\n",
    "            edges = adj[node]\n",
    "            for j in edges:\n",
    "                # If its already visited then dont push it in queue\n",
    "                if visited[j] == 0:\n",
    "                    q.append(j)\n",
    "                    visited[j] = 1\n",
    "        \n",
    "        return ans\n",
    "            \n",
    "    \n",
    "    def bfsOfGraph(self, V, adj):\n",
    "        visited = [0] * V\n",
    "        ans = []\n",
    "        return self.bfs(V,adj,0,visited)\n",
    "    \n",
    "# Time comp:O(V+E)\n",
    "# Space comp:O(V)"
   ]
  },
  {
   "cell_type": "code",
   "execution_count": 2,
   "id": "92100cb0",
   "metadata": {},
   "outputs": [],
   "source": [
    "# If there are more than 1 components and we need to visit all the nodes\n",
    "\n",
    "from collections import deque\n",
    "class Solution:\n",
    "    \n",
    "    def bfs(self,V,adj,i,visited):\n",
    "        q = deque()\n",
    "        q.append(i)\n",
    "        visited[i] = 1\n",
    "        \n",
    "        ans = []\n",
    "        while len(q):\n",
    "            node = q.popleft()\n",
    "            ans.append(node)\n",
    "            \n",
    "            edges = adj[node]\n",
    "            for j in edges:\n",
    "                if visited[j] == 0:\n",
    "                    q.append(j)\n",
    "                    visited[j] = 1\n",
    "        \n",
    "        return ans\n",
    "            \n",
    "    \n",
    "    def bfsOfGraph(self, V, adj):\n",
    "        visited = [0] * V\n",
    "        ans = []\n",
    "        for i in range(V):\n",
    "            # Call BFS for all components of graph\n",
    "            if visited[i] == 0:\n",
    "                ans += self.bfs(V,adj,i,visited)\n",
    "        \n",
    "        return ans\n",
    "    \n",
    "# Time comp:O(V+E)\n",
    "# Space comp:O(V)"
   ]
  },
  {
   "cell_type": "code",
   "execution_count": 3,
   "id": "b7b78d23",
   "metadata": {},
   "outputs": [
    {
     "data": {
      "text/plain": [
       "[0, 2, 1, 5, 3, 4, 6, 8, 7]"
      ]
     },
     "execution_count": 3,
     "metadata": {},
     "output_type": "execute_result"
    }
   ],
   "source": [
    "s = Solution()\n",
    "adj = [[0,2],[0,5],[1,5],[1,6],[1,8],[3,4],[3,5],[4,7],[5,7]]\n",
    "s.bfsOfGraph(9,adj)"
   ]
  },
  {
   "cell_type": "code",
   "execution_count": null,
   "id": "a6f89e12",
   "metadata": {},
   "outputs": [],
   "source": []
  },
  {
   "cell_type": "markdown",
   "id": "941fa5b5",
   "metadata": {},
   "source": [
    "### 332. Implement DFS Algo "
   ]
  },
  {
   "cell_type": "raw",
   "id": "5e856425",
   "metadata": {},
   "source": [
    "Given a connected undirected graph. Perform a Depth First Traversal of the graph.\n",
    "Note: Use recursive approach to find the DFS traversal of the graph starting from the 0th vertex from left to right according to the graph.."
   ]
  },
  {
   "cell_type": "code",
   "execution_count": null,
   "id": "fdb8c586",
   "metadata": {},
   "outputs": [],
   "source": [
    "class Solution:\n",
    "    def dfs(self,V,adj,i,visited):\n",
    "        visited[i] = 1\n",
    "        ans = [i]\n",
    "        \n",
    "        edges = adj[i]\n",
    "        for j in edges:\n",
    "            # If node is not visited then only call DFS for that.\n",
    "            if visited[j] == 0:\n",
    "                ans += self.dfs(V,adj,j,visited)\n",
    "        \n",
    "        return ans\n",
    "    \n",
    "    def dfsOfGraph(self, V, adj):\n",
    "        visited = [0] * V\n",
    "        ans = []\n",
    "        \n",
    "        # Call DFS for all components\n",
    "        for i in range(V):\n",
    "            if visited[i] == 0:\n",
    "                ans += self.dfs(V,adj,i,visited)\n",
    "        \n",
    "        return ans\n",
    "    \n",
    "# Time comp:O(N+E)\n",
    "# Space comp:O(N)"
   ]
  },
  {
   "cell_type": "code",
   "execution_count": null,
   "id": "b787f68c",
   "metadata": {},
   "outputs": [],
   "source": []
  },
  {
   "cell_type": "markdown",
   "id": "635350a2",
   "metadata": {},
   "source": [
    "### 333. Detect Cycle in UnDirected Graph using BFS/DFS Algo "
   ]
  },
  {
   "cell_type": "raw",
   "id": "ff9a1d83",
   "metadata": {},
   "source": [
    "Given an undirected graph with V vertices and E edges, check whether it contains any cycle or not. \n",
    "\n",
    "Example 1:\n",
    "\n",
    "Input:  \n",
    "V = 5, E = 5\n",
    "adj = {{1}, {0, 2, 4}, {1, 3}, {2, 4}, {1, 3}} \n",
    "Output: 1\n",
    "\n",
    "Input: \n",
    "V = 4, E = 2\n",
    "adj = {{}, {2}, {1, 3}, {2}}\n",
    "Output: 0"
   ]
  },
  {
   "cell_type": "code",
   "execution_count": 4,
   "id": "e0bcc1ce",
   "metadata": {},
   "outputs": [],
   "source": [
    "# Detect using DFS\n",
    "\n",
    "class Solution:\n",
    "    \n",
    "    # Carry prev node as well\n",
    "    def checkCycle(self,V,adj,node,prev,visited):\n",
    "        visited[node] = 1\n",
    "        \n",
    "        edges = adj[node]\n",
    "        for j in edges:\n",
    "            \n",
    "            # If next node is already visited and its not prev node then it is a cycle\n",
    "            if visited[j] == 1 and j != prev:\n",
    "                return True\n",
    "            \n",
    "            # Else keep checking for next nodes\n",
    "            if visited[j] == 0:\n",
    "                x = self.checkCycle(V,adj,j,node,visited)\n",
    "                if x == True:\n",
    "                    return True\n",
    "        \n",
    "        return False\n",
    "        \n",
    "    \n",
    "    def isCycle(self, V, adj):\n",
    "        visited = [0 for i in range(V)]\n",
    "        \n",
    "        # Check for each components\n",
    "        for i in range(V):\n",
    "            if visited[i] == 0:\n",
    "                x = self.checkCycle(V,adj,i,None,visited)\n",
    "                \n",
    "                # If cycle detected then directly return True\n",
    "                if x == True:\n",
    "                    return True\n",
    "        return False\n",
    "    \n",
    "# Time comp:O(V+E)\n",
    "# Space comp:O(V)"
   ]
  },
  {
   "cell_type": "code",
   "execution_count": 8,
   "id": "c5d22ea9",
   "metadata": {},
   "outputs": [
    {
     "name": "stdout",
     "output_type": "stream",
     "text": [
      "True\n",
      "False\n"
     ]
    }
   ],
   "source": [
    "s = Solution()\n",
    "print(s.isCycle(5,[[1], [0, 2, 4], [1, 3], [2, 4], [1, 3]]))\n",
    "print(s.isCycle(4,[[], [2], [1, 3], [2]]))"
   ]
  },
  {
   "cell_type": "code",
   "execution_count": 12,
   "id": "e149db84",
   "metadata": {},
   "outputs": [],
   "source": [
    "# Using BFS\n",
    "\n",
    "from collections import deque\n",
    "class Solution:\n",
    "    \n",
    "    def checkCycle(self,V,adj,node,prev,visited):\n",
    "        q = deque()\n",
    "        \n",
    "        # In queue, append node and prev pair\n",
    "        q.append([node,prev])\n",
    "        visited[node] = 1\n",
    "        \n",
    "        while len(q):\n",
    "            temp = q.popleft()\n",
    "            edges = adj[temp[0]]\n",
    "            \n",
    "            for j in edges:\n",
    "                # If next node is already visited and its not prev node then it is a cycle\n",
    "                if visited[j] == 1 and j != temp[1]:\n",
    "                    return True\n",
    "                \n",
    "                if visited[j] == 0:\n",
    "                    q.append([j,temp[0]])\n",
    "                    visited[j] = 1\n",
    "        \n",
    "        return False\n",
    "        \n",
    "    \n",
    "    def isCycle(self, V, adj):\n",
    "        visited = [0 for i in range(V)]\n",
    "        \n",
    "        # Check for each components\n",
    "        for i in range(V):\n",
    "            if visited[i] == 0:\n",
    "                x = self.checkCycle(V,adj,i,None,visited)\n",
    "                \n",
    "                # If cycle detected then directly return True\n",
    "                if x == True:\n",
    "                    return True\n",
    "        return False\n",
    "    \n",
    "# Time comp:O(V+E)\n",
    "# Space comp:O(V)"
   ]
  },
  {
   "cell_type": "code",
   "execution_count": 14,
   "id": "a1ae93c7",
   "metadata": {},
   "outputs": [
    {
     "name": "stdout",
     "output_type": "stream",
     "text": [
      "True\n",
      "False\n",
      "False\n"
     ]
    }
   ],
   "source": [
    "s = Solution()\n",
    "print(s.isCycle(5,[[1], [0, 2, 4], [1, 3], [2, 4], [1, 3]]))\n",
    "print(s.isCycle(4,[[], [2], [1, 3], [2]]))\n",
    "print(s.isCycle(4,[[], [2], [1,3], [2]]))"
   ]
  },
  {
   "cell_type": "code",
   "execution_count": null,
   "id": "6888edf1",
   "metadata": {},
   "outputs": [],
   "source": []
  },
  {
   "cell_type": "markdown",
   "id": "1771d6ed",
   "metadata": {},
   "source": [
    "### 334. Detect Cycle in Directed Graph using BFS/DFS Algo "
   ]
  },
  {
   "cell_type": "raw",
   "id": "89f57ecc",
   "metadata": {},
   "source": [
    "Given a Directed Graph with V vertices (Numbered from 0 to V-1) and E edges, check whether it contains any cycle or not."
   ]
  },
  {
   "cell_type": "code",
   "execution_count": 70,
   "id": "f71f71ae",
   "metadata": {},
   "outputs": [],
   "source": [
    "# Using DFS\n",
    "\n",
    "class Solution:\n",
    "    def findCycle(self,V,adj,i,visited,dfs_call):\n",
    "        \n",
    "        # At the begining, mark dfs_call and visited both are 1\n",
    "        dfs_call[i] = 1\n",
    "        visited[i] = 1\n",
    "        \n",
    "        edges = adj[i]\n",
    "        \n",
    "        for j in edges:\n",
    "            # If j is not visited then make recusive call\n",
    "            if visited[j] == 0:\n",
    "                x = self.findCycle(V,adj,j,visited,dfs_call)\n",
    "                if x == True:\n",
    "                    return True\n",
    "            else:\n",
    "                # If visited[j] is True and dfs_call[j] is also True then cycle is there\n",
    "                if dfs_call[j] == 1:\n",
    "                    return True\n",
    "        \n",
    "        # before return back, make sure you mark dfs_call[j] = 0\n",
    "        dfs_call[i] = 0\n",
    "        return False\n",
    "    \n",
    "    \n",
    "    def isCyclic(self, V, adj):\n",
    "        \n",
    "        # Make two arrays, visited and dfs_call\n",
    "        visited = [0 for i in range(V)]\n",
    "        dfs_call  = [0 for i in range(V)]\n",
    "        \n",
    "        # Call function for all the components\n",
    "        for i in range(V):\n",
    "            if visited[i] == 0:\n",
    "                x = self.findCycle(V,adj,i,visited,dfs_call)\n",
    "                if x == True:\n",
    "                    return True\n",
    "        return False\n",
    "    \n",
    "# Time comp:O(V+E)\n",
    "# Space comp:O(V)"
   ]
  },
  {
   "cell_type": "code",
   "execution_count": 71,
   "id": "ab1832dd",
   "metadata": {},
   "outputs": [
    {
     "data": {
      "text/plain": [
       "False"
      ]
     },
     "execution_count": 71,
     "metadata": {},
     "output_type": "execute_result"
    }
   ],
   "source": [
    "adj = [[], [], [51], [], [], [], [], [34], [], [], [16, 49], [], [], [], [], [], [], [], [], [], [36], [], [], [], [], [1], [], [40], [], [], [47], [21], [], [], [], [], [], [], [], [47], [], [], [], [], [], [], [], [], [45], [], [], [], [46], [28], [], [], [31], [], [], [], [], [19], [], [], [10], [], [], []]\n",
    "V = 68\n",
    "s = Solution()\n",
    "s.isCyclic(V,adj)"
   ]
  },
  {
   "cell_type": "markdown",
   "id": "aa4d9b6d",
   "metadata": {},
   "source": [
    "### 335. Check whether a graph is Bipartite or Not"
   ]
  },
  {
   "cell_type": "raw",
   "id": "a5f987d7",
   "metadata": {},
   "source": [
    "Given an adjacency list of a graph adj  of V no. of vertices having 0 based index. Check whether the graph is bipartite or not.\n",
    "\n",
    "if there is odd length cycle then its Not bipartite else it is bipartite."
   ]
  },
  {
   "cell_type": "code",
   "execution_count": null,
   "id": "fb0b6b56",
   "metadata": {},
   "outputs": [],
   "source": [
    "# Using BFS\n",
    "\n",
    "class Solution:\n",
    "    def colorGraph(self,V,adj,i,visited,color):\n",
    "        \n",
    "        # Mark visited as 1\n",
    "        visited[i] = 1\n",
    "        \n",
    "        edges = adj[i]\n",
    "        \n",
    "        for j in edges:\n",
    "            # If any of its adj edge have same color then just return False\n",
    "            if color[j] == color[i]:\n",
    "                return False\n",
    "            \n",
    "            # If its not visited already then visite it\n",
    "            # But before that assign a color which is exactly opposite of current color \n",
    "            if visited[j] == 0:\n",
    "                color[j] = not color[i]\n",
    "                x = self.colorGraph(V,adj,j,visited,color)\n",
    "                if x == False:\n",
    "                    return False\n",
    "        return True\n",
    "        \n",
    "    def isBipartite(self, V, adj):\n",
    "        visited = [0] * V\n",
    "        color = [None] * V\n",
    "        \n",
    "        for i in range(V):\n",
    "            if visited[i] == 0:\n",
    "                \n",
    "                # Before visiting any node, give it a color  (Since we are checking for 2 colors only keep T/F)\n",
    "                color[i] = True\n",
    "                x = self.colorGraph(V,adj,i,visited,color)\n",
    "                \n",
    "                # If any component return False then simple return False as it is\n",
    "                if x == False:\n",
    "                    return False\n",
    "        return True\n",
    "    \n",
    "# Time comp:O(V+E)\n",
    "# Space comp:O(V)"
   ]
  },
  {
   "cell_type": "code",
   "execution_count": null,
   "id": "78d9d4a0",
   "metadata": {},
   "outputs": [],
   "source": [
    "# Using DFA, without using visited array\n",
    "\n",
    "class Solution:\n",
    "    def colorGraph(self,V,adj,i,color):\n",
    "        edges = adj[i]\n",
    "        \n",
    "        for j in edges:\n",
    "            if color[j] == None:\n",
    "                color[j] = not color[i]\n",
    "                x = self.colorGraph(V,adj,j,color)\n",
    "                if x == False:\n",
    "                    return False\n",
    "            else:\n",
    "                if color[j] == color[i]:\n",
    "                    return False\n",
    "                \n",
    "        return True\n",
    "        \n",
    "    def isBipartite(self, V, adj):\n",
    "        color = [None] * V\n",
    "        \n",
    "        for i in range(V):\n",
    "            if color[i] == None:\n",
    "                color[i] = True\n",
    "                x = self.colorGraph(V,adj,i,color)\n",
    "                if x == False:\n",
    "                    return False\n",
    "        return True\n",
    "\n",
    "# Time comp:O(V+E)\n",
    "# Space comp:O(V)"
   ]
  },
  {
   "cell_type": "code",
   "execution_count": null,
   "id": "fc4a0300",
   "metadata": {},
   "outputs": [],
   "source": [
    "# Using BFS, use queue here instade of recurisive call, all other things are same.\n",
    "\n",
    "from collections import deque\n",
    "class Solution:\n",
    "    def colorGraph(self,V,adj,i,color):\n",
    "        q = deque()\n",
    "        q.append(i)\n",
    "        \n",
    "        while len(q):\n",
    "            node = q.popleft()\n",
    "            edges = adj[node]\n",
    "            \n",
    "            for j in edges:\n",
    "                if color[j] == None:\n",
    "                    color[j] = not color[node]\n",
    "                    q.append(j)\n",
    "                else:\n",
    "                    if color[node] == color[j]:\n",
    "                        return False\n",
    "        \n",
    "        return True\n",
    "        \n",
    "    def isBipartite(self, V, adj):\n",
    "        color = [None] * V\n",
    "        \n",
    "        for i in range(V):\n",
    "            if color[i] == None:\n",
    "                color[i] = True\n",
    "                x = self.colorGraph(V,adj,i,color)\n",
    "                if x == False:\n",
    "                    return False\n",
    "        return True\n",
    "    \n",
    "# Time comp:O(V+E)\n",
    "# Space comp:O(V)"
   ]
  },
  {
   "cell_type": "code",
   "execution_count": null,
   "id": "22978759",
   "metadata": {},
   "outputs": [],
   "source": []
  },
  {
   "cell_type": "markdown",
   "id": "ec6d4d08",
   "metadata": {},
   "source": [
    "### 336. Implement Topological Sort "
   ]
  },
  {
   "cell_type": "raw",
   "id": "deae029a",
   "metadata": {},
   "source": [
    "Given a Directed Acyclic Graph (DAG) with V vertices and E edges, Find any Topological Sorting of that Graph."
   ]
  },
  {
   "cell_type": "code",
   "execution_count": null,
   "id": "5435bdaf",
   "metadata": {},
   "outputs": [],
   "source": [
    "# Using BFS (Kahn's algo)\n",
    "\n",
    "from collections import deque\n",
    "class Solution:\n",
    "    def countIndegree(self,V,adj):\n",
    "        indegree = [0] * V\n",
    "        \n",
    "        for i in range(V):\n",
    "            edges = adj[i]\n",
    "            for j in edges:\n",
    "                indegree[j] += 1\n",
    "        \n",
    "        return indegree\n",
    "    \n",
    "    def bfs(self,V,adj,indegree):\n",
    "        ans = []\n",
    "        q = deque()\n",
    "        \n",
    "        for i in range(V):\n",
    "            if indegree[i] == 0:\n",
    "                q.append(i)\n",
    "        while len(q):\n",
    "            node = q.popleft()\n",
    "            ans.append(node)\n",
    "            \n",
    "            edges = adj[node]\n",
    "            for j in edges:\n",
    "                indegree[j] -= 1\n",
    "                if indegree[j] == 0:\n",
    "                    q.append(j)\n",
    "        return ans\n",
    "    \n",
    "    def topoSort(self, V, adj):\n",
    "        indegree = self.countIndegree(V,adj)\n",
    "        return self.bfs(V,adj,indegree)\n",
    "    \n",
    "# Time comp:O(E+V)\n",
    "# Space comp:O(V)"
   ]
  },
  {
   "cell_type": "code",
   "execution_count": 68,
   "id": "59327733",
   "metadata": {},
   "outputs": [],
   "source": [
    "# Using DFS:\n",
    "\n",
    "class Solution:\n",
    "    \n",
    "    def dfs(self,V,adj,i,ans,visited):\n",
    "        visited[i] = 1\n",
    "        edges = adj[i]\n",
    "        \n",
    "        for j in edges:\n",
    "            if visited[j] == 0:\n",
    "                self.dfs(V,adj,j,ans,visited)\n",
    "        ans.append(i)\n",
    "        return\n",
    "    \n",
    "    def topoSort(self, V, adj):\n",
    "        ans = []\n",
    "        visited = [0] * V\n",
    "        \n",
    "        for i in range(V):\n",
    "            if visited[i] == 0:\n",
    "                self.dfs(V,adj,i,ans,visited)\n",
    "\n",
    "        return ans[::-1]\n",
    "    \n",
    "# Time comp:O(E+V)\n",
    "# Space comp:O(V)"
   ]
  },
  {
   "cell_type": "code",
   "execution_count": 72,
   "id": "c051d6bf",
   "metadata": {},
   "outputs": [],
   "source": [
    "adj = [[], [], [51], [], [], [], [], [34], [], [], [16, 49], [], [], [], [], [], [], [], [], [], [36], [], [], [], [], [1], [], [40], [], [], [47], [21], [], [], [], [], [], [], [], [47], [], [], [], [], [], [], [], [], [45], [], [], [], [46], [28], [], [], [31], [], [], [], [], [19], [], [], [10], [], [], []]\n",
    "V = 68\n",
    "s = Solution()\n",
    "#s.topoSort(V,adj)"
   ]
  },
  {
   "cell_type": "code",
   "execution_count": null,
   "id": "b980a8df",
   "metadata": {},
   "outputs": [],
   "source": []
  },
  {
   "cell_type": "markdown",
   "id": "0d7824fd",
   "metadata": {},
   "source": [
    "### 499. Shortest path in an unweighted graph"
   ]
  },
  {
   "cell_type": "raw",
   "id": "e3931eb6",
   "metadata": {},
   "source": [
    "Undirected unweighted graph is given. If the shortest path from source to destination. Also print the path."
   ]
  },
  {
   "cell_type": "code",
   "execution_count": null,
   "id": "49239b0f",
   "metadata": {},
   "outputs": [],
   "source": [
    "# Using BFS\n",
    "\n",
    "from collections import deque\n",
    "def shortestPath(edges, n, m, s, t):\n",
    "    \n",
    "    # Prepare adj matrix\n",
    "    adj = [[] for i in range(n+1)]\n",
    "    for i in range(len(edges)):\n",
    "        u = edges[i][0]\n",
    "        v = edges[i][1]\n",
    "        \n",
    "        adj[u].append(v)\n",
    "        adj[v].append(u)\n",
    "    \n",
    "    # Here we have to take two array, visited and parent\n",
    "    visited = [0]*(n+1)\n",
    "    parent = [0]*(n+1)\n",
    "    \n",
    "    # Append source to queue\n",
    "    q = deque()\n",
    "    q.append(s)\n",
    "    \n",
    "    # Mark it as visited and its parent as -1\n",
    "    visited[s] = 1\n",
    "    parent[s] = -1\n",
    "    \n",
    "    # BFS\n",
    "    while len(q):\n",
    "        curr = q.popleft()\n",
    "        edge = adj[curr]\n",
    "        \n",
    "        # If its adj nodes are not visited then keep adding them in queue and make curr to their parents \n",
    "        for j in edge:\n",
    "            if visited[j] == 0:\n",
    "                q.append(j)\n",
    "                visited[j] = 1\n",
    "                parent[j] = curr\n",
    "    \n",
    "    # Traverse parents array from target to source and make list of path\n",
    "    ans = []\n",
    "    while t != s:\n",
    "        ans.append(t)\n",
    "        t = parent[t]\n",
    "    ans.append(s)\n",
    "    \n",
    "    # return reverse path\n",
    "    return ans[::-1]"
   ]
  },
  {
   "cell_type": "raw",
   "id": "84106416",
   "metadata": {},
   "source": [
    "There is one more way which is written in book."
   ]
  },
  {
   "cell_type": "markdown",
   "id": "43112aaf",
   "metadata": {},
   "source": [
    "### 500. Shortest Path from source to all nodes in weighted DAG"
   ]
  },
  {
   "cell_type": "code",
   "execution_count": 22,
   "id": "c33cdc2f",
   "metadata": {},
   "outputs": [],
   "source": [
    "def toposort(i,adj,ans,visited):\n",
    "    visited[i] = 1\n",
    "    edges = adj[i]\n",
    "    for j in edges:\n",
    "        if visited[j[0]] == 0:\n",
    "            toposort(j[0],adj,ans,visited)\n",
    "    ans.append(i)\n",
    "    \n",
    "def shortestPathInDAG(n,adj):\n",
    "    ans = []\n",
    "    visited = [0] * n\n",
    "    \n",
    "    for i in range(n):\n",
    "        if visited[i] == 0:\n",
    "            toposort(i,adj,ans,visited)\n",
    "    \n",
    "    distance = [float('inf') for i in range(n)]\n",
    "    distance[0] = 0\n",
    "    \n",
    "    while len(ans):\n",
    "        curr = ans.pop()\n",
    "        if distance[curr] != float('inf'):\n",
    "            edges = adj[curr]\n",
    "            \n",
    "            for i in edges:\n",
    "                distance[i[0]] = min(distance[curr] + i[1], distance[i[0]])\n",
    "    \n",
    "    return distance\n",
    "\n",
    "# Time comp:O(N+V)\n",
    "# Space comp:O(N)"
   ]
  },
  {
   "cell_type": "code",
   "execution_count": 23,
   "id": "b7aed1fc",
   "metadata": {},
   "outputs": [
    {
     "data": {
      "text/plain": [
       "[0, 2, 3, 6, 1, 5]"
      ]
     },
     "execution_count": 23,
     "metadata": {},
     "output_type": "execute_result"
    }
   ],
   "source": [
    "n = 6\n",
    "adj = [\n",
    "       [[1,2],[4,1]],\n",
    "       [[2,3]],\n",
    "       [[3,6]],\n",
    "       [],\n",
    "       [[2,2],[5,4]],\n",
    "       [[3,1]]\n",
    "      ]\n",
    "shortestPathInDAG(n,adj)"
   ]
  },
  {
   "cell_type": "code",
   "execution_count": null,
   "id": "e3424daa",
   "metadata": {},
   "outputs": [],
   "source": []
  },
  {
   "cell_type": "markdown",
   "id": "23729894",
   "metadata": {},
   "source": [
    "### 337. Dijkstra algo"
   ]
  },
  {
   "cell_type": "raw",
   "id": "895a77eb",
   "metadata": {},
   "source": [
    "Shortest path from source to all other node in weighted undirected graph"
   ]
  },
  {
   "cell_type": "code",
   "execution_count": 24,
   "id": "4e2ada4b",
   "metadata": {},
   "outputs": [],
   "source": [
    "# Dijkstra algo\n",
    "\n",
    "import heapq\n",
    "class Solution:\n",
    "\n",
    "    def dijkstra(self, V, adj, S):\n",
    "        heap = []\n",
    "        heapq.heapify(heap)\n",
    "        \n",
    "        # Make distance array with inf as initial value, and make dist of source 0\n",
    "        dist = [float('inf')] * V\n",
    "        dist[S] = 0\n",
    "        \n",
    "        # Item: [distance,node]\n",
    "        \n",
    "        item = [0,S]\n",
    "        heapq.heappush(heap,item)\n",
    "        \n",
    "        while len(heap):\n",
    "            curr = heapq.heappop(heap)\n",
    "            \n",
    "            edges = adj[curr[1]]\n",
    "            \n",
    "            for i in edges:\n",
    "                if dist[i[0]] > i[1] + curr[0]:\n",
    "                    dist[i[0]] = i[1] + curr[0]\n",
    "                    heapq.heappush(heap,[dist[i[0]],i[0]])\n",
    "            \n",
    "        return dist\n",
    "    \n",
    "# Time comp:O(NlogN)\n",
    "# space comp:O(N)"
   ]
  },
  {
   "cell_type": "code",
   "execution_count": null,
   "id": "2f58e1cc",
   "metadata": {},
   "outputs": [],
   "source": []
  },
  {
   "cell_type": "markdown",
   "id": "e051c46a",
   "metadata": {},
   "source": [
    "### 338. Implement Prim’s Algorithm"
   ]
  },
  {
   "cell_type": "raw",
   "id": "5bd52474",
   "metadata": {},
   "source": [
    "Find the cost of min spanning tree"
   ]
  },
  {
   "cell_type": "code",
   "execution_count": 31,
   "id": "6f5cc9f9",
   "metadata": {},
   "outputs": [],
   "source": [
    "class Solution:\n",
    "    def spanningTree(self, V, adj):\n",
    "        cost = [float('inf')] * V\n",
    "        parent = [-1] * V\n",
    "        mst = [False] * V\n",
    "        \n",
    "        parent[0] = -1\n",
    "        cost[0] = 0\n",
    "        \n",
    "        for i in range(V):\n",
    "            \n",
    "            mini = float('inf')\n",
    "            for v in range(V):\n",
    "                if cost[v] < mini and mst[v] == False:\n",
    "                    u = v\n",
    "                    mini = cost[v]\n",
    "                   \n",
    "            mst[u] = True \n",
    "            edges = adj[u]\n",
    "            \n",
    "            for j in edges:\n",
    "                n = j[0]\n",
    "                c = j[1]\n",
    "                if mst[n] == False and c < cost[n]:\n",
    "                    parent[n] = u\n",
    "                    cost[n] = c\n",
    "        \n",
    "        # To print MST:\n",
    "        for i in range(1,V):\n",
    "            print(parent[i],\"->\",i,\" cost:\",cost[i])\n",
    "        \n",
    "        return sum(cost)\n",
    "    \n",
    "# Time comp:O(N^2)\n",
    "# Space comp:O(N)"
   ]
  },
  {
   "cell_type": "code",
   "execution_count": 32,
   "id": "fd83dd5c",
   "metadata": {},
   "outputs": [
    {
     "name": "stdout",
     "output_type": "stream",
     "text": [
      "2 -> 1  cost: 3\n",
      "0 -> 2  cost: 1\n"
     ]
    },
    {
     "data": {
      "text/plain": [
       "4"
      ]
     },
     "execution_count": 32,
     "metadata": {},
     "output_type": "execute_result"
    }
   ],
   "source": [
    "adj = [[[1, 5], [2, 1]], [[0, 5], [2, 3]], [[1, 3], [0, 1]]]\n",
    "V = 3\n",
    "s = Solution()\n",
    "s.spanningTree(V,adj)"
   ]
  },
  {
   "cell_type": "code",
   "execution_count": 41,
   "id": "da085e46",
   "metadata": {},
   "outputs": [],
   "source": [
    "# Prim's Algo using heap\n",
    "\n",
    "import heapq\n",
    "class Solution:\n",
    "    def spanningTree(self, V, adj):\n",
    "        cost = [float('inf')] * V\n",
    "        parent = [-1] * V\n",
    "        mst = [False] * V\n",
    "        \n",
    "        parent[0] = -1\n",
    "        cost[0] = 0\n",
    "        \n",
    "        heap = []\n",
    "        heapq.heapify(heap)\n",
    "        \n",
    "        # pair = [cost, node]\n",
    "        pair = [0,0]\n",
    "        heapq.heappush(heap,pair)\n",
    "        \n",
    "        while len(heap):\n",
    "            \n",
    "            x = heapq.heappop(heap)\n",
    "            u = x[1]\n",
    "                   \n",
    "            mst[u] = True \n",
    "            edges = adj[u]\n",
    "            \n",
    "            for j in edges:\n",
    "                n = j[0]\n",
    "                c = j[1]\n",
    "                if mst[n] == False and c < cost[n]:\n",
    "                    parent[n] = u\n",
    "                    cost[n] = c\n",
    "                    \n",
    "                    pair = [cost[n],n]\n",
    "                    heapq.heappush(heap,pair)\n",
    "        \n",
    "        return sum(cost)\n",
    "    \n",
    "# Time comp:O(N log N)\n",
    "# space comp:O(N)"
   ]
  },
  {
   "cell_type": "code",
   "execution_count": 42,
   "id": "03143e8b",
   "metadata": {},
   "outputs": [
    {
     "data": {
      "text/plain": [
       "4"
      ]
     },
     "execution_count": 42,
     "metadata": {},
     "output_type": "execute_result"
    }
   ],
   "source": [
    "adj = [[[1, 5], [2, 1]], [[0, 5], [2, 3]], [[1, 3], [0, 1]]]\n",
    "V = 3\n",
    "s = Solution()\n",
    "s.spanningTree(V,adj)"
   ]
  },
  {
   "cell_type": "code",
   "execution_count": null,
   "id": "31382323",
   "metadata": {},
   "outputs": [],
   "source": []
  },
  {
   "cell_type": "markdown",
   "id": "8159d0ec",
   "metadata": {},
   "source": [
    "### 339. Implement Kruksal’sAlgorithm"
   ]
  },
  {
   "cell_type": "code",
   "execution_count": 50,
   "id": "71a5a331",
   "metadata": {},
   "outputs": [],
   "source": [
    "class Solution:\n",
    "    \n",
    "    def findParent(self,n,parent):\n",
    "        if n == parent[n]:\n",
    "            return parent[n]\n",
    "        else:\n",
    "            parent[n] = self.findParent(parent[n],parent)\n",
    "            return parent[n]\n",
    "    \n",
    "    def spanningTree(self, V, adj):\n",
    "        edges = []\n",
    "        for i in range(len(adj)):\n",
    "            for j in range(len(adj[i])):\n",
    "                edge = [adj[i][j][1], i, adj[i][j][0]]\n",
    "                edges.append(list(edge))\n",
    "        \n",
    "        edges.sort(key=lambda x:x[0])\n",
    "        \n",
    "        rank = [1] * V\n",
    "        parent = [i for i in range(V)]\n",
    "        total_cost = 0\n",
    "        for i in edges:\n",
    "            weight = i[0]\n",
    "            u = i[1]\n",
    "            v = i[2]\n",
    "            \n",
    "            p1 = self.findParent(u,parent)\n",
    "            p2 = self.findParent(v,parent)\n",
    "            \n",
    "            if p1 == p2:\n",
    "                continue\n",
    "            \n",
    "            total_cost += weight\n",
    "            \n",
    "            if rank[p1] > rank[p2]:\n",
    "                parent[p2] = p1\n",
    "            elif rank[p2] > rank[p1]:\n",
    "                parent[p1] = p2\n",
    "            else:\n",
    "                parent[p1] = p2\n",
    "                rank[p2] += 1\n",
    "            \n",
    "        return total_cost\n",
    "    \n",
    "# Time comp:O(E log E)\n",
    "# Space comp:O(E)"
   ]
  },
  {
   "cell_type": "code",
   "execution_count": null,
   "id": "8b386719",
   "metadata": {},
   "outputs": [],
   "source": []
  },
  {
   "cell_type": "markdown",
   "id": "9aa07497",
   "metadata": {},
   "source": [
    "### 340. Clone a graph"
   ]
  },
  {
   "cell_type": "code",
   "execution_count": null,
   "id": "29396b69",
   "metadata": {},
   "outputs": [],
   "source": [
    "# using DFS and hash_map\n",
    "\n",
    "class Solution:\n",
    "    def dfs(self,node,old_to_new):\n",
    "        if node in old_to_new:\n",
    "            return old_to_new[node]\n",
    "        \n",
    "        copy = Node(node.val)\n",
    "        old_to_new[node] = copy\n",
    "        \n",
    "        for i in node.neighbors:\n",
    "            copy.neighbors.append(self.dfs(i,old_to_new))\n",
    "        \n",
    "        return copy\n",
    "    \n",
    "    def cloneGraph(self, node):\n",
    "        if node == None:\n",
    "            return node\n",
    "        \n",
    "        old_to_new = {}\n",
    "        return self.dfs(node,old_to_new)\n",
    "    \n",
    "# Time comp:O(E+V)\n",
    "# Space comp:O(V)"
   ]
  },
  {
   "cell_type": "code",
   "execution_count": null,
   "id": "b732cd08",
   "metadata": {},
   "outputs": [],
   "source": []
  },
  {
   "cell_type": "markdown",
   "id": "5003f981",
   "metadata": {},
   "source": [
    "### 341. Bridge edge in a graph"
   ]
  },
  {
   "cell_type": "raw",
   "id": "af7efe33",
   "metadata": {},
   "source": [
    "Given a Graph of V vertices and E edges and another edge(c - d), the task is to find if the given edge is a Bridge. i.e., removing the edge disconnects the graph."
   ]
  },
  {
   "cell_type": "code",
   "execution_count": 58,
   "id": "80ca494f",
   "metadata": {},
   "outputs": [],
   "source": [
    "# Using DFS:\n",
    "# https://www.youtube.com/watch?v=2rjZH0-2lhk&list=PLgUwDviBIf0rGEWe64KWas0Nryn7SCRWw&index=24\n",
    "\n",
    "class Solution:\n",
    "    def __init__(self):\n",
    "        self.timer = 0\n",
    "        \n",
    "    def dfs(self, node, parent, visited, in_time, low_time, adj, bridges):\n",
    "        visited[node] = 1\n",
    "        self.timer += 1\n",
    "        \n",
    "        in_time[node] = self.timer\n",
    "        low_time[node] = self.timer\n",
    "        \n",
    "        edges = adj[node]\n",
    "        \n",
    "        for i in edges:\n",
    "            if i == parent:\n",
    "                continue\n",
    "            \n",
    "            if visited[i] == 0:\n",
    "                self.dfs(i, node, visited, in_time, low_time, adj, bridges)\n",
    "                low_time[node] = min(low_time[node],low_time[i])\n",
    "                \n",
    "                if low_time[i] > in_time[node]:\n",
    "                    b = [i,node]\n",
    "                    bridges.append(list(b))\n",
    "            else:\n",
    "                low_time[node] = min(low_time[node],in_time[i])\n",
    "    \n",
    "    def isBridge(self, V, adj, c, d):\n",
    "        in_time = [-1] * V\n",
    "        low_time = [-1] * V\n",
    "        visited = [0] * V\n",
    "        \n",
    "        bridges = []\n",
    "        \n",
    "        for i in range(V):\n",
    "            if visited[i] == 0:\n",
    "                self.dfs(i,-1,visited,in_time,low_time,adj,bridges)\n",
    "\n",
    "        for i in bridges:\n",
    "            if (i[0] == c and i[1] == d) or (i[0] == d and i[1] == c):\n",
    "                return 1\n",
    "        return 0\n",
    "    \n",
    "# Time comp:O(N+E)\n",
    "# Space comp:O(N)"
   ]
  },
  {
   "cell_type": "code",
   "execution_count": 59,
   "id": "78503a14",
   "metadata": {},
   "outputs": [
    {
     "data": {
      "text/plain": [
       "1"
      ]
     },
     "execution_count": 59,
     "metadata": {},
     "output_type": "execute_result"
    }
   ],
   "source": [
    "s = Solution()\n",
    "s.isBridge(4,[[1], [0, 2], [1, 3], [2]],1,2)"
   ]
  },
  {
   "cell_type": "code",
   "execution_count": null,
   "id": "c724db58",
   "metadata": {},
   "outputs": [],
   "source": []
  },
  {
   "cell_type": "markdown",
   "id": "abe9b6ce",
   "metadata": {},
   "source": [
    "### 342. Articulation Point"
   ]
  },
  {
   "cell_type": "raw",
   "id": "b22e10d8",
   "metadata": {},
   "source": [
    "Given an undirected connected graph with V vertices and adjacency list adj. You are required to find all the vertices removing which (and edges through it) disconnects the graph into 2 or more components.\n",
    "Note: Indexing is zero-based i.e nodes numbering from (0 to V-1). There might be loops present in the graph."
   ]
  },
  {
   "cell_type": "code",
   "execution_count": 61,
   "id": "930613d1",
   "metadata": {},
   "outputs": [],
   "source": [
    "# https://www.youtube.com/watch?v=3t3JHswP7mw&list=PLgUwDviBIf0rGEWe64KWas0Nryn7SCRWw&index=25\n",
    "\n",
    "import sys\n",
    "sys.setrecursionlimit(10**6)\n",
    "\n",
    "class Solution:\n",
    "    def __init__(self):\n",
    "        self.timer = 0\n",
    "    \n",
    "    def dfs(self, node, parent, visited, in_time, low_time, adj, is_articulation):\n",
    "        visited[node] = 1\n",
    "        self.timer += 1\n",
    "        \n",
    "        in_time[node] = self.timer\n",
    "        low_time[node] = self.timer\n",
    "        \n",
    "        edges = adj[node]\n",
    "        child = 0\n",
    "        for i in edges:\n",
    "            if i == parent:\n",
    "                continue\n",
    "            \n",
    "            if visited[i] == 0:\n",
    "                self.dfs(i, node, visited, in_time, low_time, adj, is_articulation)\n",
    "                low_time[node] = min(low_time[node],low_time[i])\n",
    "                \n",
    "                if low_time[i] >= in_time[node] and parent != -1:\n",
    "                    is_articulation[node] = 1\n",
    "                \n",
    "                child += 1\n",
    "            else:\n",
    "                low_time[node] = min(low_time[node],in_time[i])\n",
    "        \n",
    "        if parent == -1 and child > 1:\n",
    "            is_articulation[node] = 1\n",
    "    \n",
    "    def articulationPoints(self, V, adj):\n",
    "        in_time = [-1] * V\n",
    "        low_time = [-1] * V\n",
    "        visited = [0] * V\n",
    "        \n",
    "        is_articulation = {}\n",
    "        for i in range(V):\n",
    "            is_articulation[i] = 0\n",
    "        \n",
    "        for i in range(V):\n",
    "            if visited[i] == 0:\n",
    "                self.dfs(i,-1,visited,in_time,low_time,adj,is_articulation)\n",
    "\n",
    "        ans = []\n",
    "        for i in is_articulation:\n",
    "            if is_articulation[i] == 1:\n",
    "                ans.append(i)\n",
    "        \n",
    "        if len(ans) == 0:\n",
    "            return [-1]\n",
    "        else:\n",
    "            return ans\n",
    "        \n",
    "# Time comp:O(N+E)\n",
    "# Space comp:O(N)"
   ]
  },
  {
   "cell_type": "code",
   "execution_count": null,
   "id": "11aad701",
   "metadata": {},
   "outputs": [],
   "source": []
  },
  {
   "cell_type": "markdown",
   "id": "6360c620",
   "metadata": {},
   "source": [
    "### 343. Count Strongly connected Components(Kosaraju Algo)"
   ]
  },
  {
   "cell_type": "raw",
   "id": "3b43f78a",
   "metadata": {},
   "source": [
    "Given a Directed Graph with V vertices (Numbered from 0 to V-1) and E edges, Find the number of strongly connected components in the graph."
   ]
  },
  {
   "cell_type": "code",
   "execution_count": 62,
   "id": "6918ce62",
   "metadata": {},
   "outputs": [],
   "source": [
    "# To topo sort\n",
    "# Transpose the edges\n",
    "# Perform DFS as per the topo order\n",
    "\n",
    "class Solution:\n",
    "    \n",
    "    def toposort(self,node,adj,ans,visited):\n",
    "        visited[node] = 1\n",
    "        \n",
    "        edges = adj[node]\n",
    "        for i in edges:\n",
    "            if visited[i] == 0:\n",
    "                self.toposort(i,adj,ans,visited)\n",
    "        ans.append(node)\n",
    "    \n",
    "    def dfs(self,node,hash_map,ans,visited):\n",
    "        visited[node] = 1\n",
    "        ans.append(node)\n",
    "        \n",
    "        edges = hash_map[node]\n",
    "        for i in edges:\n",
    "            if visited[i] == 0:\n",
    "                self.toposort(i,hash_map,ans,visited)\n",
    "    \n",
    "    def kosaraju(self, V, adj):\n",
    "        visited = [0] * V\n",
    "        ans = []\n",
    "        \n",
    "        for i in range(V):\n",
    "            if visited[i] == 0:\n",
    "                self.toposort(i,adj,ans,visited)\n",
    "        \n",
    "        topo = ans[::-1]\n",
    "        hash_map = {}\n",
    "        for i in range(len(adj)):\n",
    "            temp = adj[i]\n",
    "            for j in temp:\n",
    "                if j in hash_map:\n",
    "                    hash_map[j].append(i)\n",
    "                else:\n",
    "                    hash_map[j] = [i]\n",
    "        \n",
    "        for i in range(V):\n",
    "            if i not in hash_map:\n",
    "                hash_map[i] = []\n",
    "        \n",
    "        \n",
    "        visited = [0] * V\n",
    "        \n",
    "        components = []\n",
    "        for i in topo:\n",
    "            if visited[i] == 0:\n",
    "                ans = []\n",
    "                self.dfs(i,hash_map,ans,visited)\n",
    "                components.append(list(ans))\n",
    "        \n",
    "        return len(components)\n",
    "    \n",
    "# Time comp:O(N+E)\n",
    "# Space comp:O(N+E)"
   ]
  },
  {
   "cell_type": "code",
   "execution_count": null,
   "id": "501cb07c",
   "metadata": {},
   "outputs": [],
   "source": []
  },
  {
   "cell_type": "markdown",
   "id": "d749dc79",
   "metadata": {},
   "source": [
    "### 344. Bellman ford (Detect -ve weight cycle in graph)"
   ]
  },
  {
   "cell_type": "code",
   "execution_count": null,
   "id": "4f58b7fa",
   "metadata": {},
   "outputs": [],
   "source": [
    "class Solution:\n",
    "    def isNegativeWeightCycle(self, n, edges):\n",
    "        dist = [float('inf')] * n\n",
    "        dist[0] = 0\n",
    "        \n",
    "        for i in range(n-1):\n",
    "            curr = dist[:]\n",
    "            for j in edges:\n",
    "                u = j[0]\n",
    "                v = j[1]\n",
    "                w = j[2]\n",
    "                if dist[u] != float('inf') and dist[u]+w < curr[v]:\n",
    "                    curr[v] = dist[u] + w\n",
    "            dist = curr\n",
    "        \n",
    "        copy = dist[:]\n",
    "        for j in edges:\n",
    "            u = j[0]\n",
    "            v = j[1]\n",
    "            w = j[2]\n",
    "\n",
    "            if dist[u] + w < dist[v]:\n",
    "                dist[v] = dist[u] + w\n",
    "            \n",
    "        for i in range(n):\n",
    "            if dist[i] != copy[i]:\n",
    "                return 1\n",
    "        return 0\n",
    "    \n",
    "# Time comp:O(N*E)\n",
    "# Space comp:O(N)"
   ]
  },
  {
   "cell_type": "code",
   "execution_count": null,
   "id": "5924442f",
   "metadata": {},
   "outputs": [],
   "source": []
  },
  {
   "cell_type": "markdown",
   "id": "a2ec77c5",
   "metadata": {},
   "source": [
    "### 345. Implement Floyd warshallAlgorithm"
   ]
  },
  {
   "cell_type": "raw",
   "id": "f1ee9efa",
   "metadata": {},
   "source": [
    "The Floyd Warshall Algorithm is for solving the All Pairs Shortest Path problem. The problem is to find shortest distances between every pair of vertices in a given edge weighted directed Graph. "
   ]
  },
  {
   "cell_type": "code",
   "execution_count": 66,
   "id": "39b5f557",
   "metadata": {},
   "outputs": [],
   "source": [
    "class Solution:\n",
    "    def shortest_distance(self, matrix):\n",
    "        v = len(matrix)\n",
    "        \n",
    "        for k in range(v):\n",
    "            for i in range(v):\n",
    "                for j in range(v):\n",
    "                    if matrix[i][k] == -1 or matrix[k][j] == -1:\n",
    "                        continue\n",
    "                    elif matrix[i][j] == -1: \n",
    "                        matrix[i][j] = matrix[i][k]+matrix[k][j]\n",
    "                    else:\n",
    "                        matrix[i][j] = min(matrix[i][j], matrix[i][k]+matrix[k][j])\n",
    "        return matrix\n",
    "\n",
    "# Time comp:O(N^3)\n",
    "# Space comp:O(N^2)"
   ]
  },
  {
   "cell_type": "code",
   "execution_count": 67,
   "id": "3a5c90a2",
   "metadata": {},
   "outputs": [
    {
     "data": {
      "text/plain": [
       "[[0, 1, 7], [1, 0, 6], [-1, -1, 0]]"
      ]
     },
     "execution_count": 67,
     "metadata": {},
     "output_type": "execute_result"
    }
   ],
   "source": [
    "s = Solution()\n",
    "s.shortest_distance([[0,1,43],[1,0,6],[-1,-1,0]])"
   ]
  },
  {
   "cell_type": "code",
   "execution_count": null,
   "id": "15bf47fc",
   "metadata": {},
   "outputs": [],
   "source": []
  },
  {
   "cell_type": "markdown",
   "id": "500df0be",
   "metadata": {},
   "source": [
    "### 346. Find whether it is possible to finish all tasks or not from given dependencies"
   ]
  },
  {
   "cell_type": "raw",
   "id": "d8e65487",
   "metadata": {},
   "source": [
    "There are a total of N tasks, labeled from 0 to N-1. Some tasks may have prerequisites, for example to do task 0 you have to first complete task 1, which is expressed as a pair: [0, 1]\n",
    "Given the total number of tasks N and a list of prerequisite pairs P, find if it is possible to finish all tasks.\n",
    "\n",
    "Example 1:\n",
    "\n",
    "Input: \n",
    "N = 4, P = 3\n",
    "prerequisites = {{1,0},{2,1},{3,2}}\n",
    "Output:\n",
    "Yes\n",
    "Explanation:\n",
    "To do task 1 you should have completed\n",
    "task 0, and to do task 2 you should \n",
    "have finished task 1, and to do task 3 you \n",
    "should have finished task 2. So it is possible.\n",
    "Example 2:\n",
    "\n",
    "Input:\n",
    "N = 2, P = 2\n",
    "prerequisites = {{1,0},{0,1}}\n",
    "Output:\n",
    "No\n",
    "Explanation:\n",
    "To do task 1 you should have completed\n",
    "task 0, and to do task 0 you should\n",
    "have finished task 1. So it is impossible."
   ]
  },
  {
   "cell_type": "code",
   "execution_count": 73,
   "id": "90ab1883",
   "metadata": {},
   "outputs": [],
   "source": [
    "# Detect cycle in directed graph using DFS\n",
    "\n",
    "class Solution:\n",
    "    \n",
    "    def detectCycle(self,i,adj,visited,dfs_call):\n",
    "        visited[i] = 1\n",
    "        dfs_call[i] = 1\n",
    "        \n",
    "        edges = adj[i]\n",
    "        for j in edges:\n",
    "            if visited[j] == 0:\n",
    "                x = self.detectCycle(j,adj,visited,dfs_call)\n",
    "                if x == True:\n",
    "                    return True\n",
    "            else:\n",
    "                if dfs_call[j] == 1:\n",
    "                    return True\n",
    "        \n",
    "        dfs_call[i] = 0\n",
    "        return False\n",
    "    \n",
    "    def isPossible(self,N,prerequisites):\n",
    "        \n",
    "        # Make adj array\n",
    "        adj = [[] for i in range(N)]\n",
    "        for i in prerequisites:\n",
    "            adj[i[1]].append(i[0])\n",
    "        \n",
    "        # Detect cycle in directed graph\n",
    "        # If cycle present means Not possible else possible\n",
    "        visited = [0 for i in range(N)]\n",
    "        dfs_call = [0 for i in range(N)]\n",
    "        for i in range(N):\n",
    "            if visited[i] == 0:\n",
    "                x = self.detectCycle(i,adj,visited,dfs_call)\n",
    "                if x == True:\n",
    "                    return False\n",
    "        \n",
    "        return True\n",
    "    \n",
    "# Time comp:O(N+E)\n",
    "# Space comp:O(N+E)"
   ]
  },
  {
   "cell_type": "code",
   "execution_count": null,
   "id": "7fb7e617",
   "metadata": {},
   "outputs": [],
   "source": []
  },
  {
   "cell_type": "markdown",
   "id": "4486ce37",
   "metadata": {},
   "source": [
    "### 347. Find the no. of Isalnds"
   ]
  },
  {
   "cell_type": "raw",
   "id": "93def878",
   "metadata": {},
   "source": [
    "Given a grid of size n*m (n is the number of rows and m is the number of columns in the grid) consisting of '0's (Water) and '1's(Land). Find the number of islands.\n",
    "\n",
    "Note: An island is surrounded by water and is formed by connecting adjacent lands horizontally or vertically or diagonally i.e., in all 8 directions.\n",
    "\n",
    "Example 1:\n",
    "\n",
    "Input:\n",
    "grid = {{0,1},{1,0},{1,1},{1,0}}\n",
    "Output:\n",
    "1\n",
    "Explanation:\n",
    "The grid is-\n",
    "0 1\n",
    "1 0\n",
    "1 1\n",
    "1 0\n",
    "All lands are connected.\n",
    "Example 2:\n",
    "\n",
    "Input:\n",
    "grid = {{0,1,1,1,0,0,0},{0,0,1,1,0,1,0}}\n",
    "Output:\n",
    "2\n",
    "Expanation:\n",
    "The grid is-\n",
    "0 1 1 1 0 0 0\n",
    "0 0 1 1 0 1 0 \n",
    "There are two islands :- one is colored in blue \n",
    "and other in orange."
   ]
  },
  {
   "cell_type": "code",
   "execution_count": 43,
   "id": "ea84e75a",
   "metadata": {},
   "outputs": [],
   "source": [
    "import sys\n",
    "sys.setrecursionlimit(10000)\n",
    "class Solution:\n",
    "    \n",
    "    def isValid(self,grid,n,m,i,j,visited):\n",
    "        if i >= 0 and i < n and j >= 0 and j < m:\n",
    "            if grid[i][j] == 1 and visited[i][j] == 0:\n",
    "                return True\n",
    "        \n",
    "        return False\n",
    "    \n",
    "    \n",
    "    def dfs(self,grid,n,m,i,j,visited):\n",
    "        visited[i][j] = 1\n",
    "        \n",
    "        if self.isValid(grid,n,m,i-1,j,visited):\n",
    "            self.dfs(grid,n,m,i-1,j,visited)\n",
    "            \n",
    "        if self.isValid(grid,n,m,i-1,j-1,visited):\n",
    "            self.dfs(grid,n,m,i-1,j-1,visited)\n",
    "            \n",
    "        if self.isValid(grid,n,m,i-1,j+1,visited):\n",
    "            self.dfs(grid,n,m,i-1,j+1,visited)\n",
    "            \n",
    "        if self.isValid(grid,n,m,i,j-1,visited):\n",
    "            self.dfs(grid,n,m,i,j-1,visited)\n",
    "            \n",
    "        if self.isValid(grid,n,m,i,j+1,visited):\n",
    "            self.dfs(grid,n,m,i,j+1,visited)\n",
    "        \n",
    "        if self.isValid(grid,n,m,i+1,j-1,visited):\n",
    "            self.dfs(grid,n,m,i+1,j-1,visited)\n",
    "            \n",
    "        if self.isValid(grid,n,m,i+1,j,visited):\n",
    "            self.dfs(grid,n,m,i+1,j,visited)\n",
    "            \n",
    "        if self.isValid(grid,n,m,i+1,j+1,visited):\n",
    "            self.dfs(grid,n,m,i+1,j+1,visited)\n",
    "        \n",
    "    \n",
    "    def numIslands(self,grid):\n",
    "        #print(grid)\n",
    "        #return 0\n",
    "        n = len(grid)\n",
    "        m = len(grid[0])\n",
    "        \n",
    "        visited = [[0 for i in range(m)] for j in range(n)]\n",
    "        \n",
    "        count = 0\n",
    "        for i in range(n):\n",
    "            for j in range(m):\n",
    "                if grid[i][j] == 0:\n",
    "                    visited[i][j] = 1\n",
    "                    continue\n",
    "                \n",
    "                if visited[i][j] == 0:\n",
    "                    self.dfs(grid,n,m,i,j,visited)\n",
    "                    count += 1\n",
    "        \n",
    "        return count\n",
    "    \n",
    "# Time comp:O(E+V)\n",
    "# Space comp:O(V)"
   ]
  },
  {
   "cell_type": "code",
   "execution_count": null,
   "id": "794717fc",
   "metadata": {},
   "outputs": [],
   "source": []
  },
  {
   "cell_type": "markdown",
   "id": "a6b20f5d",
   "metadata": {},
   "source": [
    "### 349. Total no. of Spanning tree in a graph"
   ]
  },
  {
   "cell_type": "raw",
   "id": "7b20e4d0",
   "metadata": {},
   "source": [
    "Given a connected undirected graph of N edges and M vertices. The task is the find the total number of spanning trees possible in the graph.\n",
    "\n",
    "Input:\n",
    "N = 6, M = 5\n",
    "graph = {{0, 3}\n",
    "         {0, 1}\n",
    "         {1, 2}.\n",
    "         {1, 5},\n",
    "         {3, 4}}\n",
    "Output: 1\n",
    "Explanation: \n",
    "Only one spanning tree is possible,i.e. the graph itself.\n",
    "{{0, 1},\n",
    " {0, 3},\n",
    " {1, 2},\n",
    " {1, 5},\n",
    " {3, 4}}"
   ]
  },
  {
   "cell_type": "raw",
   "id": "5d7bb18a",
   "metadata": {},
   "source": [
    "Follow the given procedure:\n",
    "\n",
    "STEP 1: Create Adjacency Matrix for the given graph. \n",
    "STEP 2: Replace all the diagonal elements with the degree of nodes. For eg. element at (1,1) position of adjacency matrix will be replaced by the degree of node 1, element at (2,2) position of adjacency matrix will be replaced by the degree of node 2, and so on. \n",
    "STEP 3: Replace all non-diagonal 1’s with -1. \n",
    "STEP 4: Calculate co-factor for any element. \n",
    "STEP 5: The cofactor that you get is the total number of spanning tree for that graph. "
   ]
  },
  {
   "cell_type": "code",
   "execution_count": null,
   "id": "1f108d9c",
   "metadata": {},
   "outputs": [],
   "source": [
    "import numpy as np\n",
    "\n",
    "class Solution:\n",
    "    def countSpanningTrees(self, graph, n, m):\n",
    "        adj = [[0 for i in range(n)] for j in range(n)]\n",
    "        indegree = [0 for i in range(n)]\n",
    "        \n",
    "        for i in graph:\n",
    "            u = i[0]\n",
    "            v = i[1]\n",
    "            adj[u][v] = -1\n",
    "            adj[v][u] = -1\n",
    "            \n",
    "            indegree[u] += 1\n",
    "            indegree[v] += 1\n",
    "        \n",
    "        for i in range(n):\n",
    "            adj[i][i] = indegree[i]\n",
    "        \n",
    "        adj = np.array(adj)\n",
    "        cofactor = np.linalg.det(adj[1:,1:])\n",
    "        return int(round(cofactor))\n",
    "    \n",
    "# Time comp:O(N^4)\n",
    "# Space comp:O(N^2)"
   ]
  },
  {
   "cell_type": "code",
   "execution_count": null,
   "id": "785e8816",
   "metadata": {},
   "outputs": [],
   "source": []
  },
  {
   "cell_type": "markdown",
   "id": "6ede43e5",
   "metadata": {},
   "source": [
    "### 351. Making wired Connections"
   ]
  },
  {
   "cell_type": "raw",
   "id": "a787d6a5",
   "metadata": {},
   "source": [
    "There are n computers numbered from 0 to n - 1 connected by ethernet cables connections forming a network where connections[i] = [ai, bi] represents a connection between computers ai and bi. Any computer can reach any other computer directly or indirectly through the network.\n",
    "\n",
    "You are given an initial computer network connections. You can extract certain cables between two directly connected computers, and place them between any pair of disconnected computers to make them directly connected.\n",
    "\n",
    "Return the minimum number of times you need to do this in order to make all the computers connected. If it is not possible, return -1.\n",
    "\n",
    "Input: n = 4, connections = [[0,1],[0,2],[1,2]]\n",
    "Output: 1\n",
    "Explanation: Remove cable between computer 1 and 2 and place between computers 1 and 3.\n",
    "\n",
    "Input: n = 6, connections = [[0,1],[0,2],[0,3],[1,2],[1,3]]\n",
    "Output: 2"
   ]
  },
  {
   "cell_type": "code",
   "execution_count": 74,
   "id": "8479d6ff",
   "metadata": {},
   "outputs": [],
   "source": [
    "class Solution:\n",
    "    def dfs(self,i,visited,adj):\n",
    "        visited[i] = 1\n",
    "        \n",
    "        edges = adj[i]\n",
    "        for j in edges:\n",
    "            if visited[j] == 0:\n",
    "                self.dfs(j,visited,adj)\n",
    "        \n",
    "        return\n",
    "    \n",
    "    def makeConnected(self, n, connections):\n",
    "        edges = len(connections)\n",
    "        if edges + 1 < n:\n",
    "            return -1\n",
    "        \n",
    "        adj = [[] for i in range(n)]\n",
    "        for i in connections:\n",
    "            u = i[0]\n",
    "            v = i[1]\n",
    "            \n",
    "            adj[u].append(v)\n",
    "            adj[v].append(u)\n",
    "        \n",
    "        visited = [0 for i in range(n)]\n",
    "        count = 0\n",
    "        \n",
    "        for i in range(n):\n",
    "            if visited[i] == 0:\n",
    "                self.dfs(i,visited,adj)\n",
    "                count += 1\n",
    "        \n",
    "        return count-1\n",
    "    \n",
    "# Time comp:O(N+E)\n",
    "# Space comp:O(N+E)"
   ]
  },
  {
   "cell_type": "code",
   "execution_count": 75,
   "id": "28ab477f",
   "metadata": {},
   "outputs": [
    {
     "data": {
      "text/plain": [
       "2"
      ]
     },
     "execution_count": 75,
     "metadata": {},
     "output_type": "execute_result"
    }
   ],
   "source": [
    "s = Solution()\n",
    "s.makeConnected(6,[[0,1],[0,2],[0,3],[1,2],[1,3]])"
   ]
  },
  {
   "cell_type": "code",
   "execution_count": null,
   "id": "b4366ee4",
   "metadata": {},
   "outputs": [],
   "source": []
  },
  {
   "cell_type": "markdown",
   "id": "117e86a3",
   "metadata": {},
   "source": [
    "### 352. Flood Fill"
   ]
  },
  {
   "cell_type": "raw",
   "id": "deaf90d0",
   "metadata": {},
   "source": [
    "An image is represented by an m x n integer grid image where image[i][j] represents the pixel value of the image.\n",
    "\n",
    "You are also given three integers sr, sc, and color. You should perform a flood fill on the image starting from the pixel image[sr][sc].\n",
    "\n",
    "To perform a flood fill, consider the starting pixel, plus any pixels connected 4-directionally to the starting pixel of the same color as the starting pixel, plus any pixels connected 4-directionally to those pixels (also with the same color), and so on. Replace the color of all of the aforementioned pixels with color.\n",
    "\n",
    "Return the modified image after performing the flood fill. \n",
    "\n",
    "Input: image = [[1,1,1],[1,1,0],[1,0,1]], sr = 1, sc = 1, color = 2\n",
    "Output: [[2,2,2],[2,2,0],[2,0,1]]\n",
    "Explanation: From the center of the image with position (sr, sc) = (1, 1) (i.e., the red pixel), all pixels connected by a path of the same color as the starting pixel (i.e., the blue pixels) are colored with the new color.\n",
    "Note the bottom corner is not colored 2, because it is not 4-directionally connected to the starting pixel."
   ]
  },
  {
   "cell_type": "code",
   "execution_count": 76,
   "id": "7e6b379c",
   "metadata": {},
   "outputs": [],
   "source": [
    "class Solution:\n",
    "    \n",
    "    def isValid(self,i,j,n,m,visited,image,old_color):\n",
    "        if i >= 0 and i < n and j >= 0 and j < m:\n",
    "            if visited[i][j] == 0 and image[i][j] == old_color:\n",
    "                return True\n",
    "        return False\n",
    "    \n",
    "    def dfs(self,i,j,color,visited,image,n,m,old_color):\n",
    "        image[i][j] = color\n",
    "        visited[i][j] = 1\n",
    "        \n",
    "        if self.isValid(i+1,j,n,m,visited,image,old_color):\n",
    "            self.dfs(i+1,j,color,visited,image,n,m,old_color)\n",
    "        \n",
    "        if self.isValid(i,j+1,n,m,visited,image,old_color):\n",
    "            self.dfs(i,j+1,color,visited,image,n,m,old_color)\n",
    "        \n",
    "        if self.isValid(i-1,j,n,m,visited,image,old_color):\n",
    "            self.dfs(i-1,j,color,visited,image,n,m,old_color)\n",
    "        \n",
    "        if self.isValid(i,j-1,n,m,visited,image,old_color):\n",
    "            self.dfs(i,j-1,color,visited,image,n,m,old_color)\n",
    "    \n",
    "    \n",
    "    def floodFill(self, image, sr, sc, color):\n",
    "        row = len(image)\n",
    "        col = len(image[0])\n",
    "        \n",
    "        visited = [[0 for i in range(col)] for j in range(row)]\n",
    "        \n",
    "        old_color = image[sr][sc]\n",
    "        self.dfs(sr,sc,color,visited,image,row,col,old_color)\n",
    "        return image\n",
    "    \n",
    "# Time comp:O(N*M)     row*col\n",
    "# Space comp:O(N*M)   because of recursive depth     (visited array:O(N))"
   ]
  },
  {
   "cell_type": "code",
   "execution_count": 77,
   "id": "50ed49c0",
   "metadata": {},
   "outputs": [
    {
     "data": {
      "text/plain": [
       "[[2, 2, 2], [2, 2, 0], [2, 0, 1]]"
      ]
     },
     "execution_count": 77,
     "metadata": {},
     "output_type": "execute_result"
    }
   ],
   "source": [
    "s = Solution()\n",
    "s.floodFill([[1,1,1],[1,1,0],[1,0,1]],1,1,2)"
   ]
  },
  {
   "cell_type": "code",
   "execution_count": null,
   "id": "2797b08f",
   "metadata": {},
   "outputs": [],
   "source": []
  },
  {
   "cell_type": "markdown",
   "id": "e0ca66c8",
   "metadata": {},
   "source": [
    "### 353. Travelling Salesman Problem"
   ]
  },
  {
   "cell_type": "raw",
   "id": "ffd56df5",
   "metadata": {},
   "source": [
    "Given a matrix cost of size n where cost[i][j] denotes the cost of moving from city i to city j. Your task is to complete a tour from the city 0 (0 based index) to all other cities such that you visit each city atmost once and then at the end come back to city 0 in min cost.\n",
    "\n",
    "Input: cost = {{0,1000,5000},{5000,0,1000},\n",
    "{1000,5000,0}}\n",
    "Output: 3000\n",
    "Explanation: We can visit 0->1->2->0 and cost \n",
    "= 1000+1000+1000 = 3000"
   ]
  },
  {
   "cell_type": "code",
   "execution_count": 1,
   "id": "b56cbe03",
   "metadata": {},
   "outputs": [],
   "source": [
    "# Simple approach\n",
    "\n",
    "from itertools import permutations\n",
    "\n",
    "class Solution:\n",
    "    def tsp(self,cost,start):\n",
    "        other_nodes = []\n",
    "        for i in range(len(cost)):\n",
    "            if i != start:\n",
    "                other_nodes.append(i)\n",
    "        \n",
    "        min_path = float('inf')\n",
    "        all_permutations = permutations(other_nodes)   # Get all the permutations\n",
    "\n",
    "        for path in all_permutations:\n",
    "            curr_path = 0\n",
    "            u = start                # Start with first node\n",
    "            for v in path:\n",
    "                curr_path += cost[u][v]\n",
    "                u = v\n",
    "            \n",
    "            curr_path += cost[u][start]      # Traverse back to start node from last node\n",
    "            min_path = min(min_path,curr_path)\n",
    "            \n",
    "        return min_path\n",
    "        \n",
    "    def total_cost(self, cost):\n",
    "        return self.tsp(cost,0)\t\n",
    "    \n",
    "# Time comp:O(N!)\n",
    "# Space comp:O(N!)"
   ]
  },
  {
   "cell_type": "code",
   "execution_count": 2,
   "id": "746fa189",
   "metadata": {},
   "outputs": [
    {
     "data": {
      "text/plain": [
       "3000"
      ]
     },
     "execution_count": 2,
     "metadata": {},
     "output_type": "execute_result"
    }
   ],
   "source": [
    "s = Solution()\n",
    "s.total_cost([[0,1000,5000],[5000,0,1000],[1000,5000,0]])"
   ]
  },
  {
   "cell_type": "code",
   "execution_count": 3,
   "id": "5f1f1504",
   "metadata": {},
   "outputs": [],
   "source": [
    "# https://www.interviewbit.com/blog/travelling-salesman-problem/\n",
    "# Do it with DP later  "
   ]
  },
  {
   "cell_type": "code",
   "execution_count": null,
   "id": "81b0c407",
   "metadata": {},
   "outputs": [],
   "source": []
  },
  {
   "cell_type": "markdown",
   "id": "4ab4e0fa",
   "metadata": {},
   "source": [
    "### 357. Count number of ways to reach destination in a Maze"
   ]
  },
  {
   "cell_type": "raw",
   "id": "385bcabc",
   "metadata": {},
   "source": [
    "You are given a matrix having n rows and m columns. The special property of this matrix is that some of the cells of this matrix are given as input, which are blocked i.e. they cannot be reached. Now you have to start from the cell (1,1) and reach the end (n,m) provided during the journey you can move horizontally right from the current cell or vertically down from the current cell. Can you answer the number of ways you can traverse the matrix obeying the above constraints starting from (1,1) and ending at (n,m).\n",
    " \n",
    "\n",
    "Example 1:\n",
    "\n",
    "Input: n = 3, m = 3, k = 2,\n",
    "blocked_cells = {{1,2},{3,2}}.\n",
    "Output: 1\n",
    "Explanation: There is only one path from\n",
    "(1,1) to(3,3) which is (1,1)->(2,1)->(2,2)->\n",
    "(2,3)->(3,3)."
   ]
  },
  {
   "cell_type": "code",
   "execution_count": 12,
   "id": "6bfc1e9f",
   "metadata": {},
   "outputs": [],
   "source": [
    "# This approach is same as Q-255 (Rat in a maze Problem)\n",
    "# But it takes time of O(3^(N*N))\n",
    "\n",
    "class Solution:\n",
    "    def __init__(self):\n",
    "        self.output = 0\n",
    "    \n",
    "    def isPossible(self,grid,n,m,row,col):\n",
    "        if row >= 0 and row < n and col >= 0 and col < m and grid[row][col] == 1:\n",
    "            return True\n",
    "        return False\n",
    "    \n",
    "    \n",
    "    def solve(self,grid,n,m,row,col):\n",
    "        if row== n-1 and col == m-1:\n",
    "            self.output += 1\n",
    "            \n",
    "        # check down\n",
    "        if self.isPossible(grid,n,m,row+1,col):\n",
    "            grid[row][col] = 0\n",
    "            self.solve(grid,n,m,row+1,col)\n",
    "            grid[row][col] = 1\n",
    "            \n",
    "        # check up\n",
    "        if self.isPossible(grid,n,m,row-1,col):\n",
    "            grid[row][col] = 0\n",
    "            self.solve(grid,n,m,row-1,col)\n",
    "            grid[row][col] = 1\n",
    "            \n",
    "        # check right\n",
    "        if self.isPossible(grid,n,m,row,col+1):\n",
    "            grid[row][col] = 0\n",
    "            self.solve(grid,n,m,row,col+1)\n",
    "            grid[row][col] = 1\n",
    "            \n",
    "        # check left\n",
    "        if self.isPossible(grid,n,m,row,col-1):\n",
    "            grid[row][col] = 0\n",
    "            self.solve(grid,n,m,row,col-1)\n",
    "            grid[row][col] = 1\n",
    "    \n",
    "    def FindWays(self, n, m, blocked_cells):\n",
    "        grid = [[1 for _ in range(m)] for _ in range(n)]\n",
    "\n",
    "        for i in blocked_cells:\n",
    "            grid[i[0]-1][i[1]-1] = 0\n",
    "            \n",
    "        if grid[0][0] == 0 or grid[n-1][m-1] == 0:\n",
    "            return 0\n",
    "\n",
    "        row = 0\n",
    "        col = 0\n",
    "        self.solve(grid,n,m,row,col)\n",
    "        return self.output\n",
    "    \n",
    "# Time comp:O(3^(n*n))    because from each cell, we call move to three direction (as one direction will be reached one)\n",
    "# Space comp:O(n*n)       (recursion stack can go upto that length of n*n)"
   ]
  },
  {
   "cell_type": "code",
   "execution_count": 13,
   "id": "03148e7e",
   "metadata": {},
   "outputs": [
    {
     "data": {
      "text/plain": [
       "0"
      ]
     },
     "execution_count": 13,
     "metadata": {},
     "output_type": "execute_result"
    }
   ],
   "source": [
    "s = Solution()\n",
    "s.FindWays(10,3,[[3, 1], [4, 1], [10, 3], [5, 3], [8, 3], [4, 1]])"
   ]
  },
  {
   "cell_type": "code",
   "execution_count": 20,
   "id": "f446c271",
   "metadata": {},
   "outputs": [],
   "source": [
    "# Better solution\n",
    "\n",
    "class Solution:\n",
    "    def FindWays(self, n, m, blocked_cells):\n",
    "        grid = [[0 for _ in range(m)] for _ in range(n)]\n",
    "\n",
    "        for i in blocked_cells:\n",
    "            grid[i[0]-1][i[1]-1] = -1\n",
    "        \n",
    "        if grid[0][0] == -1 or grid[n-1][m-1] == -1:\n",
    "            return 0\n",
    "        \n",
    "        for i in range(n):\n",
    "            if grid[i][0] == 0:\n",
    "                grid[i][0] = 1\n",
    "            else:\n",
    "                break\n",
    "                \n",
    "        for i in range(1,m):\n",
    "            if grid[0][i] == 0:\n",
    "                grid[0][i] = 1\n",
    "            else:\n",
    "                break\n",
    "                \n",
    "        for i in range(1,n):\n",
    "            for j in range(1,m):\n",
    "                if grid[i][j] == -1:\n",
    "                    continue\n",
    "                \n",
    "                if grid[i-1][j] > 0:\n",
    "                    grid[i][j] = grid[i][j] + grid[i-1][j]\n",
    "                if grid[i][j-1] > 0:\n",
    "                    grid[i][j] = grid[i][j] + grid[i][j-1]\n",
    "        \n",
    "        \n",
    "        if grid[n-1][m-1] > 0:\n",
    "            return grid[n-1][m-1]\n",
    "        else:\n",
    "            return 0\n",
    "        \n",
    "# Time comp:O(N*M)\n",
    "# Space comp:O(N*M)"
   ]
  },
  {
   "cell_type": "code",
   "execution_count": 21,
   "id": "f6dd20e3",
   "metadata": {},
   "outputs": [
    {
     "data": {
      "text/plain": [
       "0"
      ]
     },
     "execution_count": 21,
     "metadata": {},
     "output_type": "execute_result"
    }
   ],
   "source": [
    "s = Solution()\n",
    "s.FindWays(10,3,[[3, 1], [4, 1], [10, 3], [5, 3], [8, 3], [4, 1]])"
   ]
  },
  {
   "cell_type": "code",
   "execution_count": null,
   "id": "cc05c47c",
   "metadata": {},
   "outputs": [],
   "source": []
  },
  {
   "cell_type": "markdown",
   "id": "c741195f",
   "metadata": {},
   "source": [
    "### 361.  Cheapest Flights Within K Stops"
   ]
  },
  {
   "cell_type": "raw",
   "id": "03dc769a",
   "metadata": {},
   "source": [
    "There are n cities connected by some number of flights. You are given an array flights where flights[i] = [fromi, toi, pricei] indicates that there is a flight from city fromi to city toi with cost pricei.\n",
    "\n",
    "You are also given three integers src, dst, and k, return the cheapest price from src to dst with at most k stops. If there is no such route, return -1.\n",
    "\n",
    "Input: n = 4, flights = [[0,1,100],[1,2,100],[2,0,100],[1,3,600],[2,3,200]], src = 0, dst = 3, k = 1\n",
    "Output: 700\n",
    "Explanation:\n",
    "The graph is shown above.\n",
    "The optimal path with at most 1 stop from city 0 to 3 is marked in red and has cost 100 + 600 = 700.\n",
    "Note that the path through cities [0,1,2,3] is cheaper but is invalid because it uses 2 stops."
   ]
  },
  {
   "cell_type": "code",
   "execution_count": 27,
   "id": "5ecb1a07",
   "metadata": {},
   "outputs": [],
   "source": [
    "#Same as bellmen ford\n",
    "\n",
    "class Solution:\n",
    "    def findCheapestPrice(self, n, flights, src, dst, k):    \n",
    "        \n",
    "        dist=[float(\"inf\") ]*n\n",
    "        dist[src]=0\n",
    "        \n",
    "        for i in range(k+1):\n",
    "            curr = dist[:]\n",
    "            for j in flights:\n",
    "                u = j[0]\n",
    "                v = j[1]\n",
    "                w = j[2]\n",
    "                \n",
    "                if dist[u] != float('inf') and dist[u]+w < curr[v]:\n",
    "                    curr[v] = dist[u] + w\n",
    "            dist = curr\n",
    "            \n",
    "        if dist[dst] == float('inf'):\n",
    "            return -1\n",
    "        else:\n",
    "            return dist[dst]\n",
    "        \n",
    "# Time comp:O(K*E)\n",
    "# Space comp:O(N)"
   ]
  },
  {
   "cell_type": "code",
   "execution_count": 28,
   "id": "1c2542c2",
   "metadata": {},
   "outputs": [
    {
     "data": {
      "text/plain": [
       "700"
      ]
     },
     "execution_count": 28,
     "metadata": {},
     "output_type": "execute_result"
    }
   ],
   "source": [
    "s = Solution()\n",
    "s.findCheapestPrice(4,[[0,1,100],[1,2,100],[2,0,100],[1,3,600],[2,3,200]],0,3,1)"
   ]
  },
  {
   "cell_type": "code",
   "execution_count": null,
   "id": "7898c6f6",
   "metadata": {},
   "outputs": [],
   "source": []
  },
  {
   "cell_type": "markdown",
   "id": "24f13506",
   "metadata": {},
   "source": [
    "### 363. Water Jug problem"
   ]
  },
  {
   "cell_type": "code",
   "execution_count": null,
   "id": "162a7bb2",
   "metadata": {},
   "outputs": [],
   "source": []
  },
  {
   "cell_type": "code",
   "execution_count": null,
   "id": "4dac8dd7",
   "metadata": {},
   "outputs": [],
   "source": [
    "class Solution:\n",
    "    \n",
    "    def gcd(self,a,b):\n",
    "        if b == 0:\n",
    "            return a\n",
    "        return self.gcd(b, a%b)\n",
    "\n",
    "    def solve(self, to_cap, from_cap, d):\n",
    "        \n",
    "        from_jug = from_cap\n",
    "        to_jug = 0\n",
    "        step = 1\n",
    "        \n",
    "        while from_jug != d and to_jug != d:\n",
    "            \n",
    "            temp = min(from_jug, to_cap - to_jug)\n",
    "            \n",
    "            to_jug = to_jug + temp\n",
    "            from_jug = from_jug - temp\n",
    "     \n",
    "            step =  step + 1\n",
    "            if (from_jug == d) or (to_jug == d):\n",
    "                break\n",
    "     \n",
    "            # If first jug becomes empty, fill it\n",
    "            if from_jug == 0:\n",
    "                from_jug = from_cap\n",
    "                step =  step + 1\n",
    "     \n",
    "            # If second jug becomes full, empty it\n",
    "            if to_jug == to_cap:\n",
    "                to_jug = 0\n",
    "                step =  step + 1\n",
    "                 \n",
    "        return step\n",
    "    \n",
    "    def minSteps(self, m, n, d):\n",
    "        if m == d or n == d:\n",
    "            return 1\n",
    "        if m == n:\n",
    "            return -1\n",
    "\n",
    "        if m > n:\n",
    "            n,m = m,n\n",
    "\n",
    "        if d > n:\n",
    "            return -1\n",
    "        \n",
    "        if (d % self.gcd(n,m)) != 0:\n",
    "            return -1\n",
    "        \n",
    "        return min(self.solve(m,n,d),self.solve(n,m,d))\n",
    "    \n",
    "# Time comp:O(M+N)\n",
    "# Space comp:O(1)"
   ]
  },
  {
   "cell_type": "code",
   "execution_count": null,
   "id": "bfa348fd",
   "metadata": {},
   "outputs": [],
   "source": []
  },
  {
   "cell_type": "markdown",
   "id": "d215ec7e",
   "metadata": {},
   "source": [
    "### 364. Minimum Step by Knight"
   ]
  },
  {
   "cell_type": "raw",
   "id": "7ba4167a",
   "metadata": {},
   "source": [
    "Given a square chessboard, the initial position of Knight and position of a target. Find out the minimum steps a Knight will take to reach the target position.\n",
    "\n",
    "Note:\n",
    "The initial and the target position coordinates of Knight have been given according to 1-base indexing.\n",
    "\n",
    " \n",
    "\n",
    "Example 1:\n",
    "\n",
    "Input:\n",
    "N=6\n",
    "knightPos[ ] = {4, 5}\n",
    "targetPos[ ] = {1, 1}\n",
    "Output:\n",
    "3\n",
    "Explanation:\n",
    "\n",
    "Knight takes 3 step to reach from \n",
    "(4, 5) to (1, 1):\n",
    "(4, 5) -> (5, 3) -> (3, 2) -> (1, 1)."
   ]
  },
  {
   "cell_type": "code",
   "execution_count": 23,
   "id": "42970e68",
   "metadata": {},
   "outputs": [],
   "source": [
    "from collections import deque\n",
    "class Solution:\n",
    "    def isValid(self,N,row,col,visited):\n",
    "        if row > 0 and row <= N and col > 0 and col <= N and visited[row][col] == 0:\n",
    "            return True\n",
    "        return False\n",
    "\n",
    "    def minStepToReachTarget(self, KnightPos, TargetPos, N):\n",
    "        # KnightPos = [col,row]\n",
    "        # targetpos = [col,row]\n",
    "        # 1 based indexing\n",
    "        \n",
    "        visited = [[0 for _ in range(N+1)] for _ in range(N+1)]\n",
    "        visited[KnightPos[1]][KnightPos[0]] = 1\n",
    "        \n",
    "        ans = float('inf')\n",
    "        q = deque()\n",
    "        node = [KnightPos[1],KnightPos[0],0]\n",
    "        q.append(node)\n",
    "        \n",
    "        while len(q):\n",
    "            curr_node = q.popleft()\n",
    "            \n",
    "            row = curr_node[0]\n",
    "            col = curr_node[1]\n",
    "            step = curr_node[2]\n",
    "            \n",
    "            if row == TargetPos[1] and col == TargetPos[0]:\n",
    "                ans = min(ans,step)\n",
    "            \n",
    "            if self.isValid(N,row+1,col-2,visited):\n",
    "                visited[row+1][col-2] = 1\n",
    "                new = [row+1,col-2,step+1]\n",
    "                q.append(new)\n",
    "            if self.isValid(N,row+1,col+2,visited):\n",
    "                visited[row+1][col+2] = 1\n",
    "                new = [row+1,col+2,step+1]\n",
    "                q.append(new)\n",
    "            if self.isValid(N,row+2,col-1,visited):\n",
    "                visited[row+2][col-1] = 1\n",
    "                new = [row+2,col-1,step+1]\n",
    "                q.append(new)\n",
    "            if self.isValid(N,row+2,col+1,visited):\n",
    "                visited[row+2][col+1] = 1\n",
    "                new = [row+2,col+1,step+1]\n",
    "                q.append(new)\n",
    "            if self.isValid(N,row-1,col-2,visited):\n",
    "                visited[row-1][col-2] = 1\n",
    "                new = [row-1,col-2,step+1]\n",
    "                q.append(new)\n",
    "            if self.isValid(N,row-1,col+2,visited):\n",
    "                visited[row-1][col+2] = 1\n",
    "                new = [row-1,col+2,step+1]\n",
    "                q.append(new)\n",
    "            if self.isValid(N,row-2,col+1,visited):\n",
    "                visited[row-2][col+1] = 1\n",
    "                new = [row-2,col+1,step+1]\n",
    "                q.append(new)\n",
    "            if self.isValid(N,row-2,col-1,visited):\n",
    "                visited[row-2][col-1] = 1\n",
    "                new = [row-2,col-1,step+1]\n",
    "                q.append(new)\n",
    "        \n",
    "        return ans"
   ]
  },
  {
   "cell_type": "code",
   "execution_count": 24,
   "id": "733896b5",
   "metadata": {},
   "outputs": [
    {
     "data": {
      "text/plain": [
       "3"
      ]
     },
     "execution_count": 24,
     "metadata": {},
     "output_type": "execute_result"
    }
   ],
   "source": [
    "s = Solution()\n",
    "# given as [col,row] in 1 based indexing\n",
    "s.minStepToReachTarget([4,5],[1,1],6)"
   ]
  },
  {
   "cell_type": "code",
   "execution_count": null,
   "id": "e4d43b28",
   "metadata": {},
   "outputs": [],
   "source": []
  },
  {
   "cell_type": "code",
   "execution_count": null,
   "id": "85feaf6e",
   "metadata": {},
   "outputs": [],
   "source": []
  },
  {
   "cell_type": "markdown",
   "id": "ba03fe9c",
   "metadata": {},
   "source": [
    "### 501. Disjoin set union-find"
   ]
  },
  {
   "cell_type": "raw",
   "id": "d59f052a",
   "metadata": {},
   "source": [
    "This problem is to implement disjoint set union. There will be 2 incomplete functions namely union and find. You have to complete these functions. \n",
    "\n",
    "Union: Join two subsets into a single set.\n",
    "isConnected: Determine which subset a particular element is in. This can be used for determining if two elements are in same subset.\n",
    "\n",
    "Example 1:\n",
    "\n",
    "Input:\n",
    "N = 5\n",
    "q = 4\n",
    "Queries = \n",
    "Union(1,3)\n",
    "isConnected(1,2)\n",
    "Union(1,5)\n",
    "isConnected(3,5)\n",
    "Output:\n",
    "0\n",
    "1\n",
    "Explanation: Initially all nodes 1 2 3 4 5\n",
    "are not connected. \n",
    "After Union(1,3), node 1 and 3 will be\n",
    "connected.\n",
    "When we do isConnected(1,2),  as node 1\n",
    "and 2 are not connected it will return 0.\n",
    "After Union(1,5), node 1 and 5 will be\n",
    "connected.\n",
    "When we do isConnected(3,5),  as node\n",
    "1 and 3 are connected, and node 1 and 5\n",
    "are connected, hence 3 and 5 are\n",
    "connected. Thus it will return 1."
   ]
  },
  {
   "cell_type": "code",
   "execution_count": 49,
   "id": "a9952738",
   "metadata": {},
   "outputs": [],
   "source": [
    "class Solution:\n",
    "    \n",
    "    def findParent(self,node,par):\n",
    "        if node == par[node]:\n",
    "            return node\n",
    "        else:\n",
    "            par[node] = self.findParent(par[node],par)\n",
    "            return par[node]\n",
    "    \n",
    "    #Function to merge two nodes a and b.\n",
    "    def union_(self,a,b,par,rank1):\n",
    "        p1 = self.findParent(a,par)\n",
    "        p2 = self.findParent(b,par)\n",
    "        \n",
    "        if rank1[p1] < rank1[p2]:\n",
    "            par[p1] = p2\n",
    "        elif rank1[p1] > rank1[p2]:\n",
    "            par[p2] = p1\n",
    "        else:\n",
    "            par[p2] = p1\n",
    "            rank1[p1] += 1 \n",
    "        \n",
    "    #Function to check whether 2 nodes are connected or not.\n",
    "    def isConnected(self,x,y,par,rank1):\n",
    "        if self.findParent(x,par) == self.findParent(y,par):\n",
    "            return True\n",
    "        else:\n",
    "            return False\n",
    "        \n",
    "# Time comp:O(N)\n",
    "# Space comp:O(N)"
   ]
  },
  {
   "cell_type": "code",
   "execution_count": null,
   "id": "c61d38c2",
   "metadata": {},
   "outputs": [],
   "source": []
  },
  {
   "cell_type": "code",
   "execution_count": null,
   "id": "8bb07977",
   "metadata": {},
   "outputs": [],
   "source": []
  },
  {
   "cell_type": "code",
   "execution_count": 25,
   "id": "ca90c32d",
   "metadata": {},
   "outputs": [],
   "source": [
    "class Solution():\n",
    "    def dfs(self,i,nodes,visited,adj):\n",
    "        visited[i] = 1\n",
    "        \n",
    "        edg = adj[nodes[i]]\n",
    "        \n",
    "        for j in edg:\n",
    "            if j in nodes:\n",
    "                index = nodes.index(j)\n",
    "                if visited[index] == 0:\n",
    "                    self.dfs(index,nodes,visited,adj)\n",
    "        \n",
    "    def solve(self, N, M, Q, col, Edge, query):\n",
    "        ans = []\n",
    "        adj = {}\n",
    "        for i in range(N):\n",
    "            adj[i] = []\n",
    "            \n",
    "        for i in Edge:\n",
    "            adj[i[0]].append(i[1])\n",
    "            adj[i[1]].append(i[0])\n",
    "        \n",
    "        color = {}\n",
    "        for i in range(len(col)):\n",
    "            if col[i] not in color:\n",
    "                color[col[i]] = []\n",
    "        \n",
    "        for i in range(N):\n",
    "            color[col[i]].append(i)\n",
    "        \n",
    "        for i in query:\n",
    "            nodes = []\n",
    "            flag = False\n",
    "            for j in range(len(i)):\n",
    "                if i[j] in color:\n",
    "                    for k in color[i[j]]:\n",
    "                        nodes.append(k)\n",
    "                else:\n",
    "                    flag = True\n",
    "                    break\n",
    "            \n",
    "            if flag == True:\n",
    "                ans.append('No')\n",
    "                flag = False\n",
    "                continue\n",
    "            \n",
    "            visited = [0] * len(nodes)\n",
    "            \n",
    "            #print(nodes)\n",
    "            #print(visited)\n",
    "            \n",
    "            self.dfs(0,nodes,visited,adj)\n",
    "            #print(visited)\n",
    "            if 0 in visited:\n",
    "                ans.append('No')print(dist)\n",
    "                ans.append('Yes')\n",
    "            #break\n",
    "        \n",
    "        return ans"
   ]
  },
  {
   "cell_type": "code",
   "execution_count": 26,
   "id": "1f57bd1e",
   "metadata": {},
   "outputs": [
    {
     "data": {
      "text/plain": [
       "['No', 'No', 'No', 'No', 'No']"
      ]
     },
     "execution_count": 26,
     "metadata": {},
     "output_type": "execute_result"
    }
   ],
   "source": [
    "s = Solution()\n",
    "s.solve(2,5,5,'fa',[[0,1],[0,1],[0,1],[0,1],[0,1]],['cdb','dac','bac','adb','acd'])"
   ]
  },
  {
   "cell_type": "code",
   "execution_count": null,
   "id": "c0d4c038",
   "metadata": {},
   "outputs": [],
   "source": []
  }
 ],
 "metadata": {
  "kernelspec": {
   "display_name": "Python 3",
   "language": "python",
   "name": "python3"
  },
  "language_info": {
   "codemirror_mode": {
    "name": "ipython",
    "version": 3
   },
   "file_extension": ".py",
   "mimetype": "text/x-python",
   "name": "python",
   "nbconvert_exporter": "python",
   "pygments_lexer": "ipython3",
   "version": "3.9.12"
  }
 },
 "nbformat": 4,
 "nbformat_minor": 5
}
