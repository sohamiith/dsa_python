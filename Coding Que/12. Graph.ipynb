{
 "cells": [
  {
   "cell_type": "markdown",
   "id": "8b74e824",
   "metadata": {},
   "source": [
    "## Graph"
   ]
  },
  {
   "cell_type": "code",
   "execution_count": null,
   "id": "17eb9dd3",
   "metadata": {},
   "outputs": [],
   "source": []
  },
  {
   "cell_type": "markdown",
   "id": "8d1bff31",
   "metadata": {},
   "source": [
    "### 331. Implement BFS algorithm "
   ]
  },
  {
   "cell_type": "raw",
   "id": "1c17ae44",
   "metadata": {},
   "source": [
    "Given a directed graph. The task is to do Breadth First Traversal of this graph starting from 0.\n",
    "Note: One can move from node u to node v only if there's an edge from u to v and find the BFS traversal of the graph starting from the 0th vertex, from left to right according to the graph. Also, you should only take nodes directly or indirectly connected from Node 0 in consideration."
   ]
  },
  {
   "cell_type": "code",
   "execution_count": 1,
   "id": "08895aac",
   "metadata": {},
   "outputs": [],
   "source": [
    "# For conneced graph\n",
    "\n",
    "from collections import deque\n",
    "class Solution:\n",
    "    \n",
    "    def bfs(self,V,adj,i,visited):\n",
    "        q = deque()\n",
    "        q.append(i)\n",
    "        visited[i] = 1\n",
    "        \n",
    "        ans = []\n",
    "        while len(q):\n",
    "            # pop from queue and append it in ans\n",
    "            node = q.popleft()\n",
    "            ans.append(node)\n",
    "            \n",
    "            # append all its connected nodes into the queue and mark them visited\n",
    "            edges = adj[node]\n",
    "            for j in edges:\n",
    "                # If its already visited then dont push it in queue\n",
    "                if visited[j] == 0:\n",
    "                    q.append(j)\n",
    "                    visited[j] = 1\n",
    "        \n",
    "        return ans\n",
    "            \n",
    "    \n",
    "    def bfsOfGraph(self, V, adj):\n",
    "        visited = [0] * V\n",
    "        ans = []\n",
    "        return self.bfs(V,adj,0,visited)\n",
    "    \n",
    "# Time comp:O(V+E)\n",
    "# Space comp:O(V)"
   ]
  },
  {
   "cell_type": "code",
   "execution_count": 2,
   "id": "92100cb0",
   "metadata": {},
   "outputs": [],
   "source": [
    "# If there are more than 1 components and we need to visit all the nodes\n",
    "\n",
    "from collections import deque\n",
    "class Solution:\n",
    "    \n",
    "    def bfs(self,V,adj,i,visited):\n",
    "        q = deque()\n",
    "        q.append(i)\n",
    "        visited[i] = 1\n",
    "        \n",
    "        ans = []\n",
    "        while len(q):\n",
    "            node = q.popleft()\n",
    "            ans.append(node)\n",
    "            \n",
    "            edges = adj[node]\n",
    "            for j in edges:\n",
    "                if visited[j] == 0:\n",
    "                    q.append(j)\n",
    "                    visited[j] = 1\n",
    "        \n",
    "        return ans\n",
    "            \n",
    "    \n",
    "    def bfsOfGraph(self, V, adj):\n",
    "        visited = [0] * V\n",
    "        ans = []\n",
    "        for i in range(V):\n",
    "            # Call BFS for all components of graph\n",
    "            if visited[i] == 0:\n",
    "                ans += self.bfs(V,adj,i,visited)\n",
    "        \n",
    "        return ans\n",
    "    \n",
    "# Time comp:O(V+E)\n",
    "# Space comp:O(V)"
   ]
  },
  {
   "cell_type": "code",
   "execution_count": 3,
   "id": "b7b78d23",
   "metadata": {},
   "outputs": [
    {
     "data": {
      "text/plain": [
       "[0, 2, 1, 5, 3, 4, 6, 8, 7]"
      ]
     },
     "execution_count": 3,
     "metadata": {},
     "output_type": "execute_result"
    }
   ],
   "source": [
    "s = Solution()\n",
    "adj = [[0,2],[0,5],[1,5],[1,6],[1,8],[3,4],[3,5],[4,7],[5,7]]\n",
    "s.bfsOfGraph(9,adj)"
   ]
  },
  {
   "cell_type": "code",
   "execution_count": null,
   "id": "a6f89e12",
   "metadata": {},
   "outputs": [],
   "source": []
  },
  {
   "cell_type": "markdown",
   "id": "941fa5b5",
   "metadata": {},
   "source": [
    "### 332. Implement DFS Algo "
   ]
  },
  {
   "cell_type": "raw",
   "id": "5e856425",
   "metadata": {},
   "source": [
    "Given a connected undirected graph. Perform a Depth First Traversal of the graph.\n",
    "Note: Use recursive approach to find the DFS traversal of the graph starting from the 0th vertex from left to right according to the graph.."
   ]
  },
  {
   "cell_type": "code",
   "execution_count": null,
   "id": "fdb8c586",
   "metadata": {},
   "outputs": [],
   "source": [
    "class Solution:\n",
    "    def dfs(self,V,adj,i,visited):\n",
    "        visited[i] = 1\n",
    "        ans = [i]\n",
    "        \n",
    "        edges = adj[i]\n",
    "        for j in edges:\n",
    "            # If node is not visited then only call DFS for that.\n",
    "            if visited[j] == 0:\n",
    "                ans += self.dfs(V,adj,j,visited)\n",
    "        \n",
    "        return ans\n",
    "    \n",
    "    def dfsOfGraph(self, V, adj):\n",
    "        visited = [0] * V\n",
    "        ans = []\n",
    "        \n",
    "        # Call DFS for all components\n",
    "        for i in range(V):\n",
    "            if visited[i] == 0:\n",
    "                ans += self.dfs(V,adj,i,visited)\n",
    "        \n",
    "        return ans\n",
    "    \n",
    "# Time comp:O(N+E)\n",
    "# Space comp:O(N)"
   ]
  },
  {
   "cell_type": "code",
   "execution_count": null,
   "id": "b787f68c",
   "metadata": {},
   "outputs": [],
   "source": []
  },
  {
   "cell_type": "markdown",
   "id": "635350a2",
   "metadata": {},
   "source": [
    "### 333. Detect Cycle in UnDirected Graph using BFS/DFS Algo "
   ]
  },
  {
   "cell_type": "raw",
   "id": "ff9a1d83",
   "metadata": {},
   "source": [
    "Given an undirected graph with V vertices and E edges, check whether it contains any cycle or not. \n",
    "\n",
    "Example 1:\n",
    "\n",
    "Input:  \n",
    "V = 5, E = 5\n",
    "adj = {{1}, {0, 2, 4}, {1, 3}, {2, 4}, {1, 3}} \n",
    "Output: 1\n",
    "\n",
    "Input: \n",
    "V = 4, E = 2\n",
    "adj = {{}, {2}, {1, 3}, {2}}\n",
    "Output: 0"
   ]
  },
  {
   "cell_type": "code",
   "execution_count": 4,
   "id": "e0bcc1ce",
   "metadata": {},
   "outputs": [],
   "source": [
    "# Detect using DFS\n",
    "\n",
    "class Solution:\n",
    "    \n",
    "    # Carry prev node as well\n",
    "    def checkCycle(self,V,adj,node,prev,visited):\n",
    "        visited[node] = 1\n",
    "        \n",
    "        edges = adj[node]\n",
    "        for j in edges:\n",
    "            \n",
    "            # If next node is already visited and its not prev node then it is a cycle\n",
    "            if visited[j] == 1 and j != prev:\n",
    "                return True\n",
    "            \n",
    "            # Else keep checking for next nodes\n",
    "            if visited[j] == 0:\n",
    "                x = self.checkCycle(V,adj,j,node,visited)\n",
    "                if x == True:\n",
    "                    return True\n",
    "        \n",
    "        return False\n",
    "        \n",
    "    \n",
    "    def isCycle(self, V, adj):\n",
    "        visited = [0 for i in range(V)]\n",
    "        \n",
    "        # Check for each components\n",
    "        for i in range(V):\n",
    "            if visited[i] == 0:\n",
    "                x = self.checkCycle(V,adj,i,None,visited)\n",
    "                \n",
    "                # If cycle detected then directly return True\n",
    "                if x == True:\n",
    "                    return True\n",
    "        return False\n",
    "    \n",
    "# Time comp:O(V+E)\n",
    "# Space comp:O(V)"
   ]
  },
  {
   "cell_type": "code",
   "execution_count": 8,
   "id": "c5d22ea9",
   "metadata": {},
   "outputs": [
    {
     "name": "stdout",
     "output_type": "stream",
     "text": [
      "True\n",
      "False\n"
     ]
    }
   ],
   "source": [
    "s = Solution()\n",
    "print(s.isCycle(5,[[1], [0, 2, 4], [1, 3], [2, 4], [1, 3]]))\n",
    "print(s.isCycle(4,[[], [2], [1, 3], [2]]))"
   ]
  },
  {
   "cell_type": "code",
   "execution_count": 12,
   "id": "e149db84",
   "metadata": {},
   "outputs": [],
   "source": [
    "# Using BFS\n",
    "\n",
    "from collections import deque\n",
    "class Solution:\n",
    "    \n",
    "    def checkCycle(self,V,adj,node,prev,visited):\n",
    "        q = deque()\n",
    "        \n",
    "        # In queue, append node and prev pair\n",
    "        q.append([node,prev])\n",
    "        visited[node] = 1\n",
    "        \n",
    "        while len(q):\n",
    "            temp = q.popleft()\n",
    "            edges = adj[temp[0]]\n",
    "            \n",
    "            for j in edges:\n",
    "                # If next node is already visited and its not prev node then it is a cycle\n",
    "                if visited[j] == 1 and j != temp[1]:\n",
    "                    return True\n",
    "                \n",
    "                if visited[j] == 0:\n",
    "                    q.append([j,temp[0]])\n",
    "                    visited[j] = 1\n",
    "        \n",
    "        return False\n",
    "        \n",
    "    \n",
    "    def isCycle(self, V, adj):\n",
    "        visited = [0 for i in range(V)]\n",
    "        \n",
    "        # Check for each components\n",
    "        for i in range(V):\n",
    "            if visited[i] == 0:\n",
    "                x = self.checkCycle(V,adj,i,None,visited)\n",
    "                \n",
    "                # If cycle detected then directly return True\n",
    "                if x == True:\n",
    "                    return True\n",
    "        return False\n",
    "    \n",
    "# Time comp:O(V+E)\n",
    "# Space comp:O(V)"
   ]
  },
  {
   "cell_type": "code",
   "execution_count": 14,
   "id": "a1ae93c7",
   "metadata": {},
   "outputs": [
    {
     "name": "stdout",
     "output_type": "stream",
     "text": [
      "True\n",
      "False\n",
      "False\n"
     ]
    }
   ],
   "source": [
    "s = Solution()\n",
    "print(s.isCycle(5,[[1], [0, 2, 4], [1, 3], [2, 4], [1, 3]]))\n",
    "print(s.isCycle(4,[[], [2], [1, 3], [2]]))\n",
    "print(s.isCycle(4,[[], [2], [1,3], [2]]))"
   ]
  },
  {
   "cell_type": "code",
   "execution_count": null,
   "id": "6888edf1",
   "metadata": {},
   "outputs": [],
   "source": []
  },
  {
   "cell_type": "markdown",
   "id": "1771d6ed",
   "metadata": {},
   "source": [
    "### 334. Detect Cycle in Directed Graph using BFS/DFS Algo "
   ]
  },
  {
   "cell_type": "raw",
   "id": "89f57ecc",
   "metadata": {},
   "source": [
    "Given a Directed Graph with V vertices (Numbered from 0 to V-1) and E edges, check whether it contains any cycle or not."
   ]
  },
  {
   "cell_type": "code",
   "execution_count": null,
   "id": "f71f71ae",
   "metadata": {},
   "outputs": [],
   "source": [
    "# Using DFS\n",
    "\n",
    "class Solution:\n",
    "    def findCycle(self,V,adj,i,visited,dfs_call):\n",
    "        \n",
    "        # At the begining, mark dfs_call and visited both are 1\n",
    "        dfs_call[i] = 1\n",
    "        visited[i] = 1\n",
    "        \n",
    "        edges = adj[i]\n",
    "        \n",
    "        for j in edges:\n",
    "            # If j is not visited then make recusive call\n",
    "            if visited[j] == 0:\n",
    "                x = self.findCycle(V,adj,j,visited,dfs_call)\n",
    "                if x == True:\n",
    "                    return True\n",
    "            else:\n",
    "                # If visited[j] is True and dfs_call[j] is also True then cycle is there\n",
    "                if dfs_call[j] == 1:\n",
    "                    return True\n",
    "        \n",
    "        # before return back, make sure you mark dfs_call[j] = 0\n",
    "        dfs_call[i] = 0\n",
    "        return False\n",
    "    \n",
    "    \n",
    "    def isCyclic(self, V, adj):\n",
    "        \n",
    "        # Make two arrays, visited and dfs_call\n",
    "        visited = [0 for i in range(V)]\n",
    "        dfs_call  = [0 for i in range(V)]\n",
    "        \n",
    "        # Call function for all the components\n",
    "        for i in range(V):\n",
    "            if visited[i] == 0:\n",
    "                x = self.findCycle(V,adj,i,visited,dfs_call)\n",
    "                if x == True:\n",
    "                    return True\n",
    "        return False\n",
    "    \n",
    "# Time comp:O(V+E)\n",
    "# Space comp:O(V)"
   ]
  },
  {
   "cell_type": "code",
   "execution_count": null,
   "id": "ab1832dd",
   "metadata": {},
   "outputs": [],
   "source": []
  },
  {
   "cell_type": "markdown",
   "id": "aa4d9b6d",
   "metadata": {},
   "source": [
    "### 335. Check whether a graph is Bipartite or Not"
   ]
  },
  {
   "cell_type": "raw",
   "id": "a5f987d7",
   "metadata": {},
   "source": [
    "Given an adjacency list of a graph adj  of V no. of vertices having 0 based index. Check whether the graph is bipartite or not.\n",
    "\n",
    "if there is odd length cycle then its Not bipartite else it is bipartite."
   ]
  },
  {
   "cell_type": "code",
   "execution_count": null,
   "id": "fb0b6b56",
   "metadata": {},
   "outputs": [],
   "source": [
    "# Using BFS\n",
    "\n",
    "class Solution:\n",
    "    def colorGraph(self,V,adj,i,visited,color):\n",
    "        \n",
    "        # Mark visited as 1\n",
    "        visited[i] = 1\n",
    "        \n",
    "        edges = adj[i]\n",
    "        \n",
    "        for j in edges:\n",
    "            # If any of its adj edge have same color then just return False\n",
    "            if color[j] == color[i]:\n",
    "                return False\n",
    "            \n",
    "            # If its not visited already then visite it\n",
    "            # But before that assign a color which is exactly opposite of current color \n",
    "            if visited[j] == 0:\n",
    "                color[j] = not color[i]\n",
    "                x = self.colorGraph(V,adj,j,visited,color)\n",
    "                if x == False:\n",
    "                    return False\n",
    "        return True\n",
    "        \n",
    "    def isBipartite(self, V, adj):\n",
    "        visited = [0] * V\n",
    "        color = [None] * V\n",
    "        \n",
    "        for i in range(V):\n",
    "            if visited[i] == 0:\n",
    "                \n",
    "                # Before visiting any node, give it a color  (Since we are checking for 2 colors only keep T/F)\n",
    "                color[i] = True\n",
    "                x = self.colorGraph(V,adj,i,visited,color)\n",
    "                \n",
    "                # If any component return False then simple return False as it is\n",
    "                if x == False:\n",
    "                    return False\n",
    "        return True\n",
    "    \n",
    "# Time comp:O(V+E)\n",
    "# Space comp:O(V)"
   ]
  },
  {
   "cell_type": "code",
   "execution_count": null,
   "id": "78d9d4a0",
   "metadata": {},
   "outputs": [],
   "source": [
    "# Using DFA, without using visited array\n",
    "\n",
    "class Solution:\n",
    "    def colorGraph(self,V,adj,i,color):\n",
    "        edges = adj[i]\n",
    "        \n",
    "        for j in edges:\n",
    "            if color[j] == None:\n",
    "                color[j] = not color[i]\n",
    "                x = self.colorGraph(V,adj,j,color)\n",
    "                if x == False:\n",
    "                    return False\n",
    "            else:\n",
    "                if color[j] == color[i]:\n",
    "                    return False\n",
    "                \n",
    "        return True\n",
    "        \n",
    "    def isBipartite(self, V, adj):\n",
    "        color = [None] * V\n",
    "        \n",
    "        for i in range(V):\n",
    "            if color[i] == None:\n",
    "                color[i] = True\n",
    "                x = self.colorGraph(V,adj,i,color)\n",
    "                if x == False:\n",
    "                    return False\n",
    "        return True\n",
    "\n",
    "# Time comp:O(V+E)\n",
    "# Space comp:O(V)"
   ]
  },
  {
   "cell_type": "code",
   "execution_count": null,
   "id": "fc4a0300",
   "metadata": {},
   "outputs": [],
   "source": [
    "# Using BFS, use queue here instade of recurisive call, all other things are same.\n",
    "\n",
    "from collections import deque\n",
    "class Solution:\n",
    "    def colorGraph(self,V,adj,i,color):\n",
    "        q = deque()\n",
    "        q.append(i)\n",
    "        \n",
    "        while len(q):\n",
    "            node = q.popleft()\n",
    "            edges = adj[node]\n",
    "            \n",
    "            for j in edges:\n",
    "                if color[j] == None:\n",
    "                    color[j] = not color[node]\n",
    "                    q.append(j)\n",
    "                else:\n",
    "                    if color[node] == color[j]:\n",
    "                        return False\n",
    "        \n",
    "        return True\n",
    "        \n",
    "    def isBipartite(self, V, adj):\n",
    "        color = [None] * V\n",
    "        \n",
    "        for i in range(V):\n",
    "            if color[i] == None:\n",
    "                color[i] = True\n",
    "                x = self.colorGraph(V,adj,i,color)\n",
    "                if x == False:\n",
    "                    return False\n",
    "        return True\n",
    "    \n",
    "# Time comp:O(V+E)\n",
    "# Space comp:O(V)"
   ]
  }
 ],
 "metadata": {
  "kernelspec": {
   "display_name": "Python 3",
   "language": "python",
   "name": "python3"
  },
  "language_info": {
   "codemirror_mode": {
    "name": "ipython",
    "version": 3
   },
   "file_extension": ".py",
   "mimetype": "text/x-python",
   "name": "python",
   "nbconvert_exporter": "python",
   "pygments_lexer": "ipython3",
   "version": "3.6.5"
  }
 },
 "nbformat": 4,
 "nbformat_minor": 5
}
