{
 "cells": [
  {
   "cell_type": "markdown",
   "id": "ae26464c",
   "metadata": {},
   "source": [
    "## Dynamic Programming"
   ]
  },
  {
   "cell_type": "raw",
   "id": "3161c4f2",
   "metadata": {},
   "source": [
    "Dynamic Programming is mainly an optimization over plain recursion. Wherever we see a recursive solution that has repeated calls for same inputs, we can optimize it using Dynamic Programming. The idea is to simply store the results of subproblems, so that we do not have to re-compute them when needed later. This simple optimization reduces time complexities from exponential to polynomial.\n",
    "\n",
    "Approaches: \n",
    "1. Top down: recursion + memoization   (From required ans -> go to towards base case)\n",
    "2. Bottom up: tebulation               (From base case -> build required ans gradually)\n",
    "\n",
    "problem can be solved using Dynamic programming if following things are there in problem: \n",
    "1) Overlapping Subproblems \n",
    "2) Optimal Substructure \n",
    "\n",
    "1) Overlapping subproblems:\n",
    "Dynamic Programming is mainly used when solutions to the same subproblems are needed again and again. In dynamic programming, computed solutions to subproblems are stored in a table so that these don’t have to be recomputed. So Dynamic Programming is not useful when there are no common (overlapping) subproblems because there is no point in storing the solutions if they are not needed again.\n",
    "\n",
    "2) Optimal Substructure: \n",
    "A given problem has Optimal Substructure Property if the optimal solution of the given problem can be obtained by using optimal solutions of its subproblems.\n",
    "\n",
    "\n",
    "Memoization: \n",
    "Store the result of sub problems into map/table.\n",
    "\n",
    "\n",
    "\n",
    "Three steps to build DP solution:\n",
    "\n",
    "1. Create DP table\n",
    "2. After calculating ans, store it into the DP table\n",
    "3. Just after base condition code, check whether given ans is already in DP table or not. If ans is there then return that ans directly without solving it."
   ]
  },
  {
   "cell_type": "raw",
   "id": "1c47fa90",
   "metadata": {},
   "source": [
    "It is question of recursion/DP if it was asked like,\n",
    "\n",
    "1. Give all possible ways\n",
    "2. count number of possible ways\n",
    "3. give best solution among all"
   ]
  },
  {
   "cell_type": "raw",
   "id": "495404f5",
   "metadata": {},
   "source": [
    "Steps to make a recursive solution:\n",
    "\n",
    "1. Try to represent the problem in terms of index.\n",
    "2. Do all possible stuffs on that index according to the problem statment\n",
    "3. sum up all stuffs (When it was about counting all steps)\n",
    "   get best result (When it was about getting min/max result)"
   ]
  },
  {
   "cell_type": "raw",
   "id": "1daf5c54",
   "metadata": {},
   "source": [
    "Sub-array/sub-string vs Sub-Sequence:\n",
    "\n",
    "Sub Array:\n",
    "A subarray is a contiguous part of array. An array that is inside another array. For example, consider the array [1, 2, 3, 4], There are 10 non-empty sub-arrays. The subarrays are (1), (2), (3), (4), (1,2), (2,3), (3,4), (1,2,3), (2,3,4) and (1,2,3,4). In general, for an array/string of size n, there are n*(n+1)/2 non-empty subarrays/substrings.\n",
    "\n",
    "Sub Sequence:\n",
    "A subsequence is a sequence that can be derived from another sequence by removing zero or more elements, without changing the order of the remaining elements. \n",
    "For the same example, there are 15 sub-sequences. They are (1), (2), (3), (4), (1,2), (1,3),(1,4), (2,3), (2,4), (3,4), (1,2,3), (1,2,4), (1,3,4), (2,3,4), (1,2,3,4). \n",
    "More generally, we can say that for a sequence of size n, we can have (2n-1) non-empty sub-sequences in total. \n",
    "\n",
    "A string example to differentiate: Consider strings “geeksforgeeks” and “gks”. “gks” is a subsequence of “geeksforgeeks” but not a substring. “geeks” is both a subsequence and subarray. Every subarray is a subsequence. More specifically,"
   ]
  },
  {
   "cell_type": "code",
   "execution_count": null,
   "id": "ecd5cdd1",
   "metadata": {},
   "outputs": [],
   "source": []
  },
  {
   "cell_type": "markdown",
   "id": "88a4561c",
   "metadata": {},
   "source": [
    "### 102. maximum sum such that no 2 elements are adjacent"
   ]
  },
  {
   "cell_type": "raw",
   "id": "cf30f20c",
   "metadata": {},
   "source": [
    "Stickler the thief wants to loot money from a society having n houses in a single line. He is a weird person and follows a certain rule when looting the houses. According to the rule, he will never loot two consecutive houses. At the same time, he wants to maximize the amount he loots. The thief knows which house has what amount of money but is unable to come up with an optimal looting strategy. He asks for your help to find the maximum money he can get if he strictly follows the rule. Each house has a[i]amount of money present in it.\n",
    "\n",
    "Example 1:\n",
    "\n",
    "Input:\n",
    "n = 6\n",
    "a[] = {5,5,10,100,10,5}\n",
    "Output: 110\n",
    "Explanation: 5+100+5=110"
   ]
  },
  {
   "cell_type": "raw",
   "id": "b9255b89",
   "metadata": {},
   "source": [
    "recursive relation:\n",
    "\n",
    "For every element in array, there are two posibilities.\n",
    "1. include that element\n",
    "f(n) = f(n-2) + cost[n]\n",
    "\n",
    "2. exclude that element\n",
    "f(n) = f(n-1) + 0\n",
    "\n",
    "base condition:\n",
    "if n < 0: return 0\n",
    "if n == 0 return a[0]"
   ]
  },
  {
   "cell_type": "code",
   "execution_count": 104,
   "id": "7ae9c3fc",
   "metadata": {},
   "outputs": [],
   "source": [
    "# Recursive solution\n",
    "\n",
    "class Solution:  \n",
    "    def solve(self,a,n,i):\n",
    "        if i == 0:\n",
    "            return a[i]\n",
    "        \n",
    "        if i < 0:\n",
    "            return 0\n",
    "    \n",
    "        include = self.solve(a, n, i-2) + a[i]\n",
    "        exclude = self.solve(a, n, i-1) + 0\n",
    "        \n",
    "        return max(include, exclude)\n",
    "    \n",
    "    def FindMaxSum(self,a, n):\n",
    "        i = n-1\n",
    "        return self.solve(a, n, i)\n",
    "    \n",
    "# Time comp:O(2^n)\n",
    "# Space comp:O(N)   (due to recursive stack)"
   ]
  },
  {
   "cell_type": "code",
   "execution_count": 105,
   "id": "41969311",
   "metadata": {},
   "outputs": [
    {
     "data": {
      "text/plain": [
       "110"
      ]
     },
     "execution_count": 105,
     "metadata": {},
     "output_type": "execute_result"
    }
   ],
   "source": [
    "s = Solution()\n",
    "s.FindMaxSum([5,5,10,100,10,5],6)"
   ]
  },
  {
   "cell_type": "code",
   "execution_count": 106,
   "id": "d9372219",
   "metadata": {},
   "outputs": [],
   "source": [
    "# DP: Top down approach\n",
    "\n",
    "class Solution:\n",
    "    def __init__(self):\n",
    "        self.table = []\n",
    "    \n",
    "    def solve(self,a,n,i):\n",
    "        if i == 0:\n",
    "            return a[i]\n",
    "        \n",
    "        if i < 0:\n",
    "            return 0\n",
    "    \n",
    "        if self.table[i] != -1:\n",
    "            return self.table[i]\n",
    "    \n",
    "        include = self.solve(a, n, i-2) + a[i]\n",
    "        exclude = self.solve(a, n, i-1) + 0\n",
    "        \n",
    "        self.table[i] = max(include, exclude)\n",
    "        \n",
    "        return self.table[i]\n",
    "    \n",
    "    def FindMaxSum(self,a, n):\n",
    "        self.table = [-1 for i in range(n)]\n",
    "        i = n-1\n",
    "        return self.solve(a, n, i)\n",
    "    \n",
    "# Time comp:O(N)\n",
    "# Space comp:O(N)   (due to recursive stack)"
   ]
  },
  {
   "cell_type": "code",
   "execution_count": 107,
   "id": "998a56f5",
   "metadata": {},
   "outputs": [
    {
     "data": {
      "text/plain": [
       "110"
      ]
     },
     "execution_count": 107,
     "metadata": {},
     "output_type": "execute_result"
    }
   ],
   "source": [
    "s = Solution()\n",
    "s.FindMaxSum([5,5,10,100,10,5],6)"
   ]
  },
  {
   "cell_type": "code",
   "execution_count": 112,
   "id": "1df9dc1d",
   "metadata": {},
   "outputs": [],
   "source": [
    "# DP: Bottom up approach\n",
    "\n",
    "class Solution:\n",
    "    def __init__(self):\n",
    "        self.table = []\n",
    "    \n",
    "    def solve(self,a,n):\n",
    "        if len(a) == 1:\n",
    "            return a[0]\n",
    "        \n",
    "        for j in range(1,n):\n",
    "            if j-2 >= 0:\n",
    "                include = self.table[j-2] + a[j]\n",
    "            else:\n",
    "                include = a[j]\n",
    "                \n",
    "            exclude = self.table[j-1] + 0\n",
    "            \n",
    "            self.table[j] = max(include, exclude)\n",
    "        \n",
    "        return self.table[n-1]\n",
    "    \n",
    "    def FindMaxSum(self,a, n):\n",
    "        self.table = [0 for i in range(n)]\n",
    "        self.table[0] = a[0]\n",
    "        return self.solve(a, n)\n",
    "    \n",
    "# Time comp:O(N)\n",
    "# Space comp:O(N)   (due to recursive stack)"
   ]
  },
  {
   "cell_type": "code",
   "execution_count": 113,
   "id": "d404987a",
   "metadata": {},
   "outputs": [
    {
     "data": {
      "text/plain": [
       "110"
      ]
     },
     "execution_count": 113,
     "metadata": {},
     "output_type": "execute_result"
    }
   ],
   "source": [
    "s = Solution()\n",
    "s.FindMaxSum([5,5,10,100,10,5],6)"
   ]
  },
  {
   "cell_type": "code",
   "execution_count": 118,
   "id": "50f6d9fd",
   "metadata": {},
   "outputs": [],
   "source": [
    "# Space optimal solution\n",
    "\n",
    "class Solution:\n",
    "    def solve(self,a,n,last,second_last):\n",
    "        for j in range(1,n):\n",
    "            if j-2 >= 0:\n",
    "                include = second_last + a[j]\n",
    "            else:\n",
    "                include = a[j]\n",
    "                \n",
    "            exclude = last + 0\n",
    "            \n",
    "            second_last = last\n",
    "            last = max(include, exclude)\n",
    "        \n",
    "        return last\n",
    "    \n",
    "    def FindMaxSum(self,a, n):\n",
    "        last = a[0]\n",
    "        second_last = 0\n",
    "        return self.solve(a, n, last, second_last)\n",
    "    \n",
    "# Time comp:O(N)\n",
    "# Space comp:O(1)"
   ]
  },
  {
   "cell_type": "code",
   "execution_count": 119,
   "id": "5548f88b",
   "metadata": {},
   "outputs": [
    {
     "data": {
      "text/plain": [
       "110"
      ]
     },
     "execution_count": 119,
     "metadata": {},
     "output_type": "execute_result"
    }
   ],
   "source": [
    "s = Solution()\n",
    "s.FindMaxSum([5,5,10,100,10,5],6)"
   ]
  },
  {
   "cell_type": "raw",
   "id": "34ef6010",
   "metadata": {},
   "source": [
    "Que: (https://www.codingninjas.com/codestudio/problems/house-robber_839733?leftPanelTab=1)\n",
    "\n",
    "Video link: (https://www.youtube.com/watch?v=3WaxQMELSkw&list=PLgUwDviBIf0qUlt5H_kiKYaNSqJ81PMMY&index=7)\n",
    "\n",
    "If its given that, all the array A is actually in a circular form,\n",
    "Then we can't include first and last element togather in ans.\n",
    "\n",
    "Following is solution for that.\n"
   ]
  },
  {
   "cell_type": "code",
   "execution_count": 127,
   "id": "6c97245e",
   "metadata": {},
   "outputs": [],
   "source": [
    "class Solution:\n",
    "    def solve(self,a,n,last,second_last):\n",
    "        for j in range(1,n):\n",
    "            if j-2 >= 0:\n",
    "                include = second_last + a[j]\n",
    "            else:\n",
    "                include = a[j]\n",
    "                \n",
    "            exclude = last + 0\n",
    "            \n",
    "            second_last = last\n",
    "            last = max(include, exclude)\n",
    "        \n",
    "        return last\n",
    "    \n",
    "    def FindMaxSum(self,a, n):\n",
    "        \n",
    "        # Include the last one and ignore the first element\n",
    "        last = a[0]\n",
    "        second_last = 0\n",
    "        x = self.solve(a[:n-1], n-1, last, second_last)\n",
    "        \n",
    "        # Include the first one and ignore the last element\n",
    "        last = a[1]\n",
    "        second_last = 0\n",
    "        y = self.solve(a[1:], n-1, last, second_last)\n",
    "        \n",
    "        return max(x,y)\n",
    "    \n",
    "# Time comp:O(N)\n",
    "# Space comp:O(1)"
   ]
  },
  {
   "cell_type": "code",
   "execution_count": 128,
   "id": "8e1e76ec",
   "metadata": {},
   "outputs": [
    {
     "name": "stdout",
     "output_type": "stream",
     "text": [
      "4\n",
      "15\n"
     ]
    }
   ],
   "source": [
    "s = Solution()\n",
    "print(s.FindMaxSum([1, 3, 2, 1],4))\n",
    "print(s.FindMaxSum([6, 5, 4, 3, 2, 1, 7],7))"
   ]
  },
  {
   "cell_type": "code",
   "execution_count": null,
   "id": "19bb3009",
   "metadata": {},
   "outputs": [],
   "source": []
  },
  {
   "cell_type": "markdown",
   "id": "964937ee",
   "metadata": {},
   "source": [
    "### 380. Coin Change Problem"
   ]
  },
  {
   "cell_type": "raw",
   "id": "fea7b078",
   "metadata": {},
   "source": [
    "Given a value N, find the number of ways to make change for N cents, if we have infinite supply of each of S = { S1, S2, .. , SM } valued coins.\n",
    "\n",
    "\n",
    "Example 1:\n",
    "\n",
    "Input:\n",
    "n = 4 , m = 3\n",
    "S[] = {1,2,3}\n",
    "Output: 4\n",
    "Explanation: Four Possible ways are:\n",
    "{1,1,1,1},{1,1,2},{2,2},{1,3}. "
   ]
  },
  {
   "cell_type": "code",
   "execution_count": null,
   "id": "272127a5",
   "metadata": {},
   "outputs": [],
   "source": [
    "# Recursive solution\n",
    "# Its based on pick and not pick, But when we pick then don't move i pointer\n",
    "\n",
    "class Solution:\n",
    "    def solve(self,S,m,n,i):\n",
    "        if i == 0:\n",
    "            if n % S[0] == 0:\n",
    "                return 1\n",
    "            return 0\n",
    "            \n",
    "        not_take = self.solve(S,m,n,i-1)\n",
    "        \n",
    "        take = 0\n",
    "        # It can take that number only when curr number is less than target value\n",
    "        if S[i] <= n:\n",
    "            take = self.solve(S,m,n-S[i],i)\n",
    "        \n",
    "        return take+not_take\n",
    "    \n",
    "    def count(self, S, m, n): \n",
    "        i = m-1\n",
    "        return self.solve(S,m,n,i)\n",
    "    \n",
    "# Time comp:O(2^m)          # Here m is number of coins\n",
    "# Space comp:O(n)           # n is target sum, and recursin depth can n in worst case"
   ]
  },
  {
   "cell_type": "code",
   "execution_count": 144,
   "id": "e9773dad",
   "metadata": {},
   "outputs": [],
   "source": [
    "# DP: Top down approach\n",
    "\n",
    "class Solution:\n",
    "    def solve(self,S,m,n,i,table):\n",
    "        if i == 0:\n",
    "            if n % S[0] == 0:\n",
    "                return 1\n",
    "            return 0\n",
    "            \n",
    "        if table[i-1][n] != -1:\n",
    "            not_take = table[i-1][n]\n",
    "        else:\n",
    "            not_take = self.solve(S,m,n,i-1,table)\n",
    "        \n",
    "        take = 0\n",
    "        if S[i] <= n:\n",
    "            if table[i][n-S[i]] != -1:\n",
    "                take = table[i][n-S[i]]\n",
    "            else:\n",
    "                take = self.solve(S,m,n-S[i],i,table)\n",
    "        \n",
    "        table[i][n] = take+not_take\n",
    "        \n",
    "        return table[i][n]\n",
    "    \n",
    "    def count(self, S, m, n):\n",
    "        table = [[-1 for i in range(n+1)] for j in range(m)]\n",
    "        i = m-1\n",
    "        return self.solve(S,m,n,i,table)\n",
    "    \n",
    "# Time comp:O(N*M)     N=target, M=number of coins\n",
    "# Time comp:O(N*M)    (Recursion stack:O(N))"
   ]
  },
  {
   "cell_type": "code",
   "execution_count": 145,
   "id": "3974a38c",
   "metadata": {},
   "outputs": [],
   "source": [
    "# DP: Bottom up approach\n",
    "\n",
    "class Solution:\n",
    "    def count(self, S, m, n):\n",
    "        table = [[0 for i in range(n+1)] for j in range(m)]\n",
    "        for i in range(n+1):\n",
    "            if i % S[0] == 0:\n",
    "                table[0][i] = 1\n",
    "            else:\n",
    "                table[0][i] = 0\n",
    "        \n",
    "        for i in range(1,m):\n",
    "            for j in range(n+1):\n",
    "                not_take = table[i-1][j]\n",
    "                take = 0\n",
    "                if S[i] <= j:\n",
    "                    take = table[i][j-S[i]]\n",
    "                    \n",
    "                table[i][j] = take+not_take\n",
    "           \n",
    "        return table[m-1][n]\n",
    "    \n",
    "# Time comp:O(N*M)\n",
    "# Space comp:O(N*M)"
   ]
  },
  {
   "cell_type": "code",
   "execution_count": 147,
   "id": "f0a9dbe0",
   "metadata": {},
   "outputs": [
    {
     "data": {
      "text/plain": [
       "4"
      ]
     },
     "execution_count": 147,
     "metadata": {},
     "output_type": "execute_result"
    }
   ],
   "source": [
    "s = Solution()\n",
    "s.count([1,2,3],3,4)"
   ]
  },
  {
   "cell_type": "code",
   "execution_count": 186,
   "id": "65a81cbd",
   "metadata": {},
   "outputs": [],
   "source": [
    "# Space optimization:\n",
    "# Just two rows need to store\n",
    "\n",
    "class Solution:\n",
    "    def count(self, S, m, n):\n",
    "        prev = [0 for i in range(n+1)]\n",
    "        curr = [0 for i in range(n+1)]\n",
    "        for i in range(n+1):\n",
    "            if i % S[0] == 0:\n",
    "                prev[i] = 1\n",
    "            else:\n",
    "                prev[i] = 0\n",
    "        \n",
    "        for i in range(1,m):\n",
    "            for j in range(n+1):\n",
    "                not_take = prev[j]\n",
    "                take = 0\n",
    "                if S[i] <= j:\n",
    "                    take = curr[j-S[i]]\n",
    "                    \n",
    "                curr[j] = take+not_take\n",
    "            prev = curr[:]\n",
    "        \n",
    "        return curr[n]\n",
    "    \n",
    "# Time comp:O(N*M)\n",
    "# Space comp:O(N)"
   ]
  },
  {
   "cell_type": "code",
   "execution_count": 187,
   "id": "cffcb02f",
   "metadata": {},
   "outputs": [
    {
     "data": {
      "text/plain": [
       "4"
      ]
     },
     "execution_count": 187,
     "metadata": {},
     "output_type": "execute_result"
    }
   ],
   "source": [
    "s = Solution()\n",
    "s.count([1,2,3],3,4)"
   ]
  },
  {
   "cell_type": "code",
   "execution_count": null,
   "id": "ffa8043a",
   "metadata": {},
   "outputs": [],
   "source": []
  },
  {
   "cell_type": "markdown",
   "id": "dc38c5b5",
   "metadata": {},
   "source": [
    "### 381. 0 - 1 Knapsack Problem"
   ]
  },
  {
   "cell_type": "raw",
   "id": "05940226",
   "metadata": {},
   "source": [
    "Input:\n",
    "N = 3\n",
    "W = 4\n",
    "values[] = {1,2,3}\n",
    "weight[] = {4,5,1}\n",
    "Output: 3"
   ]
  },
  {
   "cell_type": "code",
   "execution_count": 158,
   "id": "f07e095d",
   "metadata": {},
   "outputs": [],
   "source": [
    "# Recursive solution\n",
    "# Based on pick and not pick approach\n",
    "\n",
    "class Solution:\n",
    "    def solve(self,capacity,weight,value,n,i):\n",
    "        if i == n:\n",
    "            return 0\n",
    "        \n",
    "        profit1 = 0\n",
    "        if weight[i] <= capacity:\n",
    "            profit1 = value[i] + self.solve(capacity-weight[i],weight,value,n,i+1)\n",
    "        \n",
    "        profit2 = self.solve(capacity,weight,value,n,i+1)\n",
    "        \n",
    "        return max(profit1,profit2)\n",
    "    \n",
    "    def knapSack(self,W, wt, val, n):\n",
    "        profit = 0\n",
    "        i = 0\n",
    "        return self.solve(W,wt,val,n,i)\n",
    "    \n",
    "# Time comp:O(2^N)\n",
    "# Space comp:O(N)"
   ]
  },
  {
   "cell_type": "code",
   "execution_count": 159,
   "id": "788e74bb",
   "metadata": {},
   "outputs": [
    {
     "data": {
      "text/plain": [
       "3"
      ]
     },
     "execution_count": 159,
     "metadata": {},
     "output_type": "execute_result"
    }
   ],
   "source": [
    "s = Solution()\n",
    "s.knapSack(4,[4,5,1],[1,2,3],3)"
   ]
  },
  {
   "cell_type": "code",
   "execution_count": 160,
   "id": "7af7969c",
   "metadata": {},
   "outputs": [],
   "source": [
    "# DP: Top down approach\n",
    "\n",
    "class Solution:\n",
    "    def solve(self,capacity,weight,value,n,i,table):\n",
    "        if i == n:\n",
    "            return 0\n",
    "        \n",
    "        if table[i][capacity] != -1:\n",
    "            return table[i][capacity]\n",
    "        \n",
    "        profit1 = 0\n",
    "        if weight[i] <= capacity:\n",
    "            profit1 = value[i] + self.solve(capacity-weight[i],weight,value,n,i+1,table)\n",
    "        profit2 = self.solve(capacity,weight,value,n,i+1,table)\n",
    "        \n",
    "        table[i][capacity] = max(profit1,profit2)\n",
    "        return table[i][capacity]\n",
    "    \n",
    "    def knapSack(self,W, wt, val, n):\n",
    "        table = [[-1 for i in range(W+1)] for j in range(n+1)]\n",
    "        profit = 0\n",
    "        i = 0\n",
    "        return self.solve(W,wt,val,n,i,table)\n",
    "    \n",
    "# Time comp:O(N*W)\n",
    "# Space comp:O(N*W)    (Recursion stack:O(N))"
   ]
  },
  {
   "cell_type": "code",
   "execution_count": 161,
   "id": "c291cc1d",
   "metadata": {},
   "outputs": [
    {
     "data": {
      "text/plain": [
       "3"
      ]
     },
     "execution_count": 161,
     "metadata": {},
     "output_type": "execute_result"
    }
   ],
   "source": [
    "s = Solution()\n",
    "s.knapSack(4,[4,5,1],[1,2,3],3)"
   ]
  },
  {
   "cell_type": "code",
   "execution_count": 178,
   "id": "cb8739fc",
   "metadata": {},
   "outputs": [],
   "source": [
    "# DP: Bottom up approach\n",
    "\n",
    "class Solution:\n",
    "    def knapSack(self,W, wt, val, n):\n",
    "        table = [[0 for i in range(W+1)] for j in range(n+1)]\n",
    "        \n",
    "        for ind in range(1,n+1):\n",
    "            for cap in range(W+1):\n",
    "                profit1 = 0\n",
    "                if wt[ind-1] <= cap:\n",
    "                    profit1 = table[ind-1][cap-wt[ind-1]] + val[ind-1]\n",
    "                profit2 = table[ind-1][cap]\n",
    "\n",
    "                table[ind][cap] = max(profit1,profit2)\n",
    "        \n",
    "        print(table)\n",
    "        return table[n][W]\n",
    "    \n",
    "# Time comp:O(N*W)\n",
    "# Space comp:O(N*W)"
   ]
  },
  {
   "cell_type": "code",
   "execution_count": 179,
   "id": "5af04dce",
   "metadata": {},
   "outputs": [
    {
     "name": "stdout",
     "output_type": "stream",
     "text": [
      "[[0, 0, 0, 0, 0], [0, 0, 0, 0, 1], [0, 0, 0, 0, 1], [0, 3, 3, 3, 3]]\n"
     ]
    },
    {
     "data": {
      "text/plain": [
       "3"
      ]
     },
     "execution_count": 179,
     "metadata": {},
     "output_type": "execute_result"
    }
   ],
   "source": [
    "s = Solution()\n",
    "s.knapSack(4,[4,5,1],[1,2,3],3)"
   ]
  },
  {
   "cell_type": "code",
   "execution_count": 188,
   "id": "dc42a4f3",
   "metadata": {},
   "outputs": [],
   "source": [
    "# Space optimized approach\n",
    "\n",
    "class Solution:\n",
    "    def knapSack(self,W, wt, val, n):\n",
    "        prev = [0 for i in range(W+1)]\n",
    "        curr = [0 for i in range(W+1)]\n",
    "        for ind in range(1,n+1):\n",
    "            for cap in range(W+1):\n",
    "                profit1 = 0\n",
    "                if wt[ind-1] <= cap:\n",
    "                    profit1 = prev[cap-wt[ind-1]] + val[ind-1]\n",
    "                profit2 = prev[cap]\n",
    "                curr[cap] = max(profit1,profit2)\n",
    "                    \n",
    "            prev = curr[:]\n",
    "        \n",
    "        return curr[W]\n",
    "    \n",
    "# Time comp:O(N*W)\n",
    "# Space comp:O(2N) = O(N)"
   ]
  },
  {
   "cell_type": "code",
   "execution_count": 189,
   "id": "23fe472d",
   "metadata": {},
   "outputs": [
    {
     "data": {
      "text/plain": [
       "3"
      ]
     },
     "execution_count": 189,
     "metadata": {},
     "output_type": "execute_result"
    }
   ],
   "source": [
    "s = Solution()\n",
    "s.knapSack(4,[4,5,1],[1,2,3],3)"
   ]
  },
  {
   "cell_type": "code",
   "execution_count": 194,
   "id": "831f443a",
   "metadata": {},
   "outputs": [],
   "source": [
    "# Most optimal solution\n",
    "# Here we are not even using two row. It can be done by using single row only as well\n",
    "\n",
    "class Solution:\n",
    "    def knapSack(self,W, wt, val, n):\n",
    "        prev = [0 for i in range(W+1)]\n",
    "        for ind in range(1,n+1):\n",
    "            \n",
    "            # just reverse the loop and try to fill the array from back side\n",
    "            for cap in range(W,-1,-1):\n",
    "                profit1 = 0\n",
    "                if wt[ind-1] <= cap:\n",
    "                    profit1 = prev[cap-wt[ind-1]] + val[ind-1]\n",
    "                profit2 = prev[cap]\n",
    "                prev[cap] = max(profit1,profit2)\n",
    "        \n",
    "        return prev[W]\n",
    "    \n",
    "# Time comp:O(N*W)\n",
    "# Space comp:O(N)"
   ]
  },
  {
   "cell_type": "code",
   "execution_count": 195,
   "id": "1dd6cccb",
   "metadata": {},
   "outputs": [
    {
     "data": {
      "text/plain": [
       "3"
      ]
     },
     "execution_count": 195,
     "metadata": {},
     "output_type": "execute_result"
    }
   ],
   "source": [
    "s = Solution()\n",
    "s.knapSack(4,[4,5,1],[1,2,3],3)"
   ]
  },
  {
   "cell_type": "code",
   "execution_count": null,
   "id": "bd62d6e4",
   "metadata": {},
   "outputs": [],
   "source": []
  },
  {
   "cell_type": "markdown",
   "id": "99f26e0e",
   "metadata": {},
   "source": [
    "### 384. Nth catalan number"
   ]
  },
  {
   "cell_type": "raw",
   "id": "6ac6a2ee",
   "metadata": {},
   "source": [
    "Given a number N. The task is to find the Nth catalan number.\n",
    "The first few Catalan numbers for N = 0, 1, 2, 3, … are 1, 1, 2, 5, 14, 42, 132, 429, 1430, 4862, …\n",
    "Note: Positions start from 0 as shown above.\n",
    "\n",
    "Example 1:\n",
    "\n",
    "Input:\n",
    "N = 5\n",
    "Output: 42"
   ]
  },
  {
   "cell_type": "raw",
   "id": "2ddf520d",
   "metadata": {},
   "source": [
    "Recursive Solution \n",
    "Catalan numbers satisfy the following recursive formula. \n",
    "\n",
    "\n",
    "C(n+1)= ∑ C(k) * C(n−k)   where k from 0 to n\n",
    "\n",
    "\n",
    "Following is the implementation of above recursive formula."
   ]
  },
  {
   "cell_type": "code",
   "execution_count": 424,
   "id": "b85d42eb",
   "metadata": {},
   "outputs": [],
   "source": [
    "# Recursive solution\n",
    "\n",
    "class Solution:\n",
    "    def solve(self,n):\n",
    "        if n <= 1:\n",
    "            return 1\n",
    "            \n",
    "        ans = 0\n",
    "        for i in range(n):\n",
    "            ans += self.solve(i) * self.solve(n-i-1)\n",
    "        \n",
    "        return ans\n",
    "        \n",
    "        \n",
    "    def findCatalan(self,n):\n",
    "        return self.solve(n)\n",
    "    \n",
    "# Time comp:O(exponential)\n",
    "# Space comp:O(N)"
   ]
  },
  {
   "cell_type": "code",
   "execution_count": 425,
   "id": "82b2d06c",
   "metadata": {},
   "outputs": [],
   "source": [
    "# DP: Top down approach\n",
    "\n",
    "class Solution:\n",
    "    def solve(self,n,table):\n",
    "        if n <= 1:\n",
    "            return 1\n",
    "            \n",
    "        if table[n] != -1:\n",
    "            return table[n]\n",
    "            \n",
    "        ans = 0\n",
    "        for i in range(n):\n",
    "            ans += self.solve(i,table) * self.solve(n-i-1,table)\n",
    "        \n",
    "        table[n] = ans\n",
    "        \n",
    "        return table[n]\n",
    "        \n",
    "        \n",
    "    def findCatalan(self,n):\n",
    "        table = [-1 for i in range(n+1)]\n",
    "        return self.solve(n,table)\n",
    "    \n",
    "# Time comp:O(N)\n",
    "# Space comp:O(N)"
   ]
  },
  {
   "cell_type": "code",
   "execution_count": 426,
   "id": "dd61624e",
   "metadata": {},
   "outputs": [],
   "source": [
    "# DP: Bottom up approach\n",
    "\n",
    "class Solution:\n",
    "    def findCatalan(self,n):\n",
    "        table = [0 for i in range(n+1)]\n",
    "        table[0] = 1\n",
    "        table[1] = 1\n",
    "        \n",
    "        for i in range(2,n+1):\n",
    "            for j in range(i):\n",
    "                table[i] += table[j] * table[i-j-1]\n",
    "        \n",
    "        return table[n]\n",
    "    \n",
    "# Time comp:O(N)\n",
    "# Space comp:O(N)"
   ]
  },
  {
   "cell_type": "code",
   "execution_count": 427,
   "id": "e604461e",
   "metadata": {},
   "outputs": [
    {
     "data": {
      "text/plain": [
       "42"
      ]
     },
     "execution_count": 427,
     "metadata": {},
     "output_type": "execute_result"
    }
   ],
   "source": [
    "s = Solution()\n",
    "s.findCatalan(5)"
   ]
  },
  {
   "cell_type": "code",
   "execution_count": null,
   "id": "eedc327a",
   "metadata": {},
   "outputs": [],
   "source": []
  },
  {
   "cell_type": "markdown",
   "id": "c796a3a5",
   "metadata": {},
   "source": [
    "### 385. Matrix Chain Multiplication "
   ]
  },
  {
   "cell_type": "raw",
   "id": "39c14f7d",
   "metadata": {},
   "source": [
    "Given a sequence of matrices, find the most efficient way to multiply these matrices together. The efficient way is the one that involves the least number of multiplications.\n",
    "\n",
    "The dimensions of the matrices are given in an array arr[] of size N (such that N = number of matrices + 1) where the ith matrix has the dimensions (arr[i-1] x arr[i]).\n",
    "\n",
    "Example 1:\n",
    "\n",
    "Input: N = 5\n",
    "arr = {40, 20, 30, 10, 30}\n",
    "Output: 26000\n",
    "Explaination: There are 4 matrices of dimension \n",
    "40x20, 20x30, 30x10, 10x30. Say the matrices are \n",
    "named as A, B, C, D. Out of all possible combinations,\n",
    "the most efficient way is (A*(B*C))*D. \n",
    "The number of operations are -\n",
    "20*30*10 + 40*20*10 + 40*10*30 = 26000."
   ]
  },
  {
   "cell_type": "code",
   "execution_count": 1,
   "id": "981abcce",
   "metadata": {},
   "outputs": [],
   "source": [
    "class Solution:\n",
    "    def solve(self,N,arr,i,j):\n",
    "        if i == j:\n",
    "            return 0\n",
    "        \n",
    "        ans = float(\"inf\")\n",
    "        for k in range(i,j):\n",
    "            step = (arr[i-1]*arr[k]*arr[j]) + self.solve(N,arr,i,k) + self.solve(N,arr,k+1,j)\n",
    "            ans = min(ans,step)\n",
    "        \n",
    "        return ans\n",
    "    \n",
    "    def matrixMultiplication(self, N, arr):\n",
    "        i = 1\n",
    "        j = N-1\n",
    "        return self.solve(N,arr,i,j)\n",
    "    \n",
    "# Time comp:O(2^N)\n",
    "# space comp:O(N)"
   ]
  },
  {
   "cell_type": "code",
   "execution_count": 2,
   "id": "dfb9069f",
   "metadata": {},
   "outputs": [
    {
     "data": {
      "text/plain": [
       "26000"
      ]
     },
     "execution_count": 2,
     "metadata": {},
     "output_type": "execute_result"
    }
   ],
   "source": [
    "s = Solution()\n",
    "s.matrixMultiplication(5,[40,20,30,10,30])"
   ]
  },
  {
   "cell_type": "code",
   "execution_count": null,
   "id": "7dac58a6",
   "metadata": {},
   "outputs": [],
   "source": [
    "# DP: Top down approach:\n",
    "\n",
    "class Solution:\n",
    "    def solve(self,N,arr,i,j,table):\n",
    "        if i == j:\n",
    "            return 0\n",
    "        \n",
    "        if table[i][j] != -1:\n",
    "            return table[i][j]\n",
    "        \n",
    "        ans = float(\"inf\")\n",
    "        for k in range(i,j):\n",
    "            step = (arr[i-1]*arr[k]*arr[j]) + self.solve(N,arr,i,k,table) + self.solve(N,arr,k+1,j,table)\n",
    "            ans = min(ans,step)\n",
    "        \n",
    "        table[i][j] = ans\n",
    "        return table[i][j]\n",
    "    \n",
    "    def matrixMultiplication(self, N, arr):\n",
    "        table = [[-1 for i in range(N)] for j in range(N)]\n",
    "        \n",
    "        i = 1\n",
    "        j = N-1\n",
    "        return self.solve(N,arr,i,j,table)\n",
    "    \n",
    "# Time comp:O(N*N)\n",
    "# space comp:O(N*N)   recursion stack:O(N)"
   ]
  },
  {
   "cell_type": "code",
   "execution_count": 3,
   "id": "6d6dc867",
   "metadata": {},
   "outputs": [],
   "source": [
    "# DP: Bottom up approach:\n",
    "\n",
    "class Solution:\n",
    "    def matrixMultiplication(self, N, arr):\n",
    "        table = [[-1 for i in range(N)] for j in range(N)]\n",
    "        \n",
    "        # Copy the base case\n",
    "        for i in range(N):\n",
    "            table[i][i] = 0\n",
    "                    \n",
    "        \n",
    "        for i in range(N-1,0,-1):\n",
    "            for j in range(i+1,N):\n",
    "                ans = float(\"inf\")\n",
    "                for k in range(i,j):\n",
    "                    step = (arr[i-1]*arr[k]*arr[j]) + table[i][k] + table[k+1][j]\n",
    "                    ans = min(ans,step)\n",
    "                table[i][j] = ans\n",
    "        \n",
    "        print(table)\n",
    "        return table[1][N-1]\n",
    "\n",
    "# Time comp:O(N*N)\n",
    "# space comp:O(N*N)   recursion stack:O(N)"
   ]
  },
  {
   "cell_type": "code",
   "execution_count": 4,
   "id": "c5c64407",
   "metadata": {},
   "outputs": [
    {
     "name": "stdout",
     "output_type": "stream",
     "text": [
      "[[0, -1, -1, -1, -1], [-1, 0, 24000, 14000, 26000], [-1, -1, 0, 6000, 12000], [-1, -1, -1, 0, 9000], [-1, -1, -1, -1, 0]]\n"
     ]
    },
    {
     "data": {
      "text/plain": [
       "26000"
      ]
     },
     "execution_count": 4,
     "metadata": {},
     "output_type": "execute_result"
    }
   ],
   "source": [
    "s = Solution()\n",
    "s.matrixMultiplication(5,[40,20,30,10,30])"
   ]
  },
  {
   "cell_type": "code",
   "execution_count": null,
   "id": "99c37479",
   "metadata": {},
   "outputs": [],
   "source": []
  },
  {
   "cell_type": "markdown",
   "id": "3a14a24a",
   "metadata": {},
   "source": [
    "### 387. subset sum equals to K"
   ]
  },
  {
   "cell_type": "raw",
   "id": "5e230749",
   "metadata": {},
   "source": [
    "Given an array of non-negative integers, and a value sum, determine if there is a subset of the given set with sum equal to given sum. \n",
    "\n",
    "\n",
    "Example 1:\n",
    "\n",
    "Input:\n",
    "N = 6\n",
    "arr[] = {3, 34, 4, 12, 5, 2}\n",
    "sum = 9\n",
    "Output: 1 \n",
    "Explanation: Here there exists a subset with\n",
    "sum = 9, 4+3+2 = 9.\n",
    "Example 2:\n",
    "\n",
    "Input:\n",
    "N = 6\n",
    "arr[] = {3, 34, 4, 12, 5, 2}\n",
    "sum = 30\n",
    "Output: 0 \n",
    "Explanation: There is no subset with sum 30."
   ]
  },
  {
   "cell_type": "code",
   "execution_count": 73,
   "id": "0740b6a7",
   "metadata": {},
   "outputs": [],
   "source": [
    "\"\"\"\n",
    "Backtracking solution based on pick and not pick approach\n",
    "\"\"\"\n",
    "\n",
    "class Solution:\n",
    "    def solve(self,arr,N,target,i):\n",
    "        if target == 0:\n",
    "            return True\n",
    "        if i >= N or target < 0:\n",
    "            return False\n",
    "        \n",
    "        target = target - arr[i]\n",
    "        \n",
    "        x = self.solve(arr,N,target,i+1)\n",
    "        if x == True:\n",
    "            return True\n",
    "        \n",
    "        target = target + arr[i]\n",
    "        return self.solve(arr,N,target,i+1)\n",
    "    \n",
    "    def isSubsetSum (self, N, arr, sum):\n",
    "        i = 0\n",
    "        x = self.solve(arr,N,sum,i)\n",
    "        if x == True:\n",
    "            return 1\n",
    "        return 0\n",
    "    \n",
    "# Time comp:O(2^N)\n",
    "# Space comp:O(N)    (Due to recursion stack)"
   ]
  },
  {
   "cell_type": "code",
   "execution_count": null,
   "id": "f94a0d91",
   "metadata": {},
   "outputs": [],
   "source": [
    "\"\"\"\n",
    "A recursive solution:\n",
    "\n",
    "For the subsequence problems follow this steps:\n",
    "1. express the recurance relation: f(index,target)\n",
    "2. Explore the possibilities of that index (picked or not picked) which returns true ot false\n",
    "3. return (picked or not picked)\n",
    "\n",
    "Here we take one pointer i which points current index and array after current index will only taken into consideration\n",
    "So here we are staring from index 0 to index n-1\n",
    "and for each index we will pick and not pick that element and check whether anyone of them gives solution or not\n",
    "\"\"\" \n",
    "\n",
    "class Solution:\n",
    "    def solve(self,arr,N,target,i):\n",
    "        if target == 0:\n",
    "            return True\n",
    "        \n",
    "        # If we are the last index and value of that index is same as target then return True else return False\n",
    "        if i == N-1:\n",
    "            if arr[i] == target:\n",
    "                return True\n",
    "            else:\n",
    "                return False\n",
    "        \n",
    "        not_take = self.solve(arr,N,target,i+1)\n",
    "        \n",
    "        take = False\n",
    "        if target >= arr[i]:\n",
    "            take = self.solve(arr,N,target-arr[i],i+1)\n",
    "        \n",
    "        return take or not_take\n",
    "    \n",
    "    def isSubsetSum (self, N, arr, sum):\n",
    "        i = 0\n",
    "        x = self.solve(arr,N,sum,i)\n",
    "        if x == True:\n",
    "            return 1\n",
    "        return 0\n",
    "\n",
    "# Time comp:O(2^N)\n",
    "# Space comp:O(N)    (Due to recursion stack)"
   ]
  },
  {
   "cell_type": "code",
   "execution_count": 78,
   "id": "c0301954",
   "metadata": {},
   "outputs": [],
   "source": [
    "# DP: Top down approach\n",
    "\n",
    "# Here we seen that, two variables are being changed in recursive function call\n",
    "# So we need to create 2D DP.\n",
    "# DP will be of size [N+1]*[target+1]\n",
    "\n",
    "class Solution:\n",
    "    def __init__(self):\n",
    "        self.table = None\n",
    "        \n",
    "    def solve(self,arr,N,target,i):\n",
    "        if target == 0:\n",
    "            return True\n",
    "        if i == N-1:\n",
    "            if arr[i] == target:\n",
    "                return True\n",
    "            else:\n",
    "                return False\n",
    "        \n",
    "        if self.table[i][target] != -1:\n",
    "            return self.table[i][target]\n",
    "        \n",
    "        not_take = self.solve(arr,N,target,i+1)\n",
    "        take = False\n",
    "        if target >= arr[i]:\n",
    "            take = self.solve(arr,N,target-arr[i],i+1)\n",
    "        \n",
    "        self.table[i][target] = (take or not_take)\n",
    "        return self.table[i][target]\n",
    "    \n",
    "    def isSubsetSum (self, N, arr, sum):\n",
    "        self.table = [[-1 for i in range(sum+1)] for j in range(N)]\n",
    "        i = 0\n",
    "        x = self.solve(arr,N,sum,i)\n",
    "        if x == True:\n",
    "            return 1\n",
    "        return 0\n",
    "    \n",
    "# Time comp:O(N * Target sum)\n",
    "# Space comp:O(N * Target sum) (to store DP)   (recursion stack:O(N))    "
   ]
  },
  {
   "cell_type": "code",
   "execution_count": 79,
   "id": "545995cc",
   "metadata": {},
   "outputs": [
    {
     "name": "stdout",
     "output_type": "stream",
     "text": [
      "1\n",
      "0\n"
     ]
    }
   ],
   "source": [
    "arr = [3, 34, 4, 12, 5, 2]\n",
    "s = Solution()\n",
    "print(s.isSubsetSum(6,[3, 34, 4, 12, 5, 2],9))\n",
    "print(s.isSubsetSum(6,[3, 34, 4, 12, 5, 2],30))"
   ]
  },
  {
   "cell_type": "code",
   "execution_count": 82,
   "id": "723a85e2",
   "metadata": {},
   "outputs": [],
   "source": [
    "# DP: Bottom up approach\n",
    "\n",
    "class Solution:\n",
    "    def __init__(self):\n",
    "        self.table = None\n",
    "        \n",
    "    def solve(self,arr,N,target):\n",
    "        for ind in range(1,N):\n",
    "            for tar in range(1,target + 1):\n",
    "                not_take = self.table[ind-1][tar]\n",
    "                take = False\n",
    "                if tar >= arr[ind]:\n",
    "                    take = self.table[ind-1][tar-arr[ind]]\n",
    "                \n",
    "                self.table[ind][tar] = (take or not_take)\n",
    "    \n",
    "    def isSubsetSum (self, N, arr, sum):\n",
    "        self.table = [[False for i in range(sum+1)] for j in range(N)]\n",
    "        for i in range(N):\n",
    "            self.table[i][0] = True\n",
    "            \n",
    "        if arr[0] <= sum:\n",
    "            self.table[0][arr[0]] = True\n",
    "        \n",
    "        self.solve(arr,N,sum)\n",
    "        \n",
    "        if self.table[N-1][sum]:\n",
    "            return 1\n",
    "        return 0\n",
    "    \n",
    "# Time comp:O(N * Target sum)\n",
    "# Space comp:O(N * Target sum) (to store DP) "
   ]
  },
  {
   "cell_type": "code",
   "execution_count": 83,
   "id": "5fb39e6d",
   "metadata": {},
   "outputs": [
    {
     "name": "stdout",
     "output_type": "stream",
     "text": [
      "1\n",
      "0\n"
     ]
    }
   ],
   "source": [
    "arr = [3, 34, 4, 12, 5, 2]\n",
    "s = Solution()\n",
    "print(s.isSubsetSum(6,[3, 34, 4, 12, 5, 2],9))\n",
    "print(s.isSubsetSum(6,[3, 34, 4, 12, 5, 2],30))"
   ]
  },
  {
   "cell_type": "raw",
   "id": "1da972f8",
   "metadata": {},
   "source": [
    "Variation to above problem:\n",
    "\n",
    "Que: Partition Equal Subset Sum\n",
    "\n",
    "Given an array arr[] of size N, check if it can be partitioned into two parts such that the sum of elements in both parts is the same.\n",
    "\n",
    "Example 1:\n",
    "\n",
    "Input: N = 4\n",
    "arr = {1, 5, 11, 5}\n",
    "Output: YES\n",
    "Explanation: \n",
    "The two parts are {1, 5, 5} and {11}.\n",
    "Example 2:\n",
    "\n",
    "Input: N = 3\n",
    "arr = {1, 3, 5}\n",
    "Output: NO\n",
    "Explanation: This array can never be \n",
    "partitioned into two such parts."
   ]
  },
  {
   "cell_type": "raw",
   "id": "a3f9b053",
   "metadata": {},
   "source": [
    "Here we will calculate total sum of array\n",
    "If sum is odd then not possible to divide it into two parts so return False\n",
    "Else our terget will be sum/2\n",
    "and then do same as we did in prev que"
   ]
  },
  {
   "cell_type": "code",
   "execution_count": 85,
   "id": "d17a2d8c",
   "metadata": {},
   "outputs": [],
   "source": [
    "class Solution:\n",
    "    def __init__(self):\n",
    "        self.table = None\n",
    "        \n",
    "    def solve(self,arr,N,target):\n",
    "        for ind in range(1,N):\n",
    "            for tar in range(1,target + 1):\n",
    "                not_take = self.table[ind-1][tar]\n",
    "                take = False\n",
    "                if tar >= arr[ind]:\n",
    "                    take = self.table[ind-1][tar-arr[ind]]\n",
    "                \n",
    "                self.table[ind][tar] = (take or not_take)\n",
    "        \n",
    "    def equalPartition(self, N, arr):\n",
    "        target = sum(arr)\n",
    "        if target % 2:\n",
    "            return 0\n",
    "        \n",
    "        target = target // 2\n",
    "        \n",
    "        self.table = [[False for i in range(target+1)] for j in range(N)]\n",
    "        for i in range(N):\n",
    "            self.table[i][0] = True\n",
    "            \n",
    "        if arr[0] <= target:\n",
    "            self.table[0][arr[0]] = True\n",
    "        \n",
    "        self.solve(arr,N,target)\n",
    "        \n",
    "        if self.table[N-1][target]:\n",
    "            return 1\n",
    "        return 0"
   ]
  },
  {
   "cell_type": "code",
   "execution_count": 86,
   "id": "bcc36cf9",
   "metadata": {},
   "outputs": [
    {
     "name": "stdout",
     "output_type": "stream",
     "text": [
      "1\n",
      "0\n"
     ]
    }
   ],
   "source": [
    "arr = [3, 34, 4, 12, 5, 2]\n",
    "s = Solution()\n",
    "print(s.equalPartition(4,[1, 5, 11, 5]))\n",
    "print(s.equalPartition(3,[1, 3, 5]))"
   ]
  },
  {
   "cell_type": "code",
   "execution_count": null,
   "id": "89b7b19b",
   "metadata": {},
   "outputs": [],
   "source": []
  },
  {
   "cell_type": "markdown",
   "id": "40c3c1bb",
   "metadata": {},
   "source": [
    "### 388. Friends Pairing Problem "
   ]
  },
  {
   "cell_type": "raw",
   "id": "7b4e92e6",
   "metadata": {},
   "source": [
    "Given N friends, each one can remain single or can be paired up with some other friend. Each friend can be paired only once. Find out the total number of ways in which friends can remain single or can be paired up.\n",
    "Note: Since answer can be very large, return your answer mod 10^9+7.\n",
    "\n",
    "\n",
    "Example 1:\n",
    "\n",
    "Input:N = 3\n",
    "Output: 4\n",
    "Explanation:\n",
    "{1}, {2}, {3} : All single\n",
    "{1}, {2,3} : 2 and 3 paired but 1 is single.\n",
    "{1,2}, {3} : 1 and 2 are paired but 3 is single.\n",
    "{1,3}, {2} : 1 and 3 are paired but 2 is single.\n",
    "Note that {1,2} and {2,1} are considered same."
   ]
  },
  {
   "cell_type": "code",
   "execution_count": null,
   "id": "9f554924",
   "metadata": {},
   "outputs": [],
   "source": [
    "# Recursive solution\n",
    "\n",
    "class Solution:\n",
    "    def solve(self,n):\n",
    "        if n < 2:\n",
    "            return 1\n",
    "        else:\n",
    "            return self.solve(n-1) + (n-1)*self.solve(n-2)\n",
    "    \n",
    "    def countFriendsPairings(self, n):\n",
    "        return self.solve(n) % 1000000007\n",
    "    \n",
    "# Time comp: Exponential\n",
    "# Space comp:O(N)"
   ]
  },
  {
   "cell_type": "code",
   "execution_count": null,
   "id": "160126d2",
   "metadata": {},
   "outputs": [],
   "source": [
    "# DP: Top down approach\n",
    "\n",
    "class Solution:\n",
    "    def solve(self,n,table):\n",
    "        if n < 2:\n",
    "            return 1\n",
    "        \n",
    "        if table[n] != -1:\n",
    "            return table[n]\n",
    "        \n",
    "        table[n] = self.solve(n-1,table) + (n-1)*self.solve(n-2,table)\n",
    "        return table[n]\n",
    "    \n",
    "    def countFriendsPairings(self, n):\n",
    "        table = [-1 for i in range(n+1)]\n",
    "        return self.solve(n,table) % 1000000007\n",
    "    \n",
    "# Time comp: O(N)\n",
    "# Space comp:O(N) + O(N)(for recursion stack)"
   ]
  },
  {
   "cell_type": "code",
   "execution_count": null,
   "id": "44a440aa",
   "metadata": {},
   "outputs": [],
   "source": [
    "# DP: Bottom up approach\n",
    "\n",
    "class Solution:\n",
    "    def countFriendsPairings(self, n):\n",
    "        table = [-1 for i in range(n+1)]\n",
    "        table[0] = 1\n",
    "        table[1] = 1\n",
    "        \n",
    "        for i in range(2,n+1):\n",
    "            table[i] = table[i-1] + (i-1)*table[i-2]\n",
    "        \n",
    "        return table[n] % 1000000007\n",
    "    \n",
    "# Time comp: O(N)\n",
    "# Space comp:O(N)"
   ]
  },
  {
   "cell_type": "code",
   "execution_count": null,
   "id": "c7caec36",
   "metadata": {},
   "outputs": [],
   "source": [
    "# DP: Space optimized approach\n",
    "\n",
    "class Solution:\n",
    "    def countFriendsPairings(self, n):\n",
    "        \n",
    "        first = 1\n",
    "        second = 1\n",
    "        \n",
    "        for i in range(2,n+1):\n",
    "            temp = second + (i-1)*first\n",
    "            first = second\n",
    "            second = temp\n",
    "        \n",
    "        return second % 1000000007\n",
    "    \n",
    "# Time comp: O(N)\n",
    "# Space comp:O(1)"
   ]
  },
  {
   "cell_type": "code",
   "execution_count": null,
   "id": "ac811c8f",
   "metadata": {},
   "outputs": [],
   "source": []
  },
  {
   "cell_type": "code",
   "execution_count": null,
   "id": "77990aa7",
   "metadata": {},
   "outputs": [],
   "source": []
  },
  {
   "cell_type": "markdown",
   "id": "6abb00e0",
   "metadata": {},
   "source": [
    "### 392. Maximize The Cut Segments"
   ]
  },
  {
   "cell_type": "raw",
   "id": "4f019c60",
   "metadata": {},
   "source": [
    "Given an integer N denoting the Length of a line segment. You need to cut the line segment in such a way that the cut length of a line segment each time is either x , y or z. Here x, y, and z are integers.\n",
    "After performing all the cut operations, your total number of cut segments must be maximum.\n",
    "\n",
    "Input:\n",
    "N = 4\n",
    "x = 2, y = 1, z = 1\n",
    "Output: 4\n",
    "Explanation:Total length is 4, and the cut\n",
    "lengths are 2, 1 and 1.  We can make\n",
    "maximum 4 segments each of length 1."
   ]
  },
  {
   "cell_type": "raw",
   "id": "db563428",
   "metadata": {},
   "source": [
    "Recursive relation:\n",
    "\n",
    "f(n) = max(f(n-x),f(n-y),f(n-z))\n",
    "\n",
    "base condition:\n",
    "f(0) = 0\n",
    "and if n < x,y,z then return -inf"
   ]
  },
  {
   "cell_type": "code",
   "execution_count": 71,
   "id": "6a08a18f",
   "metadata": {},
   "outputs": [],
   "source": [
    "# Recursive solution\n",
    "\n",
    "import sys\n",
    "sys.setrecursionlimit(10000)\n",
    "\n",
    "class Solution:\n",
    "    \n",
    "    def maxSeg(self,n,x,y,z):\n",
    "        if n == 0:\n",
    "            return 0\n",
    "            \n",
    "        if n<x and n<y and n<z:\n",
    "            return float('-inf')\n",
    "            \n",
    "        ans1 = self.maxSeg(n-x,x,y,z) + 1\n",
    "        ans2 = self.maxSeg(n-y,x,y,z) + 1\n",
    "        ans3 = self.maxSeg(n-z,x,y,z) + 1\n",
    "        \n",
    "        return max(ans1,ans2,ans3)\n",
    "    \n",
    "    def maximizeTheCuts(self,n,x,y,z):\n",
    "        ans = self.maxSeg(n,x,y,z)\n",
    "        if ans == float('-inf'):\n",
    "            return 0\n",
    "        return ans\n",
    "    \n",
    "# Time comp:O(3^n)\n",
    "# Space comp:(N)   (recursive stack)"
   ]
  },
  {
   "cell_type": "code",
   "execution_count": 72,
   "id": "9ebba0dc",
   "metadata": {},
   "outputs": [
    {
     "data": {
      "text/plain": [
       "2"
      ]
     },
     "execution_count": 72,
     "metadata": {},
     "output_type": "execute_result"
    }
   ],
   "source": [
    "s = Solution()\n",
    "s.maximizeTheCuts(5,5,3,2)"
   ]
  },
  {
   "cell_type": "code",
   "execution_count": null,
   "id": "b79b792b",
   "metadata": {},
   "outputs": [],
   "source": [
    "# DP: Top down approach\n",
    "\n",
    "import sys\n",
    "sys.setrecursionlimit(10000)\n",
    "\n",
    "class Solution:\n",
    "    def __init__(self):\n",
    "        self.table = []\n",
    "        \n",
    "    def maxSeg(self,n,x,y,z):\n",
    "        if n == 0:\n",
    "            return 0\n",
    "            \n",
    "        if n<x and n<y and n<z:\n",
    "            return float('-inf')\n",
    "            \n",
    "        if self.table[n] != -1:\n",
    "            return self.table[n]\n",
    "            \n",
    "        ans1 = self.maxSeg(n-x,x,y,z) + 1\n",
    "        ans2 = self.maxSeg(n-y,x,y,z) + 1\n",
    "        ans3 = self.maxSeg(n-z,x,y,z) + 1\n",
    "        \n",
    "        self.table[n] = max(ans1,ans2,ans3)\n",
    "        \n",
    "        return self.table[n]\n",
    "    \n",
    "    def maximizeTheCuts(self,n,x,y,z):\n",
    "        self.table = [-1 for i in range(n+1)]\n",
    "        ans = self.maxSeg(n,x,y,z)\n",
    "        if ans == float('-inf'):\n",
    "            return 0\n",
    "        return ans\n",
    "    \n",
    "# Time comp:O(N)\n",
    "# Space comp:O(N)   (DP table:O(N) + recursive stack:O(N))"
   ]
  },
  {
   "cell_type": "code",
   "execution_count": null,
   "id": "f3e8a183",
   "metadata": {},
   "outputs": [],
   "source": [
    "# DP: Bottom up approach\n",
    "\n",
    "import sys\n",
    "sys.setrecursionlimit(10000)\n",
    "\n",
    "class Solution:\n",
    "    def __init__(self):\n",
    "        self.table = []\n",
    "        \n",
    "    def maxSeg(self,n,x,y,z):\n",
    "        if n == 0:\n",
    "            return self.table[0]\n",
    "            \n",
    "        \n",
    "        for i in range(1,n+1):\n",
    "            ans1 = float('-inf')\n",
    "            ans2 = float('-inf')\n",
    "            ans3 = float('-inf')\n",
    "            \n",
    "            if i-x >= 0 and self.table[i-x] != -1:\n",
    "                ans1 = self.table[i-x] + 1\n",
    "            \n",
    "            if i-y >= 0 and self.table[i-y] != -1:\n",
    "                ans2 = self.table[i-y] + 1\n",
    "                \n",
    "            if i-z >= 0 and self.table[i-z] != -1:\n",
    "                ans3 = self.table[i-z] + 1\n",
    "                \n",
    "            self.table[i] = max(ans1,ans2,ans3)\n",
    "        \n",
    "        return self.table[n]\n",
    "    \n",
    "    def maximizeTheCuts(self,n,x,y,z):\n",
    "        self.table = [-1 for i in range(n+1)]\n",
    "        self.table[0] = 0\n",
    "        \n",
    "        ans = self.maxSeg(n,x,y,z)\n",
    "        if ans == float('-inf'):\n",
    "            return 0\n",
    "        return ans\n",
    "    \n",
    "# Time comp:O(N)\n",
    "# Space comp:O(N)   (DP table:O(N))"
   ]
  },
  {
   "cell_type": "code",
   "execution_count": null,
   "id": "d36dc76a",
   "metadata": {},
   "outputs": [],
   "source": [
    "# Space optimization is not possible in this que"
   ]
  },
  {
   "cell_type": "code",
   "execution_count": null,
   "id": "613e6ac1",
   "metadata": {},
   "outputs": [],
   "source": []
  },
  {
   "cell_type": "markdown",
   "id": "0842311a",
   "metadata": {},
   "source": [
    "### 393. Longest Common Subsequence "
   ]
  },
  {
   "cell_type": "raw",
   "id": "f2b33997",
   "metadata": {},
   "source": [
    "Given two sequences, find the length of longest subsequence present in both of them. Both the strings are of uppercase.\n",
    "\n",
    "Example 1:\n",
    "\n",
    "Input:\n",
    "A = 6, B = 6\n",
    "str1 = ABCDGH\n",
    "str2 = AEDFHR\n",
    "Output: 3\n",
    "Explanation: LCS for input Sequences\n",
    "“ABCDGH” and “AEDFHR” is “ADH” of\n",
    "length 3."
   ]
  },
  {
   "cell_type": "code",
   "execution_count": 310,
   "id": "92292998",
   "metadata": {},
   "outputs": [],
   "source": [
    "# Recursive solution\n",
    "\n",
    "class Solution:\n",
    "    def solve(self,s1,s2,i,j):\n",
    "        if i < 0 or j < 0:\n",
    "            return 0\n",
    "        if (i == 0 or j == 0) and s1[i] == s2[j]:\n",
    "            return 1\n",
    "        \n",
    "        if s1[i] == s2[j]:\n",
    "            # If both char are same and reduce i and j both\n",
    "            return 1 + self.solve(s1,s2,i-1,j-1)\n",
    "        else:\n",
    "            # Else one by one reduce both and check which one gives max result\n",
    "            x = self.solve(s1,s2,i,j-1)\n",
    "            y = self.solve(s1,s2,i-1,j)\n",
    "            return max(x,y)\n",
    "    \n",
    "    def lcs(self,x,y,s1,s2):\n",
    "        i = x-1\n",
    "        j = y-1\n",
    "        \n",
    "        return self.solve(s1,s2,i,j)\n",
    "    \n",
    "# Time comp:O(2^(N*M))\n",
    "# Space comp:O(N+M)"
   ]
  },
  {
   "cell_type": "code",
   "execution_count": 311,
   "id": "490eeb14",
   "metadata": {},
   "outputs": [],
   "source": [
    "# DP: Top down approach\n",
    "\n",
    "class Solution:\n",
    "    def solve(self,s1,s2,i,j,table):\n",
    "        if i < 0 or j < 0:\n",
    "            return 0\n",
    "        \n",
    "        # If we skip this part then also it will work perfectly\n",
    "        if (i == 0 or j == 0) and s1[i] == s2[j]:\n",
    "            return 1\n",
    "        \n",
    "        if table[i][j] != -1:\n",
    "            return table[i][j]\n",
    "        \n",
    "        if s1[i] == s2[j]:\n",
    "            table[i][j] = 1 + self.solve(s1,s2,i-1,j-1,table)\n",
    "        else:\n",
    "            x = self.solve(s1,s2,i,j-1,table)\n",
    "            y = self.solve(s1,s2,i-1,j,table)\n",
    "            table[i][j] = max(x,y)\n",
    "        \n",
    "        return table[i][j]\n",
    "    \n",
    "    def lcs(self,x,y,s1,s2):\n",
    "        i = x-1\n",
    "        j = y-1\n",
    "        \n",
    "        table = [[-1 for i in range(y)] for j in range(x)]\n",
    "        \n",
    "        return self.solve(s1,s2,i,j,table)\n",
    "    \n",
    "# Time comp:O(N*M)\n",
    "# Space comp:O(N*M)    Recursive depth: O(N+M)"
   ]
  },
  {
   "cell_type": "code",
   "execution_count": null,
   "id": "92077798",
   "metadata": {},
   "outputs": [],
   "source": [
    "# DP: Bottom up approach\n",
    "\n",
    "class Solution:\n",
    "    def lcs(self,x,y,s1,s2):\n",
    "        \n",
    "        #tabel table of x+1 * y+1 sized\n",
    "        table = [[-1 for i in range(y+1)] for j in range(x+1)]\n",
    "        \n",
    "        # Make first row and column as 0\n",
    "        for i in range(y+1):\n",
    "            table[0][i] = 0\n",
    "        for i in range(x+1):\n",
    "            table[i][0] = 0\n",
    "        \n",
    "        # We can directly initialized table with 0, in that no need to write above two for loop.\n",
    "        \n",
    "        # Other logic is same as above\n",
    "        for i in range(1,x+1):\n",
    "            for j in range(1,y+1):\n",
    "                if s1[i-1] == s2[j-1]:\n",
    "                    table[i][j] = 1 + table[i-1][j-1]\n",
    "                else:\n",
    "                    table[i][j] = max(table[i-1][j],table[i][j-1])\n",
    "        \n",
    "        return table[x][y]\n",
    "    \n",
    "# Time comp:O(N*M)\n",
    "# Space comp:O(N*M)"
   ]
  },
  {
   "cell_type": "code",
   "execution_count": 312,
   "id": "8e84f317",
   "metadata": {},
   "outputs": [],
   "source": [
    "# Space optimized approach\n",
    "\n",
    "class Solution:\n",
    "    def lcs(self,x,y,s1,s2):\n",
    "        prev = [0 for i in range(y+1)]\n",
    "        curr = [0 for i in range(y+1)]\n",
    "        \n",
    "        for i in range(1,x+1):\n",
    "            for j in range(1,y+1):\n",
    "                if s1[i-1] == s2[j-1]:\n",
    "                    curr[j] = 1 + prev[j-1]\n",
    "                else:\n",
    "                    curr[j] = max(prev[j],curr[j-1])\n",
    "            prev = curr[:]\n",
    "        \n",
    "        return curr[y]\n",
    "    \n",
    "# Time comp:O(N*M)\n",
    "# Space comp:O(M)"
   ]
  },
  {
   "cell_type": "code",
   "execution_count": 313,
   "id": "a556e168",
   "metadata": {},
   "outputs": [
    {
     "name": "stdout",
     "output_type": "stream",
     "text": [
      "3\n"
     ]
    }
   ],
   "source": [
    "s = Solution()\n",
    "print(s.lcs(6,6,'ABCDGH','AEDFHR'))"
   ]
  },
  {
   "cell_type": "raw",
   "id": "ae65958b",
   "metadata": {},
   "source": [
    "Addition to above que:\n",
    "\n",
    "You are given two strings s and t. Now your task is to print all longest common sub-sequences in lexicographical order.\n",
    "\n",
    "Example 1:\n",
    "\n",
    "Input: s = abaaa, t = baabaca\n",
    "Output: aaaa abaa baaa\n",
    "\n",
    "\n",
    "For this first we have to generate the table and for that we will use DP bottom up approach"
   ]
  },
  {
   "cell_type": "code",
   "execution_count": 342,
   "id": "49b12d38",
   "metadata": {},
   "outputs": [],
   "source": [
    "# DP bottom up then traverse from last cell to first cell\n",
    "\n",
    "class Solution:\n",
    "    def __init__(self):\n",
    "        self.output = []\n",
    "    \n",
    "    def solve(self,s1,s2,i,j,ans,table):\n",
    "        if i == 0 or j == 0:\n",
    "            if ans not in self.output:\n",
    "                self.output.append(ans)\n",
    "            return\n",
    "        \n",
    "        \n",
    "        if s1[i-1] == s2[j-1]:\n",
    "            ans = str(s1[i-1]) + ans\n",
    "            self.solve(s1,s2,i-1,j-1,ans,table)\n",
    "        else:\n",
    "            if table[i-1][j] > table[i][j-1]:\n",
    "                self.solve(s1,s2,i-1,j,ans,table)\n",
    "            elif table[i-1][j] < table[i][j-1]:\n",
    "                self.solve(s1,s2,i,j-1,ans,table)\n",
    "            else:\n",
    "                self.solve(s1,s2,i,j-1,ans,table)\n",
    "                self.solve(s1,s2,i-1,j,ans,table)\n",
    "        \n",
    "        return\n",
    "    \n",
    "    def all_longest_common_subsequences(self, s1, s2):\n",
    "        x = len(s1)\n",
    "        y = len(s2)\n",
    "        \n",
    "        #tabel table of x+1 * y+1 sized\n",
    "        table = [[0 for i in range(y+1)] for j in range(x+1)]\n",
    "        \n",
    "        for i in range(1,x+1):\n",
    "            for j in range(1,y+1):\n",
    "                if s1[i-1] == s2[j-1]:\n",
    "                    table[i][j] = 1 + table[i-1][j-1]\n",
    "                else:\n",
    "                    table[i][j] = max(table[i-1][j],table[i][j-1])\n",
    "        \n",
    "        i = x\n",
    "        j = y\n",
    "        ans = \"\"\n",
    "        self.solve(s1,s2,i,j,ans,table)\n",
    "        self.output.sort()\n",
    "        return self.output\n",
    "    \n",
    "# Time comp:O(3^n)    n = number of cell and from each cell we have 3 ways to move\n",
    "# Space comp:O(M*N)"
   ]
  },
  {
   "cell_type": "code",
   "execution_count": 343,
   "id": "29162020",
   "metadata": {},
   "outputs": [
    {
     "name": "stdout",
     "output_type": "stream",
     "text": [
      "['aaaa', 'abaa', 'baaa']\n"
     ]
    }
   ],
   "source": [
    "s = Solution()\n",
    "print(s.all_longest_common_subsequences('abaaa','baabaca'))"
   ]
  },
  {
   "cell_type": "code",
   "execution_count": 352,
   "id": "9f722149",
   "metadata": {},
   "outputs": [],
   "source": [
    "# Back tracking approach\n",
    "\n",
    "class Solution:\n",
    "    def __init__(self):\n",
    "        self.output = []\n",
    "    \n",
    "    def solve(self,s1,s2,i,j,ans,lcs):\n",
    "        if lcs == 0:\n",
    "            x = \"\".join(ans)\n",
    "            x = x[::-1]\n",
    "            if x not in self.output:\n",
    "                self.output.append(x)\n",
    "            return\n",
    "        \n",
    "        for r in range(i,len(s1)):\n",
    "            for c in range(j,len(s2)):\n",
    "                if s1[r] == s2[c]:\n",
    "                    ans.append(s1[r])\n",
    "                    self.solve(s1,s2,r+1,c+1,ans,lcs-1)\n",
    "                    ans.pop()\n",
    "        return\n",
    "    \n",
    "    def all_longest_common_subsequences(self, s1, s2):\n",
    "        x = len(s1)\n",
    "        y = len(s2)\n",
    "        \n",
    "        #tabel table of x+1 * y+1 sized\n",
    "        table = [[0 for i in range(y+1)] for j in range(x+1)]\n",
    "        \n",
    "        for i in range(1,x+1):\n",
    "            for j in range(1,y+1):\n",
    "                if s1[i-1] == s2[j-1]:\n",
    "                    table[i][j] = 1 + table[i-1][j-1]\n",
    "                else:\n",
    "                    table[i][j] = max(table[i-1][j],table[i][j-1])\n",
    "        \n",
    "        i = 0\n",
    "        j = 0\n",
    "        ans = []\n",
    "        self.solve(s1,s2,i,j,ans,table[x][y])\n",
    "        self.output.sort()\n",
    "        return self.output\n",
    "    \n",
    "# Time comp:O(n^4)   n = total char\n",
    "# Space comp:O(N*M)"
   ]
  },
  {
   "cell_type": "code",
   "execution_count": 353,
   "id": "20432b4b",
   "metadata": {},
   "outputs": [
    {
     "name": "stdout",
     "output_type": "stream",
     "text": [
      "['aaaa', 'aaab', 'aaba']\n"
     ]
    }
   ],
   "source": [
    "s = Solution()\n",
    "print(s.all_longest_common_subsequences('abaaa','baabaca'))"
   ]
  },
  {
   "cell_type": "code",
   "execution_count": null,
   "id": "e3008826",
   "metadata": {},
   "outputs": [],
   "source": []
  },
  {
   "cell_type": "markdown",
   "id": "b2ab1ecc",
   "metadata": {},
   "source": [
    "### 394. Longest Repeated Subsequence"
   ]
  },
  {
   "cell_type": "raw",
   "id": "c2bc8433",
   "metadata": {},
   "source": [
    "Given string str, find the length of the longest repeating subsequence such that it can be found twice in the given string.\n",
    "\n",
    "The two identified subsequences A and B can use the same ith character from string str if and only if that ith character has different indices in A and B. For example, A = \"xax\" and B = \"xax\" then the index of first \"x\" must be different in the original string for A and B.\n",
    "\n",
    "Example 1:\n",
    "\n",
    "Input:\n",
    "str = \"axxzxy\"\n",
    "Output: 2\n",
    "Explanation:\n",
    "The given array with indexes looks like\n",
    "a x x z x y \n",
    "0 1 2 3 4 5\n",
    "\n",
    "The longest subsequence is \"xx\". \n",
    "It appears twice as explained below.\n",
    "\n",
    "subsequence A\n",
    "x x\n",
    "0 1  <-- index of subsequence A\n",
    "------\n",
    "1 2  <-- index of str \n",
    "\n",
    "\n",
    "subsequence B\n",
    "x x\n",
    "0 1  <-- index of subsequence B\n",
    "------\n",
    "2 4  <-- index of str \n",
    "\n",
    "We are able to use character 'x' \n",
    "(at index 2 in str) in both subsequences\n",
    "as it appears on index 1 in subsequence A \n",
    "and index 0 in subsequence B."
   ]
  },
  {
   "cell_type": "code",
   "execution_count": null,
   "id": "21e1e5e5",
   "metadata": {},
   "outputs": [],
   "source": [
    "# Must watch: https://www.youtube.com/watch?v=hbTaCmQGqLg\n",
    "\n",
    "# Recursive relation\n",
    "\n",
    "class Solution:\n",
    "    def solve(self,S1,S2,i,j):\n",
    "        if i < 0 or j < 0:\n",
    "            return 0\n",
    "            \n",
    "        if S1[i] == S2[j] and i!=j:\n",
    "            return 1 + self.solve(S1,S2,i-1,j-1)\n",
    "        else:\n",
    "            return max(self.solve(S1,S2,i,j-1),self.solve(S1,S2,i-1,j))\n",
    "        \n",
    "    def LongestRepeatingSubsequence(self, str):\n",
    "        S1 = str   \n",
    "        S2 = str     \n",
    "        n = len(S1)\n",
    "        i = n-1\n",
    "        j = n-1\n",
    "\n",
    "        return self.solve(S1,S2,i,j)\n",
    "    \n",
    "# Time comp:O(2^N)\n",
    "# Space comp:O(N)"
   ]
  },
  {
   "cell_type": "code",
   "execution_count": null,
   "id": "fc12190d",
   "metadata": {},
   "outputs": [],
   "source": [
    "# DP: Top down approach\n",
    "\n",
    "class Solution:\n",
    "    def solve(self,S1,S2,i,j,table):\n",
    "        if i < 0 or j < 0:\n",
    "            return 0\n",
    "            \n",
    "        if table[i][j] != -1:\n",
    "            return table[i][j]\n",
    "            \n",
    "        if S1[i] == S2[j] and i!=j:\n",
    "            table[i][j] = 1 + self.solve(S1,S2,i-1,j-1,table)\n",
    "        else:\n",
    "            table[i][j] = max(self.solve(S1,S2,i,j-1,table),self.solve(S1,S2,i-1,j,table))\n",
    "        \n",
    "        return table[i][j]\n",
    "        \n",
    "    def LongestRepeatingSubsequence(self, str):\n",
    "        S1 = str\n",
    "        S2 = str    # Keep both the strings same\n",
    "        n = len(S1)\n",
    "        i = n-1\n",
    "        j = n-1\n",
    "\n",
    "        table = [[-1 for _ in range(n)] for _ in range(n)]\n",
    "\n",
    "        return self.solve(S1,S2,i,j,table)\n",
    "        \n",
    "    \n",
    "# Time comp:O(N*N)\n",
    "# Space comp:O(N*N)"
   ]
  },
  {
   "cell_type": "code",
   "execution_count": 421,
   "id": "cf3258c7",
   "metadata": {},
   "outputs": [],
   "source": [
    "# DP: Bottom up approach\n",
    "\n",
    "class Solution:\n",
    "    def LongestRepeatingSubsequence(self, str):\n",
    "        S1 = str\n",
    "        S2 = S1\n",
    "        n = len(S1)\n",
    "\n",
    "        table = [[0 for _ in range(n+1)] for _ in range(n+1)]\n",
    "\n",
    "        for i in range(1,n+1):\n",
    "            for j in range(1,n+1):\n",
    "                if S1[i-1] == S2[j-1] and i!=j:\n",
    "                    table[i][j] = 1 + table[i-1][j-1]\n",
    "                else:\n",
    "                    table[i][j] = max(table[i-1][j],table[i][j-1])\n",
    "        \n",
    "        return table[n][n]\n",
    "    \n",
    "# Time comp:O(N*N)\n",
    "# Space comp:O(N*N)"
   ]
  },
  {
   "cell_type": "code",
   "execution_count": 422,
   "id": "5c171c99",
   "metadata": {},
   "outputs": [
    {
     "data": {
      "text/plain": [
       "2"
      ]
     },
     "execution_count": 422,
     "metadata": {},
     "output_type": "execute_result"
    }
   ],
   "source": [
    "s = Solution()\n",
    "s.LongestRepeatingSubsequence('axxzxy')"
   ]
  },
  {
   "cell_type": "code",
   "execution_count": null,
   "id": "49921f47",
   "metadata": {},
   "outputs": [],
   "source": []
  },
  {
   "cell_type": "markdown",
   "id": "ed4843f6",
   "metadata": {},
   "source": [
    "### 395. Longest Increasing Subsequence"
   ]
  },
  {
   "cell_type": "raw",
   "id": "d3640fef",
   "metadata": {},
   "source": [
    "Given an array of integers, find the length of the longest (strictly) increasing subsequence from the given array.\n",
    "\n",
    "Example 1:\n",
    "\n",
    "Input:\n",
    "N = 16\n",
    "A[]={0,8,4,12,2,10,6,14,1,9,5,13,3,11,7,15}\n",
    "Output: 6\n",
    "Explanation:Longest increasing subsequence\n",
    "0 2 6 9 13 15, which has length 6"
   ]
  },
  {
   "cell_type": "code",
   "execution_count": 467,
   "id": "83feb2e2",
   "metadata": {},
   "outputs": [],
   "source": [
    "# Recursive soluiton (based on take and not take)\n",
    "\n",
    "class Solution:\n",
    "    def solve(self,a,n,i,prev):\n",
    "        if i >= n:\n",
    "            return 0\n",
    "        \n",
    "        not_take = 0 + self.solve(a,n,i+1,prev)    # Not taking as part of subsequence\n",
    "        \n",
    "        take = 0\n",
    "        if prev == -1 or a[prev] < a[i]:           # Will not be able to take all elements all the time\n",
    "            take = 1 + self.solve(a,n,i+1,i)       # Taking as part of subsequence\n",
    "        \n",
    "        return max(take,not_take)\n",
    "    \n",
    "    def longestSubsequence(self,a,n):\n",
    "        i = 0              # Current index\n",
    "        prev = -1          # Prev index\n",
    "        \n",
    "        return self.solve(a,n,i,prev)\n",
    "    \n",
    "# Time comp:O(2^N)\n",
    "# Space comp:O(N)"
   ]
  },
  {
   "cell_type": "code",
   "execution_count": 468,
   "id": "7f0c9737",
   "metadata": {},
   "outputs": [
    {
     "data": {
      "text/plain": [
       "3"
      ]
     },
     "execution_count": 468,
     "metadata": {},
     "output_type": "execute_result"
    }
   ],
   "source": [
    "s = Solution()\n",
    "s.longestSubsequence([5,8,3,7,9,1],6)"
   ]
  },
  {
   "cell_type": "code",
   "execution_count": 501,
   "id": "df512060",
   "metadata": {},
   "outputs": [],
   "source": [
    "# DP: Top down approach\n",
    "\n",
    "# Initially prev was be -1 on above method which is deficult to handle in dp table\n",
    "# To convert it to 1 based index for dp\n",
    " \n",
    "class Solution:\n",
    "    def solve(self,a,n,i,prev,table):\n",
    "        if i >= n or prev > n:\n",
    "            return 0\n",
    "        \n",
    "        if table[i][prev+1] != -1:\n",
    "            return table[i][prev+1]\n",
    "        \n",
    "        not_take = 0 + self.solve(a,n,i+1,prev,table)    # Not taking as part of subsequence\n",
    "        \n",
    "        take = 0\n",
    "        if prev == -1 or a[prev] < a[i]:\n",
    "            take = 1 + self.solve(a,n,i+1,i,table)    # Taking as part of subsequence\n",
    "        \n",
    "        table[i][prev+1] = max(take,not_take)\n",
    "        return table[i][prev+1]\n",
    "    \n",
    "    def longestSubsequence(self,a,n):\n",
    "        i = 0\n",
    "        prev = -1\n",
    "        \n",
    "        table = [[-1 for i in range(n+1)]for j in range(n)]\n",
    "        \n",
    "        x = self.solve(a,n,i,prev,table)\n",
    "        return x\n",
    "    \n",
    "    \n",
    "# Time comp:O(N*N)\n",
    "# Space comp:O(N*N)    (recursion stakc:O(N))"
   ]
  },
  {
   "cell_type": "code",
   "execution_count": 502,
   "id": "2ea0051a",
   "metadata": {},
   "outputs": [
    {
     "name": "stdout",
     "output_type": "stream",
     "text": [
      "[[3, -1, -1, -1, -1, -1, -1], [3, 2, -1, -1, -1, -1, -1], [3, 2, 1, -1, -1, -1, -1], [2, 2, 1, 2, -1, -1, -1], [1, 1, 1, 1, 1, -1, -1], [1, 0, 0, 0, 0, 0, -1]]\n"
     ]
    },
    {
     "data": {
      "text/plain": [
       "3"
      ]
     },
     "execution_count": 502,
     "metadata": {},
     "output_type": "execute_result"
    }
   ],
   "source": [
    "s = Solution()\n",
    "s.longestSubsequence([5,8,3,7,9,1],6)"
   ]
  },
  {
   "cell_type": "code",
   "execution_count": 516,
   "id": "81ed7a78",
   "metadata": {},
   "outputs": [],
   "source": [
    "# DP: Bottom up approach\n",
    "\n",
    "class Solution:\n",
    "    def longestSubsequence(self,a,n):\n",
    "        table = [[0 for i in range(n+1)]for j in range(n+1)]\n",
    "        \n",
    "        for i in range(n-1,-1,-1):\n",
    "            for prev in range(i-1,-2,-1):          # go till -2 becz 1 based index\n",
    "                not_take = 0 + table[i+1][prev+1]  # Not taking as part of subsequence\n",
    "        \n",
    "                take = 0\n",
    "                if prev == -1 or a[prev] < a[i]:\n",
    "                    take = 1 + table[i+1][i+1]     # Taking as part of subsequence\n",
    "\n",
    "                table[i][prev+1] = max(take,not_take)\n",
    "        \n",
    "        return table[0][0]\n",
    "    \n",
    "# Time comp:O(N*N)\n",
    "# Space comp:O(N*N)"
   ]
  },
  {
   "cell_type": "code",
   "execution_count": 517,
   "id": "57d0d57d",
   "metadata": {},
   "outputs": [
    {
     "data": {
      "text/plain": [
       "3"
      ]
     },
     "execution_count": 517,
     "metadata": {},
     "output_type": "execute_result"
    }
   ],
   "source": [
    "s = Solution()\n",
    "s.longestSubsequence([5,8,3,7,9,1],6)"
   ]
  },
  {
   "cell_type": "code",
   "execution_count": 518,
   "id": "82bdcbfa",
   "metadata": {},
   "outputs": [],
   "source": [
    "# Space optimized solution\n",
    "\n",
    "class Solution:\n",
    "    def longestSubsequence(self,a,n):\n",
    "        prev_row = [0 for i in range(n+1)]\n",
    "        curr = [0 for i in range(n+1)]\n",
    "        for i in range(n-1,-1,-1):\n",
    "            for prev in range(i-1,-2,-1):          # go till -2 becz 1 based index\n",
    "                not_take = 0 + prev_row[prev+1]    # Not taking as part of subsequence\n",
    "        \n",
    "                take = 0\n",
    "                if prev == -1 or a[prev] < a[i]:\n",
    "                    take = 1 + prev_row[i+1]       # Taking as part of subsequence\n",
    "\n",
    "                curr[prev+1] = max(take,not_take)\n",
    "            prev_row = curr[:]\n",
    "        \n",
    "        return curr[0]\n",
    "    \n",
    "# Time comp:O(N*N)\n",
    "# Space comp:O(N)"
   ]
  },
  {
   "cell_type": "code",
   "execution_count": 519,
   "id": "61f8126b",
   "metadata": {},
   "outputs": [
    {
     "data": {
      "text/plain": [
       "3"
      ]
     },
     "execution_count": 519,
     "metadata": {},
     "output_type": "execute_result"
    }
   ],
   "source": [
    "s = Solution()\n",
    "s.longestSubsequence([5,8,3,7,9,1],6)"
   ]
  },
  {
   "cell_type": "code",
   "execution_count": 526,
   "id": "a67ea4db",
   "metadata": {},
   "outputs": [],
   "source": [
    "# Another appraoch:\n",
    "\n",
    "# https://www.youtube.com/watch?v=IFfYfonAFGc&list=PLgUwDviBIf0qUlt5H_kiKYaNSqJ81PMMY&index=43\n",
    "\"\"\"\n",
    "we will create a dp of size n with initial value as 1\n",
    "at every element, we will check that what can be the longest subsequence that could be end at that index.\n",
    "\n",
    "for that, if prev value is less than curr element then\n",
    "just do 1 + dp[prev]\n",
    "and keep max of all at value of dp[curr]\n",
    "\n",
    "\"\"\"\n",
    "\n",
    "\n",
    "class Solution:\n",
    "    def longestSubsequence(self,a,n):\n",
    "        table = [1 for i in range(n)]\n",
    "        \n",
    "        for i in range(n):\n",
    "            for j in range(0,i):\n",
    "                if a[i] > a[j]:\n",
    "                    table[i] = max(table[i], 1+table[j])\n",
    "        \n",
    "        print(\"a :\",a)\n",
    "        print(\"dp:\",table)\n",
    "        return max(table)\n",
    "    \n",
    "# Time comp:O(N^2)\n",
    "# Space comp:O(N)"
   ]
  },
  {
   "cell_type": "code",
   "execution_count": 527,
   "id": "74bfa1c1",
   "metadata": {},
   "outputs": [
    {
     "name": "stdout",
     "output_type": "stream",
     "text": [
      "a : [5, 8, 3, 7, 9, 1]\n",
      "dp: [1, 2, 1, 2, 3, 1]\n"
     ]
    },
    {
     "data": {
      "text/plain": [
       "3"
      ]
     },
     "execution_count": 527,
     "metadata": {},
     "output_type": "execute_result"
    }
   ],
   "source": [
    "s = Solution()\n",
    "s.longestSubsequence([5,8,3,7,9,1],6)"
   ]
  },
  {
   "cell_type": "code",
   "execution_count": 532,
   "id": "d7742ca1",
   "metadata": {},
   "outputs": [],
   "source": [
    "# If it asked to print one of the longest inc subsequence\n",
    "\n",
    "class Solution:\n",
    "    def longestSubsequence(self,a,n):\n",
    "        table = [1 for i in range(n)]\n",
    "        m = 0\n",
    "        for i in range(n):\n",
    "            for j in range(0,i):\n",
    "                if a[i] > a[j]:\n",
    "                    table[i] = max(table[i], 1+table[j])\n",
    "            m = max(m,table[i])\n",
    "            \n",
    "        ans = []\n",
    "        for i in range(n-1,-1,-1):\n",
    "            if m == 0:\n",
    "                break\n",
    "            \n",
    "            if table[i] == m:\n",
    "                ans.append(a[i])\n",
    "                m -= 1\n",
    "        \n",
    "        print(ans[::-1])\n",
    "        "
   ]
  },
  {
   "cell_type": "code",
   "execution_count": 533,
   "id": "e07da0e6",
   "metadata": {},
   "outputs": [
    {
     "name": "stdout",
     "output_type": "stream",
     "text": [
      "[3, 7, 9]\n"
     ]
    }
   ],
   "source": [
    "s = Solution()\n",
    "s.longestSubsequence([5,8,3,7,9,1],6)"
   ]
  },
  {
   "cell_type": "code",
   "execution_count": null,
   "id": "83d284ec",
   "metadata": {},
   "outputs": [],
   "source": [
    "\"\"\"\n",
    "LIS using binary search:\n",
    "\n",
    "we will create a temp array and start reading element one by one from main array.\n",
    "And keep putting them at appropriate place in temp array.\n",
    "\n",
    "Since temp array will be sorted only, we can use binary search\n",
    "\n",
    "If curr element is greater than last element of temp, then just append it to temp array\n",
    "Else find its appropriate location in temp array and replace it\n",
    "\n",
    "If curr element is in temp array then its index will be the index for replace\n",
    "Else index of first greater element then curr element in the index to replace\n",
    "\"\"\""
   ]
  },
  {
   "cell_type": "code",
   "execution_count": 17,
   "id": "184d6c89",
   "metadata": {},
   "outputs": [
    {
     "name": "stdout",
     "output_type": "stream",
     "text": [
      "6\n",
      "------------\n",
      "5\n",
      "2\n",
      "1\n",
      "------------\n",
      "6\n",
      "5\n",
      "1\n"
     ]
    }
   ],
   "source": [
    "\"\"\"\n",
    "It is used for binary search\n",
    "\"\"\"\n",
    "\n",
    "import bisect\n",
    "\n",
    "li = [1, 3, 4, 4, 4, 6, 7]\n",
    "print (bisect.bisect(li, 6))\n",
    "print(\"------------\")\n",
    "# Same as std::lower_bound() of c++\n",
    "print (bisect.bisect_left(li, 6))\n",
    "print (bisect.bisect_left(li, 4))\n",
    "print (bisect.bisect_left(li, 2))\n",
    "\n",
    "print(\"------------\")\n",
    "# Same as std::upper_bound() of c++\n",
    "print (bisect.bisect_right(li, 6))\n",
    "print (bisect.bisect_right(li, 4))\n",
    "print (bisect.bisect_right(li, 2))"
   ]
  },
  {
   "cell_type": "code",
   "execution_count": 18,
   "id": "564520f8",
   "metadata": {},
   "outputs": [],
   "source": [
    "import bisect\n",
    "\n",
    "class Solution:\n",
    "    def lengthOfLIS(self, nums):\n",
    "        temp = []\n",
    "        temp.append(nums[0])\n",
    "        \n",
    "        for i in range(1,len(nums)):\n",
    "            if nums[i] > temp[-1]:\n",
    "                temp.append(nums[i])\n",
    "            else:\n",
    "                index = bisect.bisect_left(temp,nums[i])\n",
    "                temp[index] = nums[i]\n",
    "        \n",
    "        return len(temp)\n",
    "    \n",
    "# Time comp:O(N log N)\n",
    "# Space comp:O(N)"
   ]
  },
  {
   "cell_type": "code",
   "execution_count": 20,
   "id": "c431a7b1",
   "metadata": {},
   "outputs": [
    {
     "data": {
      "text/plain": [
       "3"
      ]
     },
     "execution_count": 20,
     "metadata": {},
     "output_type": "execute_result"
    }
   ],
   "source": [
    "s = Solution()\n",
    "s.lengthOfLIS([5,8,3,7,9,1])"
   ]
  },
  {
   "cell_type": "raw",
   "id": "f3eb2cb4",
   "metadata": {},
   "source": [
    "Variation of above prob:\n",
    "\n",
    "You are given an array of words where each word consists of lowercase English letters.\n",
    "\n",
    "wordA is a predecessor of wordB if and only if we can insert exactly one letter anywhere in wordA without changing the order of the other characters to make it equal to wordB.\n",
    "\n",
    "For example, \"abc\" is a predecessor of \"abac\", while \"cba\" is not a predecessor of \"bcad\".\n",
    "A word chain is a sequence of words [word1, word2, ..., wordk] with k >= 1, where word1 is a predecessor of word2, word2 is a predecessor of word3, and so on. A single word is trivially a word chain with k == 1.\n",
    "\n",
    "Return the length of the longest possible word chain with words chosen from the given list of words.\n",
    "\n",
    " \n",
    "\n",
    "Example 1:\n",
    "\n",
    "Input: words = [\"a\",\"b\",\"ba\",\"bca\",\"bda\",\"bdca\"]\n",
    "Output: 4\n",
    "Explanation: One of the longest word chains is [\"a\",\"ba\",\"bda\",\"bdca\"].\n",
    "Example 2:\n",
    "\n",
    "Input: words = [\"xbc\",\"pcxbcf\",\"xb\",\"cxbc\",\"pcxbc\"]\n",
    "Output: 5\n",
    "Explanation: All the words can be put in a word chain [\"xb\", \"xbc\", \"cxbc\", \"pcxbc\", \"pcxbcf\"]."
   ]
  },
  {
   "cell_type": "code",
   "execution_count": 22,
   "id": "4b51838b",
   "metadata": {},
   "outputs": [],
   "source": [
    "# https://www.youtube.com/watch?v=YY8iBaYcc4g&list=PLgUwDviBIf0qUlt5H_kiKYaNSqJ81PMMY&index=46\n",
    "\n",
    "from functools import cmp_to_key\n",
    "\n",
    "class Solution:\n",
    "    def compare(self,a,b):\n",
    "        if len(a)-len(b) != 1:\n",
    "            return False\n",
    "        \n",
    "        i = 0\n",
    "        j = 0\n",
    "        \n",
    "        while i < len(a):\n",
    "            if j < len(b) and a[i] == b[j]:\n",
    "                i += 1\n",
    "                j += 1\n",
    "            else:\n",
    "                i += 1\n",
    "        \n",
    "        if i == len(a) and j == len(b):\n",
    "            return True\n",
    "        return False\n",
    "    \n",
    "    def comp(self,s1,s2):\n",
    "        return len(s1) - len(s2)\n",
    "    \n",
    "    def longestStrChain(self, a):\n",
    "        n = len(a)\n",
    "        a.sort(key = cmp_to_key(self.comp))   # sort as per the length os the string\n",
    "        table = [1 for i in range(n)]\n",
    "        \n",
    "        for i in range(n):\n",
    "            for j in range(0,i):\n",
    "                if self.compare(a[i],a[j]):\n",
    "                    table[i] = max(table[i], 1+table[j])\n",
    "        \n",
    "        return max(table)\n",
    "    \n",
    "# Time comp:O(N^2)\n",
    "# Space comp:O(N log N)   (since sorting also take some space)"
   ]
  },
  {
   "cell_type": "code",
   "execution_count": 23,
   "id": "08223a35",
   "metadata": {},
   "outputs": [
    {
     "data": {
      "text/plain": [
       "5"
      ]
     },
     "execution_count": 23,
     "metadata": {},
     "output_type": "execute_result"
    }
   ],
   "source": [
    "s = Solution()\n",
    "s.longestStrChain([\"xbc\",\"pcxbcf\",\"xb\",\"cxbc\",\"pcxbc\"])"
   ]
  },
  {
   "cell_type": "code",
   "execution_count": null,
   "id": "0bad7e97",
   "metadata": {},
   "outputs": [],
   "source": []
  },
  {
   "cell_type": "markdown",
   "id": "c0555bfa",
   "metadata": {},
   "source": [
    "### 493. Longest Bitonic subsequence"
   ]
  },
  {
   "cell_type": "raw",
   "id": "26514703",
   "metadata": {},
   "source": [
    "Given an array of positive integers. Find the maximum length of Bitonic subsequence. A subsequence of array is called Bitonic if it is first increasing, then decreasing.\n",
    "(It can just be increase or just be decrease as well)\n",
    "\n",
    "Input: nums = [1, 2, 5, 3, 2]\n",
    "Output: 5\n",
    "Explanation: The sequence {1, 2, 5} is increasing and the sequence {3, 2} is decreasing so merging both we will get length 5.\n",
    "\n",
    "Input: nums = [1, 11, 2, 10, 4, 5, 2, 1]\n",
    "Output: 6\n",
    "Explanation: The bitonic sequence {1, 2, 10, 4, 2, 1} has length 6."
   ]
  },
  {
   "cell_type": "code",
   "execution_count": 30,
   "id": "457633a9",
   "metadata": {},
   "outputs": [],
   "source": [
    "\"\"\"\n",
    "For this we will make dp table from both the direction and\n",
    "In the final array, will combind both and return max of them.\n",
    "\n",
    "\"\"\"\n",
    "\n",
    "class Solution:\n",
    "    def LongestBitonicSequence(self,a):\n",
    "        n = len(a)\n",
    "        dp1 = [1 for i in range(n)]\n",
    "        dp2 = [1 for i in range(n)]\n",
    "        bitonic = [0 for i in range(n)]\n",
    "        for i in range(n):\n",
    "            for j in range(0,i):\n",
    "                if a[i] > a[j]:\n",
    "                    dp1[i] = max(dp1[i], 1+dp1[j])\n",
    "                    \n",
    "        for i in range(n-1,-1,-1):\n",
    "            for j in range(i,n):\n",
    "                if a[i] > a[j]:\n",
    "                    dp2[i] = max(dp2[i], 1+dp2[j])\n",
    "        \n",
    "        ans = 0\n",
    "        for i in range(n):\n",
    "            bitonic[i] = dp1[i] + dp2[i] - 1\n",
    "            ans = max(ans,bitonic[i])\n",
    "        \n",
    "        return ans\n",
    "    \n",
    "# Time comp:O(N^2)\n",
    "# Space comp:O(N)"
   ]
  },
  {
   "cell_type": "code",
   "execution_count": 31,
   "id": "1aa9ff5c",
   "metadata": {},
   "outputs": [
    {
     "data": {
      "text/plain": [
       "6"
      ]
     },
     "execution_count": 31,
     "metadata": {},
     "output_type": "execute_result"
    }
   ],
   "source": [
    "s = Solution()\n",
    "s.LongestBitonicSequence([1, 11, 2, 10, 4, 5, 2, 1])"
   ]
  },
  {
   "cell_type": "code",
   "execution_count": null,
   "id": "20e09ae4",
   "metadata": {},
   "outputs": [],
   "source": []
  },
  {
   "cell_type": "markdown",
   "id": "940aa76c",
   "metadata": {},
   "source": [
    "### 494. Number of Longest Increasing Subsequence"
   ]
  },
  {
   "cell_type": "raw",
   "id": "b00a3b85",
   "metadata": {},
   "source": [
    "Given an integer array nums, return the number of longest increasing subsequences.\n",
    "\n",
    "Notice that the sequence has to be strictly increasing.\n",
    "\n",
    "\n",
    "Example 1:\n",
    "Input: nums = [1,3,5,4,7]\n",
    "Output: 2\n",
    "Explanation: The two longest increasing subsequences are [1, 3, 4, 7] and [1, 3, 5, 7]."
   ]
  },
  {
   "cell_type": "code",
   "execution_count": 32,
   "id": "0224c932",
   "metadata": {},
   "outputs": [],
   "source": [
    "class Solution:\n",
    "    def findNumberOfLIS(self, a):\n",
    "        n = len(a)\n",
    "        table = [1 for i in range(n)]\n",
    "        count = [1 for i in range(n)]\n",
    "        lis = 0\n",
    "        for i in range(n):\n",
    "            for j in range(0,i):\n",
    "                if a[i] > a[j]:\n",
    "                    if 1+table[j] > table[i]:\n",
    "                        table[i] = 1+table[j]\n",
    "                        count[i] = count[j]\n",
    "                    elif 1+table[j] == table[i]:\n",
    "                        count[i] += count[j]\n",
    "            \n",
    "            lis = max(lis,table[i])\n",
    "            \n",
    "        ans = 0\n",
    "        for i in range(n):\n",
    "            if table[i] == lis:\n",
    "                ans += count[i]\n",
    "        return ans\n",
    "    \n",
    "# Time comp:O(N*N)\n",
    "# Space comp:O(N)"
   ]
  },
  {
   "cell_type": "code",
   "execution_count": 33,
   "id": "26105eb0",
   "metadata": {},
   "outputs": [
    {
     "data": {
      "text/plain": [
       "2"
      ]
     },
     "execution_count": 33,
     "metadata": {},
     "output_type": "execute_result"
    }
   ],
   "source": [
    "s = Solution()\n",
    "s.findNumberOfLIS([1,3,5,4,7])"
   ]
  },
  {
   "cell_type": "code",
   "execution_count": null,
   "id": "968fa131",
   "metadata": {},
   "outputs": [],
   "source": []
  },
  {
   "cell_type": "markdown",
   "id": "1312e9df",
   "metadata": {},
   "source": [
    "### 397. LCS (Longest Common Subsequence) of three strings"
   ]
  },
  {
   "cell_type": "raw",
   "id": "621df4f1",
   "metadata": {},
   "source": [
    "Given 3 strings A, B and C, the task is to find the longest common sub-sequence in all three given sequences.\n",
    "\n",
    "Example 1:\n",
    "\n",
    "Input:\n",
    "A = \"geeks\", B = \"geeksfor\", \n",
    "C = \"geeksforgeeks\"\n",
    "Output: 5\n",
    "Explanation: \"geeks\"is the longest common\n",
    "subsequence with length 5."
   ]
  },
  {
   "cell_type": "code",
   "execution_count": 366,
   "id": "c3bf8af0",
   "metadata": {},
   "outputs": [],
   "source": [
    "# DP: Top down approach\n",
    "\n",
    "class Solution:\n",
    "    def solve(self,A,B,C,n1,n2,n3,i,j,k,table):\n",
    "        if i < 0 or j < 0 or k < 0:\n",
    "            return 0\n",
    "        \n",
    "        if table[i][j][k] != -1:\n",
    "            return table[i][j][k]\n",
    "        \n",
    "        if A[i] == B[j] and A[i] == C[k]:\n",
    "            table[i][j][k] = 1 + self.solve(A,B,C,n1,n2,n3,i-1,j-1,k-1,table)\n",
    "        else:\n",
    "            x = self.solve(A,B,C,n1,n2,n3,i-1,j,k,table)\n",
    "            y = self.solve(A,B,C,n1,n2,n3,i,j-1,k,table)\n",
    "            z = self.solve(A,B,C,n1,n2,n3,i,j,k-1,table)\n",
    "            table[i][j][k] = max(x,y,z)\n",
    "        \n",
    "        return table[i][j][k]\n",
    "            \n",
    "    def LCSof3(self,A,B,C,n1,n2,n3):\n",
    "        \n",
    "        table = [[[-1 for i in range(n3)] for j in range(n2)] for k in range(n1)]\n",
    "        i = n1-1\n",
    "        j = n2-1\n",
    "        k = n3-1\n",
    "        return self.solve(A,B,C,n1,n2,n3,i,j,k,table)\n",
    "    \n",
    "# Time comp:O(N*M*K)\n",
    "# Space comp:O(N*M*K)     Recursive stack: O(n+m+k)"
   ]
  },
  {
   "cell_type": "code",
   "execution_count": 367,
   "id": "f6b12714",
   "metadata": {},
   "outputs": [
    {
     "name": "stdout",
     "output_type": "stream",
     "text": [
      "5\n"
     ]
    }
   ],
   "source": [
    "s = Solution()\n",
    "print(s.LCSof3('geeks','geeksfor','geeksforgeeks',5,8,13))"
   ]
  },
  {
   "cell_type": "code",
   "execution_count": null,
   "id": "be375db4",
   "metadata": {},
   "outputs": [],
   "source": [
    "# Bottom up is also possible, Do it later"
   ]
  },
  {
   "cell_type": "code",
   "execution_count": null,
   "id": "1d27eaf1",
   "metadata": {},
   "outputs": [],
   "source": []
  },
  {
   "cell_type": "markdown",
   "id": "07def4ba",
   "metadata": {},
   "source": [
    "### 398. Maximum Sum Increasing Subsequence"
   ]
  },
  {
   "cell_type": "raw",
   "id": "3d33ae0d",
   "metadata": {},
   "source": [
    "Given an array of n positive integers. Find the sum of the maximum sum subsequence of the given array such that the integers in the subsequence are sorted in strictly increasing order i.e. a strictly increasing subsequence. \n",
    "\n",
    "Example 1:\n",
    "\n",
    "Input: N = 5, arr[] = {1, 101, 2, 3, 100} \n",
    "Output: 106\n",
    "Explanation:The maximum sum of a\n",
    "increasing sequence is obtained from\n",
    "{1, 2, 3, 100}"
   ]
  },
  {
   "cell_type": "code",
   "execution_count": 544,
   "id": "ae512e83",
   "metadata": {},
   "outputs": [],
   "source": [
    "# We have seen a method through which we used to find longest increasing subsequence, it is work as bellow\n",
    "\n",
    "# https://www.youtube.com/watch?v=IFfYfonAFGc&list=PLgUwDviBIf0qUlt5H_kiKYaNSqJ81PMMY&index=43\n",
    "\"\"\"\n",
    "we will create a dp of size n with initial value as 1\n",
    "at every element, we will check that what can be the longest subsequence that could be end at that index.\n",
    "\n",
    "for that, if prev value is less than curr element then\n",
    "just do 1 + dp[prev]\n",
    "and keep max of all at value of dp[curr]\n",
    "\n",
    "\"\"\"\n",
    "\n",
    "\n",
    "class Solution:\n",
    "    def maxSumIS(self,a,n):\n",
    "        table = [1 for i in range(n)]\n",
    "        \n",
    "        for i in range(n):\n",
    "            for j in range(0,i):\n",
    "                if a[i] > a[j]:\n",
    "                    table[i] = max(table[i], 1+table[j])\n",
    "        \n",
    "        print(\"a :\",a)\n",
    "        print(\"dp:\",table)\n",
    "        return print(\"longest inc subseq:\",max(table))\n",
    "    \n",
    "# Time comp:O(N^2)\n",
    "# Space comp:O(N)"
   ]
  },
  {
   "cell_type": "code",
   "execution_count": 545,
   "id": "ee1efe3b",
   "metadata": {},
   "outputs": [
    {
     "name": "stdout",
     "output_type": "stream",
     "text": [
      "a : [1, 101, 2, 3, 100]\n",
      "dp: [1, 2, 2, 3, 4]\n",
      "longest inc seuseq: 4\n"
     ]
    }
   ],
   "source": [
    "s = Solution()\n",
    "s.maxSumIS([1, 101, 2, 3, 100],5)"
   ]
  },
  {
   "cell_type": "code",
   "execution_count": 548,
   "id": "334bb938",
   "metadata": {},
   "outputs": [],
   "source": [
    "\"\"\"\n",
    "Now we need to find max sum, and for that we just need to do some modification in above code\n",
    "After that, At each index, we will store the sum of longest inc subseq which end at that index\n",
    "\n",
    "\"\"\"\n",
    "\n",
    "class Solution:\n",
    "    def maxSumIS(self, a, n):\n",
    "        table = [0 for i in range(n)]\n",
    "        \n",
    "        # Initialise all the index with original values\n",
    "        for i in range(n):\n",
    "            table[i] = a[i]\n",
    "        \n",
    "        # At each index, we will store the sum of longest inc subseq which end at that index\n",
    "        for i in range(n):\n",
    "            for j in range(0,i):\n",
    "                if a[i] > a[j]:\n",
    "                    table[i] = max(table[i], a[i] + table[j])\n",
    "        \n",
    "        print(\"a :\",a)\n",
    "        print(\"dp:\",table)\n",
    "        return print(\"max sum inc subseq:\",max(table))\n",
    "\n",
    "# Time comp:O(N^2)\n",
    "# Space comp:O(N)"
   ]
  },
  {
   "cell_type": "code",
   "execution_count": 549,
   "id": "83d419d5",
   "metadata": {},
   "outputs": [
    {
     "name": "stdout",
     "output_type": "stream",
     "text": [
      "a : [1, 101, 2, 3, 100]\n",
      "dp: [1, 102, 3, 6, 106]\n",
      "max sum inc subseq: 106\n"
     ]
    }
   ],
   "source": [
    "s = Solution()\n",
    "s.maxSumIS([1, 101, 2, 3, 100],5)"
   ]
  },
  {
   "cell_type": "code",
   "execution_count": null,
   "id": "21df0830",
   "metadata": {},
   "outputs": [],
   "source": []
  },
  {
   "cell_type": "markdown",
   "id": "0ff1d43d",
   "metadata": {},
   "source": [
    "### 405. Maximum sum of pairs with specific difference"
   ]
  },
  {
   "cell_type": "raw",
   "id": "94259c7e",
   "metadata": {},
   "source": [
    "Given an array of integers, arr[] and a number, K.You can pair two numbers of the array if the difference between them is strictly less than K. The task is to find the maximum possible sum of such disjoint pairs (i.e., each element of the array can be used at most once). The Sum of P pairs is the sum of all 2P elements of pairs.\n",
    "\n",
    " \n",
    "\n",
    "Example 1:\n",
    "\n",
    "Input  : \n",
    "arr[] = {3, 5, 10, 15, 17, 12, 9}\n",
    "K = 4\n",
    "Output : \n",
    "62\n",
    "Explanation :\n",
    "Then disjoint pairs with difference less\n",
    "than K are, (3, 5), (10, 12), (15, 17)\n",
    "max sum which we can get is \n",
    "3 + 5 + 10 + 12 + 15 + 17 = 62\n",
    "Note that an alternate way to form \n",
    "disjoint pairs is,(3, 5), (9, 12), (15, 17)\n",
    "but this pairing produces less sum."
   ]
  },
  {
   "cell_type": "code",
   "execution_count": 304,
   "id": "8172d897",
   "metadata": {},
   "outputs": [],
   "source": [
    "# Without the DP\n",
    "\n",
    "class Solution:\n",
    "    def maxSumPairWithDifferenceLessThanK(self, arr, N, K): \n",
    "        arr.sort()\n",
    "        \n",
    "        ans = 0\n",
    "        i = N-1    # Start from last only, else it will gives you a wrong ans\n",
    "        \n",
    "        while i > 0:\n",
    "            if arr[i] - arr[i-1] < K:\n",
    "                ans = ans + arr[i] + arr[i-1]\n",
    "                i -= 2\n",
    "            else:\n",
    "                i -= 1\n",
    "        \n",
    "        return ans\n",
    "    \n",
    "# Time comp:O(N log N)\n",
    "# Space comp:O(1)"
   ]
  },
  {
   "cell_type": "code",
   "execution_count": 305,
   "id": "8be17e24",
   "metadata": {},
   "outputs": [
    {
     "name": "stdout",
     "output_type": "stream",
     "text": [
      "62\n"
     ]
    }
   ],
   "source": [
    "s = Solution()\n",
    "print(s.maxSumPairWithDifferenceLessThanK([3, 5, 10, 15, 17, 12, 9],7,4))"
   ]
  },
  {
   "cell_type": "code",
   "execution_count": null,
   "id": "1744d15e",
   "metadata": {},
   "outputs": [],
   "source": [
    "# Do the DP solution as well after finishing other things"
   ]
  },
  {
   "cell_type": "code",
   "execution_count": null,
   "id": "75f5d807",
   "metadata": {},
   "outputs": [],
   "source": []
  },
  {
   "cell_type": "markdown",
   "id": "a3a36369",
   "metadata": {},
   "source": [
    "### 406. Maximum path sum in matrix"
   ]
  },
  {
   "cell_type": "raw",
   "id": "f86bcc67",
   "metadata": {},
   "source": [
    "Given a NxN matrix of positive integers. There are only three possible moves from a cell Matrix[r][c].\n",
    "\n",
    "Matrix [r+1] [c]\n",
    "Matrix [r+1] [c-1]\n",
    "Matrix [r+1] [c+1]\n",
    "Starting from any column in row 0 return the largest sum of any of the paths up to row N-1.\n",
    "\n",
    "Example 1:\n",
    "\n",
    "Input: N = 2\n",
    "Matrix = {{348, 391},\n",
    "          {618, 193}}\n",
    "Output: 1009\n",
    "Explaination: The best path is 391 -> 618. \n",
    "It gives the sum = 1009."
   ]
  },
  {
   "cell_type": "code",
   "execution_count": 211,
   "id": "cd106d5d",
   "metadata": {},
   "outputs": [],
   "source": [
    "# recursive solution\n",
    "\n",
    "class Solution:\n",
    "    def solve(self,N,matrix,row,col):\n",
    "        if row < 0 or col < 0 or col >= N:\n",
    "            return 0\n",
    "        \n",
    "        if row == 0:\n",
    "            return matrix[row][col]\n",
    "            \n",
    "        first = matrix[row][col] + self.solve(N,matrix,row-1,col-1)\n",
    "        second = matrix[row][col] + self.solve(N,matrix,row-1,col)\n",
    "        third = matrix[row][col] + self.solve(N,matrix,row-1,col+1)\n",
    "        \n",
    "        return max(first,second,third)\n",
    "    \n",
    "    def maximumPath(self, N, Matrix):\n",
    "        row = N-1\n",
    "        col = N-1\n",
    "        ans = [0 for i in range(N)]\n",
    "        for i in range(col,-1,-1):\n",
    "            ans[i] = self.solve(N,Matrix,row,i)\n",
    "        \n",
    "        return max(ans)\n",
    "    \n",
    "# Time comp:O(3^(N*N))\n",
    "# Space comp:O(N+N)     (Due to recursion)"
   ]
  },
  {
   "cell_type": "code",
   "execution_count": 212,
   "id": "b1fe1568",
   "metadata": {},
   "outputs": [
    {
     "data": {
      "text/plain": [
       "36"
      ]
     },
     "execution_count": 212,
     "metadata": {},
     "output_type": "execute_result"
    }
   ],
   "source": [
    "s = Solution()\n",
    "s.maximumPath(2,[[20,21],[15,13]])"
   ]
  },
  {
   "cell_type": "code",
   "execution_count": null,
   "id": "2666412c",
   "metadata": {},
   "outputs": [],
   "source": [
    "# DP: Top down approach\n",
    "\n",
    "class Solution:\n",
    "    def solve(self,N,matrix,row,col,table):\n",
    "        if row < 0 or col < 0 or col >= N:\n",
    "            return 0\n",
    "        \n",
    "        if row == 0:\n",
    "            return matrix[row][col]\n",
    "            \n",
    "        if table[row][col] != -1:\n",
    "            return table[row][col]\n",
    "            \n",
    "        first = matrix[row][col] + self.solve(N,matrix,row-1,col-1,table)\n",
    "        second = matrix[row][col] + self.solve(N,matrix,row-1,col,table)\n",
    "        third = matrix[row][col] + self.solve(N,matrix,row-1,col+1,table)\n",
    "        \n",
    "        table[row][col] = max(first,second,third)\n",
    "        return table[row][col]\n",
    "    \n",
    "    def maximumPath(self, N, Matrix):\n",
    "        row = N-1\n",
    "        col = N-1\n",
    "        table = [[-1 for i in range(N)] for j in range(N)]\n",
    "        \n",
    "        for i in range(col,-1,-1):\n",
    "            table[N-1][i] = self.solve(N,Matrix,row,i,table)\n",
    "        \n",
    "        return max(table[N-1])\n",
    "    \n",
    "# Time comp:O(N*N)\n",
    "# Space comp:O(N*N)    (Due to dp table)(Recursion stack:O(N+N))"
   ]
  },
  {
   "cell_type": "code",
   "execution_count": null,
   "id": "33e4afd6",
   "metadata": {},
   "outputs": [],
   "source": [
    "# DP: Bottom up approach\n",
    "\n",
    "class Solution:\n",
    "    def maximumPath(self, N, Matrix):\n",
    "        row = N-1\n",
    "        col = N-1\n",
    "        table = [[0 for i in range(N)] for j in range(N)]\n",
    "        \n",
    "        for i in range(0,N):\n",
    "            table[0][i] = Matrix[0][i]\n",
    "        \n",
    "        for i in range(1,N):\n",
    "            for j in range(N):\n",
    "                \n",
    "                x = 0\n",
    "                y = 0\n",
    "                z = 0\n",
    "                if j-1 >= 0:\n",
    "                    x = table[i-1][j-1]\n",
    "                \n",
    "                y = table[i-1][j]\n",
    "                \n",
    "                if j+1 < N:\n",
    "                    z = table[i-1][j+1]\n",
    "                    \n",
    "                table[i][j] = max(x,y,z) + Matrix[i][j]\n",
    "        \n",
    "        return max(table[N-1])\n",
    "    \n",
    "# Time comp:O(N*N)\n",
    "# Space comp:O(N*N)"
   ]
  },
  {
   "cell_type": "code",
   "execution_count": null,
   "id": "4176febb",
   "metadata": {},
   "outputs": [],
   "source": [
    "# Space optimized solution\n",
    "\n",
    "class Solution:\n",
    "    def maximumPath(self, N, Matrix):\n",
    "        row = N-1\n",
    "        col = N-1\n",
    "        prev = [0 for i in range(N)]\n",
    "        curr = [0 for i in range(N)]\n",
    "        \n",
    "        for i in range(0,N):\n",
    "            prev[i] = Matrix[0][i]\n",
    "        \n",
    "        for i in range(1,N):\n",
    "            for j in range(N):\n",
    "                \n",
    "                x = 0\n",
    "                y = 0\n",
    "                z = 0\n",
    "                if j-1 >= 0:\n",
    "                    x = prev[j-1]\n",
    "                \n",
    "                y = prev[j]\n",
    "                \n",
    "                if j+1 < N:\n",
    "                    z = prev[j+1]\n",
    "                    \n",
    "                curr[j] = max(x,y,z) + Matrix[i][j]\n",
    "            \n",
    "            prev = curr[:]\n",
    "        \n",
    "        return max(prev)\n",
    "    \n",
    "# Time comp:O(N*N)\n",
    "# Space comp:O(N)"
   ]
  },
  {
   "cell_type": "code",
   "execution_count": null,
   "id": "f20826d0",
   "metadata": {},
   "outputs": [],
   "source": []
  },
  {
   "cell_type": "markdown",
   "id": "791a03fa",
   "metadata": {},
   "source": [
    "### 408. Minimum number of jumps"
   ]
  },
  {
   "cell_type": "raw",
   "id": "50204f06",
   "metadata": {},
   "source": [
    "Given an array of N integers arr[] where each element represents the max number of steps that can be made forward from that element. Find the minimum number of jumps to reach the end of the array (starting from the first element). If an element is 0, then you cannot move through that element.\n",
    "\n",
    "Note: Return -1 if you can't reach the end of the array.\n",
    "\n",
    "\n",
    "Example 1:\n",
    "\n",
    "Input:\n",
    "N = 11 \n",
    "arr[] = {1, 3, 5, 8, 9, 2, 6, 7, 6, 8, 9} \n",
    "Output: 3 \n",
    "Explanation: \n",
    "First jump from 1st element to 2nd \n",
    "element with value 3. Now, from here \n",
    "we jump to 5th element with value 9, \n",
    "and from here we will jump to the last. "
   ]
  },
  {
   "cell_type": "code",
   "execution_count": 417,
   "id": "969f8fe4",
   "metadata": {},
   "outputs": [],
   "source": [
    "# Recursive method\n",
    "\n",
    "class Solution:\n",
    "    def solve(self,arr,n,i):\n",
    "        if i >= n-1:\n",
    "            return 0\n",
    "        if arr[i] == 0:\n",
    "            return float('inf')\n",
    "        \n",
    "        k = arr[i]\n",
    "        ans = float('inf')\n",
    "        for x in range(1,k+1):\n",
    "            temp = self.solve(arr,n,i+x)\n",
    "            if temp != float('inf') and temp+1 < ans:\n",
    "                ans = temp+1\n",
    "        \n",
    "        return ans\n",
    "        \n",
    "    def minJumps(self, arr, n):\n",
    "        i = 0\n",
    "        x = self.solve(arr,n,i)\n",
    "        if x == float('inf'):\n",
    "            return -1\n",
    "        return x\n",
    "    \n",
    "# Time comp:O(N^N)\n",
    "# Space comp:O(N)   (Due to recursive stack)"
   ]
  },
  {
   "cell_type": "code",
   "execution_count": 419,
   "id": "858853ef",
   "metadata": {},
   "outputs": [
    {
     "data": {
      "text/plain": [
       "2"
      ]
     },
     "execution_count": 419,
     "metadata": {},
     "output_type": "execute_result"
    }
   ],
   "source": [
    "s = Solution()\n",
    "s.minJumps([1, 3, 5, 8, 9, 2, 6, 7, 6, 8, 9],11)\n",
    "s.minJumps([9, 10, 1, 2, 3, 4, 8, 0, 0, 0, 0, 0, 0, 0, 1],15)"
   ]
  },
  {
   "cell_type": "code",
   "execution_count": null,
   "id": "ea759392",
   "metadata": {},
   "outputs": [],
   "source": [
    "# DP: Top down approach\n",
    "\n",
    "import sys\n",
    "sys.setrecursionlimit(1000000000)\n",
    "\n",
    "class Solution:\n",
    "    def solve(self,arr,n,i,table):\n",
    "        if i >= n-1:\n",
    "            return 0\n",
    "        if arr[i] == 0:\n",
    "            return float('inf')\n",
    "        \n",
    "        if table[i] != -1:\n",
    "            return table[i]\n",
    "        \n",
    "        k = arr[i]\n",
    "        ans = float('inf')\n",
    "        for x in range(1,k+1):\n",
    "            temp = self.solve(arr,n,i+x,table)\n",
    "            if temp != float('inf') and temp+1 < ans:\n",
    "                ans = temp+1\n",
    "        \n",
    "        table[i] = ans\n",
    "        return ans\n",
    "        \n",
    "    def minJumps(self, arr, n):\n",
    "        table = [-1 for i in range(n+1)]\n",
    "        i = 0\n",
    "        x = self.solve(arr,n,i,table)\n",
    "        if x == float('inf'):\n",
    "            return -1\n",
    "        return x\n",
    "\n",
    "# Time comp:O(N)\n",
    "# Space comp:O(N)   (Due to recursive stack)"
   ]
  },
  {
   "cell_type": "code",
   "execution_count": null,
   "id": "8c14d94b",
   "metadata": {},
   "outputs": [],
   "source": []
  },
  {
   "cell_type": "markdown",
   "id": "507c6734",
   "metadata": {},
   "source": [
    "### 409. Minimum cost to fill given weight in a bag"
   ]
  },
  {
   "cell_type": "raw",
   "id": "5f4089c0",
   "metadata": {},
   "source": [
    "Given an array cost[] of positive integers of size N and an integer W, cost[i] represents the cost of ‘i’ kg packet of oranges, the task is to find the minimum cost to buy W kgs of oranges. If it is not possible to buy exactly W kg oranges then the output will be -1\n",
    "\n",
    "Note:\n",
    "1. cost[i] = -1 means that ‘i’ kg packet of orange is unavailable\n",
    "2. It may be assumed that there is infinite supply of all available packet types.\n",
    "\n",
    "Example 1:\n",
    "\n",
    "Input: N = 5, arr[] = {20, 10, 4, 50, 100}\n",
    "W = 5\n",
    "Output: 14\n",
    "Explanation: choose two oranges to minimize \n",
    "cost. First orange of 2Kg and cost 10. \n",
    "Second orange of 3Kg and cost 4. \n",
    "Example 2:\n",
    "\n",
    "Input: N = 5, arr[] = {-1, -1, 4, 3, -1}\n",
    "W = 5\n",
    "Output: -1\n",
    "Explanation: It is not possible to buy 5 \n",
    "kgs of oranges"
   ]
  },
  {
   "cell_type": "code",
   "execution_count": 252,
   "id": "1b2e58a7",
   "metadata": {},
   "outputs": [],
   "source": [
    "# Recursive solution\n",
    "\n",
    "class Solution:\n",
    "    def __init__(self):\n",
    "        self.count = 1\n",
    "    def solve(self,cost,weight,n,W,i):\n",
    "        if W == 0:\n",
    "            return 0\n",
    "        \n",
    "        if W < 0 or i < 0:\n",
    "            return float('inf')\n",
    "        \n",
    "        taken = float('inf')\n",
    "        not_taken = float('inf')\n",
    "        \n",
    "        if cost[i] > 0 and weight[i] <= W:\n",
    "            taken = cost[i] + self.solve(cost,weight,n,W-weight[i],i)\n",
    "        not_taken = self.solve(cost,weight,n,W,i-1)\n",
    "        \n",
    "        return min(taken,not_taken)\n",
    "    \n",
    "    def minimumCost(self, cost, n, W):\n",
    "        i = n-1\n",
    "        weight = [0 for j in range(n)]\n",
    "        for j in range(1,n+1):\n",
    "            weight[j-1] = j\n",
    "        x = self.solve(cost,weight,n,W,i)\n",
    "        if x == float('inf'):\n",
    "            return -1\n",
    "        return x\n",
    "    \n",
    "# Time comp:O(2^N)\n",
    "# Space comp:O(N)"
   ]
  },
  {
   "cell_type": "code",
   "execution_count": 253,
   "id": "9b906711",
   "metadata": {},
   "outputs": [
    {
     "name": "stdout",
     "output_type": "stream",
     "text": [
      "14\n",
      "-1\n",
      "1\n"
     ]
    }
   ],
   "source": [
    "s = Solution()\n",
    "print(s.minimumCost([20,10,4,50,100],5,5))\n",
    "print(s.minimumCost([-1,-1,4,3,-1],5,5))\n",
    "print(s.minimumCost([20,1,2,3,4],5,2))"
   ]
  },
  {
   "cell_type": "code",
   "execution_count": 254,
   "id": "661b09ed",
   "metadata": {},
   "outputs": [],
   "source": [
    "# DP: Top down approach\n",
    "\n",
    "class Solution:\n",
    "    def __init__(self):\n",
    "        self.count = 1\n",
    "    def solve(self,cost,weight,n,W,i,table):\n",
    "        if W == 0:\n",
    "            return 0\n",
    "        \n",
    "        if W < 0 or i < 0:\n",
    "            return float('inf')\n",
    "        \n",
    "        if table[i][W] != -1:\n",
    "            return table[i][W]\n",
    "        \n",
    "        taken = float('inf')\n",
    "        not_taken = float('inf')\n",
    "        \n",
    "        if cost[i] > 0 and weight[i] <= W:\n",
    "            taken = cost[i] + self.solve(cost,weight,n,W-weight[i],i,table)\n",
    "        not_taken = self.solve(cost,weight,n,W,i-1,table)\n",
    "        \n",
    "        table[i][W] = min(taken,not_taken)\n",
    "        return table[i][W]\n",
    "    \n",
    "    def minimumCost(self, cost, n, W):\n",
    "        i = n-1\n",
    "        weight = [0 for j in range(n)]\n",
    "        for j in range(1,n+1):\n",
    "            weight[j-1] = j\n",
    "        \n",
    "        table = [[-1 for j in range(W+1)] for k in range(n)]\n",
    "        \n",
    "        x = self.solve(cost,weight,n,W,i,table)\n",
    "        if x == float('inf'):\n",
    "            return -1\n",
    "        return x\n",
    "    \n",
    "# Time comp:O(N*W)\n",
    "# Space comp:O(N*W)"
   ]
  },
  {
   "cell_type": "code",
   "execution_count": 255,
   "id": "537a3fbe",
   "metadata": {},
   "outputs": [
    {
     "name": "stdout",
     "output_type": "stream",
     "text": [
      "14\n",
      "-1\n",
      "1\n"
     ]
    }
   ],
   "source": [
    "s = Solution()\n",
    "print(s.minimumCost([20,10,4,50,100],5,5))\n",
    "print(s.minimumCost([-1,-1,4,3,-1],5,5))\n",
    "print(s.minimumCost([20,1,2,3,4],5,2))"
   ]
  },
  {
   "cell_type": "code",
   "execution_count": 256,
   "id": "08f1cee9",
   "metadata": {},
   "outputs": [],
   "source": [
    "# DP: Bottom up approach\n",
    "\n",
    "class Solution:\n",
    "    def minimumCost(self, cost, n, W):\n",
    "        weight = [0 for j in range(n)]\n",
    "        for j in range(1,n+1):\n",
    "            weight[j-1] = j\n",
    "        \n",
    "        table = [[0 for j in range(W+1)] for k in range(n)]\n",
    "        \n",
    "        for j in range(n):\n",
    "            table[j][0] = 0\n",
    "        \n",
    "        for i in range(n):\n",
    "            for j in range(1,W+1):\n",
    "                taken = float('inf')\n",
    "                not_taken = float('inf')\n",
    "\n",
    "                if cost[i] > 0 and weight[i] <= j:\n",
    "                    taken = cost[i] + table[i][j-weight[i]]\n",
    "                not_taken = table[i-1][j]\n",
    "                table[i][j] = min(taken,not_taken)\n",
    "        \n",
    "        if table[n-1][W] == float('inf'):\n",
    "            return -1\n",
    "        return table[n-1][W]\n",
    "    \n",
    "# Time comp:O(N*W)\n",
    "# Space comp:O(N*W)"
   ]
  },
  {
   "cell_type": "code",
   "execution_count": 257,
   "id": "7d8f26c1",
   "metadata": {},
   "outputs": [],
   "source": [
    "# Space optimized approach\n",
    "\n",
    "class Solution:\n",
    "    def minimumCost(self, cost, n, W):\n",
    "        weight = [0 for j in range(n)]\n",
    "        for j in range(1,n+1):\n",
    "            weight[j-1] = j\n",
    "        \n",
    "        prev = [float('inf') for j in range(W+1)]\n",
    "        curr = [float('inf') for j in range(W+1)]\n",
    "        \n",
    "        curr[0] = 0\n",
    "        prev[0] = 0\n",
    "        \n",
    "        for i in range(n):\n",
    "            for j in range(1,W+1):\n",
    "                taken = float('inf')\n",
    "                not_taken = float('inf')\n",
    "\n",
    "                if cost[i] > 0 and weight[i] <= j:\n",
    "                    taken = cost[i] + curr[j-weight[i]]\n",
    "                not_taken = prev[j]\n",
    "                curr[j] = min(taken,not_taken)\n",
    "            prev = curr[:]\n",
    "        \n",
    "        if curr[W] == float('inf'):\n",
    "            return -1\n",
    "        return curr[W]\n",
    "    \n",
    "# Time comp:O(N*W)\n",
    "# Space comp:O(W)"
   ]
  },
  {
   "cell_type": "code",
   "execution_count": 258,
   "id": "3006c73d",
   "metadata": {},
   "outputs": [
    {
     "name": "stdout",
     "output_type": "stream",
     "text": [
      "14\n",
      "-1\n",
      "1\n"
     ]
    }
   ],
   "source": [
    "s = Solution()\n",
    "print(s.minimumCost([20,10,4,50,100],5,5))\n",
    "print(s.minimumCost([-1,-1,4,3,-1],5,5))\n",
    "print(s.minimumCost([20,1,2,3,4],5,2))"
   ]
  },
  {
   "cell_type": "code",
   "execution_count": null,
   "id": "8846a4a5",
   "metadata": {},
   "outputs": [],
   "source": []
  },
  {
   "cell_type": "markdown",
   "id": "93acf523",
   "metadata": {},
   "source": [
    "### 410. Minimum removals from array to make max –min <= K"
   ]
  },
  {
   "cell_type": "raw",
   "id": "fe2bb224",
   "metadata": {},
   "source": [
    "Given an array arr[] of size N and an integer K. The task is to find the minimum number of elements that should be removed, such that Amax-Amin<=K. After the removal of elements, Amax and Amin is considered among the remaining elements. \n",
    "\n",
    "Note: Can you solve the probelm without using any extra space and O(N*log(N)) time complexity ?\n",
    "\n",
    "Example 1:\n",
    "\n",
    "Input: N = 9, K = 4  \n",
    "arr[] = {1,3,4,9,10,11,12,17,20}\n",
    "Output: 5\n",
    "Explanation: Remove 1, 3, 4 from beginning\n",
    "and 17, 20 from the end."
   ]
  },
  {
   "cell_type": "raw",
   "id": "30349b66",
   "metadata": {},
   "source": [
    "Sort the array first then keep removing min and max and check which gives best result"
   ]
  },
  {
   "cell_type": "code",
   "execution_count": null,
   "id": "1d25ba29",
   "metadata": {},
   "outputs": [],
   "source": [
    "# Recursive solution:\n",
    "\n",
    "class Solution:\n",
    "    def solve(self,arr,n,i,j):\n",
    "        if i >= j:\n",
    "            return 0\n",
    "        if arr[j] - arr[i] <= k:\n",
    "            return 0\n",
    "        \n",
    "        return 1 + min(self.solve(arr,k,i+1,j),self.solve(arr,k,i,j-1))\n",
    "\n",
    "    def removals(self,arr, n, k):\n",
    "        \n",
    "        arr.sort()\n",
    "        i = 0\n",
    "        j = n-1\n",
    "        return self.solve(arr,k,i,j)\n",
    "    \n",
    "# Time comp:O(2^N)\n",
    "# Space comp:O(N)"
   ]
  },
  {
   "cell_type": "code",
   "execution_count": null,
   "id": "b16235de",
   "metadata": {},
   "outputs": [],
   "source": [
    "# DP: Top down approach\n",
    "\n",
    "class Solution:\n",
    "    def solve(self,arr,n,i,j,table):\n",
    "        if i >= j:\n",
    "            return 0\n",
    "        if arr[j] - arr[i] <= k:\n",
    "            return 0\n",
    "        \n",
    "        if table[i][j] != -1:\n",
    "            return table[i][j]\n",
    "        \n",
    "        table[i][j] = 1 + min(self.solve(arr,k,i+1,j,table),self.solve(arr,k,i,j-1,table))\n",
    "        return table[i][j]\n",
    "\n",
    "    def removals(self,arr, n, k):\n",
    "        \n",
    "        table = [[-1 for i in range(n)] for j in range(n)]\n",
    "        \n",
    "        arr.sort()\n",
    "        i = 0\n",
    "        j = n-1\n",
    "        return self.solve(arr,k,i,j,table)\n",
    "\n",
    "# Time comp:O(N*N)\n",
    "# Space comp:O(N*N)    (recursive stack:O(N))"
   ]
  },
  {
   "cell_type": "raw",
   "id": "d71ee0ca",
   "metadata": {},
   "source": [
    "Bottom up is complicated here"
   ]
  },
  {
   "cell_type": "code",
   "execution_count": null,
   "id": "80add1c8",
   "metadata": {},
   "outputs": [],
   "source": []
  },
  {
   "cell_type": "markdown",
   "id": "27cb85c8",
   "metadata": {},
   "source": [
    "### 411. Longest Common Substring"
   ]
  },
  {
   "cell_type": "raw",
   "id": "f3cf6d68",
   "metadata": {},
   "source": [
    "Given two strings. The task is to find the length of the longest common substring.\n",
    "\n",
    "\n",
    "Example 1:\n",
    "\n",
    "Input: S1 = \"ABCDGH\", S2 = \"ACDGHR\"\n",
    "Output: 4\n",
    "Explanation: The longest common substring\n",
    "is \"CDGH\" which has length 4."
   ]
  },
  {
   "cell_type": "raw",
   "id": "c84d43d0",
   "metadata": {},
   "source": [
    "Here we will follow bottom up approach directly as other approaches are more complicated.\n",
    "DP table is inspired by longest common subsequence's bottom up table\n",
    "\n",
    "The modification is, when both char are same we will add +1 on prev diagonal element and store it into the cell\n",
    "If not same then just put 0\n",
    "The max value from all cell is the final ans"
   ]
  },
  {
   "cell_type": "code",
   "execution_count": 371,
   "id": "a4821bbe",
   "metadata": {},
   "outputs": [],
   "source": [
    "# DP: Bottom up approach\n",
    "\n",
    "class Solution:\n",
    "    def longestCommonSubstr(self, S1, S2, n, m):\n",
    "        table = [[0 for _ in range(m+1)] for __ in range(n+1)]\n",
    "        \n",
    "        ans = 0\n",
    "        \n",
    "        for i in range(1,n+1):\n",
    "            for j in range(1,m+1):\n",
    "                if S1[i-1] == S2[j-1]:\n",
    "                    table[i][j] = 1 + table[i-1][j-1]\n",
    "                    ans = max(ans,table[i][j])\n",
    "                else:\n",
    "                    table[i][j] = 0\n",
    "        \n",
    "        return ans\n",
    "    \n",
    "# Time comp:O(N*M)\n",
    "# Space comp:O(N*M)\n",
    "\n",
    "# Space optimized approach is also possible here"
   ]
  },
  {
   "cell_type": "code",
   "execution_count": 372,
   "id": "71524f60",
   "metadata": {},
   "outputs": [
    {
     "data": {
      "text/plain": [
       "4"
      ]
     },
     "execution_count": 372,
     "metadata": {},
     "output_type": "execute_result"
    }
   ],
   "source": [
    "s = Solution()\n",
    "s.longestCommonSubstr('ABCDGH','ACDGHR',6,6)"
   ]
  },
  {
   "cell_type": "code",
   "execution_count": null,
   "id": "bec8e731",
   "metadata": {},
   "outputs": [],
   "source": []
  },
  {
   "cell_type": "markdown",
   "id": "6259bac5",
   "metadata": {},
   "source": [
    "### 412. Count number of ways to reacha given score in a game"
   ]
  },
  {
   "cell_type": "raw",
   "id": "07ddba71",
   "metadata": {},
   "source": [
    "Consider a game where a player can score 3 or 5 or 10 points in a move. Given a total score n, find number of distinct combinations to reach the given score.\n",
    "\n",
    "Example:\n",
    "Input\n",
    "3\n",
    "8\n",
    "20\n",
    "13\n",
    "Output\n",
    "1\n",
    "4\n",
    "2\n",
    "Explanation\n",
    "For 1st example when n = 8\n",
    "{ 3, 5 } and {5, 3} are the \n",
    "two possible permutations but \n",
    "these represent the same \n",
    "cobmination. Hence output is 1."
   ]
  },
  {
   "cell_type": "raw",
   "id": "0c2240f6",
   "metadata": {},
   "source": [
    "recursive relation\n",
    "\n",
    "here values are [3,5,10]\n",
    "\n",
    "For N, each element of values either will be included or not\n",
    "\n",
    "F(N) = F(N-val[i],i) + F(N,i--)\n",
    "Where i will be start from len(values)\n"
   ]
  },
  {
   "cell_type": "code",
   "execution_count": 215,
   "id": "82a938b3",
   "metadata": {},
   "outputs": [],
   "source": [
    "# recursive solution\n",
    "\n",
    "def solve(n,arr,j):\n",
    "    if n == 0:\n",
    "        return 1\n",
    "    if n < 0 or j < 0:\n",
    "        return 0\n",
    "    \n",
    "    return solve(n-arr[j],arr,j) + solve(n,arr,j-1)\n",
    "\n",
    "def count(n):\n",
    "    arr = [3,5,10]     \n",
    "    return solve(n,arr,2)\n",
    "\n",
    "# Time comp:O(3^N)\n",
    "# Space comp:O(N)"
   ]
  },
  {
   "cell_type": "code",
   "execution_count": 216,
   "id": "7243422c",
   "metadata": {},
   "outputs": [
    {
     "name": "stdout",
     "output_type": "stream",
     "text": [
      "1\n",
      "4\n",
      "2\n"
     ]
    }
   ],
   "source": [
    "print(count(8))\n",
    "print(count(20))\n",
    "print(count(13))"
   ]
  },
  {
   "cell_type": "code",
   "execution_count": 217,
   "id": "9da51262",
   "metadata": {},
   "outputs": [],
   "source": [
    "# DP: Top Down\n",
    "\n",
    "def solve(n,arr,j,table):\n",
    "    if n == 0:\n",
    "        return 1\n",
    "    if n < 0 or len(arr) <= 0 or j < 0:\n",
    "        return 0\n",
    "    \n",
    "    if table[n][j] != -1:\n",
    "        return table[n][j]\n",
    "    \n",
    "    table[n][j] = solve(n-arr[j],arr,j,table) + solve(n,arr,j-1,table)\n",
    "    return table[n][j]\n",
    "    \n",
    "def count(n):\n",
    "    table = [[-1 for i in range(4)] for j in range(n+1)]\n",
    "    arr = [3,5,10]     \n",
    "    return solve(n,arr,2,table)\n",
    "\n",
    "# Time comp:O(3*N)\n",
    "# Space comp:O(3*N)"
   ]
  },
  {
   "cell_type": "code",
   "execution_count": 218,
   "id": "2fb5236f",
   "metadata": {},
   "outputs": [
    {
     "name": "stdout",
     "output_type": "stream",
     "text": [
      "1\n",
      "4\n",
      "2\n"
     ]
    }
   ],
   "source": [
    "print(count(8))\n",
    "print(count(20))\n",
    "print(count(13))"
   ]
  },
  {
   "cell_type": "code",
   "execution_count": 219,
   "id": "7ac94f2f",
   "metadata": {},
   "outputs": [],
   "source": [
    "# DP: Bottom up\n",
    "    \n",
    "def count(n):\n",
    "    table = [0 for j in range(n+1)]\n",
    "    table[0] = 1\n",
    "    \n",
    "    for i in range(3, n+1):\n",
    "        table[i] += table[i-3]\n",
    "    for i in range(5, n+1):\n",
    "        table[i] += table[i-5]\n",
    "    for i in range(10, n+1):\n",
    "        table[i] += table[i-10]\n",
    " \n",
    "    return table[n]\n",
    "\n",
    "# Time comp:O(3*N)\n",
    "# Space comp:O(N)"
   ]
  },
  {
   "cell_type": "code",
   "execution_count": 220,
   "id": "f90f927d",
   "metadata": {},
   "outputs": [
    {
     "name": "stdout",
     "output_type": "stream",
     "text": [
      "1\n",
      "4\n",
      "2\n"
     ]
    }
   ],
   "source": [
    "print(count(8))\n",
    "print(count(20))\n",
    "print(count(13))"
   ]
  },
  {
   "cell_type": "code",
   "execution_count": null,
   "id": "532565ad",
   "metadata": {},
   "outputs": [],
   "source": []
  },
  {
   "cell_type": "markdown",
   "id": "b82a43ec",
   "metadata": {},
   "source": [
    "### 413. Count Balanced Binary Trees of Height h"
   ]
  },
  {
   "cell_type": "raw",
   "id": "9fe50d9a",
   "metadata": {},
   "source": [
    "Given a height h, count the maximum number of balanced binary trees possible with height h. Print the result modulo 109 + 7.\n",
    "Note : A balanced binary tree is one in which for every node, the difference between heights of left and right subtree is not more than 1.\n",
    "\n",
    "Input: h = 3\n",
    "Output: 15\n",
    "Explanation: The maximum number of balanced\n",
    "binary trees possible with height 3 is 15. "
   ]
  },
  {
   "cell_type": "raw",
   "id": "603264cd",
   "metadata": {},
   "source": [
    "Since the difference between the heights of left and right subtree is not more than one, possible heights of left and right part can be one of the following: \n",
    " \n",
    "\n",
    "1. (h-1), (h-2)\n",
    "2. (h-2), (h-1)\n",
    "3. (h-1), (h-1)\n",
    "\n",
    "count(h) = count(h-1) * count(h-2) + \n",
    "           count(h-2) * count(h-1) + \n",
    "           count(h-1) * count(h-1)\n",
    "         = 2 * count(h-1) * count(h-2) +  \n",
    "           count(h-1) * count(h-1)\n",
    "         = count(h-1) * (2*count(h - 2) + \n",
    "                          count(h - 1))"
   ]
  },
  {
   "cell_type": "code",
   "execution_count": 34,
   "id": "e3389185",
   "metadata": {},
   "outputs": [],
   "source": [
    "# Recursive solution\n",
    "\n",
    "class Solution:\n",
    "    def solve(self,h):\n",
    "        if h == 0 or h == 1:\n",
    "            return 1\n",
    "        \n",
    "        ans = (self.solve(h-1) * ( 2 * self.solve(h-2) + self.solve(h-1)))\n",
    "        return ans\n",
    "    \n",
    "    def countBT (self, h):\n",
    "        return self.solve(h) % 1000000007\n",
    "    \n",
    "# Time comp: Exponential\n",
    "# Space comp:O(N)"
   ]
  },
  {
   "cell_type": "code",
   "execution_count": 39,
   "id": "76fcc691",
   "metadata": {},
   "outputs": [],
   "source": [
    "# DP: Top down approach\n",
    "\n",
    "class Solution:\n",
    "    def solve(self,h,table):\n",
    "        if h == 0 or h == 1:\n",
    "            return 1\n",
    "        \n",
    "        if table[h] != -1:\n",
    "            return table[h]\n",
    "        \n",
    "        table[h] = (self.solve(h-1,table) * ( 2 * self.solve(h-2,table) + self.solve(h-1,table)))\n",
    "        return table[h]\n",
    "    \n",
    "    def countBT (self, h):\n",
    "        table = [-1 for i in range(h+1)]\n",
    "        return self.solve(h,table) % 1000000007\n",
    "    \n",
    "# Time comp: O(N)\n",
    "# Space comp:O(N)    (recursive stack:O(N))"
   ]
  },
  {
   "cell_type": "code",
   "execution_count": 40,
   "id": "a0235f61",
   "metadata": {},
   "outputs": [
    {
     "data": {
      "text/plain": [
       "15"
      ]
     },
     "execution_count": 40,
     "metadata": {},
     "output_type": "execute_result"
    }
   ],
   "source": [
    "s = Solution()\n",
    "s.countBT(3)"
   ]
  },
  {
   "cell_type": "code",
   "execution_count": 49,
   "id": "fbc80c6e",
   "metadata": {},
   "outputs": [],
   "source": [
    "# DP: Bottom up approach\n",
    "\n",
    "class Solution:\n",
    "    def countBT (self, h):\n",
    "        table = [-1 for i in range(h+1)]\n",
    "        table[0] = 1\n",
    "        table[1] = 1\n",
    "        \n",
    "        for i in range(2,h+1):\n",
    "            table[i] = table[i-1] * (2*table[i-2] + table[i-1]) % 1000000007\n",
    "        \n",
    "        print(table)\n",
    "        return table[h]\n",
    "    \n",
    "# Time comp: O(N)\n",
    "# Space comp:O(N)"
   ]
  },
  {
   "cell_type": "code",
   "execution_count": 50,
   "id": "b400c37e",
   "metadata": {},
   "outputs": [
    {
     "name": "stdout",
     "output_type": "stream",
     "text": [
      "[1, 1, 3, 15]\n"
     ]
    },
    {
     "data": {
      "text/plain": [
       "15"
      ]
     },
     "execution_count": 50,
     "metadata": {},
     "output_type": "execute_result"
    }
   ],
   "source": [
    "s = Solution()\n",
    "s.countBT(3)"
   ]
  },
  {
   "cell_type": "code",
   "execution_count": 51,
   "id": "de4e3fa4",
   "metadata": {},
   "outputs": [],
   "source": [
    "# Dont know why space optimized approach is not working"
   ]
  },
  {
   "cell_type": "code",
   "execution_count": null,
   "id": "cd8977be",
   "metadata": {},
   "outputs": [],
   "source": []
  },
  {
   "cell_type": "markdown",
   "id": "d2bff042",
   "metadata": {},
   "source": [
    "### 416. Knapsack with Duplicate Items"
   ]
  },
  {
   "cell_type": "raw",
   "id": "a752af3b",
   "metadata": {},
   "source": [
    "Given a set of N items, each with a weight and a value, represented by the array w[] and val[] respectively. Also, a knapsack with weight limit W.\n",
    "The task is to fill the knapsack in such a way that we can get the maximum profit. Return the maximum profit.\n",
    "Note: Each item can be taken any number of times.\n",
    "\n",
    " \n",
    "\n",
    "Example 1:\n",
    "\n",
    "Input: N = 2, W = 3\n",
    "val[] = {1, 1}\n",
    "wt[] = {2, 1}\n",
    "Output: 3\n",
    "Explanation: \n",
    "1.Pick the 2nd element thrice.\n",
    "2.Total profit = 1 + 1 + 1 = 3. Also the total \n",
    "  weight = 1 + 1 + 1  = 3 which is <= W."
   ]
  },
  {
   "cell_type": "code",
   "execution_count": null,
   "id": "b8ea99a7",
   "metadata": {},
   "outputs": [],
   "source": [
    "# Recursive soltion\n",
    "\n",
    "class Solution:\n",
    "    def solve(self,N,W,val,wt,i):\n",
    "        if W == 0:\n",
    "            return 0\n",
    "        if i == 0:\n",
    "            if wt[0] <= W:\n",
    "                x = W//wt[0]\n",
    "                W = W - (x*wt[0])\n",
    "                return val[0] * x\n",
    "            else:\n",
    "                return 0\n",
    "        \n",
    "        not_take = self.solve(N,W,val,wt,i-1)\n",
    "        take = 0\n",
    "        if wt[i] <= W:\n",
    "            take = val[i] + self.solve(N,W-wt[i],val,wt,i)\n",
    "        \n",
    "        return max(take,not_take)\n",
    "    \n",
    "    def knapSack(self, N, W, val, wt):\n",
    "        i = N-1\n",
    "        return self.solve(N,W,val,wt,i)\n",
    "    \n",
    "# Time comp:O(2^N)   (Even it can be more than that)\n",
    "# Space comp:O(N)    (Recursive depth)"
   ]
  },
  {
   "cell_type": "code",
   "execution_count": null,
   "id": "6676ae6e",
   "metadata": {},
   "outputs": [],
   "source": [
    "# DP: Top Down approach\n",
    "\n",
    "import sys\n",
    "sys.setrecursionlimit(10000)\n",
    "\n",
    "class Solution:\n",
    "    def solve(self,N,W,val,wt,i,table):\n",
    "        if W == 0:\n",
    "            return 0\n",
    "        if i == 0:\n",
    "            if wt[0] <= W:\n",
    "                x = W//wt[0]\n",
    "                W = W - (x*wt[0])\n",
    "                return val[0] * x\n",
    "            else:\n",
    "                return 0\n",
    "        \n",
    "        if table[i][W] != -1:\n",
    "            return table[i][W]\n",
    "        \n",
    "        not_take = self.solve(N,W,val,wt,i-1,table)\n",
    "        take = 0\n",
    "        if wt[i] <= W:\n",
    "            take = val[i] + self.solve(N,W-wt[i],val,wt,i,table)\n",
    "        \n",
    "        table[i][W] = max(take,not_take)\n",
    "        \n",
    "        return table[i][W]\n",
    "    \n",
    "    def knapSack(self, N, W, val, wt):\n",
    "        i = N-1\n",
    "        \n",
    "        table = [[-1 for i in range(W+1)] for j in range(N)]\n",
    "        \n",
    "        return self.solve(N,W,val,wt,i,table)\n",
    "    \n",
    "# Time comp:O(N*W)   (Even it can be more than that)\n",
    "# Space comp:O(N*W)    (Recursive depth:O(N))"
   ]
  },
  {
   "cell_type": "code",
   "execution_count": null,
   "id": "1c35c453",
   "metadata": {},
   "outputs": [],
   "source": [
    "# DP: Bottom up approach\n",
    "\n",
    "class Solution:\n",
    "    def knapSack(self, N, W, val, wt):\n",
    "        i = N-1\n",
    "        \n",
    "        table = [[0 for i in range(W+1)] for j in range(N)]\n",
    "        \n",
    "        for i in range(1,W+1):\n",
    "            if wt[0] <= i:\n",
    "                x = i//wt[0]\n",
    "                table[0][i] = val[0] * x\n",
    "                \n",
    "        for i in range(1,N):\n",
    "            for j in range(W+1):\n",
    "                not_take = table[i-1][j]\n",
    "                take = 0\n",
    "                if wt[i] <= j and j-wt[i] >= 0:\n",
    "                    take = val[i] + table[i][j-wt[i]]\n",
    "                \n",
    "                table[i][j] = max(take,not_take)\n",
    "        \n",
    "        return table[N-1][W]\n",
    "    \n",
    "# Time comp:O(N*W)   (Even it can be more than that)\n",
    "# Space comp:O(N*W)"
   ]
  },
  {
   "cell_type": "code",
   "execution_count": 306,
   "id": "33e4a1ed",
   "metadata": {},
   "outputs": [],
   "source": [
    "# Space optimized solution\n",
    "\n",
    "class Solution:\n",
    "    def knapSack(self, N, W, val, wt):\n",
    "        i = N-1\n",
    "        \n",
    "        prev = [0 for i in range(W+1)]\n",
    "        curr = [0 for i in range(W+1)]\n",
    "        \n",
    "        for i in range(1,W+1):\n",
    "            if wt[0] <= i:\n",
    "                x = i//wt[0]\n",
    "                prev[i] = val[0] * x\n",
    "                \n",
    "        for i in range(1,N):\n",
    "            for j in range(W+1):\n",
    "                not_take = prev[j]\n",
    "                take = 0\n",
    "                if wt[i] <= j and j-wt[i] >= 0:\n",
    "                    take = val[i] + curr[j-wt[i]]\n",
    "                \n",
    "                curr[j] = max(take,not_take)\n",
    "            prev = curr\n",
    "        \n",
    "        return curr[W]\n",
    "    \n",
    "# Time comp:O(N*W)   (Even it can be more than that)\n",
    "# Space comp:O(W)"
   ]
  },
  {
   "cell_type": "code",
   "execution_count": 307,
   "id": "d94a7e3e",
   "metadata": {},
   "outputs": [
    {
     "name": "stdout",
     "output_type": "stream",
     "text": [
      "11\n"
     ]
    }
   ],
   "source": [
    "s = Solution()\n",
    "print(s.knapSack(4,8,[1, 4, 5, 7],[1, 3, 4, 5]))"
   ]
  },
  {
   "cell_type": "code",
   "execution_count": null,
   "id": "becc9c2d",
   "metadata": {},
   "outputs": [],
   "source": []
  },
  {
   "cell_type": "markdown",
   "id": "e1fe2a73",
   "metadata": {},
   "source": [
    "### 419. Partition Problem"
   ]
  },
  {
   "cell_type": "raw",
   "id": "f9369406",
   "metadata": {},
   "source": [
    "Given an array arr[] of size N, check if it can be partitioned into two parts such that the sum of elements in both parts is the same.\n",
    "\n",
    "Example 1:\n",
    "\n",
    "Input: N = 4\n",
    "arr = {1, 5, 11, 5}\n",
    "Output: YES\n",
    "Explanation: \n",
    "The two parts are {1, 5, 5} and {11}."
   ]
  },
  {
   "cell_type": "raw",
   "id": "dbd925a8",
   "metadata": {},
   "source": [
    "This is same as subset sum problem (Q-471)\n",
    "Here target will be total_sum / 2\n",
    "(Check Q-471 for all other approaches)"
   ]
  },
  {
   "cell_type": "code",
   "execution_count": null,
   "id": "feba6763",
   "metadata": {},
   "outputs": [],
   "source": [
    "class Solution:\n",
    "    def __init__(self):\n",
    "        self.table = None\n",
    "        \n",
    "    def solve(self,arr,N,target):\n",
    "        for ind in range(1,N):\n",
    "            for tar in range(1,target + 1):\n",
    "                not_take = self.table[ind-1][tar]\n",
    "                take = False\n",
    "                if tar >= arr[ind]:\n",
    "                    take = self.table[ind-1][tar-arr[ind]]\n",
    "                \n",
    "                self.table[ind][tar] = (take or not_take)\n",
    "        \n",
    "    def equalPartition(self, N, arr):\n",
    "        target = sum(arr)\n",
    "        if target % 2:\n",
    "            return 0\n",
    "        \n",
    "        target = target // 2\n",
    "        \n",
    "        self.table = [[False for i in range(target+1)] for j in range(N)]\n",
    "        for i in range(N):\n",
    "            self.table[i][0] = True\n",
    "            \n",
    "        if arr[0] <= target:\n",
    "            self.table[0][arr[0]] = True\n",
    "        \n",
    "        self.solve(arr,N,target)\n",
    "        \n",
    "        if self.table[N-1][target]:\n",
    "            return 1\n",
    "        return 0\n",
    "    \n",
    "# Time comp:O(N*T)\n",
    "# Space comp:O(N*T)"
   ]
  },
  {
   "cell_type": "code",
   "execution_count": null,
   "id": "a1ff2bec",
   "metadata": {},
   "outputs": [],
   "source": []
  },
  {
   "cell_type": "markdown",
   "id": "84a904f5",
   "metadata": {},
   "source": [
    "### 420. Longest Palindromic Subsequence"
   ]
  },
  {
   "cell_type": "raw",
   "id": "e8729006",
   "metadata": {},
   "source": [
    "Given a String, find the longest palindromic subsequence.\n",
    "\n",
    "\n",
    "Example 1:\n",
    "\n",
    "Input:\n",
    "S = \"bbabcbcab\"\n",
    "Output: 7\n",
    "Explanation: Subsequence \"babcbab\" is the\n",
    "longest subsequence which is also a palindrome"
   ]
  },
  {
   "cell_type": "raw",
   "id": "86cbb787",
   "metadata": {},
   "source": [
    "Here the idea is,\n",
    "Create another string which is reverse of given string and find LCS of those two and that will be the Longest Palindromic Subsequence"
   ]
  },
  {
   "cell_type": "code",
   "execution_count": 420,
   "id": "a11d8e11",
   "metadata": {},
   "outputs": [],
   "source": [
    "# Recursive solution\n",
    "\n",
    "class Solution:\n",
    "    def solve(self,S1,S2,i,j):\n",
    "        if i < 0 or j < 0:\n",
    "            return 0\n",
    "        \n",
    "        if S1[i] == S2[j]:\n",
    "            return 1 + self.solve(S1,S2,i-1,j-1)\n",
    "        \n",
    "        else:\n",
    "            x = self.solve(S1,S2,i,j-1)\n",
    "            y = self.solve(S1,S2,i-1,j)\n",
    "            return max(x,y)\n",
    "\n",
    "    def longestPalinSubseq(self, S):\n",
    "        S1 = S\n",
    "        S2 = S1[::-1]\n",
    "        \n",
    "        i = len(S1)-1\n",
    "        j = len(S2)-1\n",
    "        \n",
    "        return self.solve(S1,S2,i,j)\n",
    "    \n",
    "# Time comp:O(2^N)\n",
    "# Space comp:O(N)"
   ]
  },
  {
   "cell_type": "code",
   "execution_count": null,
   "id": "2892a58d",
   "metadata": {},
   "outputs": [],
   "source": [
    "# DP: Top down approach\n",
    "\n",
    "class Solution:\n",
    "    def solve(self,S1,S2,i,j,table):\n",
    "        if i < 0 or j < 0:\n",
    "            return 0\n",
    "        \n",
    "        if table[i][j] != -1:\n",
    "            return table[i][j]\n",
    "        \n",
    "        if S1[i] == S2[j]:\n",
    "            table[i][j] = 1 + self.solve(S1,S2,i-1,j-1,table)\n",
    "        \n",
    "        else:\n",
    "            x = self.solve(S1,S2,i,j-1,table)\n",
    "            y = self.solve(S1,S2,i-1,j,table)\n",
    "            table[i][j] = max(x,y)\n",
    "\n",
    "        return table[i][j]\n",
    "\n",
    "    def longestPalinSubseq(self, S):\n",
    "        S1 = S\n",
    "        S2 = S1[::-1]\n",
    "        \n",
    "        table = [[-1 for i in range(len(S2))] for j in range(len(S1))]\n",
    "        \n",
    "        i = len(S1)-1\n",
    "        j = len(S2)-1\n",
    "        \n",
    "# Time comp:O(N*N)\n",
    "# Space comp:O(N*N)    (recursive stack:O(N))"
   ]
  },
  {
   "cell_type": "code",
   "execution_count": null,
   "id": "50ef4e13",
   "metadata": {},
   "outputs": [],
   "source": [
    "# DP: Bottom up approach\n",
    "\n",
    "class Solution:\n",
    "    def longestPalinSubseq(self, S):\n",
    "        S1 = S\n",
    "        S2 = S1[::-1]\n",
    "        N = len(S)\n",
    "        table = [[0 for i in range(N+1)] for j in range(N+1)]\n",
    "        \n",
    "        for i in range(1,N+1):\n",
    "            for j in range(1,N+1):\n",
    "                if S1[i-1] == S2[j-1]:\n",
    "                    table[i][j] = 1 + table[i-1][j-1]\n",
    "                else:\n",
    "                    table[i][j] = max(table[i][j-1],table[i-1][j])\n",
    "                    \n",
    "        return table[N][N]\n",
    "    \n",
    "# Time comp:O(N*N)\n",
    "# Space comp:O(N*N)"
   ]
  },
  {
   "cell_type": "raw",
   "id": "18559a2d",
   "metadata": {},
   "source": [
    "Space optimized approach is also possible, same as LCS"
   ]
  },
  {
   "cell_type": "code",
   "execution_count": null,
   "id": "6368a5ad",
   "metadata": {},
   "outputs": [],
   "source": []
  },
  {
   "cell_type": "markdown",
   "id": "c2501a6b",
   "metadata": {},
   "source": [
    "### 427. Maximum profit by buying and selling a share at most twice [ IMP ] (No overlapping transaction)"
   ]
  },
  {
   "cell_type": "raw",
   "id": "45f23eff",
   "metadata": {},
   "source": [
    "In daily share trading, a buyer buys shares in the morning and sells them on the same day. If the trader is allowed to make at most 2 transactions in a day, the second transaction can only start after the first one is complete (Buy->sell->Buy->sell). The stock prices throughout the day are represented in the form of an array of prices. \n",
    "\n",
    "Given an array price of size N, find out the maximum profit that a share trader could have made.\n",
    "\n",
    "Example 1:\n",
    "\n",
    "Input:\n",
    "6\n",
    "10 22 5 75 65 80\n",
    "Output:\n",
    "87\n",
    "Explanation:\n",
    "Trader earns 87 as sum of 12, 75 \n",
    "Buy at 10, sell at 22, \n",
    "Buy at 5 and sell at 80"
   ]
  },
  {
   "cell_type": "raw",
   "id": "e206bf6e",
   "metadata": {},
   "source": [
    "Check que 490 before this.\n",
    "\n",
    "k = number of transactions are allowed\n",
    "\n",
    "We take one variable 'buy' to indicate whether we can buy any stock on given day or not\n",
    "Initially (buy = even number) means allows to buy.\n",
    "\n",
    "If we are allowed to buy then either we will buy it or not buy it\n",
    "If we are allowed to sell then either we will sell it or not sell it\n",
    "\n",
    "ans based on that return max result.\n",
    "\n",
    "if at any point of time, buy > k*2; just return 0"
   ]
  },
  {
   "cell_type": "code",
   "execution_count": null,
   "id": "069151d3",
   "metadata": {},
   "outputs": [],
   "source": [
    "# Recursive solution\n",
    "\n",
    "class Solution:\n",
    "    def solve(self,n,price,i,buy,k):\n",
    "        if i == n:\n",
    "            return 0\n",
    "        if buy > k*2:\n",
    "            return 0\n",
    "        \n",
    "        if buy % 2:\n",
    "            x = price[i] * -1 + self.solve(n,price,i+1,buy+1,k)\n",
    "            y = 0 + self.solve(n,price,i+1,buy,k)\n",
    "            return max(x,y)\n",
    "        else:\n",
    "            x = price[i] + self.solve(n,price,i+1,buy+1,k)\n",
    "            y = 0 + self.solve(n,price,i+1,buy,k)\n",
    "            return max(x,y)\n",
    "        \n",
    "    def maxProfit(self, n, price):\n",
    "        i = 0\n",
    "        buy = 1\n",
    "        k = 2\n",
    "        return self.solve(n,price,i,buy,k)\n",
    "    \n",
    "# Time comp:O(2^N)\n",
    "# Space comp:O(N)"
   ]
  },
  {
   "cell_type": "code",
   "execution_count": null,
   "id": "82c16f11",
   "metadata": {},
   "outputs": [],
   "source": [
    "# DP: Top down approach\n",
    "\n",
    "import sys\n",
    "sys.setrecursionlimit(1000000)\n",
    "\n",
    "class Solution:\n",
    "    def solve(self,n,price,i,buy,k,table):\n",
    "        if i == n:\n",
    "            return 0\n",
    "        if buy >= k*2:\n",
    "            return 0\n",
    "        \n",
    "        if table[i][buy] != -1:\n",
    "            return table[i][buy]\n",
    "        \n",
    "        if buy % 2 == 0:\n",
    "            x = price[i] * -1 + self.solve(n,price,i+1,buy+1,k,table)\n",
    "            y = 0 + self.solve(n,price,i+1,buy,k,table)\n",
    "            table[i][buy] = max(x,y)\n",
    "        else:\n",
    "            x = price[i] + self.solve(n,price,i+1,buy+1,k,table)\n",
    "            y = 0 + self.solve(n,price,i+1,buy,k,table)\n",
    "            table[i][buy] = max(x,y)\n",
    "        \n",
    "        return table[i][buy]\n",
    "        \n",
    "    def maxProfit(self, n, price):\n",
    "        i = 0\n",
    "        buy = 0\n",
    "        k = 2\n",
    "        table = [[-1 for i in range(k*2)] for j in range(n)]\n",
    "        return self.solve(n,price,i,buy,k,table)\n",
    "    \n",
    "# Time comp:O(N)\n",
    "# Space comp:O(N)"
   ]
  },
  {
   "cell_type": "code",
   "execution_count": null,
   "id": "e05aba98",
   "metadata": {},
   "outputs": [],
   "source": [
    "# DP: Bottom up approach\n",
    "\n",
    "class Solution:\n",
    "    def maxProfit(self, n, price):\n",
    "        \n",
    "        k = 2\n",
    "        table = [[0 for i in range((k*2)+1)] for j in range(n+1)]\n",
    "        \n",
    "        for i in range(k*2):\n",
    "            table[n][k] = 0\n",
    "        for i in range(n+1):\n",
    "            table[i][-1] = 0\n",
    "        \n",
    "        for i in range(n-1,-1,-1):\n",
    "            for buy in range(k*2):\n",
    "                if buy % 2 == 0:\n",
    "                    x = price[i] * -1 + table[i+1][buy+1]\n",
    "                    y = 0 + table[i+1][buy]\n",
    "                    table[i][buy] = max(x,y)\n",
    "                else:\n",
    "                    x = price[i] + table[i+1][buy+1]\n",
    "                    y = 0 + table[i+1][buy]\n",
    "                    table[i][buy] = max(x,y)\n",
    "        \n",
    "        return table[0][0]\n",
    "    \n",
    "# Time comp:O(N)\n",
    "# Space comp:O(N)"
   ]
  },
  {
   "cell_type": "code",
   "execution_count": 447,
   "id": "4bf82dc0",
   "metadata": {},
   "outputs": [],
   "source": [
    "# Space optimised approach:\n",
    "\n",
    "class Solution:\n",
    "    def maxProfit(self, n, price):\n",
    "        k = 2\n",
    "        prev = [0 for i in range((k*2)+1)]\n",
    "        curr = [0 for i in range((k*2)+1)]\n",
    "        \n",
    "        for i in range(n-1,-1,-1):\n",
    "            for buy in range(k*2):\n",
    "                if buy % 2 == 0:\n",
    "                    x = price[i] * -1 + prev[buy+1]\n",
    "                    y = 0 + prev[buy]\n",
    "                    curr[buy] = max(x,y)\n",
    "                else:\n",
    "                    x = price[i] + prev[buy+1]\n",
    "                    y = 0 + prev[buy]\n",
    "                    curr[buy] = max(x,y)\n",
    "            prev = curr\n",
    "        \n",
    "        return curr[0]\n",
    "    \n",
    "# Time comp:O(N)\n",
    "# Space comp:O(1)    (because k is fixed here as 2)"
   ]
  },
  {
   "cell_type": "code",
   "execution_count": 450,
   "id": "c246bb39",
   "metadata": {},
   "outputs": [
    {
     "data": {
      "text/plain": [
       "100"
      ]
     },
     "execution_count": 450,
     "metadata": {},
     "output_type": "execute_result"
    }
   ],
   "source": [
    "s = Solution()\n",
    "s.maxProfit(7,[2, 30, 15, 10, 8, 25, 80])"
   ]
  },
  {
   "cell_type": "code",
   "execution_count": null,
   "id": "b47bf47c",
   "metadata": {},
   "outputs": [],
   "source": []
  },
  {
   "cell_type": "markdown",
   "id": "d1f6c3bf",
   "metadata": {},
   "source": [
    "### 428. Optimal Strategy For A Game"
   ]
  },
  {
   "cell_type": "raw",
   "id": "d81bc1c8",
   "metadata": {},
   "source": [
    "F(i, j) represents the maximum value the user\n",
    "can collect from i'th coin to j'th coin.\n",
    "\n",
    "F(i, j) = Max(Vi + min(F(i+2, j), F(i+1, j-1) ), \n",
    "              Vj + min(F(i+1, j-1), F(i, j-2) ))\n",
    "As user wants to maximise the number of coins. \n",
    "\n",
    "Base Cases\n",
    "    F(i, j) = Vi           If j == i\n",
    "    F(i, j) = max(Vi, Vj)  If j == i + 1\n",
    "    \n",
    "    \n"
   ]
  },
  {
   "cell_type": "code",
   "execution_count": 269,
   "id": "9d832232",
   "metadata": {},
   "outputs": [],
   "source": [
    "\"\"\"\n",
    "If I will choose 1st element then opponent will choose the best from first and last which he have,\n",
    "So you will get min from remaining part as max one will be choosen by opponent\n",
    "\"\"\"\n",
    "\n",
    "# Recursive solution\n",
    "\n",
    "class Solution:\n",
    "    def solve(self,arr,n,i,j):\n",
    "        if i == j:\n",
    "            return arr[i]\n",
    "        if i+1 == j:\n",
    "            return max(arr[i],arr[j])\n",
    "        \n",
    "        first = arr[i] + min(self.solve(arr,n,i+2,j),self.solve(arr,n,i+1,j-1))\n",
    "        last = arr[j] + min(self.solve(arr,n,i+1,j-1),self.solve(arr,n,i,j-2))\n",
    "        \n",
    "        return max(first,last)\n",
    "        \n",
    "    def optimalStrategyOfGame(self,arr, n):\n",
    "        i = 0\n",
    "        j = n-1\n",
    "        \n",
    "        return self.solve(arr,n,i,j)\n",
    "    \n",
    "# Time comp:O(2^N)\n",
    "# Space comp:O(N)"
   ]
  },
  {
   "cell_type": "code",
   "execution_count": 270,
   "id": "ba3ec1a4",
   "metadata": {},
   "outputs": [
    {
     "data": {
      "text/plain": [
       "15"
      ]
     },
     "execution_count": 270,
     "metadata": {},
     "output_type": "execute_result"
    }
   ],
   "source": [
    "s = Solution()\n",
    "s.optimalStrategyOfGame([5,3,7,10],4)"
   ]
  },
  {
   "cell_type": "code",
   "execution_count": 276,
   "id": "e8ba06db",
   "metadata": {},
   "outputs": [],
   "source": [
    "# DP: Top down approach\n",
    "\n",
    "class Solution:\n",
    "    def solve(self,arr,n,i,j,table):\n",
    "        if i == j:\n",
    "            return arr[i]\n",
    "        if i+1 == j:\n",
    "            return max(arr[i],arr[j])\n",
    "        \n",
    "        if table[i][j] != -1:\n",
    "            return table[i][j]\n",
    "        \n",
    "        first = arr[i] + min(self.solve(arr,n,i+2,j,table),self.solve(arr,n,i+1,j-1,table))\n",
    "        last = arr[j] + min(self.solve(arr,n,i+1,j-1,table),self.solve(arr,n,i,j-2,table))\n",
    "        \n",
    "        table[i][j] =  max(first,last)\n",
    "        return table[i][j]\n",
    "        \n",
    "    def optimalStrategyOfGame(self,arr, n):\n",
    "        table = [[-1 for i in range(n)] for j in range(n)]\n",
    "        i = 0\n",
    "        j = n-1\n",
    "        \n",
    "        return self.solve(arr,n,i,j,table)\n",
    "    \n",
    "# Time comp:O(2^N)\n",
    "# Space comp:O(N)"
   ]
  },
  {
   "cell_type": "code",
   "execution_count": 277,
   "id": "3757890b",
   "metadata": {},
   "outputs": [
    {
     "data": {
      "text/plain": [
       "15"
      ]
     },
     "execution_count": 277,
     "metadata": {},
     "output_type": "execute_result"
    }
   ],
   "source": [
    "s = Solution()\n",
    "s.optimalStrategyOfGame([5,3,7,10],4)"
   ]
  },
  {
   "cell_type": "code",
   "execution_count": null,
   "id": "98a4e7a1",
   "metadata": {},
   "outputs": [],
   "source": [
    "# DP: Bottom up approach\n",
    "\n",
    "class Solution:\n",
    "    def optimalStrategyOfGame(self,arr, n):\n",
    "        table = [[-1 for i in range(n)] for j in range(n)]\n",
    "        \n",
    "        for gap in range(n):\n",
    "            for j in range(gap,n):\n",
    "                i = j-gap\n",
    "                \n",
    "                x = 0\n",
    "                if((i + 2) <= j):\n",
    "                    x = table[i + 2][j]\n",
    "                y = 0\n",
    "                if((i + 1) <= (j - 1)):\n",
    "                    y = table[i + 1][j - 1]\n",
    "                z = 0\n",
    "                if(i <= (j - 2)):\n",
    "                    z = table[i][j - 2]\n",
    "        \n",
    "                table[i][j] = max(arr[i] + min(x,y), arr[j] + min(y,z))\n",
    "\n",
    "        return table[0][n-1]\n",
    "    \n",
    "# Time comp:O(2^N)\n",
    "# Space comp:O(N)"
   ]
  },
  {
   "cell_type": "code",
   "execution_count": 278,
   "id": "d1684c20",
   "metadata": {},
   "outputs": [
    {
     "data": {
      "text/plain": [
       "15"
      ]
     },
     "execution_count": 278,
     "metadata": {},
     "output_type": "execute_result"
    }
   ],
   "source": [
    "s = Solution()\n",
    "s.optimalStrategyOfGame([5,3,7,10],4)"
   ]
  },
  {
   "cell_type": "code",
   "execution_count": null,
   "id": "66a3f419",
   "metadata": {},
   "outputs": [],
   "source": []
  },
  {
   "cell_type": "markdown",
   "id": "0e1d9b70",
   "metadata": {},
   "source": [
    "### 437. Maximum profit by buying and selling a share at most k times"
   ]
  },
  {
   "cell_type": "raw",
   "id": "4de59820",
   "metadata": {},
   "source": [
    "In the stock market, a person buys a stock and sells it on some future date. Given the stock prices of N days in an array A[ ] and a positive integer K, find out the maximum profit a person can make in at-most K transactions. A transaction is equivalent to (buying + selling) of a stock and new transaction can start only when the previous transaction has been completed.\n",
    "\n",
    "\n",
    "Example 1:\n",
    "\n",
    "Input: K = 2, N = 6\n",
    "A = {10, 22, 5, 75, 65, 80}\n",
    "Output: 87\n",
    "Explaination: \n",
    "1st transaction: buy at 10 and sell at 22. \n",
    "2nd transaction : buy at 5 and sell at 80."
   ]
  },
  {
   "cell_type": "code",
   "execution_count": 452,
   "id": "237a7cc8",
   "metadata": {},
   "outputs": [],
   "source": [
    "\"\"\"\n",
    "We did Que 427 by this way only, there we tool k = 2 while in this que the value of k will be given\n",
    "\"\"\"\n",
    "\n",
    "# Space optimized solution\n",
    "\n",
    "class Solution:\n",
    "    def maxProfit(self,k, n, price):\n",
    "        prev = [0 for i in range((k*2)+1)]\n",
    "        curr = [0 for i in range((k*2)+1)]\n",
    "        \n",
    "        for i in range(n-1,-1,-1):\n",
    "            for buy in range(k*2):\n",
    "                if buy % 2 == 0:\n",
    "                    x = price[i] * -1 + prev[buy+1]\n",
    "                    y = 0 + prev[buy]\n",
    "                    curr[buy] = max(x,y)\n",
    "                else:\n",
    "                    x = price[i] + prev[buy+1]\n",
    "                    y = 0 + prev[buy]\n",
    "                    curr[buy] = max(x,y)\n",
    "            prev = curr\n",
    "        \n",
    "        return curr[0]\n",
    "    \n",
    "# Time comp:O(N*K)\n",
    "# Space comp:O(N*K)"
   ]
  },
  {
   "cell_type": "code",
   "execution_count": 453,
   "id": "56c8962a",
   "metadata": {},
   "outputs": [
    {
     "data": {
      "text/plain": [
       "1040"
      ]
     },
     "execution_count": 453,
     "metadata": {},
     "output_type": "execute_result"
    }
   ],
   "source": [
    "s = Solution()\n",
    "s.maxProfit(3,4,[20, 580, 420, 900])"
   ]
  },
  {
   "cell_type": "code",
   "execution_count": null,
   "id": "02bcdf0a",
   "metadata": {},
   "outputs": [],
   "source": []
  },
  {
   "cell_type": "markdown",
   "id": "34f173a9",
   "metadata": {},
   "source": [
    "### 467. Nth Fibinacci number"
   ]
  },
  {
   "cell_type": "raw",
   "id": "24f44fe7",
   "metadata": {},
   "source": [
    "Given a positive integer n, find the nth fibonacci number. Since the answer can be very large, return the answer modulo 1000000007.\n",
    "\n",
    "Input: n = 5\n",
    "Output: 5\n",
    "Explanation: 5 is the 5th number\n",
    "of fibonacci series."
   ]
  },
  {
   "cell_type": "raw",
   "id": "f4ae5dc5",
   "metadata": {},
   "source": [
    "Fibinacci: 0 1 1 2 3 5 8 13 21 ...\n",
    "\n",
    "f(n) = f(n-1) + f(n-2)"
   ]
  },
  {
   "cell_type": "code",
   "execution_count": 3,
   "id": "41a8eec5",
   "metadata": {},
   "outputs": [],
   "source": [
    "# Recursion methon\n",
    "\n",
    "def findFibo(n):\n",
    "    if n == 1 or n == 0:\n",
    "        return n\n",
    "\n",
    "    return findFibo(n-1) + findFibo(n-2)\n",
    "\n",
    "# Time comp:O(2^n)\n",
    "# Space comp:O(1)   (Recursive tree:O(n))"
   ]
  },
  {
   "cell_type": "code",
   "execution_count": 4,
   "id": "50577357",
   "metadata": {},
   "outputs": [
    {
     "name": "stdout",
     "output_type": "stream",
     "text": [
      "8\n",
      "34\n"
     ]
    }
   ],
   "source": [
    "print(findFibo(6))\n",
    "print(findFibo(9))"
   ]
  },
  {
   "cell_type": "code",
   "execution_count": 14,
   "id": "ba0fdf63",
   "metadata": {},
   "outputs": [],
   "source": [
    "# DP: Top down approach\n",
    "\n",
    "class Solution:\n",
    "    def __init__(self):\n",
    "        self.table = []\n",
    "        \n",
    "    def findFibo(self,n):\n",
    "        if n == 1 or n == 0:\n",
    "            return n\n",
    "        \n",
    "        if self.table[n] != -1:\n",
    "            return self.table[n]\n",
    "        \n",
    "        x = self.findFibo(n-1) + self.findFibo(n-2)\n",
    "        self.table[n] = x\n",
    "        return x\n",
    "    \n",
    "    \n",
    "    def nthFibonacci(self, n):\n",
    "        self.table = [-1 for i in range(n+1)]\n",
    "        ans = self.findFibo(n)\n",
    "        return ans%1000000007\n",
    "    \n",
    "# Time comp:O(N)\n",
    "# Space comp:O(N)   (for memoization)  (recursion tree:O(N))"
   ]
  },
  {
   "cell_type": "code",
   "execution_count": 15,
   "id": "003a5b54",
   "metadata": {},
   "outputs": [
    {
     "name": "stdout",
     "output_type": "stream",
     "text": [
      "8\n",
      "34\n"
     ]
    }
   ],
   "source": [
    "s = Solution()\n",
    "print(s.nthFibonacci(6))\n",
    "print(s.nthFibonacci(9))"
   ]
  },
  {
   "cell_type": "code",
   "execution_count": 16,
   "id": "30d26b99",
   "metadata": {},
   "outputs": [],
   "source": [
    "# DP: Bottom up approach\n",
    "\n",
    "class Solution2:\n",
    "    def __init__(self):\n",
    "        self.table = []\n",
    "        \n",
    "    def findFibo(self,n):\n",
    "        if n == 1 or n == 0:\n",
    "            return self.table[n]\n",
    "        \n",
    "        for i in range(2,n+1):\n",
    "            self.table[i] = self.table[i-1] + self.table[i-2]\n",
    "        \n",
    "        return self.table[n]\n",
    "    \n",
    "    \n",
    "    def nthFibonacci(self, n):\n",
    "        self.table = [-1 for i in range(n+1)]\n",
    "        self.table[0] = 0\n",
    "        self.table[1] = 1\n",
    "        ans = self.findFibo(n)\n",
    "        return ans%1000000007\n",
    "    \n",
    "# Time comp:O(N)\n",
    "# Space comp:O(N)"
   ]
  },
  {
   "cell_type": "code",
   "execution_count": 17,
   "id": "2261cdbe",
   "metadata": {},
   "outputs": [
    {
     "name": "stdout",
     "output_type": "stream",
     "text": [
      "8\n",
      "34\n"
     ]
    }
   ],
   "source": [
    "s = Solution2()\n",
    "print(s.nthFibonacci(6))\n",
    "print(s.nthFibonacci(9))"
   ]
  },
  {
   "cell_type": "code",
   "execution_count": 12,
   "id": "2e784ad1",
   "metadata": {},
   "outputs": [],
   "source": [
    "# Iterative method  (Space optimization)\n",
    "\n",
    "def findFibo2(n):\n",
    "    if n == 1 or n == 0:\n",
    "        return n\n",
    "\n",
    "    s_last = 0    # second last\n",
    "    last = 1      # last\n",
    "    \n",
    "    for i in range(2,n+1):\n",
    "        temp = last\n",
    "        last = s_last + last\n",
    "        s_last = temp\n",
    "    return last\n",
    "\n",
    "# Time comp:O(N)\n",
    "# Space cop:O(1)"
   ]
  },
  {
   "cell_type": "code",
   "execution_count": 13,
   "id": "c1c993ba",
   "metadata": {},
   "outputs": [
    {
     "name": "stdout",
     "output_type": "stream",
     "text": [
      "8\n",
      "34\n"
     ]
    }
   ],
   "source": [
    "print(findFibo2(6))\n",
    "print(findFibo2(9))"
   ]
  },
  {
   "cell_type": "code",
   "execution_count": null,
   "id": "ca8918f5",
   "metadata": {},
   "outputs": [],
   "source": []
  },
  {
   "cell_type": "markdown",
   "id": "cdeec8fc",
   "metadata": {},
   "source": [
    "### 468. Count ways to reach the n'th stair"
   ]
  },
  {
   "cell_type": "raw",
   "id": "899f7228",
   "metadata": {},
   "source": [
    "There are n stairs, a person standing at the bottom wants to reach the top. The person can climb either 1 stair or 2 stairs at a time. Count the number of ways, the person can reach the top (order does matter).\n",
    "\n",
    "Input:\n",
    "n = 4\n",
    "Output: 5\n",
    "Explanation:\n",
    "You can reach 4th stair in 5 ways. \n",
    "Way 1: Climb 2 stairs at a time. \n",
    "Way 2: Climb 1 stair at a time.\n",
    "Way 3: Climb 2 stairs, then 1 stair\n",
    "and then 1 stair.\n",
    "Way 4: Climb 1 stair, then 2 stairs\n",
    "then 1 stair.\n",
    "Way 5: Climb 1 stair, then 1 stair and\n",
    "then 2 stairs."
   ]
  },
  {
   "cell_type": "raw",
   "id": "f031c834",
   "metadata": {},
   "source": [
    "recursive function:\n",
    "f(n) = f(n+1) + f(f+2)   If I am standing at stair 1 then I can either go to (1+1 = 2) or (1+2 = 3)\n",
    "\n",
    "or\n",
    "\n",
    "f(n) = f(n-1) + f(n-2)   If I am stading at strai 5 then I came either from (5-1 = 4) or (5-2 = 3)"
   ]
  },
  {
   "cell_type": "code",
   "execution_count": 18,
   "id": "8df4c333",
   "metadata": {},
   "outputs": [],
   "source": [
    "class Solution:\n",
    "    def count(self,stairs,i):\n",
    "        if i == stairs:\n",
    "            return 1\n",
    "            \n",
    "        if i > stairs:\n",
    "            return 0\n",
    "            \n",
    "        return self.count(stairs,i+1) + self.count(stairs,i+2)\n",
    "    \n",
    "    def countWays(self,n):\n",
    "        return self.count(n,0) % 1000000007\n",
    "    \n",
    "# Time comp:O(2^N)\n",
    "# Space comp:O(1)   (Recursion stakc:O(N))"
   ]
  },
  {
   "cell_type": "code",
   "execution_count": 19,
   "id": "f916626a",
   "metadata": {},
   "outputs": [
    {
     "name": "stdout",
     "output_type": "stream",
     "text": [
      "5\n",
      "89\n"
     ]
    }
   ],
   "source": [
    "s = Solution()\n",
    "print(s.countWays(4))\n",
    "print(s.countWays(10))"
   ]
  },
  {
   "cell_type": "code",
   "execution_count": 20,
   "id": "f85e5174",
   "metadata": {},
   "outputs": [],
   "source": [
    "# DP: Top down approach\n",
    "\n",
    "class Solution:\n",
    "    def __init__(self):\n",
    "        self.table = []\n",
    "    \n",
    "    def count(self,stairs,i):\n",
    "        if i == stairs:\n",
    "            return 1\n",
    "            \n",
    "        if i > stairs:\n",
    "            return 0\n",
    "            \n",
    "        if self.table[i] != -1:\n",
    "            return self.table[i]\n",
    "            \n",
    "        self.table[i] = self.count(stairs,i+1) + self.count(stairs,i+2)\n",
    "        return self.table[i]\n",
    "    \n",
    "    def countWays(self,n):\n",
    "        self.table = [-1 for i in range(n+1)]\n",
    "        return self.count(n,0) % 1000000007\n",
    "    \n",
    "# Time comp:O(N)\n",
    "# Space comp:O(N)    (recursion stack:O(N))"
   ]
  },
  {
   "cell_type": "code",
   "execution_count": 21,
   "id": "acfe5c97",
   "metadata": {},
   "outputs": [
    {
     "name": "stdout",
     "output_type": "stream",
     "text": [
      "5\n",
      "89\n"
     ]
    }
   ],
   "source": [
    "s = Solution()\n",
    "print(s.countWays(4))\n",
    "print(s.countWays(10))"
   ]
  },
  {
   "cell_type": "code",
   "execution_count": null,
   "id": "2c861e8f",
   "metadata": {},
   "outputs": [],
   "source": [
    "# DP: Bottom up approach\n",
    "\n",
    "class Solution:\n",
    "    def __init__(self):\n",
    "        self.table = []\n",
    "    \n",
    "    def count(self,stairs,i):\n",
    "        if i == stairs:\n",
    "            return self.table[i]\n",
    "        \n",
    "        for j in range(stairs-2,-1,-1):\n",
    "            self.table[j] = self.table[j+1] + self.table[j+2]\n",
    "            \n",
    "        return self.table[0]\n",
    "    \n",
    "    def countWays(self,n):\n",
    "        self.table = [-1 for i in range(n+1)]\n",
    "        self.table[n] = 1\n",
    "        self.table[n-1] = 1\n",
    "        return self.count(n,0) % 1000000007\n",
    "    \n",
    "# Time comp:O(N)\n",
    "# Space comp:O(N)    (recursion stack:O(N))"
   ]
  },
  {
   "cell_type": "code",
   "execution_count": 22,
   "id": "1cabc8a0",
   "metadata": {},
   "outputs": [],
   "source": [
    "# Iterative method (Space optimization)\n",
    "\n",
    "class Solution:\n",
    "    def countWays(self,n):\n",
    "        one = 1\n",
    "        two = 1\n",
    "        \n",
    "        for i in range(2,n+1):\n",
    "            temp = one\n",
    "            one = one + two\n",
    "            two = temp\n",
    "            \n",
    "        return one % 1000000007\n",
    "    \n",
    "# Time comp:O(N)\n",
    "# Space comp:O(1)"
   ]
  },
  {
   "cell_type": "code",
   "execution_count": null,
   "id": "3a5e8b38",
   "metadata": {},
   "outputs": [],
   "source": []
  },
  {
   "cell_type": "markdown",
   "id": "6397ba6b",
   "metadata": {},
   "source": [
    "### 469.  Min Cost Climbing Stairs "
   ]
  },
  {
   "cell_type": "raw",
   "id": "ff671149",
   "metadata": {},
   "source": [
    "Given an array of integers cost[] of length N, where cost[i] is the cost of the ith step on a staircase. Once the cost is paid, you can either climb one or two steps.\n",
    "You can either start from the step with index 0, or the step with index 1.\n",
    "Return the minimum cost to reach the top of the floor.\n",
    "\n",
    "Input:\n",
    "N = 10\n",
    "arr[] = {1, 100, 1, 1, 1, 100, 1, 1, 100, 1}\n",
    "Output:\n",
    "6\n",
    "Explanation:\n",
    "Cheapest option is to start on cost[0], \n",
    "and only step on 1s, skipping cost[3]."
   ]
  },
  {
   "cell_type": "raw",
   "id": "8cdaf134",
   "metadata": {},
   "source": [
    "https://www.youtube.com/watch?v=S31W3kohFDk\n",
    "\n",
    "recursive relation\n",
    "\n",
    "f(k) = min(f(k-1),f(k-2)) + cost(k)   (Where 0<= k <= n-1)\n",
    "\n",
    "if k = n:\n",
    "f(k) = min(f(k-1),f(k-2))"
   ]
  },
  {
   "cell_type": "code",
   "execution_count": 23,
   "id": "8329ea12",
   "metadata": {},
   "outputs": [],
   "source": [
    "# Recursive solution\n",
    "\n",
    "class Solution:\n",
    "    def solve(self, cost,N):\n",
    "        if N == 0:\n",
    "            return cost[0]\n",
    "            \n",
    "        if N == 1:\n",
    "            return cost[1]\n",
    "            \n",
    "        x = self.solve(cost, N-1)\n",
    "        y = self.solve(cost, N-2)\n",
    "        return min(x,y) + cost[N]\n",
    "    \n",
    "    \n",
    "    def minCostClimbingStairs(self, cost, N):\n",
    "        x = self.solve(cost, N-1)\n",
    "        y = self.solve(cost, N-2)\n",
    "        return min(x,y)\n",
    "    \n",
    "# Time comp:O(2^N)\n",
    "# Space comp:O(N)   (due to recursion stack)"
   ]
  },
  {
   "cell_type": "code",
   "execution_count": 24,
   "id": "f6c615a2",
   "metadata": {},
   "outputs": [
    {
     "name": "stdout",
     "output_type": "stream",
     "text": [
      "6\n"
     ]
    }
   ],
   "source": [
    "s = Solution()\n",
    "print(s.minCostClimbingStairs([1, 100, 1, 1, 1, 100, 1, 1, 100, 1],10))"
   ]
  },
  {
   "cell_type": "code",
   "execution_count": null,
   "id": "fb14ffa9",
   "metadata": {},
   "outputs": [],
   "source": [
    "# DP: Top down approach\n",
    "\n",
    "import sys\n",
    "sys.setrecursionlimit(1500)\n",
    "\n",
    "class Solution:\n",
    "    def __init__(self):\n",
    "        self.table = []\n",
    "    \n",
    "    def solve(self, cost,N):\n",
    "        if N == 0:\n",
    "            return cost[0]\n",
    "            \n",
    "        if N == 1:\n",
    "            return cost[1]\n",
    "            \n",
    "        if self.table[N] != -1:\n",
    "            return self.table[N]\n",
    "        \n",
    "        x = self.solve(cost, N-1)\n",
    "        y = self.solve(cost, N-2)\n",
    "        \n",
    "        self.table[N] = min(x,y) + cost[N]\n",
    "        return self.table[N]\n",
    "    \n",
    "    \n",
    "    def minCostClimbingStairs(self, cost, N):\n",
    "        self.table = [-1 for i in range(N+1)]\n",
    "        x = self.solve(cost, N-1)\n",
    "        y = self.solve(cost, N-2)\n",
    "        return min(x,y)\n",
    "    \n",
    "# Time comp:O(N)\n",
    "# Space comp:O(N)   (recursion stack:O(N) + DP table:O(N))"
   ]
  },
  {
   "cell_type": "code",
   "execution_count": null,
   "id": "edf8fdfc",
   "metadata": {},
   "outputs": [],
   "source": [
    "# DP: Bottom up approach\n",
    "\n",
    "class Solution:\n",
    "    def __init__(self):\n",
    "        self.table = []\n",
    "    \n",
    "    def solve(self, cost,N):\n",
    "        if N == 0 or N == 1:\n",
    "            return self.table[N]\n",
    "            \n",
    "        if self.table[N] != -1:\n",
    "            return self.table[N]\n",
    "            \n",
    "        for i in range(2,N):\n",
    "            self.table[i] = min(self.table[i-1],self.table[i-2]) + cost[i]\n",
    "        \n",
    "        return min(self.table[N-1],self.table[N-2])\n",
    "    \n",
    "    \n",
    "    def minCostClimbingStairs(self, cost, N):\n",
    "        self.table = [-1 for i in range(N+1)]\n",
    "        self.table[0] = cost[0]\n",
    "        self.table[1] = cost[1]\n",
    "        return self.solve(cost,N)\n",
    "    \n",
    "# Time comp:O(N)\n",
    "# Space comp:O(N)   (DP table:O(N))"
   ]
  },
  {
   "cell_type": "code",
   "execution_count": 25,
   "id": "0cef2593",
   "metadata": {},
   "outputs": [],
   "source": [
    "# Space optimization\n",
    "\n",
    "class Solution:\n",
    "    def solve(self, cost,N,second_last,last):\n",
    "        if N == 0:\n",
    "            return second_last\n",
    "        \n",
    "        if N == 1:\n",
    "            return last\n",
    "            \n",
    "        for i in range(2,N):\n",
    "            temp = last\n",
    "            last = min(last,second_last) + cost[i]\n",
    "            second_last = temp\n",
    "        \n",
    "        return min(last,second_last)\n",
    "    \n",
    "    \n",
    "    def minCostClimbingStairs(self, cost, N):\n",
    "        self.table = [-1 for i in range(N+1)]\n",
    "        second_last = cost[0]\n",
    "        last = cost[1]\n",
    "        return self.solve(cost,N,second_last,last)\n",
    "    \n",
    "# Time comp:O(N)\n",
    "# Space comp:O(1)"
   ]
  },
  {
   "cell_type": "code",
   "execution_count": 26,
   "id": "e52eea51",
   "metadata": {},
   "outputs": [
    {
     "name": "stdout",
     "output_type": "stream",
     "text": [
      "6\n"
     ]
    }
   ],
   "source": [
    "s = Solution()\n",
    "print(s.minCostClimbingStairs([1, 100, 1, 1, 1, 100, 1, 1, 100, 1],10))"
   ]
  },
  {
   "cell_type": "code",
   "execution_count": null,
   "id": "51eaa90c",
   "metadata": {},
   "outputs": [],
   "source": []
  },
  {
   "cell_type": "markdown",
   "id": "7e511979",
   "metadata": {},
   "source": [
    "### 470. Number of Coins"
   ]
  },
  {
   "cell_type": "raw",
   "id": "add4bd65",
   "metadata": {},
   "source": [
    "Given a value V and array coins[] of size M, the task is to make the change for V cents, given that you have an infinite supply of each of coins{coins1, coins2, ..., coinsm} valued coins. Find the minimum number of coins to make the change. If not possible to make change then return -1.\n",
    "\n",
    "Input: V = 30, M = 3, coins[] = {25, 10, 5}\n",
    "Output: 2\n",
    "Explanation: Use one 25 cent coin\n",
    "and one 5 cent coin"
   ]
  },
  {
   "cell_type": "raw",
   "id": "7ee6e5c6",
   "metadata": {},
   "source": [
    "https://www.youtube.com/watch?v=A3FHNCAkhxE\n",
    "\n",
    "recursive function:\n",
    "    \n",
    "If V == 0: then return 0\n",
    "\n",
    "f(V) = min(1 + f(V - coins[i]))\n",
    "where i from coins[0] to coins[n]"
   ]
  },
  {
   "cell_type": "code",
   "execution_count": 27,
   "id": "7c821571",
   "metadata": {},
   "outputs": [],
   "source": [
    "# Recursive solution\n",
    "\n",
    "class Solution:\n",
    "    def getCoins(self,coins,V):\n",
    "        if V == 0:\n",
    "            return 0\n",
    "            \n",
    "        if V < 0:\n",
    "            return -1\n",
    "            \n",
    "        mini = float('inf')\n",
    "        for i in range(len(coins)):\n",
    "            ans = self.getCoins(coins,V-coins[i])\n",
    "            if ans != -1:\n",
    "                mini = min(mini, 1+ans)\n",
    "        \n",
    "        return mini\n",
    "    \n",
    "    def minCoins(self, coins, M, V):\n",
    "        ans = self.getCoins(coins,V)\n",
    "        if ans == float('inf'):\n",
    "            return -1\n",
    "        else:\n",
    "            return ans\n",
    "        \n",
    "# Time comp:O(V^M)\n",
    "# Space comp:O(M)   (Due to recursion stack)"
   ]
  },
  {
   "cell_type": "code",
   "execution_count": 28,
   "id": "b0b1977b",
   "metadata": {},
   "outputs": [
    {
     "name": "stdout",
     "output_type": "stream",
     "text": [
      "2\n"
     ]
    }
   ],
   "source": [
    "s = Solution()\n",
    "print(s.minCoins([25, 10, 5],3,30))"
   ]
  },
  {
   "cell_type": "code",
   "execution_count": 33,
   "id": "479636f9",
   "metadata": {},
   "outputs": [],
   "source": [
    "# DP: Top Down approach\n",
    "\n",
    "class Solution:\n",
    "    def __init__(self):\n",
    "        self.table = []\n",
    "    \n",
    "    def getCoins(self,coins,V):\n",
    "        if V == 0:\n",
    "            return 0\n",
    "            \n",
    "        if V < 0:\n",
    "            return -1\n",
    "        \n",
    "        if self.table[V] != -1:\n",
    "            return self.table[V]\n",
    "        \n",
    "        mini = float('inf')\n",
    "        for i in range(len(coins)):\n",
    "            ans = self.getCoins(coins,V-coins[i])\n",
    "            if ans != -1:\n",
    "                mini = min(mini, 1+ans)\n",
    "        \n",
    "        self.table[V] = mini\n",
    "        return self.table[V]\n",
    "    \n",
    "    def minCoins(self, coins, M, V):\n",
    "        self.table = [-1 for i in range(V+1)]\n",
    "        ans = self.getCoins(coins,V)\n",
    "        if ans == float('inf'):\n",
    "            return -1\n",
    "        else:\n",
    "            return ans\n",
    "        \n",
    "# Time comp:O(V*M)\n",
    "# Space comp:O(V)   (Due to DP table)"
   ]
  },
  {
   "cell_type": "code",
   "execution_count": 34,
   "id": "3f58c929",
   "metadata": {},
   "outputs": [
    {
     "name": "stdout",
     "output_type": "stream",
     "text": [
      "2\n"
     ]
    }
   ],
   "source": [
    "s = Solution()\n",
    "print(s.minCoins([25, 10, 5],3,30))"
   ]
  },
  {
   "cell_type": "code",
   "execution_count": 35,
   "id": "b6f02641",
   "metadata": {},
   "outputs": [],
   "source": [
    "# DP: Bottom up approach\n",
    "\n",
    "class Solution:\n",
    "    def __init__(self):\n",
    "        self.table = []\n",
    "    \n",
    "    def getCoins(self,coins,V):\n",
    "        if V == 0:\n",
    "            return self.table[0]\n",
    "        \n",
    "        \n",
    "        for i in range(1,V+1):\n",
    "            for j in range(len(coins)):\n",
    "                if i-coins[j] >= 0 and self.table[i-coins[j]] != float('inf'):\n",
    "                    self.table[i] = min(self.table[i], 1+ self.table[i-coins[j]]) \n",
    "        \n",
    "        return self.table[V]\n",
    "    \n",
    "    def minCoins(self, coins, M, V):\n",
    "        self.table = [float('inf') for i in range(V+1)]\n",
    "        self.table[0] = 0\n",
    "        ans = self.getCoins(coins,V)\n",
    "        if ans == float('inf'):\n",
    "            return -1\n",
    "        else:\n",
    "            return ans\n",
    "        \n",
    "# Time comp:O(V*M)\n",
    "# Space comp:O(V)   (Due to DP table)"
   ]
  },
  {
   "cell_type": "code",
   "execution_count": 36,
   "id": "18090ce4",
   "metadata": {},
   "outputs": [
    {
     "name": "stdout",
     "output_type": "stream",
     "text": [
      "2\n"
     ]
    }
   ],
   "source": [
    "s = Solution()\n",
    "print(s.minCoins([25, 10, 5],3,30))"
   ]
  },
  {
   "cell_type": "raw",
   "id": "8e595ac0",
   "metadata": {},
   "source": [
    "Space optimize solution is not possible"
   ]
  },
  {
   "cell_type": "code",
   "execution_count": null,
   "id": "083f76fa",
   "metadata": {},
   "outputs": [],
   "source": []
  },
  {
   "cell_type": "markdown",
   "id": "8edbe43f",
   "metadata": {},
   "source": [
    "### 471. Subset Sum Problem"
   ]
  },
  {
   "cell_type": "raw",
   "id": "566b0576",
   "metadata": {},
   "source": [
    "Given an array of non-negative integers, and a value sum, determine if there is a subset of the given set with sum equal to given sum. \n",
    "\n",
    "\n",
    "Example 1:\n",
    "\n",
    "Input:\n",
    "N = 6\n",
    "arr[] = {3, 34, 4, 12, 5, 2}\n",
    "sum = 9\n",
    "Output: 1 \n",
    "Explanation: Here there exists a subset with\n",
    "sum = 9, 4+3+2 = 9."
   ]
  },
  {
   "cell_type": "code",
   "execution_count": 150,
   "id": "b67772f2",
   "metadata": {},
   "outputs": [],
   "source": [
    "# Recursive solution:\n",
    "\n",
    "class Solution:\n",
    "    def __init__(self):\n",
    "        self.table = None\n",
    "        \n",
    "    def solve(self,arr,N,target,i):\n",
    "        if target == 0:\n",
    "            return True\n",
    "        if i >= N:\n",
    "            return False\n",
    "        \n",
    "        not_take = self.solve(arr,N,target,i+1)\n",
    "        \n",
    "        take = False\n",
    "        if target >= arr[i]:\n",
    "            take = self.solve(arr,N,target-arr[i],i+1)\n",
    "        \n",
    "        return take or not_take\n",
    "    \n",
    "    def isSubsetSum (self, N, arr, sum):\n",
    "        i = 0\n",
    "        x = self.solve(arr,N,sum,i)\n",
    "        if x == True:\n",
    "            return 1\n",
    "        return 0\n",
    "    \n",
    "# Time comp:O(2^n)\n",
    "# Space comp:O(n)    "
   ]
  },
  {
   "cell_type": "code",
   "execution_count": null,
   "id": "008b4d56",
   "metadata": {},
   "outputs": [],
   "source": [
    "# DP: Top down approach\n",
    "\n",
    "class Solution:\n",
    "    def __init__(self):\n",
    "        self.table = None\n",
    "        \n",
    "    def solve(self,arr,N,target,i):\n",
    "        if target == 0:\n",
    "            return True\n",
    "        if i >= N:\n",
    "            return False\n",
    "        \n",
    "        if self.table[i][target] != -1:\n",
    "            return self.table[i][target]\n",
    "        \n",
    "        not_take = self.solve(arr,N,target,i+1)\n",
    "        take = False\n",
    "        if target >= arr[i]:\n",
    "            take = self.solve(arr,N,target-arr[i],i+1)\n",
    "        \n",
    "        self.table[i][target] = (take or not_take)\n",
    "        return self.table[i][target]\n",
    "    \n",
    "    def isSubsetSum (self, N, arr, sum):\n",
    "        self.table = [[-1 for i in range(sum+1)] for j in range(N+1)]\n",
    "        i = 0\n",
    "        x = self.solve(arr,N,sum,i)\n",
    "        if x == True:\n",
    "            return 1\n",
    "        return 0\n",
    "    \n",
    "# Time comp:O(N*T)\n",
    "# Space comp:O(N*T)"
   ]
  },
  {
   "cell_type": "code",
   "execution_count": null,
   "id": "b4eb930b",
   "metadata": {},
   "outputs": [],
   "source": [
    "# DP: Bottom up approach\n",
    "\n",
    "class Solution:\n",
    "    def __init__(self):\n",
    "        self.table = None\n",
    "        \n",
    "    def solve(self,arr,N,target):\n",
    "        for ind in range(1,N):\n",
    "            for tar in range(1,target + 1):\n",
    "                not_take = self.table[ind-1][tar]\n",
    "                take = False\n",
    "                if tar >= arr[ind]:\n",
    "                    take = self.table[ind-1][tar-arr[ind]]\n",
    "                \n",
    "                self.table[ind][tar] = (take or not_take)\n",
    "    \n",
    "    def isSubsetSum (self, N, arr, sum):\n",
    "        self.table = [[False for i in range(sum+1)] for j in range(N)]\n",
    "        for i in range(N):\n",
    "            self.table[i][0] = True\n",
    "            \n",
    "        if arr[0] <= sum:\n",
    "            self.table[0][arr[0]] = True\n",
    "        \n",
    "        self.solve(arr,N,sum)\n",
    "        \n",
    "        if self.table[N-1][sum]:\n",
    "            return True\n",
    "        return False\n",
    "    \n",
    "# Time comp:O(N*T)\n",
    "# Space comp:O(N*T)"
   ]
  },
  {
   "cell_type": "code",
   "execution_count": 151,
   "id": "e24a6a8d",
   "metadata": {},
   "outputs": [],
   "source": [
    "# Space optimized approach\n",
    "\n",
    "class Solution:\n",
    "    def __init__(self):\n",
    "        self.table = None\n",
    "    \n",
    "    def isSubsetSum (self, N, arr, sum):\n",
    "        prev = [False for i in range(sum+1)]\n",
    "        for i in range(N):\n",
    "            prev[0] = True\n",
    "            \n",
    "        if arr[0] <= sum:\n",
    "            prev[arr[0]] = True\n",
    "        \n",
    "        for ind in range(1,N):\n",
    "            curr = [False for i in range(sum+1)]\n",
    "            for tar in range(1, sum + 1):\n",
    "                not_take = prev[tar]\n",
    "                take = False\n",
    "                if tar >= arr[ind]:\n",
    "                    take = prev[tar-arr[ind]]\n",
    "                \n",
    "                curr[tar] = (take or not_take)\n",
    "            prev = curr\n",
    "        \n",
    "        if curr[sum]:\n",
    "            return True\n",
    "        return False\n",
    "    \n",
    "# Time comp:O(N*T)\n",
    "# Space comp:O(N)"
   ]
  },
  {
   "cell_type": "code",
   "execution_count": null,
   "id": "068b3edc",
   "metadata": {},
   "outputs": [],
   "source": []
  },
  {
   "cell_type": "markdown",
   "id": "6bdd10e3",
   "metadata": {},
   "source": [
    "### 472. Frog Jump"
   ]
  },
  {
   "cell_type": "raw",
   "id": "c3de0ac9",
   "metadata": {},
   "source": [
    "There is a frog on the 1st step of an N stairs long staircase. The frog wants to reach the Nth stair. HEIGHT[i] is the height of the (i+1)th stair.If Frog jumps from ith to jth stair, the energy lost in the jump is given by |HEIGHT[i-1] - HEIGHT[j-1] |.In the Frog is on ith staircase, he can jump either to (i+1)th stair or to (i+2)th stair. Your task is to find the minimum total energy used by the frog to reach from 1st stair to Nth stair.\n",
    "For Example\n",
    "If the given ‘HEIGHT’ array is [10,20,30,10], the answer 20 as the frog can jump from 1st stair to 2nd stair (|20-10| = 10 energy lost) and then a jump from 2nd stair to last stair (|10-20| = 10 energy lost). So, the total energy lost is 20."
   ]
  },
  {
   "cell_type": "raw",
   "id": "08760658",
   "metadata": {},
   "source": [
    "Link: https://www.youtube.com/watch?v=EgG3jsGoPvQ&list=PLgUwDviBIf0qUlt5H_kiKYaNSqJ81PMMY&index=4\n",
    "\n",
    "Greedy solution will not work here as step which looks good initially might not actually turns best solution."
   ]
  },
  {
   "cell_type": "code",
   "execution_count": 89,
   "id": "18eb0b15",
   "metadata": {},
   "outputs": [],
   "source": [
    "# Recursive solution\n",
    "\n",
    "def solve(n,arr):\n",
    "    if n == 0:\n",
    "        return 0\n",
    "    \n",
    "    first = solve(n-1,arr) + abs(arr[n] - arr[n-1])\n",
    "    \n",
    "    second = float('inf')\n",
    "    if n >= 2:\n",
    "        second = solve(n-2,arr) + abs(arr[n] - arr[n-2])\n",
    "    \n",
    "    return min(first,second)\n",
    "  \n",
    "def frogJump(n, heights):\n",
    "    return solve(n-1,heights)\n",
    "\n",
    "# Time comp:O(2^n)\n",
    "# Space comp:O(n)    (Due to recursion stack)"
   ]
  },
  {
   "cell_type": "code",
   "execution_count": 90,
   "id": "661d48d9",
   "metadata": {},
   "outputs": [
    {
     "name": "stdout",
     "output_type": "stream",
     "text": [
      "20\n"
     ]
    }
   ],
   "source": [
    "print(frogJump(4,[10,20,30,10]))"
   ]
  },
  {
   "cell_type": "code",
   "execution_count": 94,
   "id": "a6775f59",
   "metadata": {},
   "outputs": [],
   "source": [
    "# DP: Top down solution (Memoization)\n",
    "\n",
    "def solve2(n,arr,dp):\n",
    "    if n == 0:\n",
    "        return 0\n",
    "    \n",
    "    if dp[n] != -1:\n",
    "        return dp[n]\n",
    "    \n",
    "    first = solve2(n-1,arr,dp) + abs(arr[n] - arr[n-1])\n",
    "    second = float('inf')\n",
    "    if n >= 2:\n",
    "        second = solve2(n-2,arr,dp) + abs(arr[n] - arr[n-2])\n",
    "    \n",
    "    dp[n] = min(first,second)\n",
    "    return dp[n]\n",
    "  \n",
    "def frogJump2(n, heights):\n",
    "    dp = [-1 for i in range(n)]\n",
    "    return solve2(n-1,heights,dp)\n",
    "\n",
    "# Time comp:O(N)\n",
    "# Space comp:O(N)    (DP table O(N) + recursion stack:O(N))"
   ]
  },
  {
   "cell_type": "code",
   "execution_count": 95,
   "id": "2cb4d78c",
   "metadata": {},
   "outputs": [
    {
     "name": "stdout",
     "output_type": "stream",
     "text": [
      "20\n"
     ]
    }
   ],
   "source": [
    "print(frogJump2(4,[10,20,30,10]))"
   ]
  },
  {
   "cell_type": "code",
   "execution_count": 96,
   "id": "c3f03142",
   "metadata": {},
   "outputs": [],
   "source": [
    "# DP: Bottom up approach\n",
    "\n",
    "def solve3(n,arr,dp):\n",
    "    for i in range(1,n+1):\n",
    "        first = dp[i-1] + abs(arr[i] - arr[i-1])\n",
    "        second = float('inf')\n",
    "        if i > 1:\n",
    "            second = dp[i-2] + abs(arr[i] - arr[i-2])\n",
    "        dp[i] = min(first,second)\n",
    "    return dp[n]\n",
    "        \n",
    "def frogJump3(n, heights):\n",
    "    if n == 1:\n",
    "        return 0\n",
    "    dp = [0 for i in range(n+1)]\n",
    "    dp[0] = 0\n",
    "    return solve3(n-1,heights,dp)\n",
    "\n",
    "# Time comp:O(N)\n",
    "# Space comp:O(N)    (Due DP table)"
   ]
  },
  {
   "cell_type": "code",
   "execution_count": 97,
   "id": "4fb05aeb",
   "metadata": {},
   "outputs": [
    {
     "name": "stdout",
     "output_type": "stream",
     "text": [
      "20\n"
     ]
    }
   ],
   "source": [
    "print(frogJump3(4,[10,20,30,10]))"
   ]
  },
  {
   "cell_type": "code",
   "execution_count": 99,
   "id": "610dd3d0",
   "metadata": {},
   "outputs": [],
   "source": [
    "# Space optimized approach\n",
    "\n",
    "def solve4(n,arr,last,second_last):\n",
    "    for i in range(1,n+1):\n",
    "        first = last + abs(arr[i] - arr[i-1])\n",
    "        second = float('inf')\n",
    "        if i > 1:\n",
    "            second = second_last + abs(arr[i] - arr[i-2])\n",
    "        \n",
    "        second_last = last\n",
    "        last = min(first,second)\n",
    "        \n",
    "    return last\n",
    "        \n",
    "def frogJump4(n, heights):\n",
    "    if n == 1:\n",
    "        return 0\n",
    "    last = 0\n",
    "    second_last = 0\n",
    "    return solve4(n-1,heights,last,second_last)\n",
    "\n",
    "\n",
    "# Time comp:O(N)\n",
    "# Space comp:O(1)"
   ]
  },
  {
   "cell_type": "code",
   "execution_count": 100,
   "id": "ceff280f",
   "metadata": {},
   "outputs": [
    {
     "name": "stdout",
     "output_type": "stream",
     "text": [
      "20\n"
     ]
    }
   ],
   "source": [
    "print(frogJump4(4,[10,20,30,10]))"
   ]
  },
  {
   "cell_type": "raw",
   "id": "813ec4fe",
   "metadata": {},
   "source": [
    "Follow up que:\n",
    "\n",
    "Instead of just two jumps, if forg allowed to take k jumps then who this que will be solved?\n",
    "\n",
    "about top down apptoach:\n",
    "After base case, we need to run for loop for k times and keep track of min of all and store it into dp table.\n",
    "\n",
    "Time comp of recursion: O(k^n)\n",
    "Time comp of memoization/tabulation: O(n*k)\n",
    "\n",
    "Space optimized approach will not possible here, at min O(k) space will required\n",
    "Also in space optimized appraoch time comp: O(n*(k+K))\n",
    "(But its not ideal, because if k = N then space optimized solution will be of no use)"
   ]
  },
  {
   "cell_type": "code",
   "execution_count": null,
   "id": "018b4b4c",
   "metadata": {},
   "outputs": [],
   "source": []
  },
  {
   "cell_type": "markdown",
   "id": "a62b52df",
   "metadata": {},
   "source": [
    "### 473. Ninja training"
   ]
  },
  {
   "cell_type": "raw",
   "id": "75412ac6",
   "metadata": {},
   "source": [
    "Ninja is planing this ‘N’ days-long training schedule. Each day, he can perform any one of these three activities. (Running, Fighting Practice or Learning New Moves). Each activity has some merit points on each day. As Ninja has to improve all his skills, he can’t do the same activity in two consecutive days. Can you help Ninja find out the maximum merit points Ninja can earn?\n",
    "You are given a 2D array of size N*3 ‘POINTS’ with the points corresponding to each day and activity. Your task is to calculate the maximum number of merit points that Ninja can earn.\n",
    "\n",
    "For Example\n",
    "If the given ‘POINTS’ array is [[1,2,5], [3 ,1 ,1] ,[3,3,3] ],the answer will be 11 as 5 + 3 + 3."
   ]
  },
  {
   "cell_type": "code",
   "execution_count": 131,
   "id": "060f9757",
   "metadata": {},
   "outputs": [],
   "source": [
    "# Recursive solution\n",
    "\n",
    "\"\"\"\n",
    "Here if we take activity 1 on day 1 then we cant take same activity on day 2.\n",
    "As we need to find best solution, we need to check all combinatios and so recursive approach will work here\n",
    "\"\"\"\n",
    "\n",
    "\n",
    "def solve(n,points,day,last_task):\n",
    "    if day == 0:\n",
    "        if last_task == 0:\n",
    "            return max(points[day][1],points[day][2])\n",
    "        elif last_task == 1:\n",
    "            return max(points[day][0],points[day][2])\n",
    "        else:\n",
    "            return max(points[day][0],points[day][1])\n",
    "    \n",
    "    ans = float('-inf')\n",
    "    for i in range(0,3):\n",
    "        if i == last_task:\n",
    "            continue\n",
    "        \n",
    "        x = points[day][i] + solve(n,points,day-1,i)\n",
    "        ans = max(ans,x)\n",
    "    \n",
    "    return ans\n",
    "  \n",
    "def ninjaTraining(n, points):\n",
    "    day = n-1\n",
    "    last_task = 3\n",
    "    ans = solve(n,points,day,last_task)\n",
    "    return ans\n",
    "\n",
    "# Time comp:O(2^N)\n",
    "# Space comp:O(N)    (Due to recursin stack)"
   ]
  },
  {
   "cell_type": "code",
   "execution_count": 132,
   "id": "e8fa5bef",
   "metadata": {},
   "outputs": [
    {
     "name": "stdout",
     "output_type": "stream",
     "text": [
      "11\n"
     ]
    }
   ],
   "source": [
    "print(ninjaTraining(3,[[1,2,5], [3 ,1 ,1] ,[3,3,3]]))"
   ]
  },
  {
   "cell_type": "code",
   "execution_count": 138,
   "id": "6b11d909",
   "metadata": {},
   "outputs": [],
   "source": [
    "# DP: Top down approach\n",
    "\n",
    "def solve(n,points,day,last_task,table):\n",
    "    if day == 0:\n",
    "        if last_task == 0:\n",
    "            table[day][0] = max(points[day][1],points[day][2])\n",
    "            return table[day][0]\n",
    "        elif last_task == 1:\n",
    "            table[day][1] = max(points[day][0],points[day][2])\n",
    "            return table[day][1]\n",
    "        else:\n",
    "            table[day][2] = max(points[day][0],points[day][1])\n",
    "            return table[day][2]\n",
    "    \n",
    "    ans = float('-inf')\n",
    "    for i in range(0,3):\n",
    "        if i == last_task:\n",
    "            continue\n",
    "        \n",
    "        if table[day-1][i] != 0:\n",
    "            x = table[day-1][i] + points[day][i]\n",
    "            ans = max(ans,x)\n",
    "            \n",
    "        else:\n",
    "            x = points[day][i] + solve(n,points,day-1,i,table)\n",
    "            ans = max(ans,x)\n",
    "    \n",
    "    table[day][last_task] = ans\n",
    "    return table[day][last_task]\n",
    "  \n",
    "def ninjaTraining(n, points):\n",
    "    table = [[0 for i in range(4)] for i in range(n)]\n",
    "    day = n-1\n",
    "    last_task = 3\n",
    "    ans = solve(n,points,day,last_task,table)\n",
    "    return ans\n",
    "\n",
    "# Time comp:O(3*N) = O(N)\n",
    "# Space comp:O(3*N) = O(N)    (Due to DP table)"
   ]
  },
  {
   "cell_type": "code",
   "execution_count": 139,
   "id": "1edea284",
   "metadata": {},
   "outputs": [
    {
     "name": "stdout",
     "output_type": "stream",
     "text": [
      "11\n"
     ]
    }
   ],
   "source": [
    "print(ninjaTraining(3,[[1,2,5], [3 ,1 ,1] ,[3,3,3]]))"
   ]
  },
  {
   "cell_type": "code",
   "execution_count": 134,
   "id": "efbb5a5a",
   "metadata": {},
   "outputs": [],
   "source": [
    "# DP: Bottom up approach\n",
    "\n",
    "def solve(n,points,table):\n",
    "    for i in range(1,n):\n",
    "        for j in range(3):\n",
    "            if j == 0:\n",
    "                table[i][j] = points[i][j] + max(table[i-1][1],table[i-1][2])\n",
    "            elif j == 1:\n",
    "                table[i][j] = points[i][j] + max(table[i-1][0],table[i-1][2])\n",
    "            else:\n",
    "                table[i][j] = points[i][j] + max(table[i-1][0],table[i-1][1])\n",
    "        \n",
    "\n",
    "def ninjaTraining(n, points):\n",
    "    table = [[0 for i in range(4)] for i in range(n)]\n",
    "    for i in range(3):\n",
    "        table[0][i] = points[0][i]\n",
    "    \n",
    "    solve(n,points,table)\n",
    "    ans = max(table[n-1])\n",
    "    return ans\n",
    "\n",
    "# Time comp:O(3*N) = O(N)\n",
    "# Space comp:O(3*N) = O(N)    (Due to DP table)"
   ]
  },
  {
   "cell_type": "code",
   "execution_count": 135,
   "id": "a36ab126",
   "metadata": {},
   "outputs": [
    {
     "name": "stdout",
     "output_type": "stream",
     "text": [
      "11\n"
     ]
    }
   ],
   "source": [
    "print(ninjaTraining(3,[[1,2,5], [3 ,1 ,1] ,[3,3,3]]))"
   ]
  },
  {
   "cell_type": "code",
   "execution_count": 142,
   "id": "972d78f6",
   "metadata": {},
   "outputs": [],
   "source": [
    "# Space optimal solution\n",
    "\n",
    "def solve(n,points,first,second,third):\n",
    "    for i in range(1,n):\n",
    "        temp_first = points[i][0] + max(second,third)\n",
    "        temp_second = points[i][1] + max(first,third)\n",
    "        temp_third = points[i][2] + max(second,first)\n",
    "        \n",
    "        first = temp_first\n",
    "        second = temp_second\n",
    "        third = temp_third\n",
    "    \n",
    "    return max(first,second,third)\n",
    "\n",
    "def ninjaTraining(n, points):\n",
    "    first = points[0][0]\n",
    "    second = points[0][1]\n",
    "    third = points[0][2]\n",
    "    \n",
    "    return solve(n,points,first,second,third)\n",
    "\n",
    "# Time comp:O(N)\n",
    "# Space comp:O(1)"
   ]
  },
  {
   "cell_type": "code",
   "execution_count": 143,
   "id": "0c3a5377",
   "metadata": {},
   "outputs": [
    {
     "name": "stdout",
     "output_type": "stream",
     "text": [
      "11\n"
     ]
    }
   ],
   "source": [
    "print(ninjaTraining(3,[[1,2,5], [3 ,1 ,1] ,[3,3,3]]))"
   ]
  },
  {
   "cell_type": "code",
   "execution_count": null,
   "id": "f26a9aaa",
   "metadata": {},
   "outputs": [],
   "source": []
  },
  {
   "cell_type": "markdown",
   "id": "431e5ef6",
   "metadata": {},
   "source": [
    "### 474. Number of Unique Paths"
   ]
  },
  {
   "cell_type": "raw",
   "id": "bc19d38c",
   "metadata": {},
   "source": [
    "Given a A X B matrix with your initial position at the top-left cell, find the number of possible unique paths to reach the bottom-right cell of the matrix from the initial position.\n",
    "\n",
    "Note: Possible moves can be either down or right at any point in time, i.e., we can move to matrix[i+1][j] or matrix[i][j+1] from matrix[i][j].\n",
    "\n",
    "Example 1:\n",
    "\n",
    "Input:\n",
    "A = 2, B = 2\n",
    "Output: 2\n",
    "Explanation: There are only two unique\n",
    "paths to reach the end of the matrix of\n",
    "size two from the starting cell of the\n",
    "matrix."
   ]
  },
  {
   "cell_type": "code",
   "execution_count": 196,
   "id": "82ca798c",
   "metadata": {},
   "outputs": [],
   "source": [
    "# Recursive relation\n",
    "# Here we start from last index and then gradually move up or left as they are the path to reach at that target\n",
    "\n",
    "class Solution:\n",
    "    def solve(self,a,b,row,col):\n",
    "        if row == 0 and col == 0:\n",
    "            return 1\n",
    "        \n",
    "        if row < 0 or col < 0:\n",
    "            return 0\n",
    "            \n",
    "        down = self.solve(a,b,row-1,col)\n",
    "        right = self.solve(a,b,row,col-1)\n",
    "        return down+right\n",
    "    \n",
    "    def NumberOfPaths(self,a, b):\n",
    "        row = a-1\n",
    "        col = b-1\n",
    "        return self.solve(a,b,row,col)\n",
    "    \n",
    "# Time comp:O(2^(A*B))\n",
    "# Space comp:O(A+B)       (Due to recursion stack)"
   ]
  },
  {
   "cell_type": "code",
   "execution_count": 197,
   "id": "ea1f6282",
   "metadata": {},
   "outputs": [
    {
     "data": {
      "text/plain": [
       "10"
      ]
     },
     "execution_count": 197,
     "metadata": {},
     "output_type": "execute_result"
    }
   ],
   "source": [
    "s = Solution()\n",
    "s.NumberOfPaths(3,4)"
   ]
  },
  {
   "cell_type": "code",
   "execution_count": 201,
   "id": "e65c142d",
   "metadata": {},
   "outputs": [],
   "source": [
    "# DP: Top Down approach\n",
    "\n",
    "class Solution:\n",
    "    def solve(self,a,b,row,col,table):\n",
    "        if row == 0 and col == 0:\n",
    "            return 1\n",
    "        \n",
    "        if row < 0 or col < 0:\n",
    "            return 0\n",
    "            \n",
    "        if table[row][col] != -1:\n",
    "            return table[row][col]\n",
    "            \n",
    "        down = self.solve(a,b,row-1,col,table)\n",
    "        right = self.solve(a,b,row,col-1,table)\n",
    "        \n",
    "        table[row][col] = down+right\n",
    "        \n",
    "        return table[row][col]\n",
    "    \n",
    "    def NumberOfPaths(self,a, b):\n",
    "        table = [[-1 for i in range(b)] for j in range(a)]\n",
    "        row = a-1\n",
    "        col = b-1\n",
    "        return self.solve(a,b,row,col,table)\n",
    "    \n",
    "# Time comp:O(A*B)\n",
    "# Space comp:O(A*B)    Due to DP table,   (Recursion stack (A+B))"
   ]
  },
  {
   "cell_type": "code",
   "execution_count": 200,
   "id": "6d974bc2",
   "metadata": {},
   "outputs": [],
   "source": [
    "# DP: Bottom up approach\n",
    "\n",
    "class Solution:\n",
    "    def NumberOfPaths(self,a, b):\n",
    "        table = [[-1 for i in range(b)] for j in range(a)]\n",
    "        table[0][0] = 1\n",
    "            \n",
    "        for i in range(a):\n",
    "            for j in range(b):\n",
    "                \n",
    "                # Ignore the first cell\n",
    "                if i == 0 and j == 0:\n",
    "                    continue\n",
    "                \n",
    "                # Handle the case of first row where i-1 row is not possible\n",
    "                down = 0\n",
    "                if i-1 >= 0:\n",
    "                    down = table[i-1][j]\n",
    "                    \n",
    "                # Handle the case of first column where j-1 column is not possible\n",
    "                right = 0\n",
    "                if j-1 >= 0:\n",
    "                    right = table[i][j-1]\n",
    "                \n",
    "                table[i][j] = down + right\n",
    "                \n",
    "        return table[a-1][b-1]\n",
    "    \n",
    "# Time comp:O(A*B)\n",
    "# Space comp:O(A*B)    (Due to DP table)"
   ]
  },
  {
   "cell_type": "code",
   "execution_count": 198,
   "id": "a0796327",
   "metadata": {},
   "outputs": [],
   "source": [
    "# Space optimized approach:\n",
    "\n",
    "class Solution:\n",
    "    def NumberOfPaths(self,a, b):\n",
    "        prev = [0 for i in range(b)]\n",
    "        curr = [0 for i in range(b)]\n",
    "        curr[0] = 1\n",
    "        \n",
    "        for i in range(a):\n",
    "            for j in range(b):\n",
    "                \n",
    "                if i == 0 and j == 0:\n",
    "                    continue\n",
    "                \n",
    "                down = 0\n",
    "                if i-1 >= 0:\n",
    "                    down = prev[j]\n",
    "                    \n",
    "                right = 0\n",
    "                if j-1 >= 0:\n",
    "                    right = curr[j-1]\n",
    "                \n",
    "                curr[j] = down + right\n",
    "                prev = curr[:]    # prev = curr   will also work here\n",
    "                \n",
    "        return curr[-1]\n",
    "    \n",
    "# Time comp:O(A*B)\n",
    "# Space comp:O(B)    (Due to prev and curr array)"
   ]
  },
  {
   "cell_type": "code",
   "execution_count": 199,
   "id": "58c93695",
   "metadata": {},
   "outputs": [
    {
     "data": {
      "text/plain": [
       "10"
      ]
     },
     "execution_count": 199,
     "metadata": {},
     "output_type": "execute_result"
    }
   ],
   "source": [
    "s = Solution()\n",
    "s.NumberOfPaths(3,4)"
   ]
  },
  {
   "cell_type": "code",
   "execution_count": null,
   "id": "574b58d7",
   "metadata": {},
   "outputs": [],
   "source": []
  },
  {
   "cell_type": "markdown",
   "id": "2c11473d",
   "metadata": {},
   "source": [
    "### 475. maze obstacles"
   ]
  },
  {
   "cell_type": "raw",
   "id": "0eca1b3c",
   "metadata": {},
   "source": [
    "Given a ‘N’ * ’M’ maze with obstacles, count and return the number of unique paths to reach the right-bottom cell from the top-left cell. A cell in the given maze has a value '-1' if it is a blockage or dead-end, else 0. From a given cell, we are allowed to move to cells (i+1, j) and (i, j+1) only. Since the answer can be large, print it modulo 10^9 + 7.\n",
    "For Example :\n",
    "Consider the maze below :\n",
    "0 0 0 \n",
    "0 -1 0 \n",
    "0 0 0\n",
    "\n",
    "There are two ways to reach the bottom left corner - \n",
    "\n",
    "(1, 1) -> (1, 2) -> (1, 3) -> (2, 3) -> (3, 3)\n",
    "(1, 1) -> (2, 1) -> (3, 1) -> (3, 2) -> (3, 3)\n",
    "\n",
    "Hence the answer for the above test case is 2."
   ]
  },
  {
   "cell_type": "code",
   "execution_count": null,
   "id": "37757329",
   "metadata": {},
   "outputs": [],
   "source": [
    "# This question is same as above one, just one more base case has been added to it\n",
    "\n",
    "# DP: Top down approach\n",
    "def solve(a,b,mat,row,col,table):\n",
    "    if row == 0 and col == 0:\n",
    "        return 1\n",
    "\n",
    "    if row < 0 or col < 0:\n",
    "        return 0\n",
    "\n",
    "    if mat[row][col] == -1:\n",
    "        return 0\n",
    "    \n",
    "    if table[row][col] != -1:\n",
    "        return table[row][col]\n",
    "\n",
    "    down = solve(a,b,mat,row-1,col,table)\n",
    "    right = solve(a,b,mat,row,col-1,table)\n",
    "\n",
    "    table[row][col] = down+right\n",
    "\n",
    "    return table[row][col] % 1000000007\n",
    "\n",
    "def mazeObstacles(n, m, mat):\n",
    "    table = [[-1 for i in range(m)] for j in range(n)]\n",
    "    row = n-1\n",
    "    col = m-1\n",
    "    return solve(n,m,mat,row,col,table)\n",
    "\n",
    "# Time comp:O(A*B)\n",
    "# Space comp:O(A*B)    Due to DP table,   (Recursion stack (A+B))\n",
    "\n",
    "# In same way we can solve using other approaches as well"
   ]
  },
  {
   "cell_type": "code",
   "execution_count": null,
   "id": "46a0f1cc",
   "metadata": {},
   "outputs": [],
   "source": []
  },
  {
   "cell_type": "markdown",
   "id": "5a08bc44",
   "metadata": {},
   "source": [
    "### 476. Minimum Path Sum"
   ]
  },
  {
   "cell_type": "raw",
   "id": "af5df63d",
   "metadata": {},
   "source": [
    "Given a m x n grid filled with non-negative numbers, find a path from top left to bottom right, which minimizes the sum of all numbers along its path.\n",
    "\n",
    "Note: You can only move either down or right at any point in time.\n",
    "Input: grid = [[1,3,1],[1,5,1],[4,2,1]]\n",
    "Output: 7\n",
    "Explanation: Because the path 1 → 3 → 1 → 1 → 1 minimizes the sum."
   ]
  },
  {
   "cell_type": "code",
   "execution_count": 210,
   "id": "92d0a45d",
   "metadata": {},
   "outputs": [],
   "source": [
    "# Recursive solution\n",
    "\n",
    "class Solution:\n",
    "    def solve(self,grid,row,col):\n",
    "        if row == 0 and col == 0:\n",
    "            return grid[row][col]\n",
    "        \n",
    "        if row < 0 or col < 0:\n",
    "            return -1\n",
    "        up = float('inf')\n",
    "        left = float('inf')\n",
    "        x = self.solve(grid,row-1,col)\n",
    "        if x != -1:\n",
    "            up = grid[row][col] + x\n",
    "        \n",
    "        y = self.solve(grid,row,col-1)\n",
    "        if y != -1:\n",
    "            left = grid[row][col] + y\n",
    "            \n",
    "        return min(up,left)\n",
    "        \n",
    "        \n",
    "    def minPathSum(self, grid: List[List[int]]) -> int:\n",
    "        n = len(grid)\n",
    "        row = len(grid) - 1\n",
    "        col = len(grid[0]) -1\n",
    "        return self.solve(grid,row,col)\n",
    "    \n",
    "# Time comp:O(2^(row*col))\n",
    "# Space comp:O(row+col)        (recursive depth)"
   ]
  },
  {
   "cell_type": "code",
   "execution_count": null,
   "id": "715f2f65",
   "metadata": {},
   "outputs": [],
   "source": [
    "# DP: Top down appraoch\n",
    "\n",
    "class Solution:\n",
    "    def solve(self,grid,row,col,table):\n",
    "        if row == 0 and col == 0:\n",
    "            return grid[row][col]\n",
    "        \n",
    "        if row < 0 or col < 0:\n",
    "            return -1\n",
    "        \n",
    "        if table[row][col] != -1:\n",
    "            return table[row][col]\n",
    "        \n",
    "        \n",
    "        up = float('inf')\n",
    "        left = float('inf')\n",
    "        x = self.solve(grid,row-1,col,table)\n",
    "        if x != -1:\n",
    "            up = grid[row][col] + x\n",
    "        \n",
    "        y = self.solve(grid,row,col-1,table)\n",
    "        if y != -1:\n",
    "            left = grid[row][col] + y\n",
    "            \n",
    "        table[row][col] = min(up,left)\n",
    "        return table[row][col]\n",
    "        \n",
    "        \n",
    "    def minPathSum(self, grid: List[List[int]]) -> int:\n",
    "        row = len(grid) - 1\n",
    "        col = len(grid[0]) -1\n",
    "        \n",
    "        table = [[-1 for i in range(col+1)] for j in range(row+1)]\n",
    "        \n",
    "        return self.solve(grid,row,col,table)\n",
    "    \n",
    "# Time comp:O(row*col)\n",
    "# Space comp:O(row*col)        (recursive depth: O(row+col))"
   ]
  },
  {
   "cell_type": "code",
   "execution_count": null,
   "id": "be71d132",
   "metadata": {},
   "outputs": [],
   "source": [
    "# DP: Bottom up approach\n",
    "\n",
    "class Solution:\n",
    "    def minPathSum(self, grid: List[List[int]]) -> int:\n",
    "        row = len(grid) - 1\n",
    "        col = len(grid[0]) -1\n",
    "        \n",
    "        table = [[-1 for i in range(col+1)] for j in range(row+1)]\n",
    "        \n",
    "        table[0][0] = grid[0][0]\n",
    "        \n",
    "        for i in range(row+1):\n",
    "            for j in range(col+1):\n",
    "                if i == 0 and j == 0:\n",
    "                    continue\n",
    "                \n",
    "                up = float('inf')\n",
    "                left = float('inf')\n",
    "                if i-1 >= 0:\n",
    "                    up = grid[i][j] + table[i-1][j]\n",
    "                \n",
    "                if j-1 >= 0:\n",
    "                    left = grid[i][j] + table[i][j-1]\n",
    "                \n",
    "                table[i][j] = min(up,left)\n",
    "        \n",
    "        return table[row][col]\n",
    "    \n",
    "# Time comp:O(row*col)\n",
    "# Space comp:O(row*col)"
   ]
  },
  {
   "cell_type": "code",
   "execution_count": null,
   "id": "01dd44e6",
   "metadata": {},
   "outputs": [],
   "source": [
    "# Space optimized solution\n",
    "\n",
    "class Solution:\n",
    "    def minPathSum(self, grid: List[List[int]]) -> int:\n",
    "        row = len(grid) - 1\n",
    "        col = len(grid[0]) -1\n",
    "        \n",
    "        prev = [-1 for i in range(col+1)]\n",
    "        curr = [-1 for i in range(col+1)]\n",
    "        \n",
    "        curr[0] = grid[0][0]\n",
    "        \n",
    "        for i in range(row+1):\n",
    "            for j in range(col+1):\n",
    "                if i == 0 and j == 0:\n",
    "                    continue\n",
    "                \n",
    "                up = float('inf')\n",
    "                left = float('inf')\n",
    "                if i-1 >= 0:\n",
    "                    up = grid[i][j] + prev[j]\n",
    "                \n",
    "                if j-1 >= 0:\n",
    "                    left = grid[i][j] + curr[j-1]\n",
    "                \n",
    "                curr[j] = min(up,left)\n",
    "                prev = curr\n",
    "        \n",
    "        return curr[-1]\n",
    "    \n",
    "# Time comp:O(row*col)\n",
    "# Space comp:O(col)"
   ]
  },
  {
   "cell_type": "code",
   "execution_count": null,
   "id": "e6bf8aec",
   "metadata": {},
   "outputs": [],
   "source": []
  },
  {
   "cell_type": "markdown",
   "id": "8e0d869a",
   "metadata": {},
   "source": [
    "### 477.  minimum path sum in triangle"
   ]
  },
  {
   "cell_type": "raw",
   "id": "06777347",
   "metadata": {},
   "source": [
    "You are given a triangular array/list 'TRIANGLE'. Your task is to return the minimum path sum to reach from the top to the bottom row.\n",
    "The triangle array will have N rows and the i-th row, where 0 <= i < N will have i + 1 elements.\n",
    "You can move only to the adjacent number of row below each step. For example, if you are at index j in row i, then you can move to i or i + 1 index in row j + 1 in each step.\n",
    "For Example :\n",
    "If the array given is 'TRIANGLE' = [[1], [2,3], [3,6,7], [8,9,6,1]] the triangle array will look like:\n",
    "\n",
    "1\n",
    "2,3\n",
    "3,6,7\n",
    "8,9,6,10\n",
    "\n",
    "For the given triangle array the minimum sum path would be 1->2->3->8. Hence the answer would be 14."
   ]
  },
  {
   "cell_type": "code",
   "execution_count": null,
   "id": "00ce08a1",
   "metadata": {},
   "outputs": [],
   "source": [
    "# Recursive solution\n",
    "\n",
    "def solve(triangle,n,row,col):\n",
    "    if row == n-1:\n",
    "        return triangle[row][col]\n",
    "    \n",
    "    x = solve(triangle,n,row+1,col)\n",
    "    y = solve(triangle,n,row+1,col+1)\n",
    "    return min(x,y) + triangle[row][col]\n",
    "    \n",
    "def minimumPathSum(triangle, n):\n",
    "    row = 0\n",
    "    col = 0\n",
    "    return solve(triangle,n,row,col)\n",
    "\n",
    "# Time comp:O(2^(n*n))\n",
    "# Space comp:O(N+N)"
   ]
  },
  {
   "cell_type": "code",
   "execution_count": null,
   "id": "2828bab6",
   "metadata": {},
   "outputs": [],
   "source": [
    "# DP: Top down approach\n",
    "\n",
    "def solve(triangle,n,row,col,table):\n",
    "    if row == n-1:\n",
    "        return triangle[row][col]\n",
    "    \n",
    "    if table[row][col] != -1:\n",
    "        return table[row][col]\n",
    "    \n",
    "    x = solve(triangle,n,row+1,col,table)\n",
    "    y = solve(triangle,n,row+1,col+1,table)\n",
    "    \n",
    "    table[row][col] = min(x,y) + triangle[row][col]\n",
    "    return table[row][col]\n",
    "    \n",
    "def minimumPathSum(triangle, n):\n",
    "    table = [[-1 for i in range(n)] for j in range(n)]\n",
    "    row = 0\n",
    "    col = 0\n",
    "    return solve(triangle,n,row,col,table)\n",
    "\n",
    "# Time comp:O(N*N)\n",
    "# Space comp:O(N*N)   (recursion stack:O(N+N))"
   ]
  },
  {
   "cell_type": "code",
   "execution_count": null,
   "id": "80f41f6d",
   "metadata": {},
   "outputs": [],
   "source": [
    "# DP: Bottom up approach\n",
    "\n",
    "def minimumPathSum(triangle, n):\n",
    "    table = [[-1 for i in range(n)] for j in range(n)]\n",
    "    \n",
    "    for i in range(n):\n",
    "        table[n-1][i] = triangle[n-1][i]\n",
    "        \n",
    "    for i in range(n-2,-1,-1):\n",
    "        for j in range(i+1):\n",
    "            x = table[i+1][j]\n",
    "            y = table[i+1][j+1]\n",
    "            table[i][j] = min(x,y) + triangle[i][j]\n",
    "    return table[0][0]\n",
    "\n",
    "# Time comp:O(N*N)\n",
    "# Space comp:O(N*N)"
   ]
  },
  {
   "cell_type": "code",
   "execution_count": null,
   "id": "9fcde073",
   "metadata": {},
   "outputs": [],
   "source": [
    "# Space optimized approach\n",
    "\n",
    "def minimumPathSum(triangle, n):\n",
    "    prev = [-1 for i in range(n)]\n",
    "    curr = [-1 for i in range(n)]\n",
    "    \n",
    "    for i in range(n):\n",
    "        prev[i] = triangle[n-1][i]\n",
    "        \n",
    "    for i in range(n-2,-1,-1):\n",
    "        for j in range(i+1):\n",
    "            x = prev[j]\n",
    "            y = prev[j+1]\n",
    "            curr[j] = min(x,y) + triangle[i][j]\n",
    "        \n",
    "        prev = curr[:]\n",
    "        \n",
    "    return prev[0]\n",
    "\n",
    "# Time comp:O(N*N)\n",
    "# Space comp:O(N)"
   ]
  },
  {
   "cell_type": "code",
   "execution_count": null,
   "id": "980bc7f8",
   "metadata": {},
   "outputs": [],
   "source": []
  },
  {
   "cell_type": "markdown",
   "id": "7711a053",
   "metadata": {},
   "source": [
    "### 478. Cherry Pickup II"
   ]
  },
  {
   "cell_type": "raw",
   "id": "39e96037",
   "metadata": {},
   "source": [
    "You are given a rows x cols matrix grid representing a field of cherries where grid[i][j] represents the number of cherries that you can collect from the (i, j) cell.\n",
    "\n",
    "You have two robots that can collect cherries for you:\n",
    "\n",
    "Robot #1 is located at the top-left corner (0, 0), and\n",
    "Robot #2 is located at the top-right corner (0, cols - 1).\n",
    "Return the maximum number of cherries collection using both robots by following the rules below:\n",
    "\n",
    "From a cell (i, j), robots can move to cell (i + 1, j - 1), (i + 1, j), or (i + 1, j + 1).\n",
    "When any robot passes through a cell, It picks up all cherries, and the cell becomes an empty cell.\n",
    "When both robots stay in the same cell, only one takes the cherries.\n",
    "Both robots cannot move outside of the grid at any moment.\n",
    "Both robots should reach the bottom row in grid.\n",
    "\n",
    "Input: grid = [[3,1,1],[2,5,1],[1,5,5],[2,1,1]]\n",
    "Output: 24\n",
    "Explanation: Path of robot #1 and #2 are described in color green and blue respectively.\n",
    "Cherries taken by Robot #1, (3 + 2 + 5 + 2) = 12.\n",
    "Cherries taken by Robot #2, (1 + 5 + 5 + 1) = 12.\n",
    "Total of cherries: 12 + 12 = 24."
   ]
  },
  {
   "cell_type": "raw",
   "id": "dc7480e8",
   "metadata": {},
   "source": [
    "We can't do like, first robot1 will find ans then robot2 will. Because there might be a posibility that both can reach to same cell ans in that case only one of them have to take cherries from that cell.\n",
    "\n",
    "So we need to move both the robot together."
   ]
  },
  {
   "cell_type": "code",
   "execution_count": 279,
   "id": "8a66ed54",
   "metadata": {},
   "outputs": [],
   "source": [
    "# Recursive solution\n",
    "\n",
    "class Solution:\n",
    "    def solve(self,grid,row,col1,col2,n,m):\n",
    "        \n",
    "        # base conditions\n",
    "        if col1 < 0 or col1 >= m or col2 < 0 or col2 >= m:\n",
    "            return 0\n",
    "        \n",
    "        if row == n-1:\n",
    "            if col1 == col2:\n",
    "                return grid[row][col1]\n",
    "            else:\n",
    "                return grid[row][col1] + grid[row][col2]\n",
    "        \n",
    "        # Here for each movement of robot 1 there will be 3 movement of robot 2\n",
    "        # So there will be total 9 combinations and we have to get max of those 9\n",
    "        \n",
    "        temp = []\n",
    "        for a in range(-1,2,1):\n",
    "            for b in range(-1,2,1):\n",
    "                temp.append(self.solve(grid,row+1,col1+a,col2+b,n,m))    \n",
    "        \n",
    "        # If both are standing at same cell then include the cerries for once only\n",
    "        if col1 == col2:\n",
    "            return max(temp) + grid[row][col1]\n",
    "        else:\n",
    "            return max(temp) + grid[row][col1] + grid[row][col2]\n",
    "    \n",
    "    def cherryPickup(self, grid):\n",
    "        total_row = len(grid)\n",
    "        total_col = len(grid[0])\n",
    "        \n",
    "        row = 0\n",
    "        col_1 = 0\n",
    "        col_2 = total_col - 1\n",
    "        \n",
    "        return self.solve(grid,row,col_1,col_2,total_row,total_col)\n",
    "    \n",
    "# Time comp:O(3^N * 3^N)  N = Total cells\n",
    "# Space comp:O(N)"
   ]
  },
  {
   "cell_type": "code",
   "execution_count": null,
   "id": "55ffcf68",
   "metadata": {},
   "outputs": [],
   "source": [
    "# DP: Top down\n",
    "# 3D DP\n",
    "\n",
    "class Solution:\n",
    "    def solve(self,grid,row,col1,col2,n,m,table):\n",
    "        if col1 < 0 or col1 >= m or col2 < 0 or col2 >= m:\n",
    "            return 0\n",
    "        \n",
    "        if row == n-1:\n",
    "            if col1 == col2:\n",
    "                return grid[row][col1]\n",
    "            else:\n",
    "                return grid[row][col1] + grid[row][col2]\n",
    "        \n",
    "        if table[row][col1][col2] != -1:\n",
    "            return table[row][col1][col2]\n",
    "        \n",
    "        temp = []\n",
    "        for a in range(-1,2,1):\n",
    "            for b in range(-1,2,1):\n",
    "                temp.append(self.solve(grid,row+1,col1+a,col2+b,n,m,table))      \n",
    "        \n",
    "        if col1 == col2:\n",
    "            table[row][col1][col2] = max(temp) + grid[row][col1]\n",
    "        else:\n",
    "            table[row][col1][col2] = max(temp) + grid[row][col1] + grid[row][col2]\n",
    "        \n",
    "        return table[row][col1][col2]\n",
    "    \n",
    "    def cherryPickup(self, grid):\n",
    "        total_row = len(grid)\n",
    "        total_col = len(grid[0])\n",
    "        \n",
    "        table = [[[-1 for k in range(total_col)] for i in range(total_col)] for j in range(total_row)]\n",
    "        \n",
    "        row = 0\n",
    "        col_1 = 0\n",
    "        col_2 = total_col - 1\n",
    "        \n",
    "        return self.solve(grid,row,col_1,col_2,total_row,total_col,table)\n",
    "        \n",
    "# Time comp:O(N*M*M*9)    N = rows, M = Cols\n",
    "# Space comp:O(N*M*M)   recursion stack:O(N)"
   ]
  },
  {
   "cell_type": "code",
   "execution_count": 280,
   "id": "b285197e",
   "metadata": {},
   "outputs": [],
   "source": [
    "# DP: Bottom up approach\n",
    "\n",
    "class Solution:\n",
    "    def cherryPickup(self, grid):\n",
    "        total_row = len(grid)\n",
    "        total_col = len(grid[0])\n",
    "        \n",
    "        table = [[[-1 for k in range(total_col)] for i in range(total_col)] for j in range(total_row)]\n",
    "        \n",
    "        for i in range(total_col):\n",
    "            for j in range(total_col):\n",
    "                if i == j:\n",
    "                    table[total_row-1][i][j] = grid[total_row-1][i]\n",
    "                else:\n",
    "                    table[total_row-1][i][j] = grid[total_row-1][i] + grid[total_row-1][j]\n",
    "        \n",
    "        row = 0\n",
    "        col_1 = 0\n",
    "        col_2 = total_col - 1\n",
    "        \n",
    "        for i in range(total_row-2,-1,-1):\n",
    "            for j in range(0,total_col):\n",
    "                for k in range(0,total_col):\n",
    "                    temp = []\n",
    "                    for a in range(-1,2,1):\n",
    "                        for b in range(-1,2,1):\n",
    "                            if j+a < 0 or j+a >= total_col or k+b < 0 or k+b >= total_col:\n",
    "                                temp.append(0)\n",
    "                            else:\n",
    "                                temp.append(table[i+1][j+a][k+b])\n",
    "        \n",
    "                    if j == k:\n",
    "                        table[i][j][k] = max(temp) + grid[i][j]\n",
    "                    else:\n",
    "                        table[i][j][k] = max(temp) + grid[i][j] + grid[i][k]\n",
    "        \n",
    "        return table[0][0][total_col-1]\n",
    "    \n",
    "# Time comp:O(N*M*M*9)    N = rows, M = Cols\n",
    "# Space comp:O(N*M*M)"
   ]
  },
  {
   "cell_type": "code",
   "execution_count": null,
   "id": "2f6bcbce",
   "metadata": {},
   "outputs": [],
   "source": []
  },
  {
   "cell_type": "markdown",
   "id": "7160966e",
   "metadata": {},
   "source": [
    "### 480. Minimum sum partition"
   ]
  },
  {
   "cell_type": "raw",
   "id": "fa662deb",
   "metadata": {},
   "source": [
    "Given an array arr of size N containing non-negative integers, the task is to divide it into two sets S1 and S2 such that the absolute difference between their sums is minimum and find the minimum difference\n",
    "\n",
    "\n",
    "Example 1:\n",
    "\n",
    "Input: N = 4, arr[] = {1, 6, 11, 5} \n",
    "Output: 1\n",
    "Explanation: \n",
    "Subset1 = {1, 5, 6}, sum of Subset1 = 12 \n",
    "Subset2 = {11}, sum of Subset2 = 11"
   ]
  },
  {
   "cell_type": "code",
   "execution_count": 291,
   "id": "9d80fb5d",
   "metadata": {},
   "outputs": [],
   "source": [
    "# Recursive solution\n",
    "\n",
    "class Solution:\n",
    "    def solve(self,arr,n,i,curr_sum,target_sum):\n",
    "        if i == n-1:\n",
    "            \n",
    "            t1 = curr_sum + arr[i]\n",
    "            t2 = target_sum - t1\n",
    "            ans1 = abs(t1-t2)\n",
    "        \n",
    "            t1 = curr_sum\n",
    "            t2 = target_sum - t1\n",
    "            ans2 = abs(t1-t2)\n",
    "            \n",
    "            return min(ans1,ans2)\n",
    "        \n",
    "        take = self.solve(arr,n,i+1,curr_sum+arr[i],target_sum)\n",
    "        not_take = self.solve(arr,n,i+1,curr_sum,target_sum)\n",
    "        return min(take,not_take)\n",
    "\n",
    "    def minDifference(self, arr, n):\n",
    "        target_sum = sum(arr)\n",
    "        curr_sum = 0\n",
    "        i = 0\n",
    "        \n",
    "        return self.solve(arr,n,i,curr_sum,target_sum)\n",
    "    \n",
    "# Time comp:O(2^N)\n",
    "# Space comp:O(N)"
   ]
  },
  {
   "cell_type": "code",
   "execution_count": 292,
   "id": "3ef5e51c",
   "metadata": {},
   "outputs": [
    {
     "name": "stdout",
     "output_type": "stream",
     "text": [
      "1\n",
      "3\n"
     ]
    }
   ],
   "source": [
    "s = Solution()\n",
    "print(s.minDifference([1, 6, 11, 5], 4))\n",
    "print(s.minDifference([1, 4], 2))"
   ]
  },
  {
   "cell_type": "code",
   "execution_count": null,
   "id": "3435ccea",
   "metadata": {},
   "outputs": [],
   "source": [
    "# DP: Top down approach\n",
    "\n",
    "class Solution:\n",
    "    def solve(self,arr,n,i,curr_sum,target_sum,table):\n",
    "        if i == n-1:\n",
    "\n",
    "            t1 = curr_sum + arr[i]\n",
    "            t2 = target_sum - t1\n",
    "            ans1 = abs(t1-t2)\n",
    "\n",
    "            t1 = curr_sum\n",
    "            t2 = target_sum - t1\n",
    "            ans2 = abs(t1-t2)\n",
    "\n",
    "            return min(ans1,ans2)\n",
    "        \n",
    "        if table[i][curr_sum] != -1:\n",
    "            return table[i][curr_sum]\n",
    "        \n",
    "        take = self.solve(arr,n,i+1,curr_sum+arr[i],target_sum,table)\n",
    "        not_take = self.solve(arr,n,i+1,curr_sum,target_sum,table)\n",
    "\n",
    "        table[i][curr_sum] = min(take,not_take)\n",
    "\n",
    "        return table[i][curr_sum]\n",
    "\n",
    "    def minDifference(self, arr, n):\n",
    "        target_sum = sum(arr)\n",
    "\n",
    "        table = [[-1 for i in range(target_sum+1)] for j in range(n)]\n",
    "\n",
    "        curr_sum = 0\n",
    "        i = 0\n",
    "\n",
    "        return self.solve(arr,n,i,curr_sum,target_sum,table)\n",
    "    \n",
    "# Time comp:O(N* total)\n",
    "# Space comp:O(N * total)   (recursion stack:O(N))"
   ]
  },
  {
   "cell_type": "code",
   "execution_count": null,
   "id": "7f5c7059",
   "metadata": {},
   "outputs": [],
   "source": [
    "\"\"\"\n",
    "Another approach to solve this que is, make table of n*total_sum\n",
    "and in each cell find whether that sum is possible or not.\n",
    "After that read the last row (n-1) of that table and calculate min diff by only considering True values\n",
    "\n",
    "You can try doing top down approach by this way later.\n",
    "Followig is the solution of DP: bottom up approach by this method\n",
    "\"\"\""
   ]
  },
  {
   "cell_type": "code",
   "execution_count": 294,
   "id": "90babb15",
   "metadata": {},
   "outputs": [],
   "source": [
    "# DP: Bottom up approach\n",
    "\n",
    "class Solution:\n",
    "    def minDifference(self, arr, n):\n",
    "        total_sum = sum(arr)\n",
    "\n",
    "        table = [[None for i in range(total_sum+1)] for j in range(n)]\n",
    "\n",
    "        for i in range(n):\n",
    "            table[i][0] = True\n",
    "\n",
    "        if arr[0] <= total_sum:\n",
    "            table[0][total_sum] = True\n",
    "\n",
    "        for i in range(1,n):\n",
    "            for j in range(1,total_sum+1):\n",
    "                not_take = table[i-1][j]\n",
    "                take = False\n",
    "                if arr[i] <= j:\n",
    "                    take = table[i-1][j-arr[i]]\n",
    "                    \n",
    "                table[i][j] = take or not_take\n",
    "\n",
    "        mini = float('inf')\n",
    "        for i in range(total_sum+1):\n",
    "            if table[n-1][i]:\n",
    "                diff = abs(i-(total_sum - i))\n",
    "                mini = min(mini,diff)\n",
    "\n",
    "        return mini\n",
    "    \n",
    "# Time comp:O(N*sum)\n",
    "# Space comp:O(N*sum)"
   ]
  },
  {
   "cell_type": "code",
   "execution_count": 295,
   "id": "7e668675",
   "metadata": {},
   "outputs": [
    {
     "name": "stdout",
     "output_type": "stream",
     "text": [
      "1\n",
      "3\n"
     ]
    }
   ],
   "source": [
    "s = Solution()\n",
    "print(s.minDifference([1, 6, 11, 5], 4))\n",
    "print(s.minDifference([1, 4], 2))"
   ]
  },
  {
   "cell_type": "code",
   "execution_count": null,
   "id": "0b8e83eb",
   "metadata": {},
   "outputs": [],
   "source": []
  },
  {
   "cell_type": "markdown",
   "id": "1a0d1769",
   "metadata": {},
   "source": [
    "### Perfect Sum Problem"
   ]
  },
  {
   "cell_type": "raw",
   "id": "1388397c",
   "metadata": {},
   "source": [
    "Given an array arr[] of non-negative integers and an integer sum, the task is to count all subsets of the given array with a sum equal to a given sum.\n",
    "\n",
    "Note: Answer can be very large, so, output answer modulo 109+7\n",
    "\n",
    "Example 1:\n",
    "\n",
    "Input: N = 6, arr[] = {2, 3, 5, 6, 8, 10}\n",
    "       sum = 10\n",
    "Output: 3\n",
    "Explanation: {2, 3, 5}, {2, 8}, {10}"
   ]
  },
  {
   "cell_type": "code",
   "execution_count": 296,
   "id": "732666e3",
   "metadata": {},
   "outputs": [],
   "source": [
    "# recursive solution\n",
    "# https://www.youtube.com/watch?v=zoilQD1kYSg&list=PLgUwDviBIf0qUlt5H_kiKYaNSqJ81PMMY&index=19\n",
    "\n",
    "class Solution:\n",
    "    def solve(self,arr,n,target,i):\n",
    "        if i == 0:\n",
    "            \n",
    "            # This is required to handle edge case where array element it self is 0\n",
    "            if target == 0 and arr[i] == 0:\n",
    "                return 2\n",
    "            elif target == arr[i] or target == 0:\n",
    "                return 1\n",
    "            else:\n",
    "                return 0\n",
    "            \n",
    "        not_take = self.solve(arr,n,target,i-1)\n",
    "        take = 0\n",
    "        if arr[i] <= target:\n",
    "            take = self.solve(arr,n,target-arr[i],i-1)\n",
    "            \n",
    "        return take+not_take\n",
    "    \n",
    "    def perfectSum(self, arr, n, target):\n",
    "        i = n-1\n",
    "        return self.solve(arr,n,target,i) % 1000000007\n",
    "    \n",
    "# Time comp:O(2^N)\n",
    "# Space comp:O(N)"
   ]
  },
  {
   "cell_type": "code",
   "execution_count": null,
   "id": "758da56f",
   "metadata": {},
   "outputs": [],
   "source": [
    "# DP: Top down approach\n",
    "\n",
    "class Solution:\n",
    "    def solve(self,arr,n,target,i,table):\n",
    "        if i == 0:\n",
    "            if target == 0 and arr[i] == 0:\n",
    "                return 2\n",
    "            elif target == arr[i] or target == 0:\n",
    "                return 1\n",
    "            else:\n",
    "                return 0\n",
    "            \n",
    "        if table[i][target] != -1:\n",
    "            return table[i][target]\n",
    "            \n",
    "        not_take = self.solve(arr,n,target,i-1,table)\n",
    "        take = 0\n",
    "        if arr[i] <= target:\n",
    "            take = self.solve(arr,n,target-arr[i],i-1,table)\n",
    "            \n",
    "        table[i][target] = take+not_take\n",
    "            \n",
    "        return table[i][target]\n",
    "    \n",
    "    def perfectSum(self, arr, n, target):\n",
    "        \n",
    "        table = [[-1 for i in range(target+1)] for j in range(n)]\n",
    "        \n",
    "        i = n-1\n",
    "        return self.solve(arr,n,target,i,table) % 1000000007\n",
    "    \n",
    "# Time comp:O(N*Sum)\n",
    "# Space comp:O(N*Sum)"
   ]
  },
  {
   "cell_type": "code",
   "execution_count": 298,
   "id": "dd4d5e46",
   "metadata": {},
   "outputs": [],
   "source": [
    "# DP: Bottom up approach\n",
    "\n",
    "class Solution:\n",
    "    def perfectSum(self, arr, n, target):\n",
    "        table = [[0 for i in range(target+1)] for j in range(n)]\n",
    "        \n",
    "        for j in range(target+1):\n",
    "            if j == 0 and arr[0] == 0:\n",
    "                table[0][j] = 2\n",
    "            elif j == arr[0] or j == 0:\n",
    "                table[0][j] = 1\n",
    "            else:\n",
    "                table[0][j] = 0\n",
    "        \n",
    "        for i in range(1,n):\n",
    "            for j in range(target+1):\n",
    "                not_take = table[i-1][j]\n",
    "                take = 0\n",
    "                if arr[i] <= j and j-arr[i] >= 0:\n",
    "                    take = table[i-1][j-arr[i]]\n",
    "                \n",
    "                table[i][j] = take+not_take\n",
    "                \n",
    "        return table[n-1][target] % 1000000007\n",
    "    \n",
    "# Time comp:O(N*Sum)\n",
    "# Space comp:O(N*Sum)"
   ]
  },
  {
   "cell_type": "code",
   "execution_count": null,
   "id": "d541febf",
   "metadata": {},
   "outputs": [],
   "source": []
  },
  {
   "cell_type": "markdown",
   "id": "a93beed1",
   "metadata": {},
   "source": [
    "### 482. Partitions With Given Difference"
   ]
  },
  {
   "cell_type": "raw",
   "id": "08ab8ae6",
   "metadata": {},
   "source": [
    "Given an array ‘ARR’, partition it into two subsets (possibly empty) such that their union is the original array. Let the sum of the elements of these two subsets be ‘S1’ and ‘S2’.\n",
    "Given a difference ‘D’, count the number of partitions in which ‘S1’ is greater than or equal to ‘S2’ and the difference between ‘S1’ and ‘S2’ is equal to ‘D’. Since the answer may be too large, return it modulo ‘10^9 + 7’.\n",
    "If ‘Pi_Sj’ denotes the Subset ‘j’ for Partition ‘i’. Then, two partitions P1 and P2 are considered different if:\n",
    "1) P1_S1 != P2_S1 i.e, at least one of the elements of P1_S1 is different from P2_S2.\n",
    "2) P1_S1 == P2_S2, but the indices set represented by P1_S1 is not equal to the indices set of P2_S2. Here, the indices set of P1_S1 is formed by taking the indices of the elements from which the subset is formed.\n",
    "Refer to the example below for clarification.\n",
    "Note that the sum of the elements of an empty subset is 0.\n",
    "For Example :\n",
    "If N = 4, D = 3, ARR = {5, 2, 5, 1}\n",
    "There are only two possible partitions of this array.\n",
    "Partition 1: {5, 2, 1}, {5}. The subset difference between subset sum is: (5 + 2 + 1) - (5) = 3\n",
    "Partition 2: {5, 2, 1}, {5}. The subset difference between subset sum is: (5 + 2 + 1) - (5) = 3\n",
    "These two partitions are different because, in the 1st partition, S1 contains 5 from index 0, and in the 2nd partition, S1 contains 5 from index 2."
   ]
  },
  {
   "cell_type": "code",
   "execution_count": null,
   "id": "e2a72572",
   "metadata": {},
   "outputs": [],
   "source": [
    "# DP: Top down approach\n",
    "\n",
    "def solve(n,d,arr,target,i,table):\n",
    "    if i == 0:\n",
    "        if target == 0 and arr[i] == 0:\n",
    "            return 2\n",
    "        elif target == 0 or arr[i] == target:\n",
    "            return 1\n",
    "        else:\n",
    "            return 0\n",
    "    \n",
    "    if table[i][target] != -1:\n",
    "        return table[i][target]\n",
    "    \n",
    "    not_take = solve(n,d,arr,target,i-1,table)\n",
    "    take = 0\n",
    "    if arr[i] <= target:\n",
    "        take = solve(n,d,arr,target-arr[i],i-1,table)\n",
    "    \n",
    "    table[i][target] = not_take + take\n",
    "    \n",
    "    return table[i][target]\n",
    "\n",
    "def countPartitions(n: int, d: int, arr: List[int]) -> int:\n",
    "    total = sum(arr)\n",
    "    if (total-d) % 2 == 1 or (total-d) < 0:\n",
    "        return 0\n",
    "    \n",
    "    target = (total-d)//2\n",
    "    table = [[-1 for i in range(target+1)] for j in range(n)]\n",
    "    \n",
    "    return solve(n,d,arr,target,n-1,table) % 1000000007\n",
    "\n",
    "# time comp:O(N*target)\n",
    "# Space comp:O(N*target)"
   ]
  },
  {
   "cell_type": "code",
   "execution_count": 299,
   "id": "6f2f1198",
   "metadata": {},
   "outputs": [],
   "source": [
    "# Do bottom up as prev que"
   ]
  },
  {
   "cell_type": "raw",
   "id": "3c3b6567",
   "metadata": {},
   "source": [
    "https://www.codingninjas.com/codestudio/problems/target-sum_4127362\n",
    "\n",
    "You are given an array ‘ARR’ of ‘N’ integers and a target number, ‘TARGET’. Your task is to build an expression out of an array by adding one of the symbols '+' and '-' before each integer in an array, and then by concatenating all the integers, you want to achieve a target. You have to return the number of ways the target can be achieved.\n",
    "For Example :\n",
    "You are given the array ‘ARR’ = [1, 1, 1, 1, 1], ‘TARGET’ = 3. The number of ways this target can be achieved is:\n",
    "1. -1 + 1 + 1 + 1 + 1 = 3\n",
    "2. +1 - 1 + 1 + 1 + 1 = 3\n",
    "3. +1 + 1 - 1 + 1 + 1 = 3\n",
    "4. +1 + 1 + 1 - 1 + 1 = 3\n",
    "5. +1 + 1 + 1 + 1 - 1 = 3\n",
    "These are the 5 ways to make. Hence the answer is 5.\n",
    "\n",
    "\n",
    "This que is also same as this, just language is diff,\n",
    "Do it after some times"
   ]
  },
  {
   "cell_type": "markdown",
   "id": "e53e1909",
   "metadata": {},
   "source": [
    "### 483. Min coins"
   ]
  },
  {
   "cell_type": "raw",
   "id": "29751f58",
   "metadata": {},
   "source": [
    "Given a list of coins of distinct denominations and total amount of money. Find the minimum number of coins required to make up that amount. Output -1 if that money cannot be made up using given coins.\n",
    "You may assume that there are infinite numbers of coins of each type.\n",
    " \n",
    "\n",
    "Example 1:\n",
    "\n",
    "Input: arr = [1, 2, 5], amount = 11\n",
    "Output: 3\n",
    "Explanation: 2*5 + 1 = 11. So taking 2 \n",
    "denominations of 5 and 1 denomination of  \n",
    "1, one can make 11.\n",
    "Example 2:\n",
    "\n",
    "Input: arr = [2, 6], amount = 7\n",
    "Output: -1\n",
    "Explanation: Not possible to make 7 using \n",
    "denominations 2 and 6."
   ]
  },
  {
   "cell_type": "raw",
   "id": "c5b7df70",
   "metadata": {},
   "source": [
    "Greedy will fail here in following case:\n",
    "coins: 9,6,5,1 and target = 11\n",
    "Greedy will give: 3  (9,1,1)\n",
    "DP will give: 2  (6,5)"
   ]
  },
  {
   "cell_type": "code",
   "execution_count": null,
   "id": "9470d773",
   "metadata": {},
   "outputs": [],
   "source": [
    "# Recursive solution\n",
    "\n",
    "class Solution:\n",
    "    def solve(self,nums,target,i):\n",
    "        if target == 0:\n",
    "            return 0\n",
    "        if i == 0:\n",
    "            if nums[i] > target:\n",
    "                return float('inf')\n",
    "            if target % nums[i] == 0:\n",
    "                return (target // nums[i])\n",
    "            else:\n",
    "                return float('inf')\n",
    "\n",
    "        not_take = 0 + self.solve(nums,target,i-1)\n",
    "        take = float('inf')\n",
    "        if nums[i] <= target:\n",
    "            x = self.solve(nums,target-nums[i],i)\n",
    "            if x != float('inf'):\n",
    "                take = 1 + x\n",
    "        \n",
    "        return min(take,not_take)\n",
    "                \n",
    "    def MinCoin(self, nums, amount):\n",
    "        i = len(nums)-1\n",
    "        x = self.solve(nums,amount,i)\n",
    "        \n",
    "        if x == float('inf'):\n",
    "            return -1\n",
    "        return x\n",
    "    \n",
    "# Time comp:O(2^N)   (It can go beyond that because one index can be choosen multiple time)\n",
    "# Space comp:O(N)"
   ]
  },
  {
   "cell_type": "code",
   "execution_count": 300,
   "id": "d577caed",
   "metadata": {},
   "outputs": [],
   "source": [
    "# DP: Top down approach\n",
    "\n",
    "class Solution:\n",
    "    def solve(self,nums,target,i,table):\n",
    "        if target == 0:\n",
    "            return 0\n",
    "        if i == 0:\n",
    "            if nums[i] > target:\n",
    "                return float('inf')\n",
    "            if target % nums[i] == 0:\n",
    "                return (target // nums[i])\n",
    "            else:\n",
    "                return float('inf')\n",
    "\n",
    "        if table[i][target] != -1:\n",
    "            return table[i][target]\n",
    "\n",
    "        not_take = 0 + self.solve(nums,target,i-1,table)\n",
    "        take = float('inf')\n",
    "        if nums[i] <= target:\n",
    "            x = self.solve(nums,target-nums[i],i,table)\n",
    "            if x != float('inf'):\n",
    "                take = 1 + x\n",
    "        \n",
    "        table[i][target] = min(take,not_take)\n",
    "        return table[i][target]\n",
    "                \n",
    "    def MinCoin(self, nums, amount):\n",
    "        n = len(nums)\n",
    "        i = n-1\n",
    "        \n",
    "        table = [[-1 for i in range(amount+1)] for j in range(n)]\n",
    "        \n",
    "        x = self.solve(nums,amount,i,table)\n",
    "        \n",
    "        if x == float('inf'):\n",
    "            return -1\n",
    "        return x\n",
    "    \n",
    "# Time comp:O(N*Target)\n",
    "# space comp:O(N*Target)"
   ]
  },
  {
   "cell_type": "code",
   "execution_count": 301,
   "id": "f5607bb0",
   "metadata": {},
   "outputs": [],
   "source": [
    "# DP: Bottom up approach\n",
    "\n",
    "class Solution:\n",
    "                \n",
    "    def MinCoin(self, nums, amount):\n",
    "        n = len(nums)\n",
    "        i = n-1\n",
    "        \n",
    "        table = [[0 for i in range(amount+1)] for j in range(n)]\n",
    "        \n",
    "        for j in range(0,amount+1):\n",
    "            if nums[0] > j:\n",
    "                table[0][j] = float('inf')\n",
    "            elif j % nums[0] == 0:\n",
    "                table[0][j] = (j // nums[0])\n",
    "            else:\n",
    "                table[0][j] = float('inf')\n",
    "                \n",
    "        for i in range(1,n):\n",
    "            for j in range(amount+1):\n",
    "                not_take = 0 + table[i-1][j]\n",
    "                take = float('inf')\n",
    "                if nums[i] <= j and j-nums[i] >= 0:\n",
    "                    x = table[i][j-nums[i]]\n",
    "                    if x != float('inf'):\n",
    "                        take = 1 + x\n",
    "                \n",
    "                table[i][j] = min(take,not_take)\n",
    "        \n",
    "        if table[n-1][amount] == float('inf'):\n",
    "            return -1\n",
    "        return table[n-1][amount]\n",
    "    \n",
    "# Time comp:O(N*Target)\n",
    "# space comp:O(N*Target)"
   ]
  },
  {
   "cell_type": "code",
   "execution_count": 302,
   "id": "a47ae532",
   "metadata": {},
   "outputs": [],
   "source": [
    "# Space optimized appraoch\n",
    "\n",
    "class Solution:\n",
    "                \n",
    "    def MinCoin(self, nums, amount):\n",
    "        n = len(nums)\n",
    "        i = n-1\n",
    "        \n",
    "        prev = [float('inf') for i in range(amount+1)]\n",
    "        curr = [float('inf') for i in range(amount+1)]\n",
    "        \n",
    "        for j in range(0,amount+1):\n",
    "            if j % nums[0] == 0:\n",
    "                prev[j] = (j // nums[0])\n",
    "                \n",
    "        for i in range(1,n):\n",
    "            for j in range(amount+1):\n",
    "                not_take = 0 + prev[j]\n",
    "                take = float('inf')\n",
    "                if nums[i] <= j and j-nums[i] >= 0:\n",
    "                    x = curr[j-nums[i]]\n",
    "                    if x != float('inf'):\n",
    "                        take = 1 + x\n",
    "                \n",
    "                curr[j] = min(take,not_take)\n",
    "            prev = curr\n",
    "        \n",
    "        if curr[amount] == float('inf'):\n",
    "            return -1\n",
    "        return curr[amount]\n",
    "    \n",
    "# Time comp:O(N*Target)\n",
    "# space comp:O(Target)"
   ]
  },
  {
   "cell_type": "code",
   "execution_count": 303,
   "id": "7065d816",
   "metadata": {},
   "outputs": [
    {
     "name": "stdout",
     "output_type": "stream",
     "text": [
      "3\n"
     ]
    }
   ],
   "source": [
    "s = Solution()\n",
    "print(s.MinCoin([1, 2, 5],11))"
   ]
  },
  {
   "cell_type": "code",
   "execution_count": null,
   "id": "da37f94d",
   "metadata": {},
   "outputs": [],
   "source": []
  },
  {
   "cell_type": "markdown",
   "id": "499381b0",
   "metadata": {},
   "source": [
    "### 485. Rod Cutting"
   ]
  },
  {
   "cell_type": "raw",
   "id": "811a7563",
   "metadata": {},
   "source": [
    "Given a rod of length N inches and an array of prices, price[] that contains prices of all pieces of size smaller than N. Determine the maximum value obtainable by cutting up the rod and selling the pieces.\n",
    "\n",
    "Example 1:\n",
    "\n",
    "Input:\n",
    "N = 8\n",
    "Price[] = {1, 5, 8, 9, 10, 17, 17, 20}\n",
    "Output:\n",
    "22\n",
    "Explanation:\n",
    "The maximum obtainable value is 22 by\n",
    "cutting in two pieces of lengths 2 and \n",
    "6, i.e., 5+17=22."
   ]
  },
  {
   "cell_type": "code",
   "execution_count": null,
   "id": "63fbaf5a",
   "metadata": {},
   "outputs": [],
   "source": [
    "# Recursive solution\n",
    "\n",
    "class Solution:\n",
    "    def solve(self,price,n,i):\n",
    "        if n == 0:\n",
    "            return 0\n",
    "        if i == 0:\n",
    "            return price[i] * n\n",
    "        \n",
    "        not_cut = self.solve(price,n,i-1)\n",
    "        cut = 0\n",
    "        if i+1 <= n:\n",
    "            cut = price[i] + self.solve(price,n-(i+1),i)\n",
    "    \n",
    "        return max(cut,not_cut)\n",
    "    \n",
    "    def cutRod(self, price, n):\n",
    "        i = n-1\n",
    "        return self.solve(price,n,i)\n",
    "    \n",
    "# Time comp:O(2^N)\n",
    "# Space comp:O(N)"
   ]
  },
  {
   "cell_type": "code",
   "execution_count": null,
   "id": "fd56d7fe",
   "metadata": {},
   "outputs": [],
   "source": [
    "# DP: Top down approach\n",
    "\n",
    "class Solution:\n",
    "    def solve(self,price,n,i,table):\n",
    "        if n == 0:\n",
    "            return 0\n",
    "        if i == 0:\n",
    "            return price[i] * n\n",
    "        \n",
    "        if table[i][n] != -1:\n",
    "            return table[i][n]\n",
    "        \n",
    "        not_cut = self.solve(price,n,i-1,table)\n",
    "        cut = 0\n",
    "        if i+1 <= n:\n",
    "            cut = price[i] + self.solve(price,n-(i+1),i,table)\n",
    "    \n",
    "        table[i][n] = max(cut,not_cut)\n",
    "    \n",
    "        return table[i][n]\n",
    "    \n",
    "    def cutRod(self, price, n):\n",
    "        table = [[-1 for i in range(n+1)] for j in range(n)]\n",
    "        i = n-1\n",
    "        return self.solve(price,n,i,table)\n",
    "    \n",
    "# Time comp:O(N*N)\n",
    "# Space comp:O(N*N)   (recursive stack:O(N))"
   ]
  },
  {
   "cell_type": "code",
   "execution_count": null,
   "id": "0dcae199",
   "metadata": {},
   "outputs": [],
   "source": [
    "# DP: Bottom up aproach\n",
    "\n",
    "class Solution:\n",
    "    def cutRod(self, price, n):\n",
    "        table = [[0 for i in range(n+1)] for j in range(n)]\n",
    "        \n",
    "        for j in range(n+1):\n",
    "            table[0][j] = price[0] * j\n",
    "        \n",
    "        for i in range(1,n):\n",
    "            for j in range(n+1):\n",
    "                not_cut = table[i-1][j]\n",
    "                cut = 0\n",
    "                if i+1 <= j:\n",
    "                    cut = price[i] + table[i][j-(i+1)]\n",
    "            \n",
    "                table[i][j] = max(cut,not_cut)\n",
    "        \n",
    "        return table[n-1][n]\n",
    "    \n",
    "# Time comp:O(N*N)\n",
    "# Space comp:O(N*N)"
   ]
  },
  {
   "cell_type": "code",
   "execution_count": 308,
   "id": "3a76c9d1",
   "metadata": {},
   "outputs": [],
   "source": [
    "# Space optimized approach\n",
    "\n",
    "class Solution:\n",
    "    def cutRod(self, price, n):\n",
    "        \n",
    "        prev = [0 for i in range(n+1)]\n",
    "        curr = [0 for i in range(n+1)]\n",
    "        \n",
    "        for j in range(n+1):\n",
    "            prev[j] = price[0] * j\n",
    "        \n",
    "        for i in range(1,n):\n",
    "            for j in range(n+1):\n",
    "                not_cut = prev[j]\n",
    "                cut = 0\n",
    "                if i+1 <= j:\n",
    "                    cut = price[i] + curr[j-(i+1)]\n",
    "            \n",
    "                curr[j] = max(cut,not_cut)\n",
    "            prev = curr\n",
    "        \n",
    "        return prev[n]    # Keep it prev only because it might be possible that there is only 1 item in array\n",
    "    \n",
    "# Time comp:O(N*N)\n",
    "# Space comp:O(N)"
   ]
  },
  {
   "cell_type": "code",
   "execution_count": 309,
   "id": "257b877e",
   "metadata": {},
   "outputs": [
    {
     "data": {
      "text/plain": [
       "22"
      ]
     },
     "execution_count": 309,
     "metadata": {},
     "output_type": "execute_result"
    }
   ],
   "source": [
    "s = Solution()\n",
    "s.cutRod([1, 5, 8, 9, 10, 17, 17, 20],8)"
   ]
  },
  {
   "cell_type": "code",
   "execution_count": null,
   "id": "6fd771d6",
   "metadata": {},
   "outputs": [],
   "source": []
  },
  {
   "cell_type": "markdown",
   "id": "2558737c",
   "metadata": {},
   "source": [
    "### 487. Shortest Common Supersequence"
   ]
  },
  {
   "cell_type": "raw",
   "id": "92b1fbe6",
   "metadata": {},
   "source": [
    "Given two strings X and Y of lengths m and n respectively, find the length of the smallest string which has both, X and Y as its sub-sequences.\n",
    "Note: X and Y can have both uppercase and lowercase letters.\n",
    "\n",
    "Input:\n",
    "X = abcd, Y = xycd\n",
    "Output: 6\n",
    "Explanation: Shortest Common Supersequence\n",
    "would be abxycd which is of length 6 and\n",
    "has both the strings as its subsequences."
   ]
  },
  {
   "cell_type": "code",
   "execution_count": 428,
   "id": "f67cebc9",
   "metadata": {},
   "outputs": [],
   "source": [
    "\"\"\"\n",
    "Solution is extended version of find latest common subsequence\n",
    "\n",
    "Find LCS count and ans will be (lcs + m-lcs + n-lcs)\n",
    "\"\"\"\n",
    "\n",
    "# DP: Bottom up appraoch\n",
    "\n",
    "class Solution:\n",
    "    def shortestCommonSupersequence(self, A, B, m, n):\n",
    "        table = [[0 for i in range(n+1)] for j in range(m+1)]\n",
    "        \n",
    "        for i in range(1,m+1):\n",
    "            for j in range(1,n+1):\n",
    "                if A[i-1] == B[j-1]:\n",
    "                    table[i][j] = 1 + table[i-1][j-1]\n",
    "                else:\n",
    "                    table[i][j] = max(table[i-1][j],table[i][j-1])\n",
    "        \n",
    "        lcs = table[m][n]\n",
    "        \n",
    "        return lcs + (m-lcs) + (n-lcs)\n",
    "    \n",
    "# Time comp:O(N*M)\n",
    "# Space comp:O(N*M)"
   ]
  },
  {
   "cell_type": "code",
   "execution_count": 429,
   "id": "7dd687cb",
   "metadata": {},
   "outputs": [
    {
     "data": {
      "text/plain": [
       "6"
      ]
     },
     "execution_count": 429,
     "metadata": {},
     "output_type": "execute_result"
    }
   ],
   "source": [
    "s = Solution()\n",
    "s.shortestCommonSupersequence('efgh','jghi',4,4)"
   ]
  },
  {
   "cell_type": "code",
   "execution_count": 432,
   "id": "438eb1c5",
   "metadata": {},
   "outputs": [],
   "source": [
    "\"\"\"\n",
    "If its tells to print one of the possible shortest Common Supersequence then\n",
    "we can make it by reverse traversing the DP array the way we used to do in print LCS\n",
    "\"\"\"\n",
    "\n",
    "class Solution:\n",
    "    def shortestCommonSupersequence(self, A, B, m, n):\n",
    "        table = [[0 for i in range(n+1)] for j in range(m+1)]\n",
    "        \n",
    "        for i in range(1,m+1):\n",
    "            for j in range(1,n+1):\n",
    "                if A[i-1] == B[j-1]:\n",
    "                    table[i][j] = 1 + table[i-1][j-1]\n",
    "                else:\n",
    "                    table[i][j] = max(table[i-1][j],table[i][j-1])\n",
    "        \n",
    "        ans = \"\"\n",
    "        i = m\n",
    "        j = n\n",
    "        \n",
    "        while i > 0 and j > 0:\n",
    "            if A[i-1] == B[j-1]:\n",
    "                ans = str(A[i-1]) + ans\n",
    "                i -= 1\n",
    "                j -= 1\n",
    "            elif table[i-1][j] > table[i][j-1]:\n",
    "                ans = str(A[i-1]) + ans\n",
    "                i -= 1\n",
    "            else:\n",
    "                ans = str(B[j-1]) + ans\n",
    "                j -= 1\n",
    "        \n",
    "        while i > 0:\n",
    "            ans = str(A[i-1]) + ans\n",
    "            i -= 1\n",
    "        while j > 0:\n",
    "            ans = str(B[j-1]) + ans\n",
    "            j -= 1\n",
    "        return ans"
   ]
  },
  {
   "cell_type": "code",
   "execution_count": 433,
   "id": "ace0ba25",
   "metadata": {},
   "outputs": [
    {
     "data": {
      "text/plain": [
       "'efjghi'"
      ]
     },
     "execution_count": 433,
     "metadata": {},
     "output_type": "execute_result"
    }
   ],
   "source": [
    "s = Solution()\n",
    "s.shortestCommonSupersequence('efgh','jghi',4,4)"
   ]
  },
  {
   "cell_type": "raw",
   "id": "66bf7605",
   "metadata": {},
   "source": [
    "We start from the bottom-right most cell of the matrix and push characters in output string based on below rules-\n",
    "\n",
    "1. If the characters corresponding to current cell (i, j) in X and Y are same, then the character is part of          shortest supersequence. We append it in output string and move diagonally to next cell (i.e. (i - 1, j - 1)).\n",
    "\n",
    "2. If the characters corresponding to current cell (i, j) in X and Y are different, we have two choices -If          matrix[i - 1][j] > matrix[i][j - 1],we add character corresponding to current cell (i, j) in string Y in output    string and move to the left cell i.e. (i, j - 1) else we add character corresponding to current cell (i, j) in    string X in output string and move to the top cell i.e. (i - 1, j)\n",
    "\n",
    "3. If string Y reaches its end i.e. j = 0, we add remaining characters of string X in the output string else if      string X reaches its end i.e. i = 0, we add remaining characters of string Y in the output string."
   ]
  },
  {
   "cell_type": "code",
   "execution_count": null,
   "id": "da17b0bf",
   "metadata": {},
   "outputs": [],
   "source": []
  },
  {
   "cell_type": "markdown",
   "id": "b7a824a7",
   "metadata": {},
   "source": [
    "### 488. Distinct occurrences"
   ]
  },
  {
   "cell_type": "raw",
   "id": "3c43e0bb",
   "metadata": {},
   "source": [
    "Given two strings S and T of length n and m respectively. find count of distinct occurrences of T in S as a sub-sequence. \n",
    " \n",
    "\n",
    "Example 1:\n",
    "\n",
    "Input:\n",
    "S = \"banana\" , T = \"ban\"\n",
    "Output: 3\n",
    "Explanation: There are 3 sub-sequences:\n",
    "[ban], [ba n], [b an]."
   ]
  },
  {
   "cell_type": "raw",
   "id": "700caff2",
   "metadata": {},
   "source": [
    "we will assign i to (n-1)th index of S and j to (m-1)th index of T where n is length of S and m is length of T and\n",
    "S is smaller string than T\n",
    "\n",
    "if both char match i.e.\n",
    "\n",
    "if S[i] == T[j] then: f(i-1,j) + f(i-1,j-1)\n",
    "which means that either we will move jth pointer or not, but we will definatly move ith pointer\n",
    "\n",
    "else: f(i-1,j)"
   ]
  },
  {
   "cell_type": "code",
   "execution_count": 434,
   "id": "879d3b0c",
   "metadata": {},
   "outputs": [],
   "source": [
    "# Recursive solution\n",
    "\n",
    "class Solution:\n",
    "    def solve(self,S1,S2,i,j):\n",
    "        if j < 0:\n",
    "            return 1\n",
    "        if i < 0:\n",
    "            return 0\n",
    "        \n",
    "        if S1[i] == S2[j]:\n",
    "            return (self.solve(S1,S2,i-1,j-1) + self.solve(S1,S2,i-1,j))\n",
    "        else:\n",
    "            return self.solve(S1,S2,i-1,j)\n",
    "    \n",
    "    def sequenceCount(self,S1, S2):\n",
    "        n = len(S1)\n",
    "        m = len(S2)\n",
    "        i = n-1\n",
    "        j = m-1\n",
    "        \n",
    "        return self.solve(S1,S2,i,j) % 1000000007\n",
    "    \n",
    "# Time comp:O(2^N + 2^M)\n",
    "# Space comp:O(N+M)"
   ]
  },
  {
   "cell_type": "code",
   "execution_count": 435,
   "id": "2a448cd8",
   "metadata": {},
   "outputs": [],
   "source": [
    "# DP: Top down approach\n",
    "\n",
    "class Solution:\n",
    "    def solve(self,S1,S2,i,j,table):\n",
    "        if j < 0:\n",
    "            return 1\n",
    "        if i < 0:\n",
    "            return 0\n",
    "        \n",
    "        if table[i][j] != -1:\n",
    "            return table[i][j]\n",
    "        \n",
    "        if S1[i] == S2[j]:\n",
    "            table[i][j] = (self.solve(S1,S2,i-1,j-1,table) + self.solve(S1,S2,i-1,j,table))\n",
    "        else:\n",
    "            table[i][j] = self.solve(S1,S2,i-1,j,table)\n",
    "        return table[i][j]\n",
    "    \n",
    "    def sequenceCount(self,S1, S2):\n",
    "        n = len(S1)\n",
    "        m = len(S2)\n",
    "        i = n-1\n",
    "        j = m-1\n",
    "        \n",
    "        table = [[-1 for x in range(m+1)] for y in range(n+1)]\n",
    "        \n",
    "        return self.solve(S1,S2,i,j,table) % 1000000007\n",
    "    \n",
    "# Time comp:O(N*M)\n",
    "# Space comp:O(N*M)    (recursion stack:O(N+M))"
   ]
  },
  {
   "cell_type": "code",
   "execution_count": null,
   "id": "0e4f69e5",
   "metadata": {},
   "outputs": [],
   "source": [
    "# DP: Bottom up appraoch\n",
    "\n",
    "class Solution:\n",
    "    def sequenceCount(self,S1, S2):\n",
    "        n = len(S1)\n",
    "        m = len(S2)\n",
    "        \n",
    "        table = [[0 for x in range(m+1)] for y in range(n+1)]\n",
    "        \n",
    "        for i in range(n+1):\n",
    "            table[i][0] = 1\n",
    "        \n",
    "        # We can skip this for loop as well\n",
    "        for i in range(1,m+1):\n",
    "            table[0][i] = 0\n",
    "        \n",
    "        for i in range(1,n+1):\n",
    "            for j in range(1,m+1):\n",
    "                if S1[i-1] == S2[j-1]:\n",
    "                    table[i][j] = table[i-1][j-1] + table[i-1][j]\n",
    "                else:\n",
    "                    table[i][j] = table[i-1][j]\n",
    "        \n",
    "        return table[n][m] % 1000000007\n",
    "    \n",
    "# Time comp:O(N*M)\n",
    "# Space comp:O(N*M)"
   ]
  },
  {
   "cell_type": "code",
   "execution_count": 436,
   "id": "55a630e3",
   "metadata": {},
   "outputs": [],
   "source": [
    "# Space optimized solution\n",
    "\n",
    "class Solution:\n",
    "    def sequenceCount(self,S1, S2):\n",
    "        n = len(S1)\n",
    "        m = len(S2)\n",
    "        \n",
    "        prev = [0 for x in range(m+1)]\n",
    "        curr = [0 for x in range(m+1)]\n",
    "        prev[0] = 1\n",
    "        curr[0] = 1\n",
    "        \n",
    "        for i in range(1,n+1):\n",
    "            for j in range(1,m+1):\n",
    "                if S1[i-1] == S2[j-1]:\n",
    "                    curr[j] = prev[j-1] + prev[j]\n",
    "                else:\n",
    "                    curr[j] = prev[j]\n",
    "            prev = curr[:]\n",
    "        \n",
    "        return curr[m] % 1000000007\n",
    "    \n",
    "# Time comp:O(N*M)\n",
    "# Space comp:O(M)"
   ]
  },
  {
   "cell_type": "code",
   "execution_count": 437,
   "id": "2b8bd621",
   "metadata": {},
   "outputs": [
    {
     "data": {
      "text/plain": [
       "6"
      ]
     },
     "execution_count": 437,
     "metadata": {},
     "output_type": "execute_result"
    }
   ],
   "source": [
    "s = Solution()\n",
    "s.sequenceCount(\"geeksforgeeks\",\"ge\")"
   ]
  },
  {
   "cell_type": "code",
   "execution_count": null,
   "id": "5bd3ad0d",
   "metadata": {},
   "outputs": [],
   "source": []
  },
  {
   "cell_type": "markdown",
   "id": "6cc4f2e2",
   "metadata": {},
   "source": [
    "### 489. Number of distinct subsequences"
   ]
  },
  {
   "cell_type": "raw",
   "id": "cb9d0873",
   "metadata": {},
   "source": [
    "Given a string consisting of lower case English alphabets, the task is to find the number of distinct subsequences of the string\n",
    "Note: Answer can be very large, so, ouput will be answer modulo 109+7\n",
    "\n",
    "Example 1:\n",
    "\n",
    "Input: s = \"gfg\"\n",
    "Output: 7\n",
    "Explanation: The seven distinct\n",
    "subsequences are \"\", \"g\", \"f\", \"gf\", \"fg\",\n",
    "\"gg\" and \"gfg\" "
   ]
  },
  {
   "cell_type": "code",
   "execution_count": 438,
   "id": "8988b363",
   "metadata": {},
   "outputs": [],
   "source": [
    "# Recursive solution\n",
    "\n",
    "class Solution:\n",
    "    def __init__(self):\n",
    "        self.hash_map = {}\n",
    "        \n",
    "    def solve(self,S,i,ans):\n",
    "        if i < 0:\n",
    "            if ans != \"\":\n",
    "                if ans not in self.hash_map:\n",
    "                    self.hash_map[ans] = 1\n",
    "                    return 1\n",
    "            return 0\n",
    "        \n",
    "        x = self.solve(S,i-1,ans + str(S[i]))\n",
    "        y = self.solve(S,i-1,ans)\n",
    "        return x+y\n",
    "    \n",
    "    def distinctSubsequences(self, S):\n",
    "        ans = \"\"\n",
    "        i = len(S)-1\n",
    "        x = self.solve(S,i,ans)\n",
    "        return x+1    #(Adding 1 here becz we are not storing empty string in hash map)\n",
    "    \n",
    "# Time comp:O(2^N)\n",
    "# space comp:O(N)"
   ]
  },
  {
   "cell_type": "code",
   "execution_count": 439,
   "id": "f369b841",
   "metadata": {},
   "outputs": [
    {
     "data": {
      "text/plain": [
       "7"
      ]
     },
     "execution_count": 439,
     "metadata": {},
     "output_type": "execute_result"
    }
   ],
   "source": [
    "s = Solution()\n",
    "s.distinctSubsequences('gfg')"
   ]
  },
  {
   "cell_type": "code",
   "execution_count": 440,
   "id": "e8b6842b",
   "metadata": {},
   "outputs": [],
   "source": [
    "# Since DP approach is complex, this is simple solution\n",
    "# must watch: https://www.youtube.com/watch?v=9UEHPiK53BA\n",
    "\n",
    "class Solution:\n",
    "    def __init__(self):\n",
    "        self.hash_map = {}\n",
    "    \n",
    "    def distinctSubsequences(self, S):\n",
    "        ans = 1\n",
    "        i = 0\n",
    "        \n",
    "        for i in range(len(S)):\n",
    "            char = S[i]\n",
    "            \n",
    "            if char not in self.hash_map:\n",
    "                self.hash_map[char] = ans\n",
    "                ans = ans * 2\n",
    "                continue\n",
    "            else:\n",
    "                temp = self.hash_map[char]\n",
    "                self.hash_map[char] = ans\n",
    "                ans = (ans * 2) - temp\n",
    "        \n",
    "        return ans % 1000000007\n",
    "    \n",
    "# Time comp:O(N)\n",
    "# space comp:O(1)    (Hash map will store at max 26 char)"
   ]
  },
  {
   "cell_type": "code",
   "execution_count": 441,
   "id": "a532f571",
   "metadata": {},
   "outputs": [
    {
     "data": {
      "text/plain": [
       "7"
      ]
     },
     "execution_count": 441,
     "metadata": {},
     "output_type": "execute_result"
    }
   ],
   "source": [
    "s = Solution()\n",
    "s.distinctSubsequences('gfg')"
   ]
  },
  {
   "cell_type": "code",
   "execution_count": null,
   "id": "7775fda5",
   "metadata": {},
   "outputs": [],
   "source": []
  },
  {
   "cell_type": "markdown",
   "id": "073fa4f4",
   "metadata": {},
   "source": [
    "### 490. Max profit by Buy and Sell Stock any number of time"
   ]
  },
  {
   "cell_type": "raw",
   "id": "75fab240",
   "metadata": {},
   "source": [
    "You are given an integer array prices where prices[i] is the price of a given stock on the ith day.\n",
    "\n",
    "On each day, you may decide to buy and/or sell the stock. You can only hold at most one share of the stock at any time. However, you can buy it then immediately sell it on the same day.\n",
    "\n",
    "Find and return the maximum profit you can achieve.\n",
    "\n",
    " \n",
    "Example 1:\n",
    "\n",
    "Input: prices = [7,1,5,3,6,4]\n",
    "Output: 7\n",
    "Explanation: Buy on day 2 (price = 1) and sell on day 3 (price = 5), profit = 5-1 = 4.\n",
    "Then buy on day 4 (price = 3) and sell on day 5 (price = 6), profit = 6-3 = 3.\n",
    "Total profit is 4 + 3 = 7."
   ]
  },
  {
   "cell_type": "raw",
   "id": "7b7cde28",
   "metadata": {},
   "source": [
    "We take one variable 'buy' to indicate whether we can buy any stock on given day or not\n",
    "Initially buy = 1 means allows to buy.\n",
    "\n",
    "If we are allowed to buy then either we will buy it or not buy it\n",
    "If we are allowed to sell then either we will sell it or not sell it\n",
    "\n",
    "ans based on that return max result"
   ]
  },
  {
   "cell_type": "code",
   "execution_count": 443,
   "id": "35e44ebf",
   "metadata": {},
   "outputs": [],
   "source": [
    "# Recursive stack\n",
    "\n",
    "class Solution:\n",
    "    def solve(self,prices,i,buy):\n",
    "        if i == len(prices):\n",
    "            return 0\n",
    "        \n",
    "        if buy == 1:\n",
    "            # Allowed to buy\n",
    "            \n",
    "            x = prices[i] * -1 + self.solve(prices,i+1,0)   # Buy\n",
    "            y = 0 + self.solve(prices,i+1,1)                # Not buy\n",
    "            \n",
    "            return max(x,y)\n",
    "        else:\n",
    "            # Not allowed to buy; means allowed to sell\n",
    "            x = prices[i] + self.solve(prices,i+1,1)        # sell\n",
    "            y = 0 + self.solve(prices,i+1,0)                # not sell\n",
    "            \n",
    "            return max(x,y)\n",
    "    \n",
    "    def maxProfit(self, prices: List[int]) -> int:\n",
    "        i = 0\n",
    "        buy = 1      # 1 means you are allowed to buy\n",
    "        \n",
    "        return self.solve(prices,i,buy)\n",
    "    \n",
    "# Time comp:O(2^N)\n",
    "# Space comp:O(N)"
   ]
  },
  {
   "cell_type": "code",
   "execution_count": 444,
   "id": "18ca2956",
   "metadata": {},
   "outputs": [
    {
     "data": {
      "text/plain": [
       "7"
      ]
     },
     "execution_count": 444,
     "metadata": {},
     "output_type": "execute_result"
    }
   ],
   "source": [
    "s = Solution()\n",
    "s.maxProfit([7,1,5,3,6,4])"
   ]
  },
  {
   "cell_type": "code",
   "execution_count": 445,
   "id": "00c91709",
   "metadata": {},
   "outputs": [],
   "source": [
    "# DP: Top down approach\n",
    "\n",
    "class Solution:\n",
    "    def solve(self,prices,i,buy,table):\n",
    "        if i == len(prices):\n",
    "            return 0\n",
    "        \n",
    "        if table[i][buy] != -1:\n",
    "            return table[i][buy]\n",
    "        \n",
    "        if buy == 1:\n",
    "            # Allowed to buy\n",
    "            \n",
    "            x = prices[i] * -1 + self.solve(prices,i+1,0,table)   # Buy\n",
    "            y = 0 + self.solve(prices,i+1,1,table)                # Not buy\n",
    "            \n",
    "            table[i][buy] = max(x,y)\n",
    "        else:\n",
    "            # Not allowed to buy; means allowed to sell\n",
    "            x = prices[i] + self.solve(prices,i+1,1,table)        # sell\n",
    "            y = 0 + self.solve(prices,i+1,0,table)                # not sell\n",
    "            \n",
    "            table[i][buy] = max(x,y)\n",
    "        \n",
    "        return table[i][buy]\n",
    "    \n",
    "    def maxProfit(self, prices: List[int]) -> int:\n",
    "        i = 0\n",
    "        buy = 1      # 1 means you are allowed to buy\n",
    "        table = [[-1 for i in range(2)] for j in range(len(prices))]\n",
    "        return self.solve(prices,i,buy,table)\n",
    "    \n",
    "# Time comp:O(N)\n",
    "# Space comp:O(N)        (Recursive stack:O(N))"
   ]
  },
  {
   "cell_type": "code",
   "execution_count": null,
   "id": "898f0562",
   "metadata": {},
   "outputs": [],
   "source": [
    "# DP: Bottom up approach:\n",
    "\n",
    "class Solution:    \n",
    "    def maxProfit(self, prices: List[int]) -> int:\n",
    "        n = len(prices)\n",
    "        table = [[-1 for i in range(2)] for j in range(n + 1)]\n",
    "        \n",
    "        table[n][0] = 0\n",
    "        table[n][1] = 0\n",
    "        \n",
    "        for i in range(n-1,-1,-1):\n",
    "            for j in range(2):\n",
    "                if j == 1:\n",
    "                    # Allowed to buy\n",
    "                    x = prices[i] * -1 + table[i+1][0]   # Buy\n",
    "                    y = 0 + table[i+1][1]                # Not buy\n",
    "\n",
    "                    table[i][j] = max(x,y)\n",
    "                else:\n",
    "                    # Not allowed to buy; means allowed to sell\n",
    "                    x = prices[i] + table[i+1][1]        # sell\n",
    "                    y = 0 + table[i+1][0]                # not sell\n",
    "\n",
    "                    table[i][j] = max(x,y)\n",
    "        \n",
    "        return table[0][1]\n",
    "    \n",
    "# Time comp:O(N)\n",
    "# Space comp:O(N)"
   ]
  },
  {
   "cell_type": "code",
   "execution_count": null,
   "id": "243544e4",
   "metadata": {},
   "outputs": [],
   "source": [
    "# Space optimizes appraoch:\n",
    "\n",
    "class Solution:    \n",
    "    def maxProfit(self, prices: List[int]) -> int:\n",
    "        n = len(prices)\n",
    "        \n",
    "        last_buy = 0\n",
    "        last_sell = 0\n",
    "        \n",
    "        for i in range(n-1,-1,-1):\n",
    "            x = prices[i] * -1 + last_sell\n",
    "            y = 0 + last_buy\n",
    "            last_buy = max(x,y)\n",
    "                \n",
    "            x = prices[i] + last_buy\n",
    "            y = 0 + last_sell\n",
    "            last_sell = max(x,y)\n",
    "        \n",
    "        return last_buy\n",
    "    \n",
    "# Time comp:O(N)\n",
    "# Space comp:O(1)"
   ]
  },
  {
   "cell_type": "code",
   "execution_count": 446,
   "id": "78ae1b90",
   "metadata": {},
   "outputs": [
    {
     "data": {
      "text/plain": [
       "7"
      ]
     },
     "execution_count": 446,
     "metadata": {},
     "output_type": "execute_result"
    }
   ],
   "source": [
    "s = Solution()\n",
    "s.maxProfit([7,1,5,3,6,4])"
   ]
  },
  {
   "cell_type": "raw",
   "id": "07b3f4f5",
   "metadata": {},
   "source": [
    "Variation of the problem:\n",
    "\n",
    "(https://leetcode.com/problems/best-time-to-buy-and-sell-stock-with-cooldown/submissions/)\n",
    "\n",
    "You are given an array prices where prices[i] is the price of a given stock on the ith day.\n",
    "\n",
    "Find the maximum profit you can achieve. You may complete as many transactions as you like (i.e., buy one and sell one share of the stock multiple times) with the following restrictions:\n",
    "\n",
    "After you sell your stock, you cannot buy stock on the next day (i.e., cooldown one day).\n",
    "Note: You may not engage in multiple transactions simultaneously (i.e., you must sell the stock before you buy again).\n",
    "\n",
    " \n",
    "\n",
    "Example 1:\n",
    "\n",
    "Input: prices = [1,2,3,0,2]\n",
    "Output: 3\n",
    "Explanation: transactions = [buy, sell, cooldown, buy, sell]\n",
    "Example 2:\n",
    "\n",
    "Input: prices = [1]\n",
    "Output: 0"
   ]
  },
  {
   "cell_type": "code",
   "execution_count": null,
   "id": "796ae5a9",
   "metadata": {},
   "outputs": [],
   "source": [
    "# DP: Top down approach\n",
    "# Buy = 0: Allowed to buy\n",
    "# Buy = 1: Allowed to sell\n",
    "# Buy = 2: Cooldowm time\n",
    "\n",
    "\n",
    "class Solution:\n",
    "    \n",
    "    def solve(self,prices,n,i,buy,table):\n",
    "        if i >= n:\n",
    "            return 0\n",
    "        \n",
    "        if table[i][buy] != -1:\n",
    "            return table[i][buy]\n",
    "        \n",
    "        if buy == 2:\n",
    "            table[i][buy] = self.solve(prices,n,i+1,0,table)\n",
    "        elif buy == 0:\n",
    "            x = prices[i] * -1 + self.solve(prices,n,i+1,1,table)\n",
    "            y = 0 + self.solve(prices,n,i+1,0,table)\n",
    "            table[i][buy] = max(x,y)\n",
    "        else:\n",
    "            x = prices[i] + self.solve(prices,n,i+1,2,table)\n",
    "            y = 0 + self.solve(prices,n,i+1,1,table)\n",
    "            table[i][buy] = max(x,y)\n",
    "        \n",
    "        return table[i][buy]\n",
    "    \n",
    "    def maxProfit(self, prices: List[int]) -> int:\n",
    "        n = len(prices)\n",
    "        buy = 0\n",
    "        i = 0\n",
    "        \n",
    "        table = [[-1 for i in range(3)] for j in range(n)]\n",
    "        \n",
    "        return self.solve(prices,n,i,buy,table)\n",
    "    \n",
    "# Time comp:O(N)\n",
    "# Space comp:O(N)        (Recursive stack:O(N))"
   ]
  },
  {
   "cell_type": "code",
   "execution_count": null,
   "id": "26cbfbb9",
   "metadata": {},
   "outputs": [],
   "source": [
    "# DP: Bottom up approach\n",
    "\n",
    "class Solution:\n",
    "    def maxProfit(self, prices: List[int]) -> int:\n",
    "        n = len(prices)\n",
    "        \n",
    "        table = [[-1 for i in range(3)] for j in range(n+1)]\n",
    "        \n",
    "        table[n][0] = 0\n",
    "        table[n][1] = 0\n",
    "        table[n][2] = 0\n",
    "        \n",
    "        for i in range(n-1,-1,-1):\n",
    "            for buy in range(3):\n",
    "                if buy == 2:\n",
    "                    table[i][buy] = table[i+1][0]\n",
    "                elif buy == 0:\n",
    "                    x = prices[i] * -1 + table[i+1][1]\n",
    "                    y = 0 + table[i+1][0]\n",
    "                    table[i][buy] = max(x,y)\n",
    "                else:\n",
    "                    x = prices[i] + table[i+1][2]\n",
    "                    y = 0 + table[i+1][1]\n",
    "                    table[i][buy] = max(x,y)\n",
    "        \n",
    "        return table[0][0]\n",
    "    \n",
    "# Time comp:O(N)\n",
    "# Space comp:O(N)"
   ]
  },
  {
   "cell_type": "code",
   "execution_count": null,
   "id": "66984b04",
   "metadata": {},
   "outputs": [],
   "source": [
    "# Space optimization\n",
    "\n",
    "class Solution:\n",
    "    def maxProfit(self, prices: List[int]) -> int:\n",
    "        n = len(prices)\n",
    "        \n",
    "        last_buy = 0\n",
    "        last_sell = 0\n",
    "        last_cooldown = 0\n",
    "        \n",
    "        for i in range(n-1,-1,-1):\n",
    "            for buy in range(3):\n",
    "                new_cooldown = last_buy\n",
    "                \n",
    "                x = prices[i] * -1 + last_sell\n",
    "                y = 0 + last_buy\n",
    "                new_buy = max(x,y)\n",
    "                \n",
    "                x = prices[i] + last_cooldown\n",
    "                y = 0 + last_sell\n",
    "                new_sell = max(x,y)\n",
    "                \n",
    "            last_buy = new_buy\n",
    "            last_sell = new_sell\n",
    "            last_cooldown = new_cooldown\n",
    "        \n",
    "        return last_buy\n",
    "    \n",
    "# Time comp:O(N)\n",
    "# Space comp:O(1)"
   ]
  },
  {
   "cell_type": "code",
   "execution_count": 454,
   "id": "866258fd",
   "metadata": {},
   "outputs": [],
   "source": [
    "# OR\n",
    "\n",
    "# DP: Top down approach\n",
    "\n",
    "class Solution:\n",
    "    def solve(self,prices,i,buy,table):\n",
    "        if i >= len(prices):\n",
    "            return 0\n",
    "        \n",
    "        if table[i][buy] != -1:\n",
    "            return table[i][buy]\n",
    "        \n",
    "        if buy == 1:\n",
    "            # Allowed to buy\n",
    "            \n",
    "            x = prices[i] * -1 + self.solve(prices,i+1,0,table)   # Buy\n",
    "            y = 0 + self.solve(prices,i+1,1,table)                # Not buy\n",
    "            \n",
    "            table[i][buy] = max(x,y)\n",
    "        else:\n",
    "            # Not allowed to buy; means allowed to sell\n",
    "            x = prices[i] + self.solve(prices,i+2,1,table)        # sell       (We did change here as i+2 only)\n",
    "            y = 0 + self.solve(prices,i+1,0,table)                # not sell\n",
    "            \n",
    "            table[i][buy] = max(x,y)\n",
    "        \n",
    "        return table[i][buy]\n",
    "    \n",
    "    def maxProfit(self, prices: List[int]) -> int:\n",
    "        i = 0\n",
    "        buy = 1      # 1 means you are allowed to buy\n",
    "        table = [[-1 for i in range(2)] for j in range(len(prices))]\n",
    "        return self.solve(prices,i,buy,table)\n",
    "    \n",
    "# Time comp:O(N)\n",
    "# Space comp:O(N)        (Recursive stack:O(N))"
   ]
  },
  {
   "cell_type": "raw",
   "id": "4e0735a0",
   "metadata": {},
   "source": [
    "Variation: Best Time to Buy and Sell Stock with Transaction Fee\n",
    " \n",
    "You are given an array prices where prices[i] is the price of a given stock on the ith day, and an integer fee representing a transaction fee.\n",
    "\n",
    "Find the maximum profit you can achieve. You may complete as many transactions as you like, but you need to pay the transaction fee for each transaction.\n",
    "\n",
    "Note: You may not engage in multiple transactions simultaneously (i.e., you must sell the stock before you buy again).\n",
    "\n",
    " \n",
    "\n",
    "Example 1:\n",
    "\n",
    "Input: prices = [1,3,2,8,4,9], fee = 2\n",
    "Output: 8\n",
    "Explanation: The maximum profit can be achieved by:\n",
    "- Buying at prices[0] = 1\n",
    "- Selling at prices[3] = 8\n",
    "- Buying at prices[4] = 4\n",
    "- Selling at prices[5] = 9\n",
    "The total profit is ((8 - 1) - 2) + ((9 - 4) - 2) = 8."
   ]
  },
  {
   "cell_type": "code",
   "execution_count": 464,
   "id": "6d11a8e8",
   "metadata": {},
   "outputs": [],
   "source": [
    "class Solution:\n",
    "    def solve(self,prices,i,buy,table,fee):\n",
    "        if i >= len(prices):\n",
    "            return 0\n",
    "        \n",
    "        if table[i][buy] != -1:\n",
    "            return table[i][buy]\n",
    "        \n",
    "        if buy == 1:\n",
    "            # Allowed to buy\n",
    "            x = prices[i] * -1 + self.solve(prices,i+1,0,table,fee)   # Buy\n",
    "            y = 0 + self.solve(prices,i+1,1,table,fee)                # Not buy\n",
    "            \n",
    "            table[i][buy] = max(x,y)\n",
    "        else:\n",
    "            # Not allowed to buy; means allowed to sell\n",
    "            x = prices[i] + self.solve(prices,i+1,1,table,fee) - fee        # sell and apply free here\n",
    "            y = 0 + self.solve(prices,i+1,0,table,fee)                      # not sell\n",
    "            \n",
    "            table[i][buy] = max(x,y)\n",
    "        \n",
    "        return table[i][buy]\n",
    "    \n",
    "    def maxProfit(self, prices,fee):\n",
    "        i = 0\n",
    "        buy = 1      # 1 means you are allowed to buy\n",
    "        table = [[-1 for i in range(2)] for j in range(len(prices))]\n",
    "        return self.solve(prices,i,buy,table,fee)"
   ]
  },
  {
   "cell_type": "code",
   "execution_count": 466,
   "id": "6e3f9b0f",
   "metadata": {},
   "outputs": [
    {
     "data": {
      "text/plain": [
       "8"
      ]
     },
     "execution_count": 466,
     "metadata": {},
     "output_type": "execute_result"
    }
   ],
   "source": [
    "s = Solution()\n",
    "s.maxProfit([1,3,2,8,4,9],2)"
   ]
  },
  {
   "cell_type": "code",
   "execution_count": null,
   "id": "d86b7ac5",
   "metadata": {},
   "outputs": [],
   "source": []
  },
  {
   "cell_type": "markdown",
   "id": "325a66ed",
   "metadata": {},
   "source": [
    "### 493. Longest Bitonic subsequence   (Did after 395)"
   ]
  },
  {
   "cell_type": "markdown",
   "id": "ac8cbe88",
   "metadata": {},
   "source": [
    "### 494. Number of Longest Increasing Subsequence  (Did after 395)"
   ]
  },
  {
   "cell_type": "code",
   "execution_count": null,
   "id": "a3d72dab",
   "metadata": {},
   "outputs": [],
   "source": []
  }
 ],
 "metadata": {
  "kernelspec": {
   "display_name": "Python 3",
   "language": "python",
   "name": "python3"
  },
  "language_info": {
   "codemirror_mode": {
    "name": "ipython",
    "version": 3
   },
   "file_extension": ".py",
   "mimetype": "text/x-python",
   "name": "python",
   "nbconvert_exporter": "python",
   "pygments_lexer": "ipython3",
   "version": "3.6.5"
  }
 },
 "nbformat": 4,
 "nbformat_minor": 5
}
