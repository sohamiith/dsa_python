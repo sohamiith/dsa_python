{
 "cells": [
  {
   "cell_type": "markdown",
   "id": "ae26464c",
   "metadata": {},
   "source": [
    "## Dynamic Programming"
   ]
  },
  {
   "cell_type": "raw",
   "id": "3161c4f2",
   "metadata": {},
   "source": [
    "Dynamic Programming is mainly an optimization over plain recursion. Wherever we see a recursive solution that has repeated calls for same inputs, we can optimize it using Dynamic Programming. The idea is to simply store the results of subproblems, so that we do not have to re-compute them when needed later. This simple optimization reduces time complexities from exponential to polynomial.\n",
    "\n",
    "Approaches: \n",
    "1. Top down: recursion + memoization   (From required ans -> go to towards base case)\n",
    "2. Bottom up: tebulation               (From base case -> build required ans gradually)\n",
    "\n",
    "problem can be solved using Dynamic programming if following things are there in problem: \n",
    "1) Overlapping Subproblems \n",
    "2) Optimal Substructure \n",
    "\n",
    "1) Overlapping subproblems:\n",
    "Dynamic Programming is mainly used when solutions to the same subproblems are needed again and again. In dynamic programming, computed solutions to subproblems are stored in a table so that these don’t have to be recomputed. So Dynamic Programming is not useful when there are no common (overlapping) subproblems because there is no point in storing the solutions if they are not needed again.\n",
    "\n",
    "2) Optimal Substructure: \n",
    "A given problem has Optimal Substructure Property if the optimal solution of the given problem can be obtained by using optimal solutions of its subproblems.\n",
    "\n",
    "\n",
    "Memoization: \n",
    "Store the result of sub problems into map/table.\n",
    "\n",
    "\n",
    "\n",
    "Three steps to build DP solution:\n",
    "\n",
    "1. Create DP table\n",
    "2. After calculating ans, store it into the DP table\n",
    "3. Just after base condition code, check whether given ans is already in DP table or not. If ans is there then return that ans directly without solving it."
   ]
  },
  {
   "cell_type": "raw",
   "id": "1c47fa90",
   "metadata": {},
   "source": [
    "It is question of recursion/DP if it was asked like,\n",
    "\n",
    "1. Give all possible ways\n",
    "2. count number of possible ways\n",
    "3. give best solution among all"
   ]
  },
  {
   "cell_type": "raw",
   "id": "495404f5",
   "metadata": {},
   "source": [
    "Steps to make a recursive solution:\n",
    "\n",
    "1. Try to represent the problem in terms of index.\n",
    "2. Do all possible stuffs on that index according to the problem statment\n",
    "3. sum up all stuffs (When it was about counting all steps)\n",
    "   get best result (When it was about getting min/max result)"
   ]
  },
  {
   "cell_type": "code",
   "execution_count": null,
   "id": "6429a4bd",
   "metadata": {},
   "outputs": [],
   "source": []
  },
  {
   "cell_type": "code",
   "execution_count": null,
   "id": "ecd5cdd1",
   "metadata": {},
   "outputs": [],
   "source": []
  },
  {
   "cell_type": "markdown",
   "id": "88a4561c",
   "metadata": {},
   "source": [
    "### 102. maximum sum such that no 2 elements are adjacent"
   ]
  },
  {
   "cell_type": "raw",
   "id": "cf30f20c",
   "metadata": {},
   "source": [
    "Stickler the thief wants to loot money from a society having n houses in a single line. He is a weird person and follows a certain rule when looting the houses. According to the rule, he will never loot two consecutive houses. At the same time, he wants to maximize the amount he loots. The thief knows which house has what amount of money but is unable to come up with an optimal looting strategy. He asks for your help to find the maximum money he can get if he strictly follows the rule. Each house has a[i]amount of money present in it.\n",
    "\n",
    "Example 1:\n",
    "\n",
    "Input:\n",
    "n = 6\n",
    "a[] = {5,5,10,100,10,5}\n",
    "Output: 110\n",
    "Explanation: 5+100+5=110"
   ]
  },
  {
   "cell_type": "raw",
   "id": "b9255b89",
   "metadata": {},
   "source": [
    "recursive relation:\n",
    "\n",
    "For every element in array, there are two posibilities.\n",
    "1. include that element\n",
    "f(n) = f(n-2) + cost[n]\n",
    "\n",
    "2. exclude that element\n",
    "f(n) = f(n-1) + 0\n",
    "\n",
    "base condition:\n",
    "if n < 0: return 0\n",
    "if n == 0 return a[0]"
   ]
  },
  {
   "cell_type": "code",
   "execution_count": 104,
   "id": "7ae9c3fc",
   "metadata": {},
   "outputs": [],
   "source": [
    "# Recursive solution\n",
    "\n",
    "class Solution:  \n",
    "    def solve(self,a,n,i):\n",
    "        if i == 0:\n",
    "            return a[i]\n",
    "        \n",
    "        if i < 0:\n",
    "            return 0\n",
    "    \n",
    "        include = self.solve(a, n, i-2) + a[i]\n",
    "        exclude = self.solve(a, n, i-1) + 0\n",
    "        \n",
    "        return max(include, exclude)\n",
    "    \n",
    "    def FindMaxSum(self,a, n):\n",
    "        i = n-1\n",
    "        return self.solve(a, n, i)\n",
    "    \n",
    "# Time comp:O(2^n)\n",
    "# Space comp:O(N)   (due to recursive stack)"
   ]
  },
  {
   "cell_type": "code",
   "execution_count": 105,
   "id": "41969311",
   "metadata": {},
   "outputs": [
    {
     "data": {
      "text/plain": [
       "110"
      ]
     },
     "execution_count": 105,
     "metadata": {},
     "output_type": "execute_result"
    }
   ],
   "source": [
    "s = Solution()\n",
    "s.FindMaxSum([5,5,10,100,10,5],6)"
   ]
  },
  {
   "cell_type": "code",
   "execution_count": 106,
   "id": "d9372219",
   "metadata": {},
   "outputs": [],
   "source": [
    "# DP: Top down approach\n",
    "\n",
    "class Solution:\n",
    "    def __init__(self):\n",
    "        self.table = []\n",
    "    \n",
    "    def solve(self,a,n,i):\n",
    "        if i == 0:\n",
    "            return a[i]\n",
    "        \n",
    "        if i < 0:\n",
    "            return 0\n",
    "    \n",
    "        if self.table[i] != -1:\n",
    "            return self.table[i]\n",
    "    \n",
    "        include = self.solve(a, n, i-2) + a[i]\n",
    "        exclude = self.solve(a, n, i-1) + 0\n",
    "        \n",
    "        self.table[i] = max(include, exclude)\n",
    "        \n",
    "        return self.table[i]\n",
    "    \n",
    "    def FindMaxSum(self,a, n):\n",
    "        self.table = [-1 for i in range(n)]\n",
    "        i = n-1\n",
    "        return self.solve(a, n, i)\n",
    "    \n",
    "# Time comp:O(N)\n",
    "# Space comp:O(N)   (due to recursive stack)"
   ]
  },
  {
   "cell_type": "code",
   "execution_count": 107,
   "id": "998a56f5",
   "metadata": {},
   "outputs": [
    {
     "data": {
      "text/plain": [
       "110"
      ]
     },
     "execution_count": 107,
     "metadata": {},
     "output_type": "execute_result"
    }
   ],
   "source": [
    "s = Solution()\n",
    "s.FindMaxSum([5,5,10,100,10,5],6)"
   ]
  },
  {
   "cell_type": "code",
   "execution_count": 112,
   "id": "1df9dc1d",
   "metadata": {},
   "outputs": [],
   "source": [
    "# DP: Bottom up approach\n",
    "\n",
    "class Solution:\n",
    "    def __init__(self):\n",
    "        self.table = []\n",
    "    \n",
    "    def solve(self,a,n):\n",
    "        if len(a) == 1:\n",
    "            return a[0]\n",
    "        \n",
    "        for j in range(1,n):\n",
    "            if j-2 >= 0:\n",
    "                include = self.table[j-2] + a[j]\n",
    "            else:\n",
    "                include = a[j]\n",
    "                \n",
    "            exclude = self.table[j-1] + 0\n",
    "            \n",
    "            self.table[j] = max(include, exclude)\n",
    "        \n",
    "        return self.table[n-1]\n",
    "    \n",
    "    def FindMaxSum(self,a, n):\n",
    "        self.table = [0 for i in range(n)]\n",
    "        self.table[0] = a[0]\n",
    "        return self.solve(a, n)\n",
    "    \n",
    "# Time comp:O(N)\n",
    "# Space comp:O(N)   (due to recursive stack)"
   ]
  },
  {
   "cell_type": "code",
   "execution_count": 113,
   "id": "d404987a",
   "metadata": {},
   "outputs": [
    {
     "data": {
      "text/plain": [
       "110"
      ]
     },
     "execution_count": 113,
     "metadata": {},
     "output_type": "execute_result"
    }
   ],
   "source": [
    "s = Solution()\n",
    "s.FindMaxSum([5,5,10,100,10,5],6)"
   ]
  },
  {
   "cell_type": "code",
   "execution_count": 118,
   "id": "50f6d9fd",
   "metadata": {},
   "outputs": [],
   "source": [
    "# Space optimal solution\n",
    "\n",
    "class Solution:\n",
    "    def solve(self,a,n,last,second_last):\n",
    "        for j in range(1,n):\n",
    "            if j-2 >= 0:\n",
    "                include = second_last + a[j]\n",
    "            else:\n",
    "                include = a[j]\n",
    "                \n",
    "            exclude = last + 0\n",
    "            \n",
    "            second_last = last\n",
    "            last = max(include, exclude)\n",
    "        \n",
    "        return last\n",
    "    \n",
    "    def FindMaxSum(self,a, n):\n",
    "        last = a[0]\n",
    "        second_last = 0\n",
    "        return self.solve(a, n, last, second_last)\n",
    "    \n",
    "# Time comp:O(N)\n",
    "# Space comp:O(1)"
   ]
  },
  {
   "cell_type": "code",
   "execution_count": 119,
   "id": "5548f88b",
   "metadata": {},
   "outputs": [
    {
     "data": {
      "text/plain": [
       "110"
      ]
     },
     "execution_count": 119,
     "metadata": {},
     "output_type": "execute_result"
    }
   ],
   "source": [
    "s = Solution()\n",
    "s.FindMaxSum([5,5,10,100,10,5],6)"
   ]
  },
  {
   "cell_type": "raw",
   "id": "34ef6010",
   "metadata": {},
   "source": [
    "Que: (https://www.codingninjas.com/codestudio/problems/house-robber_839733?leftPanelTab=1)\n",
    "\n",
    "Video link: (https://www.youtube.com/watch?v=3WaxQMELSkw&list=PLgUwDviBIf0qUlt5H_kiKYaNSqJ81PMMY&index=7)\n",
    "\n",
    "If its given that, all the array A is actually in a circular form,\n",
    "Then we can't include first and last element togather in ans.\n",
    "\n",
    "Following is solution for that.\n"
   ]
  },
  {
   "cell_type": "code",
   "execution_count": 127,
   "id": "6c97245e",
   "metadata": {},
   "outputs": [],
   "source": [
    "class Solution:\n",
    "    def solve(self,a,n,last,second_last):\n",
    "        for j in range(1,n):\n",
    "            if j-2 >= 0:\n",
    "                include = second_last + a[j]\n",
    "            else:\n",
    "                include = a[j]\n",
    "                \n",
    "            exclude = last + 0\n",
    "            \n",
    "            second_last = last\n",
    "            last = max(include, exclude)\n",
    "        \n",
    "        return last\n",
    "    \n",
    "    def FindMaxSum(self,a, n):\n",
    "        \n",
    "        # Include the last one and ignore the first element\n",
    "        last = a[0]\n",
    "        second_last = 0\n",
    "        x = self.solve(a[:n-1], n-1, last, second_last)\n",
    "        \n",
    "        # Include the first one and ignore the last element\n",
    "        last = a[1]\n",
    "        second_last = 0\n",
    "        y = self.solve(a[1:], n-1, last, second_last)\n",
    "        \n",
    "        return max(x,y)\n",
    "    \n",
    "# Time comp:O(N)\n",
    "# Space comp:O(1)"
   ]
  },
  {
   "cell_type": "code",
   "execution_count": 128,
   "id": "8e1e76ec",
   "metadata": {},
   "outputs": [
    {
     "name": "stdout",
     "output_type": "stream",
     "text": [
      "4\n",
      "15\n"
     ]
    }
   ],
   "source": [
    "s = Solution()\n",
    "print(s.FindMaxSum([1, 3, 2, 1],4))\n",
    "print(s.FindMaxSum([6, 5, 4, 3, 2, 1, 7],7))"
   ]
  },
  {
   "cell_type": "code",
   "execution_count": null,
   "id": "19bb3009",
   "metadata": {},
   "outputs": [],
   "source": []
  },
  {
   "cell_type": "markdown",
   "id": "3a14a24a",
   "metadata": {},
   "source": [
    "### 387. subset sum equals to K"
   ]
  },
  {
   "cell_type": "raw",
   "id": "5e230749",
   "metadata": {},
   "source": [
    "Given an array of non-negative integers, and a value sum, determine if there is a subset of the given set with sum equal to given sum. \n",
    "\n",
    "\n",
    "Example 1:\n",
    "\n",
    "Input:\n",
    "N = 6\n",
    "arr[] = {3, 34, 4, 12, 5, 2}\n",
    "sum = 9\n",
    "Output: 1 \n",
    "Explanation: Here there exists a subset with\n",
    "sum = 9, 4+3+2 = 9.\n",
    "Example 2:\n",
    "\n",
    "Input:\n",
    "N = 6\n",
    "arr[] = {3, 34, 4, 12, 5, 2}\n",
    "sum = 30\n",
    "Output: 0 \n",
    "Explanation: There is no subset with sum 30."
   ]
  },
  {
   "cell_type": "code",
   "execution_count": 73,
   "id": "0740b6a7",
   "metadata": {},
   "outputs": [],
   "source": [
    "\"\"\"\n",
    "Backtracking solution based on pick and not pick approach\n",
    "\"\"\"\n",
    "\n",
    "class Solution:\n",
    "    def solve(self,arr,N,target,i):\n",
    "        if target == 0:\n",
    "            return True\n",
    "        if i >= N or target < 0:\n",
    "            return False\n",
    "        \n",
    "        target = target - arr[i]\n",
    "        \n",
    "        x = self.solve(arr,N,target,i+1)\n",
    "        if x == True:\n",
    "            return True\n",
    "        \n",
    "        target = target + arr[i]\n",
    "        return self.solve(arr,N,target,i+1)\n",
    "    \n",
    "    def isSubsetSum (self, N, arr, sum):\n",
    "        i = 0\n",
    "        x = self.solve(arr,N,sum,i)\n",
    "        if x == True:\n",
    "            return 1\n",
    "        return 0\n",
    "    \n",
    "# Time comp:O(2^N)\n",
    "# Space comp:O(N)    (Due to recursion stack)"
   ]
  },
  {
   "cell_type": "code",
   "execution_count": null,
   "id": "f94a0d91",
   "metadata": {},
   "outputs": [],
   "source": [
    "\"\"\"\n",
    "A recursive solution:\n",
    "\n",
    "For the subsequence problems follow this steps:\n",
    "1. express the recurance relation: f(index,target)\n",
    "2. Explore the possibilities of that index (picked or not picked) which returns true ot false\n",
    "3. return (picked or not picked)\n",
    "\n",
    "Here we take one pointer i which points current index and array after current index will only taken into consideration\n",
    "So here we are staring from index 0 to index n-1\n",
    "and for each index we will pick and not pick that element and check whether anyone of them gives solution or not\n",
    "\"\"\" \n",
    "\n",
    "class Solution:\n",
    "    def solve(self,arr,N,target,i):\n",
    "        if target == 0:\n",
    "            return True\n",
    "        \n",
    "        # If we are the last index and value of that index is same as target then return True else return False\n",
    "        if i == N-1:\n",
    "            if arr[i] == target:\n",
    "                return True\n",
    "            else:\n",
    "                return False\n",
    "        \n",
    "        not_take = self.solve(arr,N,target,i+1)\n",
    "        \n",
    "        take = False\n",
    "        if target >= arr[i]:\n",
    "            take = self.solve(arr,N,target-arr[i],i+1)\n",
    "        \n",
    "        return take or not_take\n",
    "    \n",
    "    def isSubsetSum (self, N, arr, sum):\n",
    "        i = 0\n",
    "        x = self.solve(arr,N,sum,i)\n",
    "        if x == True:\n",
    "            return 1\n",
    "        return 0\n",
    "\n",
    "# Time comp:O(2^N)\n",
    "# Space comp:O(N)    (Due to recursion stack)"
   ]
  },
  {
   "cell_type": "code",
   "execution_count": 78,
   "id": "c0301954",
   "metadata": {},
   "outputs": [],
   "source": [
    "# DP: Top down approach\n",
    "\n",
    "# Here we seen that, two variables are being changed in recursive function call\n",
    "# So we need to create 2D DP.\n",
    "# DP will be of size [N+1]*[target+1]\n",
    "\n",
    "class Solution:\n",
    "    def __init__(self):\n",
    "        self.table = None\n",
    "        \n",
    "    def solve(self,arr,N,target,i):\n",
    "        if target == 0:\n",
    "            return True\n",
    "        if i == N-1:\n",
    "            if arr[i] == target:\n",
    "                return True\n",
    "            else:\n",
    "                return False\n",
    "        \n",
    "        if self.table[i][target] != -1:\n",
    "            return self.table[i][target]\n",
    "        \n",
    "        not_take = self.solve(arr,N,target,i+1)\n",
    "        take = False\n",
    "        if target >= arr[i]:\n",
    "            take = self.solve(arr,N,target-arr[i],i+1)\n",
    "        \n",
    "        self.table[i][target] = (take or not_take)\n",
    "        return self.table[i][target]\n",
    "    \n",
    "    def isSubsetSum (self, N, arr, sum):\n",
    "        self.table = [[-1 for i in range(sum+1)] for j in range(N)]\n",
    "        i = 0\n",
    "        x = self.solve(arr,N,sum,i)\n",
    "        if x == True:\n",
    "            return 1\n",
    "        return 0\n",
    "    \n",
    "# Time comp:O(N * Target sum)\n",
    "# Space comp:O(N * Target sum) (to store DP)   (recursion stack:O(N))    "
   ]
  },
  {
   "cell_type": "code",
   "execution_count": 79,
   "id": "545995cc",
   "metadata": {},
   "outputs": [
    {
     "name": "stdout",
     "output_type": "stream",
     "text": [
      "1\n",
      "0\n"
     ]
    }
   ],
   "source": [
    "arr = [3, 34, 4, 12, 5, 2]\n",
    "s = Solution()\n",
    "print(s.isSubsetSum(6,[3, 34, 4, 12, 5, 2],9))\n",
    "print(s.isSubsetSum(6,[3, 34, 4, 12, 5, 2],30))"
   ]
  },
  {
   "cell_type": "code",
   "execution_count": 82,
   "id": "723a85e2",
   "metadata": {},
   "outputs": [],
   "source": [
    "# DP: Bottom up approach\n",
    "\n",
    "class Solution:\n",
    "    def __init__(self):\n",
    "        self.table = None\n",
    "        \n",
    "    def solve(self,arr,N,target):\n",
    "        for ind in range(1,N):\n",
    "            for tar in range(1,target + 1):\n",
    "                not_take = self.table[ind-1][tar]\n",
    "                take = False\n",
    "                if tar >= arr[ind]:\n",
    "                    take = self.table[ind-1][tar-arr[ind]]\n",
    "                \n",
    "                self.table[ind][tar] = (take or not_take)\n",
    "    \n",
    "    def isSubsetSum (self, N, arr, sum):\n",
    "        self.table = [[False for i in range(sum+1)] for j in range(N)]\n",
    "        for i in range(N):\n",
    "            self.table[i][0] = True\n",
    "            \n",
    "        if arr[0] <= sum:\n",
    "            self.table[0][arr[0]] = True\n",
    "        \n",
    "        self.solve(arr,N,sum)\n",
    "        \n",
    "        if self.table[N-1][sum]:\n",
    "            return 1\n",
    "        return 0\n",
    "    \n",
    "# Time comp:O(N * Target sum)\n",
    "# Space comp:O(N * Target sum) (to store DP) "
   ]
  },
  {
   "cell_type": "code",
   "execution_count": 83,
   "id": "5fb39e6d",
   "metadata": {},
   "outputs": [
    {
     "name": "stdout",
     "output_type": "stream",
     "text": [
      "1\n",
      "0\n"
     ]
    }
   ],
   "source": [
    "arr = [3, 34, 4, 12, 5, 2]\n",
    "s = Solution()\n",
    "print(s.isSubsetSum(6,[3, 34, 4, 12, 5, 2],9))\n",
    "print(s.isSubsetSum(6,[3, 34, 4, 12, 5, 2],30))"
   ]
  },
  {
   "cell_type": "raw",
   "id": "1da972f8",
   "metadata": {},
   "source": [
    "Variation to above problem:\n",
    "\n",
    "Que: Partition Equal Subset Sum\n",
    "\n",
    "Given an array arr[] of size N, check if it can be partitioned into two parts such that the sum of elements in both parts is the same.\n",
    "\n",
    "Example 1:\n",
    "\n",
    "Input: N = 4\n",
    "arr = {1, 5, 11, 5}\n",
    "Output: YES\n",
    "Explanation: \n",
    "The two parts are {1, 5, 5} and {11}.\n",
    "Example 2:\n",
    "\n",
    "Input: N = 3\n",
    "arr = {1, 3, 5}\n",
    "Output: NO\n",
    "Explanation: This array can never be \n",
    "partitioned into two such parts."
   ]
  },
  {
   "cell_type": "raw",
   "id": "a3f9b053",
   "metadata": {},
   "source": [
    "Here we will calculate total sum of array\n",
    "If sum is odd then not possible to divide it into two parts so return False\n",
    "Else our terget will be sum/2\n",
    "and then do same as we did in prev que"
   ]
  },
  {
   "cell_type": "code",
   "execution_count": 85,
   "id": "d17a2d8c",
   "metadata": {},
   "outputs": [],
   "source": [
    "class Solution:\n",
    "    def __init__(self):\n",
    "        self.table = None\n",
    "        \n",
    "    def solve(self,arr,N,target):\n",
    "        for ind in range(1,N):\n",
    "            for tar in range(1,target + 1):\n",
    "                not_take = self.table[ind-1][tar]\n",
    "                take = False\n",
    "                if tar >= arr[ind]:\n",
    "                    take = self.table[ind-1][tar-arr[ind]]\n",
    "                \n",
    "                self.table[ind][tar] = (take or not_take)\n",
    "        \n",
    "    def equalPartition(self, N, arr):\n",
    "        target = sum(arr)\n",
    "        if target % 2:\n",
    "            return 0\n",
    "        \n",
    "        target = target // 2\n",
    "        \n",
    "        self.table = [[False for i in range(target+1)] for j in range(N)]\n",
    "        for i in range(N):\n",
    "            self.table[i][0] = True\n",
    "            \n",
    "        if arr[0] <= target:\n",
    "            self.table[0][arr[0]] = True\n",
    "        \n",
    "        self.solve(arr,N,target)\n",
    "        \n",
    "        if self.table[N-1][target]:\n",
    "            return 1\n",
    "        return 0"
   ]
  },
  {
   "cell_type": "code",
   "execution_count": 86,
   "id": "bcc36cf9",
   "metadata": {},
   "outputs": [
    {
     "name": "stdout",
     "output_type": "stream",
     "text": [
      "1\n",
      "0\n"
     ]
    }
   ],
   "source": [
    "arr = [3, 34, 4, 12, 5, 2]\n",
    "s = Solution()\n",
    "print(s.equalPartition(4,[1, 5, 11, 5]))\n",
    "print(s.equalPartition(3,[1, 3, 5]))"
   ]
  },
  {
   "cell_type": "code",
   "execution_count": null,
   "id": "89b7b19b",
   "metadata": {},
   "outputs": [],
   "source": []
  },
  {
   "cell_type": "markdown",
   "id": "6abb00e0",
   "metadata": {},
   "source": [
    "### 392. Maximize The Cut Segments"
   ]
  },
  {
   "cell_type": "raw",
   "id": "4f019c60",
   "metadata": {},
   "source": [
    "Given an integer N denoting the Length of a line segment. You need to cut the line segment in such a way that the cut length of a line segment each time is either x , y or z. Here x, y, and z are integers.\n",
    "After performing all the cut operations, your total number of cut segments must be maximum.\n",
    "\n",
    "Input:\n",
    "N = 4\n",
    "x = 2, y = 1, z = 1\n",
    "Output: 4\n",
    "Explanation:Total length is 4, and the cut\n",
    "lengths are 2, 1 and 1.  We can make\n",
    "maximum 4 segments each of length 1."
   ]
  },
  {
   "cell_type": "raw",
   "id": "db563428",
   "metadata": {},
   "source": [
    "Recursive relation:\n",
    "\n",
    "f(n) = max(f(n-x),f(n-y),f(n-z))\n",
    "\n",
    "base condition:\n",
    "f(0) = 0\n",
    "and if n < x,y,z then return -inf"
   ]
  },
  {
   "cell_type": "code",
   "execution_count": 71,
   "id": "6a08a18f",
   "metadata": {},
   "outputs": [],
   "source": [
    "# Recursive solution\n",
    "\n",
    "import sys\n",
    "sys.setrecursionlimit(10000)\n",
    "\n",
    "class Solution:\n",
    "    \n",
    "    def maxSeg(self,n,x,y,z):\n",
    "        if n == 0:\n",
    "            return 0\n",
    "            \n",
    "        if n<x and n<y and n<z:\n",
    "            return float('-inf')\n",
    "            \n",
    "        ans1 = self.maxSeg(n-x,x,y,z) + 1\n",
    "        ans2 = self.maxSeg(n-y,x,y,z) + 1\n",
    "        ans3 = self.maxSeg(n-z,x,y,z) + 1\n",
    "        \n",
    "        return max(ans1,ans2,ans3)\n",
    "    \n",
    "    def maximizeTheCuts(self,n,x,y,z):\n",
    "        ans = self.maxSeg(n,x,y,z)\n",
    "        if ans == float('-inf'):\n",
    "            return 0\n",
    "        return ans\n",
    "    \n",
    "# Time comp:O(3^n)\n",
    "# Space comp:(N)   (recursive stack)"
   ]
  },
  {
   "cell_type": "code",
   "execution_count": 72,
   "id": "9ebba0dc",
   "metadata": {},
   "outputs": [
    {
     "data": {
      "text/plain": [
       "2"
      ]
     },
     "execution_count": 72,
     "metadata": {},
     "output_type": "execute_result"
    }
   ],
   "source": [
    "s = Solution()\n",
    "s.maximizeTheCuts(5,5,3,2)"
   ]
  },
  {
   "cell_type": "code",
   "execution_count": null,
   "id": "b79b792b",
   "metadata": {},
   "outputs": [],
   "source": [
    "# DP: Top down approach\n",
    "\n",
    "import sys\n",
    "sys.setrecursionlimit(10000)\n",
    "\n",
    "class Solution:\n",
    "    def __init__(self):\n",
    "        self.table = []\n",
    "        \n",
    "    def maxSeg(self,n,x,y,z):\n",
    "        if n == 0:\n",
    "            return 0\n",
    "            \n",
    "        if n<x and n<y and n<z:\n",
    "            return float('-inf')\n",
    "            \n",
    "        if self.table[n] != -1:\n",
    "            return self.table[n]\n",
    "            \n",
    "        ans1 = self.maxSeg(n-x,x,y,z) + 1\n",
    "        ans2 = self.maxSeg(n-y,x,y,z) + 1\n",
    "        ans3 = self.maxSeg(n-z,x,y,z) + 1\n",
    "        \n",
    "        self.table[n] = max(ans1,ans2,ans3)\n",
    "        \n",
    "        return self.table[n]\n",
    "    \n",
    "    def maximizeTheCuts(self,n,x,y,z):\n",
    "        self.table = [-1 for i in range(n+1)]\n",
    "        ans = self.maxSeg(n,x,y,z)\n",
    "        if ans == float('-inf'):\n",
    "            return 0\n",
    "        return ans\n",
    "    \n",
    "# Time comp:O(N)\n",
    "# Space comp:O(N)   (DP table:O(N) + recursive stack:O(N))"
   ]
  },
  {
   "cell_type": "code",
   "execution_count": null,
   "id": "f3e8a183",
   "metadata": {},
   "outputs": [],
   "source": [
    "# DP: Bottom up approach\n",
    "\n",
    "import sys\n",
    "sys.setrecursionlimit(10000)\n",
    "\n",
    "class Solution:\n",
    "    def __init__(self):\n",
    "        self.table = []\n",
    "        \n",
    "    def maxSeg(self,n,x,y,z):\n",
    "        if n == 0:\n",
    "            return self.table[0]\n",
    "            \n",
    "        \n",
    "        for i in range(1,n+1):\n",
    "            ans1 = float('-inf')\n",
    "            ans2 = float('-inf')\n",
    "            ans3 = float('-inf')\n",
    "            \n",
    "            if i-x >= 0 and self.table[i-x] != -1:\n",
    "                ans1 = self.table[i-x] + 1\n",
    "            \n",
    "            if i-y >= 0 and self.table[i-y] != -1:\n",
    "                ans2 = self.table[i-y] + 1\n",
    "                \n",
    "            if i-z >= 0 and self.table[i-z] != -1:\n",
    "                ans3 = self.table[i-z] + 1\n",
    "                \n",
    "            self.table[i] = max(ans1,ans2,ans3)\n",
    "        \n",
    "        return self.table[n]\n",
    "    \n",
    "    def maximizeTheCuts(self,n,x,y,z):\n",
    "        self.table = [-1 for i in range(n+1)]\n",
    "        self.table[0] = 0\n",
    "        \n",
    "        ans = self.maxSeg(n,x,y,z)\n",
    "        if ans == float('-inf'):\n",
    "            return 0\n",
    "        return ans\n",
    "    \n",
    "# Time comp:O(N)\n",
    "# Space comp:O(N)   (DP table:O(N))"
   ]
  },
  {
   "cell_type": "code",
   "execution_count": null,
   "id": "d36dc76a",
   "metadata": {},
   "outputs": [],
   "source": [
    "# Space optimization is not possible in this que"
   ]
  },
  {
   "cell_type": "code",
   "execution_count": null,
   "id": "613e6ac1",
   "metadata": {},
   "outputs": [],
   "source": []
  },
  {
   "cell_type": "markdown",
   "id": "6259bac5",
   "metadata": {},
   "source": [
    "### 412. Count number of ways to reacha given score in a game"
   ]
  },
  {
   "cell_type": "raw",
   "id": "07ddba71",
   "metadata": {},
   "source": [
    "Consider a game where a player can score 3 or 5 or 10 points in a move. Given a total score n, find number of distinct combinations to reach the given score.\n",
    "\n",
    "Example:\n",
    "Input\n",
    "3\n",
    "8\n",
    "20\n",
    "13\n",
    "Output\n",
    "1\n",
    "4\n",
    "2\n",
    "Explanation\n",
    "For 1st example when n = 8\n",
    "{ 3, 5 } and {5, 3} are the \n",
    "two possible permutations but \n",
    "these represent the same \n",
    "cobmination. Hence output is 1."
   ]
  },
  {
   "cell_type": "raw",
   "id": "0c2240f6",
   "metadata": {},
   "source": [
    "recursive relation\n",
    "\n",
    "here values are [3,5,10]\n",
    "\n",
    "For N, each element of values either will be included or not\n",
    "\n",
    "F(N) = F(N-val[i],i) + F(N,i--)\n",
    "Where i will be start from len(values)\n"
   ]
  },
  {
   "cell_type": "code",
   "execution_count": null,
   "id": "82a938b3",
   "metadata": {},
   "outputs": [],
   "source": []
  },
  {
   "cell_type": "markdown",
   "id": "34f173a9",
   "metadata": {},
   "source": [
    "### 467. Nth Fibinacci number"
   ]
  },
  {
   "cell_type": "raw",
   "id": "24f44fe7",
   "metadata": {},
   "source": [
    "Given a positive integer n, find the nth fibonacci number. Since the answer can be very large, return the answer modulo 1000000007.\n",
    "\n",
    "Input: n = 5\n",
    "Output: 5\n",
    "Explanation: 5 is the 5th number\n",
    "of fibonacci series."
   ]
  },
  {
   "cell_type": "raw",
   "id": "f4ae5dc5",
   "metadata": {},
   "source": [
    "Fibinacci: 0 1 1 2 3 5 8 13 21 ...\n",
    "\n",
    "f(n) = f(n-1) + f(n-2)"
   ]
  },
  {
   "cell_type": "code",
   "execution_count": 3,
   "id": "41a8eec5",
   "metadata": {},
   "outputs": [],
   "source": [
    "# Recursion methon\n",
    "\n",
    "def findFibo(n):\n",
    "    if n == 1 or n == 0:\n",
    "        return n\n",
    "\n",
    "    return findFibo(n-1) + findFibo(n-2)\n",
    "\n",
    "# Time comp:O(2^n)\n",
    "# Space comp:O(1)   (Recursive tree:O(n))"
   ]
  },
  {
   "cell_type": "code",
   "execution_count": 4,
   "id": "50577357",
   "metadata": {},
   "outputs": [
    {
     "name": "stdout",
     "output_type": "stream",
     "text": [
      "8\n",
      "34\n"
     ]
    }
   ],
   "source": [
    "print(findFibo(6))\n",
    "print(findFibo(9))"
   ]
  },
  {
   "cell_type": "code",
   "execution_count": 14,
   "id": "ba0fdf63",
   "metadata": {},
   "outputs": [],
   "source": [
    "# DP: Top down approach\n",
    "\n",
    "class Solution:\n",
    "    def __init__(self):\n",
    "        self.table = []\n",
    "        \n",
    "    def findFibo(self,n):\n",
    "        if n == 1 or n == 0:\n",
    "            return n\n",
    "        \n",
    "        if self.table[n] != -1:\n",
    "            return self.table[n]\n",
    "        \n",
    "        x = self.findFibo(n-1) + self.findFibo(n-2)\n",
    "        self.table[n] = x\n",
    "        return x\n",
    "    \n",
    "    \n",
    "    def nthFibonacci(self, n):\n",
    "        self.table = [-1 for i in range(n+1)]\n",
    "        ans = self.findFibo(n)\n",
    "        return ans%1000000007\n",
    "    \n",
    "# Time comp:O(N)\n",
    "# Space comp:O(N)   (for memoization)  (recursion tree:O(N))"
   ]
  },
  {
   "cell_type": "code",
   "execution_count": 15,
   "id": "003a5b54",
   "metadata": {},
   "outputs": [
    {
     "name": "stdout",
     "output_type": "stream",
     "text": [
      "8\n",
      "34\n"
     ]
    }
   ],
   "source": [
    "s = Solution()\n",
    "print(s.nthFibonacci(6))\n",
    "print(s.nthFibonacci(9))"
   ]
  },
  {
   "cell_type": "code",
   "execution_count": 16,
   "id": "30d26b99",
   "metadata": {},
   "outputs": [],
   "source": [
    "# DP: Bottom up approach\n",
    "\n",
    "class Solution2:\n",
    "    def __init__(self):\n",
    "        self.table = []\n",
    "        \n",
    "    def findFibo(self,n):\n",
    "        if n == 1 or n == 0:\n",
    "            return self.table[n]\n",
    "        \n",
    "        for i in range(2,n+1):\n",
    "            self.table[i] = self.table[i-1] + self.table[i-2]\n",
    "        \n",
    "        return self.table[n]\n",
    "    \n",
    "    \n",
    "    def nthFibonacci(self, n):\n",
    "        self.table = [-1 for i in range(n+1)]\n",
    "        self.table[0] = 0\n",
    "        self.table[1] = 1\n",
    "        ans = self.findFibo(n)\n",
    "        return ans%1000000007\n",
    "    \n",
    "# Time comp:O(N)\n",
    "# Space comp:O(N)"
   ]
  },
  {
   "cell_type": "code",
   "execution_count": 17,
   "id": "2261cdbe",
   "metadata": {},
   "outputs": [
    {
     "name": "stdout",
     "output_type": "stream",
     "text": [
      "8\n",
      "34\n"
     ]
    }
   ],
   "source": [
    "s = Solution2()\n",
    "print(s.nthFibonacci(6))\n",
    "print(s.nthFibonacci(9))"
   ]
  },
  {
   "cell_type": "code",
   "execution_count": 12,
   "id": "2e784ad1",
   "metadata": {},
   "outputs": [],
   "source": [
    "# Iterative method  (Space optimization)\n",
    "\n",
    "def findFibo2(n):\n",
    "    if n == 1 or n == 0:\n",
    "        return n\n",
    "\n",
    "    s_last = 0    # second last\n",
    "    last = 1      # last\n",
    "    \n",
    "    for i in range(2,n+1):\n",
    "        temp = last\n",
    "        last = s_last + last\n",
    "        s_last = temp\n",
    "    return last\n",
    "\n",
    "# Time comp:O(N)\n",
    "# Space cop:O(1)"
   ]
  },
  {
   "cell_type": "code",
   "execution_count": 13,
   "id": "c1c993ba",
   "metadata": {},
   "outputs": [
    {
     "name": "stdout",
     "output_type": "stream",
     "text": [
      "8\n",
      "34\n"
     ]
    }
   ],
   "source": [
    "print(findFibo2(6))\n",
    "print(findFibo2(9))"
   ]
  },
  {
   "cell_type": "code",
   "execution_count": null,
   "id": "ca8918f5",
   "metadata": {},
   "outputs": [],
   "source": []
  },
  {
   "cell_type": "markdown",
   "id": "cdeec8fc",
   "metadata": {},
   "source": [
    "### 468. Count ways to reach the n'th stair"
   ]
  },
  {
   "cell_type": "raw",
   "id": "899f7228",
   "metadata": {},
   "source": [
    "There are n stairs, a person standing at the bottom wants to reach the top. The person can climb either 1 stair or 2 stairs at a time. Count the number of ways, the person can reach the top (order does matter).\n",
    "\n",
    "Input:\n",
    "n = 4\n",
    "Output: 5\n",
    "Explanation:\n",
    "You can reach 4th stair in 5 ways. \n",
    "Way 1: Climb 2 stairs at a time. \n",
    "Way 2: Climb 1 stair at a time.\n",
    "Way 3: Climb 2 stairs, then 1 stair\n",
    "and then 1 stair.\n",
    "Way 4: Climb 1 stair, then 2 stairs\n",
    "then 1 stair.\n",
    "Way 5: Climb 1 stair, then 1 stair and\n",
    "then 2 stairs."
   ]
  },
  {
   "cell_type": "raw",
   "id": "f031c834",
   "metadata": {},
   "source": [
    "recursive function:\n",
    "f(n) = f(n+1) + f(f+2)   If I am standing at stair 1 then I can either go to (1+1 = 2) or (1+2 = 3)\n",
    "\n",
    "or\n",
    "\n",
    "f(n) = f(n-1) + f(n-2)   If I am stading at strai 5 then I came either from (5-1 = 4) or (5-2 = 3)"
   ]
  },
  {
   "cell_type": "code",
   "execution_count": 18,
   "id": "8df4c333",
   "metadata": {},
   "outputs": [],
   "source": [
    "class Solution:\n",
    "    def count(self,stairs,i):\n",
    "        if i == stairs:\n",
    "            return 1\n",
    "            \n",
    "        if i > stairs:\n",
    "            return 0\n",
    "            \n",
    "        return self.count(stairs,i+1) + self.count(stairs,i+2)\n",
    "    \n",
    "    def countWays(self,n):\n",
    "        return self.count(n,0) % 1000000007\n",
    "    \n",
    "# Time comp:O(2^N)\n",
    "# Space comp:O(1)   (Recursion stakc:O(N))"
   ]
  },
  {
   "cell_type": "code",
   "execution_count": 19,
   "id": "f916626a",
   "metadata": {},
   "outputs": [
    {
     "name": "stdout",
     "output_type": "stream",
     "text": [
      "5\n",
      "89\n"
     ]
    }
   ],
   "source": [
    "s = Solution()\n",
    "print(s.countWays(4))\n",
    "print(s.countWays(10))"
   ]
  },
  {
   "cell_type": "code",
   "execution_count": 20,
   "id": "f85e5174",
   "metadata": {},
   "outputs": [],
   "source": [
    "# DP: Top down approach\n",
    "\n",
    "class Solution:\n",
    "    def __init__(self):\n",
    "        self.table = []\n",
    "    \n",
    "    def count(self,stairs,i):\n",
    "        if i == stairs:\n",
    "            return 1\n",
    "            \n",
    "        if i > stairs:\n",
    "            return 0\n",
    "            \n",
    "        if self.table[i] != -1:\n",
    "            return self.table[i]\n",
    "            \n",
    "        self.table[i] = self.count(stairs,i+1) + self.count(stairs,i+2)\n",
    "        return self.table[i]\n",
    "    \n",
    "    def countWays(self,n):\n",
    "        self.table = [-1 for i in range(n+1)]\n",
    "        return self.count(n,0) % 1000000007\n",
    "    \n",
    "# Time comp:O(N)\n",
    "# Space comp:O(N)    (recursion stack:O(N))"
   ]
  },
  {
   "cell_type": "code",
   "execution_count": 21,
   "id": "acfe5c97",
   "metadata": {},
   "outputs": [
    {
     "name": "stdout",
     "output_type": "stream",
     "text": [
      "5\n",
      "89\n"
     ]
    }
   ],
   "source": [
    "s = Solution()\n",
    "print(s.countWays(4))\n",
    "print(s.countWays(10))"
   ]
  },
  {
   "cell_type": "code",
   "execution_count": null,
   "id": "2c861e8f",
   "metadata": {},
   "outputs": [],
   "source": [
    "# DP: Bottom up approach\n",
    "\n",
    "class Solution:\n",
    "    def __init__(self):\n",
    "        self.table = []\n",
    "    \n",
    "    def count(self,stairs,i):\n",
    "        if i == stairs:\n",
    "            return self.table[i]\n",
    "        \n",
    "        for j in range(stairs-2,-1,-1):\n",
    "            self.table[j] = self.table[j+1] + self.table[j+2]\n",
    "            \n",
    "        return self.table[0]\n",
    "    \n",
    "    def countWays(self,n):\n",
    "        self.table = [-1 for i in range(n+1)]\n",
    "        self.table[n] = 1\n",
    "        self.table[n-1] = 1\n",
    "        return self.count(n,0) % 1000000007\n",
    "    \n",
    "# Time comp:O(N)\n",
    "# Space comp:O(N)    (recursion stack:O(N))"
   ]
  },
  {
   "cell_type": "code",
   "execution_count": 22,
   "id": "1cabc8a0",
   "metadata": {},
   "outputs": [],
   "source": [
    "# Iterative method (Space optimization)\n",
    "\n",
    "class Solution:\n",
    "    def countWays(self,n):\n",
    "        one = 1\n",
    "        two = 1\n",
    "        \n",
    "        for i in range(2,n+1):\n",
    "            temp = one\n",
    "            one = one + two\n",
    "            two = temp\n",
    "            \n",
    "        return one % 1000000007\n",
    "    \n",
    "# Time comp:O(N)\n",
    "# Space comp:O(1)"
   ]
  },
  {
   "cell_type": "code",
   "execution_count": null,
   "id": "3a5e8b38",
   "metadata": {},
   "outputs": [],
   "source": []
  },
  {
   "cell_type": "markdown",
   "id": "6397ba6b",
   "metadata": {},
   "source": [
    "### 469.  Min Cost Climbing Stairs "
   ]
  },
  {
   "cell_type": "raw",
   "id": "ff671149",
   "metadata": {},
   "source": [
    "Given an array of integers cost[] of length N, where cost[i] is the cost of the ith step on a staircase. Once the cost is paid, you can either climb one or two steps.\n",
    "You can either start from the step with index 0, or the step with index 1.\n",
    "Return the minimum cost to reach the top of the floor.\n",
    "\n",
    "Input:\n",
    "N = 10\n",
    "arr[] = {1, 100, 1, 1, 1, 100, 1, 1, 100, 1}\n",
    "Output:\n",
    "6\n",
    "Explanation:\n",
    "Cheapest option is to start on cost[0], \n",
    "and only step on 1s, skipping cost[3]."
   ]
  },
  {
   "cell_type": "raw",
   "id": "8cdaf134",
   "metadata": {},
   "source": [
    "https://www.youtube.com/watch?v=S31W3kohFDk\n",
    "\n",
    "recursive relation\n",
    "\n",
    "f(k) = min(f(k-1),f(k-2)) + cost(k)   (Where 0<= k <= n-1)\n",
    "\n",
    "if k = n:\n",
    "f(k) = min(f(k-1),f(k-2))"
   ]
  },
  {
   "cell_type": "code",
   "execution_count": 23,
   "id": "8329ea12",
   "metadata": {},
   "outputs": [],
   "source": [
    "# Recursive solution\n",
    "\n",
    "class Solution:\n",
    "    def solve(self, cost,N):\n",
    "        if N == 0:\n",
    "            return cost[0]\n",
    "            \n",
    "        if N == 1:\n",
    "            return cost[1]\n",
    "            \n",
    "        x = self.solve(cost, N-1)\n",
    "        y = self.solve(cost, N-2)\n",
    "        return min(x,y) + cost[N]\n",
    "    \n",
    "    \n",
    "    def minCostClimbingStairs(self, cost, N):\n",
    "        x = self.solve(cost, N-1)\n",
    "        y = self.solve(cost, N-2)\n",
    "        return min(x,y)\n",
    "    \n",
    "# Time comp:O(2^N)\n",
    "# Space comp:O(N)   (due to recursion stack)"
   ]
  },
  {
   "cell_type": "code",
   "execution_count": 24,
   "id": "f6c615a2",
   "metadata": {},
   "outputs": [
    {
     "name": "stdout",
     "output_type": "stream",
     "text": [
      "6\n"
     ]
    }
   ],
   "source": [
    "s = Solution()\n",
    "print(s.minCostClimbingStairs([1, 100, 1, 1, 1, 100, 1, 1, 100, 1],10))"
   ]
  },
  {
   "cell_type": "code",
   "execution_count": null,
   "id": "fb14ffa9",
   "metadata": {},
   "outputs": [],
   "source": [
    "# DP: Top down approach\n",
    "\n",
    "import sys\n",
    "sys.setrecursionlimit(1500)\n",
    "\n",
    "class Solution:\n",
    "    def __init__(self):\n",
    "        self.table = []\n",
    "    \n",
    "    def solve(self, cost,N):\n",
    "        if N == 0:\n",
    "            return cost[0]\n",
    "            \n",
    "        if N == 1:\n",
    "            return cost[1]\n",
    "            \n",
    "        if self.table[N] != -1:\n",
    "            return self.table[N]\n",
    "        \n",
    "        x = self.solve(cost, N-1)\n",
    "        y = self.solve(cost, N-2)\n",
    "        \n",
    "        self.table[N] = min(x,y) + cost[N]\n",
    "        return self.table[N]\n",
    "    \n",
    "    \n",
    "    def minCostClimbingStairs(self, cost, N):\n",
    "        self.table = [-1 for i in range(N+1)]\n",
    "        x = self.solve(cost, N-1)\n",
    "        y = self.solve(cost, N-2)\n",
    "        return min(x,y)\n",
    "    \n",
    "# Time comp:O(N)\n",
    "# Space comp:O(N)   (recursion stack:O(N) + DP table:O(N))"
   ]
  },
  {
   "cell_type": "code",
   "execution_count": null,
   "id": "edf8fdfc",
   "metadata": {},
   "outputs": [],
   "source": [
    "# DP: Bottom up approach\n",
    "\n",
    "class Solution:\n",
    "    def __init__(self):\n",
    "        self.table = []\n",
    "    \n",
    "    def solve(self, cost,N):\n",
    "        if N == 0 or N == 1:\n",
    "            return self.table[N]\n",
    "            \n",
    "        if self.table[N] != -1:\n",
    "            return self.table[N]\n",
    "            \n",
    "        for i in range(2,N):\n",
    "            self.table[i] = min(self.table[i-1],self.table[i-2]) + cost[i]\n",
    "        \n",
    "        return min(self.table[N-1],self.table[N-2])\n",
    "    \n",
    "    \n",
    "    def minCostClimbingStairs(self, cost, N):\n",
    "        self.table = [-1 for i in range(N+1)]\n",
    "        self.table[0] = cost[0]\n",
    "        self.table[1] = cost[1]\n",
    "        return self.solve(cost,N)\n",
    "    \n",
    "# Time comp:O(N)\n",
    "# Space comp:O(N)   (DP table:O(N))"
   ]
  },
  {
   "cell_type": "code",
   "execution_count": 25,
   "id": "0cef2593",
   "metadata": {},
   "outputs": [],
   "source": [
    "# Space optimization\n",
    "\n",
    "class Solution:\n",
    "    def solve(self, cost,N,second_last,last):\n",
    "        if N == 0:\n",
    "            return second_last\n",
    "        \n",
    "        if N == 1:\n",
    "            return last\n",
    "            \n",
    "        for i in range(2,N):\n",
    "            temp = last\n",
    "            last = min(last,second_last) + cost[i]\n",
    "            second_last = temp\n",
    "        \n",
    "        return min(last,second_last)\n",
    "    \n",
    "    \n",
    "    def minCostClimbingStairs(self, cost, N):\n",
    "        self.table = [-1 for i in range(N+1)]\n",
    "        second_last = cost[0]\n",
    "        last = cost[1]\n",
    "        return self.solve(cost,N,second_last,last)\n",
    "    \n",
    "# Time comp:O(N)\n",
    "# Space comp:O(1)"
   ]
  },
  {
   "cell_type": "code",
   "execution_count": 26,
   "id": "e52eea51",
   "metadata": {},
   "outputs": [
    {
     "name": "stdout",
     "output_type": "stream",
     "text": [
      "6\n"
     ]
    }
   ],
   "source": [
    "s = Solution()\n",
    "print(s.minCostClimbingStairs([1, 100, 1, 1, 1, 100, 1, 1, 100, 1],10))"
   ]
  },
  {
   "cell_type": "code",
   "execution_count": null,
   "id": "51eaa90c",
   "metadata": {},
   "outputs": [],
   "source": []
  },
  {
   "cell_type": "markdown",
   "id": "7e511979",
   "metadata": {},
   "source": [
    "### 470. Number of Coins"
   ]
  },
  {
   "cell_type": "raw",
   "id": "add4bd65",
   "metadata": {},
   "source": [
    "Given a value V and array coins[] of size M, the task is to make the change for V cents, given that you have an infinite supply of each of coins{coins1, coins2, ..., coinsm} valued coins. Find the minimum number of coins to make the change. If not possible to make change then return -1.\n",
    "\n",
    "Input: V = 30, M = 3, coins[] = {25, 10, 5}\n",
    "Output: 2\n",
    "Explanation: Use one 25 cent coin\n",
    "and one 5 cent coin"
   ]
  },
  {
   "cell_type": "raw",
   "id": "7ee6e5c6",
   "metadata": {},
   "source": [
    "https://www.youtube.com/watch?v=A3FHNCAkhxE\n",
    "\n",
    "recursive function:\n",
    "    \n",
    "If V == 0: then return 0\n",
    "\n",
    "f(V) = min(1 + f(V - coins[i]))\n",
    "where i from coins[0] to coins[n]"
   ]
  },
  {
   "cell_type": "code",
   "execution_count": 27,
   "id": "7c821571",
   "metadata": {},
   "outputs": [],
   "source": [
    "# Recursive solution\n",
    "\n",
    "class Solution:\n",
    "    def getCoins(self,coins,V):\n",
    "        if V == 0:\n",
    "            return 0\n",
    "            \n",
    "        if V < 0:\n",
    "            return -1\n",
    "            \n",
    "        mini = float('inf')\n",
    "        for i in range(len(coins)):\n",
    "            ans = self.getCoins(coins,V-coins[i])\n",
    "            if ans != -1:\n",
    "                mini = min(mini, 1+ans)\n",
    "        \n",
    "        return mini\n",
    "    \n",
    "    def minCoins(self, coins, M, V):\n",
    "        ans = self.getCoins(coins,V)\n",
    "        if ans == float('inf'):\n",
    "            return -1\n",
    "        else:\n",
    "            return ans\n",
    "        \n",
    "# Time comp:O(V^M)\n",
    "# Space comp:O(M)   (Due to recursion stack)"
   ]
  },
  {
   "cell_type": "code",
   "execution_count": 28,
   "id": "b0b1977b",
   "metadata": {},
   "outputs": [
    {
     "name": "stdout",
     "output_type": "stream",
     "text": [
      "2\n"
     ]
    }
   ],
   "source": [
    "s = Solution()\n",
    "print(s.minCoins([25, 10, 5],3,30))"
   ]
  },
  {
   "cell_type": "code",
   "execution_count": 33,
   "id": "479636f9",
   "metadata": {},
   "outputs": [],
   "source": [
    "# DP: Top Down approach\n",
    "\n",
    "class Solution:\n",
    "    def __init__(self):\n",
    "        self.table = []\n",
    "    \n",
    "    def getCoins(self,coins,V):\n",
    "        if V == 0:\n",
    "            return 0\n",
    "            \n",
    "        if V < 0:\n",
    "            return -1\n",
    "        \n",
    "        if self.table[V] != -1:\n",
    "            return self.table[V]\n",
    "        \n",
    "        mini = float('inf')\n",
    "        for i in range(len(coins)):\n",
    "            ans = self.getCoins(coins,V-coins[i])\n",
    "            if ans != -1:\n",
    "                mini = min(mini, 1+ans)\n",
    "        \n",
    "        self.table[V] = mini\n",
    "        return self.table[V]\n",
    "    \n",
    "    def minCoins(self, coins, M, V):\n",
    "        self.table = [-1 for i in range(V+1)]\n",
    "        ans = self.getCoins(coins,V)\n",
    "        if ans == float('inf'):\n",
    "            return -1\n",
    "        else:\n",
    "            return ans\n",
    "        \n",
    "# Time comp:O(V*M)\n",
    "# Space comp:O(V)   (Due to DP table)"
   ]
  },
  {
   "cell_type": "code",
   "execution_count": 34,
   "id": "3f58c929",
   "metadata": {},
   "outputs": [
    {
     "name": "stdout",
     "output_type": "stream",
     "text": [
      "2\n"
     ]
    }
   ],
   "source": [
    "s = Solution()\n",
    "print(s.minCoins([25, 10, 5],3,30))"
   ]
  },
  {
   "cell_type": "code",
   "execution_count": 35,
   "id": "b6f02641",
   "metadata": {},
   "outputs": [],
   "source": [
    "# DP: Bottom up approach\n",
    "\n",
    "class Solution:\n",
    "    def __init__(self):\n",
    "        self.table = []\n",
    "    \n",
    "    def getCoins(self,coins,V):\n",
    "        if V == 0:\n",
    "            return self.table[0]\n",
    "        \n",
    "        \n",
    "        for i in range(1,V+1):\n",
    "            for j in range(len(coins)):\n",
    "                if i-coins[j] >= 0 and self.table[i-coins[j]] != float('inf'):\n",
    "                    self.table[i] = min(self.table[i], 1+ self.table[i-coins[j]]) \n",
    "        \n",
    "        return self.table[V]\n",
    "    \n",
    "    def minCoins(self, coins, M, V):\n",
    "        self.table = [float('inf') for i in range(V+1)]\n",
    "        self.table[0] = 0\n",
    "        ans = self.getCoins(coins,V)\n",
    "        if ans == float('inf'):\n",
    "            return -1\n",
    "        else:\n",
    "            return ans\n",
    "        \n",
    "# Time comp:O(V*M)\n",
    "# Space comp:O(V)   (Due to DP table)"
   ]
  },
  {
   "cell_type": "code",
   "execution_count": 36,
   "id": "18090ce4",
   "metadata": {},
   "outputs": [
    {
     "name": "stdout",
     "output_type": "stream",
     "text": [
      "2\n"
     ]
    }
   ],
   "source": [
    "s = Solution()\n",
    "print(s.minCoins([25, 10, 5],3,30))"
   ]
  },
  {
   "cell_type": "raw",
   "id": "8e595ac0",
   "metadata": {},
   "source": [
    "Space optimize solution is not possible"
   ]
  },
  {
   "cell_type": "code",
   "execution_count": null,
   "id": "083f76fa",
   "metadata": {},
   "outputs": [],
   "source": []
  },
  {
   "cell_type": "markdown",
   "id": "6bdd10e3",
   "metadata": {},
   "source": [
    "### 472. Frog Jump"
   ]
  },
  {
   "cell_type": "raw",
   "id": "c3de0ac9",
   "metadata": {},
   "source": [
    "There is a frog on the 1st step of an N stairs long staircase. The frog wants to reach the Nth stair. HEIGHT[i] is the height of the (i+1)th stair.If Frog jumps from ith to jth stair, the energy lost in the jump is given by |HEIGHT[i-1] - HEIGHT[j-1] |.In the Frog is on ith staircase, he can jump either to (i+1)th stair or to (i+2)th stair. Your task is to find the minimum total energy used by the frog to reach from 1st stair to Nth stair.\n",
    "For Example\n",
    "If the given ‘HEIGHT’ array is [10,20,30,10], the answer 20 as the frog can jump from 1st stair to 2nd stair (|20-10| = 10 energy lost) and then a jump from 2nd stair to last stair (|10-20| = 10 energy lost). So, the total energy lost is 20."
   ]
  },
  {
   "cell_type": "raw",
   "id": "08760658",
   "metadata": {},
   "source": [
    "Link: https://www.youtube.com/watch?v=EgG3jsGoPvQ&list=PLgUwDviBIf0qUlt5H_kiKYaNSqJ81PMMY&index=4\n",
    "\n",
    "Greedy solution will not work here as step which looks good initially might not actually turns best solution."
   ]
  },
  {
   "cell_type": "code",
   "execution_count": 89,
   "id": "18eb0b15",
   "metadata": {},
   "outputs": [],
   "source": [
    "# Recursive solution\n",
    "\n",
    "def solve(n,arr):\n",
    "    if n == 0:\n",
    "        return 0\n",
    "    \n",
    "    first = solve(n-1,arr) + abs(arr[n] - arr[n-1])\n",
    "    \n",
    "    second = float('inf')\n",
    "    if n >= 2:\n",
    "        second = solve(n-2,arr) + abs(arr[n] - arr[n-2])\n",
    "    \n",
    "    return min(first,second)\n",
    "  \n",
    "def frogJump(n, heights):\n",
    "    return solve(n-1,heights)\n",
    "\n",
    "# Time comp:O(2^n)\n",
    "# Space comp:O(n)    (Due to recursion stack)"
   ]
  },
  {
   "cell_type": "code",
   "execution_count": 90,
   "id": "661d48d9",
   "metadata": {},
   "outputs": [
    {
     "name": "stdout",
     "output_type": "stream",
     "text": [
      "20\n"
     ]
    }
   ],
   "source": [
    "print(frogJump(4,[10,20,30,10]))"
   ]
  },
  {
   "cell_type": "code",
   "execution_count": 94,
   "id": "a6775f59",
   "metadata": {},
   "outputs": [],
   "source": [
    "# DP: Top down solution (Memoization)\n",
    "\n",
    "def solve2(n,arr,dp):\n",
    "    if n == 0:\n",
    "        return 0\n",
    "    \n",
    "    if dp[n] != -1:\n",
    "        return dp[n]\n",
    "    \n",
    "    first = solve2(n-1,arr,dp) + abs(arr[n] - arr[n-1])\n",
    "    second = float('inf')\n",
    "    if n >= 2:\n",
    "        second = solve2(n-2,arr,dp) + abs(arr[n] - arr[n-2])\n",
    "    \n",
    "    dp[n] = min(first,second)\n",
    "    return dp[n]\n",
    "  \n",
    "def frogJump2(n, heights):\n",
    "    dp = [-1 for i in range(n)]\n",
    "    return solve2(n-1,heights,dp)\n",
    "\n",
    "# Time comp:O(N)\n",
    "# Space comp:O(N)    (DP table O(N) + recursion stack:O(N))"
   ]
  },
  {
   "cell_type": "code",
   "execution_count": 95,
   "id": "2cb4d78c",
   "metadata": {},
   "outputs": [
    {
     "name": "stdout",
     "output_type": "stream",
     "text": [
      "20\n"
     ]
    }
   ],
   "source": [
    "print(frogJump2(4,[10,20,30,10]))"
   ]
  },
  {
   "cell_type": "code",
   "execution_count": 96,
   "id": "c3f03142",
   "metadata": {},
   "outputs": [],
   "source": [
    "# DP: Bottom up approach\n",
    "\n",
    "def solve3(n,arr,dp):\n",
    "    for i in range(1,n+1):\n",
    "        first = dp[i-1] + abs(arr[i] - arr[i-1])\n",
    "        second = float('inf')\n",
    "        if i > 1:\n",
    "            second = dp[i-2] + abs(arr[i] - arr[i-2])\n",
    "        dp[i] = min(first,second)\n",
    "    return dp[n]\n",
    "        \n",
    "def frogJump3(n, heights):\n",
    "    if n == 1:\n",
    "        return 0\n",
    "    dp = [0 for i in range(n+1)]\n",
    "    dp[0] = 0\n",
    "    return solve3(n-1,heights,dp)\n",
    "\n",
    "# Time comp:O(N)\n",
    "# Space comp:O(N)    (Due DP table)"
   ]
  },
  {
   "cell_type": "code",
   "execution_count": 97,
   "id": "4fb05aeb",
   "metadata": {},
   "outputs": [
    {
     "name": "stdout",
     "output_type": "stream",
     "text": [
      "20\n"
     ]
    }
   ],
   "source": [
    "print(frogJump3(4,[10,20,30,10]))"
   ]
  },
  {
   "cell_type": "code",
   "execution_count": 99,
   "id": "610dd3d0",
   "metadata": {},
   "outputs": [],
   "source": [
    "# Space optimized approach\n",
    "\n",
    "def solve4(n,arr,last,second_last):\n",
    "    for i in range(1,n+1):\n",
    "        first = last + abs(arr[i] - arr[i-1])\n",
    "        second = float('inf')\n",
    "        if i > 1:\n",
    "            second = second_last + abs(arr[i] - arr[i-2])\n",
    "        \n",
    "        second_last = last\n",
    "        last = min(first,second)\n",
    "        \n",
    "    return last\n",
    "        \n",
    "def frogJump4(n, heights):\n",
    "    if n == 1:\n",
    "        return 0\n",
    "    last = 0\n",
    "    second_last = 0\n",
    "    return solve4(n-1,heights,last,second_last)\n",
    "\n",
    "\n",
    "# Time comp:O(N)\n",
    "# Space comp:O(1)"
   ]
  },
  {
   "cell_type": "code",
   "execution_count": 100,
   "id": "ceff280f",
   "metadata": {},
   "outputs": [
    {
     "name": "stdout",
     "output_type": "stream",
     "text": [
      "20\n"
     ]
    }
   ],
   "source": [
    "print(frogJump4(4,[10,20,30,10]))"
   ]
  },
  {
   "cell_type": "raw",
   "id": "813ec4fe",
   "metadata": {},
   "source": [
    "Follow up que:\n",
    "\n",
    "Instead of just two jumps, if forg allowed to take k jumps then who this que will be solved?\n",
    "\n",
    "about top down apptoach:\n",
    "After base case, we need to run for loop for k times and keep track of min of all and store it into dp table.\n",
    "\n",
    "Time comp of recursion: O(k^n)\n",
    "Time comp of memoization/tabulation: O(n*k)\n",
    "\n",
    "Space optimized approach will not possible here, at min O(k) space will required\n",
    "Also in space optimized appraoch time comp: O(n*(k+K))\n",
    "(But its not ideal, because if k = N then space optimized solution will be of no use)"
   ]
  },
  {
   "cell_type": "code",
   "execution_count": null,
   "id": "018b4b4c",
   "metadata": {},
   "outputs": [],
   "source": []
  }
 ],
 "metadata": {
  "kernelspec": {
   "display_name": "Python 3",
   "language": "python",
   "name": "python3"
  },
  "language_info": {
   "codemirror_mode": {
    "name": "ipython",
    "version": 3
   },
   "file_extension": ".py",
   "mimetype": "text/x-python",
   "name": "python",
   "nbconvert_exporter": "python",
   "pygments_lexer": "ipython3",
   "version": "3.6.5"
  }
 },
 "nbformat": 4,
 "nbformat_minor": 5
}
