{
 "cells": [
  {
   "cell_type": "code",
   "execution_count": 1,
   "id": "74db3227",
   "metadata": {},
   "outputs": [],
   "source": [
    "import logging\n",
    "import signal\n",
    "import requests\n",
    "import sys\n",
    "import time"
   ]
  },
  {
   "cell_type": "code",
   "execution_count": 2,
   "id": "d5530561",
   "metadata": {},
   "outputs": [
    {
     "name": "stdout",
     "output_type": "stream",
     "text": [
      "Collecting aiogram\n",
      "  Downloading aiogram-2.21-py3-none-any.whl (195 kB)\n",
      "\u001b[K     |████████████████████████████████| 195 kB 2.2 MB/s eta 0:00:01\n",
      "\u001b[?25hRequirement already satisfied: certifi>=2021.10.8 in /home/soham/anaconda3/envs/my_env/lib/python3.10/site-packages (from aiogram) (2022.5.18.1)\n",
      "Collecting Babel<2.10.0,>=2.9.1\n",
      "  Downloading Babel-2.9.1-py2.py3-none-any.whl (8.8 MB)\n",
      "\u001b[K     |████████████████████████████████| 8.8 MB 1.1 MB/s eta 0:00:01     |█████████████████████████▊      | 7.1 MB 1.1 MB/s eta 0:00:02\n",
      "\u001b[?25hCollecting aiohttp<3.9.0,>=3.8.0\n",
      "  Downloading aiohttp-3.8.1-cp310-cp310-manylinux_2_5_x86_64.manylinux1_x86_64.manylinux_2_12_x86_64.manylinux2010_x86_64.whl (1.2 MB)\n",
      "\u001b[K     |████████████████████████████████| 1.2 MB 5.0 MB/s eta 0:00:01\n",
      "\u001b[?25hRequirement already satisfied: charset-normalizer<3.0,>=2.0 in /home/soham/anaconda3/envs/my_env/lib/python3.10/site-packages (from aiohttp<3.9.0,>=3.8.0->aiogram) (2.1.0)\n",
      "Collecting multidict<7.0,>=4.5\n",
      "  Downloading multidict-6.0.2-cp310-cp310-manylinux_2_17_x86_64.manylinux2014_x86_64.whl (114 kB)\n",
      "\u001b[K     |████████████████████████████████| 114 kB 4.9 MB/s eta 0:00:01\n",
      "\u001b[?25hCollecting yarl<2.0,>=1.0\n",
      "  Downloading yarl-1.8.1-cp310-cp310-manylinux_2_17_x86_64.manylinux2014_x86_64.whl (263 kB)\n",
      "\u001b[K     |████████████████████████████████| 263 kB 5.6 MB/s eta 0:00:01\n",
      "\u001b[?25hCollecting aiosignal>=1.1.2\n",
      "  Downloading aiosignal-1.2.0-py3-none-any.whl (8.2 kB)\n",
      "Collecting frozenlist>=1.1.1\n",
      "  Downloading frozenlist-1.3.1-cp310-cp310-manylinux_2_5_x86_64.manylinux1_x86_64.manylinux_2_17_x86_64.manylinux2014_x86_64.whl (149 kB)\n",
      "\u001b[K     |████████████████████████████████| 149 kB 6.0 MB/s eta 0:00:01\n",
      "\u001b[?25hCollecting attrs>=17.3.0\n",
      "  Downloading attrs-22.1.0-py2.py3-none-any.whl (58 kB)\n",
      "\u001b[K     |████████████████████████████████| 58 kB 770 kB/s eta 0:00:01\n",
      "\u001b[?25hCollecting async-timeout<5.0,>=4.0.0a3\n",
      "  Downloading async_timeout-4.0.2-py3-none-any.whl (5.8 kB)\n",
      "Collecting pytz>=2015.7\n",
      "  Downloading pytz-2022.1-py2.py3-none-any.whl (503 kB)\n",
      "\u001b[K     |████████████████████████████████| 503 kB 4.5 MB/s eta 0:00:01\n",
      "\u001b[?25hRequirement already satisfied: idna>=2.0 in /home/soham/anaconda3/envs/my_env/lib/python3.10/site-packages (from yarl<2.0,>=1.0->aiohttp<3.9.0,>=3.8.0->aiogram) (3.3)\n",
      "Installing collected packages: multidict, frozenlist, yarl, pytz, attrs, async-timeout, aiosignal, Babel, aiohttp, aiogram\n",
      "Successfully installed Babel-2.9.1 aiogram-2.21 aiohttp-3.8.1 aiosignal-1.2.0 async-timeout-4.0.2 attrs-22.1.0 frozenlist-1.3.1 multidict-6.0.2 pytz-2022.1 yarl-1.8.1\n"
     ]
    }
   ],
   "source": [
    "!pip install aiogram"
   ]
  },
  {
   "cell_type": "code",
   "execution_count": 3,
   "id": "dfae532b",
   "metadata": {},
   "outputs": [
    {
     "ename": "ModuleNotFoundError",
     "evalue": "No module named 'aiogram'",
     "output_type": "error",
     "traceback": [
      "\u001b[0;31m---------------------------------------------------------------------------\u001b[0m",
      "\u001b[0;31mModuleNotFoundError\u001b[0m                       Traceback (most recent call last)",
      "\u001b[0;32m<ipython-input-3-d861d3e7ed20>\u001b[0m in \u001b[0;36m<module>\u001b[0;34m\u001b[0m\n\u001b[0;32m----> 1\u001b[0;31m \u001b[0;32mfrom\u001b[0m \u001b[0maiogram\u001b[0m \u001b[0;32mimport\u001b[0m \u001b[0mBot\u001b[0m\u001b[0;34m,\u001b[0m \u001b[0mDispatcher\u001b[0m\u001b[0;34m,\u001b[0m \u001b[0mexecutor\u001b[0m\u001b[0;34m,\u001b[0m \u001b[0mtypes\u001b[0m\u001b[0;34m\u001b[0m\u001b[0m\n\u001b[0m",
      "\u001b[0;31mModuleNotFoundError\u001b[0m: No module named 'aiogram'"
     ]
    }
   ],
   "source": [
    "from aiogram import Bot, Dispatcher, executor, types"
   ]
  },
  {
   "cell_type": "code",
   "execution_count": null,
   "id": "573288d4",
   "metadata": {},
   "outputs": [],
   "source": []
  }
 ],
 "metadata": {
  "kernelspec": {
   "display_name": "Python 3",
   "language": "python",
   "name": "python3"
  },
  "language_info": {
   "codemirror_mode": {
    "name": "ipython",
    "version": 3
   },
   "file_extension": ".py",
   "mimetype": "text/x-python",
   "name": "python",
   "nbconvert_exporter": "python",
   "pygments_lexer": "ipython3",
   "version": "3.6.5"
  }
 },
 "nbformat": 4,
 "nbformat_minor": 5
}
