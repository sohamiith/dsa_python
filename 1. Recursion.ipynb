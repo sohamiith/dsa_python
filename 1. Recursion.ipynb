{
 "cells": [
  {
   "cell_type": "raw",
   "id": "46f16d63",
   "metadata": {},
   "source": [
    "Function calling it self.\n",
    "Base condition is required to stop infinite loop.\n",
    "It help to break big program in smaller one.\n",
    "Should be able to break prob into Sub problem.\n",
    "Stack memory is used to save recursive call.\n",
    "Any Prob which can be solved using recursion can be solved using interative method as well.\n",
    "\n",
    "Cons: It take more space and computing power comapre to interative solution some times. so time and space comp is more in recursive method.\n",
    "Pros: Easy to read and reusability of the code.\n",
    "\n",
    "When to use:\n",
    "> When prob can be divided into sub prob.\n",
    "> when time and space comp is not big issue\n",
    "> when we are looking for quick solution\n",
    "> when we are traversing a tree\n",
    "> in case of dynamic prog"
   ]
  },
  {
   "cell_type": "code",
   "execution_count": 1,
   "id": "c5999584",
   "metadata": {},
   "outputs": [
    {
     "data": {
      "text/plain": [
       "False"
      ]
     },
     "execution_count": 1,
     "metadata": {},
     "output_type": "execute_result"
    }
   ],
   "source": [
    "all([1,0,2.5])"
   ]
  },
  {
   "cell_type": "code",
   "execution_count": 2,
   "id": "8fb9c45a",
   "metadata": {},
   "outputs": [
    {
     "data": {
      "text/plain": [
       "{'a': 1, 'b': 10}"
      ]
     },
     "execution_count": 2,
     "metadata": {},
     "output_type": "execute_result"
    }
   ],
   "source": [
    "a = {'a':1,'b':10}\n",
    "a"
   ]
  },
  {
   "cell_type": "code",
   "execution_count": 3,
   "id": "1b11d181",
   "metadata": {},
   "outputs": [
    {
     "name": "stdout",
     "output_type": "stream",
     "text": [
      "0\n",
      "1\n",
      "2\n",
      "hello\n"
     ]
    }
   ],
   "source": [
    "for i in range(3):\n",
    "    print(i)\n",
    "else:\n",
    "    print(\"hello\")"
   ]
  },
  {
   "cell_type": "code",
   "execution_count": 4,
   "id": "0022f110",
   "metadata": {},
   "outputs": [
    {
     "name": "stdout",
     "output_type": "stream",
     "text": [
      "5\n"
     ]
    }
   ],
   "source": [
    "temp = \"hello\"\n",
    "print(len(temp))"
   ]
  },
  {
   "cell_type": "code",
   "execution_count": null,
   "id": "cb0ec109",
   "metadata": {},
   "outputs": [],
   "source": [
    "import sys\n",
    "sys.setrecursionlimit(1000)  # to set max recursion limit"
   ]
  },
  {
   "cell_type": "code",
   "execution_count": null,
   "id": "758b6ff9",
   "metadata": {},
   "outputs": [],
   "source": [
    "# 1. find power of two using recursion\n",
    "\n",
    "def powOfTwo(n):\n",
    "    if n==0:          # Keep breaking condition in mind and what we return in that case.\n",
    "        return 1\n",
    "    else:\n",
    "        power = powOfTwo(n-1)\n",
    "        return power * 2\n",
    "    \n",
    "print(powOfTwo(3))"
   ]
  },
  {
   "cell_type": "code",
   "execution_count": 27,
   "id": "1dadcc25",
   "metadata": {},
   "outputs": [
    {
     "name": "stdout",
     "output_type": "stream",
     "text": [
      "24\n"
     ]
    }
   ],
   "source": [
    "# 2. Find factorial\n",
    "\n",
    "def findFactorial(n):\n",
    "    if n < 0 or n!= int(n):   # take care of unwanted input values as well, here negative and float number are unwanted\n",
    "        return \"Not possible\"\n",
    "    elif n in [0,1]:          # keep this is mind for optimize code. It will reduce one recursive call for n=1\n",
    "        return 1\n",
    "    else:\n",
    "        return n * findFactorial(n-1)\n",
    "    \n",
    "print(findFactorial(4))\n",
    "\n",
    "\n",
    "\"\"\" \n",
    "first if can we writen as:\n",
    "\n",
    "assert n\n",
    "\n",
    "\"\"\""
   ]
  },
  {
   "cell_type": "code",
   "execution_count": 64,
   "id": "1e008814",
   "metadata": {},
   "outputs": [
    {
     "data": {
      "text/plain": [
       "9227465"
      ]
     },
     "execution_count": 64,
     "metadata": {},
     "output_type": "execute_result"
    }
   ],
   "source": [
    "# 3. Fibnacci number\n",
    "\n",
    "def fibonacci(n):\n",
    "    if n<0 or n!= int(n):\n",
    "        return \"Not possible\"\n",
    "    elif n in [0,1]:\n",
    "        return n\n",
    "    else:\n",
    "        return fibonacci(n-1) + fibonacci(n-2)\n",
    "\n",
    "fibonacci(35)"
   ]
  },
  {
   "cell_type": "code",
   "execution_count": 40,
   "id": "cef5b052",
   "metadata": {},
   "outputs": [
    {
     "data": {
      "text/plain": [
       "6"
      ]
     },
     "execution_count": 40,
     "metadata": {},
     "output_type": "execute_result"
    }
   ],
   "source": [
    "# 4. Sum of digits\n",
    "\n",
    "def sumOfDigits(n):\n",
    "    if int(n/10) == 0:\n",
    "        return n\n",
    "    else:\n",
    "        return n%10 + sumOfDigits(int(n/10))\n",
    "\n",
    "sumOfDigits(123)"
   ]
  },
  {
   "cell_type": "code",
   "execution_count": 47,
   "id": "d5a3774a",
   "metadata": {},
   "outputs": [
    {
     "data": {
      "text/plain": [
       "'not possible'"
      ]
     },
     "execution_count": 47,
     "metadata": {},
     "output_type": "execute_result"
    }
   ],
   "source": [
    "# 5. find power of the number\n",
    "\n",
    "def findPow(base,exp):\n",
    "    if exp < 0 or int(exp)!=exp:\n",
    "        return \"not possible\"\n",
    "    elif exp == 1:\n",
    "        return base\n",
    "    elif exp == 0:\n",
    "        return 1\n",
    "    return base * findPow(base,exp-1)\n",
    "\n",
    "findPow(2,3)"
   ]
  },
  {
   "cell_type": "code",
   "execution_count": 50,
   "id": "72d574b8",
   "metadata": {},
   "outputs": [
    {
     "data": {
      "text/plain": [
       "4"
      ]
     },
     "execution_count": 50,
     "metadata": {},
     "output_type": "execute_result"
    }
   ],
   "source": [
    "# 6. Find GCD of two numbers\n",
    "\n",
    "def findGCD(a,b):\n",
    "    if a<0:          # conver negative numbers to possitive because both have same gcd\n",
    "        a = a*-1\n",
    "    if b<0:\n",
    "        b = b*-1    \n",
    "    if a<b:        \n",
    "        a,b=b,a     # Program made by assuming a is greater than b\n",
    "    \n",
    "    if a != int(a) or b != int(b):\n",
    "        return \"Not possible\"\n",
    "    elif b == 0:\n",
    "        return 0\n",
    "    elif a%b == 0:\n",
    "        return b\n",
    "    else:\n",
    "        return findGCD(b, a % b)\n",
    "    \n",
    "findGCD(12,16)"
   ]
  },
  {
   "cell_type": "code",
   "execution_count": 55,
   "id": "ea557a9c",
   "metadata": {},
   "outputs": [
    {
     "data": {
      "text/plain": [
       "'Not possible'"
      ]
     },
     "execution_count": 55,
     "metadata": {},
     "output_type": "execute_result"
    }
   ],
   "source": [
    "# 7. convert decimal to binary\n",
    "\n",
    "def binary(n):\n",
    "    if n != int(n) or n < 0:\n",
    "        return \"Not possible\"\n",
    "    elif n in [0,1]:\n",
    "        return n\n",
    "    return str(binary(n//2))+str(n%2)\n",
    "\n",
    "binary(-13)"
   ]
  },
  {
   "cell_type": "code",
   "execution_count": 56,
   "id": "d7ba2ea1",
   "metadata": {},
   "outputs": [
    {
     "data": {
      "text/plain": [
       "120"
      ]
     },
     "execution_count": 56,
     "metadata": {},
     "output_type": "execute_result"
    }
   ],
   "source": [
    "# 8. Find factorial\n",
    "\n",
    "def factorial(num):\n",
    "    if num < 0:\n",
    "        return \"Not possible\"\n",
    "    elif num == 0:\n",
    "        return 1\n",
    "    else:\n",
    "        return num * factorial(num-1)\n",
    "    \n",
    "factorial(5)"
   ]
  },
  {
   "cell_type": "code",
   "execution_count": 58,
   "id": "916365d6",
   "metadata": {},
   "outputs": [
    {
     "data": {
      "text/plain": [
       "60"
      ]
     },
     "execution_count": 58,
     "metadata": {},
     "output_type": "execute_result"
    }
   ],
   "source": [
    "# 9. return the product of all the elements in array\n",
    "\n",
    "def productOfArray(arr):\n",
    "    if len(arr) < 1:\n",
    "        return 0\n",
    "    elif len(arr) == 1:\n",
    "        return arr[0]\n",
    "    else:\n",
    "        return arr[0] * productOfArray(arr[1:])\n",
    "    \n",
    "productOfArray([1,2,3,10])"
   ]
  },
  {
   "cell_type": "code",
   "execution_count": 60,
   "id": "461a387b",
   "metadata": {},
   "outputs": [
    {
     "data": {
      "text/plain": [
       "21"
      ]
     },
     "execution_count": 60,
     "metadata": {},
     "output_type": "execute_result"
    }
   ],
   "source": [
    "# 10. Add sum to all the number from 0 to that number\n",
    "\n",
    "def recursiveRange(num):\n",
    "    if num < 0:\n",
    "        return \"not possible\"\n",
    "    elif num in [0,1]:\n",
    "        return num\n",
    "    else:\n",
    "        return num + recursiveRange(num -1)\n",
    "    \n",
    "recursiveRange(6)"
   ]
  },
  {
   "cell_type": "code",
   "execution_count": null,
   "id": "c8693530",
   "metadata": {},
   "outputs": [],
   "source": []
  }
 ],
 "metadata": {
  "kernelspec": {
   "display_name": "Python 3",
   "language": "python",
   "name": "python3"
  },
  "language_info": {
   "codemirror_mode": {
    "name": "ipython",
    "version": 3
   },
   "file_extension": ".py",
   "mimetype": "text/x-python",
   "name": "python",
   "nbconvert_exporter": "python",
   "pygments_lexer": "ipython3",
   "version": "3.9.12"
  }
 },
 "nbformat": 4,
 "nbformat_minor": 5
}
