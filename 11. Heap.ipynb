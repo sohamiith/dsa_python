{
 "cells": [
  {
   "cell_type": "raw",
   "id": "3f580466",
   "metadata": {},
   "source": [
    "A Heap is a special Tree-based data structure in which the tree is a complete binary tree.\n",
    "\n",
    "It’s a complete tree (All levels are completely filled except possibly the last level and the last level has all keys as left as possible)\n",
    "\n",
    " Heaps can be of two types:\n",
    "\n",
    "1. Max-Heap: In a Max-Heap the key present at the root node must be greatest among the keys present at all of it’s    children. The same property must be recursively true for all sub-trees in that Binary Tree.\n",
    "\n",
    "2. Min-Heap: In a Min-Heap the key present at the root node must be minimum among the keys present at all of it’s    children. The same property must be recursively true for all sub-trees in that Binary Tree.\n",
    "\n",
    "Applications:\n",
    "1. Heap sort\n",
    "2. Priority queue\n",
    "3. Graph algorithems (Dijkstra,prim's)\n",
    "4. merge K sorted array\n",
    "5. sort an almost stored array\n",
    "6. Kth largest element in array"
   ]
  }
 ],
 "metadata": {
  "kernelspec": {
   "display_name": "Python 3",
   "language": "python",
   "name": "python3"
  },
  "language_info": {
   "codemirror_mode": {
    "name": "ipython",
    "version": 3
   },
   "file_extension": ".py",
   "mimetype": "text/x-python",
   "name": "python",
   "nbconvert_exporter": "python",
   "pygments_lexer": "ipython3",
   "version": "3.6.5"
  }
 },
 "nbformat": 4,
 "nbformat_minor": 5
}
