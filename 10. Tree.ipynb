{
 "cells": [
  {
   "cell_type": "markdown",
   "id": "82444e81",
   "metadata": {},
   "source": [
    "### Tree"
   ]
  },
  {
   "cell_type": "raw",
   "id": "9d917b82",
   "metadata": {},
   "source": [
    "A tree is non-linear and a hierarchical data structure consisting of a collection of nodes such that each node of the tree stores a value, a list of references to child nodes without having any cycle.\n",
    "\n",
    "A tree consists of a root, and zero or more subtrees T1, T2, … , Tk such that there is an edge from the root of the tree to the root of each subtree.\n",
    "\n",
    "Since tree is non linear, it is taking less time compare to linear data structures.\n",
    "\n",
    "\n",
    "\n",
    "Basic Terminology In Tree Data Structure:\n",
    "\n",
    "Parent Node: The node which is a predecessor of a node.\n",
    "\n",
    "Child Node: The node which is the immediate successor of a node\n",
    "\n",
    "Root Node: The topmost node of a tree or the node which does not have any parent node is called the root node. A \n",
    "\n",
    "non-empty tree must contain exactly one root node and exactly one path from the root to all other nodes of the tree.\n",
    "\n",
    "Degree of a Node: The total count of subtrees attached to that node is called the degree of the node. The degree of a leaf node must be 0. The degree of a tree is the maximum degree of a node among all the nodes in the tree. \n",
    "\n",
    "Leaf Node or External Node: The nodes which do not have any child nodes are called leaf nodes.\n",
    "\n",
    "Ancestor of a Node: Any predecessor nodes on the path of the root to that node are called Ancestors of that node.\n",
    "\n",
    "Descendant: Any successor node on the path from the leaf node to that node.\n",
    "\n",
    "Sibling: Children of the same parent node are called siblings.\n",
    "\n",
    "Depth of a node: The count of edges from the root to the node.\n",
    "\n",
    "Height of a node: The number of edges on the longest path from that node to a leaf.\n",
    "\n",
    "Height of a tree: The height of a tree is the height of the root node.\n",
    "\n",
    "Level of a node: The count of edges on the path from the root node to that node. The root node has level 0.\n",
    "\n",
    "Internal node: A node with at least one child is called Internal Node. Even root node can be internal node.\n",
    "\n",
    "Neighbour of a Node: Parent or child nodes of that node are called neighbors of that node.\n",
    "\n",
    "Subtree: Any node of the tree along with its descendant."
   ]
  },
  {
   "cell_type": "code",
   "execution_count": 3,
   "id": "032d29e7",
   "metadata": {},
   "outputs": [
    {
     "name": "stdout",
     "output_type": "stream",
     "text": [
      "drinks\n",
      " hot\n",
      "  tea\n",
      "  coffee\n",
      " cold\n",
      "  cola\n",
      "  thumbs up\n",
      "\n"
     ]
    }
   ],
   "source": [
    "class Tree:\n",
    "    def __init__(self, data, children=[]):\n",
    "        self.data = data\n",
    "        self.children = children\n",
    "        \n",
    "    def __str__(self,level=0):\n",
    "        ret = \" \" * level + str(self.data) + \"\\n\"\n",
    "        for child in self.children:\n",
    "            ret += child.__str__(level+1)\n",
    "        return ret\n",
    "        \n",
    "    def addChild(self,tree):\n",
    "        self.children.append(tree)\n",
    "        \n",
    "drinks = Tree(\"drinks\", [])  # Root node\n",
    "hot = Tree(\"hot\", [])        # Level 1\n",
    "cold = Tree(\"cold\", [])      # Level 1\n",
    "drinks.addChild(hot)         # Add it to root node\n",
    "drinks.addChild(cold)        # Add it to root node\n",
    "t = Tree(\"tea\", [])          # Level 2 \n",
    "c = Tree(\"coffee\", [])       # Level 2\n",
    "cc = Tree(\"cola\", [])        # Level 2\n",
    "th = Tree(\"thumbs up\", [])   # Level 2\n",
    "hot.addChild(t)              # Add it to hot\n",
    "hot.addChild(c)              # Add it to hot   \n",
    "cold.addChild(cc)            # Add it to cold\n",
    "cold.addChild(th)            # Add it to cold\n",
    "print(drinks)"
   ]
  },
  {
   "cell_type": "markdown",
   "id": "feb3c95e",
   "metadata": {},
   "source": [
    "### Binary Tree"
   ]
  },
  {
   "cell_type": "raw",
   "id": "5cdc5461",
   "metadata": {},
   "source": [
    "It is kind of tree where each node can have max of 2 children.\n",
    "BST, AVL tree all are type of binary tree.\n",
    "\n",
    "Types: \n",
    "\n",
    "Full binary tree: If each node having either 0 or 2 children\n",
    "\n",
    "Complete Binary Tree: A complete binary tree is just like a full binary tree, but with two major differences:\n",
    "\n",
    "Every level must be completely filled\n",
    "All the leaf elements must lean towards the left.\n",
    "The last leaf element might not have a right sibling i.e. a complete binary tree doesn’t have to be a full binary tree.\n",
    "\n",
    "Perfect Binary Tree:\n",
    "A Binary tree is a Perfect Binary Tree in which all the internal nodes have two children and all leaf nodes are at the same level. \n",
    "\n",
    "Balanced Binary Tree: A binary tree is balanced if the height of the tree is O(Log n) where n is the number of nodes. It is a type of binary tree in which the difference between the height of the left and the right subtree for each node is either 0 or 1.\n",
    "\n",
    "A degenerate (or pathological) tree: A Tree where every internal node has one child. Such trees are performance-wise same as linked list. \n",
    "\n",
    "Skewed Binary Tre: A skewed binary tree is a pathological/degenerate tree in which the tree is either dominated by the left nodes or the right nodes. Thus, there are two types of skewed binary tree: left-skewed binary tree and right-skewed binary tree."
   ]
  },
  {
   "cell_type": "raw",
   "id": "fe79164a",
   "metadata": {},
   "source": [
    "Binary tree can be stored using list/array or LL.\n",
    "\n",
    "Store binary tree using list:\n",
    "\n",
    "left child at (2 * root) location\n",
    "right child at (2 * root + 1) location"
   ]
  },
  {
   "cell_type": "raw",
   "id": "da6e4e1a",
   "metadata": {},
   "source": [
    "Traversal:\n",
    "1. in-order\n",
    "2. pre-order\n",
    "3. post-order"
   ]
  },
  {
   "cell_type": "raw",
   "id": "76edcb37",
   "metadata": {},
   "source": [
    "Pre-order:\n",
    "    \n",
    "root node -> left subtree -> right subtree\n",
    "\n",
    "(Right most node will be visited at the last everytime)"
   ]
  },
  {
   "cell_type": "code",
   "execution_count": 8,
   "id": "2f8cc425",
   "metadata": {},
   "outputs": [
    {
     "ename": "TypeError",
     "evalue": "object() takes no parameters",
     "output_type": "error",
     "traceback": [
      "\u001b[0;31m---------------------------------------------------------------------------\u001b[0m",
      "\u001b[0;31mTypeError\u001b[0m                                 Traceback (most recent call last)",
      "\u001b[0;32m<ipython-input-8-0220844ef918>\u001b[0m in \u001b[0;36m<module>\u001b[0;34m\u001b[0m\n\u001b[1;32m      5\u001b[0m         \u001b[0mself\u001b[0m\u001b[0;34m.\u001b[0m\u001b[0mleft\u001b[0m \u001b[0;34m=\u001b[0m \u001b[0;32mNone\u001b[0m\u001b[0;34m\u001b[0m\u001b[0m\n\u001b[1;32m      6\u001b[0m \u001b[0;34m\u001b[0m\u001b[0m\n\u001b[0;32m----> 7\u001b[0;31m \u001b[0mroot\u001b[0m \u001b[0;34m=\u001b[0m \u001b[0mTreeLL\u001b[0m\u001b[0;34m(\u001b[0m\u001b[0;36m1\u001b[0m\u001b[0;34m)\u001b[0m\u001b[0;34m\u001b[0m\u001b[0m\n\u001b[0m\u001b[1;32m      8\u001b[0m \u001b[0ml1\u001b[0m \u001b[0;34m=\u001b[0m \u001b[0mTreeLL\u001b[0m\u001b[0;34m(\u001b[0m\u001b[0;36m2\u001b[0m\u001b[0;34m)\u001b[0m\u001b[0;34m\u001b[0m\u001b[0m\n\u001b[1;32m      9\u001b[0m \u001b[0mr1\u001b[0m \u001b[0;34m=\u001b[0m \u001b[0mTreeLL\u001b[0m\u001b[0;34m(\u001b[0m\u001b[0;36m3\u001b[0m\u001b[0;34m)\u001b[0m\u001b[0;34m\u001b[0m\u001b[0m\n",
      "\u001b[0;31mTypeError\u001b[0m: object() takes no parameters"
     ]
    }
   ],
   "source": [
    "class TreeLL:\n",
    "    def _init__(self, data):\n",
    "        self.data = data\n",
    "        self.right = None\n",
    "        self.left = None\n",
    "        \n",
    "root = TreeLL(1)\n",
    "l1 = TreeLL(2)\n",
    "r1 = TreeLL(3)\n",
    "l2 = treeLL(4)\n",
    "l3 = treeLL(5)\n",
    "r2 = treeLL(6)\n",
    "root.left = l1\n",
    "root.right = r2\n",
    "l1.left = l2\n",
    "l1.right = l3\n",
    "r1.left = r2\n",
    "\n"
   ]
  },
  {
   "cell_type": "code",
   "execution_count": null,
   "id": "ea4f6456",
   "metadata": {},
   "outputs": [],
   "source": []
  },
  {
   "cell_type": "code",
   "execution_count": null,
   "id": "42587b12",
   "metadata": {},
   "outputs": [],
   "source": []
  },
  {
   "cell_type": "code",
   "execution_count": null,
   "id": "ba84e3a9",
   "metadata": {},
   "outputs": [],
   "source": []
  },
  {
   "cell_type": "markdown",
   "id": "d9aded9e",
   "metadata": {},
   "source": [
    "### Binary search tree:\n"
   ]
  },
  {
   "cell_type": "raw",
   "id": "ca94de15",
   "metadata": {},
   "source": [
    "Binary Search Tree is a node-based binary tree data structure which has the following properties:\n",
    "\n",
    "1. The left subtree of a node contains only nodes with keys lesser than the node’s key.\n",
    "2. The right subtree of a node contains only nodes with keys greater than the node’s key.\n",
    "3. The left and right subtree each must also be a binary search tree."
   ]
  },
  {
   "cell_type": "code",
   "execution_count": 9,
   "id": "702397c5",
   "metadata": {},
   "outputs": [],
   "source": [
    "# A utility function to search a given key in BST\n",
    "def search(root,key):\n",
    "     \n",
    "    # Base Cases: root is null or key is present at root\n",
    "    if root is None or root.val == key:\n",
    "        return root\n",
    " \n",
    "    \n",
    "    if root.val < key:\n",
    "        # Key is greater than root's key\n",
    "        return search(root.right,key)\n",
    "    else:\n",
    "        # Key is smaller than root's key\n",
    "        return search(root.left,key)\n",
    "    \n",
    "# Time comp: O(N)\n",
    "# Auxiliary space: O(1) "
   ]
  },
  {
   "cell_type": "code",
   "execution_count": null,
   "id": "733c4e9d",
   "metadata": {},
   "outputs": [],
   "source": []
  }
 ],
 "metadata": {
  "kernelspec": {
   "display_name": "Python 3",
   "language": "python",
   "name": "python3"
  },
  "language_info": {
   "codemirror_mode": {
    "name": "ipython",
    "version": 3
   },
   "file_extension": ".py",
   "mimetype": "text/x-python",
   "name": "python",
   "nbconvert_exporter": "python",
   "pygments_lexer": "ipython3",
   "version": "3.6.5"
  }
 },
 "nbformat": 4,
 "nbformat_minor": 5
}
