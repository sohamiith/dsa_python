{
 "cells": [
  {
   "cell_type": "markdown",
   "id": "4f6346b8",
   "metadata": {},
   "source": [
    "## Queue"
   ]
  },
  {
   "cell_type": "raw",
   "id": "d8cb2044",
   "metadata": {},
   "source": [
    "Queue is a linear structure which follows a particular order in which the operations are performed. The order is First In First Out (FIFO)\n",
    "\n",
    "operation:\n",
    "1. enqueue\n",
    "2. dequeue\n",
    "3. peek\n",
    "4. isFull\n",
    "5. isEmpty\n"
   ]
  },
  {
   "cell_type": "code",
   "execution_count": 6,
   "id": "af6fb225",
   "metadata": {},
   "outputs": [],
   "source": [
    "# Single Queue without capacity\n",
    "\n",
    "class Queue:\n",
    "    def __init__(self):\n",
    "        self.list = []\n",
    "    \n",
    "    def isEmpty(self):\n",
    "        if len(self.list) == 0:\n",
    "            return True\n",
    "        return False\n",
    "    \n",
    "    def enqueue(self,x):\n",
    "        self.list.append(x)\n",
    "    \n",
    "    def dequeue(self):\n",
    "        if self.isEmpty():\n",
    "            print(\"Empty queue\")\n",
    "        else:\n",
    "            print(self.list.pop(0))\n",
    "    \n",
    "    def display(self):\n",
    "        print(\"Display:\")\n",
    "        for i in range(len(self.list)):\n",
    "            print(self.list[i])\n",
    "            \n",
    "# All time comp: O(1)"
   ]
  },
  {
   "cell_type": "code",
   "execution_count": 7,
   "id": "bf626e86",
   "metadata": {},
   "outputs": [
    {
     "name": "stdout",
     "output_type": "stream",
     "text": [
      "1\n",
      "Display:\n",
      "2\n",
      "3\n",
      "4\n"
     ]
    }
   ],
   "source": [
    "queue = Queue()\n",
    "queue.enqueue(1)\n",
    "queue.enqueue(2)\n",
    "queue.enqueue(3)\n",
    "queue.dequeue()\n",
    "queue.enqueue(4)\n",
    "queue.display()"
   ]
  },
  {
   "cell_type": "code",
   "execution_count": 57,
   "id": "5530717d",
   "metadata": {},
   "outputs": [],
   "source": [
    "# Circular Queue\n",
    "\n",
    "class Queue:\n",
    "    def __init__(self,x):\n",
    "        self.list = [None for i in range(x)]\n",
    "        self.front = -1\n",
    "        self.rear = -1\n",
    "        self.size = x\n",
    "        \n",
    "    def isEmpty(self):\n",
    "        if self.rear == -1 and self.front == -1:\n",
    "            return True\n",
    "        return False\n",
    "            \n",
    "    def isFull(self):\n",
    "        if ((self.rear + 1) % self.size) == self.front:\n",
    "            return True\n",
    "        return False\n",
    "    \n",
    "    def enqueue(self,x):\n",
    "        if self.isFull():\n",
    "            print(\"Full\")\n",
    "            return\n",
    "        \n",
    "        if self.isEmpty():\n",
    "            self.front = 0\n",
    "            self.rear = 0\n",
    "            self.list[self.rear] = x\n",
    "        elif self.rear == self.size - 1:\n",
    "            self.rear = 0\n",
    "            self.list[self.rear] = x\n",
    "        else:\n",
    "            self.rear += 1\n",
    "            self.list[self.rear] = x\n",
    "\n",
    "    def display(self):\n",
    "        print(\"Display:\")\n",
    "        if self.isEmpty():\n",
    "            print(\"empty\")\n",
    "            return \n",
    "        \n",
    "        if self.front <= self.rear:\n",
    "            for i in range(self.front, self.rear + 1):\n",
    "                print(self.list[i])\n",
    "        else:\n",
    "            \n",
    "            for i in range(self.front, self.size):\n",
    "                print(self.list[i])\n",
    "            for i in range(0, self.rear + 1):\n",
    "                print(self.list[i])\n",
    "        \n",
    "    def dequeue(self):\n",
    "        if self.isEmpty():\n",
    "            print(\"Empty\")\n",
    "            return\n",
    "        \n",
    "        if self.rear == self.front:\n",
    "            print(\"dequeue:\",self.list[self.front])\n",
    "            self.list[self.front] = None\n",
    "            self.front = -1\n",
    "            self.rear = -1\n",
    "        elif self.front == self.size - 1:\n",
    "            print(\"dequeue:\",self.list[self.front])\n",
    "            self.list[self.front] = None\n",
    "            self.front = 0\n",
    "        else:\n",
    "            print(\"dequeue:\",self.list[self.front])\n",
    "            self.list[self.front] = None\n",
    "            self.front += 1\n",
    "            \n",
    "# All time comp: O(1)"
   ]
  },
  {
   "cell_type": "code",
   "execution_count": 58,
   "id": "06ef3925",
   "metadata": {
    "scrolled": false
   },
   "outputs": [
    {
     "name": "stdout",
     "output_type": "stream",
     "text": [
      "Display:\n",
      "empty\n",
      "dequeue: 1\n",
      "Display:\n",
      "2\n",
      "3\n",
      "Display:\n",
      "2\n",
      "3\n",
      "4\n",
      "5\n",
      "Full\n",
      "Display:\n",
      "2\n",
      "3\n",
      "4\n",
      "5\n",
      "6\n"
     ]
    }
   ],
   "source": [
    "c_queue = Queue(5)\n",
    "c_queue.display()\n",
    "c_queue.enqueue(1)\n",
    "c_queue.enqueue(2)\n",
    "c_queue.enqueue(3)\n",
    "c_queue.dequeue()\n",
    "c_queue.display()\n",
    "c_queue.enqueue(4)\n",
    "c_queue.enqueue(5)\n",
    "c_queue.display()\n",
    "c_queue.enqueue(6)\n",
    "c_queue.enqueue(7)\n",
    "c_queue.display()"
   ]
  },
  {
   "cell_type": "code",
   "execution_count": 67,
   "id": "05c77d23",
   "metadata": {},
   "outputs": [],
   "source": [
    "# Singley Queue using linklist\n",
    "\n",
    "class Node:\n",
    "    def __init__(self,x):\n",
    "        self.data = x\n",
    "        self.next = None\n",
    "\n",
    "class Queue3:\n",
    "    def __init__(self):\n",
    "        self.head = None\n",
    "        self.tail = None\n",
    "        \n",
    "    def isEmpty(self):\n",
    "        if self.head == None:\n",
    "            return True\n",
    "        return False\n",
    "    \n",
    "    def enqueue(self,x):\n",
    "        new = Node(x)\n",
    "        if self.isEmpty():\n",
    "            self.head = new\n",
    "            self.tail = new\n",
    "        else:\n",
    "            self.tail.next = new\n",
    "            self.tail = new\n",
    "        \n",
    "    def dequeue(self):\n",
    "        if self.isEmpty():\n",
    "            print(\"empty\")\n",
    "            return\n",
    "        \n",
    "        print(\"dequeue:\",self.head.data)\n",
    "        if self.head == self.tail:\n",
    "            self.head = None\n",
    "            self.tail = None\n",
    "        else:\n",
    "            self.head = self.head.next\n",
    "            \n",
    "    def display(self):\n",
    "        if self.isEmpty():\n",
    "            print(\"empty\")\n",
    "            return\n",
    "        print(\"Display:\")\n",
    "        pointer = self.head\n",
    "        while pointer:\n",
    "            print(pointer.data)\n",
    "            pointer = pointer.next\n",
    "            \n",
    "# All time comp: O(1)"
   ]
  },
  {
   "cell_type": "code",
   "execution_count": 68,
   "id": "02524c7f",
   "metadata": {},
   "outputs": [
    {
     "name": "stdout",
     "output_type": "stream",
     "text": [
      "empty\n",
      "dequeue: 1\n",
      "Display:\n",
      "2\n",
      "3\n",
      "dequeue: 2\n",
      "Display:\n",
      "3\n",
      "4\n",
      "5\n",
      "6\n",
      "7\n"
     ]
    }
   ],
   "source": [
    "c_queue = Queue3()\n",
    "c_queue.display()\n",
    "c_queue.enqueue(1)\n",
    "c_queue.enqueue(2)\n",
    "c_queue.enqueue(3)\n",
    "c_queue.dequeue()\n",
    "c_queue.display()\n",
    "c_queue.enqueue(4)\n",
    "c_queue.enqueue(5)\n",
    "c_queue.dequeue()\n",
    "c_queue.enqueue(6)\n",
    "c_queue.enqueue(7)\n",
    "c_queue.display()"
   ]
  },
  {
   "cell_type": "code",
   "execution_count": null,
   "id": "a827918f",
   "metadata": {},
   "outputs": [],
   "source": []
  },
  {
   "cell_type": "raw",
   "id": "59c2c541",
   "metadata": {},
   "source": [
    "Queue using python collection module\n",
    "\n",
    "Deque (Doubly Ended Queue) in Python is implemented using the module “collections“. Deque is preferred over a list in the cases where we need quicker append and pop operations from both the ends of the container, as deque provides an O(1) time complexity for append and pop operations as compared to list which provides O(n) time complexity.\n",
    "\n",
    "class: collections.deque\n",
    "\n",
    "method: \n",
    "1. deque(): create a queue\n",
    "2. append(): append at right end of queue\n",
    "3. appeneleft(): append at left end of queue\n",
    "4. pop(): pop from right end\n",
    "5. popleft(): pop from left end\n",
    "6. clear(): clear the queue"
   ]
  },
  {
   "cell_type": "code",
   "execution_count": 93,
   "id": "563f579a",
   "metadata": {},
   "outputs": [
    {
     "name": "stdout",
     "output_type": "stream",
     "text": [
      "3\n",
      "deque([1, 2, 3], maxlen=3)\n",
      "deque([2, 3, 4], maxlen=3)\n",
      "4\n",
      "deque([2, 3], maxlen=3)\n",
      "2\n",
      "deque([3], maxlen=3)\n",
      "deque([5, 3], maxlen=3)\n",
      "Queue 2:\n",
      "deque([1, 2, 3, 4, 5, 6])\n",
      "deque([1, 2, 3, 4, 5, 6, 7])\n"
     ]
    }
   ],
   "source": [
    "from collections import deque\n",
    "\n",
    "queue = deque(maxlen = 3)\n",
    "\n",
    "queue.append(1)\n",
    "queue.append(2)\n",
    "queue.append(3)\n",
    "print(queue)\n",
    "\n",
    "queue.append(4)\n",
    "print(queue)\n",
    "# Here it work as a circular queue\n",
    "\n",
    "print(queue.pop())\n",
    "print(queue)\n",
    "\n",
    "print(queue.popleft())\n",
    "print(queue)\n",
    "\n",
    "queue.appendleft(5)\n",
    "print(queue)\n",
    "\n",
    "print(\"Queue 2:\")\n",
    "queue2 = deque([1,2,3,4,5,6])\n",
    "print(queue2)\n",
    "queue2.append(7)\n",
    "print(queue2)"
   ]
  },
  {
   "cell_type": "raw",
   "id": "ad34f4a3",
   "metadata": {},
   "source": [
    "Queue using python Queue module\n",
    "\n",
    "class: queue\n",
    "\n",
    "methods:\n",
    "1. Queue(maxsize): initialize queue of given size. if maxsize = 0 then its infinite\n",
    "2. qsize(): get size of queue\n",
    "3. full(): check whether its full or not\n",
    "4. empty(): check whether its empty or not\n",
    "5. put(): append item\n",
    "6. get(): poped item"
   ]
  },
  {
   "cell_type": "code",
   "execution_count": 92,
   "id": "9db62635",
   "metadata": {},
   "outputs": [
    {
     "name": "stdout",
     "output_type": "stream",
     "text": [
      "size: 0\n"
     ]
    },
    {
     "ename": "AttributeError",
     "evalue": "'Queue' object has no attribute 'peek'",
     "output_type": "error",
     "traceback": [
      "\u001b[0;31m---------------------------------------------------------------------------\u001b[0m",
      "\u001b[0;31mAttributeError\u001b[0m                            Traceback (most recent call last)",
      "\u001b[0;32m<ipython-input-92-c387064f7733>\u001b[0m in \u001b[0;36m<module>\u001b[0;34m\u001b[0m\n\u001b[1;32m      9\u001b[0m \u001b[0mqueue\u001b[0m\u001b[0;34m.\u001b[0m\u001b[0mput\u001b[0m\u001b[0;34m(\u001b[0m\u001b[0;36m2\u001b[0m\u001b[0;34m)\u001b[0m\u001b[0;34m\u001b[0m\u001b[0m\n\u001b[1;32m     10\u001b[0m \u001b[0mqueue\u001b[0m\u001b[0;34m.\u001b[0m\u001b[0mput\u001b[0m\u001b[0;34m(\u001b[0m\u001b[0;36m3\u001b[0m\u001b[0;34m)\u001b[0m\u001b[0;34m\u001b[0m\u001b[0m\n\u001b[0;32m---> 11\u001b[0;31m \u001b[0mprint\u001b[0m\u001b[0;34m(\u001b[0m\u001b[0mqueue\u001b[0m\u001b[0;34m.\u001b[0m\u001b[0mpeek\u001b[0m\u001b[0;34m(\u001b[0m\u001b[0;34m)\u001b[0m\u001b[0;34m)\u001b[0m\u001b[0;34m\u001b[0m\u001b[0m\n\u001b[0m\u001b[1;32m     12\u001b[0m \u001b[0mprint\u001b[0m\u001b[0;34m(\u001b[0m\u001b[0;34m\"size:\"\u001b[0m\u001b[0;34m,\u001b[0m\u001b[0mqueue\u001b[0m\u001b[0;34m.\u001b[0m\u001b[0mqsize\u001b[0m\u001b[0;34m(\u001b[0m\u001b[0;34m)\u001b[0m\u001b[0;34m)\u001b[0m\u001b[0;34m\u001b[0m\u001b[0m\n\u001b[1;32m     13\u001b[0m \u001b[0mprint\u001b[0m\u001b[0;34m(\u001b[0m\u001b[0mqueue\u001b[0m\u001b[0;34m.\u001b[0m\u001b[0mfull\u001b[0m\u001b[0;34m(\u001b[0m\u001b[0;34m)\u001b[0m\u001b[0;34m)\u001b[0m\u001b[0;34m\u001b[0m\u001b[0m\n",
      "\u001b[0;31mAttributeError\u001b[0m: 'Queue' object has no attribute 'peek'"
     ]
    }
   ],
   "source": [
    "# Queue using queue module\n",
    "\n",
    "import queue as q\n",
    "\n",
    "queue = q.Queue(maxsize = 3)\n",
    "\n",
    "print(\"size:\",queue.qsize())\n",
    "queue.put(1)\n",
    "queue.put(2)\n",
    "queue.put(3)\n",
    "print(\"size:\",queue.qsize())\n",
    "print(queue.full())\n",
    "print(\"dequeue:\",queue.get())\n",
    "print(\"dequeue:\",queue.get())\n",
    "print(\"dequeue:\",queue.get())\n",
    "\n",
    "print(queue.empty())"
   ]
  },
  {
   "cell_type": "code",
   "execution_count": 90,
   "id": "4ae59bdd",
   "metadata": {},
   "outputs": [
    {
     "name": "stdout",
     "output_type": "stream",
     "text": [
      "size: 0\n",
      "size: 3\n",
      "True\n",
      "dequeue: 3\n",
      "dequeue: 2\n",
      "dequeue: 1\n",
      "True\n"
     ]
    }
   ],
   "source": [
    "# Stack using queue module\n",
    "\n",
    "import queue as q\n",
    "\n",
    "queue = q.LifoQueue(3)\n",
    "\n",
    "print(\"size:\",queue.qsize())\n",
    "queue.put(1)\n",
    "queue.put(2)\n",
    "queue.put(3)\n",
    "print(\"size:\",queue.qsize())\n",
    "print(queue.full())\n",
    "print(\"dequeue:\",queue.get())\n",
    "print(\"dequeue:\",queue.get())\n",
    "print(\"dequeue:\",queue.get())\n",
    "print(queue.empty())"
   ]
  },
  {
   "cell_type": "markdown",
   "id": "7a496abd",
   "metadata": {},
   "source": [
    "### Practice que"
   ]
  },
  {
   "cell_type": "code",
   "execution_count": null,
   "id": "2b251e16",
   "metadata": {},
   "outputs": [],
   "source": []
  }
 ],
 "metadata": {
  "kernelspec": {
   "display_name": "Python 3",
   "language": "python",
   "name": "python3"
  },
  "language_info": {
   "codemirror_mode": {
    "name": "ipython",
    "version": 3
   },
   "file_extension": ".py",
   "mimetype": "text/x-python",
   "name": "python",
   "nbconvert_exporter": "python",
   "pygments_lexer": "ipython3",
   "version": "3.6.5"
  }
 },
 "nbformat": 4,
 "nbformat_minor": 5
}
