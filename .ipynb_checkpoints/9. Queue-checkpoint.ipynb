{
 "cells": [
  {
   "cell_type": "markdown",
   "id": "df2be734",
   "metadata": {},
   "source": [
    "## Queue"
   ]
  },
  {
   "cell_type": "raw",
   "id": "67874579",
   "metadata": {},
   "source": [
    "Queue is a linear structure which follows a particular order in which the operations are performed. The order is First In First Out (FIFO)\n",
    "\n",
    "operation:\n",
    "1. enqueue\n",
    "2. dequeue\n",
    "3. peek\n",
    "4. isFull\n",
    "5. isEmpty\n"
   ]
  },
  {
   "cell_type": "code",
   "execution_count": 6,
   "id": "890e3ccc",
   "metadata": {},
   "outputs": [],
   "source": [
    "# Single Queue without capacity\n",
    "\n",
    "class Queue:\n",
    "    def __init__(self):\n",
    "        self.list = []\n",
    "    \n",
    "    def isEmpty(self):\n",
    "        if len(self.list) == 0:\n",
    "            return True\n",
    "        return False\n",
    "    \n",
    "    def enqueue(self,x):\n",
    "        self.list.append(x)\n",
    "    \n",
    "    def dequeue(self):\n",
    "        if self.isEmpty():\n",
    "            print(\"Empty queue\")\n",
    "        else:\n",
    "            print(self.list.pop(0))\n",
    "    \n",
    "    def display(self):\n",
    "        print(\"Display:\")\n",
    "        for i in range(len(self.list)):\n",
    "            print(self.list[i])\n",
    "            \n",
    "# All time comp: O(1)"
   ]
  },
  {
   "cell_type": "code",
   "execution_count": 7,
   "id": "cd5f1d5c",
   "metadata": {},
   "outputs": [
    {
     "name": "stdout",
     "output_type": "stream",
     "text": [
      "1\n",
      "Display:\n",
      "2\n",
      "3\n",
      "4\n"
     ]
    }
   ],
   "source": [
    "queue = Queue()\n",
    "queue.enqueue(1)\n",
    "queue.enqueue(2)\n",
    "queue.enqueue(3)\n",
    "queue.dequeue()\n",
    "queue.enqueue(4)\n",
    "queue.display()"
   ]
  },
  {
   "cell_type": "code",
   "execution_count": 38,
   "id": "a0afbb95",
   "metadata": {},
   "outputs": [],
   "source": [
    "# Circular Queue\n",
    "\n",
    "class Queue:\n",
    "    def __init__(self,x):\n",
    "        self.list = [None for i in range(x)]\n",
    "        self.front = -1\n",
    "        self.rear = -1\n",
    "        self.size = x\n",
    "        \n",
    "    def isEmpty(self):\n",
    "        if self.rear == -1 and self.front == -1:\n",
    "            return True\n",
    "        return False\n",
    "            \n",
    "    def isFull(self):\n",
    "        if ((self.rear + 1) % self.size) == self.front:\n",
    "            return True\n",
    "        return False\n",
    "    \n",
    "    def enqueue(self,x):\n",
    "        if self.isFull():\n",
    "            print(\"Full\")\n",
    "            return\n",
    "        \n",
    "        if self.isEmpty():\n",
    "            self.front = 0\n",
    "            self.rear = 0\n",
    "            self.list[self.rear] = x\n",
    "        elif self.rear == self.size - 1:\n",
    "            self.rear = 0\n",
    "            self.list[self.rear] = x\n",
    "        else:\n",
    "            self.rear += 1\n",
    "            self.list[self.rear] = x\n",
    "\n",
    "    def display(self):\n",
    "        print(\"Display:\")\n",
    "        print(\"front:\",self.front)\n",
    "        print(\"rear:\",self.rear)\n",
    "        if self.front <= self.rear:\n",
    "            for i in range(self.front, self.rear):\n",
    "                print(self.list[i])\n",
    "        else:\n",
    "            \n",
    "            for i in range(self.front, self.size):\n",
    "                print(self.list[i])\n",
    "            for i in range(0, self.rear + 1):\n",
    "                print(self.list[i])\n",
    "        \n",
    "    def dequeue(self):\n",
    "        if self.isEmpty():\n",
    "            print(\"Empty\")\n",
    "            return\n",
    "        \n",
    "        if self.rear == self.front:\n",
    "            print(self.list[self.front])\n",
    "            self.list.pop(self.front)\n",
    "            self.front = -1\n",
    "            self.rear = -1\n",
    "        elif self.front == self.size - 1:\n",
    "            print(self.list[self.front])\n",
    "            self.list.pop(self.front)\n",
    "            self.front = 0\n",
    "        else:\n",
    "            print(self.list[self.front])\n",
    "            self.list.pop(self.front)\n",
    "            self.front += 1"
   ]
  },
  {
   "cell_type": "code",
   "execution_count": 39,
   "id": "22fe855b",
   "metadata": {
    "scrolled": false
   },
   "outputs": [
    {
     "name": "stdout",
     "output_type": "stream",
     "text": [
      "1\n",
      "Display:\n"
     ]
    },
    {
     "ename": "IndexError",
     "evalue": "list assignment index out of range",
     "output_type": "error",
     "traceback": [
      "\u001b[0;31m---------------------------------------------------------------------------\u001b[0m",
      "\u001b[0;31mIndexError\u001b[0m                                Traceback (most recent call last)",
      "\u001b[0;32m<ipython-input-39-3ae4cca64ae6>\u001b[0m in \u001b[0;36m<module>\u001b[0;34m\u001b[0m\n\u001b[1;32m      7\u001b[0m \u001b[0mc_queue\u001b[0m\u001b[0;34m.\u001b[0m\u001b[0menqueue\u001b[0m\u001b[0;34m(\u001b[0m\u001b[0;36m3\u001b[0m\u001b[0;34m)\u001b[0m\u001b[0;34m\u001b[0m\u001b[0m\n\u001b[1;32m      8\u001b[0m \u001b[0mc_queue\u001b[0m\u001b[0;34m.\u001b[0m\u001b[0menqueue\u001b[0m\u001b[0;34m(\u001b[0m\u001b[0;36m4\u001b[0m\u001b[0;34m)\u001b[0m\u001b[0;34m\u001b[0m\u001b[0m\n\u001b[0;32m----> 9\u001b[0;31m \u001b[0mc_queue\u001b[0m\u001b[0;34m.\u001b[0m\u001b[0menqueue\u001b[0m\u001b[0;34m(\u001b[0m\u001b[0;36m5\u001b[0m\u001b[0;34m)\u001b[0m\u001b[0;34m\u001b[0m\u001b[0m\n\u001b[0m\u001b[1;32m     10\u001b[0m \u001b[0mc_queue\u001b[0m\u001b[0;34m.\u001b[0m\u001b[0mdisplay\u001b[0m\u001b[0;34m(\u001b[0m\u001b[0;34m)\u001b[0m\u001b[0;34m\u001b[0m\u001b[0m\n\u001b[1;32m     11\u001b[0m \u001b[0mc_queue\u001b[0m\u001b[0;34m.\u001b[0m\u001b[0mdequeue\u001b[0m\u001b[0;34m(\u001b[0m\u001b[0;34m)\u001b[0m\u001b[0;34m\u001b[0m\u001b[0m\n",
      "\u001b[0;32m<ipython-input-38-e036e6ee8419>\u001b[0m in \u001b[0;36menqueue\u001b[0;34m(self, x)\u001b[0m\n\u001b[1;32m     32\u001b[0m         \u001b[0;32melse\u001b[0m\u001b[0;34m:\u001b[0m\u001b[0;34m\u001b[0m\u001b[0m\n\u001b[1;32m     33\u001b[0m             \u001b[0mself\u001b[0m\u001b[0;34m.\u001b[0m\u001b[0mrear\u001b[0m \u001b[0;34m+=\u001b[0m \u001b[0;36m1\u001b[0m\u001b[0;34m\u001b[0m\u001b[0m\n\u001b[0;32m---> 34\u001b[0;31m             \u001b[0mself\u001b[0m\u001b[0;34m.\u001b[0m\u001b[0mlist\u001b[0m\u001b[0;34m[\u001b[0m\u001b[0mself\u001b[0m\u001b[0;34m.\u001b[0m\u001b[0mrear\u001b[0m\u001b[0;34m]\u001b[0m \u001b[0;34m=\u001b[0m \u001b[0mx\u001b[0m\u001b[0;34m\u001b[0m\u001b[0m\n\u001b[0m\u001b[1;32m     35\u001b[0m \u001b[0;34m\u001b[0m\u001b[0m\n\u001b[1;32m     36\u001b[0m     \u001b[0;32mdef\u001b[0m \u001b[0mdisplay\u001b[0m\u001b[0;34m(\u001b[0m\u001b[0mself\u001b[0m\u001b[0;34m)\u001b[0m\u001b[0;34m:\u001b[0m\u001b[0;34m\u001b[0m\u001b[0m\n",
      "\u001b[0;31mIndexError\u001b[0m: list assignment index out of range"
     ]
    }
   ],
   "source": [
    "c_queue = Queue(5)\n",
    "c_queue.enqueue(1)\n",
    "c_queue.enqueue(2)\n",
    "c_queue.dequeue()\n",
    "c_queue.display()\n",
    "\n",
    "c_queue.enqueue(3)\n",
    "c_queue.enqueue(4)\n",
    "c_queue.enqueue(5)\n",
    "c_queue.display()\n",
    "c_queue.dequeue()"
   ]
  },
  {
   "cell_type": "code",
   "execution_count": null,
   "id": "57262445",
   "metadata": {},
   "outputs": [],
   "source": []
  },
  {
   "cell_type": "code",
   "execution_count": null,
   "id": "1d3d6b5a",
   "metadata": {},
   "outputs": [],
   "source": []
  },
  {
   "cell_type": "code",
   "execution_count": null,
   "id": "5fb77f17",
   "metadata": {},
   "outputs": [],
   "source": []
  }
 ],
 "metadata": {
  "kernelspec": {
   "display_name": "Python 3",
   "language": "python",
   "name": "python3"
  },
  "language_info": {
   "codemirror_mode": {
    "name": "ipython",
    "version": 3
   },
   "file_extension": ".py",
   "mimetype": "text/x-python",
   "name": "python",
   "nbconvert_exporter": "python",
   "pygments_lexer": "ipython3",
   "version": "3.6.5"
  }
 },
 "nbformat": 4,
 "nbformat_minor": 5
}
