{
 "cells": [
  {
   "cell_type": "code",
   "execution_count": 111,
   "id": "41c84bff",
   "metadata": {},
   "outputs": [],
   "source": [
    "def print_preorder(words, roots, l, r):\n",
    "    if l <= r:\n",
    "        i = roots[l][r]\n",
    "        print(words[i-1], end = \" \")\n",
    "        print_preorder(words, roots, l, i-1)\n",
    "        print_preorder(words, roots, i+1, r)          "
   ]
  },
  {
   "cell_type": "code",
   "execution_count": 114,
   "id": "64f35c29",
   "metadata": {},
   "outputs": [],
   "source": [
    "def find_optimal_cost(words, probability, n):\n",
    "    nodes = [[-1 for i in range(n+1)] for j in range(n+1)]\n",
    "    prob = [[0 for i in range(n+1)] for j in range(n+1)]\n",
    "    \n",
    "    for i in range(1,n+1):\n",
    "        nodes[i][i] = i\n",
    "        prob[i][i] = probability[i-1]\n",
    "    \n",
    "    for p in range(2,n+1):\n",
    "        for i in range(1,n-p+2):\n",
    "            \n",
    "            j = i + p-1\n",
    "            prob[i][j] = float('inf')\n",
    "            \n",
    "            s = 0\n",
    "            \n",
    "            for k in range(i,j+1):\n",
    "                s += probability[k-1]   \n",
    "\n",
    "            \n",
    "            for k in range(i,j+1):\n",
    "                if k != n:\n",
    "                    r = prob[k+1][j]\n",
    "                else:\n",
    "                    r = 0\n",
    "\n",
    "                c = prob[i][k-1] + r + s\n",
    "                if c < prob[i][j]:\n",
    "                    nodes[i][j] = k\n",
    "                    prob[i][j] = round(c,2)\n",
    "    \n",
    "    print(\"The minimum expected total access time is \", prob[1][n])\n",
    "    print(\"Preorder traversal of the BST that provides minimum expected total access time is:\")\n",
    "    print_preorder(words, nodes, 1, n)"
   ]
  },
  {
   "cell_type": "code",
   "execution_count": null,
   "id": "8b95c5c5",
   "metadata": {},
   "outputs": [],
   "source": []
  },
  {
   "cell_type": "code",
   "execution_count": 40,
   "id": "736643e1",
   "metadata": {},
   "outputs": [
    {
     "name": "stdout",
     "output_type": "stream",
     "text": [
      "How many strings do you want to insert in the BST?\n",
      "7\n",
      "Enter  7  strings in sorted dictionary order along with their distinct probabilities: \n",
      "a\n",
      "0.22\n",
      "am\n",
      "0.18\n",
      "and\n",
      "0.2\n",
      "egg\n",
      "0.05\n",
      "if\n",
      "0.25\n",
      "the\n",
      "0.02\n",
      "two\n",
      "0.08\n"
     ]
    }
   ],
   "source": [
    "print(\"How many strings do you want to insert in the BST?\")\n",
    "n = int(input())\n",
    "\n",
    "words = []\n",
    "probability = []\n",
    "\n",
    "print(\"Enter \", n ,\" strings in sorted dictionary order along with their distinct probabilities: \")\n",
    "\n",
    "for i in range(n):\n",
    "    w = input()\n",
    "    p = float(input())\n",
    "    words.append(w)\n",
    "    probability.append(p)"
   ]
  },
  {
   "cell_type": "code",
   "execution_count": 110,
   "id": "92c28260",
   "metadata": {},
   "outputs": [],
   "source": [
    "#words"
   ]
  },
  {
   "cell_type": "code",
   "execution_count": 109,
   "id": "68077086",
   "metadata": {},
   "outputs": [],
   "source": [
    "#probability"
   ]
  },
  {
   "cell_type": "code",
   "execution_count": 51,
   "id": "016d9396",
   "metadata": {},
   "outputs": [],
   "source": [
    "end = 0"
   ]
  },
  {
   "cell_type": "code",
   "execution_count": 52,
   "id": "b31acc20",
   "metadata": {},
   "outputs": [],
   "source": [
    "if words != sorted(words):\n",
    "    print(\"The strings entered are not in sorted order.\", end = \" \")\n",
    "    end = 1"
   ]
  },
  {
   "cell_type": "code",
   "execution_count": 53,
   "id": "709e7ed5",
   "metadata": {},
   "outputs": [],
   "source": [
    "hash_map = {}\n",
    "\n",
    "for i in words:\n",
    "    if i in hash_map:\n",
    "        print(\"The strings are not distinct. \", end = \" \")\n",
    "        end = 1\n",
    "        break\n",
    "    else:\n",
    "        hash_map[i] = 1"
   ]
  },
  {
   "cell_type": "code",
   "execution_count": 54,
   "id": "6de539e8",
   "metadata": {},
   "outputs": [],
   "source": [
    "hash_map = {}\n",
    "\n",
    "for i in probability:\n",
    "    if i in hash_map:\n",
    "        print(\"The probabilities are not distinct.\", end = \" \")\n",
    "        end = 1\n",
    "        break\n",
    "    else:\n",
    "        hash_map[i] = 1"
   ]
  },
  {
   "cell_type": "code",
   "execution_count": 55,
   "id": "1796f48e",
   "metadata": {},
   "outputs": [],
   "source": [
    "total = int(sum(probability))\n",
    "if total != 1:\n",
    "    print(\"The probabilities don't add up to 1. \", end = \" \")\n",
    "    end = 1"
   ]
  },
  {
   "cell_type": "code",
   "execution_count": 115,
   "id": "d9d08a3c",
   "metadata": {},
   "outputs": [
    {
     "name": "stdout",
     "output_type": "stream",
     "text": [
      "The minimum expected total access time is  2.15\n",
      "Preorder traversal of the BST that provides minimum expected total access time is:\n",
      "and a am if egg two the "
     ]
    }
   ],
   "source": [
    "if end == 0:\n",
    "    find_optimal_cost(words, probability, n)"
   ]
  },
  {
   "cell_type": "code",
   "execution_count": null,
   "id": "4a1b2944",
   "metadata": {},
   "outputs": [],
   "source": []
  }
 ],
 "metadata": {
  "kernelspec": {
   "display_name": "Python [conda env:my_env] *",
   "language": "python",
   "name": "conda-env-my_env-py"
  },
  "language_info": {
   "codemirror_mode": {
    "name": "ipython",
    "version": 3
   },
   "file_extension": ".py",
   "mimetype": "text/x-python",
   "name": "python",
   "nbconvert_exporter": "python",
   "pygments_lexer": "ipython3",
   "version": "3.9.12"
  }
 },
 "nbformat": 4,
 "nbformat_minor": 5
}
