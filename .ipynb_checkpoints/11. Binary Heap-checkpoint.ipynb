{
 "cells": [
  {
   "cell_type": "markdown",
   "id": "f90b1cb4",
   "metadata": {},
   "source": [
    "## Binary Heap"
   ]
  },
  {
   "cell_type": "code",
   "execution_count": null,
   "id": "547361b2",
   "metadata": {},
   "outputs": [],
   "source": []
  },
  {
   "cell_type": "raw",
   "id": "3f580466",
   "metadata": {},
   "source": [
    "A Heap is a special Tree-based data structure in which the tree is a complete binary tree.\n",
    "\n",
    "It’s a complete tree (All levels are completely filled except possibly the last level and the last level has all keys as left as possible)\n",
    "\n",
    " Heaps can be of two types:\n",
    "\n",
    "1. Max-Heap: In a Max-Heap the key present at the root node must be greatest among the keys present at all of it’s    children. The same property must be recursively true for all sub-trees in that Binary Tree.\n",
    "\n",
    "2. Min-Heap: In a Min-Heap the key present at the root node must be minimum among the keys present at all of it’s    children. The same property must be recursively true for all sub-trees in that Binary Tree.\n",
    "\n",
    "Representation of the heap using list is same as we store binary tree in list. root at 0th index, left node at \n",
    "(2 x root) + 1 and right node as (2 x root) + 2\n",
    "Parent node will be at (i-1)//2.\n",
    "\n",
    "Applications:\n",
    "1. Heap sort\n",
    "2. Priority queue\n",
    "3. Graph algorithems (Dijkstra,prim's)\n",
    "4. merge K sorted array\n",
    "5. sort an almost stored array\n",
    "6. Kth largest/smallest element in array"
   ]
  },
  {
   "cell_type": "raw",
   "id": "30b454bf",
   "metadata": {},
   "source": [
    "Binary Heap Operations:\n",
    "\n",
    "1. Heapify: \n",
    "\n",
    "Process to rearrange the element of heap to maintain the heap properity. It unsure that every node of the tree follows the heap property. It make complete binary tree to binary heap tree.\n",
    "It needs during: insert operation, delete operation, during creating heap from array\n",
    "-> heapify up: Work in bottom up approach. Start from lower node and move up.\n",
    "-> heapify down: Work in top down approach. Start from root node and move down to leaf node.\n",
    "\n",
    "2. Insertion:\n",
    "\n",
    "-> Insert new element to first available spot in the lower level of the complete binary tree.\n",
    "-> Apply heapify function.\n",
    "\n",
    "3. Deletion:\n",
    "\n",
    "-> Swap last node with the node which need to delete.\n",
    "-> Delete last node.\n",
    "-> Apply heapify function.\n",
    "\n",
    "4. Extract min/max Key:\n",
    "\n",
    "-> Print max/min key and delete it from heap.\n",
    "-> Min/Max will be root node\n",
    "\n",
    "5. Get Min/Max key:\n",
    "\n",
    "-> Print the root node"
   ]
  },
  {
   "cell_type": "raw",
   "id": "66132b10",
   "metadata": {},
   "source": [
    "Methods to create heap:\n",
    "\n",
    "1. Insert each element in tree and after each insertion apply heapify function on newly created node.\n",
    "2. Insert all element to binary tree and after that apply heapify function to all nodes starting from last leaf      node. We can improve it by applying heapify function from last in internal node."
   ]
  },
  {
   "cell_type": "code",
   "execution_count": 11,
   "id": "c2acb877",
   "metadata": {},
   "outputs": [],
   "source": [
    "# Import module\n",
    "\n",
    "# It is by default min heap\n",
    "\n",
    "import heapq\n",
    "heap = []"
   ]
  },
  {
   "cell_type": "code",
   "execution_count": 12,
   "id": "3e6d6102",
   "metadata": {},
   "outputs": [
    {
     "name": "stdout",
     "output_type": "stream",
     "text": [
      "[10]\n",
      "[1, 10]\n",
      "[1, 10, 13]\n",
      "[1, 3, 13, 10]\n"
     ]
    }
   ],
   "source": [
    "# Push element (Heapify apply automatically)\n",
    "\n",
    "heapq.heappush(heap,10)\n",
    "print(heap)\n",
    "heapq.heappush(heap,1)\n",
    "print(heap)\n",
    "heapq.heappush(heap,13)\n",
    "print(heap)\n",
    "heapq.heappush(heap,3)\n",
    "print(heap)"
   ]
  },
  {
   "cell_type": "code",
   "execution_count": 13,
   "id": "ce042593",
   "metadata": {},
   "outputs": [
    {
     "name": "stdout",
     "output_type": "stream",
     "text": [
      "1\n",
      "[3, 10, 13]\n",
      "3\n",
      "[10, 13]\n"
     ]
    }
   ],
   "source": [
    "# Pop element (Heapify apply automatically)\n",
    "\n",
    "x = heapq.heappop(heap)\n",
    "print(x)\n",
    "print(heap)\n",
    "\n",
    "x = heapq.heappop(heap)\n",
    "print(x)\n",
    "print(heap)"
   ]
  },
  {
   "cell_type": "code",
   "execution_count": 16,
   "id": "c7466e41",
   "metadata": {},
   "outputs": [
    {
     "name": "stdout",
     "output_type": "stream",
     "text": [
      "[11, 13]\n",
      "[11, 13]\n"
     ]
    }
   ],
   "source": [
    "# Push given element followed by pop item from heap\n",
    "\n",
    "heapq.heappushpop(heap,11)\n",
    "print(heap)\n",
    "heapq.heappushpop(heap,5)\n",
    "print(heap)"
   ]
  },
  {
   "cell_type": "code",
   "execution_count": 18,
   "id": "1d7defe7",
   "metadata": {},
   "outputs": [
    {
     "name": "stdout",
     "output_type": "stream",
     "text": [
      "[13, 50]\n",
      "[50, 60]\n"
     ]
    }
   ],
   "source": [
    "# First it will perform pop operation followed by push operation\n",
    "\n",
    "heapq.heapreplace(heap,50)\n",
    "print(heap)\n",
    "heapq.heapreplace(heap,60)\n",
    "print(heap)"
   ]
  },
  {
   "cell_type": "code",
   "execution_count": 20,
   "id": "09fb6b6d",
   "metadata": {},
   "outputs": [
    {
     "name": "stdout",
     "output_type": "stream",
     "text": [
      "[1, 2, 5, 3, 7, 8, 10, 4, 6, 9]\n"
     ]
    }
   ],
   "source": [
    "# Heapify (It will conver given list to heap)\n",
    "list1 = [4,3,5,1,7,8,10,2,6,9]\n",
    "heapq.heapify(list1)\n",
    "print(list1)"
   ]
  },
  {
   "cell_type": "code",
   "execution_count": 23,
   "id": "25751c7f",
   "metadata": {},
   "outputs": [
    {
     "name": "stdout",
     "output_type": "stream",
     "text": [
      "[1, 2]\n",
      "[10, 9]\n",
      "[1, 3]\n"
     ]
    }
   ],
   "source": [
    "# Return n smallest/largest element from the heap\n",
    "\n",
    "print(heapq.nsmallest(2, list1))    # N smallest\n",
    "\n",
    "print(heapq.nlargest(2, list1))     # N largest\n",
    "\n",
    "# It works on any iterable, if its not following heap property still it will work.\n",
    "list2 = [4,1,5,6,3]\n",
    "print(heapq.nsmallest(2, list2))"
   ]
  },
  {
   "cell_type": "code",
   "execution_count": 26,
   "id": "e6ea90bc",
   "metadata": {},
   "outputs": [
    {
     "name": "stdout",
     "output_type": "stream",
     "text": [
      "[(1, 'a'), (3, 'c'), (2, 'b')]\n",
      "--------\n",
      "(1, 'a')\n",
      "(3, 'c')\n",
      "(2, 'b')\n",
      "--------\n",
      "(1, 'a')\n",
      "[(2, 'b'), (3, 'c')]\n",
      "--------\n"
     ]
    }
   ],
   "source": [
    "# Priprity Queue using Heap:\n",
    "\n",
    "list1 = [(3,\"c\"),(1,\"a\"),(2,\"b\")]    # (priority,item)\n",
    "heapq.heapify(list1)\n",
    "print(list1)\n",
    "print(\"--------\")\n",
    "for i in range(len(list1)):\n",
    "    print(list1[i])\n",
    "\n",
    "print(\"--------\")\n",
    "\n",
    "x = heapq.heappop(list1)\n",
    "print(x)\n",
    "print(list1)\n",
    "print(\"--------\")"
   ]
  },
  {
   "cell_type": "code",
   "execution_count": null,
   "id": "0b10f08b",
   "metadata": {},
   "outputs": [],
   "source": []
  }
 ],
 "metadata": {
  "kernelspec": {
   "display_name": "Python 3",
   "language": "python",
   "name": "python3"
  },
  "language_info": {
   "codemirror_mode": {
    "name": "ipython",
    "version": 3
   },
   "file_extension": ".py",
   "mimetype": "text/x-python",
   "name": "python",
   "nbconvert_exporter": "python",
   "pygments_lexer": "ipython3",
   "version": "3.6.5"
  }
 },
 "nbformat": 4,
 "nbformat_minor": 5
}
