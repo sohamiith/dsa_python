{
 "cells": [
  {
   "cell_type": "markdown",
   "id": "528aba79",
   "metadata": {},
   "source": [
    "### BFS:"
   ]
  },
  {
   "cell_type": "code",
   "execution_count": 41,
   "id": "bb99a539",
   "metadata": {},
   "outputs": [],
   "source": [
    "from collections import deque\n",
    "class Solution:\n",
    "    \n",
    "    def bfs(self,V,adj,i,visited):\n",
    "        q = deque()\n",
    "        q.append(i)\n",
    "        visited[i] = 1\n",
    "        \n",
    "        ans = []\n",
    "        while len(q):\n",
    "            node = q.popleft()\n",
    "            ans.append(node)\n",
    "            \n",
    "            edges = adj[node]\n",
    "            for j in edges:\n",
    "                if visited[j] == 0:\n",
    "                    q.append(j)\n",
    "                    visited[j] = 1\n",
    "        \n",
    "        return ans\n",
    "            \n",
    "    \n",
    "    def bfsOfGraph(self, V, adj):\n",
    "        visited = [0] * V\n",
    "        ans = []\n",
    "        for i in range(V):\n",
    "            # Call BFS for all components of graph\n",
    "            if visited[i] == 0:\n",
    "                ans += self.bfs(V,adj,i,visited)\n",
    "        \n",
    "        return ans"
   ]
  },
  {
   "cell_type": "code",
   "execution_count": 42,
   "id": "10636584",
   "metadata": {},
   "outputs": [
    {
     "data": {
      "text/plain": [
       "[0, 2, 3, 1, 4]"
      ]
     },
     "execution_count": 42,
     "metadata": {},
     "output_type": "execute_result"
    }
   ],
   "source": [
    "adj = [[2, 3, 1], [0], [0, 4], [0], [2], []]\n",
    "V = 5\n",
    "s = Solution()\n",
    "s.bfsOfGraph(V,adj)"
   ]
  },
  {
   "cell_type": "markdown",
   "id": "a4618ef6",
   "metadata": {},
   "source": [
    "###  DFS:"
   ]
  },
  {
   "cell_type": "code",
   "execution_count": 44,
   "id": "ea6595e6",
   "metadata": {},
   "outputs": [],
   "source": [
    "class Solution:\n",
    "    def dfs(self,V,adj,i,visited):\n",
    "        visited[i] = 1\n",
    "        ans = [i]\n",
    "        \n",
    "        edges = adj[i]\n",
    "        for j in edges:\n",
    "            # If node is not visited then only call DFS for that.\n",
    "            if visited[j] == 0:\n",
    "                ans += self.dfs(V,adj,j,visited)\n",
    "        \n",
    "        return ans\n",
    "    \n",
    "    def dfsOfGraph(self, V, adj):\n",
    "        visited = [0] * V\n",
    "        ans = []\n",
    "        \n",
    "        # Call DFS for all components\n",
    "        for i in range(V):\n",
    "            if visited[i] == 0:\n",
    "                ans += self.dfs(V,adj,i,visited)\n",
    "        \n",
    "        return ans"
   ]
  },
  {
   "cell_type": "code",
   "execution_count": 45,
   "id": "f26411b9",
   "metadata": {},
   "outputs": [
    {
     "data": {
      "text/plain": [
       "[0, 2, 4, 3, 1]"
      ]
     },
     "execution_count": 45,
     "metadata": {},
     "output_type": "execute_result"
    }
   ],
   "source": [
    "adj = [[2, 3, 1], [0], [0, 4], [0], [2], []]\n",
    "V = 5\n",
    "s = Solution()\n",
    "s.dfsOfGraph(V,adj)\n",
    "\n",
    "\"\"\"\n",
    "Input: \n",
    "5 4\n",
    "0 2\n",
    "0 3\n",
    "0 1\n",
    "2 4\n",
    "\"\"\""
   ]
  },
  {
   "cell_type": "code",
   "execution_count": null,
   "id": "61743788",
   "metadata": {},
   "outputs": [],
   "source": []
  },
  {
   "cell_type": "markdown",
   "id": "0d9c7de9",
   "metadata": {},
   "source": [
    "### 1. Buy sell stock at most k times"
   ]
  },
  {
   "cell_type": "code",
   "execution_count": 2,
   "id": "2b3f9722",
   "metadata": {},
   "outputs": [],
   "source": [
    "class Solution:\n",
    "    def maxProfit(self, k, arr):\n",
    "        dp = [[[0 for i in range(k+1)] for j in range(2)] for m in range(len(arr)+1)]\n",
    "        \n",
    "        n = len(arr)\n",
    "        cap = k\n",
    "        for i in range(n-1,-1,-1):\n",
    "            for buy in range(2):\n",
    "                for cap in range(1,k+1):\n",
    "                    if buy == 1:\n",
    "                        x = dp[i+1][0][cap] - arr[i]\n",
    "                        y = dp[i+1][1][cap] + 0\n",
    "                    else:\n",
    "                        x = dp[i+1][1][cap-1] + arr[i]\n",
    "                        y = dp[i+1][0][cap] + 0\n",
    "                    dp[i][buy][cap] = max(x,y)\n",
    "        \n",
    "        return dp[0][1][k]"
   ]
  },
  {
   "cell_type": "code",
   "execution_count": null,
   "id": "4706a165",
   "metadata": {},
   "outputs": [],
   "source": []
  },
  {
   "cell_type": "code",
   "execution_count": 5,
   "id": "eb602813",
   "metadata": {},
   "outputs": [
    {
     "data": {
      "text/plain": [
       "'c'"
      ]
     },
     "execution_count": 5,
     "metadata": {},
     "output_type": "execute_result"
    }
   ],
   "source": [
    "chr(ord('a')+2)"
   ]
  },
  {
   "cell_type": "code",
   "execution_count": null,
   "id": "3e6bd66c",
   "metadata": {},
   "outputs": [],
   "source": []
  },
  {
   "cell_type": "markdown",
   "id": "6bdebc6d",
   "metadata": {},
   "source": [
    "### 2. Encode it:"
   ]
  },
  {
   "cell_type": "code",
   "execution_count": 6,
   "id": "4fb676e7",
   "metadata": {},
   "outputs": [],
   "source": [
    "def cipherText(s):\n",
    "    i = 0\n",
    "    hash_map = {}\n",
    "    \n",
    "    for l in s:\n",
    "        if l not in hash_map:\n",
    "            hash_map[l] = chr(ord('a')+i)\n",
    "            i += 1\n",
    "    \n",
    "    ans = \"\"\n",
    "    for i in s:\n",
    "        ans += hash_map[i]\n",
    "    \n",
    "    return ans"
   ]
  },
  {
   "cell_type": "code",
   "execution_count": 7,
   "id": "581226fb",
   "metadata": {},
   "outputs": [
    {
     "data": {
      "text/plain": [
       "'abccd'"
      ]
     },
     "execution_count": 7,
     "metadata": {},
     "output_type": "execute_result"
    }
   ],
   "source": [
    "cipherText('HELLO')"
   ]
  },
  {
   "cell_type": "code",
   "execution_count": null,
   "id": "51c67249",
   "metadata": {},
   "outputs": [],
   "source": []
  },
  {
   "cell_type": "markdown",
   "id": "8d425ee1",
   "metadata": {},
   "source": [
    "### 3. Another Cruel boss"
   ]
  },
  {
   "cell_type": "code",
   "execution_count": 22,
   "id": "3cde66cf",
   "metadata": {},
   "outputs": [],
   "source": [
    "def solve(n):\n",
    "    table = [0 for i in range(n+1)]\n",
    "    \n",
    "    table[0] = 0\n",
    "    table[1] = 1\n",
    "    table[2] = 1\n",
    "    table[3] = 2\n",
    "    \n",
    "    for i in range(4,n+1):\n",
    "        table[i] = table[i-3] + table[i-1]\n",
    "    \n",
    "    return table[n]"
   ]
  },
  {
   "cell_type": "code",
   "execution_count": 23,
   "id": "a2273c0d",
   "metadata": {},
   "outputs": [
    {
     "name": "stdout",
     "output_type": "stream",
     "text": [
      "3\n",
      "6\n"
     ]
    }
   ],
   "source": [
    "print(solve(4))\n",
    "print(solve(6))"
   ]
  },
  {
   "cell_type": "code",
   "execution_count": null,
   "id": "caa09460",
   "metadata": {},
   "outputs": [],
   "source": []
  },
  {
   "cell_type": "markdown",
   "id": "cf98f4dd",
   "metadata": {},
   "source": [
    "### 4. Minimum Deletions to Make Character Frequencies Unique"
   ]
  },
  {
   "cell_type": "code",
   "execution_count": null,
   "id": "c7e0270a",
   "metadata": {},
   "outputs": [],
   "source": [
    "class Solution:\n",
    "    def minDeletions(self, s: str) -> int:\n",
    "        hash_map = {}\n",
    "        for i in s:\n",
    "            if i in hash_map:\n",
    "                hash_map[i] += 1\n",
    "            else:\n",
    "                hash_map[i] = 1\n",
    "\n",
    "        ans = 0\n",
    "        check = set()\n",
    "        \n",
    "        for i in hash_map:\n",
    "            value = hash_map[i]\n",
    "            while value > 0 and value in check:\n",
    "                value -= 1\n",
    "                ans += 1\n",
    "            check.add(value)\n",
    "        return ans"
   ]
  },
  {
   "cell_type": "code",
   "execution_count": null,
   "id": "90139ab9",
   "metadata": {},
   "outputs": [],
   "source": []
  },
  {
   "cell_type": "markdown",
   "id": "ba01bd12",
   "metadata": {},
   "source": [
    "### 5. Possible bipartition"
   ]
  },
  {
   "cell_type": "code",
   "execution_count": 10,
   "id": "a497212c",
   "metadata": {},
   "outputs": [],
   "source": [
    "class Solution:\n",
    "    def possibleBipartition(self, n, dislikes):\n",
    "        hash_map = [[] for i in range(n)]\n",
    "        \n",
    "        for i, j in dislikes:\n",
    "            hash_map[i-1].append(j-1)\n",
    "            hash_map[j-1].append(i-1)\n",
    "\n",
    "        ans = [0 for i in range(n)]\n",
    "        \n",
    "        for i in range(n):\n",
    "            if ans[i] == 0:\n",
    "                ans[i] = 1\n",
    "                q = deque([i])\n",
    "                \n",
    "                while len(q) > 0:\n",
    "                    a = q.pop()\n",
    "                    for j in hash_map[a]:\n",
    "                        if ans[j] == 0:\n",
    "                            if ans[a] == 2:\n",
    "                                ans[j] = 1\n",
    "                            else:\n",
    "                                ans[j] = 2\n",
    "                            \n",
    "                            q.appendleft(j)\n",
    "                        \n",
    "                        elif ans[a] == ans[j]:\n",
    "                            return False\n",
    "        return True"
   ]
  },
  {
   "cell_type": "code",
   "execution_count": null,
   "id": "e6abc8d8",
   "metadata": {},
   "outputs": [],
   "source": []
  },
  {
   "cell_type": "markdown",
   "id": "6077f406",
   "metadata": {},
   "source": [
    "### 6. Remove the frequency characters"
   ]
  },
  {
   "cell_type": "code",
   "execution_count": 14,
   "id": "a3fa1f06",
   "metadata": {},
   "outputs": [],
   "source": [
    "def removeFreq(s):\n",
    "    hash_map = {}\n",
    "    check = {}\n",
    "    n = len(s)\n",
    "    for i in s:\n",
    "        if i in hash_map:\n",
    "            hash_map[i] += 1\n",
    "        else:\n",
    "            hash_map[i] = 1\n",
    "    \n",
    "    ans = \"\"\n",
    "    for i in range(n):\n",
    "        if s[i] in check:\n",
    "            check[s[i]] += 1\n",
    "        else:\n",
    "            check[s[i]] = 1\n",
    "        \n",
    "        \n",
    "        if hash_map[s[i]] %2 == 1:\n",
    "            mid = (hash_map[s[i]]//2) + 1\n",
    "            if check[s[i]] == mid:\n",
    "                continue\n",
    "            else:\n",
    "                ans += s[i]\n",
    "        else:\n",
    "            mid1 = hash_map[s[i]] // 2\n",
    "            mid2 = (hash_map[s[i]] // 2) + 1\n",
    "            \n",
    "            if check[s[i]] == mid1 or check[s[i]] == mid2:\n",
    "                continue\n",
    "            else:\n",
    "                ans += s[i]\n",
    "    \n",
    "    return ans"
   ]
  },
  {
   "cell_type": "code",
   "execution_count": 15,
   "id": "72686996",
   "metadata": {},
   "outputs": [
    {
     "data": {
      "text/plain": [
       "'abcdeedcba'"
      ]
     },
     "execution_count": 15,
     "metadata": {},
     "output_type": "execute_result"
    }
   ],
   "source": [
    "removeFreq('abcdeabcdedcbaedcba')"
   ]
  },
  {
   "cell_type": "code",
   "execution_count": null,
   "id": "84866412",
   "metadata": {},
   "outputs": [],
   "source": []
  },
  {
   "cell_type": "markdown",
   "id": "94aff881",
   "metadata": {},
   "source": [
    "### 7. buying parts"
   ]
  },
  {
   "cell_type": "code",
   "execution_count": 24,
   "id": "8b03a8ea",
   "metadata": {},
   "outputs": [],
   "source": [
    "# Find k smallest pair distance"
   ]
  },
  {
   "cell_type": "code",
   "execution_count": 25,
   "id": "c3520913",
   "metadata": {},
   "outputs": [],
   "source": [
    "class Solution:\n",
    "\n",
    "    def check(self,mid,nums,n):\n",
    "        i, count = 0, 0\n",
    "        \n",
    "        for j in range(n):\n",
    "            while nums[j] - nums[i] > mid:\n",
    "                i = i + 1\n",
    "            \n",
    "            count = count + (j - i)\n",
    "\n",
    "        return count\n",
    "\n",
    "    def smallestDistancePair(self, nums, k):\n",
    "        \n",
    "        nums.sort()\n",
    "        left = 0\n",
    "        right = nums[-1] - nums[0]\n",
    "        n = len(nums)\n",
    "        \n",
    "        while left < right:\n",
    "            mid = (left + right)//2\n",
    "            \n",
    "            if self.check(mid,nums,n) >= k:\n",
    "                right = mid\n",
    "            else:\n",
    "                left = mid + 1\n",
    "\n",
    "        return left"
   ]
  },
  {
   "cell_type": "code",
   "execution_count": null,
   "id": "7b7b5fa1",
   "metadata": {},
   "outputs": [],
   "source": []
  },
  {
   "cell_type": "markdown",
   "id": "c9199730",
   "metadata": {},
   "source": [
    "### 8. Noah traveller"
   ]
  },
  {
   "cell_type": "code",
   "execution_count": 9,
   "id": "862bacb0",
   "metadata": {},
   "outputs": [],
   "source": [
    "\"\"\"\n",
    "def dfs(adj,curr,visited,path):\n",
    "    visited[curr] = 1\n",
    "    path.append(curr)\n",
    "    if curr not in adj:\n",
    "        return\n",
    "    for i in adj[curr]:\n",
    "        if visited[i] == 0:\n",
    "            dfs(adj,i,visited,path)\n",
    "    return\n",
    "\"\"\"\n",
    "\n",
    "\n",
    "from collections import deque\n",
    "\n",
    "def bfs(adj,i,visited,path):\n",
    "    q = deque()\n",
    "    q.append(i)\n",
    "    visited[i] = 1\n",
    "\n",
    "    while len(q):\n",
    "        node = q.popleft()\n",
    "        path.append(node)\n",
    "\n",
    "        if node not in adj:\n",
    "            continue\n",
    "\n",
    "        edges = adj[node]\n",
    "        for j in edges:\n",
    "            if visited[j] == 0:\n",
    "                q.append(j)\n",
    "                visited[j] = 1\n",
    "\n",
    "\n",
    "def pathtravel(a,src):\n",
    "    \n",
    "    adj = {}\n",
    "    visited = {}\n",
    "    \n",
    "    for i in a:\n",
    "        if i[0] in adj:\n",
    "            adj[i[0]].append(i[1])\n",
    "        else:\n",
    "            adj[i[0]] = [i[1]]\n",
    "        \n",
    "        if i[0] not in visited:\n",
    "            visited[i[0]] = 0\n",
    "        if i[1] not in visited:\n",
    "            visited[i[1]] = 0\n",
    "    \n",
    "    path = []\n",
    "    bfs(adj,src,visited,path)\n",
    "    return path"
   ]
  },
  {
   "cell_type": "code",
   "execution_count": 10,
   "id": "cb284f53",
   "metadata": {},
   "outputs": [
    {
     "data": {
      "text/plain": [
       "['Bangalore', 'Hyderabad', 'Chennai', 'Mumbai', 'Delhi', 'Kerala']"
      ]
     },
     "execution_count": 10,
     "metadata": {},
     "output_type": "execute_result"
    }
   ],
   "source": [
    "adj = [['Bangalore', 'Hyderabad'],['Bangalore', 'Chennai'],['Hyderabad', 'Mumbai'],['Hyderabad', 'Delhi'],['Chennai', 'Kerala']]\n",
    "pathtravel(adj,'Bangalore')"
   ]
  },
  {
   "cell_type": "code",
   "execution_count": null,
   "id": "9391e486",
   "metadata": {},
   "outputs": [],
   "source": []
  },
  {
   "cell_type": "markdown",
   "id": "ce074507",
   "metadata": {},
   "source": [
    "### 9. War lane"
   ]
  },
  {
   "cell_type": "code",
   "execution_count": 3,
   "id": "27c78e23",
   "metadata": {},
   "outputs": [],
   "source": [
    "import math\n",
    "class Solution:\n",
    "    def solve(self, arr,L,N):\n",
    "        arr.sort()\n",
    "        diff = 0\n",
    "        for i in range(N):\n",
    "            if i == 0:\n",
    "                if arr[i] > diff:\n",
    "                    diff = arr[i]\n",
    "                \n",
    "                if i == N-1:\n",
    "                    if L-A[i] > diff:\n",
    "                        diff = L-arr[i]\n",
    "                else:\n",
    "                    if math.ceil((arr[i+1]-arr[i])/2) > diff:\n",
    "                        diff = math.ceil((arr[i+1]-arr[i])/2)\n",
    "            \n",
    "            elif i == N-1:\n",
    "                if L-arr[i] > diff:\n",
    "                    diff = L-arr[i]\n",
    "            else:\n",
    "                if math.ceil((arr[i+1]-arr[i])/2) > diff:\n",
    "                        diff = math.ceil((arr[i+1]-arr[i])/2)\n",
    "        \n",
    "        return diff"
   ]
  },
  {
   "cell_type": "code",
   "execution_count": 5,
   "id": "856ebe86",
   "metadata": {},
   "outputs": [
    {
     "name": "stdout",
     "output_type": "stream",
     "text": [
      "4 6\n",
      "1 4 4 6\n",
      "2\n"
     ]
    }
   ],
   "source": [
    "N,L = map(int,input().split(' '))\n",
    "nums = list(map(int, input().split()))\n",
    "ob = Solution()\n",
    "#N = 4\n",
    "#L = 6\n",
    "#nums = [1,4,4,6]\n",
    "print(ob.solve(nums,L,N))"
   ]
  },
  {
   "cell_type": "code",
   "execution_count": null,
   "id": "b8314cf6",
   "metadata": {},
   "outputs": [],
   "source": []
  },
  {
   "cell_type": "raw",
   "id": "52e757cd",
   "metadata": {},
   "source": [
    "11. Clean the village\n",
    "12. jack sparrow"
   ]
  },
  {
   "cell_type": "code",
   "execution_count": null,
   "id": "d63db1fd",
   "metadata": {},
   "outputs": [],
   "source": []
  },
  {
   "cell_type": "markdown",
   "id": "00068836",
   "metadata": {},
   "source": [
    "### 10. Divide and conquer"
   ]
  },
  {
   "cell_type": "code",
   "execution_count": 11,
   "id": "6a08c83a",
   "metadata": {},
   "outputs": [],
   "source": [
    "# Here find the max size of connected components, that will be the ans"
   ]
  },
  {
   "cell_type": "code",
   "execution_count": 25,
   "id": "01ffe75d",
   "metadata": {},
   "outputs": [],
   "source": [
    "class solution():\n",
    "    def __init__(self):\n",
    "        self.count = 0\n",
    "\n",
    "    def dfs(self,i,adj,visited):\n",
    "        visited[i] = 1\n",
    "        edges = adj[i]\n",
    "        self.count += 1\n",
    "        \n",
    "        for j in edges:\n",
    "            if visited[j] == 1:\n",
    "                continue\n",
    "            self.dfs(j,adj,visited)\n",
    "        \n",
    "    def min_classes(self,n,m,a,b):\n",
    "        adj = {}\n",
    "        visited = {}\n",
    "        for i in range(n):\n",
    "            adj[i+1] = []\n",
    "            visited[i+1] = 0\n",
    "\n",
    "        for i in range(m):\n",
    "            adj[a[i]].append(b[i])\n",
    "            adj[b[i]].append(a[i])\n",
    "\n",
    "        ans = float('-inf')\n",
    "        for i in range(1,n+1):\n",
    "            self.count = 0\n",
    "            if visited[i] == 1:\n",
    "                continue\n",
    "\n",
    "            self.dfs(i,adj,visited)\n",
    "            \n",
    "            ans = max(self.count, ans)\n",
    "        return ans"
   ]
  },
  {
   "cell_type": "code",
   "execution_count": 26,
   "id": "a51a91d3",
   "metadata": {},
   "outputs": [
    {
     "name": "stdout",
     "output_type": "stream",
     "text": [
      "3\n",
      "4\n"
     ]
    }
   ],
   "source": [
    "n = 5   # total person\n",
    "m = 3   # total relation\n",
    "a = [2,4,1]\n",
    "b = [1,3,5]\n",
    "s = solution()\n",
    "print(s.min_classes(n,m,a,b))\n",
    "\n",
    "\n",
    "n = 7   # total person\n",
    "m = 7   # total relation\n",
    "a = [1,2,3,5,7,6,4]\n",
    "b = [2,3,4,6,6,7,3]\n",
    "s = solution()\n",
    "print(s.min_classes(n,m,a,b))"
   ]
  },
  {
   "cell_type": "code",
   "execution_count": null,
   "id": "ea2e4646",
   "metadata": {},
   "outputs": [],
   "source": []
  },
  {
   "cell_type": "markdown",
   "id": "63125c0c",
   "metadata": {},
   "source": [
    "### 11. Clean the village "
   ]
  },
  {
   "cell_type": "code",
   "execution_count": 43,
   "id": "a5f0a067",
   "metadata": {},
   "outputs": [],
   "source": [
    "class solution():\n",
    "    def __init__(self):\n",
    "        pass\n",
    "    \n",
    "    \n",
    "    def clean(self,n,m,a):\n",
    "        start = 0\n",
    "        ans = float('inf')\n",
    "        \n",
    "        for i in range(n):\n",
    "            if i >= (m-1):\n",
    "                curr = a[i] - a[start]\n",
    "                ans = min(ans, min(curr + abs(a[start]), curr + abs(a[i])))\n",
    "                start += 1\n",
    "        \n",
    "        return ans\n",
    "        \n",
    "        "
   ]
  },
  {
   "cell_type": "code",
   "execution_count": 44,
   "id": "5b7128b5",
   "metadata": {},
   "outputs": [
    {
     "data": {
      "text/plain": [
       "40"
      ]
     },
     "execution_count": 44,
     "metadata": {},
     "output_type": "execute_result"
    }
   ],
   "source": [
    "n = 5\n",
    "m = 3\n",
    "a = [-35,-10,10,20,40]\n",
    "s = solution()\n",
    "s.clean(n,m,a)     # take care, m and n has been switched"
   ]
  },
  {
   "cell_type": "code",
   "execution_count": 45,
   "id": "23da3e8c",
   "metadata": {},
   "outputs": [
    {
     "data": {
      "text/plain": [
       "20"
      ]
     },
     "execution_count": 45,
     "metadata": {},
     "output_type": "execute_result"
    }
   ],
   "source": [
    "n = 7\n",
    "m = 3\n",
    "a = [-35,-10,-5,5,10,20,40]\n",
    "s = solution()\n",
    "s.clean(n,m,a)"
   ]
  },
  {
   "cell_type": "code",
   "execution_count": null,
   "id": "751e427f",
   "metadata": {},
   "outputs": [],
   "source": []
  },
  {
   "cell_type": "markdown",
   "id": "40ada2ca",
   "metadata": {},
   "source": [
    "### 12. jack sparrow"
   ]
  },
  {
   "cell_type": "code",
   "execution_count": 53,
   "id": "72a2f075",
   "metadata": {},
   "outputs": [],
   "source": [
    "class soution():\n",
    "    def __init__(self):\n",
    "        self.count = 0\n",
    "\n",
    "    def dfs(self,i,adj,visited,color):\n",
    "        visited[i] = 1\n",
    "        self.count += 1\n",
    "        \n",
    "        edge = adj[i]\n",
    "        for j in edge:\n",
    "            if visited[j] == 0 and color[j-1] == color[i-1]:\n",
    "                self.dfs(j,adj,visited,color)\n",
    "        \n",
    "    def solve(self,n,k,color,edges):\n",
    "        adj = {}\n",
    "        visited = {}\n",
    "        \n",
    "        for i in range(n):\n",
    "            adj[i+1] = []\n",
    "            visited[i+1] = 0\n",
    "        \n",
    "        for i in range(len(edges)):\n",
    "            x = edges[i][0]\n",
    "            y = edges[i][1]\n",
    "\n",
    "            adj[x].append(y)\n",
    "            adj[y].append(x)\n",
    "\n",
    "\n",
    "        ans = float('-inf')\n",
    "        for i in range(1,n+1):\n",
    "            self.count = 0\n",
    "            if visited[i] == 0:\n",
    "                self.dfs(i,adj,visited,color)\n",
    "            ans = max(ans,self.count)\n",
    "            \n",
    "        return ans"
   ]
  },
  {
   "cell_type": "code",
   "execution_count": 55,
   "id": "ac0b6640",
   "metadata": {},
   "outputs": [
    {
     "data": {
      "text/plain": [
       "4"
      ]
     },
     "execution_count": 55,
     "metadata": {},
     "output_type": "execute_result"
    }
   ],
   "source": [
    "n = 9\n",
    "k = 3\n",
    "color = [1,1,1,3,3,2,2,3,3]\n",
    "edges = [[1,2],[1,3],[2,4],[4,5],[3,6],[3,7],[5,8],[5,9]]\n",
    "s = soution()\n",
    "s.solve(n,k,color,edges)"
   ]
  },
  {
   "cell_type": "code",
   "execution_count": 1,
   "id": "6e986673",
   "metadata": {},
   "outputs": [
    {
     "name": "stdout",
     "output_type": "stream",
     "text": [
      "9 3\n"
     ]
    }
   ],
   "source": [
    "x = input()"
   ]
  },
  {
   "cell_type": "code",
   "execution_count": 5,
   "id": "f5b1608e",
   "metadata": {},
   "outputs": [
    {
     "name": "stdout",
     "output_type": "stream",
     "text": [
      "9 3\n",
      "1 1 1 3 3 2 2 3 3\n"
     ]
    }
   ],
   "source": [
    "n,k = map(int,input().split(' '))\n",
    "color = list(map(int, input().split()))"
   ]
  },
  {
   "cell_type": "code",
   "execution_count": 6,
   "id": "2e4c20f6",
   "metadata": {},
   "outputs": [
    {
     "name": "stdout",
     "output_type": "stream",
     "text": [
      "9\n",
      "3\n",
      "[1, 1, 1, 3, 3, 2, 2, 3, 3]\n"
     ]
    }
   ],
   "source": [
    "#print(n)\n",
    "#print(k)\n",
    "#print(color)"
   ]
  },
  {
   "cell_type": "code",
   "execution_count": 7,
   "id": "12b5e16e",
   "metadata": {},
   "outputs": [
    {
     "name": "stdout",
     "output_type": "stream",
     "text": [
      "1 2\n",
      "1 3\n",
      "2 4\n",
      "4 5\n",
      "3 6\n",
      "3 7\n",
      "5 8\n",
      "5 9\n"
     ]
    },
    {
     "data": {
      "text/plain": [
       "[[1, 2], [1, 3], [2, 4], [4, 5], [3, 6], [3, 7], [5, 8], [5, 9]]"
      ]
     },
     "execution_count": 7,
     "metadata": {},
     "output_type": "execute_result"
    }
   ],
   "source": [
    "edges = []\n",
    "for i in range(n-1):\n",
    "    e = list(map(int, input().split()))\n",
    "    edges.append(e)\n"
   ]
  },
  {
   "cell_type": "code",
   "execution_count": 8,
   "id": "ba595d8d",
   "metadata": {},
   "outputs": [
    {
     "name": "stdout",
     "output_type": "stream",
     "text": [
      "[[1, 2], [1, 3], [2, 4], [4, 5], [3, 6], [3, 7], [5, 8], [5, 9]]\n"
     ]
    }
   ],
   "source": [
    "print(edges)"
   ]
  },
  {
   "cell_type": "code",
   "execution_count": null,
   "id": "3337daf8",
   "metadata": {},
   "outputs": [],
   "source": []
  },
  {
   "cell_type": "markdown",
   "id": "d3a65ce3",
   "metadata": {},
   "source": [
    "### 13. Max unity"
   ]
  },
  {
   "cell_type": "code",
   "execution_count": 31,
   "id": "84394b22",
   "metadata": {},
   "outputs": [],
   "source": [
    "class solution():\n",
    "    def __init__(self):\n",
    "        self.count = 0\n",
    "    \n",
    "    def dfs(self,i,adj,visited):\n",
    "        visited[i] = 1\n",
    "        edges = adj[i]\n",
    "        self.count += 1\n",
    "        \n",
    "        for j in edges:\n",
    "            if visited[j] == 1:\n",
    "                continue\n",
    "            self.dfs(j,adj,visited)\n",
    "    \n",
    "    def maxUnity(self,n,a1,a2,q,q1):\n",
    "        adj = {}\n",
    "        visited = {}\n",
    "        \n",
    "        for i in range(n):\n",
    "            adj[i+1] = []\n",
    "            visited[i+1] = 0\n",
    "        \n",
    "        for i in range(len(a1)):\n",
    "            adj[a1[i]].append(a2[i])\n",
    "            adj[a2[i]].append(a1[i])\n",
    "        \n",
    "        #print(adj)\n",
    "        res = []\n",
    "        for i in range(q):\n",
    "            x = q1[i][0]\n",
    "            y = q1[i][1]\n",
    "            \n",
    "            for j in range(n):\n",
    "                visited[j+1] = 0\n",
    "            \n",
    "            if y in adj[x]:\n",
    "                adj[x].remove(y)\n",
    "            if x in adj[y]:\n",
    "                adj[y].remove(x)\n",
    "                \n",
    "            ans = float('-inf')\n",
    "            for i in range(1,n+1):\n",
    "                self.count = 0\n",
    "                if visited[i] == 1:\n",
    "                    continue\n",
    "\n",
    "                self.dfs(i,adj,visited)\n",
    "\n",
    "                ans = max(self.count, ans)\n",
    "            \n",
    "            res.append(ans)\n",
    "            \n",
    "        return res"
   ]
  },
  {
   "cell_type": "code",
   "execution_count": 32,
   "id": "70e841cf",
   "metadata": {},
   "outputs": [
    {
     "data": {
      "text/plain": [
       "[3, 2]"
      ]
     },
     "execution_count": 32,
     "metadata": {},
     "output_type": "execute_result"
    }
   ],
   "source": [
    "n = 5\n",
    "a1 = [1,3,3,5]\n",
    "a2 = [3,2,4,1]\n",
    "q = 2\n",
    "q1 = [[1,3],[3,4]]\n",
    "s = solution()\n",
    "s.maxUnity(n,a1,a2,q,q1)"
   ]
  },
  {
   "cell_type": "code",
   "execution_count": 33,
   "id": "49576af1",
   "metadata": {},
   "outputs": [
    {
     "data": {
      "text/plain": [
       "[6, 6, 3, 3, 2]"
      ]
     },
     "execution_count": 33,
     "metadata": {},
     "output_type": "execute_result"
    }
   ],
   "source": [
    "n = 10\n",
    "a1 = [1,3,3,5,5,6,6,1,4]\n",
    "a2 = [3,2,4,1,6,8,9,7,10]\n",
    "q = 5\n",
    "q1 = [[1,3],[3,4],[5,6],[6,9],[1,7]]\n",
    "s = solution()\n",
    "s.maxUnity(n,a1,a2,q,q1)"
   ]
  },
  {
   "cell_type": "code",
   "execution_count": null,
   "id": "ac90746e",
   "metadata": {},
   "outputs": [],
   "source": []
  },
  {
   "cell_type": "markdown",
   "id": "4a3812e7",
   "metadata": {},
   "source": [
    "### 14. valid Sudoku"
   ]
  },
  {
   "cell_type": "code",
   "execution_count": 15,
   "id": "4b8d573f",
   "metadata": {},
   "outputs": [],
   "source": [
    "class Solution:\n",
    "    def isValidSudoku(self, board):\n",
    "        grid = [[set() for i in range(3)] for j in range(3)]\n",
    "        rows = [set() for i in range(9)]\n",
    "        columns = [set() for i in range(9)]\n",
    "        \n",
    "        \n",
    "        for i in range(9):\n",
    "            for j in range(9):\n",
    "                curr = board[i][j]\n",
    "                if curr == \".\":\n",
    "                    continue\n",
    "                \n",
    "                if curr in rows[i] or curr in columns[j] or curr in grid[i//3][j//3]:\n",
    "                    return False\n",
    "\n",
    "                grid[i//3][j//3].add(curr)\n",
    "                rows[i].add(curr)\n",
    "                columns[j].add(curr)\n",
    "                \n",
    "        \n",
    "        return True\n",
    "\n",
    "#modify a code bit "
   ]
  },
  {
   "cell_type": "code",
   "execution_count": 16,
   "id": "1bb2f34b",
   "metadata": {},
   "outputs": [
    {
     "data": {
      "text/plain": [
       "True"
      ]
     },
     "execution_count": 16,
     "metadata": {},
     "output_type": "execute_result"
    }
   ],
   "source": [
    "board = [[\"5\",\"3\",\".\",\".\",\"7\",\".\",\".\",\".\",\".\"],[\"6\",\".\",\".\",\"1\",\"9\",\"5\",\".\",\".\",\".\"],[\".\",\"9\",\"8\",\".\",\".\",\".\",\".\",\"6\",\".\"],[\"8\",\".\",\".\",\".\",\"6\",\".\",\".\",\".\",\"3\"],[\"4\",\".\",\".\",\"8\",\".\",\"3\",\".\",\".\",\"1\"],[\"7\",\".\",\".\",\".\",\"2\",\".\",\".\",\".\",\"6\"],[\".\",\"6\",\".\",\".\",\".\",\".\",\"2\",\"8\",\".\"],[\".\",\".\",\".\",\"4\",\"1\",\"9\",\".\",\".\",\"5\"],[\".\",\".\",\".\",\".\",\"8\",\".\",\".\",\"7\",\"9\"]]\n",
    "s = Solution()\n",
    "s.isValidSudoku(board)"
   ]
  },
  {
   "cell_type": "code",
   "execution_count": null,
   "id": "6b937b21",
   "metadata": {},
   "outputs": [],
   "source": []
  },
  {
   "cell_type": "code",
   "execution_count": null,
   "id": "22f9bd94",
   "metadata": {},
   "outputs": [],
   "source": [
    "#include <bits/stdc++.h>\n",
    "using namespace std;\n",
    "\n",
    "#define ll long long\n",
    "#define MAXN 100010\n",
    "#define SIGMA 26\n",
    " \n",
    "int s[MAXN], len[MAXN], link[MAXN], to[MAXN][SIGMA];\n",
    "int n, last, sz, res;\n",
    " \n",
    "void init()\n",
    "{\n",
    "    s[n++] = -1;\n",
    "    link[0] = 1;\n",
    "    len[1] = -1;\n",
    "    sz = 2;\n",
    "}\n",
    " \n",
    "int getLink(int v)\n",
    "{\n",
    "    while(s[n-len[v]-2] != s[n-1])\n",
    "\t\tv = link[v];\n",
    "    return v;\n",
    "}\n",
    " \n",
    "void addLetter(int c)\n",
    "{\n",
    "    s[n++] = c;\n",
    "    last = getLink(last);\n",
    "    if(!to[last][c])\n",
    "    {\n",
    "        len [sz] = len[last] + 2;\n",
    "        res = max(res, len[sz]);\n",
    "        link[sz] = to[getLink(link[last])][c];\n",
    "        to[last][c] = sz++;\n",
    "    }\n",
    "    last = to[last][c];\n",
    "}\n",
    "\n",
    "char str[MAXN];\n",
    "int strLength;\n",
    "\n",
    "int main()\n",
    "{\n",
    "\tinit();\n",
    "\tscanf(\"%d\", &strLength);\n",
    "\tscanf(\"%s\", str);\n",
    "\tfor(int i=0;i<strLength;++i)\n",
    "\t{\n",
    "\t\taddLetter(str[i]-'a');\n",
    "\t\tprintf(\"%d \",res);\n",
    "\t}\n",
    "\treturn 0;\n",
    "}"
   ]
  },
  {
   "cell_type": "code",
   "execution_count": null,
   "id": "e3627845",
   "metadata": {},
   "outputs": [],
   "source": []
  },
  {
   "cell_type": "code",
   "execution_count": null,
   "id": "98a47627",
   "metadata": {},
   "outputs": [],
   "source": []
  },
  {
   "cell_type": "code",
   "execution_count": null,
   "id": "ea824d9d",
   "metadata": {},
   "outputs": [],
   "source": []
  },
  {
   "cell_type": "code",
   "execution_count": null,
   "id": "99360491",
   "metadata": {},
   "outputs": [],
   "source": [
    "const int mod = 1000000007;\n",
    "//const int mod = 998244353;\n",
    "const int INF = 1000000000000000000;//LLONG_MAX;\n",
    "const int NEGINF = -INF;\n",
    "//const int N = 18;\n",
    "\n",
    "\n",
    "int n;\n",
    "int t[200001];\n",
    "\n",
    "void modify(int p, int value) {\n",
    "\tfor (t[p += n] = value; p > 1; p >>= 1) t[p >> 1] = (t[p] ^ t[p ^ 1]);\n",
    "}\n",
    "\n",
    "\n",
    "int query(int l, int r) {\n",
    "\tint res = 0;\n",
    "\tfor (l += n, r += n; l < r; l >>= 1, r >>= 1) {\n",
    "\t\tif (l % 2) res ^= t[l++];\n",
    "\t\tif (r % 2) res ^= t[--r];\n",
    "\t}\n",
    "\treturn res;\n",
    "}\n",
    "\n",
    "void solve(int tt)\n",
    "{\n",
    "\tcin >> n;\n",
    "\tassert(n >= 1 and n <= 100000);\n",
    "\n",
    "\tint a[n] = {0};\n",
    "\tfor (int i = 0; i < n; i++)\n",
    "\t{\n",
    "\t\tstring s;\n",
    "\t\tcin >> s;\n",
    "\t\tint x = s.length();\n",
    "\t\tassert(x >= 1 and x <= 26);\n",
    "\n",
    "\t\tfor (int j = 0; j < x; j++)\n",
    "\t\t{\n",
    "\t\t\tchar ch = s[j];\n",
    "\t\t\tint num = (ch - 'a');\n",
    "\t\t\ta[i] |= (1ll << num);\n",
    "\t\t}\n",
    "\t\tt[n + i] = a[i];\n",
    "\t}\n",
    "\n",
    "\tfor (int i = n - 1; i > 0; --i) t[i] = (t[2 * i] ^ t[(2 * i) + 1]);\n",
    "\n",
    "\tint q;\n",
    "\tcin >> q;\n",
    "\tassert(q >= 1 and q <= 100000);\n",
    "\n",
    "\tvector<int> ans;\n",
    "\n",
    "\twhile (q--)\n",
    "\t{\n",
    "\t\tint type;\n",
    "\t\tcin >> type;\n",
    "\t\tassert(type >= 1 and type <= 3);\n",
    "\n",
    "\t\tif (type == 1)\n",
    "\t\t{\n",
    "\t\t\tint l;\n",
    "\t\t\tint r;\n",
    "\t\t\tcin >> l >> r;\n",
    "\n",
    "\t\t\tassert(l >= 1 and l <= n);\n",
    "\t\t\tassert(r >= 1 and r <= n);\n",
    "\t\t\tassert(l <= r);\n",
    "\n",
    "\t\t\tl--;\n",
    "\t\t\tans.pb(bits(query(l, r)));\n",
    "\t\t\tcontinue;\n",
    "\t\t}\n",
    "\n",
    "\t\tint num;\n",
    "\t\tint d;\n",
    "\n",
    "\t\tcin >> d >> num;\n",
    "\n",
    "\t\tassert(d >= 1 and d <= 26);\n",
    "\t\tassert(num >= 1 and num <= n);\n",
    "\n",
    "\t\td--;\n",
    "\t\tnum--;\n",
    "\n",
    "\n",
    "\n",
    "\n",
    "\t\tif (type == 2)\n",
    "\t\t{\n",
    "\t\t\tint x = (1ll << d);\n",
    "\n",
    "\t\t\tint val = (t[n + num] ^ x);\n",
    "\t\t\tmodify(num, val);\n",
    "\n",
    "\t\t\tcontinue;\n",
    "\t\t}\n",
    "\t\tif (type == 3)\n",
    "\t\t{\n",
    "\t\t\tint x = (1ll << d);\n",
    "\t\t\tint val = (t[n + num] | x);\n",
    "\t\t\tmodify(num, val);\n",
    "\t\t\tcontinue;\n",
    "\t\t}\n",
    "\t}\n",
    "\n",
    "\n",
    "\tcout << ans[0];\n",
    "\tfor (int i = 1; i < ans.size(); i++)\n",
    "\t{\n",
    "\t\tcout << \" \" << ans[i];\n",
    "\t}\n",
    "\n",
    "\n",
    "\n",
    "\n",
    "}\n",
    "\n",
    "\n",
    "#undef int\n",
    "int main()\n",
    "{\n",
    "\tios_base::sync_with_stdio(false);\n",
    "\tcin.tie(NULL);\n",
    "\tcout.tie(NULL);\n",
    "\n",
    "\n",
    "\n",
    "\t//init();\n",
    "\n",
    "\tint t = 1;\n",
    "\t//cin >> t;\n",
    "\n",
    "\tfor (int i = 1; i <= t; i++)\n",
    "\t{\n",
    "\t\tsolve(i);\n",
    "\n",
    "\t}\n",
    "}"
   ]
  }
 ],
 "metadata": {
  "kernelspec": {
   "display_name": "Python [conda env:my_env] *",
   "language": "python",
   "name": "conda-env-my_env-py"
  },
  "language_info": {
   "codemirror_mode": {
    "name": "ipython",
    "version": 3
   },
   "file_extension": ".py",
   "mimetype": "text/x-python",
   "name": "python",
   "nbconvert_exporter": "python",
   "pygments_lexer": "ipython3",
   "version": "3.9.12"
  }
 },
 "nbformat": 4,
 "nbformat_minor": 5
}
