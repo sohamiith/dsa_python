{
 "cells": [
  {
   "cell_type": "markdown",
   "id": "026d2fde",
   "metadata": {},
   "source": [
    "### 1. Beautiful Arrangement"
   ]
  },
  {
   "cell_type": "raw",
   "id": "7e58dd6d",
   "metadata": {},
   "source": [
    "Suppose you have n integers labeled 1 through n. A permutation of those n integers perm (1-indexed) is considered a beautiful arrangement if for every i (1 <= i <= n), either of the following is true:\n",
    "\n",
    "perm[i] is divisible by i.\n",
    "i is divisible by perm[i].\n",
    "Given an integer n, return the number of the beautiful arrangements that you can construct.\n",
    "\n",
    " \n",
    "\n",
    "Example 1:\n",
    "\n",
    "Input: n = 2\n",
    "Output: 2\n",
    "Explanation: \n",
    "The first beautiful arrangement is [1,2]:\n",
    "    - perm[1] = 1 is divisible by i = 1\n",
    "    - perm[2] = 2 is divisible by i = 2\n",
    "The second beautiful arrangement is [2,1]:\n",
    "    - perm[1] = 2 is divisible by i = 1\n",
    "    - i = 2 is divisible by perm[2] = 1"
   ]
  },
  {
   "cell_type": "code",
   "execution_count": 4,
   "id": "35588dbe",
   "metadata": {},
   "outputs": [],
   "source": [
    "class Solution:\n",
    "    def count(self,i, nums):\n",
    "        if i == 1:\n",
    "            return 1\n",
    "        \n",
    "        ans = 0\n",
    "        for x in range(len(nums)):\n",
    "            if nums[x] % i == 0 or i % nums[x] == 0:\n",
    "                ans += self.count(i-1, nums[:x] + nums[x+1:])\n",
    "        return ans\n",
    "    \n",
    "    def countArrangement(self, N):\n",
    "        nums = [i for i in range(1,N+1)]\n",
    "        return self.count(N, nums)"
   ]
  },
  {
   "cell_type": "code",
   "execution_count": 5,
   "id": "2e42fb77",
   "metadata": {},
   "outputs": [
    {
     "data": {
      "text/plain": [
       "10"
      ]
     },
     "execution_count": 5,
     "metadata": {},
     "output_type": "execute_result"
    }
   ],
   "source": [
    "s = Solution()\n",
    "s.countArrangement(5)"
   ]
  },
  {
   "cell_type": "code",
   "execution_count": null,
   "id": "1a16d03f",
   "metadata": {},
   "outputs": [],
   "source": []
  }
 ],
 "metadata": {
  "kernelspec": {
   "display_name": "Python [conda env:my_env] *",
   "language": "python",
   "name": "conda-env-my_env-py"
  },
  "language_info": {
   "codemirror_mode": {
    "name": "ipython",
    "version": 3
   },
   "file_extension": ".py",
   "mimetype": "text/x-python",
   "name": "python",
   "nbconvert_exporter": "python",
   "pygments_lexer": "ipython3",
   "version": "3.9.12"
  }
 },
 "nbformat": 4,
 "nbformat_minor": 5
}
