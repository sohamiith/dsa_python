{
 "cells": [
  {
   "cell_type": "markdown",
   "id": "138c81f0",
   "metadata": {},
   "source": [
    "### 1. Sort List"
   ]
  },
  {
   "cell_type": "raw",
   "id": "78c3b0fe",
   "metadata": {},
   "source": [
    "Given the head of a linked list, return the list after sorting it in ascending order."
   ]
  },
  {
   "cell_type": "code",
   "execution_count": null,
   "id": "d690e621",
   "metadata": {},
   "outputs": [],
   "source": []
  },
  {
   "cell_type": "code",
   "execution_count": 1,
   "id": "4a610b7d",
   "metadata": {},
   "outputs": [],
   "source": [
    "class Solution:\n",
    "    def sortList(self, head):\n",
    "        if head == None:\n",
    "            return head\n",
    "        \n",
    "        temp = head\n",
    "        arr = []\n",
    "        while temp != None:\n",
    "            arr.append(temp.val)\n",
    "            temp = temp.next\n",
    "        \n",
    "        arr.sort()\n",
    "        temp = head\n",
    "        i = 0\n",
    "        while temp != None:\n",
    "            temp.val = arr[i]\n",
    "            i += 1\n",
    "            temp = temp.next\n",
    "        \n",
    "        return head"
   ]
  },
  {
   "cell_type": "code",
   "execution_count": null,
   "id": "23c8029c",
   "metadata": {},
   "outputs": [],
   "source": []
  },
  {
   "cell_type": "markdown",
   "id": "4776b000",
   "metadata": {},
   "source": [
    "### 2. Frog jump with k leaves"
   ]
  },
  {
   "cell_type": "raw",
   "id": "74e56fec",
   "metadata": {},
   "source": [
    "N frogs are one side, they want to reach to other side.\n",
    "total K leaves are there.\n",
    "Each frog have capacity to jump leaves\n",
    "Once all frogs reach to other side, which leaves will be there which is not visiated by any of the frog?\n",
    "\n",
    "N = 3\n",
    "leaves = 4\n",
    "frogs = [3,2,4]"
   ]
  },
  {
   "cell_type": "code",
   "execution_count": 2,
   "id": "b8a230f5",
   "metadata": {},
   "outputs": [],
   "source": [
    "def jump(n,leaves,frogs):\n",
    "    \n",
    "    visited = [0 for i in range(leaves+1)]\n",
    "    \n",
    "    for i in range(n):\n",
    "        jump = frogs[i]\n",
    "        for j in range(jump,leaves+1,jump):\n",
    "            visited[j] = 1\n",
    "    \n",
    "    ans = []\n",
    "    for i in range(1,len(visited)):\n",
    "        if visited[i] == 0:\n",
    "            ans.append(i)\n",
    "    return ans\n",
    "    "
   ]
  },
  {
   "cell_type": "code",
   "execution_count": 4,
   "id": "346969b9",
   "metadata": {},
   "outputs": [
    {
     "data": {
      "text/plain": [
       "[1, 5]"
      ]
     },
     "execution_count": 4,
     "metadata": {},
     "output_type": "execute_result"
    }
   ],
   "source": [
    "jump(3,5,[3,2,4])"
   ]
  },
  {
   "cell_type": "code",
   "execution_count": null,
   "id": "3e23bff1",
   "metadata": {},
   "outputs": [],
   "source": []
  },
  {
   "cell_type": "markdown",
   "id": "9421aa73",
   "metadata": {},
   "source": [
    "### 3.  Minimum Absolute Difference"
   ]
  },
  {
   "cell_type": "raw",
   "id": "5178942a",
   "metadata": {},
   "source": [
    "Given an array of distinct integers arr, find all pairs of elements with the minimum absolute difference of any two elements.\n",
    "\n",
    "Return a list of pairs in ascending order(with respect to pairs), each pair [a, b] follows\n",
    "\n",
    "a, b are from arr\n",
    "a < b\n",
    "b - a equals to the minimum absolute difference of any two elements in arr\n",
    " \n",
    "\n",
    "Example 1:\n",
    "\n",
    "Input: arr = [4,2,1,3]\n",
    "Output: [[1,2],[2,3],[3,4]]\n",
    "Explanation: The minimum absolute difference is 1. List all pairs with difference equal to 1 in ascending order.\n",
    "Example 2:\n",
    "\n",
    "Input: arr = [1,3,6,10,15]\n",
    "Output: [[1,3]]\n",
    "Example 3:\n",
    "\n",
    "Input: arr = [3,8,-10,23,19,-4,-14,27]\n",
    "Output: [[-14,-10],[19,23],[23,27]]"
   ]
  },
  {
   "cell_type": "code",
   "execution_count": 5,
   "id": "5a34ed50",
   "metadata": {},
   "outputs": [],
   "source": [
    "def minimumAbsDifference(arr):\n",
    "    arr.sort()\n",
    "\n",
    "    min_diff = float('inf')\n",
    "    ans = []\n",
    "\n",
    "\n",
    "    for i in range(1,len(arr)):\n",
    "        diff = abs(arr[i]-arr[i-1])\n",
    "\n",
    "        if diff < min_diff:\n",
    "            min_diff = diff\n",
    "            ans = []\n",
    "\n",
    "        if diff == min_diff:\n",
    "            if arr[i] < arr[i-1]:\n",
    "                temp = [arr[i],arr[i-1]]\n",
    "            else:\n",
    "                temp = [arr[i-1],arr[i]]\n",
    "\n",
    "            ans.append(list(temp))\n",
    "\n",
    "    return ans"
   ]
  },
  {
   "cell_type": "code",
   "execution_count": 6,
   "id": "a65b8242",
   "metadata": {},
   "outputs": [
    {
     "data": {
      "text/plain": [
       "[[-14, -10], [19, 23], [23, 27]]"
      ]
     },
     "execution_count": 6,
     "metadata": {},
     "output_type": "execute_result"
    }
   ],
   "source": [
    "minimumAbsDifference([3,8,-10,23,19,-4,-14,27])"
   ]
  },
  {
   "cell_type": "code",
   "execution_count": null,
   "id": "76106a3e",
   "metadata": {},
   "outputs": [],
   "source": []
  },
  {
   "cell_type": "markdown",
   "id": "cdb28b54",
   "metadata": {},
   "source": [
    "### 4. Pairs of Songs With Total Durations Divisible by 60"
   ]
  },
  {
   "cell_type": "raw",
   "id": "063d100c",
   "metadata": {},
   "source": [
    "You are given a list of songs where the ith song has a duration of time[i] seconds.\n",
    "\n",
    "Return the number of pairs of songs for which their total duration in seconds is divisible by 60. Formally, we want the number of indices i, j such that i < j with (time[i] + time[j]) % 60 == 0.\n",
    "\n",
    "\n",
    "Example 1:\n",
    "\n",
    "Input: time = [30,20,150,100,40]\n",
    "Output: 3\n",
    "Explanation: Three pairs have a total duration divisible by 60:\n",
    "(time[0] = 30, time[2] = 150): total duration 180\n",
    "(time[1] = 20, time[3] = 100): total duration 120\n",
    "(time[1] = 20, time[4] = 40): total duration 60"
   ]
  },
  {
   "cell_type": "code",
   "execution_count": 7,
   "id": "da7bea61",
   "metadata": {},
   "outputs": [],
   "source": [
    "\n",
    "def numPairsDivisibleBy60(time):\n",
    "    ans = 0\n",
    "    hash_map = {}\n",
    "\n",
    "    for i in time:\n",
    "        if i%60 == 0 and 60 in hash_map:\n",
    "            ans += hash_map[60]\n",
    "        else:\n",
    "            if i%60 in hash_map:\n",
    "                ans += hash_map[i%60]\n",
    "\n",
    "        if 60-(i%60) in hash_map:\n",
    "            hash_map[60-(i%60)] += 1\n",
    "        else:\n",
    "            hash_map[60-(i%60)] = 1\n",
    "\n",
    "    return ans"
   ]
  },
  {
   "cell_type": "code",
   "execution_count": 8,
   "id": "f56a8e4b",
   "metadata": {},
   "outputs": [
    {
     "data": {
      "text/plain": [
       "3"
      ]
     },
     "execution_count": 8,
     "metadata": {},
     "output_type": "execute_result"
    }
   ],
   "source": [
    "numPairsDivisibleBy60([30,20,150,100,40])"
   ]
  },
  {
   "cell_type": "code",
   "execution_count": null,
   "id": "c0a862d1",
   "metadata": {},
   "outputs": [],
   "source": []
  },
  {
   "cell_type": "markdown",
   "id": "59eaa525",
   "metadata": {},
   "source": [
    "### 5. Sort 0,1,2"
   ]
  },
  {
   "cell_type": "code",
   "execution_count": 9,
   "id": "e9e57d67",
   "metadata": {},
   "outputs": [],
   "source": [
    "def sort012(arr,n):\n",
    "    zero = arr.count(0)\n",
    "    one = arr.count(1)\n",
    "    two = arr.count(2)\n",
    "    \n",
    "    for i in range(n):\n",
    "        if i<zero:\n",
    "            arr[i] = 0\n",
    "        elif i >= zero and i < zero+one:\n",
    "            arr[i] = 1\n",
    "        else:\n",
    "            arr[i] = 2\n",
    "    return arr\n",
    "\n",
    "# time comp = O(N)\n",
    "# Space Comp = O(1)"
   ]
  },
  {
   "cell_type": "code",
   "execution_count": 10,
   "id": "c3b03522",
   "metadata": {},
   "outputs": [
    {
     "data": {
      "text/plain": [
       "[0, 0, 1, 2, 2]"
      ]
     },
     "execution_count": 10,
     "metadata": {},
     "output_type": "execute_result"
    }
   ],
   "source": [
    "arr = [0,2,1,2,0]\n",
    "sort012(arr,5)"
   ]
  },
  {
   "cell_type": "code",
   "execution_count": null,
   "id": "e4807644",
   "metadata": {},
   "outputs": [],
   "source": []
  },
  {
   "cell_type": "markdown",
   "id": "1c9875e5",
   "metadata": {},
   "source": [
    "### 5. Search in Rotated Sorted Array"
   ]
  },
  {
   "cell_type": "raw",
   "id": "c0cc55bf",
   "metadata": {},
   "source": [
    "search index of target element in sorted rotated array"
   ]
  },
  {
   "cell_type": "code",
   "execution_count": 13,
   "id": "da65796a",
   "metadata": {},
   "outputs": [],
   "source": [
    "def search( nums, target):\n",
    "    i = 0\n",
    "    j = len(nums)-1\n",
    "\n",
    "    while i <= j:\n",
    "\n",
    "        middle = (i+j)//2\n",
    "        if nums[middle] == target:\n",
    "            return middle\n",
    "\n",
    "        if nums[i] > nums[middle]:\n",
    "\n",
    "            if nums[middle] <= target and target <= nums[j]:\n",
    "                i = middle+1\n",
    "            else:\n",
    "                j = middle-1\n",
    "\n",
    "        else:\n",
    "\n",
    "            if nums[i] <= target and target <= nums[middle]:\n",
    "                j = middle-1\n",
    "            else:\n",
    "                i = middle+1\n",
    "\n",
    "\n",
    "\n",
    "    return -1"
   ]
  },
  {
   "cell_type": "code",
   "execution_count": 15,
   "id": "65b67adc",
   "metadata": {},
   "outputs": [
    {
     "data": {
      "text/plain": [
       "4"
      ]
     },
     "execution_count": 15,
     "metadata": {},
     "output_type": "execute_result"
    }
   ],
   "source": [
    "search([4,5,6,7,0,1,2],0)"
   ]
  },
  {
   "cell_type": "code",
   "execution_count": 17,
   "id": "fc6a37f4",
   "metadata": {},
   "outputs": [
    {
     "data": {
      "text/plain": [
       "0"
      ]
     },
     "execution_count": 17,
     "metadata": {},
     "output_type": "execute_result"
    }
   ],
   "source": [
    "# find min:\n",
    "\n",
    "def minNumber(arr,low,high):\n",
    "       \n",
    "        while low < high:\n",
    "            m = low+(high-low)//2\n",
    "            if arr[m] > arr[high]:\n",
    "                low = m+1\n",
    "            else:\n",
    "                high = m\n",
    "        return arr[low]\n",
    "    \n",
    "minNumber([4,5,6,7,0,1,2],0,6)"
   ]
  },
  {
   "cell_type": "code",
   "execution_count": null,
   "id": "e5dabb86",
   "metadata": {},
   "outputs": [],
   "source": []
  },
  {
   "cell_type": "markdown",
   "id": "f3756512",
   "metadata": {},
   "source": [
    "### 6. Two sum"
   ]
  },
  {
   "cell_type": "raw",
   "id": "04a9cbc5",
   "metadata": {},
   "source": [
    "Given an array of integers nums and an integer target, return indices of the two numbers such that they add up to target.\n",
    "\n",
    "Input: nums = [2,7,11,15], target = 9\n",
    "Output: [0,1]\n",
    "Explanation: Because nums[0] + nums[1] == 9, we return [0, 1]."
   ]
  },
  {
   "cell_type": "code",
   "execution_count": 21,
   "id": "ebf895eb",
   "metadata": {},
   "outputs": [],
   "source": [
    "# Chnage code\n",
    "\n",
    "class Solution:\n",
    "    def twoSum(self, nums, target):\n",
    "        dict={}\n",
    "        for index, ele in enumerate(nums):\n",
    "            if target- ele in dict:\n",
    "                return dict[target- ele], index\n",
    "            dict[ele]= index"
   ]
  },
  {
   "cell_type": "code",
   "execution_count": null,
   "id": "7775aeb8",
   "metadata": {},
   "outputs": [],
   "source": []
  },
  {
   "cell_type": "code",
   "execution_count": null,
   "id": "d917742e",
   "metadata": {},
   "outputs": [],
   "source": []
  },
  {
   "cell_type": "code",
   "execution_count": null,
   "id": "47d4578c",
   "metadata": {},
   "outputs": [],
   "source": [
    "#include <bits/stdc++.h>\n",
    "using namespace std;\n",
    "#define ll long long int\n",
    "#define mod 1000000007\n",
    "#define pb push_back\n",
    "#define ff first\n",
    "#define ss second\n",
    "typedef pair<int,int> pp;\n",
    "bool com(pp x,pp y){\n",
    "    if(x.ff==y.ff) return x.ss<y.ss;\n",
    "    return x.ff<y.ff;\n",
    "}\n",
    "ll power(ll x,ll y){\n",
    "    ll prod=1;\n",
    "    while(y){\n",
    "        if(y&1) prod=(prod*x)%mod;\n",
    "        x=(x*x)%mod;\n",
    "        y/=2;\n",
    "    }\n",
    "    return prod;\n",
    "}\n",
    "const int N=2e5+7;\n",
    "class Node{\n",
    "\tpublic:\n",
    "\tint value;\n",
    "\tNode *next;\n",
    "\tNode *prev;\n",
    "\tNode(int x){\n",
    "\t\tvalue=x;\n",
    "\t\tnext=nullptr;\n",
    "\t\tprev=nullptr;\n",
    "\t}\n",
    "};\n",
    "void solve(){\n",
    "\tint n,q;\n",
    "\tcin>>n>>q;\n",
    "\tNode *head=new Node(0);\n",
    "\tNode *start=head,*temp=nullptr;\n",
    "\tfor(int i=0;i<n;i++){\n",
    "\t\tint x;\n",
    "\t\tcin>>x;\n",
    "\t\thead->next=new Node(x);\n",
    "\t\thead->prev=temp;\n",
    "\t\ttemp=head;\n",
    "\t\thead=head->next;\n",
    "\t}\n",
    "\thead=start->next;\n",
    "\twhile(q--){\n",
    "\t\tint t,l,r;\n",
    "\t\tcin>>t>>l;\n",
    "\t\tif(t==1){\n",
    "\t\t\twhile(l--) head=head->prev;\n",
    "\t\t}\n",
    "\t\telse if(t==2){\n",
    "\t\t\twhile(l--) head=head->next;\n",
    "\t\t}\n",
    "\t\telse{\n",
    "\t\t\tint r;\n",
    "\t\t\tcin>>r;\n",
    "\t\t\ttemp=head->next;\n",
    "\t\t\tNode *d1=new Node(r);\n",
    "\t\t\ttemp->value=l;\n",
    "\t\t\td1->prev=temp;\n",
    "\t\t\td1->next=temp->next;\n",
    "\t\t\tif(temp->next){\n",
    "\t\t\t\ttemp->next->prev=d1;\n",
    "\t\t\t}\n",
    "\t\t\ttemp->next=d1;\n",
    "\t\t}\n",
    "\t}\n",
    "\thead=start->next;\n",
    "\twhile(head){\n",
    "\t\tcout<<head->value<<\" \";\n",
    "\t\thead=head->next;\n",
    "\t}\n",
    "}\n",
    "int main(){\n",
    "    ios_base::sync_with_stdio(false);\n",
    "\tcin.tie(0);\n",
    "\tcout.tie(0); \n",
    "\tint t=1;\n",
    "\t//cin>>t;\n",
    "\twhile(t--) \n",
    "\t    solve();\n",
    "\treturn 0; \n",
    "}"
   ]
  },
  {
   "cell_type": "code",
   "execution_count": null,
   "id": "83cf76e6",
   "metadata": {},
   "outputs": [],
   "source": []
  },
  {
   "cell_type": "code",
   "execution_count": null,
   "id": "abc9e44e",
   "metadata": {},
   "outputs": [],
   "source": []
  }
 ],
 "metadata": {
  "kernelspec": {
   "display_name": "Python [conda env:my_env] *",
   "language": "python",
   "name": "conda-env-my_env-py"
  },
  "language_info": {
   "codemirror_mode": {
    "name": "ipython",
    "version": 3
   },
   "file_extension": ".py",
   "mimetype": "text/x-python",
   "name": "python",
   "nbconvert_exporter": "python",
   "pygments_lexer": "ipython3",
   "version": "3.9.12"
  }
 },
 "nbformat": 4,
 "nbformat_minor": 5
}
