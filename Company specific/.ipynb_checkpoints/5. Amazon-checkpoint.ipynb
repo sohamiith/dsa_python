{
 "cells": [
  {
   "cell_type": "markdown",
   "id": "de452c01",
   "metadata": {},
   "source": [
    "### 1. Location move"
   ]
  },
  {
   "cell_type": "code",
   "execution_count": 7,
   "id": "1050e66a",
   "metadata": {},
   "outputs": [],
   "source": [
    "def findDataLocations(locations,move_from,move_to):\n",
    "    hash_map = {}\n",
    "    \n",
    "    for i in locations:\n",
    "        if i in hash_map:\n",
    "            hash_map[i] += 1\n",
    "        else:\n",
    "            hash_map[i] = 1\n",
    "    \n",
    "    for i in range(len(move_from)):\n",
    "        f = move_from[i]\n",
    "        t = move_to[i]\n",
    "        \n",
    "        if hash_map[f] == 1:\n",
    "            del hash_map[f]\n",
    "        else:\n",
    "            hash_map[f] -= 1\n",
    "        \n",
    "        if t in hash_map:\n",
    "            hash_map[t] += 1\n",
    "        else:\n",
    "            hash_map[t] = 1\n",
    "        \n",
    "    ans = list(hash_map.keys())\n",
    "    ans.sort()\n",
    "    return ans"
   ]
  },
  {
   "cell_type": "code",
   "execution_count": 8,
   "id": "e932143c",
   "metadata": {},
   "outputs": [
    {
     "data": {
      "text/plain": [
       "[5, 6, 8, 9]"
      ]
     },
     "execution_count": 8,
     "metadata": {},
     "output_type": "execute_result"
    }
   ],
   "source": [
    "locations = [1,7,6,8]\n",
    "move_from = [1,7,2]\n",
    "move_to = [2,9,5]\n",
    "findDataLocations(locations,move_from,move_to)"
   ]
  },
  {
   "cell_type": "code",
   "execution_count": null,
   "id": "bbe87dbc",
   "metadata": {},
   "outputs": [],
   "source": []
  },
  {
   "cell_type": "markdown",
   "id": "80344e90",
   "metadata": {},
   "source": [
    "### 2. Amazon Dummy Website API"
   ]
  },
  {
   "cell_type": "code",
   "execution_count": 39,
   "id": "6b166a26",
   "metadata": {},
   "outputs": [],
   "source": [
    "def webAPI(arr):\n",
    "    n = len(arr)\n",
    "    user_data = {}\n",
    "    login = {}\n",
    "    ans = []\n",
    "    \n",
    "    for i in range(n):\n",
    "        line = arr[i]\n",
    "        data = line.split(' ')\n",
    "        api = data[0]\n",
    "        \n",
    "        if api == 'register':\n",
    "            user_name = data[1]\n",
    "            password = data[2]\n",
    "            \n",
    "            if user_name in user_data:\n",
    "                ans.append(\"Username already exists\")\n",
    "            else:\n",
    "                user_data[user_name] = password\n",
    "                ans.append(\"Registered Successfully\")\n",
    "        elif api == 'login':\n",
    "            user_name = data[1]\n",
    "            password = data[2]\n",
    "            \n",
    "            if user_name in user_data and user_data[user_name] == password and user_name not in login:\n",
    "                login[user_name] = 1\n",
    "                ans.append(\"Logged In Successfully\")\n",
    "            else:\n",
    "                ans.append(\"Login Unsuccessful\")\n",
    "        else:\n",
    "            user_name = data[1]\n",
    "            if user_name in user_data and user_name in login:\n",
    "                del login[user_name]\n",
    "                ans.append(\"Logged Out Successfully\")\n",
    "            else:\n",
    "                ans.append(\"Logout Unsuccessful\")\n",
    "    \n",
    "    return ans"
   ]
  },
  {
   "cell_type": "code",
   "execution_count": 10,
   "id": "ed7b1d9d",
   "metadata": {},
   "outputs": [
    {
     "name": "stdout",
     "output_type": "stream",
     "text": [
      "5\n",
      "register david david123\n",
      "register adam 1Adam1\n",
      "login david david123\n",
      "login adam 1adam1\n",
      "logout david\n"
     ]
    }
   ],
   "source": [
    "n = int(input())\n",
    "arr = []\n",
    "for i in range(n):\n",
    "    s = input()\n",
    "    arr.append(s)\n"
   ]
  },
  {
   "cell_type": "code",
   "execution_count": 15,
   "id": "1989a7f5",
   "metadata": {},
   "outputs": [
    {
     "data": {
      "text/plain": [
       "['Registered Succesfully',\n",
       " 'Registered Succesfully',\n",
       " 'Logged In Successfully',\n",
       " 'Login Unsuccessful',\n",
       " 'Logged Out Successfully']"
      ]
     },
     "execution_count": 15,
     "metadata": {},
     "output_type": "execute_result"
    }
   ],
   "source": [
    "webAPI(arr)"
   ]
  },
  {
   "cell_type": "code",
   "execution_count": 40,
   "id": "fd2b44db",
   "metadata": {},
   "outputs": [
    {
     "data": {
      "text/plain": [
       "['Registered Successfully',\n",
       " 'Registered Successfully',\n",
       " 'Logged In Successfully',\n",
       " 'Login Unsuccessful',\n",
       " 'Login Unsuccessful',\n",
       " 'Username already exists',\n",
       " 'Logged Out Successfully',\n",
       " 'Logout Unsuccessful']"
      ]
     },
     "execution_count": 40,
     "metadata": {},
     "output_type": "execute_result"
    }
   ],
   "source": [
    "arr = [\n",
    "    \"register kapil 123\",\n",
    "    \"register adam 1adam3\",\n",
    "    \"login kapil 123\",\n",
    "    \"login adam 1Adam3\",\n",
    "    \"login kapil 123\",\n",
    "    \"register kapil 123\",\n",
    "    \"logout kapil\",\n",
    "    \"logout kapil\",\n",
    "]\n",
    "webAPI(arr)"
   ]
  },
  {
   "cell_type": "markdown",
   "id": "2794e712",
   "metadata": {},
   "source": [
    "### 3. Virtual Private server"
   ]
  },
  {
   "cell_type": "code",
   "execution_count": 26,
   "id": "c698a81f",
   "metadata": {},
   "outputs": [],
   "source": [
    "def minimizeMemory(processes,m):\n",
    "    i = 0\n",
    "    j = m-1\n",
    "    max_segment = 0\n",
    "    \n",
    "    for k in range(m):\n",
    "        max_segment += processes[k]\n",
    "    \n",
    "    max_segment_i = i\n",
    "    max_segment_j = j\n",
    "    \n",
    "    i += 1\n",
    "    j += 1\n",
    "    while j < len(processes):\n",
    "        temp = max_segment\n",
    "        temp -= processes[i-1]\n",
    "        temp += processes[j]\n",
    "        \n",
    "        if temp > max_segment:\n",
    "            max_segment = temp\n",
    "            max_segment_i = i\n",
    "            max_segment_j = j\n",
    "        \n",
    "        i += 1\n",
    "        j += 1\n",
    "    \n",
    "    ans = 0\n",
    "    for x in range(len(processes)):\n",
    "        if x < max_segment_i or x > max_segment_j:\n",
    "            ans += processes[x]\n",
    "    \n",
    "    return ans"
   ]
  },
  {
   "cell_type": "code",
   "execution_count": 27,
   "id": "a5419be6",
   "metadata": {},
   "outputs": [
    {
     "data": {
      "text/plain": [
       "22"
      ]
     },
     "execution_count": 27,
     "metadata": {},
     "output_type": "execute_result"
    }
   ],
   "source": [
    "processes = [10,4,8,13,20]\n",
    "m = 2\n",
    "minimizeMemory(processes,m)"
   ]
  },
  {
   "cell_type": "code",
   "execution_count": 28,
   "id": "760adb6c",
   "metadata": {},
   "outputs": [
    {
     "data": {
      "text/plain": [
       "9"
      ]
     },
     "execution_count": 28,
     "metadata": {},
     "output_type": "execute_result"
    }
   ],
   "source": [
    "processes = [10,4,8,1]\n",
    "m = 2\n",
    "minimizeMemory(processes,m)"
   ]
  },
  {
   "cell_type": "code",
   "execution_count": null,
   "id": "e578af44",
   "metadata": {},
   "outputs": [],
   "source": []
  },
  {
   "cell_type": "markdown",
   "id": "9a4a208d",
   "metadata": {},
   "source": [
    "### 4.  Packages Parcels"
   ]
  },
  {
   "cell_type": "code",
   "execution_count": 32,
   "id": "7be832b4",
   "metadata": {},
   "outputs": [],
   "source": [
    "def parcels(arr,k):\n",
    "    hash_map = {}\n",
    "    n = len(arr)\n",
    "    \n",
    "    for i in arr:\n",
    "        if i not in hash_map:\n",
    "            hash_map[i] = 1\n",
    "    \n",
    "    i = 1\n",
    "    ans = 0\n",
    "    while n < k:\n",
    "        if i in hash_map:\n",
    "            i += 1\n",
    "            continue\n",
    "        else:\n",
    "            ans += i\n",
    "            i += 1\n",
    "            n += 1\n",
    "    \n",
    "    return ans"
   ]
  },
  {
   "cell_type": "code",
   "execution_count": 33,
   "id": "73a17ba5",
   "metadata": {},
   "outputs": [
    {
     "data": {
      "text/plain": [
       "17"
      ]
     },
     "execution_count": 33,
     "metadata": {},
     "output_type": "execute_result"
    }
   ],
   "source": [
    "arr = [2,3,6,10,11]\n",
    "k = 9\n",
    "parcels(arr,k)"
   ]
  },
  {
   "cell_type": "code",
   "execution_count": null,
   "id": "c6e9d513",
   "metadata": {},
   "outputs": [],
   "source": []
  },
  {
   "cell_type": "markdown",
   "id": "5d9d6883",
   "metadata": {},
   "source": [
    "### 5. Amazon games"
   ]
  },
  {
   "cell_type": "code",
   "execution_count": 43,
   "id": "21c72b19",
   "metadata": {},
   "outputs": [],
   "source": [
    "def games(power,armor):\n",
    "    ans = sum(power) + 1 - min(armor,max(power))\n",
    "    return ans"
   ]
  },
  {
   "cell_type": "code",
   "execution_count": 44,
   "id": "ca7470cf",
   "metadata": {},
   "outputs": [
    {
     "data": {
      "text/plain": [
       "12"
      ]
     },
     "execution_count": 44,
     "metadata": {},
     "output_type": "execute_result"
    }
   ],
   "source": [
    "games([1,2,6,7],5)"
   ]
  },
  {
   "cell_type": "code",
   "execution_count": null,
   "id": "8c6f2b67",
   "metadata": {},
   "outputs": [],
   "source": []
  },
  {
   "cell_type": "markdown",
   "id": "c21ee949",
   "metadata": {},
   "source": [
    "### 6. validating string with regex"
   ]
  },
  {
   "cell_type": "code",
   "execution_count": 45,
   "id": "0ba39f8e",
   "metadata": {},
   "outputs": [
    {
     "name": "stdout",
     "output_type": "stream",
     "text": [
      "ok\n",
      "not ok\n"
     ]
    }
   ],
   "source": [
    "import re\n",
    "string = 'aba'\n",
    "string2 = 'abb'\n",
    "pattern = re.compile(r'^(.).*\\1$')\n",
    "\n",
    "if re.match(pattern, string):\n",
    "    print('valid')\n",
    "else:\n",
    "    print('not valid')\n",
    "\n",
    "    if re.match(pattern, string2):\n",
    "     print('valid')\n",
    "else:\n",
    "    print('not valid')"
   ]
  },
  {
   "cell_type": "code",
   "execution_count": null,
   "id": "d90730d9",
   "metadata": {},
   "outputs": [],
   "source": []
  },
  {
   "cell_type": "markdown",
   "id": "3d1a074c",
   "metadata": {},
   "source": [
    "### 7. Temperature change"
   ]
  },
  {
   "cell_type": "code",
   "execution_count": 51,
   "id": "71d4e3ab",
   "metadata": {},
   "outputs": [],
   "source": [
    "def tempChange(change):\n",
    "    total = sum(change)\n",
    "    ans = 0\n",
    "    curr = 0\n",
    "    \n",
    "    for i in range(len(change)):\n",
    "        curr += change[i]\n",
    "        temp = max(curr, change[i] + total-curr)\n",
    "        ans = max(ans,temp)\n",
    "    \n",
    "    return ans"
   ]
  },
  {
   "cell_type": "code",
   "execution_count": 52,
   "id": "c9e60cff",
   "metadata": {},
   "outputs": [
    {
     "name": "stdout",
     "output_type": "stream",
     "text": [
      "9\n",
      "5\n"
     ]
    }
   ],
   "source": [
    "print(tempChange([6,-2,5]))\n",
    "print(tempChange([-1,2,3]))"
   ]
  },
  {
   "cell_type": "code",
   "execution_count": null,
   "id": "55c7dc6b",
   "metadata": {},
   "outputs": [],
   "source": []
  },
  {
   "cell_type": "markdown",
   "id": "5f78079b",
   "metadata": {},
   "source": [
    "### 8. Divide movies in group"
   ]
  },
  {
   "cell_type": "code",
   "execution_count": 59,
   "id": "2a2e8d32",
   "metadata": {},
   "outputs": [],
   "source": [
    "def divide(awards,k):\n",
    "    awards.sort()\n",
    "    \n",
    "    group = 1\n",
    "    i = 0\n",
    "    j = 1\n",
    "    while j < len(awards):\n",
    "        if (awards[j] - awards[i]) <= k:\n",
    "            j += 1\n",
    "        else:\n",
    "            #print(awards[j])\n",
    "            group += 1\n",
    "            i = j\n",
    "            j += 1\n",
    "    \n",
    "    return group"
   ]
  },
  {
   "cell_type": "code",
   "execution_count": 60,
   "id": "4f9664d1",
   "metadata": {},
   "outputs": [
    {
     "data": {
      "text/plain": [
       "3"
      ]
     },
     "execution_count": 60,
     "metadata": {},
     "output_type": "execute_result"
    }
   ],
   "source": [
    "awards = [1,13,6,8,9,3,5]\n",
    "k = 4\n",
    "divide(awards,k)"
   ]
  },
  {
   "cell_type": "code",
   "execution_count": null,
   "id": "3b716001",
   "metadata": {},
   "outputs": [],
   "source": []
  },
  {
   "cell_type": "markdown",
   "id": "e6fbab38",
   "metadata": {},
   "source": [
    "### 9. Encryption"
   ]
  },
  {
   "cell_type": "code",
   "execution_count": 77,
   "id": "cdb3775a",
   "metadata": {},
   "outputs": [],
   "source": [
    "def enc(arr):\n",
    "    while len(arr) > 2:\n",
    "        m = len(arr)-1\n",
    "        \n",
    "        for i in range(0,m,1):\n",
    "            arr[i] = (arr[i] + arr[i+1]) % 10\n",
    "        \n",
    "        del arr[-1]\n",
    "    \n",
    "    ans = ''.join([str(i) for i in arr])\n",
    "    return ans"
   ]
  },
  {
   "cell_type": "code",
   "execution_count": 78,
   "id": "9b509229",
   "metadata": {},
   "outputs": [
    {
     "data": {
      "text/plain": [
       "'82'"
      ]
     },
     "execution_count": 78,
     "metadata": {},
     "output_type": "execute_result"
    }
   ],
   "source": [
    "enc([1,2,3,4])"
   ]
  },
  {
   "cell_type": "code",
   "execution_count": null,
   "id": "95a93c44",
   "metadata": {},
   "outputs": [],
   "source": []
  }
 ],
 "metadata": {
  "kernelspec": {
   "display_name": "Python [conda env:my_env] *",
   "language": "python",
   "name": "conda-env-my_env-py"
  },
  "language_info": {
   "codemirror_mode": {
    "name": "ipython",
    "version": 3
   },
   "file_extension": ".py",
   "mimetype": "text/x-python",
   "name": "python",
   "nbconvert_exporter": "python",
   "pygments_lexer": "ipython3",
   "version": "3.9.12"
  }
 },
 "nbformat": 4,
 "nbformat_minor": 5
}
