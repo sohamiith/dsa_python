{
 "cells": [
  {
   "cell_type": "markdown",
   "id": "528aba79",
   "metadata": {},
   "source": [
    "### BFS:"
   ]
  },
  {
   "cell_type": "code",
   "execution_count": 41,
   "id": "bb99a539",
   "metadata": {},
   "outputs": [],
   "source": [
    "from collections import deque\n",
    "class Solution:\n",
    "    \n",
    "    def bfs(self,V,adj,i,visited):\n",
    "        q = deque()\n",
    "        q.append(i)\n",
    "        visited[i] = 1\n",
    "        \n",
    "        ans = []\n",
    "        while len(q):\n",
    "            node = q.popleft()\n",
    "            ans.append(node)\n",
    "            \n",
    "            edges = adj[node]\n",
    "            for j in edges:\n",
    "                if visited[j] == 0:\n",
    "                    q.append(j)\n",
    "                    visited[j] = 1\n",
    "        \n",
    "        return ans\n",
    "            \n",
    "    \n",
    "    def bfsOfGraph(self, V, adj):\n",
    "        visited = [0] * V\n",
    "        ans = []\n",
    "        for i in range(V):\n",
    "            # Call BFS for all components of graph\n",
    "            if visited[i] == 0:\n",
    "                ans += self.bfs(V,adj,i,visited)\n",
    "        \n",
    "        return ans"
   ]
  },
  {
   "cell_type": "code",
   "execution_count": 42,
   "id": "10636584",
   "metadata": {},
   "outputs": [
    {
     "data": {
      "text/plain": [
       "[0, 2, 3, 1, 4]"
      ]
     },
     "execution_count": 42,
     "metadata": {},
     "output_type": "execute_result"
    }
   ],
   "source": [
    "adj = [[2, 3, 1], [0], [0, 4], [0], [2], []]\n",
    "V = 5\n",
    "s = Solution()\n",
    "s.bfsOfGraph(V,adj)"
   ]
  },
  {
   "cell_type": "markdown",
   "id": "a4618ef6",
   "metadata": {},
   "source": [
    "###  DFS:"
   ]
  },
  {
   "cell_type": "code",
   "execution_count": 44,
   "id": "ea6595e6",
   "metadata": {},
   "outputs": [],
   "source": [
    "class Solution:\n",
    "    def dfs(self,V,adj,i,visited):\n",
    "        visited[i] = 1\n",
    "        ans = [i]\n",
    "        \n",
    "        edges = adj[i]\n",
    "        for j in edges:\n",
    "            # If node is not visited then only call DFS for that.\n",
    "            if visited[j] == 0:\n",
    "                ans += self.dfs(V,adj,j,visited)\n",
    "        \n",
    "        return ans\n",
    "    \n",
    "    def dfsOfGraph(self, V, adj):\n",
    "        visited = [0] * V\n",
    "        ans = []\n",
    "        \n",
    "        # Call DFS for all components\n",
    "        for i in range(V):\n",
    "            if visited[i] == 0:\n",
    "                ans += self.dfs(V,adj,i,visited)\n",
    "        \n",
    "        return ans"
   ]
  },
  {
   "cell_type": "code",
   "execution_count": 45,
   "id": "f26411b9",
   "metadata": {},
   "outputs": [
    {
     "data": {
      "text/plain": [
       "[0, 2, 4, 3, 1]"
      ]
     },
     "execution_count": 45,
     "metadata": {},
     "output_type": "execute_result"
    }
   ],
   "source": [
    "adj = [[2, 3, 1], [0], [0, 4], [0], [2], []]\n",
    "V = 5\n",
    "s = Solution()\n",
    "s.dfsOfGraph(V,adj)\n",
    "\n",
    "\"\"\"\n",
    "Input: \n",
    "5 4\n",
    "0 2\n",
    "0 3\n",
    "0 1\n",
    "2 4\n",
    "\"\"\""
   ]
  },
  {
   "cell_type": "code",
   "execution_count": null,
   "id": "61743788",
   "metadata": {},
   "outputs": [],
   "source": []
  },
  {
   "cell_type": "markdown",
   "id": "0d9c7de9",
   "metadata": {},
   "source": [
    "### 1. Buy sell stock at most k times"
   ]
  },
  {
   "cell_type": "code",
   "execution_count": 2,
   "id": "2b3f9722",
   "metadata": {},
   "outputs": [],
   "source": [
    "class Solution:\n",
    "    def maxProfit(self, k, arr):\n",
    "        dp = [[[0 for i in range(k+1)] for j in range(2)] for m in range(len(arr)+1)]\n",
    "        \n",
    "        n = len(arr)\n",
    "        cap = k\n",
    "        for i in range(n-1,-1,-1):\n",
    "            for buy in range(2):\n",
    "                for cap in range(1,k+1):\n",
    "                    if buy == 1:\n",
    "                        x = dp[i+1][0][cap] - arr[i]\n",
    "                        y = dp[i+1][1][cap] + 0\n",
    "                    else:\n",
    "                        x = dp[i+1][1][cap-1] + arr[i]\n",
    "                        y = dp[i+1][0][cap] + 0\n",
    "                    dp[i][buy][cap] = max(x,y)\n",
    "        \n",
    "        return dp[0][1][k]"
   ]
  },
  {
   "cell_type": "code",
   "execution_count": null,
   "id": "4706a165",
   "metadata": {},
   "outputs": [],
   "source": []
  },
  {
   "cell_type": "code",
   "execution_count": 5,
   "id": "eb602813",
   "metadata": {},
   "outputs": [
    {
     "data": {
      "text/plain": [
       "'c'"
      ]
     },
     "execution_count": 5,
     "metadata": {},
     "output_type": "execute_result"
    }
   ],
   "source": [
    "chr(ord('a')+2)"
   ]
  },
  {
   "cell_type": "code",
   "execution_count": null,
   "id": "3e6bd66c",
   "metadata": {},
   "outputs": [],
   "source": []
  },
  {
   "cell_type": "markdown",
   "id": "6bdebc6d",
   "metadata": {},
   "source": [
    "### 2. Encode it:"
   ]
  },
  {
   "cell_type": "code",
   "execution_count": 6,
   "id": "4fb676e7",
   "metadata": {},
   "outputs": [],
   "source": [
    "def cipherText(s):\n",
    "    i = 0\n",
    "    hash_map = {}\n",
    "    \n",
    "    for l in s:\n",
    "        if l not in hash_map:\n",
    "            hash_map[l] = chr(ord('a')+i)\n",
    "            i += 1\n",
    "    \n",
    "    ans = \"\"\n",
    "    for i in s:\n",
    "        ans += hash_map[i]\n",
    "    \n",
    "    return ans"
   ]
  },
  {
   "cell_type": "code",
   "execution_count": 7,
   "id": "581226fb",
   "metadata": {},
   "outputs": [
    {
     "data": {
      "text/plain": [
       "'abccd'"
      ]
     },
     "execution_count": 7,
     "metadata": {},
     "output_type": "execute_result"
    }
   ],
   "source": [
    "cipherText('HELLO')"
   ]
  },
  {
   "cell_type": "code",
   "execution_count": null,
   "id": "51c67249",
   "metadata": {},
   "outputs": [],
   "source": []
  },
  {
   "cell_type": "markdown",
   "id": "8d425ee1",
   "metadata": {},
   "source": [
    "### 3. Another Cruel boss"
   ]
  },
  {
   "cell_type": "code",
   "execution_count": 22,
   "id": "3cde66cf",
   "metadata": {},
   "outputs": [],
   "source": [
    "def solve(n):\n",
    "    table = [0 for i in range(n+1)]\n",
    "    \n",
    "    table[0] = 0\n",
    "    table[1] = 1\n",
    "    table[2] = 1\n",
    "    table[3] = 2\n",
    "    \n",
    "    for i in range(4,n+1):\n",
    "        table[i] = table[i-3] + table[i-1]\n",
    "    \n",
    "    return table[n]"
   ]
  },
  {
   "cell_type": "code",
   "execution_count": 23,
   "id": "a2273c0d",
   "metadata": {},
   "outputs": [
    {
     "name": "stdout",
     "output_type": "stream",
     "text": [
      "3\n",
      "6\n"
     ]
    }
   ],
   "source": [
    "print(solve(4))\n",
    "print(solve(6))"
   ]
  },
  {
   "cell_type": "code",
   "execution_count": null,
   "id": "caa09460",
   "metadata": {},
   "outputs": [],
   "source": []
  },
  {
   "cell_type": "markdown",
   "id": "cf98f4dd",
   "metadata": {},
   "source": [
    "### 4. Minimum Deletions to Make Character Frequencies Unique"
   ]
  },
  {
   "cell_type": "code",
   "execution_count": null,
   "id": "c7e0270a",
   "metadata": {},
   "outputs": [],
   "source": [
    "class Solution:\n",
    "    def minDeletions(self, s: str) -> int:\n",
    "        hash_map = {}\n",
    "        for i in s:\n",
    "            if i in hash_map:\n",
    "                hash_map[i] += 1\n",
    "            else:\n",
    "                hash_map[i] = 1\n",
    "\n",
    "        ans = 0\n",
    "        check = set()\n",
    "        \n",
    "        for i in hash_map:\n",
    "            value = hash_map[i]\n",
    "            while value > 0 and value in check:\n",
    "                value -= 1\n",
    "                ans += 1\n",
    "            check.add(value)\n",
    "        return ans"
   ]
  },
  {
   "cell_type": "code",
   "execution_count": null,
   "id": "90139ab9",
   "metadata": {},
   "outputs": [],
   "source": []
  },
  {
   "cell_type": "markdown",
   "id": "ba01bd12",
   "metadata": {},
   "source": [
    "### 5. Possible bipartition"
   ]
  },
  {
   "cell_type": "code",
   "execution_count": 10,
   "id": "a497212c",
   "metadata": {},
   "outputs": [],
   "source": [
    "class Solution:\n",
    "    def possibleBipartition(self, n, dislikes):\n",
    "        hash_map = [[] for i in range(n)]\n",
    "        \n",
    "        for i, j in dislikes:\n",
    "            hash_map[i-1].append(j-1)\n",
    "            hash_map[j-1].append(i-1)\n",
    "\n",
    "        ans = [0 for i in range(n)]\n",
    "        \n",
    "        for i in range(n):\n",
    "            if ans[i] == 0:\n",
    "                ans[i] = 1\n",
    "                q = deque([i])\n",
    "                \n",
    "                while len(q) > 0:\n",
    "                    a = q.pop()\n",
    "                    for j in hash_map[a]:\n",
    "                        if ans[j] == 0:\n",
    "                            if ans[a] == 2:\n",
    "                                ans[j] = 1\n",
    "                            else:\n",
    "                                ans[j] = 2\n",
    "                            \n",
    "                            q.appendleft(j)\n",
    "                        \n",
    "                        elif ans[a] == ans[j]:\n",
    "                            return False\n",
    "        return True"
   ]
  },
  {
   "cell_type": "code",
   "execution_count": null,
   "id": "e6abc8d8",
   "metadata": {},
   "outputs": [],
   "source": []
  },
  {
   "cell_type": "markdown",
   "id": "6077f406",
   "metadata": {},
   "source": [
    "### 6. Remove the frequency characters"
   ]
  },
  {
   "cell_type": "code",
   "execution_count": 14,
   "id": "a3fa1f06",
   "metadata": {},
   "outputs": [],
   "source": [
    "def removeFreq(s):\n",
    "    hash_map = {}\n",
    "    check = {}\n",
    "    n = len(s)\n",
    "    for i in s:\n",
    "        if i in hash_map:\n",
    "            hash_map[i] += 1\n",
    "        else:\n",
    "            hash_map[i] = 1\n",
    "    \n",
    "    ans = \"\"\n",
    "    for i in range(n):\n",
    "        if s[i] in check:\n",
    "            check[s[i]] += 1\n",
    "        else:\n",
    "            check[s[i]] = 1\n",
    "        \n",
    "        \n",
    "        if hash_map[s[i]] %2 == 1:\n",
    "            mid = (hash_map[s[i]]//2) + 1\n",
    "            if check[s[i]] == mid:\n",
    "                continue\n",
    "            else:\n",
    "                ans += s[i]\n",
    "        else:\n",
    "            mid1 = hash_map[s[i]] // 2\n",
    "            mid2 = (hash_map[s[i]] // 2) + 1\n",
    "            \n",
    "            if check[s[i]] == mid1 or check[s[i]] == mid2:\n",
    "                continue\n",
    "            else:\n",
    "                ans += s[i]\n",
    "    \n",
    "    return ans"
   ]
  },
  {
   "cell_type": "code",
   "execution_count": 15,
   "id": "72686996",
   "metadata": {},
   "outputs": [
    {
     "data": {
      "text/plain": [
       "'abcdeedcba'"
      ]
     },
     "execution_count": 15,
     "metadata": {},
     "output_type": "execute_result"
    }
   ],
   "source": [
    "removeFreq('abcdeabcdedcbaedcba')"
   ]
  },
  {
   "cell_type": "code",
   "execution_count": null,
   "id": "84866412",
   "metadata": {},
   "outputs": [],
   "source": []
  },
  {
   "cell_type": "markdown",
   "id": "94aff881",
   "metadata": {},
   "source": [
    "### 7. buying parts"
   ]
  },
  {
   "cell_type": "code",
   "execution_count": 24,
   "id": "8b03a8ea",
   "metadata": {},
   "outputs": [],
   "source": [
    "# Find k smallest pair distance"
   ]
  },
  {
   "cell_type": "code",
   "execution_count": 25,
   "id": "c3520913",
   "metadata": {},
   "outputs": [],
   "source": [
    "class Solution:\n",
    "\n",
    "    def check(self,mid,nums,n):\n",
    "        i, count = 0, 0\n",
    "        \n",
    "        for j in range(n):\n",
    "            while nums[j] - nums[i] > mid:\n",
    "                i = i + 1\n",
    "            \n",
    "            count = count + (j - i)\n",
    "\n",
    "        return count\n",
    "\n",
    "    def smallestDistancePair(self, nums, k):\n",
    "        \n",
    "        nums.sort()\n",
    "        left = 0\n",
    "        right = nums[-1] - nums[0]\n",
    "        n = len(nums)\n",
    "        \n",
    "        while left < right:\n",
    "            mid = (left + right)//2\n",
    "            \n",
    "            if self.check(mid,nums,n) >= k:\n",
    "                right = mid\n",
    "            else:\n",
    "                left = mid + 1\n",
    "\n",
    "        return left"
   ]
  },
  {
   "cell_type": "code",
   "execution_count": null,
   "id": "7b7b5fa1",
   "metadata": {},
   "outputs": [],
   "source": []
  },
  {
   "cell_type": "markdown",
   "id": "c9199730",
   "metadata": {},
   "source": [
    "### 8. Noah traveller"
   ]
  },
  {
   "cell_type": "code",
   "execution_count": 46,
   "id": "862bacb0",
   "metadata": {},
   "outputs": [],
   "source": [
    "def dfs(adj,curr,visited,path):\n",
    "    visited[curr] = 1\n",
    "    path.append(curr)\n",
    "    if curr not in adj:\n",
    "        return\n",
    "    for i in adj[curr]:\n",
    "        if visited[i] == 0:\n",
    "            dfs(adj,i,visited,path)\n",
    "    return\n",
    "\n",
    "def pathtravel(a,src):\n",
    "    \n",
    "    adj = {}\n",
    "    visited = {}\n",
    "    \n",
    "    for i in a:\n",
    "        if i[0] in adj:\n",
    "            adj[i[0]].append(i[1])\n",
    "        else:\n",
    "            adj[i[0]] = [i[1]]\n",
    "        \n",
    "        if i[0] not in visited:\n",
    "            visited[i[0]] = 0\n",
    "        if i[1] not in visited:\n",
    "            visited[i[1]] = 0\n",
    "    \n",
    "    path = []\n",
    "    dfs(adj,src,visited,path)\n",
    "    return path"
   ]
  },
  {
   "cell_type": "code",
   "execution_count": 47,
   "id": "cb284f53",
   "metadata": {},
   "outputs": [
    {
     "data": {
      "text/plain": [
       "['Bangalore', 'Hyderabad', 'Mumbai', 'Delhi', 'Chennai', 'Kerala']"
      ]
     },
     "execution_count": 47,
     "metadata": {},
     "output_type": "execute_result"
    }
   ],
   "source": [
    "adj = [['Bangalore', 'Hyderabad'],['Bangalore', 'Chennai'],['Hyderabad', 'Mumbai'],['Hyderabad', 'Delhi'],['Chennai', 'Kerala']]\n",
    "\n",
    "\n",
    "\n",
    "pathtravel(adj,'Bangalore')"
   ]
  },
  {
   "cell_type": "code",
   "execution_count": null,
   "id": "9391e486",
   "metadata": {},
   "outputs": [],
   "source": []
  },
  {
   "cell_type": "markdown",
   "id": "ce074507",
   "metadata": {},
   "source": [
    "### 9. War lane"
   ]
  },
  {
   "cell_type": "code",
   "execution_count": 3,
   "id": "27c78e23",
   "metadata": {},
   "outputs": [],
   "source": [
    "import math\n",
    "class Solution:\n",
    "    def solve(self, arr,L,N):\n",
    "        arr.sort()\n",
    "        diff = 0\n",
    "        for i in range(N):\n",
    "            if i == 0:\n",
    "                if arr[i] > diff:\n",
    "                    diff = arr[i]\n",
    "                \n",
    "                if i == N-1:\n",
    "                    if L-A[i] > diff:\n",
    "                        diff = L-arr[i]\n",
    "                else:\n",
    "                    if math.ceil((arr[i+1]-arr[i])/2) > diff:\n",
    "                        diff = math.ceil((arr[i+1]-arr[i])/2)\n",
    "            \n",
    "            elif i == N-1:\n",
    "                if L-arr[i] > diff:\n",
    "                    diff = L-arr[i]\n",
    "            else:\n",
    "                if math.ceil((arr[i+1]-arr[i])/2) > diff:\n",
    "                        diff = math.ceil((arr[i+1]-arr[i])/2)\n",
    "        \n",
    "        return diff"
   ]
  },
  {
   "cell_type": "code",
   "execution_count": 5,
   "id": "856ebe86",
   "metadata": {},
   "outputs": [
    {
     "name": "stdout",
     "output_type": "stream",
     "text": [
      "4 6\n",
      "1 4 4 6\n",
      "2\n"
     ]
    }
   ],
   "source": [
    "N,L = map(int,input().split(' '))\n",
    "nums = list(map(int, input().split()))\n",
    "ob = Solution()\n",
    "#N = 4\n",
    "#L = 6\n",
    "#nums = [1,4,4,6]\n",
    "print(ob.solve(nums,L,N))"
   ]
  },
  {
   "cell_type": "code",
   "execution_count": null,
   "id": "b8314cf6",
   "metadata": {},
   "outputs": [],
   "source": []
  },
  {
   "cell_type": "raw",
   "id": "962984f3",
   "metadata": {},
   "source": [
    "10. Divide and conquer\n",
    "11. Clean the village\n",
    "12. jack sparrow\n",
    "13. Friends\n",
    "14. valid Sudoku (https://leetcode.com/problems/valid-sudoku/)"
   ]
  },
  {
   "cell_type": "code",
   "execution_count": null,
   "id": "93c45321",
   "metadata": {},
   "outputs": [],
   "source": []
  },
  {
   "cell_type": "code",
   "execution_count": null,
   "id": "b71075a3",
   "metadata": {},
   "outputs": [],
   "source": []
  },
  {
   "cell_type": "code",
   "execution_count": null,
   "id": "46ca9f32",
   "metadata": {},
   "outputs": [],
   "source": []
  }
 ],
 "metadata": {
  "kernelspec": {
   "display_name": "Python [conda env:my_env] *",
   "language": "python",
   "name": "conda-env-my_env-py"
  },
  "language_info": {
   "codemirror_mode": {
    "name": "ipython",
    "version": 3
   },
   "file_extension": ".py",
   "mimetype": "text/x-python",
   "name": "python",
   "nbconvert_exporter": "python",
   "pygments_lexer": "ipython3",
   "version": "3.9.12"
  }
 },
 "nbformat": 4,
 "nbformat_minor": 5
}
