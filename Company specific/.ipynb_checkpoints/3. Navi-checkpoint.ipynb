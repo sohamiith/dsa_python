{
 "cells": [
  {
   "cell_type": "markdown",
   "id": "e5e55005",
   "metadata": {},
   "source": [
    "### 1. Buy sell stock at most k times"
   ]
  },
  {
   "cell_type": "code",
   "execution_count": 2,
   "id": "d56c199c",
   "metadata": {},
   "outputs": [],
   "source": [
    "class Solution:\n",
    "    def maxProfit(self, k, arr):\n",
    "        dp = [[[0 for i in range(k+1)] for j in range(2)] for m in range(len(arr)+1)]\n",
    "        \n",
    "        n = len(arr)\n",
    "        cap = k\n",
    "        for i in range(n-1,-1,-1):\n",
    "            for buy in range(2):\n",
    "                for cap in range(1,k+1):\n",
    "                    if buy == 1:\n",
    "                        x = dp[i+1][0][cap] - arr[i]\n",
    "                        y = dp[i+1][1][cap] + 0\n",
    "                    else:\n",
    "                        x = dp[i+1][1][cap-1] + arr[i]\n",
    "                        y = dp[i+1][0][cap] + 0\n",
    "                    dp[i][buy][cap] = max(x,y)\n",
    "        \n",
    "        return dp[0][1][k]"
   ]
  },
  {
   "cell_type": "code",
   "execution_count": null,
   "id": "4e69a888",
   "metadata": {},
   "outputs": [],
   "source": []
  },
  {
   "cell_type": "code",
   "execution_count": 5,
   "id": "0926c6a3",
   "metadata": {},
   "outputs": [
    {
     "data": {
      "text/plain": [
       "'c'"
      ]
     },
     "execution_count": 5,
     "metadata": {},
     "output_type": "execute_result"
    }
   ],
   "source": [
    "chr(ord('a')+2)"
   ]
  },
  {
   "cell_type": "code",
   "execution_count": null,
   "id": "19e9ef90",
   "metadata": {},
   "outputs": [],
   "source": []
  },
  {
   "cell_type": "markdown",
   "id": "dc954185",
   "metadata": {},
   "source": [
    "### 2. Encode it:"
   ]
  },
  {
   "cell_type": "code",
   "execution_count": 6,
   "id": "90a5419e",
   "metadata": {},
   "outputs": [],
   "source": [
    "def cipherText(s):\n",
    "    i = 0\n",
    "    hash_map = {}\n",
    "    \n",
    "    for l in s:\n",
    "        if l not in hash_map:\n",
    "            hash_map[l] = chr(ord('a')+i)\n",
    "            i += 1\n",
    "    \n",
    "    ans = \"\"\n",
    "    for i in s:\n",
    "        ans += hash_map[i]\n",
    "    \n",
    "    return ans"
   ]
  },
  {
   "cell_type": "code",
   "execution_count": 7,
   "id": "dcf2f80a",
   "metadata": {},
   "outputs": [
    {
     "data": {
      "text/plain": [
       "'abccd'"
      ]
     },
     "execution_count": 7,
     "metadata": {},
     "output_type": "execute_result"
    }
   ],
   "source": [
    "cipherText('HELLO')"
   ]
  },
  {
   "cell_type": "code",
   "execution_count": null,
   "id": "d974b26c",
   "metadata": {},
   "outputs": [],
   "source": []
  },
  {
   "cell_type": "markdown",
   "id": "8646d17b",
   "metadata": {},
   "source": [
    "### 3. Another Cruel boss"
   ]
  },
  {
   "cell_type": "code",
   "execution_count": null,
   "id": "8c972722",
   "metadata": {},
   "outputs": [],
   "source": []
  },
  {
   "cell_type": "code",
   "execution_count": null,
   "id": "64e59e36",
   "metadata": {},
   "outputs": [],
   "source": []
  },
  {
   "cell_type": "markdown",
   "id": "c2d5abd7",
   "metadata": {},
   "source": [
    "### 4. Minimum Deletions to Make Character Frequencies Unique"
   ]
  },
  {
   "cell_type": "code",
   "execution_count": null,
   "id": "6c3a7e04",
   "metadata": {},
   "outputs": [],
   "source": [
    "class Solution:\n",
    "    def minDeletions(self, s: str) -> int:\n",
    "        hash_map = {}\n",
    "        for i in s:\n",
    "            if i in hash_map:\n",
    "                hash_map[i] += 1\n",
    "            else:\n",
    "                hash_map[i] = 1\n",
    "\n",
    "        ans = 0\n",
    "        check = set()\n",
    "        \n",
    "        for i in hash_map:\n",
    "            value = hash_map[i]\n",
    "            while value > 0 and value in check:\n",
    "                value -= 1\n",
    "                ans += 1\n",
    "            check.add(value)\n",
    "        return ans"
   ]
  },
  {
   "cell_type": "code",
   "execution_count": null,
   "id": "17997dde",
   "metadata": {},
   "outputs": [],
   "source": []
  },
  {
   "cell_type": "markdown",
   "id": "89269b6a",
   "metadata": {},
   "source": [
    "### 5. Possible bipartition"
   ]
  },
  {
   "cell_type": "code",
   "execution_count": 10,
   "id": "e29adc0a",
   "metadata": {},
   "outputs": [],
   "source": [
    "class Solution:\n",
    "    def possibleBipartition(self, n, dislikes):\n",
    "        hash_map = [[] for i in range(n)]\n",
    "        \n",
    "        for i, j in dislikes:\n",
    "            hash_map[i-1].append(j-1)\n",
    "            hash_map[j-1].append(i-1)\n",
    "\n",
    "        ans = [0 for i in range(n)]\n",
    "        \n",
    "        for i in range(n):\n",
    "            if ans[i] == 0:\n",
    "                ans[i] = 1\n",
    "                q = deque([i])\n",
    "                \n",
    "                while len(q) > 0:\n",
    "                    a = q.pop()\n",
    "                    for j in hash_map[a]:\n",
    "                        if ans[j] == 0:\n",
    "                            if ans[a] == 2:\n",
    "                                ans[j] = 1\n",
    "                            else:\n",
    "                                ans[j] = 2\n",
    "                            \n",
    "                            q.appendleft(j)\n",
    "                        \n",
    "                        elif ans[a] == ans[j]:\n",
    "                            return False\n",
    "        return True"
   ]
  },
  {
   "cell_type": "code",
   "execution_count": null,
   "id": "07b20212",
   "metadata": {},
   "outputs": [],
   "source": []
  },
  {
   "cell_type": "markdown",
   "id": "951da169",
   "metadata": {},
   "source": [
    "### 6. Remove the frequency characters"
   ]
  },
  {
   "cell_type": "code",
   "execution_count": 14,
   "id": "bb09a0bd",
   "metadata": {},
   "outputs": [],
   "source": [
    "def removeFreq(s):\n",
    "    hash_map = {}\n",
    "    check = {}\n",
    "    n = len(s)\n",
    "    for i in s:\n",
    "        if i in hash_map:\n",
    "            hash_map[i] += 1\n",
    "        else:\n",
    "            hash_map[i] = 1\n",
    "    \n",
    "    ans = \"\"\n",
    "    for i in range(n):\n",
    "        if s[i] in check:\n",
    "            check[s[i]] += 1\n",
    "        else:\n",
    "            check[s[i]] = 1\n",
    "        \n",
    "        \n",
    "        if hash_map[s[i]] %2 == 1:\n",
    "            mid = (hash_map[s[i]]//2) + 1\n",
    "            if check[s[i]] == mid:\n",
    "                continue\n",
    "            else:\n",
    "                ans += s[i]\n",
    "        else:\n",
    "            mid1 = hash_map[s[i]] // 2\n",
    "            mid2 = (hash_map[s[i]] // 2) + 1\n",
    "            \n",
    "            if check[s[i]] == mid1 or check[s[i]] == mid2:\n",
    "                continue\n",
    "            else:\n",
    "                ans += s[i]\n",
    "    \n",
    "    return ans"
   ]
  },
  {
   "cell_type": "code",
   "execution_count": 15,
   "id": "b5e5f7db",
   "metadata": {},
   "outputs": [
    {
     "data": {
      "text/plain": [
       "'abcdeedcba'"
      ]
     },
     "execution_count": 15,
     "metadata": {},
     "output_type": "execute_result"
    }
   ],
   "source": [
    "removeFreq('abcdeabcdedcbaedcba')"
   ]
  },
  {
   "cell_type": "code",
   "execution_count": null,
   "id": "e397e9d7",
   "metadata": {},
   "outputs": [],
   "source": []
  }
 ],
 "metadata": {
  "kernelspec": {
   "display_name": "Python [conda env:my_env] *",
   "language": "python",
   "name": "conda-env-my_env-py"
  },
  "language_info": {
   "codemirror_mode": {
    "name": "ipython",
    "version": 3
   },
   "file_extension": ".py",
   "mimetype": "text/x-python",
   "name": "python",
   "nbconvert_exporter": "python",
   "pygments_lexer": "ipython3",
   "version": "3.9.12"
  }
 },
 "nbformat": 4,
 "nbformat_minor": 5
}
